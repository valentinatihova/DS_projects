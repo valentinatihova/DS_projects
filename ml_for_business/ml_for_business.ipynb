{
 "cells": [
  {
   "cell_type": "markdown",
   "metadata": {},
   "source": [
    "# Выбор локации для скважины"
   ]
  },
  {
   "cell_type": "markdown",
   "metadata": {},
   "source": [
    "Для добывающей компании «ГлавРосГосНефть» нужно решить, где бурить новую скважину.\n",
    "\n",
    "Шаги для выбора локации обычно такие:\n",
    "* В избранном регионе собирают характеристики для скважин: качество нефти и объём её запасов;\n",
    "* Строят модель для предсказания объёма запасов в новых скважинах;\n",
    "* Выбирают скважины с самыми высокими оценками значений;\n",
    "* Определяют регион с максимальной суммарной прибылью отобранных скважин.\n",
    "\n",
    "Предоставлены пробы нефти в трёх регионах. Характеристики для каждой скважины в регионе уже известны. Необходимо построить модель для определения региона, где добыча принесёт наибольшую прибыль. Проанализировать возможную прибыль и риски техникой Bootstrap.\n",
    "\n",
    "Принятые допущения:\n",
    "* Для обучения модели подходит только линейная регрессия (остальные — недостаточно предсказуемые).\n",
    "* При разведке региона исследуют 500 точек, из которых с помощью машинного обучения выбирают 200 лучших для разработки.\n",
    "* Бюджет на разработку скважин в регионе — 10 млрд рублей.\n",
    "* При нынешних ценах один баррель сырья приносит 450 рублей дохода. Доход с каждой единицы продукта составляет 450 тыс. рублей, поскольку объём указан в тысячах баррелей.\n",
    "* После оценки рисков нужно оставить лишь те регионы, в которых вероятность убытков меньше 2.5%. Среди них выбирают регион с наибольшей средней прибылью."
   ]
  },
  {
   "cell_type": "markdown",
   "metadata": {},
   "source": [
    "## Загрузка данных"
   ]
  },
  {
   "cell_type": "markdown",
   "metadata": {},
   "source": [
    "Перед началолом работы разрузим все необходимые библиотеки."
   ]
  },
  {
   "cell_type": "code",
   "execution_count": 1,
   "metadata": {},
   "outputs": [],
   "source": [
    "import pandas as pd\n",
    "from sklearn.tree import DecisionTreeClassifier\n",
    "from sklearn.ensemble import RandomForestClassifier\n",
    "from sklearn.linear_model import LogisticRegression\n",
    "from sklearn.model_selection import train_test_split\n",
    "from sklearn.metrics import mean_squared_error, confusion_matrix, plot_confusion_matrix, recall_score, mean_absolute_error\n",
    "from sklearn.metrics import roc_curve, roc_auc_score, r2_score, precision_score, f1_score, precision_recall_curve\n",
    "from sklearn.utils import shuffle\n",
    "\n",
    "import matplotlib.pyplot as plt\n",
    "from IPython.display import display\n",
    "import seaborn as sns\n",
    "import numpy as np\n",
    "from sklearn.metrics import accuracy_score\n",
    "import warnings\n",
    "import re\n",
    "from sklearn.preprocessing import OrdinalEncoder, StandardScaler\n",
    "\n",
    "warnings.simplefilter(action='ignore', category=FutureWarning)"
   ]
  },
  {
   "cell_type": "markdown",
   "metadata": {},
   "source": [
    "Данные геологоразведки трёх регионов находятся в файлах, загрузим их и выведем несколько строк для наглядности."
   ]
  },
  {
   "cell_type": "code",
   "execution_count": 2,
   "metadata": {
    "scrolled": true
   },
   "outputs": [
    {
     "name": "stdout",
     "output_type": "stream",
     "text": [
      "REGION 1\n"
     ]
    },
    {
     "data": {
      "text/html": [
       "<div>\n",
       "<style scoped>\n",
       "    .dataframe tbody tr th:only-of-type {\n",
       "        vertical-align: middle;\n",
       "    }\n",
       "\n",
       "    .dataframe tbody tr th {\n",
       "        vertical-align: top;\n",
       "    }\n",
       "\n",
       "    .dataframe thead th {\n",
       "        text-align: right;\n",
       "    }\n",
       "</style>\n",
       "<table border=\"1\" class=\"dataframe\">\n",
       "  <thead>\n",
       "    <tr style=\"text-align: right;\">\n",
       "      <th></th>\n",
       "      <th>id</th>\n",
       "      <th>f0</th>\n",
       "      <th>f1</th>\n",
       "      <th>f2</th>\n",
       "      <th>product</th>\n",
       "    </tr>\n",
       "  </thead>\n",
       "  <tbody>\n",
       "    <tr>\n",
       "      <th>52973</th>\n",
       "      <td>RM3lO</td>\n",
       "      <td>-0.599243</td>\n",
       "      <td>0.721781</td>\n",
       "      <td>5.179657</td>\n",
       "      <td>60.766206</td>\n",
       "    </tr>\n",
       "    <tr>\n",
       "      <th>28540</th>\n",
       "      <td>7EsfC</td>\n",
       "      <td>0.028787</td>\n",
       "      <td>0.131433</td>\n",
       "      <td>-2.377188</td>\n",
       "      <td>51.323266</td>\n",
       "    </tr>\n",
       "    <tr>\n",
       "      <th>72045</th>\n",
       "      <td>MM8yj</td>\n",
       "      <td>0.283694</td>\n",
       "      <td>0.959426</td>\n",
       "      <td>3.057990</td>\n",
       "      <td>55.727858</td>\n",
       "    </tr>\n",
       "  </tbody>\n",
       "</table>\n",
       "</div>"
      ],
      "text/plain": [
       "          id        f0        f1        f2    product\n",
       "52973  RM3lO -0.599243  0.721781  5.179657  60.766206\n",
       "28540  7EsfC  0.028787  0.131433 -2.377188  51.323266\n",
       "72045  MM8yj  0.283694  0.959426  3.057990  55.727858"
      ]
     },
     "metadata": {},
     "output_type": "display_data"
    },
    {
     "name": "stdout",
     "output_type": "stream",
     "text": [
      "REGION 2\n"
     ]
    },
    {
     "data": {
      "text/html": [
       "<div>\n",
       "<style scoped>\n",
       "    .dataframe tbody tr th:only-of-type {\n",
       "        vertical-align: middle;\n",
       "    }\n",
       "\n",
       "    .dataframe tbody tr th {\n",
       "        vertical-align: top;\n",
       "    }\n",
       "\n",
       "    .dataframe thead th {\n",
       "        text-align: right;\n",
       "    }\n",
       "</style>\n",
       "<table border=\"1\" class=\"dataframe\">\n",
       "  <thead>\n",
       "    <tr style=\"text-align: right;\">\n",
       "      <th></th>\n",
       "      <th>id</th>\n",
       "      <th>f0</th>\n",
       "      <th>f1</th>\n",
       "      <th>f2</th>\n",
       "      <th>product</th>\n",
       "    </tr>\n",
       "  </thead>\n",
       "  <tbody>\n",
       "    <tr>\n",
       "      <th>6264</th>\n",
       "      <td>KFLP0</td>\n",
       "      <td>5.265481</td>\n",
       "      <td>1.484071</td>\n",
       "      <td>-0.001513</td>\n",
       "      <td>0.000000</td>\n",
       "    </tr>\n",
       "    <tr>\n",
       "      <th>88634</th>\n",
       "      <td>SwW1M</td>\n",
       "      <td>-9.901363</td>\n",
       "      <td>-0.552535</td>\n",
       "      <td>0.005803</td>\n",
       "      <td>3.179103</td>\n",
       "    </tr>\n",
       "    <tr>\n",
       "      <th>4340</th>\n",
       "      <td>xzrI7</td>\n",
       "      <td>0.075398</td>\n",
       "      <td>-10.758952</td>\n",
       "      <td>2.003220</td>\n",
       "      <td>57.085625</td>\n",
       "    </tr>\n",
       "  </tbody>\n",
       "</table>\n",
       "</div>"
      ],
      "text/plain": [
       "          id        f0         f1        f2    product\n",
       "6264   KFLP0  5.265481   1.484071 -0.001513   0.000000\n",
       "88634  SwW1M -9.901363  -0.552535  0.005803   3.179103\n",
       "4340   xzrI7  0.075398 -10.758952  2.003220  57.085625"
      ]
     },
     "metadata": {},
     "output_type": "display_data"
    },
    {
     "name": "stdout",
     "output_type": "stream",
     "text": [
      "REGION 3\n"
     ]
    },
    {
     "data": {
      "text/html": [
       "<div>\n",
       "<style scoped>\n",
       "    .dataframe tbody tr th:only-of-type {\n",
       "        vertical-align: middle;\n",
       "    }\n",
       "\n",
       "    .dataframe tbody tr th {\n",
       "        vertical-align: top;\n",
       "    }\n",
       "\n",
       "    .dataframe thead th {\n",
       "        text-align: right;\n",
       "    }\n",
       "</style>\n",
       "<table border=\"1\" class=\"dataframe\">\n",
       "  <thead>\n",
       "    <tr style=\"text-align: right;\">\n",
       "      <th></th>\n",
       "      <th>id</th>\n",
       "      <th>f0</th>\n",
       "      <th>f1</th>\n",
       "      <th>f2</th>\n",
       "      <th>product</th>\n",
       "    </tr>\n",
       "  </thead>\n",
       "  <tbody>\n",
       "    <tr>\n",
       "      <th>11195</th>\n",
       "      <td>rMR39</td>\n",
       "      <td>-1.582440</td>\n",
       "      <td>0.167386</td>\n",
       "      <td>2.511576</td>\n",
       "      <td>95.267873</td>\n",
       "    </tr>\n",
       "    <tr>\n",
       "      <th>2380</th>\n",
       "      <td>PD5BN</td>\n",
       "      <td>-2.522486</td>\n",
       "      <td>1.954481</td>\n",
       "      <td>4.598875</td>\n",
       "      <td>142.075504</td>\n",
       "    </tr>\n",
       "    <tr>\n",
       "      <th>29681</th>\n",
       "      <td>qAEJb</td>\n",
       "      <td>2.150432</td>\n",
       "      <td>-0.420461</td>\n",
       "      <td>5.616689</td>\n",
       "      <td>164.490737</td>\n",
       "    </tr>\n",
       "  </tbody>\n",
       "</table>\n",
       "</div>"
      ],
      "text/plain": [
       "          id        f0        f1        f2     product\n",
       "11195  rMR39 -1.582440  0.167386  2.511576   95.267873\n",
       "2380   PD5BN -2.522486  1.954481  4.598875  142.075504\n",
       "29681  qAEJb  2.150432 -0.420461  5.616689  164.490737"
      ]
     },
     "metadata": {},
     "output_type": "display_data"
    }
   ],
   "source": [
    "df_1 = pd.read_csv('C:/Users/valentina.tikhova/Downloads/yandex_ds/course8_Машинное обучение в бизнесе/geo_data_0.csv')\n",
    "df_2 = pd.read_csv('C:/Users/valentina.tikhova/Downloads/yandex_ds/course8_Машинное обучение в бизнесе/geo_data_1.csv')\n",
    "df_3 = pd.read_csv('C:/Users/valentina.tikhova/Downloads/yandex_ds/course8_Машинное обучение в бизнесе/geo_data_2.csv')\n",
    "\n",
    "for idx, item in enumerate((df_1, df_2, df_3)):\n",
    "    print('REGION', idx + 1)\n",
    "    display(item.sample(3))"
   ]
  },
  {
   "cell_type": "markdown",
   "metadata": {},
   "source": [
    "В нашем распоряжении 100k записей, каждый объект в наборе данных — информация о скважине каждого региона, а именно:\n",
    "- `id` — уникальный идентификатор скважины\n",
    "- `f0, f1, f2` — три признака точек\n",
    "- `product` — объём запасов в скважине (тыс. баррелей).\n"
   ]
  },
  {
   "cell_type": "markdown",
   "metadata": {},
   "source": [
    "## EDA"
   ]
  },
  {
   "cell_type": "markdown",
   "metadata": {},
   "source": [
    "Посмотрим информацию по выборке (и количественные и качественные переменные) методом describe(). Для наглядности выведем все в одной таблице."
   ]
  },
  {
   "cell_type": "code",
   "execution_count": 3,
   "metadata": {},
   "outputs": [
    {
     "data": {
      "text/html": [
       "<div>\n",
       "<style scoped>\n",
       "    .dataframe tbody tr th:only-of-type {\n",
       "        vertical-align: middle;\n",
       "    }\n",
       "\n",
       "    .dataframe tbody tr th {\n",
       "        vertical-align: top;\n",
       "    }\n",
       "\n",
       "    .dataframe thead tr th {\n",
       "        text-align: left;\n",
       "    }\n",
       "</style>\n",
       "<table border=\"1\" class=\"dataframe\">\n",
       "  <thead>\n",
       "    <tr>\n",
       "      <th></th>\n",
       "      <th colspan=\"5\" halign=\"left\">REGION 1</th>\n",
       "      <th colspan=\"5\" halign=\"left\">REGION 2</th>\n",
       "      <th colspan=\"5\" halign=\"left\">REGION 3</th>\n",
       "    </tr>\n",
       "    <tr>\n",
       "      <th></th>\n",
       "      <th>id</th>\n",
       "      <th>f0</th>\n",
       "      <th>f1</th>\n",
       "      <th>f2</th>\n",
       "      <th>product</th>\n",
       "      <th>id</th>\n",
       "      <th>f0</th>\n",
       "      <th>f1</th>\n",
       "      <th>f2</th>\n",
       "      <th>product</th>\n",
       "      <th>id</th>\n",
       "      <th>f0</th>\n",
       "      <th>f1</th>\n",
       "      <th>f2</th>\n",
       "      <th>product</th>\n",
       "    </tr>\n",
       "  </thead>\n",
       "  <tbody>\n",
       "    <tr>\n",
       "      <th>count</th>\n",
       "      <td>100000</td>\n",
       "      <td>100000.0</td>\n",
       "      <td>100000.0</td>\n",
       "      <td>100000.0</td>\n",
       "      <td>100000.0</td>\n",
       "      <td>100000</td>\n",
       "      <td>100000.0</td>\n",
       "      <td>100000.0</td>\n",
       "      <td>100000.0</td>\n",
       "      <td>100000.0</td>\n",
       "      <td>100000</td>\n",
       "      <td>100000.0</td>\n",
       "      <td>100000.0</td>\n",
       "      <td>100000.0</td>\n",
       "      <td>100000.0</td>\n",
       "    </tr>\n",
       "    <tr>\n",
       "      <th>unique</th>\n",
       "      <td>99990</td>\n",
       "      <td>-</td>\n",
       "      <td>-</td>\n",
       "      <td>-</td>\n",
       "      <td>-</td>\n",
       "      <td>99996</td>\n",
       "      <td>-</td>\n",
       "      <td>-</td>\n",
       "      <td>-</td>\n",
       "      <td>-</td>\n",
       "      <td>99996</td>\n",
       "      <td>-</td>\n",
       "      <td>-</td>\n",
       "      <td>-</td>\n",
       "      <td>-</td>\n",
       "    </tr>\n",
       "    <tr>\n",
       "      <th>top</th>\n",
       "      <td>fiKDv</td>\n",
       "      <td>-</td>\n",
       "      <td>-</td>\n",
       "      <td>-</td>\n",
       "      <td>-</td>\n",
       "      <td>wt4Uk</td>\n",
       "      <td>-</td>\n",
       "      <td>-</td>\n",
       "      <td>-</td>\n",
       "      <td>-</td>\n",
       "      <td>VF7Jo</td>\n",
       "      <td>-</td>\n",
       "      <td>-</td>\n",
       "      <td>-</td>\n",
       "      <td>-</td>\n",
       "    </tr>\n",
       "    <tr>\n",
       "      <th>freq</th>\n",
       "      <td>2</td>\n",
       "      <td>-</td>\n",
       "      <td>-</td>\n",
       "      <td>-</td>\n",
       "      <td>-</td>\n",
       "      <td>2</td>\n",
       "      <td>-</td>\n",
       "      <td>-</td>\n",
       "      <td>-</td>\n",
       "      <td>-</td>\n",
       "      <td>2</td>\n",
       "      <td>-</td>\n",
       "      <td>-</td>\n",
       "      <td>-</td>\n",
       "      <td>-</td>\n",
       "    </tr>\n",
       "    <tr>\n",
       "      <th>mean</th>\n",
       "      <td>-</td>\n",
       "      <td>0.5</td>\n",
       "      <td>0.25</td>\n",
       "      <td>2.503</td>\n",
       "      <td>92.5</td>\n",
       "      <td>-</td>\n",
       "      <td>1.141</td>\n",
       "      <td>-4.797</td>\n",
       "      <td>2.495</td>\n",
       "      <td>68.825</td>\n",
       "      <td>-</td>\n",
       "      <td>0.002</td>\n",
       "      <td>-0.002</td>\n",
       "      <td>2.495</td>\n",
       "      <td>95.0</td>\n",
       "    </tr>\n",
       "    <tr>\n",
       "      <th>std</th>\n",
       "      <td>-</td>\n",
       "      <td>0.872</td>\n",
       "      <td>0.504</td>\n",
       "      <td>3.248</td>\n",
       "      <td>44.289</td>\n",
       "      <td>-</td>\n",
       "      <td>8.966</td>\n",
       "      <td>5.12</td>\n",
       "      <td>1.704</td>\n",
       "      <td>45.944</td>\n",
       "      <td>-</td>\n",
       "      <td>1.732</td>\n",
       "      <td>1.73</td>\n",
       "      <td>3.473</td>\n",
       "      <td>44.75</td>\n",
       "    </tr>\n",
       "    <tr>\n",
       "      <th>min</th>\n",
       "      <td>-</td>\n",
       "      <td>-1.409</td>\n",
       "      <td>-0.848</td>\n",
       "      <td>-12.088</td>\n",
       "      <td>0.0</td>\n",
       "      <td>-</td>\n",
       "      <td>-31.61</td>\n",
       "      <td>-26.359</td>\n",
       "      <td>-0.018</td>\n",
       "      <td>0.0</td>\n",
       "      <td>-</td>\n",
       "      <td>-8.76</td>\n",
       "      <td>-7.084</td>\n",
       "      <td>-11.97</td>\n",
       "      <td>0.0</td>\n",
       "    </tr>\n",
       "    <tr>\n",
       "      <th>25%</th>\n",
       "      <td>-</td>\n",
       "      <td>-0.073</td>\n",
       "      <td>-0.201</td>\n",
       "      <td>0.288</td>\n",
       "      <td>56.498</td>\n",
       "      <td>-</td>\n",
       "      <td>-6.299</td>\n",
       "      <td>-8.268</td>\n",
       "      <td>1.0</td>\n",
       "      <td>26.953</td>\n",
       "      <td>-</td>\n",
       "      <td>-1.162</td>\n",
       "      <td>-1.175</td>\n",
       "      <td>0.13</td>\n",
       "      <td>59.45</td>\n",
       "    </tr>\n",
       "    <tr>\n",
       "      <th>50%</th>\n",
       "      <td>-</td>\n",
       "      <td>0.502</td>\n",
       "      <td>0.25</td>\n",
       "      <td>2.516</td>\n",
       "      <td>91.85</td>\n",
       "      <td>-</td>\n",
       "      <td>1.153</td>\n",
       "      <td>-4.813</td>\n",
       "      <td>2.011</td>\n",
       "      <td>57.086</td>\n",
       "      <td>-</td>\n",
       "      <td>0.009</td>\n",
       "      <td>-0.009</td>\n",
       "      <td>2.484</td>\n",
       "      <td>94.926</td>\n",
       "    </tr>\n",
       "    <tr>\n",
       "      <th>75%</th>\n",
       "      <td>-</td>\n",
       "      <td>1.074</td>\n",
       "      <td>0.701</td>\n",
       "      <td>4.715</td>\n",
       "      <td>128.564</td>\n",
       "      <td>-</td>\n",
       "      <td>8.621</td>\n",
       "      <td>-1.333</td>\n",
       "      <td>4.0</td>\n",
       "      <td>107.813</td>\n",
       "      <td>-</td>\n",
       "      <td>1.159</td>\n",
       "      <td>1.164</td>\n",
       "      <td>4.859</td>\n",
       "      <td>130.595</td>\n",
       "    </tr>\n",
       "    <tr>\n",
       "      <th>max</th>\n",
       "      <td>-</td>\n",
       "      <td>2.362</td>\n",
       "      <td>1.344</td>\n",
       "      <td>16.004</td>\n",
       "      <td>185.364</td>\n",
       "      <td>-</td>\n",
       "      <td>29.422</td>\n",
       "      <td>18.734</td>\n",
       "      <td>5.02</td>\n",
       "      <td>137.945</td>\n",
       "      <td>-</td>\n",
       "      <td>7.238</td>\n",
       "      <td>7.845</td>\n",
       "      <td>16.739</td>\n",
       "      <td>190.03</td>\n",
       "    </tr>\n",
       "  </tbody>\n",
       "</table>\n",
       "</div>"
      ],
      "text/plain": [
       "       REGION 1                                         REGION 2            \\\n",
       "             id        f0        f1        f2   product       id        f0   \n",
       "count    100000  100000.0  100000.0  100000.0  100000.0   100000  100000.0   \n",
       "unique    99990         -         -         -         -    99996         -   \n",
       "top       fiKDv         -         -         -         -    wt4Uk         -   \n",
       "freq          2         -         -         -         -        2         -   \n",
       "mean          -       0.5      0.25     2.503      92.5        -     1.141   \n",
       "std           -     0.872     0.504     3.248    44.289        -     8.966   \n",
       "min           -    -1.409    -0.848   -12.088       0.0        -    -31.61   \n",
       "25%           -    -0.073    -0.201     0.288    56.498        -    -6.299   \n",
       "50%           -     0.502      0.25     2.516     91.85        -     1.153   \n",
       "75%           -     1.074     0.701     4.715   128.564        -     8.621   \n",
       "max           -     2.362     1.344    16.004   185.364        -    29.422   \n",
       "\n",
       "                                     REGION 3                                \\\n",
       "              f1        f2   product       id        f0        f1        f2   \n",
       "count   100000.0  100000.0  100000.0   100000  100000.0  100000.0  100000.0   \n",
       "unique         -         -         -    99996         -         -         -   \n",
       "top            -         -         -    VF7Jo         -         -         -   \n",
       "freq           -         -         -        2         -         -         -   \n",
       "mean      -4.797     2.495    68.825        -     0.002    -0.002     2.495   \n",
       "std         5.12     1.704    45.944        -     1.732      1.73     3.473   \n",
       "min      -26.359    -0.018       0.0        -     -8.76    -7.084    -11.97   \n",
       "25%       -8.268       1.0    26.953        -    -1.162    -1.175      0.13   \n",
       "50%       -4.813     2.011    57.086        -     0.009    -0.009     2.484   \n",
       "75%       -1.333       4.0   107.813        -     1.159     1.164     4.859   \n",
       "max       18.734      5.02   137.945        -     7.238     7.845    16.739   \n",
       "\n",
       "                  \n",
       "         product  \n",
       "count   100000.0  \n",
       "unique         -  \n",
       "top            -  \n",
       "freq           -  \n",
       "mean        95.0  \n",
       "std        44.75  \n",
       "min          0.0  \n",
       "25%        59.45  \n",
       "50%       94.926  \n",
       "75%      130.595  \n",
       "max       190.03  "
      ]
     },
     "execution_count": 3,
     "metadata": {},
     "output_type": "execute_result"
    }
   ],
   "source": [
    "pd.concat((i.describe(include = 'all').round(3) for i in [df_1, df_2, df_3]), keys=['REGION {}'.format(i) for i in range(1, 4)], axis=1).fillna('-')"
   ]
  },
  {
   "cell_type": "markdown",
   "metadata": {},
   "source": [
    "В данных нет пропусков, есть одно категорийное поле в виде идентификатора скважины `id`, некоторые скважины имеют несколько записей в дата-сете (10 дублей в первом регионе и 4 повтора в остальных). Это небольшая погрешность (0,01%), она не будет влиять на конечный результат.\n",
    "Признаки точек могут быть как положительные, так и отрицательные. По некоторым скважинам есть нулевой объем запасов."
   ]
  },
  {
   "cell_type": "code",
   "execution_count": 4,
   "metadata": {},
   "outputs": [
    {
     "data": {
      "text/html": [
       "<div>\n",
       "<style scoped>\n",
       "    .dataframe tbody tr th:only-of-type {\n",
       "        vertical-align: middle;\n",
       "    }\n",
       "\n",
       "    .dataframe tbody tr th {\n",
       "        vertical-align: top;\n",
       "    }\n",
       "\n",
       "    .dataframe thead th {\n",
       "        text-align: right;\n",
       "    }\n",
       "</style>\n",
       "<table border=\"1\" class=\"dataframe\">\n",
       "  <thead>\n",
       "    <tr style=\"text-align: right;\">\n",
       "      <th></th>\n",
       "      <th>region</th>\n",
       "      <th>reg_id</th>\n",
       "      <th>id</th>\n",
       "      <th>f0</th>\n",
       "      <th>f1</th>\n",
       "      <th>f2</th>\n",
       "      <th>product</th>\n",
       "    </tr>\n",
       "  </thead>\n",
       "  <tbody>\n",
       "    <tr>\n",
       "      <th>251800</th>\n",
       "      <td>reg_3</td>\n",
       "      <td>51800</td>\n",
       "      <td>ju5Xk</td>\n",
       "      <td>-2.253866</td>\n",
       "      <td>0.637092</td>\n",
       "      <td>5.390571</td>\n",
       "      <td>162.733722</td>\n",
       "    </tr>\n",
       "    <tr>\n",
       "      <th>74412</th>\n",
       "      <td>reg_1</td>\n",
       "      <td>74412</td>\n",
       "      <td>HiHbz</td>\n",
       "      <td>0.024262</td>\n",
       "      <td>0.000391</td>\n",
       "      <td>-1.250224</td>\n",
       "      <td>57.278073</td>\n",
       "    </tr>\n",
       "    <tr>\n",
       "      <th>59455</th>\n",
       "      <td>reg_1</td>\n",
       "      <td>59455</td>\n",
       "      <td>z06a7</td>\n",
       "      <td>0.143753</td>\n",
       "      <td>-0.013447</td>\n",
       "      <td>-3.523956</td>\n",
       "      <td>34.598073</td>\n",
       "    </tr>\n",
       "  </tbody>\n",
       "</table>\n",
       "</div>"
      ],
      "text/plain": [
       "       region  reg_id     id        f0        f1        f2     product\n",
       "251800  reg_3   51800  ju5Xk -2.253866  0.637092  5.390571  162.733722\n",
       "74412   reg_1   74412  HiHbz  0.024262  0.000391 -1.250224   57.278073\n",
       "59455   reg_1   59455  z06a7  0.143753 -0.013447 -3.523956   34.598073"
      ]
     },
     "execution_count": 4,
     "metadata": {},
     "output_type": "execute_result"
    }
   ],
   "source": [
    "df = pd.concat([df_1, df_2, df_3], keys=['reg_{}'.format(i) for i in range(1, 4)], axis = 0, names=['region', 'reg_id']).reset_index()\n",
    "df.sample(3)"
   ]
  },
  {
   "cell_type": "markdown",
   "metadata": {},
   "source": [
    "Посмотрим, какие параметры влиют больше всего на факт оттока из банка с помощью функции `corr()`. "
   ]
  },
  {
   "cell_type": "code",
   "execution_count": null,
   "metadata": {},
   "outputs": [],
   "source": [
    "df.corr().style.background_gradient(cmap='coolwarm', \n",
    "                                    axis=None, \n",
    "                                    vmin=df.corr().min().min(), \n",
    "                                    vmax=df.corr().max().max()).set_precision(3)"
   ]
  },
  {
   "cell_type": "markdown",
   "metadata": {},
   "source": [
    "На факт оттока клиента больше всего влияет его возраст, а также баланс счета. Интересно, что чем активнее клиент, тем выше вероятность его ухода. Можно объяснить это заинтересованностью клиента в выгодных условиях банковских услуг. Вероятно, чем больше клиент использует банковские услуги, тем больше сравнивает их уровень у конкурентов.\n",
    "\n",
    "Все же сильных взаимосвязей между признаками нет, ничего не будет менять будущей модели.\n",
    "\n",
    "Чтобы составить начальный портрет клиентов, ушедших в отток, и лояльных клиентов, которые продолжаются пользоваться услугами банка, посмотрим всю ту же информацию `describe()` по целевому признаку `exited`:"
   ]
  },
  {
   "cell_type": "code",
   "execution_count": null,
   "metadata": {},
   "outputs": [],
   "source": [
    "df.query(\"exited == 1\").describe(percentiles=[.50, .9], include = 'all').round(2).fillna('-')"
   ]
  },
  {
   "cell_type": "markdown",
   "metadata": {},
   "source": [
    "**Портрет пользователей, ушедших в отток**:\n",
    "- большинство (90%) имеют кредитный скоринг более 770\n",
    "- в оттоке в основном - женщины за 58 лет, проживающие в Германии\n",
    "- в среднем были клиентами банка в течение 4.8 лет\n",
    "- средний баланс на счету клиента - 91 тыс у.е., предполагаемая зп - 101 тыс у.е.\n",
    "- большинство имеют около трех банковских продуктов"
   ]
  },
  {
   "cell_type": "code",
   "execution_count": null,
   "metadata": {},
   "outputs": [],
   "source": [
    "df.query(\"exited == 0\").describe(percentiles=[.50, .9], include = 'all').round(2).fillna('-')"
   ]
  },
  {
   "cell_type": "markdown",
   "metadata": {},
   "source": [
    "**Портрет оставшихся пользователей**:\n",
    "- в большинстве случаев - французы до 50 лет с кредитным скорингом -- порядка 778\n",
    "- в среднем являются клиентами банка около 5 лет\n",
    "- средний баланс на счету клиента - 73 тыс у.е., предполагаемая зп - 100 тыс у.е.\n",
    "- большинство имеют около двух банковских продуктов\n",
    "\n",
    "Оба типа клиента (по факту оттока) почти не отличаются количеством лет `tenure`, а также фактом наличия кредитной карты. Это также подтвеждается коррелацией признаков."
   ]
  },
  {
   "cell_type": "markdown",
   "metadata": {},
   "source": [
    "## Подготовка данных"
   ]
  },
  {
   "cell_type": "markdown",
   "metadata": {},
   "source": [
    "Перед созданием модели необходимо проверсти подготовку данных:\n",
    "- кодирование категориальных переменных;\n",
    "- разбиение на выборки;\n",
    "- нормирование числовых данных.\n",
    "    \n",
    "Как увидели выше, в датасете есть категориальные признаки (география клиента и его пол), которые необходимо преобразовать в численные. Например, методом прямого кодирования `OneHotEncoding`."
   ]
  },
  {
   "cell_type": "code",
   "execution_count": null,
   "metadata": {},
   "outputs": [],
   "source": [
    "data_ohe = pd.get_dummies(df, columns=['geography', 'gender'], drop_first=True)\n",
    "data_ohe.sample(5)"
   ]
  },
  {
   "cell_type": "code",
   "execution_count": null,
   "metadata": {},
   "outputs": [],
   "source": [
    "for column in data_ohe.columns:\n",
    "    data_ohe[column] = data_ohe[column].astype('int8')"
   ]
  },
  {
   "cell_type": "markdown",
   "metadata": {},
   "source": [
    "Зафиксируем псевдослучайность для всех используемых в проекте алгоритмов:"
   ]
  },
  {
   "cell_type": "code",
   "execution_count": null,
   "metadata": {},
   "outputs": [],
   "source": [
    "rnd_st = 12345"
   ]
  },
  {
   "cell_type": "markdown",
   "metadata": {},
   "source": [
    "Напишем функции для дальнейшего использования:\n",
    "* **target_features** : выделим целевой признак `target` и признаки для обучения модели `features`\n",
    "* **split_data** : разобьем выборку с помощью метода `train_test_split` в пропорции 60\\20\\20 на \n",
    "    - обучающую *_train\n",
    "    - валидационную *_valid\n",
    "    - тестовую выборки *_test\n",
    "\n",
    " и выполним масштабирование количественных признаков (скаллер обучаем на обучающей выборке и применяем ко всем)"
   ]
  },
  {
   "cell_type": "code",
   "execution_count": null,
   "metadata": {},
   "outputs": [],
   "source": [
    "def target_features(data_ohe, target_column='exited'):\n",
    "    '''Функция возвращает целевой признак и признаки для обучения модели'''    \n",
    "    target = data_ohe[target_column]\n",
    "    features = data_ohe.drop(target_column, axis=1)\n",
    "    return target, features"
   ]
  },
  {
   "cell_type": "code",
   "execution_count": null,
   "metadata": {},
   "outputs": [],
   "source": [
    "def split_data(features, target):\n",
    "    '''Функция разделения выборки'''\n",
    "    features_train, features_valid, target_train, target_valid = train_test_split(\n",
    "        features, target, train_size=0.6, test_size=0.4, random_state=rnd_st)\n",
    "\n",
    "    features_test, features_valid, target_test, target_valid = train_test_split(\n",
    "        features_valid, target_valid, test_size=0.5, random_state=rnd_st)\n",
    "    \n",
    "    scaler = StandardScaler()\n",
    "    numeric = ['credit_score', 'age', 'balance', 'estimated_salary', 'tenure', 'num_of_products']\n",
    "    scaler.fit(features_train[numeric])\n",
    "    \n",
    "    features_train[numeric] = scaler.transform(features_train[numeric])\n",
    "    features_valid[numeric] = scaler.transform(features_valid[numeric])\n",
    "    features_test[numeric] = scaler.transform(features_test[numeric])\n",
    "    \n",
    "    return features_train, features_valid, features_test, target_train, target_valid, target_test"
   ]
  },
  {
   "cell_type": "markdown",
   "metadata": {},
   "source": [
    "Данные готовы к исследованию."
   ]
  },
  {
   "cell_type": "markdown",
   "metadata": {},
   "source": [
    "## Исследование задачи"
   ]
  },
  {
   "cell_type": "markdown",
   "metadata": {},
   "source": [
    "Посмотрим, в каком соотношении встречается целевой признак."
   ]
  },
  {
   "cell_type": "code",
   "execution_count": null,
   "metadata": {},
   "outputs": [],
   "source": [
    "data_ohe['exited'].value_counts(normalize=True)"
   ]
  },
  {
   "cell_type": "markdown",
   "metadata": {},
   "source": [
    "Видим, что соотношение классов далеко от 1:1, т.е. они несбалансированы: ~80% отрицательных и ~20% положительных.\n",
    "\n",
    "При бисбалансе классов применим несколько моделий обучения и посмотрим, какая из них покажет лучшие результаты метрик f1 и roc_auc. Для этого напишем функцию `check_model`."
   ]
  },
  {
   "cell_type": "code",
   "execution_count": null,
   "metadata": {},
   "outputs": [],
   "source": [
    "def check_model(model, test = None, samplefunc = None, threshold = None):\n",
    "    '''Функция возвращает модель и ее показатели:\n",
    "       - выделяет целевой признак и признаки модели\n",
    "       - делит выборку на обучающую, валидационную, тестовую\n",
    "       - применяет к выборкам функцию увеличения, если необходимо\n",
    "       - использует валидационную выборку, если не указана тестовая\n",
    "       - выбирает лучший порог\n",
    "       - показывает метрики f1 и auc модели \n",
    "    '''\n",
    "    \n",
    "    target, features = target_features(data_ohe)\n",
    "    \n",
    "    features_train, features_valid, features_test, target_train, target_valid, target_test = split_data(features, target)\n",
    "    \n",
    "    if samplefunc:\n",
    "        features_train, target_train = samplefunc(features_train, target_train)\n",
    "        \n",
    "    model.fit(features_train, target_train)\n",
    "    predicted_valid = model.predict(features_valid)\n",
    "    f1 = f1_score(target_valid, predicted_valid)\n",
    "    roc_auc = roc_auc_score(target_valid, predicted_valid, multi_class='ovr')\n",
    "    \n",
    "    if test:\n",
    "        predicted_test = model.predict(features_test)\n",
    "        f1 = f1_score(target_test, predicted_test)\n",
    "        roc_auc = roc_auc_score(target_test, predicted_test, multi_class='ovr')\n",
    "        \n",
    "    if threshold:\n",
    "        probabilities_valid = model.predict_proba(features_valid)\n",
    "        probabilities_one_valid = probabilities_valid[:, 1]\n",
    "        best_th = 0\n",
    "        best_f1 = 0\n",
    "        for threshold in np.arange(0, 0.7, 0.05):\n",
    "            predicted_valid = probabilities_one_valid > threshold\n",
    "            predicted = model.predict(features) \n",
    "            f1 = f1_score(target_valid, predicted_valid)\n",
    "            roc_auc = roc_auc_score(target_valid, predicted_valid, multi_class='ovr')\n",
    "            if f1 > best_f1:\n",
    "                best_f1 = f1\n",
    "                best_th = threshold\n",
    "        print(' | Лучший порог= {:.2f}'.format(threshold), end='')        \n",
    "            \n",
    "    print(\" | f1 = {:.5f} | roc_auc = {:.5f}\".format(f1, roc_auc))"
   ]
  },
  {
   "cell_type": "markdown",
   "metadata": {},
   "source": [
    "### Дерево решений"
   ]
  },
  {
   "cell_type": "code",
   "execution_count": null,
   "metadata": {},
   "outputs": [],
   "source": [
    "for max_depth in range(2, 22, 2):\n",
    "    print(\"max_depth = \", max_depth, end='')\n",
    "    model = check_model(DecisionTreeClassifier(max_depth=max_depth, random_state=rnd_st))    "
   ]
  },
  {
   "cell_type": "markdown",
   "metadata": {},
   "source": [
    "Пока лучшие результаты f1=0.52067 получили у модели с глубиной равной 6."
   ]
  },
  {
   "cell_type": "markdown",
   "metadata": {},
   "source": [
    "### Случайный лес"
   ]
  },
  {
   "cell_type": "markdown",
   "metadata": {},
   "source": [
    "В качестве гиперпараметра глубины дерева возьмем значение, найденное для предыдущей модели. \n",
    "А количество деревьев для нашего случайного леса будет искать в диапазоне от 10 до 100 с шагом 10."
   ]
  },
  {
   "cell_type": "code",
   "execution_count": null,
   "metadata": {},
   "outputs": [],
   "source": [
    "for estim in range(10, 101, 10):\n",
    "    print(\"estim = \", estim, end='')\n",
    "    model = check_model(RandomForestClassifier(n_estimators=estim, max_depth=6, random_state=rnd_st))"
   ]
  },
  {
   "cell_type": "markdown",
   "metadata": {},
   "source": [
    "Как видим, модель случайного леса предсказывает не лучше, чем дерево решений. Лучший результат 0.47315 достигается при количестве деревьев равном 60."
   ]
  },
  {
   "cell_type": "markdown",
   "metadata": {},
   "source": [
    "### Логистическая регрессия"
   ]
  },
  {
   "cell_type": "code",
   "execution_count": null,
   "metadata": {},
   "outputs": [],
   "source": [
    "check_model(LogisticRegression(random_state = rnd_st))"
   ]
  },
  {
   "cell_type": "markdown",
   "metadata": {},
   "source": [
    "При дисбалансе классов логистическая регрессия предсказывает крайне плохо.\n",
    "\n",
    "Самая лучшая модель -- дерево решений, с учетом дисбаланс классов должна показать хорошие результаты."
   ]
  },
  {
   "cell_type": "markdown",
   "metadata": {},
   "source": [
    "## Борьба с дисбалансом"
   ]
  },
  {
   "cell_type": "markdown",
   "metadata": {},
   "source": [
    "### Взвешивание классов"
   ]
  },
  {
   "cell_type": "markdown",
   "metadata": {},
   "source": [
    "Придадим объектам редкого класса 1 больший вес используя гиперпараметр class_weight='balanced'."
   ]
  },
  {
   "cell_type": "markdown",
   "metadata": {},
   "source": [
    "#### Дерево решений"
   ]
  },
  {
   "cell_type": "code",
   "execution_count": null,
   "metadata": {},
   "outputs": [],
   "source": [
    "for max_depth in range(2, 22, 2):\n",
    "    print(\"max_depth = \", max_depth, end='')\n",
    "    model = check_model(DecisionTreeClassifier(class_weight='balanced', max_depth=max_depth, random_state=rnd_st))  "
   ]
  },
  {
   "cell_type": "markdown",
   "metadata": {},
   "source": [
    "Лучшая модель с глубиной дерева -- 8 (f1 = 0.57576)."
   ]
  },
  {
   "cell_type": "markdown",
   "metadata": {},
   "source": [
    "#### Случайный лес"
   ]
  },
  {
   "cell_type": "code",
   "execution_count": null,
   "metadata": {},
   "outputs": [],
   "source": [
    "for est in range(10, 101, 10):\n",
    "    print(\"est = \", est, end='')\n",
    "    model = check_model(RandomForestClassifier(class_weight='balanced', \n",
    "                                               n_estimators=est, \n",
    "                                               max_depth=8, \n",
    "                                               random_state=rnd_st))"
   ]
  },
  {
   "cell_type": "markdown",
   "metadata": {},
   "source": [
    "А вот модель случайного леса показывает самое высокое значение F1-меры: 0.59251 при количестве деревьев равном 100."
   ]
  },
  {
   "cell_type": "markdown",
   "metadata": {},
   "source": [
    "#### Логистическая регрессия"
   ]
  },
  {
   "cell_type": "code",
   "execution_count": null,
   "metadata": {},
   "outputs": [],
   "source": [
    "check_model(LogisticRegression(class_weight='balanced', random_state = rnd_st))"
   ]
  },
  {
   "cell_type": "markdown",
   "metadata": {},
   "source": [
    "Особых улучшений нет."
   ]
  },
  {
   "cell_type": "markdown",
   "metadata": {},
   "source": [
    "### Увеличение выборки\n",
    "Cделаем объекты редкого класса не такими редкими и переобучим модели."
   ]
  },
  {
   "cell_type": "markdown",
   "metadata": {},
   "source": [
    "Попробуем увеличить `upsample` выборку для увеличения метрик. Для этого напишем соответствующую функцию и попробуем подобрать лучшее значение увеличения выборки с помощью функции `map`."
   ]
  },
  {
   "cell_type": "code",
   "execution_count": null,
   "metadata": {},
   "outputs": [],
   "source": [
    "def upsampled(features, target, repeat=10):\n",
    "    ''' Функция увеличения выборки для увеличения метрик качества'''    \n",
    "    features_0 = features[target == 0]\n",
    "    features_1 = features[target == 1]\n",
    "    target_0 = target[target == 0]\n",
    "    target_1 = target[target == 1]\n",
    "    \n",
    "    # увеличение\n",
    "    features_up = pd.concat([features_0] + [features_1] * repeat)\n",
    "    target_up = pd.concat([target_0] + [target_1] * repeat)\n",
    "    \n",
    "    # перемешиваем\n",
    "    features_up, target_up = shuffle(features_up, target_up, random_state=rnd_st)  \n",
    "    \n",
    "    return features_up, target_up"
   ]
  },
  {
   "cell_type": "markdown",
   "metadata": {},
   "source": [
    "#### Дерево решений"
   ]
  },
  {
   "cell_type": "code",
   "execution_count": null,
   "metadata": {},
   "outputs": [],
   "source": [
    "for max_depth in range(2, 22, 2):\n",
    "    print(\"max_depth = \", max_depth, end='')\n",
    "    model = check_model(DecisionTreeClassifier(max_depth=max_depth, random_state=rnd_st), \n",
    "                        samplefunc = upsampled) "
   ]
  },
  {
   "cell_type": "markdown",
   "metadata": {},
   "source": [
    "Самый лучший результат у модели с 12 деревьями (f1 = 0.51459)."
   ]
  },
  {
   "cell_type": "markdown",
   "metadata": {},
   "source": [
    "#### Случайный лес"
   ]
  },
  {
   "cell_type": "code",
   "execution_count": null,
   "metadata": {},
   "outputs": [],
   "source": [
    "for est in range(10, 101, 10):\n",
    "    print(\"est = \", est, end='')\n",
    "    model = check_model(RandomForestClassifier(n_estimators=est, \n",
    "                                               max_depth=12, \n",
    "                                               random_state=rnd_st), samplefunc = upsampled)"
   ]
  },
  {
   "cell_type": "markdown",
   "metadata": {},
   "source": [
    "Самый лучший результат у модели с глубиной 40 -- f1 = 0.58870."
   ]
  },
  {
   "cell_type": "markdown",
   "metadata": {},
   "source": [
    "#### Логистическая регрессия"
   ]
  },
  {
   "cell_type": "code",
   "execution_count": null,
   "metadata": {},
   "outputs": [],
   "source": [
    "check_model(LogisticRegression(random_state = rnd_st), samplefunc = upsampled)"
   ]
  },
  {
   "cell_type": "markdown",
   "metadata": {},
   "source": [
    "### Увеличение порога\n",
    "\n",
    "Посмотрим лучший порог на каждой модели"
   ]
  },
  {
   "cell_type": "markdown",
   "metadata": {},
   "source": [
    "#### Дерево решений"
   ]
  },
  {
   "cell_type": "code",
   "execution_count": null,
   "metadata": {},
   "outputs": [],
   "source": [
    "for max_depth in range(2, 22, 2):\n",
    "    print(\"max_depth = \", max_depth, end='')\n",
    "    model = check_model(DecisionTreeClassifier(max_depth=max_depth, random_state=rnd_st), \n",
    "                        threshold = 1) "
   ]
  },
  {
   "cell_type": "markdown",
   "metadata": {},
   "source": [
    "#### Случайный лес"
   ]
  },
  {
   "cell_type": "code",
   "execution_count": null,
   "metadata": {},
   "outputs": [],
   "source": [
    "for est in range(10, 101, 10):\n",
    "    print(\"est = \", est, end='')\n",
    "    model = check_model(RandomForestClassifier(n_estimators=est, \n",
    "                                               max_depth=12, \n",
    "                                               random_state=rnd_st), threshold = 1)"
   ]
  },
  {
   "cell_type": "markdown",
   "metadata": {},
   "source": [
    "#### Логистическая регрессия"
   ]
  },
  {
   "cell_type": "code",
   "execution_count": null,
   "metadata": {},
   "outputs": [],
   "source": [
    "check_model(LogisticRegression(random_state = rnd_st), threshold = 1)"
   ]
  },
  {
   "cell_type": "markdown",
   "metadata": {},
   "source": [
    "Лучший уровень порога для лубой модели -- 0.65, при этом метрика f1 не дает результатов лучше, яем другие методы борьбы с дисбалансом.\n",
    "\n",
    "**Как итог, лучший примененный метод -- взвешивание классов, а лучшая модель -- случайный лес с глубиной 100.**"
   ]
  },
  {
   "cell_type": "markdown",
   "metadata": {},
   "source": [
    "## Тестирование модели"
   ]
  },
  {
   "cell_type": "markdown",
   "metadata": {},
   "source": [
    "Проверим самую лучшую модель по итогам прошлого пункта (`случайный лес`) с количеством деревьев равным 1000 и глубиной равной 8 с учетом балансировки классов."
   ]
  },
  {
   "cell_type": "code",
   "execution_count": null,
   "metadata": {},
   "outputs": [],
   "source": [
    "check_model(RandomForestClassifier(class_weight='balanced', n_estimators=100, max_depth=8, random_state=rnd_st))"
   ]
  },
  {
   "cell_type": "markdown",
   "metadata": {},
   "source": [
    "Протестируем модель на тестовой выборке:"
   ]
  },
  {
   "cell_type": "code",
   "execution_count": null,
   "metadata": {},
   "outputs": [],
   "source": [
    "check_model(RandomForestClassifier(class_weight='balanced', n_estimators=100, max_depth=8, random_state=rnd_st), test = 1)"
   ]
  },
  {
   "cell_type": "markdown",
   "metadata": {},
   "source": [
    "Достигли желаемого результата - модель предсказывает достаточно хорошо (f1 = 0.62177)."
   ]
  },
  {
   "cell_type": "markdown",
   "metadata": {},
   "source": [
    "В итоге мы добились неплохих результатов: \n",
    "- исследовали баланс классов,\n",
    "- учли их дисбаланс,\n",
    "- получили подтвержение качества модели, доказав это расчетом нужных метрик."
   ]
  }
 ],
 "metadata": {
  "ExecuteTimeLog": [
   {
    "duration": 1733,
    "start_time": "2022-03-28T06:35:37.408Z"
   },
   {
    "duration": 42,
    "start_time": "2022-03-28T06:36:05.743Z"
   },
   {
    "duration": 2550,
    "start_time": "2022-03-28T06:37:47.651Z"
   },
   {
    "duration": 15,
    "start_time": "2022-03-28T06:38:57.340Z"
   },
   {
    "duration": 8,
    "start_time": "2022-03-28T06:39:14.692Z"
   },
   {
    "duration": 5,
    "start_time": "2022-03-28T06:39:20.971Z"
   },
   {
    "duration": 32490,
    "start_time": "2022-03-28T06:39:36.885Z"
   },
   {
    "duration": 10,
    "start_time": "2022-03-28T06:42:40.247Z"
   },
   {
    "duration": 52200,
    "start_time": "2022-03-28T06:42:46.870Z"
   },
   {
    "duration": 33480,
    "start_time": "2022-03-28T06:46:39.260Z"
   },
   {
    "duration": 16593,
    "start_time": "2022-03-28T06:51:48.779Z"
   },
   {
    "duration": 20056,
    "start_time": "2022-03-28T06:53:01.932Z"
   },
   {
    "duration": 1817,
    "start_time": "2022-03-28T06:54:19.613Z"
   },
   {
    "duration": 42,
    "start_time": "2022-03-28T06:54:21.432Z"
   },
   {
    "duration": 13163,
    "start_time": "2022-03-28T06:54:21.476Z"
   },
   {
    "duration": 33,
    "start_time": "2022-03-28T06:55:19.047Z"
   },
   {
    "duration": 1981,
    "start_time": "2022-03-28T06:58:25.035Z"
   },
   {
    "duration": 37,
    "start_time": "2022-03-28T06:58:27.018Z"
   },
   {
    "duration": 5,
    "start_time": "2022-03-28T06:58:27.062Z"
   },
   {
    "duration": 12721,
    "start_time": "2022-03-28T06:58:27.070Z"
   },
   {
    "duration": 1051,
    "start_time": "2022-03-28T07:00:52.738Z"
   },
   {
    "duration": 750,
    "start_time": "2022-03-28T07:03:18.471Z"
   },
   {
    "duration": 1109,
    "start_time": "2022-03-28T07:07:09.128Z"
   },
   {
    "duration": 271,
    "start_time": "2022-03-28T07:08:37.860Z"
   },
   {
    "duration": 5,
    "start_time": "2022-03-28T07:14:52.325Z"
   },
   {
    "duration": 53,
    "start_time": "2022-03-28T07:14:54.143Z"
   },
   {
    "duration": 44,
    "start_time": "2022-03-28T07:15:06.003Z"
   },
   {
    "duration": 4,
    "start_time": "2022-03-28T07:15:10.532Z"
   },
   {
    "duration": 19,
    "start_time": "2022-03-28T07:17:38.291Z"
   },
   {
    "duration": 31,
    "start_time": "2022-03-28T07:17:59.122Z"
   },
   {
    "duration": 539,
    "start_time": "2022-03-28T07:18:02.231Z"
   },
   {
    "duration": 81,
    "start_time": "2022-03-28T07:19:17.030Z"
   },
   {
    "duration": 53,
    "start_time": "2022-03-28T08:23:30.812Z"
   },
   {
    "duration": 52,
    "start_time": "2022-03-28T08:33:25.455Z"
   },
   {
    "duration": 40,
    "start_time": "2022-03-28T08:33:55.052Z"
   },
   {
    "duration": 13,
    "start_time": "2022-03-28T08:38:32.157Z"
   },
   {
    "duration": 4,
    "start_time": "2022-03-28T08:40:06.166Z"
   },
   {
    "duration": 4,
    "start_time": "2022-03-28T08:40:29.687Z"
   },
   {
    "duration": 54,
    "start_time": "2022-03-28T08:40:36.802Z"
   },
   {
    "duration": 45,
    "start_time": "2022-03-28T08:47:22.146Z"
   },
   {
    "duration": 38,
    "start_time": "2022-03-28T08:47:42.062Z"
   },
   {
    "duration": 689,
    "start_time": "2022-03-28T08:47:58.563Z"
   },
   {
    "duration": 49662,
    "start_time": "2022-03-28T08:49:06.790Z"
   },
   {
    "duration": 377,
    "start_time": "2022-03-28T08:49:56.462Z"
   },
   {
    "duration": 42738,
    "start_time": "2022-03-28T08:49:58.770Z"
   },
   {
    "duration": 4,
    "start_time": "2022-03-28T08:53:52.054Z"
   },
   {
    "duration": 41,
    "start_time": "2022-03-28T08:53:53.588Z"
   },
   {
    "duration": 513,
    "start_time": "2022-03-28T08:54:11.612Z"
   },
   {
    "duration": 14,
    "start_time": "2022-03-28T08:54:26.593Z"
   },
   {
    "duration": 4,
    "start_time": "2022-03-28T08:54:34.628Z"
   },
   {
    "duration": 40,
    "start_time": "2022-03-28T08:54:36.080Z"
   },
   {
    "duration": 39,
    "start_time": "2022-03-28T08:54:45.947Z"
   },
   {
    "duration": 5,
    "start_time": "2022-03-28T08:54:56.120Z"
   },
   {
    "duration": 2416,
    "start_time": "2022-03-28T13:22:11.960Z"
   },
   {
    "duration": 77,
    "start_time": "2022-03-28T13:22:14.379Z"
   },
   {
    "duration": 6,
    "start_time": "2022-03-28T13:22:14.458Z"
   },
   {
    "duration": 195,
    "start_time": "2022-03-28T13:22:14.466Z"
   },
   {
    "duration": 0,
    "start_time": "2022-03-28T13:22:14.663Z"
   },
   {
    "duration": 0,
    "start_time": "2022-03-28T13:22:14.665Z"
   },
   {
    "duration": 74,
    "start_time": "2022-03-28T13:23:32.048Z"
   },
   {
    "duration": 62,
    "start_time": "2022-03-28T13:23:51.254Z"
   },
   {
    "duration": 59,
    "start_time": "2022-03-28T13:24:06.534Z"
   },
   {
    "duration": 6,
    "start_time": "2022-03-28T13:27:08.228Z"
   },
   {
    "duration": 71,
    "start_time": "2022-03-28T13:27:09.372Z"
   },
   {
    "duration": 6,
    "start_time": "2022-03-28T13:27:13.514Z"
   },
   {
    "duration": 25,
    "start_time": "2022-03-28T13:27:39.896Z"
   },
   {
    "duration": 902,
    "start_time": "2022-03-28T13:28:12.204Z"
   },
   {
    "duration": 937,
    "start_time": "2022-03-28T13:28:26.089Z"
   },
   {
    "duration": 8,
    "start_time": "2022-03-28T13:29:18.446Z"
   },
   {
    "duration": 214,
    "start_time": "2022-03-28T13:30:58.391Z"
   },
   {
    "duration": 21,
    "start_time": "2022-03-28T13:33:41.767Z"
   },
   {
    "duration": 2140,
    "start_time": "2022-03-28T13:34:08.751Z"
   },
   {
    "duration": 139,
    "start_time": "2022-03-28T13:34:10.895Z"
   },
   {
    "duration": 6,
    "start_time": "2022-03-28T13:34:11.036Z"
   },
   {
    "duration": 15,
    "start_time": "2022-03-28T13:34:11.045Z"
   },
   {
    "duration": 22,
    "start_time": "2022-03-28T13:34:11.062Z"
   },
   {
    "duration": 631,
    "start_time": "2022-03-28T13:34:11.086Z"
   },
   {
    "duration": 196,
    "start_time": "2022-03-28T13:34:11.719Z"
   },
   {
    "duration": 116,
    "start_time": "2022-03-28T13:34:29.741Z"
   },
   {
    "duration": 69,
    "start_time": "2022-03-28T13:34:42.493Z"
   },
   {
    "duration": 117,
    "start_time": "2022-03-28T13:34:48.147Z"
   },
   {
    "duration": 118,
    "start_time": "2022-03-28T13:36:04.245Z"
   },
   {
    "duration": 73,
    "start_time": "2022-03-28T13:36:33.057Z"
   },
   {
    "duration": 119,
    "start_time": "2022-03-28T13:37:15.990Z"
   },
   {
    "duration": 2141,
    "start_time": "2022-03-28T13:37:34.448Z"
   },
   {
    "duration": 136,
    "start_time": "2022-03-28T13:37:36.592Z"
   },
   {
    "duration": 6,
    "start_time": "2022-03-28T13:37:36.730Z"
   },
   {
    "duration": 9,
    "start_time": "2022-03-28T13:37:36.739Z"
   },
   {
    "duration": 7,
    "start_time": "2022-03-28T13:37:36.750Z"
   },
   {
    "duration": 680,
    "start_time": "2022-03-28T13:37:36.759Z"
   },
   {
    "duration": 184,
    "start_time": "2022-03-28T13:37:37.441Z"
   },
   {
    "duration": 18,
    "start_time": "2022-03-28T13:38:13.733Z"
   },
   {
    "duration": 15,
    "start_time": "2022-03-28T13:39:13.225Z"
   },
   {
    "duration": 16,
    "start_time": "2022-03-28T13:39:21.878Z"
   },
   {
    "duration": 558,
    "start_time": "2022-03-28T13:39:57.375Z"
   },
   {
    "duration": 666,
    "start_time": "2022-03-28T13:40:02.949Z"
   },
   {
    "duration": 19,
    "start_time": "2022-03-28T13:40:28.752Z"
   },
   {
    "duration": 21363,
    "start_time": "2022-03-28T13:40:46.550Z"
   },
   {
    "duration": 35224,
    "start_time": "2022-03-28T13:41:28.215Z"
   },
   {
    "duration": 4,
    "start_time": "2022-03-28T13:42:03.441Z"
   },
   {
    "duration": 2504,
    "start_time": "2022-03-28T13:43:03.375Z"
   },
   {
    "duration": 207,
    "start_time": "2022-03-28T13:43:05.884Z"
   },
   {
    "duration": 8,
    "start_time": "2022-03-28T13:43:06.094Z"
   },
   {
    "duration": 14,
    "start_time": "2022-03-28T13:43:06.107Z"
   },
   {
    "duration": 18,
    "start_time": "2022-03-28T13:43:06.124Z"
   },
   {
    "duration": 46,
    "start_time": "2022-03-28T13:43:06.145Z"
   },
   {
    "duration": 30822,
    "start_time": "2022-03-28T13:43:06.193Z"
   },
   {
    "duration": 4,
    "start_time": "2022-03-28T13:43:37.018Z"
   },
   {
    "duration": 410,
    "start_time": "2022-03-28T13:43:47.711Z"
   },
   {
    "duration": 1410,
    "start_time": "2022-03-28T13:45:04.678Z"
   },
   {
    "duration": 1347,
    "start_time": "2022-03-28T13:45:20.614Z"
   },
   {
    "duration": 32945,
    "start_time": "2022-03-28T13:45:59.155Z"
   },
   {
    "duration": 977,
    "start_time": "2022-03-28T13:47:24.994Z"
   },
   {
    "duration": 568,
    "start_time": "2022-03-28T13:49:06.526Z"
   },
   {
    "duration": 682,
    "start_time": "2022-03-28T13:49:34.512Z"
   },
   {
    "duration": 15,
    "start_time": "2022-03-28T13:50:57.093Z"
   },
   {
    "duration": 1026,
    "start_time": "2022-03-28T13:51:04.813Z"
   },
   {
    "duration": 1013,
    "start_time": "2022-03-28T13:51:26.152Z"
   },
   {
    "duration": 1042,
    "start_time": "2022-03-28T13:54:52.313Z"
   },
   {
    "duration": 1002,
    "start_time": "2022-03-28T13:55:40.360Z"
   },
   {
    "duration": 123,
    "start_time": "2022-03-28T13:56:17.192Z"
   },
   {
    "duration": 1128,
    "start_time": "2022-03-28T13:56:29.423Z"
   },
   {
    "duration": 997,
    "start_time": "2022-03-28T13:57:24.937Z"
   },
   {
    "duration": 5,
    "start_time": "2022-03-28T13:58:07.291Z"
   },
   {
    "duration": 2071,
    "start_time": "2022-03-28T13:58:16.663Z"
   },
   {
    "duration": 126,
    "start_time": "2022-03-28T13:58:18.737Z"
   },
   {
    "duration": 24,
    "start_time": "2022-03-28T13:58:18.866Z"
   },
   {
    "duration": 14,
    "start_time": "2022-03-28T13:58:18.894Z"
   },
   {
    "duration": 12,
    "start_time": "2022-03-28T13:58:18.911Z"
   },
   {
    "duration": 22,
    "start_time": "2022-03-28T13:58:18.925Z"
   },
   {
    "duration": 1008,
    "start_time": "2022-03-28T13:58:18.949Z"
   },
   {
    "duration": 996,
    "start_time": "2022-03-28T13:58:19.959Z"
   },
   {
    "duration": 1071,
    "start_time": "2022-03-28T14:00:12.261Z"
   },
   {
    "duration": 1157,
    "start_time": "2022-03-28T14:00:51.173Z"
   },
   {
    "duration": 26,
    "start_time": "2022-03-28T14:01:11.221Z"
   },
   {
    "duration": 103,
    "start_time": "2022-03-28T14:02:42.008Z"
   },
   {
    "duration": 54,
    "start_time": "2022-03-28T14:03:04.248Z"
   },
   {
    "duration": 46,
    "start_time": "2022-03-28T14:03:11.801Z"
   },
   {
    "duration": 39,
    "start_time": "2022-03-28T14:04:10.279Z"
   },
   {
    "duration": 889,
    "start_time": "2022-03-28T14:05:36.314Z"
   },
   {
    "duration": 39,
    "start_time": "2022-03-28T14:06:15.102Z"
   },
   {
    "duration": 56,
    "start_time": "2022-03-28T14:06:38.860Z"
   },
   {
    "duration": 38,
    "start_time": "2022-03-28T14:07:02.757Z"
   },
   {
    "duration": 350,
    "start_time": "2022-03-28T14:07:34.775Z"
   },
   {
    "duration": 86,
    "start_time": "2022-03-28T14:08:30.382Z"
   },
   {
    "duration": 136,
    "start_time": "2022-03-28T14:08:38.549Z"
   },
   {
    "duration": 18,
    "start_time": "2022-03-28T14:09:11.164Z"
   },
   {
    "duration": 190,
    "start_time": "2022-03-28T14:10:30.094Z"
   },
   {
    "duration": 192,
    "start_time": "2022-03-28T14:11:51.851Z"
   },
   {
    "duration": 176,
    "start_time": "2022-03-28T14:13:14.423Z"
   },
   {
    "duration": 96,
    "start_time": "2022-03-28T14:13:27.734Z"
   },
   {
    "duration": 29,
    "start_time": "2022-03-28T14:16:53.009Z"
   },
   {
    "duration": 44,
    "start_time": "2022-03-28T14:17:38.977Z"
   },
   {
    "duration": 604,
    "start_time": "2022-03-28T14:18:36.622Z"
   },
   {
    "duration": 588,
    "start_time": "2022-03-28T14:18:47.011Z"
   },
   {
    "duration": 688,
    "start_time": "2022-03-28T14:18:55.959Z"
   },
   {
    "duration": 770,
    "start_time": "2022-03-28T14:19:45.160Z"
   },
   {
    "duration": 201,
    "start_time": "2022-03-28T14:20:22.110Z"
   },
   {
    "duration": 300,
    "start_time": "2022-03-28T14:20:54.025Z"
   },
   {
    "duration": 173,
    "start_time": "2022-03-28T14:21:22.124Z"
   },
   {
    "duration": 177,
    "start_time": "2022-03-28T14:21:26.725Z"
   },
   {
    "duration": 177,
    "start_time": "2022-03-28T14:21:41.258Z"
   },
   {
    "duration": 178,
    "start_time": "2022-03-28T14:21:50.226Z"
   },
   {
    "duration": 1819,
    "start_time": "2022-03-28T14:22:41.848Z"
   },
   {
    "duration": 1813,
    "start_time": "2022-03-28T14:22:52.111Z"
   },
   {
    "duration": 1932,
    "start_time": "2022-03-28T14:23:10.959Z"
   },
   {
    "duration": 1783,
    "start_time": "2022-03-28T14:23:17.009Z"
   },
   {
    "duration": 55,
    "start_time": "2022-03-28T14:23:23.096Z"
   },
   {
    "duration": 56,
    "start_time": "2022-03-28T14:23:30.338Z"
   },
   {
    "duration": 2226,
    "start_time": "2022-03-28T14:23:39.692Z"
   },
   {
    "duration": 132,
    "start_time": "2022-03-28T14:23:45.333Z"
   },
   {
    "duration": 62,
    "start_time": "2022-03-28T14:23:53.012Z"
   },
   {
    "duration": 1149,
    "start_time": "2022-03-28T14:24:02.763Z"
   },
   {
    "duration": 14,
    "start_time": "2022-03-28T14:24:38.401Z"
   },
   {
    "duration": 74,
    "start_time": "2022-03-28T14:25:19.801Z"
   },
   {
    "duration": 937,
    "start_time": "2022-03-28T14:26:33.210Z"
   },
   {
    "duration": 176,
    "start_time": "2022-03-28T14:26:38.643Z"
   },
   {
    "duration": 69,
    "start_time": "2022-03-28T14:27:02.532Z"
   },
   {
    "duration": 45,
    "start_time": "2022-03-28T14:27:35.536Z"
   },
   {
    "duration": 220,
    "start_time": "2022-03-28T14:27:39.939Z"
   },
   {
    "duration": 71,
    "start_time": "2022-03-28T14:27:50.573Z"
   },
   {
    "duration": 69,
    "start_time": "2022-03-28T14:28:38.109Z"
   },
   {
    "duration": 74,
    "start_time": "2022-03-28T14:29:20.153Z"
   },
   {
    "duration": 63,
    "start_time": "2022-03-28T14:29:29.085Z"
   },
   {
    "duration": 70,
    "start_time": "2022-03-28T14:42:50.113Z"
   },
   {
    "duration": 9,
    "start_time": "2022-03-28T14:43:08.502Z"
   },
   {
    "duration": 2374,
    "start_time": "2022-03-28T14:43:19.359Z"
   },
   {
    "duration": 57,
    "start_time": "2022-03-28T14:43:25.252Z"
   },
   {
    "duration": 182,
    "start_time": "2022-03-28T14:43:27.689Z"
   },
   {
    "duration": 71,
    "start_time": "2022-03-28T14:43:31.401Z"
   },
   {
    "duration": 65,
    "start_time": "2022-03-28T14:43:42.712Z"
   },
   {
    "duration": 126,
    "start_time": "2022-03-28T14:43:59.358Z"
   },
   {
    "duration": 225,
    "start_time": "2022-03-28T14:44:10.399Z"
   },
   {
    "duration": 63,
    "start_time": "2022-03-28T14:44:23.673Z"
   },
   {
    "duration": 170,
    "start_time": "2022-03-28T14:44:49.386Z"
   },
   {
    "duration": 178,
    "start_time": "2022-03-28T14:45:00.120Z"
   },
   {
    "duration": 162,
    "start_time": "2022-03-28T14:45:40.688Z"
   },
   {
    "duration": 176,
    "start_time": "2022-03-28T14:45:49.143Z"
   },
   {
    "duration": 127,
    "start_time": "2022-03-28T14:46:51.362Z"
   },
   {
    "duration": 54,
    "start_time": "2022-03-28T14:47:08.744Z"
   },
   {
    "duration": 68,
    "start_time": "2022-03-28T14:49:51.576Z"
   },
   {
    "duration": 129,
    "start_time": "2022-03-28T14:50:01.317Z"
   },
   {
    "duration": 77,
    "start_time": "2022-03-28T14:50:22.700Z"
   },
   {
    "duration": 17,
    "start_time": "2022-03-28T14:51:04.462Z"
   },
   {
    "duration": 24,
    "start_time": "2022-03-28T14:51:21.180Z"
   },
   {
    "duration": 71,
    "start_time": "2022-03-28T14:51:51.751Z"
   },
   {
    "duration": 75,
    "start_time": "2022-03-28T14:52:00.145Z"
   },
   {
    "duration": 74,
    "start_time": "2022-03-28T14:52:06.947Z"
   },
   {
    "duration": 8,
    "start_time": "2022-03-28T14:54:00.482Z"
   },
   {
    "duration": 13,
    "start_time": "2022-03-28T14:54:12.369Z"
   },
   {
    "duration": 88,
    "start_time": "2022-03-28T14:54:26.586Z"
   },
   {
    "duration": 14,
    "start_time": "2022-03-28T14:55:15.261Z"
   },
   {
    "duration": 66,
    "start_time": "2022-03-28T14:55:38.213Z"
   },
   {
    "duration": 49,
    "start_time": "2022-03-28T14:56:41.751Z"
   },
   {
    "duration": 49,
    "start_time": "2022-03-28T14:57:52.007Z"
   },
   {
    "duration": 79,
    "start_time": "2022-03-28T14:58:06.200Z"
   },
   {
    "duration": 66,
    "start_time": "2022-03-28T14:58:19.159Z"
   },
   {
    "duration": 65,
    "start_time": "2022-03-28T14:58:31.471Z"
   },
   {
    "duration": 80,
    "start_time": "2022-03-28T14:59:08.329Z"
   },
   {
    "duration": 77,
    "start_time": "2022-03-28T14:59:28.766Z"
   },
   {
    "duration": 8,
    "start_time": "2022-03-28T14:59:42.301Z"
   },
   {
    "duration": 20,
    "start_time": "2022-03-28T15:00:02.972Z"
   },
   {
    "duration": 25,
    "start_time": "2022-03-28T15:00:06.820Z"
   },
   {
    "duration": 72,
    "start_time": "2022-03-28T15:00:16.766Z"
   },
   {
    "duration": 4,
    "start_time": "2022-03-28T15:00:26.177Z"
   },
   {
    "duration": 70,
    "start_time": "2022-03-28T15:00:29.174Z"
   },
   {
    "duration": 17,
    "start_time": "2022-03-28T15:00:49.225Z"
   },
   {
    "duration": 75,
    "start_time": "2022-03-28T15:01:18.958Z"
   },
   {
    "duration": 75,
    "start_time": "2022-03-28T15:01:30.328Z"
   },
   {
    "duration": 88,
    "start_time": "2022-03-28T15:01:50.988Z"
   },
   {
    "duration": 91,
    "start_time": "2022-03-28T15:02:16.571Z"
   },
   {
    "duration": 88,
    "start_time": "2022-03-28T15:02:25.123Z"
   },
   {
    "duration": 87,
    "start_time": "2022-03-28T15:02:37.286Z"
   },
   {
    "duration": 82,
    "start_time": "2022-03-28T15:03:53.018Z"
   },
   {
    "duration": 102,
    "start_time": "2022-03-28T15:04:17.273Z"
   },
   {
    "duration": 89,
    "start_time": "2022-03-28T15:04:30.140Z"
   },
   {
    "duration": 100,
    "start_time": "2022-03-28T15:05:34.891Z"
   },
   {
    "duration": 20,
    "start_time": "2022-03-28T15:07:04.923Z"
   },
   {
    "duration": 89,
    "start_time": "2022-03-28T15:07:48.704Z"
   },
   {
    "duration": 16,
    "start_time": "2022-03-28T15:08:04.786Z"
   },
   {
    "duration": 13,
    "start_time": "2022-03-28T15:08:07.739Z"
   },
   {
    "duration": 12,
    "start_time": "2022-03-28T15:08:15.586Z"
   },
   {
    "duration": 6,
    "start_time": "2022-03-28T15:09:14.491Z"
   },
   {
    "duration": 44,
    "start_time": "2022-03-28T15:09:15.463Z"
   },
   {
    "duration": 93,
    "start_time": "2022-03-28T15:09:17.585Z"
   },
   {
    "duration": 19,
    "start_time": "2022-03-28T15:09:35.137Z"
   },
   {
    "duration": 28,
    "start_time": "2022-03-28T15:11:20.007Z"
   },
   {
    "duration": 13,
    "start_time": "2022-03-28T15:11:28.527Z"
   },
   {
    "duration": 17,
    "start_time": "2022-03-28T15:11:35.061Z"
   },
   {
    "duration": 46,
    "start_time": "2022-03-28T15:11:43.966Z"
   },
   {
    "duration": 17,
    "start_time": "2022-03-28T15:12:27.429Z"
   },
   {
    "duration": 64,
    "start_time": "2022-03-28T15:14:55.215Z"
   },
   {
    "duration": 26,
    "start_time": "2022-03-28T15:15:10.553Z"
   },
   {
    "duration": 5,
    "start_time": "2022-03-28T15:17:10.293Z"
   },
   {
    "duration": 146,
    "start_time": "2022-03-28T15:17:16.755Z"
   },
   {
    "duration": 1946,
    "start_time": "2022-03-28T15:18:58.796Z"
   },
   {
    "duration": 56,
    "start_time": "2022-03-28T15:19:00.744Z"
   },
   {
    "duration": 4,
    "start_time": "2022-03-28T15:19:00.803Z"
   },
   {
    "duration": 24,
    "start_time": "2022-03-28T15:19:00.810Z"
   },
   {
    "duration": 159,
    "start_time": "2022-03-28T15:19:00.837Z"
   },
   {
    "duration": 4,
    "start_time": "2022-03-28T15:19:00.999Z"
   },
   {
    "duration": 207,
    "start_time": "2022-03-28T15:19:01.006Z"
   },
   {
    "duration": 0,
    "start_time": "2022-03-28T15:19:01.216Z"
   },
   {
    "duration": 0,
    "start_time": "2022-03-28T15:19:01.218Z"
   },
   {
    "duration": 52,
    "start_time": "2022-03-28T15:19:37.970Z"
   },
   {
    "duration": 1977,
    "start_time": "2022-03-28T15:19:59.627Z"
   },
   {
    "duration": 55,
    "start_time": "2022-03-28T15:20:01.606Z"
   },
   {
    "duration": 13,
    "start_time": "2022-03-28T15:20:01.664Z"
   },
   {
    "duration": 111,
    "start_time": "2022-03-28T15:20:01.680Z"
   },
   {
    "duration": 16,
    "start_time": "2022-03-28T15:20:01.793Z"
   },
   {
    "duration": 164,
    "start_time": "2022-03-28T15:20:01.812Z"
   },
   {
    "duration": 5,
    "start_time": "2022-03-28T15:20:01.978Z"
   },
   {
    "duration": 199,
    "start_time": "2022-03-28T15:20:01.985Z"
   },
   {
    "duration": 1,
    "start_time": "2022-03-28T15:20:02.186Z"
   },
   {
    "duration": 0,
    "start_time": "2022-03-28T15:20:02.188Z"
   },
   {
    "duration": 1670,
    "start_time": "2022-03-28T17:53:18.627Z"
   },
   {
    "duration": 48,
    "start_time": "2022-03-28T17:53:20.300Z"
   },
   {
    "duration": 4,
    "start_time": "2022-03-28T17:53:20.349Z"
   },
   {
    "duration": 65,
    "start_time": "2022-03-28T17:53:20.354Z"
   },
   {
    "duration": 4,
    "start_time": "2022-03-28T17:53:20.421Z"
   },
   {
    "duration": 22,
    "start_time": "2022-03-28T17:53:20.427Z"
   },
   {
    "duration": 137,
    "start_time": "2022-03-28T17:53:20.451Z"
   },
   {
    "duration": 0,
    "start_time": "2022-03-28T17:53:20.590Z"
   },
   {
    "duration": 0,
    "start_time": "2022-03-28T17:53:20.591Z"
   },
   {
    "duration": 1460,
    "start_time": "2022-03-28T17:53:33.052Z"
   },
   {
    "duration": 38,
    "start_time": "2022-03-28T17:53:34.514Z"
   },
   {
    "duration": 4,
    "start_time": "2022-03-28T17:53:34.553Z"
   },
   {
    "duration": 60,
    "start_time": "2022-03-28T17:53:34.559Z"
   },
   {
    "duration": 5,
    "start_time": "2022-03-28T17:53:34.637Z"
   },
   {
    "duration": 12,
    "start_time": "2022-03-28T17:53:34.644Z"
   },
   {
    "duration": 124,
    "start_time": "2022-03-28T17:53:34.658Z"
   },
   {
    "duration": 0,
    "start_time": "2022-03-28T17:53:34.784Z"
   },
   {
    "duration": 0,
    "start_time": "2022-03-28T17:53:34.785Z"
   },
   {
    "duration": 34,
    "start_time": "2022-03-28T17:53:44.885Z"
   },
   {
    "duration": 3,
    "start_time": "2022-03-28T17:53:49.450Z"
   },
   {
    "duration": 62,
    "start_time": "2022-03-28T17:54:00.050Z"
   },
   {
    "duration": 20,
    "start_time": "2022-03-28T17:55:41.281Z"
   },
   {
    "duration": 16,
    "start_time": "2022-03-28T17:55:50.099Z"
   },
   {
    "duration": 11,
    "start_time": "2022-03-28T17:56:06.310Z"
   },
   {
    "duration": 132,
    "start_time": "2022-03-28T18:00:31.385Z"
   },
   {
    "duration": 146,
    "start_time": "2022-03-28T18:05:32.410Z"
   },
   {
    "duration": 114,
    "start_time": "2022-03-28T18:05:48.197Z"
   },
   {
    "duration": 129,
    "start_time": "2022-03-28T18:06:02.995Z"
   },
   {
    "duration": 4,
    "start_time": "2022-03-28T18:08:51.031Z"
   },
   {
    "duration": 35,
    "start_time": "2022-03-28T18:08:52.425Z"
   },
   {
    "duration": 88,
    "start_time": "2022-03-28T18:08:55.699Z"
   },
   {
    "duration": 5,
    "start_time": "2022-03-28T18:08:58.482Z"
   },
   {
    "duration": 7,
    "start_time": "2022-03-28T18:09:07.565Z"
   },
   {
    "duration": 13,
    "start_time": "2022-03-28T18:09:17.301Z"
   },
   {
    "duration": 6,
    "start_time": "2022-03-28T18:10:13.179Z"
   },
   {
    "duration": 78,
    "start_time": "2022-03-28T18:10:32.291Z"
   },
   {
    "duration": 22,
    "start_time": "2022-03-28T18:10:56.254Z"
   },
   {
    "duration": 18,
    "start_time": "2022-03-28T18:11:32.435Z"
   },
   {
    "duration": 10,
    "start_time": "2022-03-28T18:11:38.419Z"
   },
   {
    "duration": 31,
    "start_time": "2022-03-28T18:13:26.817Z"
   },
   {
    "duration": 76,
    "start_time": "2022-03-28T18:15:52.790Z"
   },
   {
    "duration": 1484,
    "start_time": "2022-03-28T18:16:13.779Z"
   },
   {
    "duration": 42,
    "start_time": "2022-03-28T18:16:15.265Z"
   },
   {
    "duration": 77,
    "start_time": "2022-03-28T18:16:15.309Z"
   },
   {
    "duration": 4,
    "start_time": "2022-03-28T18:16:15.388Z"
   },
   {
    "duration": 31,
    "start_time": "2022-03-28T18:16:15.394Z"
   },
   {
    "duration": 44,
    "start_time": "2022-03-28T18:16:15.427Z"
   },
   {
    "duration": 29,
    "start_time": "2022-03-28T18:16:15.473Z"
   },
   {
    "duration": 101,
    "start_time": "2022-03-28T18:16:15.504Z"
   },
   {
    "duration": 48,
    "start_time": "2022-03-28T18:19:33.516Z"
   },
   {
    "duration": 3,
    "start_time": "2022-03-28T18:20:48.952Z"
   },
   {
    "duration": 81,
    "start_time": "2022-03-28T18:20:59.763Z"
   },
   {
    "duration": 119,
    "start_time": "2022-03-28T18:21:04.172Z"
   },
   {
    "duration": 1436,
    "start_time": "2022-03-28T18:21:10.297Z"
   },
   {
    "duration": 41,
    "start_time": "2022-03-28T18:21:11.735Z"
   },
   {
    "duration": 4,
    "start_time": "2022-03-28T18:21:11.777Z"
   },
   {
    "duration": 99,
    "start_time": "2022-03-28T18:21:11.783Z"
   },
   {
    "duration": 5,
    "start_time": "2022-03-28T18:21:11.884Z"
   },
   {
    "duration": 20,
    "start_time": "2022-03-28T18:21:11.890Z"
   },
   {
    "duration": 31,
    "start_time": "2022-03-28T18:21:11.911Z"
   },
   {
    "duration": 8,
    "start_time": "2022-03-28T18:21:11.944Z"
   },
   {
    "duration": 84,
    "start_time": "2022-03-28T18:21:11.954Z"
   },
   {
    "duration": 51,
    "start_time": "2022-03-28T18:21:12.040Z"
   },
   {
    "duration": 59,
    "start_time": "2022-03-28T18:21:55.852Z"
   },
   {
    "duration": 1816,
    "start_time": "2022-04-09T12:42:55.469Z"
   },
   {
    "duration": 4,
    "start_time": "2022-04-09T12:47:14.512Z"
   },
   {
    "duration": 49,
    "start_time": "2022-04-09T12:47:19.456Z"
   },
   {
    "duration": 37,
    "start_time": "2022-04-09T12:47:55.426Z"
   },
   {
    "duration": 38,
    "start_time": "2022-04-09T12:48:06.780Z"
   },
   {
    "duration": 39,
    "start_time": "2022-04-09T12:48:19.018Z"
   },
   {
    "duration": 36,
    "start_time": "2022-04-09T12:48:53.402Z"
   },
   {
    "duration": 1539,
    "start_time": "2022-04-09T13:13:25.456Z"
   },
   {
    "duration": 113,
    "start_time": "2022-04-09T13:13:26.997Z"
   },
   {
    "duration": 0,
    "start_time": "2022-04-09T13:13:27.112Z"
   },
   {
    "duration": 0,
    "start_time": "2022-04-09T13:13:27.113Z"
   },
   {
    "duration": 0,
    "start_time": "2022-04-09T13:13:27.114Z"
   },
   {
    "duration": 0,
    "start_time": "2022-04-09T13:13:27.115Z"
   },
   {
    "duration": 0,
    "start_time": "2022-04-09T13:13:27.116Z"
   },
   {
    "duration": 0,
    "start_time": "2022-04-09T13:13:27.132Z"
   },
   {
    "duration": 0,
    "start_time": "2022-04-09T13:13:27.133Z"
   },
   {
    "duration": 0,
    "start_time": "2022-04-09T13:13:27.134Z"
   },
   {
    "duration": 1582,
    "start_time": "2022-04-09T13:13:48.441Z"
   },
   {
    "duration": 48,
    "start_time": "2022-04-09T13:13:50.026Z"
   },
   {
    "duration": 4,
    "start_time": "2022-04-09T13:13:50.076Z"
   },
   {
    "duration": 91,
    "start_time": "2022-04-09T13:13:50.082Z"
   },
   {
    "duration": 137,
    "start_time": "2022-04-09T13:13:50.175Z"
   },
   {
    "duration": 0,
    "start_time": "2022-04-09T13:13:50.314Z"
   },
   {
    "duration": 0,
    "start_time": "2022-04-09T13:13:50.315Z"
   },
   {
    "duration": 0,
    "start_time": "2022-04-09T13:13:50.316Z"
   },
   {
    "duration": 0,
    "start_time": "2022-04-09T13:13:50.317Z"
   },
   {
    "duration": 38,
    "start_time": "2022-04-09T13:14:11.265Z"
   },
   {
    "duration": 42,
    "start_time": "2022-04-09T13:14:18.450Z"
   },
   {
    "duration": 5,
    "start_time": "2022-04-09T13:15:58.407Z"
   },
   {
    "duration": 7,
    "start_time": "2022-04-09T13:16:10.549Z"
   },
   {
    "duration": 15,
    "start_time": "2022-04-09T13:16:14.684Z"
   },
   {
    "duration": 5,
    "start_time": "2022-04-09T13:16:36.320Z"
   },
   {
    "duration": 74,
    "start_time": "2022-04-09T13:16:44.495Z"
   },
   {
    "duration": 1893,
    "start_time": "2022-04-10T13:44:38.220Z"
   },
   {
    "duration": 68,
    "start_time": "2022-04-10T13:44:44.183Z"
   },
   {
    "duration": 4,
    "start_time": "2022-04-10T13:44:47.709Z"
   },
   {
    "duration": 69,
    "start_time": "2022-04-10T13:44:55.211Z"
   },
   {
    "duration": 116,
    "start_time": "2022-04-10T13:48:37.739Z"
   },
   {
    "duration": 3098,
    "start_time": "2022-04-10T13:48:43.927Z"
   },
   {
    "duration": 11,
    "start_time": "2022-04-10T13:48:55.515Z"
   },
   {
    "duration": 23,
    "start_time": "2022-04-10T13:49:45.603Z"
   },
   {
    "duration": 59,
    "start_time": "2022-04-10T13:49:49.871Z"
   },
   {
    "duration": 62,
    "start_time": "2022-04-10T13:51:04.858Z"
   },
   {
    "duration": 4,
    "start_time": "2022-04-10T13:51:38.649Z"
   },
   {
    "duration": 41,
    "start_time": "2022-04-10T13:51:41.951Z"
   },
   {
    "duration": 3,
    "start_time": "2022-04-10T13:51:43.732Z"
   },
   {
    "duration": 65,
    "start_time": "2022-04-10T13:51:44.238Z"
   },
   {
    "duration": 5,
    "start_time": "2022-04-10T13:51:47.318Z"
   },
   {
    "duration": 6,
    "start_time": "2022-04-10T13:51:48.449Z"
   },
   {
    "duration": 13,
    "start_time": "2022-04-10T13:51:51.728Z"
   },
   {
    "duration": 5,
    "start_time": "2022-04-10T13:51:53.629Z"
   },
   {
    "duration": 82,
    "start_time": "2022-04-10T13:51:56.468Z"
   },
   {
    "duration": 135,
    "start_time": "2022-04-10T13:56:17.967Z"
   },
   {
    "duration": 128,
    "start_time": "2022-04-10T13:56:44.914Z"
   },
   {
    "duration": 16,
    "start_time": "2022-04-10T14:00:19.491Z"
   },
   {
    "duration": 5635,
    "start_time": "2022-04-10T14:00:45.343Z"
   },
   {
    "duration": 273,
    "start_time": "2022-04-10T14:02:15.603Z"
   },
   {
    "duration": 36,
    "start_time": "2022-04-10T14:02:43.471Z"
   },
   {
    "duration": 4,
    "start_time": "2022-04-10T14:04:43.029Z"
   },
   {
    "duration": 85,
    "start_time": "2022-04-10T14:04:45.533Z"
   },
   {
    "duration": 4930,
    "start_time": "2022-04-10T14:22:42.864Z"
   },
   {
    "duration": 18,
    "start_time": "2022-04-10T14:23:09.938Z"
   },
   {
    "duration": 176,
    "start_time": "2022-04-10T14:24:09.202Z"
   },
   {
    "duration": 3,
    "start_time": "2022-04-10T14:25:33.352Z"
   },
   {
    "duration": 117,
    "start_time": "2022-04-10T14:25:33.830Z"
   },
   {
    "duration": 119,
    "start_time": "2022-04-10T14:25:37.775Z"
   },
   {
    "duration": 3095,
    "start_time": "2022-04-10T14:25:46.384Z"
   },
   {
    "duration": 3,
    "start_time": "2022-04-10T14:26:05.522Z"
   },
   {
    "duration": 154,
    "start_time": "2022-04-10T14:26:10.083Z"
   },
   {
    "duration": 164,
    "start_time": "2022-04-10T14:26:48.783Z"
   },
   {
    "duration": 120,
    "start_time": "2022-04-10T14:27:03.789Z"
   },
   {
    "duration": 151,
    "start_time": "2022-04-10T14:27:23.966Z"
   },
   {
    "duration": 3,
    "start_time": "2022-04-10T14:27:53.225Z"
   },
   {
    "duration": 12,
    "start_time": "2022-04-10T14:27:59.937Z"
   },
   {
    "duration": 128,
    "start_time": "2022-04-10T14:28:17.033Z"
   },
   {
    "duration": 6,
    "start_time": "2022-04-10T14:31:18.706Z"
   },
   {
    "duration": 13,
    "start_time": "2022-04-10T14:31:34.310Z"
   },
   {
    "duration": 3,
    "start_time": "2022-04-10T14:32:49.696Z"
   },
   {
    "duration": 10,
    "start_time": "2022-04-10T14:32:50.148Z"
   },
   {
    "duration": 10,
    "start_time": "2022-04-10T14:33:06.581Z"
   },
   {
    "duration": 30,
    "start_time": "2022-04-10T14:36:11.646Z"
   },
   {
    "duration": 31,
    "start_time": "2022-04-10T14:36:27.687Z"
   },
   {
    "duration": 133,
    "start_time": "2022-04-10T14:50:12.276Z"
   },
   {
    "duration": 43,
    "start_time": "2022-04-10T14:50:31.316Z"
   },
   {
    "duration": 41,
    "start_time": "2022-04-10T14:50:43.915Z"
   },
   {
    "duration": 29,
    "start_time": "2022-04-10T14:53:51.756Z"
   },
   {
    "duration": 27,
    "start_time": "2022-04-10T14:54:03.719Z"
   },
   {
    "duration": 3,
    "start_time": "2022-04-10T15:00:06.380Z"
   },
   {
    "duration": 12,
    "start_time": "2022-04-10T15:00:06.776Z"
   },
   {
    "duration": 34,
    "start_time": "2022-04-10T15:00:18.865Z"
   },
   {
    "duration": 3,
    "start_time": "2022-04-10T15:01:20.920Z"
   },
   {
    "duration": 16,
    "start_time": "2022-04-10T15:01:21.438Z"
   },
   {
    "duration": 3,
    "start_time": "2022-04-10T15:01:31.863Z"
   },
   {
    "duration": 11,
    "start_time": "2022-04-10T15:01:32.316Z"
   },
   {
    "duration": 20,
    "start_time": "2022-04-10T15:02:39.078Z"
   },
   {
    "duration": 3,
    "start_time": "2022-04-10T15:03:46.824Z"
   },
   {
    "duration": 11,
    "start_time": "2022-04-10T15:03:47.423Z"
   },
   {
    "duration": 9,
    "start_time": "2022-04-10T15:04:38.738Z"
   },
   {
    "duration": 6,
    "start_time": "2022-04-10T15:04:44.919Z"
   },
   {
    "duration": 8,
    "start_time": "2022-04-10T15:04:50.286Z"
   },
   {
    "duration": 12,
    "start_time": "2022-04-10T15:05:00.088Z"
   },
   {
    "duration": 4,
    "start_time": "2022-04-10T15:05:04.755Z"
   },
   {
    "duration": 3,
    "start_time": "2022-04-10T15:05:12.762Z"
   },
   {
    "duration": 12,
    "start_time": "2022-04-10T15:05:14.664Z"
   },
   {
    "duration": 4,
    "start_time": "2022-04-10T15:08:20.510Z"
   },
   {
    "duration": 4,
    "start_time": "2022-04-10T15:08:21.521Z"
   },
   {
    "duration": 10,
    "start_time": "2022-04-10T15:08:23.163Z"
   },
   {
    "duration": 31,
    "start_time": "2022-04-10T15:09:08.941Z"
   },
   {
    "duration": 44,
    "start_time": "2022-04-10T15:13:40.550Z"
   },
   {
    "duration": 81,
    "start_time": "2022-04-10T15:14:02.054Z"
   },
   {
    "duration": 45,
    "start_time": "2022-04-10T15:15:22.585Z"
   },
   {
    "duration": 37,
    "start_time": "2022-04-10T15:16:17.942Z"
   },
   {
    "duration": 23,
    "start_time": "2022-04-10T15:17:02.294Z"
   },
   {
    "duration": 17,
    "start_time": "2022-04-10T15:17:46.529Z"
   },
   {
    "duration": 9,
    "start_time": "2022-04-10T15:18:00.923Z"
   },
   {
    "duration": 33,
    "start_time": "2022-04-10T15:18:50.703Z"
   },
   {
    "duration": 31,
    "start_time": "2022-04-10T15:19:46.964Z"
   },
   {
    "duration": 161,
    "start_time": "2022-04-10T15:20:41.613Z"
   },
   {
    "duration": 195,
    "start_time": "2022-04-10T15:20:52.112Z"
   },
   {
    "duration": 176,
    "start_time": "2022-04-10T15:23:09.737Z"
   },
   {
    "duration": 133,
    "start_time": "2022-04-10T15:23:26.750Z"
   },
   {
    "duration": 138,
    "start_time": "2022-04-10T15:24:15.177Z"
   },
   {
    "duration": 4,
    "start_time": "2022-04-10T15:24:46.417Z"
   },
   {
    "duration": 82,
    "start_time": "2022-04-10T15:24:49.849Z"
   },
   {
    "duration": 113,
    "start_time": "2022-04-10T15:25:00.985Z"
   },
   {
    "duration": 5,
    "start_time": "2022-04-10T15:25:32.215Z"
   },
   {
    "duration": 87,
    "start_time": "2022-04-10T15:25:33.260Z"
   },
   {
    "duration": 81,
    "start_time": "2022-04-10T15:26:22.760Z"
   },
   {
    "duration": 83,
    "start_time": "2022-04-10T15:26:45.259Z"
   },
   {
    "duration": 4,
    "start_time": "2022-04-10T15:27:24.449Z"
   },
   {
    "duration": 76,
    "start_time": "2022-04-10T15:27:25.384Z"
   },
   {
    "duration": 3,
    "start_time": "2022-04-10T15:27:31.734Z"
   },
   {
    "duration": 81,
    "start_time": "2022-04-10T15:27:32.725Z"
   },
   {
    "duration": 143,
    "start_time": "2022-04-10T15:27:53.143Z"
   },
   {
    "duration": 200,
    "start_time": "2022-04-10T15:30:16.219Z"
   },
   {
    "duration": 132,
    "start_time": "2022-04-10T15:30:23.061Z"
   },
   {
    "duration": 184,
    "start_time": "2022-04-10T15:30:34.907Z"
   },
   {
    "duration": 168,
    "start_time": "2022-04-10T15:30:39.539Z"
   },
   {
    "duration": 207,
    "start_time": "2022-04-10T15:30:46.881Z"
   },
   {
    "duration": 151,
    "start_time": "2022-04-10T15:31:16.734Z"
   },
   {
    "duration": 139,
    "start_time": "2022-04-10T15:31:24.076Z"
   },
   {
    "duration": 147,
    "start_time": "2022-04-10T15:31:32.344Z"
   },
   {
    "duration": 5,
    "start_time": "2022-04-10T15:33:51.894Z"
   },
   {
    "duration": 87,
    "start_time": "2022-04-10T15:33:52.409Z"
   },
   {
    "duration": 12,
    "start_time": "2022-04-10T15:33:59.324Z"
   },
   {
    "duration": 1839,
    "start_time": "2022-04-10T15:34:07.002Z"
   },
   {
    "duration": 50,
    "start_time": "2022-04-10T15:34:08.843Z"
   },
   {
    "duration": 8,
    "start_time": "2022-04-10T15:34:08.895Z"
   },
   {
    "duration": 84,
    "start_time": "2022-04-10T15:34:08.906Z"
   },
   {
    "duration": 10,
    "start_time": "2022-04-10T15:34:09.002Z"
   },
   {
    "duration": 16,
    "start_time": "2022-04-10T15:34:09.014Z"
   },
   {
    "duration": 18,
    "start_time": "2022-04-10T15:34:09.032Z"
   },
   {
    "duration": 6,
    "start_time": "2022-04-10T15:34:09.052Z"
   },
   {
    "duration": 91,
    "start_time": "2022-04-10T15:34:09.059Z"
   },
   {
    "duration": 169,
    "start_time": "2022-04-10T15:34:09.152Z"
   },
   {
    "duration": 17,
    "start_time": "2022-04-10T16:06:39.842Z"
   },
   {
    "duration": 10,
    "start_time": "2022-04-10T16:08:10.238Z"
   },
   {
    "duration": 37,
    "start_time": "2022-04-10T16:10:10.894Z"
   },
   {
    "duration": 43,
    "start_time": "2022-04-10T16:10:28.777Z"
   },
   {
    "duration": 53,
    "start_time": "2022-04-10T16:10:42.364Z"
   },
   {
    "duration": 43,
    "start_time": "2022-04-10T16:11:00.144Z"
   },
   {
    "duration": 38,
    "start_time": "2022-04-10T16:12:40.078Z"
   },
   {
    "duration": 2014,
    "start_time": "2022-04-10T16:13:29.043Z"
   },
   {
    "duration": 59,
    "start_time": "2022-04-10T16:13:31.060Z"
   },
   {
    "duration": 4,
    "start_time": "2022-04-10T16:13:31.121Z"
   },
   {
    "duration": 118,
    "start_time": "2022-04-10T16:13:31.128Z"
   },
   {
    "duration": 5,
    "start_time": "2022-04-10T16:13:31.248Z"
   },
   {
    "duration": 13,
    "start_time": "2022-04-10T16:13:31.256Z"
   },
   {
    "duration": 37,
    "start_time": "2022-04-10T16:13:31.271Z"
   },
   {
    "duration": 6,
    "start_time": "2022-04-10T16:13:31.310Z"
   },
   {
    "duration": 83,
    "start_time": "2022-04-10T16:13:31.318Z"
   },
   {
    "duration": 153,
    "start_time": "2022-04-10T16:13:31.404Z"
   },
   {
    "duration": 49,
    "start_time": "2022-04-10T16:13:31.559Z"
   },
   {
    "duration": 1622,
    "start_time": "2022-04-12T15:13:52.153Z"
   },
   {
    "duration": 64,
    "start_time": "2022-04-12T15:13:53.777Z"
   },
   {
    "duration": 4,
    "start_time": "2022-04-12T15:13:53.842Z"
   },
   {
    "duration": 72,
    "start_time": "2022-04-12T15:13:53.848Z"
   },
   {
    "duration": 4,
    "start_time": "2022-04-12T15:13:53.922Z"
   },
   {
    "duration": 10,
    "start_time": "2022-04-12T15:13:53.928Z"
   },
   {
    "duration": 12,
    "start_time": "2022-04-12T15:13:53.940Z"
   },
   {
    "duration": 5,
    "start_time": "2022-04-12T15:13:53.954Z"
   },
   {
    "duration": 65,
    "start_time": "2022-04-12T15:13:53.972Z"
   },
   {
    "duration": 157,
    "start_time": "2022-04-12T15:13:54.039Z"
   },
   {
    "duration": 31,
    "start_time": "2022-04-12T15:13:54.198Z"
   },
   {
    "duration": 49,
    "start_time": "2022-04-12T15:19:32.701Z"
   },
   {
    "duration": 125,
    "start_time": "2022-04-12T15:34:40.899Z"
   },
   {
    "duration": 147,
    "start_time": "2022-04-12T15:34:45.007Z"
   },
   {
    "duration": 46,
    "start_time": "2022-04-12T15:35:17.355Z"
   },
   {
    "duration": 150,
    "start_time": "2022-04-12T15:35:44.141Z"
   },
   {
    "duration": 146,
    "start_time": "2022-04-12T15:35:55.080Z"
   },
   {
    "duration": 231,
    "start_time": "2022-04-12T15:37:41.729Z"
   },
   {
    "duration": 152,
    "start_time": "2022-04-12T15:37:57.023Z"
   },
   {
    "duration": 4,
    "start_time": "2022-04-12T15:46:22.677Z"
   },
   {
    "duration": 14,
    "start_time": "2022-04-12T15:47:15.102Z"
   },
   {
    "duration": 14,
    "start_time": "2022-04-12T15:48:31.451Z"
   },
   {
    "duration": 12,
    "start_time": "2022-04-12T15:49:04.756Z"
   },
   {
    "duration": 7,
    "start_time": "2022-04-12T15:49:12.410Z"
   },
   {
    "duration": 4,
    "start_time": "2022-04-12T15:49:56.254Z"
   },
   {
    "duration": 21,
    "start_time": "2022-04-12T15:50:36.992Z"
   },
   {
    "duration": 6,
    "start_time": "2022-04-12T15:53:36.795Z"
   },
   {
    "duration": 13,
    "start_time": "2022-04-12T15:53:57.803Z"
   },
   {
    "duration": 10,
    "start_time": "2022-04-12T15:54:18.368Z"
   },
   {
    "duration": 9,
    "start_time": "2022-04-12T15:55:16.334Z"
   },
   {
    "duration": 10,
    "start_time": "2022-04-12T15:55:22.889Z"
   },
   {
    "duration": 1496,
    "start_time": "2022-04-12T15:55:30.846Z"
   },
   {
    "duration": 37,
    "start_time": "2022-04-12T15:55:32.344Z"
   },
   {
    "duration": 3,
    "start_time": "2022-04-12T15:55:32.383Z"
   },
   {
    "duration": 75,
    "start_time": "2022-04-12T15:55:32.388Z"
   },
   {
    "duration": 10,
    "start_time": "2022-04-12T15:55:32.464Z"
   },
   {
    "duration": 13,
    "start_time": "2022-04-12T15:55:32.476Z"
   },
   {
    "duration": 22,
    "start_time": "2022-04-12T15:55:32.491Z"
   },
   {
    "duration": 5,
    "start_time": "2022-04-12T15:55:32.514Z"
   },
   {
    "duration": 67,
    "start_time": "2022-04-12T15:55:32.521Z"
   },
   {
    "duration": 143,
    "start_time": "2022-04-12T15:55:32.591Z"
   },
   {
    "duration": 44,
    "start_time": "2022-04-12T15:55:32.736Z"
   },
   {
    "duration": 169,
    "start_time": "2022-04-12T15:55:32.782Z"
   },
   {
    "duration": 112,
    "start_time": "2022-04-12T15:55:32.953Z"
   },
   {
    "duration": 1462,
    "start_time": "2022-04-12T15:55:57.888Z"
   },
   {
    "duration": 38,
    "start_time": "2022-04-12T15:55:59.352Z"
   },
   {
    "duration": 4,
    "start_time": "2022-04-12T15:55:59.392Z"
   },
   {
    "duration": 82,
    "start_time": "2022-04-12T15:55:59.397Z"
   },
   {
    "duration": 4,
    "start_time": "2022-04-12T15:55:59.481Z"
   },
   {
    "duration": 14,
    "start_time": "2022-04-12T15:55:59.487Z"
   },
   {
    "duration": 14,
    "start_time": "2022-04-12T15:55:59.502Z"
   },
   {
    "duration": 5,
    "start_time": "2022-04-12T15:55:59.518Z"
   },
   {
    "duration": 78,
    "start_time": "2022-04-12T15:55:59.524Z"
   },
   {
    "duration": 158,
    "start_time": "2022-04-12T15:55:59.605Z"
   },
   {
    "duration": 38,
    "start_time": "2022-04-12T15:55:59.764Z"
   },
   {
    "duration": 188,
    "start_time": "2022-04-12T15:55:59.804Z"
   },
   {
    "duration": 10,
    "start_time": "2022-04-12T15:55:59.995Z"
   },
   {
    "duration": 108,
    "start_time": "2022-04-12T15:56:49.266Z"
   },
   {
    "duration": 15,
    "start_time": "2022-04-12T16:00:31.671Z"
   },
   {
    "duration": 1393,
    "start_time": "2022-04-12T16:06:43.927Z"
   },
   {
    "duration": 43,
    "start_time": "2022-04-12T16:06:45.322Z"
   },
   {
    "duration": 3,
    "start_time": "2022-04-12T16:06:45.367Z"
   },
   {
    "duration": 74,
    "start_time": "2022-04-12T16:06:45.372Z"
   },
   {
    "duration": 4,
    "start_time": "2022-04-12T16:06:45.448Z"
   },
   {
    "duration": 13,
    "start_time": "2022-04-12T16:06:45.453Z"
   },
   {
    "duration": 18,
    "start_time": "2022-04-12T16:06:45.467Z"
   },
   {
    "duration": 4,
    "start_time": "2022-04-12T16:06:45.486Z"
   },
   {
    "duration": 63,
    "start_time": "2022-04-12T16:06:45.492Z"
   },
   {
    "duration": 141,
    "start_time": "2022-04-12T16:06:45.575Z"
   },
   {
    "duration": 32,
    "start_time": "2022-04-12T16:06:45.718Z"
   },
   {
    "duration": 190,
    "start_time": "2022-04-12T16:06:45.752Z"
   },
   {
    "duration": 6,
    "start_time": "2022-04-12T16:06:45.944Z"
   },
   {
    "duration": 7,
    "start_time": "2022-04-12T16:06:56.974Z"
   },
   {
    "duration": 111,
    "start_time": "2022-04-12T16:07:52.726Z"
   },
   {
    "duration": 17,
    "start_time": "2022-04-12T16:08:15.589Z"
   },
   {
    "duration": 15,
    "start_time": "2022-04-12T16:12:49.107Z"
   },
   {
    "duration": 13,
    "start_time": "2022-04-12T16:12:59.793Z"
   },
   {
    "duration": 12,
    "start_time": "2022-04-12T16:14:05.175Z"
   },
   {
    "duration": 261,
    "start_time": "2022-04-12T16:15:25.643Z"
   },
   {
    "duration": 326,
    "start_time": "2022-04-12T16:16:24.601Z"
   },
   {
    "duration": 235,
    "start_time": "2022-04-12T16:16:31.180Z"
   },
   {
    "duration": 264,
    "start_time": "2022-04-12T16:18:40.742Z"
   },
   {
    "duration": 259,
    "start_time": "2022-04-12T16:18:48.645Z"
   },
   {
    "duration": 215,
    "start_time": "2022-04-12T16:19:45.301Z"
   },
   {
    "duration": 253,
    "start_time": "2022-04-12T16:22:12.222Z"
   },
   {
    "duration": 280,
    "start_time": "2022-04-12T16:22:20.720Z"
   },
   {
    "duration": 6,
    "start_time": "2022-04-12T16:24:47.516Z"
   },
   {
    "duration": 5,
    "start_time": "2022-04-12T16:25:42.641Z"
   },
   {
    "duration": 12,
    "start_time": "2022-04-12T16:25:56.793Z"
   },
   {
    "duration": 273,
    "start_time": "2022-04-12T16:29:55.013Z"
   },
   {
    "duration": 278,
    "start_time": "2022-04-12T16:30:09.157Z"
   },
   {
    "duration": 299,
    "start_time": "2022-04-12T16:30:27.945Z"
   },
   {
    "duration": 1482,
    "start_time": "2022-04-12T16:30:37.635Z"
   },
   {
    "duration": 60,
    "start_time": "2022-04-12T16:30:39.120Z"
   },
   {
    "duration": 7,
    "start_time": "2022-04-12T16:30:39.182Z"
   },
   {
    "duration": 89,
    "start_time": "2022-04-12T16:30:39.192Z"
   },
   {
    "duration": 7,
    "start_time": "2022-04-12T16:30:39.285Z"
   },
   {
    "duration": 9,
    "start_time": "2022-04-12T16:30:39.294Z"
   },
   {
    "duration": 13,
    "start_time": "2022-04-12T16:30:39.305Z"
   },
   {
    "duration": 4,
    "start_time": "2022-04-12T16:30:39.320Z"
   },
   {
    "duration": 93,
    "start_time": "2022-04-12T16:30:39.326Z"
   },
   {
    "duration": 178,
    "start_time": "2022-04-12T16:30:39.422Z"
   },
   {
    "duration": 35,
    "start_time": "2022-04-12T16:30:39.603Z"
   },
   {
    "duration": 203,
    "start_time": "2022-04-12T16:30:39.640Z"
   },
   {
    "duration": 128,
    "start_time": "2022-04-12T16:30:39.845Z"
   },
   {
    "duration": 0,
    "start_time": "2022-04-12T16:30:39.975Z"
   },
   {
    "duration": 235,
    "start_time": "2022-04-12T16:30:55.395Z"
   },
   {
    "duration": 334,
    "start_time": "2022-04-12T16:30:59.110Z"
   },
   {
    "duration": 225,
    "start_time": "2022-04-12T16:31:10.513Z"
   },
   {
    "duration": 307,
    "start_time": "2022-04-12T16:31:43.739Z"
   },
   {
    "duration": 1648,
    "start_time": "2022-04-13T06:38:53.285Z"
   },
   {
    "duration": 58,
    "start_time": "2022-04-13T06:38:54.936Z"
   },
   {
    "duration": 4,
    "start_time": "2022-04-13T06:38:54.995Z"
   },
   {
    "duration": 79,
    "start_time": "2022-04-13T06:38:55.001Z"
   },
   {
    "duration": 5,
    "start_time": "2022-04-13T06:38:55.081Z"
   },
   {
    "duration": 9,
    "start_time": "2022-04-13T06:38:55.088Z"
   },
   {
    "duration": 15,
    "start_time": "2022-04-13T06:38:55.099Z"
   },
   {
    "duration": 5,
    "start_time": "2022-04-13T06:38:55.115Z"
   },
   {
    "duration": 88,
    "start_time": "2022-04-13T06:38:55.121Z"
   },
   {
    "duration": 143,
    "start_time": "2022-04-13T06:38:55.211Z"
   },
   {
    "duration": 31,
    "start_time": "2022-04-13T06:38:55.356Z"
   },
   {
    "duration": 173,
    "start_time": "2022-04-13T06:38:55.389Z"
   },
   {
    "duration": 373,
    "start_time": "2022-04-13T06:38:55.564Z"
   },
   {
    "duration": 6,
    "start_time": "2022-04-13T06:39:09.033Z"
   },
   {
    "duration": 6,
    "start_time": "2022-04-13T06:39:19.568Z"
   },
   {
    "duration": 6,
    "start_time": "2022-04-13T06:40:18.279Z"
   },
   {
    "duration": 113,
    "start_time": "2022-04-13T06:41:01.209Z"
   },
   {
    "duration": 9,
    "start_time": "2022-04-13T06:41:12.923Z"
   },
   {
    "duration": 16,
    "start_time": "2022-04-13T06:43:36.257Z"
   },
   {
    "duration": 12,
    "start_time": "2022-04-13T06:43:47.549Z"
   },
   {
    "duration": 13,
    "start_time": "2022-04-13T07:45:26.659Z"
   },
   {
    "duration": 1503,
    "start_time": "2022-04-13T07:45:55.256Z"
   },
   {
    "duration": 39,
    "start_time": "2022-04-13T07:45:56.760Z"
   },
   {
    "duration": 4,
    "start_time": "2022-04-13T07:45:56.800Z"
   },
   {
    "duration": 77,
    "start_time": "2022-04-13T07:45:56.806Z"
   },
   {
    "duration": 4,
    "start_time": "2022-04-13T07:45:56.884Z"
   },
   {
    "duration": 16,
    "start_time": "2022-04-13T07:45:56.890Z"
   },
   {
    "duration": 22,
    "start_time": "2022-04-13T07:45:56.907Z"
   },
   {
    "duration": 6,
    "start_time": "2022-04-13T07:45:56.931Z"
   },
   {
    "duration": 72,
    "start_time": "2022-04-13T07:45:56.938Z"
   },
   {
    "duration": 135,
    "start_time": "2022-04-13T07:45:57.014Z"
   },
   {
    "duration": 31,
    "start_time": "2022-04-13T07:45:57.155Z"
   },
   {
    "duration": 174,
    "start_time": "2022-04-13T07:45:57.188Z"
   },
   {
    "duration": 240,
    "start_time": "2022-04-13T07:45:57.364Z"
   },
   {
    "duration": 115,
    "start_time": "2022-04-13T07:45:57.606Z"
   },
   {
    "duration": 11,
    "start_time": "2022-04-13T07:46:23.318Z"
   },
   {
    "duration": 20,
    "start_time": "2022-04-13T07:47:07.382Z"
   },
   {
    "duration": 11,
    "start_time": "2022-04-13T07:47:33.653Z"
   },
   {
    "duration": 358,
    "start_time": "2022-04-13T07:47:34.552Z"
   },
   {
    "duration": 41,
    "start_time": "2022-04-13T07:48:18.015Z"
   },
   {
    "duration": 5,
    "start_time": "2022-04-13T07:54:22.794Z"
   },
   {
    "duration": 287,
    "start_time": "2022-04-13T07:55:34.470Z"
   },
   {
    "duration": 6,
    "start_time": "2022-04-13T07:56:38.806Z"
   },
   {
    "duration": 347,
    "start_time": "2022-04-13T07:56:40.822Z"
   },
   {
    "duration": 60,
    "start_time": "2022-04-13T13:10:47.377Z"
   },
   {
    "duration": 1778,
    "start_time": "2022-04-13T13:10:53.760Z"
   },
   {
    "duration": 50,
    "start_time": "2022-04-13T13:10:55.541Z"
   },
   {
    "duration": 5,
    "start_time": "2022-04-13T13:10:55.592Z"
   },
   {
    "duration": 99,
    "start_time": "2022-04-13T13:10:55.599Z"
   },
   {
    "duration": 4,
    "start_time": "2022-04-13T13:10:55.700Z"
   },
   {
    "duration": 10,
    "start_time": "2022-04-13T13:10:55.706Z"
   },
   {
    "duration": 22,
    "start_time": "2022-04-13T13:10:55.718Z"
   },
   {
    "duration": 7,
    "start_time": "2022-04-13T13:10:55.744Z"
   },
   {
    "duration": 112,
    "start_time": "2022-04-13T13:10:55.753Z"
   },
   {
    "duration": 180,
    "start_time": "2022-04-13T13:10:55.867Z"
   },
   {
    "duration": 43,
    "start_time": "2022-04-13T13:10:56.048Z"
   },
   {
    "duration": 231,
    "start_time": "2022-04-13T13:10:56.094Z"
   },
   {
    "duration": 433,
    "start_time": "2022-04-13T13:10:56.327Z"
   },
   {
    "duration": 14,
    "start_time": "2022-04-13T13:10:56.762Z"
   },
   {
    "duration": 6,
    "start_time": "2022-04-13T13:10:56.778Z"
   },
   {
    "duration": 474,
    "start_time": "2022-04-13T13:10:56.786Z"
   },
   {
    "duration": 0,
    "start_time": "2022-04-13T13:10:57.262Z"
   },
   {
    "duration": 7,
    "start_time": "2022-04-13T13:12:44.455Z"
   },
   {
    "duration": 386,
    "start_time": "2022-04-13T13:12:46.250Z"
   },
   {
    "duration": 7,
    "start_time": "2022-04-13T13:13:09.761Z"
   },
   {
    "duration": 7,
    "start_time": "2022-04-13T13:14:13.792Z"
   },
   {
    "duration": 8,
    "start_time": "2022-04-13T13:14:38.872Z"
   },
   {
    "duration": 18,
    "start_time": "2022-04-13T13:14:46.299Z"
   },
   {
    "duration": 6,
    "start_time": "2022-04-13T13:14:55.245Z"
   },
   {
    "duration": 12,
    "start_time": "2022-04-13T13:14:56.037Z"
   },
   {
    "duration": 6,
    "start_time": "2022-04-13T13:15:16.203Z"
   },
   {
    "duration": 12,
    "start_time": "2022-04-13T13:15:16.654Z"
   },
   {
    "duration": 9,
    "start_time": "2022-04-13T13:15:46.094Z"
   },
   {
    "duration": 6,
    "start_time": "2022-04-13T13:15:46.617Z"
   },
   {
    "duration": 13,
    "start_time": "2022-04-13T13:15:49.372Z"
   },
   {
    "duration": 1581,
    "start_time": "2022-04-13T13:16:02.779Z"
   },
   {
    "duration": 49,
    "start_time": "2022-04-13T13:16:04.362Z"
   },
   {
    "duration": 4,
    "start_time": "2022-04-13T13:16:04.412Z"
   },
   {
    "duration": 95,
    "start_time": "2022-04-13T13:16:04.420Z"
   },
   {
    "duration": 6,
    "start_time": "2022-04-13T13:16:04.517Z"
   },
   {
    "duration": 9,
    "start_time": "2022-04-13T13:16:04.534Z"
   },
   {
    "duration": 20,
    "start_time": "2022-04-13T13:16:04.546Z"
   },
   {
    "duration": 8,
    "start_time": "2022-04-13T13:16:04.569Z"
   },
   {
    "duration": 106,
    "start_time": "2022-04-13T13:16:04.579Z"
   },
   {
    "duration": 182,
    "start_time": "2022-04-13T13:16:04.688Z"
   },
   {
    "duration": 38,
    "start_time": "2022-04-13T13:16:04.872Z"
   },
   {
    "duration": 244,
    "start_time": "2022-04-13T13:16:04.912Z"
   },
   {
    "duration": 6,
    "start_time": "2022-04-13T13:16:05.157Z"
   },
   {
    "duration": 136,
    "start_time": "2022-04-13T13:16:05.165Z"
   },
   {
    "duration": 0,
    "start_time": "2022-04-13T13:16:05.303Z"
   },
   {
    "duration": 0,
    "start_time": "2022-04-13T13:16:05.304Z"
   },
   {
    "duration": 0,
    "start_time": "2022-04-13T13:16:05.305Z"
   },
   {
    "duration": 0,
    "start_time": "2022-04-13T13:16:05.306Z"
   },
   {
    "duration": 16,
    "start_time": "2022-04-13T13:16:16.229Z"
   },
   {
    "duration": 1726,
    "start_time": "2022-04-13T13:16:51.338Z"
   },
   {
    "duration": 49,
    "start_time": "2022-04-13T13:16:53.067Z"
   },
   {
    "duration": 4,
    "start_time": "2022-04-13T13:16:53.118Z"
   },
   {
    "duration": 89,
    "start_time": "2022-04-13T13:16:53.124Z"
   },
   {
    "duration": 4,
    "start_time": "2022-04-13T13:16:53.215Z"
   },
   {
    "duration": 7,
    "start_time": "2022-04-13T13:16:53.233Z"
   },
   {
    "duration": 15,
    "start_time": "2022-04-13T13:16:53.242Z"
   },
   {
    "duration": 7,
    "start_time": "2022-04-13T13:16:53.258Z"
   },
   {
    "duration": 102,
    "start_time": "2022-04-13T13:16:53.267Z"
   },
   {
    "duration": 171,
    "start_time": "2022-04-13T13:16:53.373Z"
   },
   {
    "duration": 39,
    "start_time": "2022-04-13T13:16:53.546Z"
   },
   {
    "duration": 228,
    "start_time": "2022-04-13T13:16:53.587Z"
   },
   {
    "duration": 6,
    "start_time": "2022-04-13T13:16:53.818Z"
   },
   {
    "duration": 285,
    "start_time": "2022-04-13T13:16:53.833Z"
   },
   {
    "duration": 23,
    "start_time": "2022-04-13T13:16:54.121Z"
   },
   {
    "duration": 93,
    "start_time": "2022-04-13T13:16:54.146Z"
   },
   {
    "duration": 395,
    "start_time": "2022-04-13T13:16:54.241Z"
   },
   {
    "duration": 170,
    "start_time": "2022-04-13T13:16:54.638Z"
   },
   {
    "duration": 6,
    "start_time": "2022-04-13T13:18:33.921Z"
   },
   {
    "duration": 315,
    "start_time": "2022-04-13T13:18:34.591Z"
   },
   {
    "duration": 8,
    "start_time": "2022-04-13T13:19:14.492Z"
   },
   {
    "duration": 311,
    "start_time": "2022-04-13T13:19:14.935Z"
   },
   {
    "duration": 7,
    "start_time": "2022-04-13T13:20:19.354Z"
   },
   {
    "duration": 1052,
    "start_time": "2022-04-13T13:20:20.456Z"
   },
   {
    "duration": 6,
    "start_time": "2022-04-13T13:21:02.734Z"
   },
   {
    "duration": 310,
    "start_time": "2022-04-13T13:21:03.257Z"
   },
   {
    "duration": 6,
    "start_time": "2022-04-13T13:21:22.897Z"
   },
   {
    "duration": 291,
    "start_time": "2022-04-13T13:21:23.719Z"
   },
   {
    "duration": 5,
    "start_time": "2022-04-13T13:21:37.750Z"
   },
   {
    "duration": 306,
    "start_time": "2022-04-13T13:21:38.199Z"
   },
   {
    "duration": 155,
    "start_time": "2022-04-13T13:22:06.194Z"
   },
   {
    "duration": 305,
    "start_time": "2022-04-13T13:22:13.941Z"
   },
   {
    "duration": 1775,
    "start_time": "2022-04-13T16:14:43.841Z"
   },
   {
    "duration": 64,
    "start_time": "2022-04-13T16:14:45.618Z"
   },
   {
    "duration": 3,
    "start_time": "2022-04-13T16:14:45.684Z"
   },
   {
    "duration": 90,
    "start_time": "2022-04-13T16:14:45.689Z"
   },
   {
    "duration": 5,
    "start_time": "2022-04-13T16:14:45.781Z"
   },
   {
    "duration": 10,
    "start_time": "2022-04-13T16:14:45.788Z"
   },
   {
    "duration": 30,
    "start_time": "2022-04-13T16:14:45.800Z"
   },
   {
    "duration": 6,
    "start_time": "2022-04-13T16:14:45.833Z"
   },
   {
    "duration": 113,
    "start_time": "2022-04-13T16:14:45.840Z"
   },
   {
    "duration": 158,
    "start_time": "2022-04-13T16:14:45.961Z"
   },
   {
    "duration": 53,
    "start_time": "2022-04-13T16:14:46.121Z"
   },
   {
    "duration": 206,
    "start_time": "2022-04-13T16:14:46.176Z"
   },
   {
    "duration": 5,
    "start_time": "2022-04-13T16:14:46.383Z"
   },
   {
    "duration": 392,
    "start_time": "2022-04-13T16:14:46.389Z"
   },
   {
    "duration": 5,
    "start_time": "2022-04-13T16:14:46.782Z"
   },
   {
    "duration": 1008,
    "start_time": "2022-04-13T16:14:46.789Z"
   },
   {
    "duration": 196,
    "start_time": "2022-04-13T16:14:47.799Z"
   },
   {
    "duration": 166,
    "start_time": "2022-04-13T16:20:03.324Z"
   },
   {
    "duration": 53,
    "start_time": "2022-04-13T16:21:27.561Z"
   },
   {
    "duration": 185,
    "start_time": "2022-04-13T16:21:41.177Z"
   },
   {
    "duration": 63,
    "start_time": "2022-04-13T16:21:44.310Z"
   },
   {
    "duration": 50,
    "start_time": "2022-04-13T16:22:12.055Z"
   },
   {
    "duration": 174,
    "start_time": "2022-04-13T16:22:27.706Z"
   },
   {
    "duration": 136,
    "start_time": "2022-04-13T16:22:42.354Z"
   },
   {
    "duration": 271,
    "start_time": "2022-04-13T16:22:54.681Z"
   },
   {
    "duration": 260,
    "start_time": "2022-04-13T16:24:18.145Z"
   },
   {
    "duration": 292,
    "start_time": "2022-04-13T16:24:48.145Z"
   },
   {
    "duration": 357,
    "start_time": "2022-04-13T16:25:43.499Z"
   },
   {
    "duration": 4989,
    "start_time": "2022-04-13T16:27:38.541Z"
   },
   {
    "duration": 58,
    "start_time": "2022-04-13T16:27:43.534Z"
   },
   {
    "duration": 4,
    "start_time": "2022-04-13T16:27:43.594Z"
   },
   {
    "duration": 89,
    "start_time": "2022-04-13T16:27:43.599Z"
   },
   {
    "duration": 4,
    "start_time": "2022-04-13T16:27:43.690Z"
   },
   {
    "duration": 7,
    "start_time": "2022-04-13T16:27:43.695Z"
   },
   {
    "duration": 31,
    "start_time": "2022-04-13T16:27:43.703Z"
   },
   {
    "duration": 9,
    "start_time": "2022-04-13T16:27:43.736Z"
   },
   {
    "duration": 65,
    "start_time": "2022-04-13T16:27:43.749Z"
   },
   {
    "duration": 178,
    "start_time": "2022-04-13T16:27:43.816Z"
   },
   {
    "duration": 60,
    "start_time": "2022-04-13T16:27:43.996Z"
   },
   {
    "duration": 187,
    "start_time": "2022-04-13T16:27:44.059Z"
   },
   {
    "duration": 8,
    "start_time": "2022-04-13T16:27:44.248Z"
   },
   {
    "duration": 265,
    "start_time": "2022-04-13T16:27:44.265Z"
   },
   {
    "duration": 12,
    "start_time": "2022-04-13T16:27:44.532Z"
   },
   {
    "duration": 1138,
    "start_time": "2022-04-13T16:27:44.546Z"
   },
   {
    "duration": 192,
    "start_time": "2022-04-13T16:27:45.686Z"
   },
   {
    "duration": 8,
    "start_time": "2022-04-13T16:32:16.756Z"
   },
   {
    "duration": 297,
    "start_time": "2022-04-13T16:32:18.259Z"
   },
   {
    "duration": 13,
    "start_time": "2022-04-13T16:32:22.227Z"
   },
   {
    "duration": 1028,
    "start_time": "2022-04-13T16:33:26.970Z"
   },
   {
    "duration": 6,
    "start_time": "2022-04-13T16:36:01.503Z"
   },
   {
    "duration": 282,
    "start_time": "2022-04-13T16:36:04.897Z"
   },
   {
    "duration": 250,
    "start_time": "2022-04-13T16:36:09.831Z"
   },
   {
    "duration": 4,
    "start_time": "2022-04-13T16:38:23.511Z"
   },
   {
    "duration": 5,
    "start_time": "2022-04-13T16:39:08.775Z"
   },
   {
    "duration": 295,
    "start_time": "2022-04-13T16:39:30.336Z"
   },
   {
    "duration": 286,
    "start_time": "2022-04-13T16:40:03.211Z"
   },
   {
    "duration": 306,
    "start_time": "2022-04-13T16:43:52.367Z"
   },
   {
    "duration": 108,
    "start_time": "2022-04-13T16:44:12.238Z"
   },
   {
    "duration": 1724,
    "start_time": "2022-04-13T16:44:36.215Z"
   },
   {
    "duration": 62,
    "start_time": "2022-04-13T16:44:37.941Z"
   },
   {
    "duration": 4,
    "start_time": "2022-04-13T16:44:38.004Z"
   },
   {
    "duration": 85,
    "start_time": "2022-04-13T16:44:38.010Z"
   },
   {
    "duration": 5,
    "start_time": "2022-04-13T16:44:38.096Z"
   },
   {
    "duration": 8,
    "start_time": "2022-04-13T16:44:38.102Z"
   },
   {
    "duration": 28,
    "start_time": "2022-04-13T16:44:38.111Z"
   },
   {
    "duration": 12,
    "start_time": "2022-04-13T16:44:38.141Z"
   },
   {
    "duration": 92,
    "start_time": "2022-04-13T16:44:38.155Z"
   },
   {
    "duration": 177,
    "start_time": "2022-04-13T16:44:38.253Z"
   },
   {
    "duration": 49,
    "start_time": "2022-04-13T16:44:38.432Z"
   },
   {
    "duration": 194,
    "start_time": "2022-04-13T16:44:38.483Z"
   },
   {
    "duration": 6,
    "start_time": "2022-04-13T16:44:38.678Z"
   },
   {
    "duration": 310,
    "start_time": "2022-04-13T16:44:38.686Z"
   },
   {
    "duration": 4,
    "start_time": "2022-04-13T16:44:38.998Z"
   },
   {
    "duration": 27,
    "start_time": "2022-04-13T16:44:39.003Z"
   },
   {
    "duration": 129,
    "start_time": "2022-04-13T16:44:39.032Z"
   },
   {
    "duration": 0,
    "start_time": "2022-04-13T16:44:39.165Z"
   },
   {
    "duration": 0,
    "start_time": "2022-04-13T16:44:39.166Z"
   },
   {
    "duration": 0,
    "start_time": "2022-04-13T16:44:39.167Z"
   },
   {
    "duration": 327,
    "start_time": "2022-04-13T16:45:03.330Z"
   },
   {
    "duration": 173,
    "start_time": "2022-04-13T16:45:06.264Z"
   },
   {
    "duration": 621,
    "start_time": "2022-04-13T16:46:28.727Z"
   },
   {
    "duration": 6,
    "start_time": "2022-04-13T16:48:19.144Z"
   },
   {
    "duration": 20,
    "start_time": "2022-04-13T16:48:51.839Z"
   },
   {
    "duration": 6,
    "start_time": "2022-04-13T16:50:10.129Z"
   },
   {
    "duration": 5,
    "start_time": "2022-04-13T16:50:10.500Z"
   },
   {
    "duration": 19,
    "start_time": "2022-04-13T16:50:18.141Z"
   },
   {
    "duration": 10312,
    "start_time": "2022-04-13T16:50:35.873Z"
   },
   {
    "duration": 8,
    "start_time": "2022-04-13T16:52:19.843Z"
   },
   {
    "duration": 11,
    "start_time": "2022-04-13T16:52:20.603Z"
   },
   {
    "duration": 195,
    "start_time": "2022-04-13T16:53:20.957Z"
   },
   {
    "duration": 6,
    "start_time": "2022-04-13T16:53:28.908Z"
   },
   {
    "duration": 5,
    "start_time": "2022-04-13T16:53:31.616Z"
   },
   {
    "duration": 9,
    "start_time": "2022-04-13T16:53:36.063Z"
   },
   {
    "duration": 6,
    "start_time": "2022-04-13T16:53:50.884Z"
   },
   {
    "duration": 9,
    "start_time": "2022-04-13T16:53:51.511Z"
   },
   {
    "duration": 225,
    "start_time": "2022-04-13T16:53:57.154Z"
   },
   {
    "duration": 367,
    "start_time": "2022-04-13T16:54:02.336Z"
   },
   {
    "duration": 12,
    "start_time": "2022-04-13T16:54:04.621Z"
   },
   {
    "duration": 5,
    "start_time": "2022-04-13T16:54:05.479Z"
   },
   {
    "duration": 10626,
    "start_time": "2022-04-13T16:54:06.839Z"
   },
   {
    "duration": 10222,
    "start_time": "2022-04-13T16:54:49.855Z"
   },
   {
    "duration": 295,
    "start_time": "2022-04-13T16:56:41.693Z"
   },
   {
    "duration": 9,
    "start_time": "2022-04-13T16:56:45.943Z"
   },
   {
    "duration": 257,
    "start_time": "2022-04-13T16:56:46.740Z"
   },
   {
    "duration": 6,
    "start_time": "2022-04-13T16:56:56.978Z"
   },
   {
    "duration": 223,
    "start_time": "2022-04-13T16:56:57.367Z"
   },
   {
    "duration": 8,
    "start_time": "2022-04-13T16:56:59.228Z"
   },
   {
    "duration": 10,
    "start_time": "2022-04-13T16:56:59.653Z"
   },
   {
    "duration": 10444,
    "start_time": "2022-04-13T16:57:00.419Z"
   },
   {
    "duration": 5,
    "start_time": "2022-04-13T17:01:02.496Z"
   },
   {
    "duration": 11,
    "start_time": "2022-04-13T17:01:02.952Z"
   },
   {
    "duration": 22669,
    "start_time": "2022-04-13T17:01:03.458Z"
   },
   {
    "duration": 204,
    "start_time": "2022-04-13T17:02:56.038Z"
   },
   {
    "duration": 5,
    "start_time": "2022-04-13T17:03:01.205Z"
   },
   {
    "duration": 5,
    "start_time": "2022-04-13T17:03:03.710Z"
   },
   {
    "duration": 10582,
    "start_time": "2022-04-13T17:03:12.705Z"
   },
   {
    "duration": 308,
    "start_time": "2022-04-13T17:13:03.310Z"
   },
   {
    "duration": 8,
    "start_time": "2022-04-13T17:14:19.879Z"
   },
   {
    "duration": 1327,
    "start_time": "2022-04-13T17:14:57.428Z"
   },
   {
    "duration": 14,
    "start_time": "2022-04-13T17:16:02.339Z"
   },
   {
    "duration": 7,
    "start_time": "2022-04-13T17:16:04.004Z"
   },
   {
    "duration": 1369,
    "start_time": "2022-04-13T17:16:05.543Z"
   },
   {
    "duration": 30,
    "start_time": "2022-04-13T17:21:30.426Z"
   },
   {
    "duration": 25,
    "start_time": "2022-04-13T17:22:10.027Z"
   },
   {
    "duration": 464,
    "start_time": "2022-04-13T17:22:15.542Z"
   },
   {
    "duration": 483,
    "start_time": "2022-04-13T17:23:24.491Z"
   },
   {
    "duration": 45,
    "start_time": "2022-04-13T17:24:18.213Z"
   },
   {
    "duration": 11,
    "start_time": "2022-04-13T17:24:48.165Z"
   },
   {
    "duration": 42144,
    "start_time": "2022-04-13T17:24:48.873Z"
   },
   {
    "duration": 10,
    "start_time": "2022-04-13T17:26:11.943Z"
   },
   {
    "duration": 171541,
    "start_time": "2022-04-13T17:26:12.589Z"
   },
   {
    "duration": 443,
    "start_time": "2022-04-13T17:32:02.981Z"
   },
   {
    "duration": 165150,
    "start_time": "2022-04-13T17:32:29.879Z"
   },
   {
    "duration": 12,
    "start_time": "2022-04-13T17:35:52.650Z"
   },
   {
    "duration": 1322,
    "start_time": "2022-04-13T17:36:00.788Z"
   },
   {
    "duration": 5232,
    "start_time": "2022-04-13T17:38:24.583Z"
   },
   {
    "duration": 0,
    "start_time": "2022-04-13T17:38:29.818Z"
   },
   {
    "duration": 10,
    "start_time": "2022-04-13T17:38:31.925Z"
   },
   {
    "duration": 10326,
    "start_time": "2022-04-13T17:38:33.020Z"
   },
   {
    "duration": 11,
    "start_time": "2022-04-13T17:40:57.848Z"
   },
   {
    "duration": 739,
    "start_time": "2022-04-13T17:41:03.349Z"
   },
   {
    "duration": 791,
    "start_time": "2022-04-13T17:41:55.281Z"
   },
   {
    "duration": 1676,
    "start_time": "2022-04-13T17:42:24.596Z"
   },
   {
    "duration": 44,
    "start_time": "2022-04-13T17:42:26.274Z"
   },
   {
    "duration": 14,
    "start_time": "2022-04-13T17:42:26.320Z"
   },
   {
    "duration": 83,
    "start_time": "2022-04-13T17:42:26.345Z"
   },
   {
    "duration": 8,
    "start_time": "2022-04-13T17:42:26.430Z"
   },
   {
    "duration": 15,
    "start_time": "2022-04-13T17:42:26.452Z"
   },
   {
    "duration": 14,
    "start_time": "2022-04-13T17:42:26.470Z"
   },
   {
    "duration": 5,
    "start_time": "2022-04-13T17:42:26.486Z"
   },
   {
    "duration": 82,
    "start_time": "2022-04-13T17:42:26.492Z"
   },
   {
    "duration": 182,
    "start_time": "2022-04-13T17:42:26.577Z"
   },
   {
    "duration": 36,
    "start_time": "2022-04-13T17:42:26.762Z"
   },
   {
    "duration": 177,
    "start_time": "2022-04-13T17:42:26.800Z"
   },
   {
    "duration": 5,
    "start_time": "2022-04-13T17:42:26.979Z"
   },
   {
    "duration": 298,
    "start_time": "2022-04-13T17:42:26.985Z"
   },
   {
    "duration": 5,
    "start_time": "2022-04-13T17:42:27.285Z"
   },
   {
    "duration": 10395,
    "start_time": "2022-04-13T17:42:27.292Z"
   },
   {
    "duration": 798,
    "start_time": "2022-04-13T17:42:37.689Z"
   },
   {
    "duration": 132,
    "start_time": "2022-04-13T17:42:38.489Z"
   },
   {
    "duration": 0,
    "start_time": "2022-04-13T17:42:38.624Z"
   },
   {
    "duration": 11,
    "start_time": "2022-04-13T18:12:47.282Z"
   },
   {
    "duration": 5,
    "start_time": "2022-04-13T18:16:02.305Z"
   },
   {
    "duration": 16,
    "start_time": "2022-04-13T18:16:18.613Z"
   },
   {
    "duration": 29,
    "start_time": "2022-04-13T18:16:45.569Z"
   },
   {
    "duration": 11,
    "start_time": "2022-04-13T18:16:54.911Z"
   },
   {
    "duration": 20,
    "start_time": "2022-04-13T18:17:05.755Z"
   },
   {
    "duration": 22,
    "start_time": "2022-04-13T18:17:26.297Z"
   },
   {
    "duration": 18,
    "start_time": "2022-04-13T18:18:24.540Z"
   },
   {
    "duration": 6,
    "start_time": "2022-04-13T18:19:01.658Z"
   },
   {
    "duration": 6,
    "start_time": "2022-04-13T18:19:27.087Z"
   },
   {
    "duration": 9,
    "start_time": "2022-04-13T18:19:31.540Z"
   },
   {
    "duration": 33,
    "start_time": "2022-04-13T18:20:21.855Z"
   },
   {
    "duration": 7,
    "start_time": "2022-04-13T18:20:28.973Z"
   },
   {
    "duration": 116,
    "start_time": "2022-04-13T18:20:55.592Z"
   },
   {
    "duration": 22,
    "start_time": "2022-04-13T18:21:54.294Z"
   },
   {
    "duration": 36,
    "start_time": "2022-04-13T18:26:32.004Z"
   },
   {
    "duration": 10449,
    "start_time": "2022-04-13T18:27:40.343Z"
   },
   {
    "duration": 11196,
    "start_time": "2022-04-13T18:28:00.683Z"
   },
   {
    "duration": 4,
    "start_time": "2022-04-13T18:29:03.212Z"
   },
   {
    "duration": 10404,
    "start_time": "2022-04-13T18:29:11.095Z"
   },
   {
    "duration": 9,
    "start_time": "2022-04-13T18:29:36.598Z"
   },
   {
    "duration": 585,
    "start_time": "2022-04-13T18:29:43.690Z"
   },
   {
    "duration": 679,
    "start_time": "2022-04-13T18:30:34.905Z"
   },
   {
    "duration": 396,
    "start_time": "2022-04-13T18:30:56.191Z"
   },
   {
    "duration": 861,
    "start_time": "2022-04-13T18:31:12.438Z"
   },
   {
    "duration": 11198,
    "start_time": "2022-04-13T18:31:47.402Z"
   },
   {
    "duration": 843,
    "start_time": "2022-04-13T18:33:58.041Z"
   },
   {
    "duration": 1193,
    "start_time": "2022-04-13T18:34:16.128Z"
   },
   {
    "duration": 1716,
    "start_time": "2022-04-13T18:34:43.325Z"
   },
   {
    "duration": 53,
    "start_time": "2022-04-13T18:34:45.045Z"
   },
   {
    "duration": 4,
    "start_time": "2022-04-13T18:34:45.100Z"
   },
   {
    "duration": 83,
    "start_time": "2022-04-13T18:34:45.106Z"
   },
   {
    "duration": 5,
    "start_time": "2022-04-13T18:34:45.191Z"
   },
   {
    "duration": 7,
    "start_time": "2022-04-13T18:34:45.198Z"
   },
   {
    "duration": 34,
    "start_time": "2022-04-13T18:34:45.207Z"
   },
   {
    "duration": 13,
    "start_time": "2022-04-13T18:34:45.243Z"
   },
   {
    "duration": 84,
    "start_time": "2022-04-13T18:34:45.261Z"
   },
   {
    "duration": 213,
    "start_time": "2022-04-13T18:34:45.348Z"
   },
   {
    "duration": 35,
    "start_time": "2022-04-13T18:34:45.563Z"
   },
   {
    "duration": 243,
    "start_time": "2022-04-13T18:34:45.600Z"
   },
   {
    "duration": 8,
    "start_time": "2022-04-13T18:34:45.844Z"
   },
   {
    "duration": 247,
    "start_time": "2022-04-13T18:34:45.854Z"
   },
   {
    "duration": 5,
    "start_time": "2022-04-13T18:34:46.103Z"
   },
   {
    "duration": 12295,
    "start_time": "2022-04-13T18:34:46.109Z"
   },
   {
    "duration": 1605,
    "start_time": "2022-04-15T11:59:23.441Z"
   },
   {
    "duration": 48,
    "start_time": "2022-04-15T11:59:25.048Z"
   },
   {
    "duration": 3,
    "start_time": "2022-04-15T11:59:25.098Z"
   },
   {
    "duration": 75,
    "start_time": "2022-04-15T11:59:25.106Z"
   },
   {
    "duration": 4,
    "start_time": "2022-04-15T11:59:25.183Z"
   },
   {
    "duration": 21,
    "start_time": "2022-04-15T11:59:25.189Z"
   },
   {
    "duration": 13,
    "start_time": "2022-04-15T11:59:25.211Z"
   },
   {
    "duration": 4,
    "start_time": "2022-04-15T11:59:25.226Z"
   },
   {
    "duration": 85,
    "start_time": "2022-04-15T11:59:25.231Z"
   },
   {
    "duration": 155,
    "start_time": "2022-04-15T11:59:25.319Z"
   },
   {
    "duration": 42,
    "start_time": "2022-04-15T11:59:25.476Z"
   },
   {
    "duration": 192,
    "start_time": "2022-04-15T11:59:25.520Z"
   },
   {
    "duration": 6,
    "start_time": "2022-04-15T11:59:25.714Z"
   },
   {
    "duration": 336,
    "start_time": "2022-04-15T11:59:25.721Z"
   },
   {
    "duration": 5,
    "start_time": "2022-04-15T11:59:26.059Z"
   },
   {
    "duration": 11620,
    "start_time": "2022-04-15T11:59:26.066Z"
   },
   {
    "duration": 35,
    "start_time": "2022-04-15T12:04:18.573Z"
   },
   {
    "duration": 68,
    "start_time": "2022-04-15T12:04:28.734Z"
   },
   {
    "duration": 122,
    "start_time": "2022-04-15T12:05:32.612Z"
   },
   {
    "duration": 117,
    "start_time": "2022-04-15T12:11:43.808Z"
   },
   {
    "duration": 115,
    "start_time": "2022-04-15T12:14:08.579Z"
   },
   {
    "duration": 118,
    "start_time": "2022-04-15T12:14:54.657Z"
   },
   {
    "duration": 127,
    "start_time": "2022-04-15T12:17:29.692Z"
   },
   {
    "duration": 114,
    "start_time": "2022-04-15T12:17:38.590Z"
   },
   {
    "duration": 113,
    "start_time": "2022-04-15T12:17:52.646Z"
   },
   {
    "duration": 5,
    "start_time": "2022-04-15T12:21:54.958Z"
   },
   {
    "duration": 18,
    "start_time": "2022-04-15T12:21:59.943Z"
   },
   {
    "duration": 3780,
    "start_time": "2022-04-17T16:54:44.188Z"
   },
   {
    "duration": 142,
    "start_time": "2022-04-17T16:54:47.971Z"
   },
   {
    "duration": 7,
    "start_time": "2022-04-17T16:54:48.116Z"
   },
   {
    "duration": 143,
    "start_time": "2022-04-17T16:54:48.129Z"
   },
   {
    "duration": 6,
    "start_time": "2022-04-17T16:54:48.274Z"
   },
   {
    "duration": 33,
    "start_time": "2022-04-17T16:54:48.282Z"
   },
   {
    "duration": 41,
    "start_time": "2022-04-17T16:54:48.317Z"
   },
   {
    "duration": 50,
    "start_time": "2022-04-17T16:54:48.360Z"
   },
   {
    "duration": 107,
    "start_time": "2022-04-17T16:54:48.413Z"
   },
   {
    "duration": 247,
    "start_time": "2022-04-17T16:54:48.524Z"
   },
   {
    "duration": 64,
    "start_time": "2022-04-17T16:54:48.774Z"
   },
   {
    "duration": 286,
    "start_time": "2022-04-17T16:54:48.841Z"
   },
   {
    "duration": 9,
    "start_time": "2022-04-17T16:54:49.129Z"
   },
   {
    "duration": 406,
    "start_time": "2022-04-17T16:54:49.141Z"
   },
   {
    "duration": 0,
    "start_time": "2022-04-17T16:54:49.550Z"
   },
   {
    "duration": 0,
    "start_time": "2022-04-17T16:54:49.551Z"
   },
   {
    "duration": 0,
    "start_time": "2022-04-17T16:54:49.554Z"
   },
   {
    "duration": 0,
    "start_time": "2022-04-17T16:54:49.556Z"
   },
   {
    "duration": 14,
    "start_time": "2022-04-17T16:56:15.690Z"
   },
   {
    "duration": 30,
    "start_time": "2022-04-17T16:56:23.594Z"
   },
   {
    "duration": 110,
    "start_time": "2022-04-17T16:57:07.457Z"
   },
   {
    "duration": 444,
    "start_time": "2022-04-17T16:57:10.666Z"
   },
   {
    "duration": 10,
    "start_time": "2022-04-17T16:58:20.595Z"
   },
   {
    "duration": 555,
    "start_time": "2022-04-17T16:58:22.937Z"
   },
   {
    "duration": 11,
    "start_time": "2022-04-17T16:58:37.730Z"
   },
   {
    "duration": 788,
    "start_time": "2022-04-17T16:58:40.874Z"
   },
   {
    "duration": 7,
    "start_time": "2022-04-17T16:58:58.757Z"
   },
   {
    "duration": 7,
    "start_time": "2022-04-17T16:59:44.529Z"
   },
   {
    "duration": 8,
    "start_time": "2022-04-17T17:00:25.227Z"
   },
   {
    "duration": 18618,
    "start_time": "2022-04-17T17:00:26.116Z"
   },
   {
    "duration": 9,
    "start_time": "2022-04-17T17:01:02.893Z"
   },
   {
    "duration": 20411,
    "start_time": "2022-04-17T17:01:03.560Z"
   },
   {
    "duration": 12,
    "start_time": "2022-04-17T17:02:29.524Z"
   },
   {
    "duration": 537,
    "start_time": "2022-04-17T17:02:40.230Z"
   },
   {
    "duration": 8,
    "start_time": "2022-04-17T17:02:56.852Z"
   },
   {
    "duration": 124,
    "start_time": "2022-04-17T17:03:03.701Z"
   },
   {
    "duration": 2141,
    "start_time": "2022-04-17T17:03:36.983Z"
   },
   {
    "duration": 57,
    "start_time": "2022-04-17T17:03:39.127Z"
   },
   {
    "duration": 5,
    "start_time": "2022-04-17T17:03:39.187Z"
   },
   {
    "duration": 141,
    "start_time": "2022-04-17T17:03:39.195Z"
   },
   {
    "duration": 6,
    "start_time": "2022-04-17T17:03:39.338Z"
   },
   {
    "duration": 21,
    "start_time": "2022-04-17T17:03:39.347Z"
   },
   {
    "duration": 20,
    "start_time": "2022-04-17T17:03:39.371Z"
   },
   {
    "duration": 30,
    "start_time": "2022-04-17T17:03:39.394Z"
   },
   {
    "duration": 192,
    "start_time": "2022-04-17T17:03:39.427Z"
   },
   {
    "duration": 399,
    "start_time": "2022-04-17T17:03:39.628Z"
   },
   {
    "duration": 97,
    "start_time": "2022-04-17T17:03:40.030Z"
   },
   {
    "duration": 280,
    "start_time": "2022-04-17T17:03:40.130Z"
   },
   {
    "duration": 16,
    "start_time": "2022-04-17T17:03:40.412Z"
   },
   {
    "duration": 550,
    "start_time": "2022-04-17T17:03:40.430Z"
   },
   {
    "duration": 8,
    "start_time": "2022-04-17T17:03:40.982Z"
   },
   {
    "duration": 297,
    "start_time": "2022-04-17T17:03:40.992Z"
   },
   {
    "duration": 0,
    "start_time": "2022-04-17T17:03:41.291Z"
   },
   {
    "duration": 100,
    "start_time": "2022-04-17T17:04:57.091Z"
   },
   {
    "duration": 401,
    "start_time": "2022-04-17T17:04:57.869Z"
   },
   {
    "duration": 8,
    "start_time": "2022-04-17T17:05:00.231Z"
   },
   {
    "duration": 223,
    "start_time": "2022-04-17T17:05:01.017Z"
   },
   {
    "duration": 526,
    "start_time": "2022-04-17T17:05:58.760Z"
   },
   {
    "duration": 561,
    "start_time": "2022-04-17T17:08:00.611Z"
   },
   {
    "duration": 11,
    "start_time": "2022-04-17T17:08:08.218Z"
   },
   {
    "duration": 8,
    "start_time": "2022-04-17T17:08:16.267Z"
   },
   {
    "duration": 127,
    "start_time": "2022-04-17T17:08:17.144Z"
   },
   {
    "duration": 7,
    "start_time": "2022-04-17T17:09:24.834Z"
   },
   {
    "duration": 12176,
    "start_time": "2022-04-17T17:09:25.364Z"
   },
   {
    "duration": 2026,
    "start_time": "2022-04-17T17:15:27.941Z"
   },
   {
    "duration": 62,
    "start_time": "2022-04-17T17:15:29.970Z"
   },
   {
    "duration": 7,
    "start_time": "2022-04-17T17:15:30.035Z"
   },
   {
    "duration": 142,
    "start_time": "2022-04-17T17:15:30.047Z"
   },
   {
    "duration": 8,
    "start_time": "2022-04-17T17:15:30.192Z"
   },
   {
    "duration": 28,
    "start_time": "2022-04-17T17:15:30.202Z"
   },
   {
    "duration": 27,
    "start_time": "2022-04-17T17:15:30.235Z"
   },
   {
    "duration": 15,
    "start_time": "2022-04-17T17:15:30.265Z"
   },
   {
    "duration": 149,
    "start_time": "2022-04-17T17:15:30.282Z"
   },
   {
    "duration": 255,
    "start_time": "2022-04-17T17:15:30.435Z"
   },
   {
    "duration": 78,
    "start_time": "2022-04-17T17:15:30.692Z"
   },
   {
    "duration": 288,
    "start_time": "2022-04-17T17:15:30.773Z"
   },
   {
    "duration": 11,
    "start_time": "2022-04-17T17:15:31.063Z"
   },
   {
    "duration": 583,
    "start_time": "2022-04-17T17:15:31.076Z"
   },
   {
    "duration": 8,
    "start_time": "2022-04-17T17:15:31.661Z"
   },
   {
    "duration": 12255,
    "start_time": "2022-04-17T17:15:31.671Z"
   },
   {
    "duration": 196,
    "start_time": "2022-04-17T17:15:43.928Z"
   },
   {
    "duration": 327,
    "start_time": "2022-04-17T17:20:26.365Z"
   },
   {
    "duration": 404,
    "start_time": "2022-04-17T17:27:36.917Z"
   },
   {
    "duration": 391,
    "start_time": "2022-04-17T17:27:45.934Z"
   },
   {
    "duration": 757,
    "start_time": "2022-04-17T17:39:09.511Z"
   },
   {
    "duration": 788,
    "start_time": "2022-04-17T17:39:29.848Z"
   },
   {
    "duration": 734,
    "start_time": "2022-04-17T17:39:41.810Z"
   },
   {
    "duration": 382,
    "start_time": "2022-04-17T17:41:47.246Z"
   },
   {
    "duration": 427,
    "start_time": "2022-04-17T17:42:10.397Z"
   },
   {
    "duration": 405,
    "start_time": "2022-04-17T17:42:39.395Z"
   },
   {
    "duration": 495,
    "start_time": "2022-04-17T17:43:38.634Z"
   },
   {
    "duration": 11,
    "start_time": "2022-04-17T17:44:19.229Z"
   },
   {
    "duration": 715,
    "start_time": "2022-04-17T17:44:19.828Z"
   },
   {
    "duration": 766,
    "start_time": "2022-04-17T17:44:43.197Z"
   },
   {
    "duration": 810,
    "start_time": "2022-04-17T17:45:06.820Z"
   },
   {
    "duration": 6,
    "start_time": "2022-04-17T17:45:54.405Z"
   },
   {
    "duration": 9,
    "start_time": "2022-04-17T17:46:02.475Z"
   },
   {
    "duration": 7,
    "start_time": "2022-04-17T17:47:18.284Z"
   },
   {
    "duration": 12,
    "start_time": "2022-04-17T17:48:03.488Z"
   },
   {
    "duration": 362,
    "start_time": "2022-04-17T17:48:05.763Z"
   },
   {
    "duration": 375,
    "start_time": "2022-04-17T17:48:26.166Z"
   },
   {
    "duration": 12,
    "start_time": "2022-04-17T17:48:43.402Z"
   },
   {
    "duration": 446,
    "start_time": "2022-04-17T17:48:44.246Z"
   },
   {
    "duration": 13,
    "start_time": "2022-04-17T17:50:48.989Z"
   },
   {
    "duration": 630,
    "start_time": "2022-04-17T17:51:17.996Z"
   },
   {
    "duration": 629,
    "start_time": "2022-04-17T17:51:58.242Z"
   },
   {
    "duration": 448,
    "start_time": "2022-04-17T17:57:11.252Z"
   },
   {
    "duration": 578,
    "start_time": "2022-04-17T17:58:06.208Z"
   },
   {
    "duration": 537,
    "start_time": "2022-04-17T18:01:51.670Z"
   },
   {
    "duration": 446,
    "start_time": "2022-04-17T18:02:09.640Z"
   },
   {
    "duration": 936,
    "start_time": "2022-04-17T18:04:53.571Z"
   },
   {
    "duration": 581,
    "start_time": "2022-04-17T18:05:32.430Z"
   },
   {
    "duration": 415,
    "start_time": "2022-04-17T18:06:39.874Z"
   },
   {
    "duration": 11,
    "start_time": "2022-04-17T18:07:43.556Z"
   },
   {
    "duration": 480,
    "start_time": "2022-04-17T18:07:44.460Z"
   },
   {
    "duration": 403,
    "start_time": "2022-04-17T18:08:03.087Z"
   },
   {
    "duration": 100,
    "start_time": "2022-04-17T18:08:28.025Z"
   },
   {
    "duration": 408,
    "start_time": "2022-04-17T18:08:32.503Z"
   },
   {
    "duration": 486,
    "start_time": "2022-04-17T18:08:54.686Z"
   },
   {
    "duration": 105,
    "start_time": "2022-04-17T18:09:07.315Z"
   },
   {
    "duration": 490,
    "start_time": "2022-04-17T18:09:10.807Z"
   },
   {
    "duration": 460,
    "start_time": "2022-04-17T18:11:51.034Z"
   },
   {
    "duration": 2261,
    "start_time": "2022-04-17T18:43:16.566Z"
   },
   {
    "duration": 59,
    "start_time": "2022-04-17T18:43:18.830Z"
   },
   {
    "duration": 6,
    "start_time": "2022-04-17T18:43:18.891Z"
   },
   {
    "duration": 131,
    "start_time": "2022-04-17T18:43:18.925Z"
   },
   {
    "duration": 6,
    "start_time": "2022-04-17T18:43:19.059Z"
   },
   {
    "duration": 13,
    "start_time": "2022-04-17T18:43:19.067Z"
   },
   {
    "duration": 50,
    "start_time": "2022-04-17T18:43:19.082Z"
   },
   {
    "duration": 7,
    "start_time": "2022-04-17T18:43:19.134Z"
   },
   {
    "duration": 126,
    "start_time": "2022-04-17T18:43:19.143Z"
   },
   {
    "duration": 509,
    "start_time": "2022-04-17T18:43:19.275Z"
   },
   {
    "duration": 75,
    "start_time": "2022-04-17T18:43:19.787Z"
   },
   {
    "duration": 282,
    "start_time": "2022-04-17T18:43:19.864Z"
   },
   {
    "duration": 12,
    "start_time": "2022-04-17T18:43:20.148Z"
   },
   {
    "duration": 272,
    "start_time": "2022-04-17T18:43:20.163Z"
   },
   {
    "duration": 223,
    "start_time": "2022-04-17T18:43:20.438Z"
   },
   {
    "duration": 8,
    "start_time": "2022-04-17T18:43:20.664Z"
   },
   {
    "duration": 295,
    "start_time": "2022-04-17T18:43:20.674Z"
   },
   {
    "duration": 0,
    "start_time": "2022-04-17T18:43:20.971Z"
   },
   {
    "duration": 919,
    "start_time": "2022-04-17T18:43:53.742Z"
   },
   {
    "duration": 572,
    "start_time": "2022-04-17T18:46:26.232Z"
   },
   {
    "duration": 100,
    "start_time": "2022-04-17T18:47:39.495Z"
   },
   {
    "duration": 100,
    "start_time": "2022-04-17T18:47:55.653Z"
   },
   {
    "duration": 185,
    "start_time": "2022-04-17T18:48:16.666Z"
   },
   {
    "duration": 174,
    "start_time": "2022-04-17T18:49:04.782Z"
   },
   {
    "duration": 2196,
    "start_time": "2022-05-03T12:59:54.915Z"
   },
   {
    "duration": 55,
    "start_time": "2022-05-03T12:59:57.114Z"
   },
   {
    "duration": 13,
    "start_time": "2022-05-03T12:59:57.172Z"
   },
   {
    "duration": 130,
    "start_time": "2022-05-03T12:59:57.188Z"
   },
   {
    "duration": 6,
    "start_time": "2022-05-03T12:59:57.321Z"
   },
   {
    "duration": 12,
    "start_time": "2022-05-03T12:59:57.329Z"
   },
   {
    "duration": 44,
    "start_time": "2022-05-03T12:59:57.343Z"
   },
   {
    "duration": 6,
    "start_time": "2022-05-03T12:59:57.390Z"
   },
   {
    "duration": 116,
    "start_time": "2022-05-03T12:59:57.398Z"
   },
   {
    "duration": 242,
    "start_time": "2022-05-03T12:59:57.517Z"
   },
   {
    "duration": 60,
    "start_time": "2022-05-03T12:59:57.761Z"
   },
   {
    "duration": 277,
    "start_time": "2022-05-03T12:59:57.823Z"
   },
   {
    "duration": 12,
    "start_time": "2022-05-03T12:59:58.102Z"
   },
   {
    "duration": 709,
    "start_time": "2022-05-03T12:59:58.116Z"
   },
   {
    "duration": 8,
    "start_time": "2022-05-03T12:59:58.827Z"
   },
   {
    "duration": 297,
    "start_time": "2022-05-03T12:59:58.837Z"
   },
   {
    "duration": 0,
    "start_time": "2022-05-03T12:59:59.136Z"
   },
   {
    "duration": 0,
    "start_time": "2022-05-03T12:59:59.138Z"
   },
   {
    "duration": 127,
    "start_time": "2022-05-03T13:13:58.506Z"
   },
   {
    "duration": 7,
    "start_time": "2022-05-03T13:20:21.307Z"
   },
   {
    "duration": 127,
    "start_time": "2022-05-03T13:20:27.508Z"
   },
   {
    "duration": 7,
    "start_time": "2022-05-03T13:20:41.298Z"
   },
   {
    "duration": 125,
    "start_time": "2022-05-03T13:20:43.300Z"
   },
   {
    "duration": 7,
    "start_time": "2022-05-03T13:20:59.009Z"
   },
   {
    "duration": 10555,
    "start_time": "2022-05-03T13:21:01.002Z"
   },
   {
    "duration": 12226,
    "start_time": "2022-05-03T13:21:32.370Z"
   },
   {
    "duration": 1995,
    "start_time": "2022-05-03T13:22:22.975Z"
   },
   {
    "duration": 57,
    "start_time": "2022-05-03T13:22:24.973Z"
   },
   {
    "duration": 6,
    "start_time": "2022-05-03T13:22:25.032Z"
   },
   {
    "duration": 144,
    "start_time": "2022-05-03T13:22:25.041Z"
   },
   {
    "duration": 10,
    "start_time": "2022-05-03T13:22:25.187Z"
   },
   {
    "duration": 18,
    "start_time": "2022-05-03T13:22:25.199Z"
   },
   {
    "duration": 19,
    "start_time": "2022-05-03T13:22:25.220Z"
   },
   {
    "duration": 6,
    "start_time": "2022-05-03T13:22:25.241Z"
   },
   {
    "duration": 130,
    "start_time": "2022-05-03T13:22:25.249Z"
   },
   {
    "duration": 242,
    "start_time": "2022-05-03T13:22:25.384Z"
   },
   {
    "duration": 68,
    "start_time": "2022-05-03T13:22:25.628Z"
   },
   {
    "duration": 272,
    "start_time": "2022-05-03T13:22:25.698Z"
   },
   {
    "duration": 20,
    "start_time": "2022-05-03T13:22:25.972Z"
   },
   {
    "duration": 660,
    "start_time": "2022-05-03T13:22:25.997Z"
   },
   {
    "duration": 9,
    "start_time": "2022-05-03T13:22:26.660Z"
   },
   {
    "duration": 6,
    "start_time": "2022-05-03T13:22:26.683Z"
   },
   {
    "duration": 12698,
    "start_time": "2022-05-03T13:22:26.692Z"
   },
   {
    "duration": 354,
    "start_time": "2022-05-03T13:22:39.393Z"
   },
   {
    "duration": 21666,
    "start_time": "2022-05-03T13:23:41.308Z"
   },
   {
    "duration": 375,
    "start_time": "2022-05-03T13:25:34.580Z"
   },
   {
    "duration": 1726,
    "start_time": "2022-05-04T05:51:20.409Z"
   },
   {
    "duration": 43,
    "start_time": "2022-05-04T05:51:22.137Z"
   },
   {
    "duration": 3,
    "start_time": "2022-05-04T05:51:22.182Z"
   },
   {
    "duration": 78,
    "start_time": "2022-05-04T05:51:22.187Z"
   },
   {
    "duration": 4,
    "start_time": "2022-05-04T05:51:22.268Z"
   },
   {
    "duration": 8,
    "start_time": "2022-05-04T05:51:22.273Z"
   },
   {
    "duration": 12,
    "start_time": "2022-05-04T05:51:22.283Z"
   },
   {
    "duration": 22,
    "start_time": "2022-05-04T05:51:22.296Z"
   },
   {
    "duration": 77,
    "start_time": "2022-05-04T05:51:22.320Z"
   },
   {
    "duration": 135,
    "start_time": "2022-05-04T05:51:22.399Z"
   },
   {
    "duration": 40,
    "start_time": "2022-05-04T05:51:22.535Z"
   },
   {
    "duration": 157,
    "start_time": "2022-05-04T05:51:22.577Z"
   },
   {
    "duration": 7,
    "start_time": "2022-05-04T05:51:22.735Z"
   },
   {
    "duration": 478,
    "start_time": "2022-05-04T05:51:22.744Z"
   },
   {
    "duration": 5,
    "start_time": "2022-05-04T05:51:23.223Z"
   },
   {
    "duration": 6577,
    "start_time": "2022-05-04T05:51:23.229Z"
   },
   {
    "duration": 282,
    "start_time": "2022-05-04T05:51:29.807Z"
   },
   {
    "duration": 1449,
    "start_time": "2022-05-04T06:02:03.773Z"
   },
   {
    "duration": 41,
    "start_time": "2022-05-04T06:02:05.224Z"
   },
   {
    "duration": 4,
    "start_time": "2022-05-04T06:02:05.267Z"
   },
   {
    "duration": 104,
    "start_time": "2022-05-04T06:02:05.272Z"
   },
   {
    "duration": 3,
    "start_time": "2022-05-04T06:02:05.378Z"
   },
   {
    "duration": 20,
    "start_time": "2022-05-04T06:02:05.383Z"
   },
   {
    "duration": 26,
    "start_time": "2022-05-04T06:02:05.404Z"
   },
   {
    "duration": 8,
    "start_time": "2022-05-04T06:02:05.432Z"
   },
   {
    "duration": 67,
    "start_time": "2022-05-04T06:02:05.442Z"
   },
   {
    "duration": 143,
    "start_time": "2022-05-04T06:02:05.513Z"
   },
   {
    "duration": 34,
    "start_time": "2022-05-04T06:02:05.658Z"
   },
   {
    "duration": 176,
    "start_time": "2022-05-04T06:02:05.693Z"
   },
   {
    "duration": 8,
    "start_time": "2022-05-04T06:02:05.871Z"
   },
   {
    "duration": 407,
    "start_time": "2022-05-04T06:02:05.881Z"
   },
   {
    "duration": 5,
    "start_time": "2022-05-04T06:02:06.291Z"
   },
   {
    "duration": 7800,
    "start_time": "2022-05-04T06:02:06.297Z"
   },
   {
    "duration": 286,
    "start_time": "2022-05-04T06:02:14.098Z"
   },
   {
    "duration": 1681,
    "start_time": "2022-05-04T06:10:21.235Z"
   },
   {
    "duration": 51,
    "start_time": "2022-05-04T06:10:22.918Z"
   },
   {
    "duration": 4,
    "start_time": "2022-05-04T06:10:22.971Z"
   },
   {
    "duration": 81,
    "start_time": "2022-05-04T06:10:22.978Z"
   },
   {
    "duration": 4,
    "start_time": "2022-05-04T06:10:23.062Z"
   },
   {
    "duration": 26,
    "start_time": "2022-05-04T06:10:23.068Z"
   },
   {
    "duration": 23,
    "start_time": "2022-05-04T06:10:23.095Z"
   },
   {
    "duration": 16,
    "start_time": "2022-05-04T06:10:23.119Z"
   },
   {
    "duration": 75,
    "start_time": "2022-05-04T06:10:23.136Z"
   },
   {
    "duration": 137,
    "start_time": "2022-05-04T06:10:23.214Z"
   },
   {
    "duration": 33,
    "start_time": "2022-05-04T06:10:23.354Z"
   },
   {
    "duration": 168,
    "start_time": "2022-05-04T06:10:23.388Z"
   },
   {
    "duration": 8,
    "start_time": "2022-05-04T06:10:23.558Z"
   },
   {
    "duration": 587,
    "start_time": "2022-05-04T06:10:23.568Z"
   },
   {
    "duration": 5,
    "start_time": "2022-05-04T06:10:24.157Z"
   },
   {
    "duration": 7858,
    "start_time": "2022-05-04T06:10:24.163Z"
   },
   {
    "duration": 275,
    "start_time": "2022-05-04T06:10:32.022Z"
   },
   {
    "duration": 1403,
    "start_time": "2022-05-04T06:12:23.192Z"
   },
   {
    "duration": 37,
    "start_time": "2022-05-04T06:12:24.596Z"
   },
   {
    "duration": 4,
    "start_time": "2022-05-04T06:12:24.634Z"
   },
   {
    "duration": 74,
    "start_time": "2022-05-04T06:12:24.640Z"
   },
   {
    "duration": 4,
    "start_time": "2022-05-04T06:12:24.715Z"
   },
   {
    "duration": 26,
    "start_time": "2022-05-04T06:12:24.720Z"
   },
   {
    "duration": 21,
    "start_time": "2022-05-04T06:12:24.747Z"
   },
   {
    "duration": 15,
    "start_time": "2022-05-04T06:12:24.770Z"
   },
   {
    "duration": 71,
    "start_time": "2022-05-04T06:12:24.786Z"
   },
   {
    "duration": 141,
    "start_time": "2022-05-04T06:12:24.859Z"
   },
   {
    "duration": 33,
    "start_time": "2022-05-04T06:12:25.001Z"
   },
   {
    "duration": 164,
    "start_time": "2022-05-04T06:12:25.036Z"
   },
   {
    "duration": 7,
    "start_time": "2022-05-04T06:12:25.202Z"
   },
   {
    "duration": 562,
    "start_time": "2022-05-04T06:12:25.211Z"
   },
   {
    "duration": 5,
    "start_time": "2022-05-04T06:12:25.775Z"
   },
   {
    "duration": 7819,
    "start_time": "2022-05-04T06:12:25.782Z"
   },
   {
    "duration": 284,
    "start_time": "2022-05-04T06:12:33.602Z"
   },
   {
    "duration": 17385,
    "start_time": "2022-05-04T06:16:37.932Z"
   },
   {
    "duration": 5,
    "start_time": "2022-05-04T06:18:07.609Z"
   },
   {
    "duration": 17801,
    "start_time": "2022-05-04T06:18:08.997Z"
   },
   {
    "duration": 4868,
    "start_time": "2022-05-04T06:18:49.846Z"
   },
   {
    "duration": 1506,
    "start_time": "2022-05-04T06:19:05.195Z"
   },
   {
    "duration": 37,
    "start_time": "2022-05-04T06:19:06.703Z"
   },
   {
    "duration": 4,
    "start_time": "2022-05-04T06:19:06.741Z"
   },
   {
    "duration": 66,
    "start_time": "2022-05-04T06:19:06.754Z"
   },
   {
    "duration": 4,
    "start_time": "2022-05-04T06:19:06.822Z"
   },
   {
    "duration": 8,
    "start_time": "2022-05-04T06:19:06.827Z"
   },
   {
    "duration": 12,
    "start_time": "2022-05-04T06:19:06.854Z"
   },
   {
    "duration": 4,
    "start_time": "2022-05-04T06:19:06.867Z"
   },
   {
    "duration": 60,
    "start_time": "2022-05-04T06:19:06.873Z"
   },
   {
    "duration": 153,
    "start_time": "2022-05-04T06:19:06.935Z"
   },
   {
    "duration": 36,
    "start_time": "2022-05-04T06:19:07.089Z"
   },
   {
    "duration": 170,
    "start_time": "2022-05-04T06:19:07.126Z"
   },
   {
    "duration": 9,
    "start_time": "2022-05-04T06:19:07.297Z"
   },
   {
    "duration": 600,
    "start_time": "2022-05-04T06:19:07.308Z"
   },
   {
    "duration": 5,
    "start_time": "2022-05-04T06:19:07.910Z"
   },
   {
    "duration": 1692,
    "start_time": "2022-05-04T06:19:07.916Z"
   },
   {
    "duration": 281,
    "start_time": "2022-05-04T06:19:09.610Z"
   },
   {
    "duration": 1523,
    "start_time": "2022-05-04T06:19:41.959Z"
   },
   {
    "duration": 38,
    "start_time": "2022-05-04T06:19:43.484Z"
   },
   {
    "duration": 4,
    "start_time": "2022-05-04T06:19:43.524Z"
   },
   {
    "duration": 74,
    "start_time": "2022-05-04T06:19:43.530Z"
   },
   {
    "duration": 4,
    "start_time": "2022-05-04T06:19:43.606Z"
   },
   {
    "duration": 12,
    "start_time": "2022-05-04T06:19:43.611Z"
   },
   {
    "duration": 13,
    "start_time": "2022-05-04T06:19:43.625Z"
   },
   {
    "duration": 19,
    "start_time": "2022-05-04T06:19:43.640Z"
   },
   {
    "duration": 86,
    "start_time": "2022-05-04T06:19:43.661Z"
   },
   {
    "duration": 136,
    "start_time": "2022-05-04T06:19:43.749Z"
   },
   {
    "duration": 34,
    "start_time": "2022-05-04T06:19:43.886Z"
   },
   {
    "duration": 172,
    "start_time": "2022-05-04T06:19:43.921Z"
   },
   {
    "duration": 8,
    "start_time": "2022-05-04T06:19:44.095Z"
   },
   {
    "duration": 602,
    "start_time": "2022-05-04T06:19:44.105Z"
   },
   {
    "duration": 5,
    "start_time": "2022-05-04T06:19:44.709Z"
   },
   {
    "duration": 1699,
    "start_time": "2022-05-04T06:19:44.715Z"
   },
   {
    "duration": 273,
    "start_time": "2022-05-04T06:19:46.415Z"
   },
   {
    "duration": 4000,
    "start_time": "2022-05-04T06:20:50.355Z"
   },
   {
    "duration": 827,
    "start_time": "2022-05-04T06:21:02.287Z"
   },
   {
    "duration": 1127,
    "start_time": "2022-05-04T06:23:58.336Z"
   },
   {
    "duration": 896,
    "start_time": "2022-05-04T06:26:03.265Z"
   },
   {
    "duration": 1598,
    "start_time": "2022-05-04T06:29:09.964Z"
   },
   {
    "duration": 41,
    "start_time": "2022-05-04T06:29:11.564Z"
   },
   {
    "duration": 4,
    "start_time": "2022-05-04T06:29:11.607Z"
   },
   {
    "duration": 72,
    "start_time": "2022-05-04T06:29:11.613Z"
   },
   {
    "duration": 5,
    "start_time": "2022-05-04T06:29:11.686Z"
   },
   {
    "duration": 9,
    "start_time": "2022-05-04T06:29:11.692Z"
   },
   {
    "duration": 13,
    "start_time": "2022-05-04T06:29:11.702Z"
   },
   {
    "duration": 4,
    "start_time": "2022-05-04T06:29:11.717Z"
   },
   {
    "duration": 83,
    "start_time": "2022-05-04T06:29:11.723Z"
   },
   {
    "duration": 147,
    "start_time": "2022-05-04T06:29:11.809Z"
   },
   {
    "duration": 33,
    "start_time": "2022-05-04T06:29:11.957Z"
   },
   {
    "duration": 183,
    "start_time": "2022-05-04T06:29:11.992Z"
   },
   {
    "duration": 8,
    "start_time": "2022-05-04T06:29:12.177Z"
   },
   {
    "duration": 565,
    "start_time": "2022-05-04T06:29:12.187Z"
   },
   {
    "duration": 805,
    "start_time": "2022-05-04T06:29:12.755Z"
   },
   {
    "duration": 95,
    "start_time": "2022-05-04T06:29:13.563Z"
   },
   {
    "duration": 3999,
    "start_time": "2022-05-04T06:29:13.660Z"
   },
   {
    "duration": 759,
    "start_time": "2022-05-04T06:29:17.754Z"
   },
   {
    "duration": 5,
    "start_time": "2022-05-04T06:32:36.032Z"
   },
   {
    "duration": 4056,
    "start_time": "2022-05-04T06:32:37.299Z"
   },
   {
    "duration": 1191,
    "start_time": "2022-05-04T06:32:45.438Z"
   },
   {
    "duration": 1643,
    "start_time": "2022-05-04T06:33:29.999Z"
   },
   {
    "duration": 43,
    "start_time": "2022-05-04T06:33:31.644Z"
   },
   {
    "duration": 4,
    "start_time": "2022-05-04T06:33:31.689Z"
   },
   {
    "duration": 95,
    "start_time": "2022-05-04T06:33:31.695Z"
   },
   {
    "duration": 4,
    "start_time": "2022-05-04T06:33:31.792Z"
   },
   {
    "duration": 36,
    "start_time": "2022-05-04T06:33:31.798Z"
   },
   {
    "duration": 26,
    "start_time": "2022-05-04T06:33:31.835Z"
   },
   {
    "duration": 10,
    "start_time": "2022-05-04T06:33:31.863Z"
   },
   {
    "duration": 142,
    "start_time": "2022-05-04T06:33:31.874Z"
   },
   {
    "duration": 150,
    "start_time": "2022-05-04T06:33:32.018Z"
   },
   {
    "duration": 33,
    "start_time": "2022-05-04T06:33:32.169Z"
   },
   {
    "duration": 194,
    "start_time": "2022-05-04T06:33:32.203Z"
   },
   {
    "duration": 9,
    "start_time": "2022-05-04T06:33:32.398Z"
   },
   {
    "duration": 600,
    "start_time": "2022-05-04T06:33:32.408Z"
   },
   {
    "duration": 1046,
    "start_time": "2022-05-04T06:33:33.010Z"
   },
   {
    "duration": 5,
    "start_time": "2022-05-04T06:33:34.154Z"
   },
   {
    "duration": 4010,
    "start_time": "2022-05-04T06:33:34.162Z"
   },
   {
    "duration": 1353,
    "start_time": "2022-05-04T06:33:38.174Z"
   },
   {
    "duration": 1606,
    "start_time": "2022-05-04T06:41:43.719Z"
   },
   {
    "duration": 42,
    "start_time": "2022-05-04T06:41:45.327Z"
   },
   {
    "duration": 4,
    "start_time": "2022-05-04T06:41:45.371Z"
   },
   {
    "duration": 93,
    "start_time": "2022-05-04T06:41:45.376Z"
   },
   {
    "duration": 4,
    "start_time": "2022-05-04T06:41:45.471Z"
   },
   {
    "duration": 33,
    "start_time": "2022-05-04T06:41:45.476Z"
   },
   {
    "duration": 21,
    "start_time": "2022-05-04T06:41:45.510Z"
   },
   {
    "duration": 7,
    "start_time": "2022-05-04T06:41:45.532Z"
   },
   {
    "duration": 69,
    "start_time": "2022-05-04T06:41:45.540Z"
   },
   {
    "duration": 134,
    "start_time": "2022-05-04T06:41:45.611Z"
   },
   {
    "duration": 37,
    "start_time": "2022-05-04T06:41:45.747Z"
   },
   {
    "duration": 158,
    "start_time": "2022-05-04T06:41:45.786Z"
   },
   {
    "duration": 12,
    "start_time": "2022-05-04T06:41:45.946Z"
   },
   {
    "duration": 557,
    "start_time": "2022-05-04T06:41:45.960Z"
   },
   {
    "duration": 1143,
    "start_time": "2022-05-04T06:41:46.519Z"
   },
   {
    "duration": 7,
    "start_time": "2022-05-04T06:41:47.754Z"
   },
   {
    "duration": 4094,
    "start_time": "2022-05-04T06:41:47.763Z"
   },
   {
    "duration": 1248,
    "start_time": "2022-05-04T06:41:51.860Z"
   },
   {
    "duration": 117,
    "start_time": "2022-05-04T06:45:32.910Z"
   },
   {
    "duration": 17,
    "start_time": "2022-05-04T06:46:07.868Z"
   },
   {
    "duration": 279,
    "start_time": "2022-05-04T06:46:13.786Z"
   },
   {
    "duration": 229,
    "start_time": "2022-05-04T06:48:41.184Z"
   },
   {
    "duration": 538,
    "start_time": "2022-05-04T07:00:58.865Z"
   },
   {
    "duration": 140,
    "start_time": "2022-05-04T07:02:43.369Z"
   },
   {
    "duration": 589,
    "start_time": "2022-05-04T07:02:47.987Z"
   },
   {
    "duration": 621,
    "start_time": "2022-05-04T07:02:53.339Z"
   },
   {
    "duration": 1590,
    "start_time": "2022-05-04T07:03:14.941Z"
   },
   {
    "duration": 39,
    "start_time": "2022-05-04T07:03:16.533Z"
   },
   {
    "duration": 4,
    "start_time": "2022-05-04T07:03:16.573Z"
   },
   {
    "duration": 78,
    "start_time": "2022-05-04T07:03:16.578Z"
   },
   {
    "duration": 4,
    "start_time": "2022-05-04T07:03:16.658Z"
   },
   {
    "duration": 8,
    "start_time": "2022-05-04T07:03:16.664Z"
   },
   {
    "duration": 13,
    "start_time": "2022-05-04T07:03:16.673Z"
   },
   {
    "duration": 5,
    "start_time": "2022-05-04T07:03:16.687Z"
   },
   {
    "duration": 87,
    "start_time": "2022-05-04T07:03:16.693Z"
   },
   {
    "duration": 141,
    "start_time": "2022-05-04T07:03:16.782Z"
   },
   {
    "duration": 47,
    "start_time": "2022-05-04T07:03:16.924Z"
   },
   {
    "duration": 166,
    "start_time": "2022-05-04T07:03:16.973Z"
   },
   {
    "duration": 8,
    "start_time": "2022-05-04T07:03:17.140Z"
   },
   {
    "duration": 583,
    "start_time": "2022-05-04T07:03:17.156Z"
   },
   {
    "duration": 1123,
    "start_time": "2022-05-04T07:03:17.740Z"
   },
   {
    "duration": 6,
    "start_time": "2022-05-04T07:03:18.955Z"
   },
   {
    "duration": 4092,
    "start_time": "2022-05-04T07:03:18.963Z"
   },
   {
    "duration": 1258,
    "start_time": "2022-05-04T07:03:23.058Z"
   },
   {
    "duration": 152,
    "start_time": "2022-05-04T07:03:24.318Z"
   },
   {
    "duration": 560,
    "start_time": "2022-05-04T07:03:24.472Z"
   },
   {
    "duration": 538,
    "start_time": "2022-05-04T07:03:25.035Z"
   },
   {
    "duration": 2110,
    "start_time": "2022-05-04T14:30:16.217Z"
   },
   {
    "duration": 58,
    "start_time": "2022-05-04T14:30:18.330Z"
   },
   {
    "duration": 5,
    "start_time": "2022-05-04T14:30:18.390Z"
   },
   {
    "duration": 81,
    "start_time": "2022-05-04T14:30:18.398Z"
   },
   {
    "duration": 5,
    "start_time": "2022-05-04T14:30:18.481Z"
   },
   {
    "duration": 14,
    "start_time": "2022-05-04T14:30:18.488Z"
   },
   {
    "duration": 22,
    "start_time": "2022-05-04T14:30:18.504Z"
   },
   {
    "duration": 10,
    "start_time": "2022-05-04T14:30:18.528Z"
   },
   {
    "duration": 75,
    "start_time": "2022-05-04T14:30:18.540Z"
   },
   {
    "duration": 156,
    "start_time": "2022-05-04T14:30:18.622Z"
   },
   {
    "duration": 43,
    "start_time": "2022-05-04T14:30:18.779Z"
   },
   {
    "duration": 179,
    "start_time": "2022-05-04T14:30:18.824Z"
   },
   {
    "duration": 9,
    "start_time": "2022-05-04T14:30:19.005Z"
   },
   {
    "duration": 635,
    "start_time": "2022-05-04T14:30:19.022Z"
   },
   {
    "duration": 775,
    "start_time": "2022-05-04T14:30:19.659Z"
   },
   {
    "duration": 9,
    "start_time": "2022-05-04T14:30:20.523Z"
   },
   {
    "duration": 4000,
    "start_time": "2022-05-04T14:30:20.623Z"
   },
   {
    "duration": 1258,
    "start_time": "2022-05-04T14:30:24.625Z"
   },
   {
    "duration": 150,
    "start_time": "2022-05-04T14:30:25.884Z"
   },
   {
    "duration": 579,
    "start_time": "2022-05-04T14:30:26.035Z"
   },
   {
    "duration": 515,
    "start_time": "2022-05-04T14:30:26.623Z"
   },
   {
    "duration": 1767,
    "start_time": "2022-05-04T16:55:04.433Z"
   },
   {
    "duration": 55,
    "start_time": "2022-05-04T16:55:11.261Z"
   },
   {
    "duration": 4,
    "start_time": "2022-05-04T16:55:13.315Z"
   },
   {
    "duration": 67,
    "start_time": "2022-05-04T16:55:13.701Z"
   },
   {
    "duration": 4,
    "start_time": "2022-05-04T16:55:14.678Z"
   },
   {
    "duration": 6,
    "start_time": "2022-05-04T16:55:18.710Z"
   },
   {
    "duration": 6,
    "start_time": "2022-05-04T16:55:19.540Z"
   },
   {
    "duration": 3196,
    "start_time": "2022-05-04T16:58:52.704Z"
   },
   {
    "duration": 7,
    "start_time": "2022-05-04T16:59:07.262Z"
   },
   {
    "duration": 4,
    "start_time": "2022-05-04T16:59:41.906Z"
   },
   {
    "duration": 36,
    "start_time": "2022-05-04T16:59:43.946Z"
   },
   {
    "duration": 4,
    "start_time": "2022-05-04T16:59:46.482Z"
   },
   {
    "duration": 61,
    "start_time": "2022-05-04T16:59:46.968Z"
   },
   {
    "duration": 4,
    "start_time": "2022-05-04T16:59:51.093Z"
   },
   {
    "duration": 5,
    "start_time": "2022-05-04T16:59:53.735Z"
   },
   {
    "duration": 7,
    "start_time": "2022-05-04T16:59:54.294Z"
   },
   {
    "duration": 7,
    "start_time": "2022-05-04T17:00:29.083Z"
   },
   {
    "duration": 4,
    "start_time": "2022-05-04T17:00:46.331Z"
   },
   {
    "duration": 40,
    "start_time": "2022-05-04T17:00:49.530Z"
   },
   {
    "duration": 3,
    "start_time": "2022-05-04T17:00:51.778Z"
   },
   {
    "duration": 61,
    "start_time": "2022-05-04T17:00:52.193Z"
   },
   {
    "duration": 4,
    "start_time": "2022-05-04T17:00:56.070Z"
   },
   {
    "duration": 5,
    "start_time": "2022-05-04T17:01:08.589Z"
   },
   {
    "duration": 6,
    "start_time": "2022-05-04T17:01:29.130Z"
   },
   {
    "duration": 7,
    "start_time": "2022-05-04T17:01:32.513Z"
   },
   {
    "duration": 5,
    "start_time": "2022-05-04T17:01:40.009Z"
   },
   {
    "duration": 7,
    "start_time": "2022-05-04T17:08:52.917Z"
   },
   {
    "duration": 52,
    "start_time": "2022-05-06T11:37:30.162Z"
   },
   {
    "duration": 1741,
    "start_time": "2022-05-06T11:37:44.872Z"
   },
   {
    "duration": 55,
    "start_time": "2022-05-06T11:37:49.637Z"
   },
   {
    "duration": 116,
    "start_time": "2022-05-06T11:37:53.514Z"
   },
   {
    "duration": 24,
    "start_time": "2022-05-06T11:38:01.392Z"
   },
   {
    "duration": 40,
    "start_time": "2022-05-06T11:42:07.496Z"
   },
   {
    "duration": 42,
    "start_time": "2022-05-06T11:42:17.499Z"
   },
   {
    "duration": 122,
    "start_time": "2022-05-06T11:44:12.220Z"
   },
   {
    "duration": 11,
    "start_time": "2022-05-06T11:47:00.104Z"
   },
   {
    "duration": 130,
    "start_time": "2022-05-06T11:47:57.603Z"
   },
   {
    "duration": 1584,
    "start_time": "2022-05-06T11:48:35.550Z"
   },
   {
    "duration": 53,
    "start_time": "2022-05-06T11:48:39.451Z"
   },
   {
    "duration": 21,
    "start_time": "2022-05-06T11:48:41.305Z"
   },
   {
    "duration": 43,
    "start_time": "2022-05-06T11:48:42.011Z"
   },
   {
    "duration": 11,
    "start_time": "2022-05-06T11:48:43.947Z"
   },
   {
    "duration": 8,
    "start_time": "2022-05-06T11:48:45.995Z"
   },
   {
    "duration": 19,
    "start_time": "2022-05-06T11:48:47.506Z"
   },
   {
    "duration": 5,
    "start_time": "2022-05-06T11:48:52.923Z"
   },
   {
    "duration": 84,
    "start_time": "2022-05-06T11:59:07.240Z"
   },
   {
    "duration": 57,
    "start_time": "2022-05-06T12:01:34.723Z"
   },
   {
    "duration": 57,
    "start_time": "2022-05-06T12:01:45.017Z"
   },
   {
    "duration": 63,
    "start_time": "2022-05-06T12:02:27.129Z"
   },
   {
    "duration": 140,
    "start_time": "2022-05-06T12:04:30.632Z"
   },
   {
    "duration": 49,
    "start_time": "2022-05-06T12:04:43.276Z"
   },
   {
    "duration": 68,
    "start_time": "2022-05-06T12:04:58.041Z"
   },
   {
    "duration": 49,
    "start_time": "2022-05-06T12:05:28.132Z"
   },
   {
    "duration": 45,
    "start_time": "2022-05-06T12:05:41.821Z"
   },
   {
    "duration": 51,
    "start_time": "2022-05-06T12:05:48.150Z"
   },
   {
    "duration": 44,
    "start_time": "2022-05-06T12:05:51.903Z"
   },
   {
    "duration": 61,
    "start_time": "2022-05-06T12:05:59.702Z"
   },
   {
    "duration": 12,
    "start_time": "2022-05-06T12:10:45.818Z"
   },
   {
    "duration": 22,
    "start_time": "2022-05-06T12:15:14.965Z"
   },
   {
    "duration": 18,
    "start_time": "2022-05-06T12:15:32.731Z"
   },
   {
    "duration": 1580,
    "start_time": "2022-05-06T12:16:32.773Z"
   },
   {
    "duration": 53,
    "start_time": "2022-05-06T12:16:34.355Z"
   },
   {
    "duration": 22,
    "start_time": "2022-05-06T12:16:34.410Z"
   },
   {
    "duration": 68,
    "start_time": "2022-05-06T12:16:34.434Z"
   },
   {
    "duration": 11,
    "start_time": "2022-05-06T12:16:34.504Z"
   },
   {
    "duration": 4,
    "start_time": "2022-05-06T12:16:34.517Z"
   },
   {
    "duration": 15,
    "start_time": "2022-05-06T12:16:34.522Z"
   },
   {
    "duration": 13,
    "start_time": "2022-05-06T12:16:34.538Z"
   },
   {
    "duration": 29,
    "start_time": "2022-05-06T12:16:34.553Z"
   },
   {
    "duration": 93,
    "start_time": "2022-05-06T12:16:34.585Z"
   },
   {
    "duration": 53,
    "start_time": "2022-05-06T12:16:34.680Z"
   },
   {
    "duration": 80,
    "start_time": "2022-05-06T12:16:34.735Z"
   },
   {
    "duration": 19,
    "start_time": "2022-05-06T12:16:34.817Z"
   },
   {
    "duration": 60,
    "start_time": "2022-05-06T12:16:34.837Z"
   },
   {
    "duration": 200,
    "start_time": "2022-05-06T12:16:34.901Z"
   },
   {
    "duration": 9,
    "start_time": "2022-05-06T12:16:35.103Z"
   },
   {
    "duration": 623,
    "start_time": "2022-05-06T12:16:35.113Z"
   },
   {
    "duration": 1045,
    "start_time": "2022-05-06T12:16:35.737Z"
   },
   {
    "duration": 90,
    "start_time": "2022-05-06T12:16:36.791Z"
   },
   {
    "duration": 3610,
    "start_time": "2022-05-06T12:16:36.885Z"
   },
   {
    "duration": 1365,
    "start_time": "2022-05-06T12:16:40.497Z"
   },
   {
    "duration": 163,
    "start_time": "2022-05-06T12:16:41.864Z"
   },
   {
    "duration": 637,
    "start_time": "2022-05-06T12:16:42.029Z"
   },
   {
    "duration": 567,
    "start_time": "2022-05-06T12:16:42.673Z"
   },
   {
    "duration": 5,
    "start_time": "2022-05-06T12:21:38.643Z"
   },
   {
    "duration": 58,
    "start_time": "2022-05-06T12:21:40.570Z"
   },
   {
    "duration": 23,
    "start_time": "2022-05-06T12:21:41.489Z"
   },
   {
    "duration": 50,
    "start_time": "2022-05-06T12:21:41.766Z"
   },
   {
    "duration": 11,
    "start_time": "2022-05-06T12:21:44.539Z"
   },
   {
    "duration": 4,
    "start_time": "2022-05-06T12:21:45.804Z"
   },
   {
    "duration": 10,
    "start_time": "2022-05-06T12:21:46.856Z"
   },
   {
    "duration": 14,
    "start_time": "2022-05-06T12:21:50.111Z"
   },
   {
    "duration": 6,
    "start_time": "2022-05-06T12:21:50.622Z"
   },
   {
    "duration": 30,
    "start_time": "2022-05-06T12:21:51.315Z"
   },
   {
    "duration": 45,
    "start_time": "2022-05-06T12:21:53.609Z"
   },
   {
    "duration": 64,
    "start_time": "2022-05-06T12:21:53.899Z"
   },
   {
    "duration": 20,
    "start_time": "2022-05-06T12:21:57.405Z"
   },
   {
    "duration": 10,
    "start_time": "2022-05-06T12:22:07.522Z"
   },
   {
    "duration": 17,
    "start_time": "2022-05-06T12:22:38.208Z"
   },
   {
    "duration": 9,
    "start_time": "2022-05-06T12:23:26.402Z"
   },
   {
    "duration": 115,
    "start_time": "2022-05-06T12:26:52.532Z"
   },
   {
    "duration": 124,
    "start_time": "2022-05-06T12:26:57.062Z"
   },
   {
    "duration": 1595,
    "start_time": "2022-05-06T12:28:25.393Z"
   },
   {
    "duration": 48,
    "start_time": "2022-05-06T12:28:26.992Z"
   },
   {
    "duration": 22,
    "start_time": "2022-05-06T12:28:27.042Z"
   },
   {
    "duration": 69,
    "start_time": "2022-05-06T12:28:27.067Z"
   },
   {
    "duration": 11,
    "start_time": "2022-05-06T12:28:27.138Z"
   },
   {
    "duration": 4,
    "start_time": "2022-05-06T12:28:27.151Z"
   },
   {
    "duration": 12,
    "start_time": "2022-05-06T12:28:27.156Z"
   },
   {
    "duration": 19,
    "start_time": "2022-05-06T12:28:27.177Z"
   },
   {
    "duration": 19,
    "start_time": "2022-05-06T12:28:27.198Z"
   },
   {
    "duration": 76,
    "start_time": "2022-05-06T12:28:27.220Z"
   },
   {
    "duration": 53,
    "start_time": "2022-05-06T12:28:27.297Z"
   },
   {
    "duration": 95,
    "start_time": "2022-05-06T12:28:27.351Z"
   },
   {
    "duration": 7,
    "start_time": "2022-05-06T12:28:27.448Z"
   },
   {
    "duration": 52,
    "start_time": "2022-05-06T12:28:27.457Z"
   },
   {
    "duration": 32,
    "start_time": "2022-05-06T12:28:27.510Z"
   },
   {
    "duration": 211,
    "start_time": "2022-05-06T12:28:27.544Z"
   },
   {
    "duration": 8,
    "start_time": "2022-05-06T12:28:27.757Z"
   },
   {
    "duration": 658,
    "start_time": "2022-05-06T12:28:27.767Z"
   },
   {
    "duration": 1079,
    "start_time": "2022-05-06T12:28:28.428Z"
   },
   {
    "duration": 5,
    "start_time": "2022-05-06T12:28:29.512Z"
   },
   {
    "duration": 3971,
    "start_time": "2022-05-06T12:28:29.519Z"
   },
   {
    "duration": 1365,
    "start_time": "2022-05-06T12:28:33.498Z"
   },
   {
    "duration": 170,
    "start_time": "2022-05-06T12:28:34.866Z"
   },
   {
    "duration": 662,
    "start_time": "2022-05-06T12:28:35.037Z"
   },
   {
    "duration": 567,
    "start_time": "2022-05-06T12:28:35.701Z"
   },
   {
    "duration": 23,
    "start_time": "2022-05-06T12:31:36.622Z"
   },
   {
    "duration": 149,
    "start_time": "2022-05-06T12:31:54.938Z"
   },
   {
    "duration": 12,
    "start_time": "2022-05-06T12:32:00.029Z"
   },
   {
    "duration": 17,
    "start_time": "2022-05-06T12:32:05.193Z"
   },
   {
    "duration": 7,
    "start_time": "2022-05-06T12:32:13.634Z"
   },
   {
    "duration": 22,
    "start_time": "2022-05-06T12:33:10.436Z"
   },
   {
    "duration": 5,
    "start_time": "2022-05-06T12:33:18.819Z"
   },
   {
    "duration": 26,
    "start_time": "2022-05-06T12:33:56.896Z"
   },
   {
    "duration": 1530,
    "start_time": "2022-05-06T12:34:42.457Z"
   },
   {
    "duration": 47,
    "start_time": "2022-05-06T12:34:43.989Z"
   },
   {
    "duration": 19,
    "start_time": "2022-05-06T12:34:44.038Z"
   },
   {
    "duration": 61,
    "start_time": "2022-05-06T12:34:44.059Z"
   },
   {
    "duration": 11,
    "start_time": "2022-05-06T12:34:44.121Z"
   },
   {
    "duration": 4,
    "start_time": "2022-05-06T12:34:44.134Z"
   },
   {
    "duration": 13,
    "start_time": "2022-05-06T12:34:44.140Z"
   },
   {
    "duration": 39,
    "start_time": "2022-05-06T12:34:44.154Z"
   },
   {
    "duration": 24,
    "start_time": "2022-05-06T12:34:44.195Z"
   },
   {
    "duration": 78,
    "start_time": "2022-05-06T12:34:44.222Z"
   },
   {
    "duration": 50,
    "start_time": "2022-05-06T12:34:44.305Z"
   },
   {
    "duration": 84,
    "start_time": "2022-05-06T12:34:44.356Z"
   },
   {
    "duration": 7,
    "start_time": "2022-05-06T12:34:44.441Z"
   },
   {
    "duration": 60,
    "start_time": "2022-05-06T12:34:44.450Z"
   },
   {
    "duration": 33,
    "start_time": "2022-05-06T12:34:44.511Z"
   },
   {
    "duration": 206,
    "start_time": "2022-05-06T12:34:44.545Z"
   },
   {
    "duration": 8,
    "start_time": "2022-05-06T12:34:44.753Z"
   },
   {
    "duration": 755,
    "start_time": "2022-05-06T12:34:44.764Z"
   },
   {
    "duration": 987,
    "start_time": "2022-05-06T12:34:45.520Z"
   },
   {
    "duration": 32,
    "start_time": "2022-05-06T12:34:46.584Z"
   },
   {
    "duration": 4067,
    "start_time": "2022-05-06T12:34:46.618Z"
   },
   {
    "duration": 1416,
    "start_time": "2022-05-06T12:34:50.690Z"
   },
   {
    "duration": 171,
    "start_time": "2022-05-06T12:34:52.108Z"
   },
   {
    "duration": 630,
    "start_time": "2022-05-06T12:34:52.281Z"
   },
   {
    "duration": 565,
    "start_time": "2022-05-06T12:34:52.913Z"
   },
   {
    "duration": 25,
    "start_time": "2022-05-06T12:36:07.922Z"
   },
   {
    "duration": 1576,
    "start_time": "2022-05-06T12:37:08.941Z"
   },
   {
    "duration": 62,
    "start_time": "2022-05-06T12:37:11.874Z"
   },
   {
    "duration": 26,
    "start_time": "2022-05-06T12:37:13.459Z"
   },
   {
    "duration": 44,
    "start_time": "2022-05-06T12:37:16.313Z"
   },
   {
    "duration": 12,
    "start_time": "2022-05-06T12:37:17.104Z"
   },
   {
    "duration": 5,
    "start_time": "2022-05-06T12:37:19.458Z"
   },
   {
    "duration": 14,
    "start_time": "2022-05-06T12:37:20.603Z"
   },
   {
    "duration": 12,
    "start_time": "2022-05-06T12:37:21.334Z"
   },
   {
    "duration": 11,
    "start_time": "2022-05-06T12:37:22.199Z"
   },
   {
    "duration": 79,
    "start_time": "2022-05-06T12:37:24.757Z"
   },
   {
    "duration": 51,
    "start_time": "2022-05-06T12:37:27.131Z"
   },
   {
    "duration": 76,
    "start_time": "2022-05-06T12:37:27.695Z"
   },
   {
    "duration": 26,
    "start_time": "2022-05-06T12:37:30.695Z"
   },
   {
    "duration": 38,
    "start_time": "2022-05-06T12:37:36.367Z"
   },
   {
    "duration": 25,
    "start_time": "2022-05-06T12:39:10.768Z"
   },
   {
    "duration": 40,
    "start_time": "2022-05-06T13:41:30.371Z"
   },
   {
    "duration": 138,
    "start_time": "2022-05-06T13:41:47.300Z"
   },
   {
    "duration": 13,
    "start_time": "2022-05-06T13:42:00.916Z"
   },
   {
    "duration": 1652,
    "start_time": "2022-05-06T13:42:25.550Z"
   },
   {
    "duration": 43,
    "start_time": "2022-05-06T13:42:27.204Z"
   },
   {
    "duration": 35,
    "start_time": "2022-05-06T13:42:27.248Z"
   },
   {
    "duration": 46,
    "start_time": "2022-05-06T13:42:27.286Z"
   },
   {
    "duration": 11,
    "start_time": "2022-05-06T13:42:27.334Z"
   },
   {
    "duration": 4,
    "start_time": "2022-05-06T13:42:27.347Z"
   },
   {
    "duration": 31,
    "start_time": "2022-05-06T13:42:27.353Z"
   },
   {
    "duration": 18,
    "start_time": "2022-05-06T13:42:27.386Z"
   },
   {
    "duration": 10,
    "start_time": "2022-05-06T13:42:27.409Z"
   },
   {
    "duration": 94,
    "start_time": "2022-05-06T13:42:27.422Z"
   },
   {
    "duration": 68,
    "start_time": "2022-05-06T13:42:27.518Z"
   },
   {
    "duration": 67,
    "start_time": "2022-05-06T13:42:27.589Z"
   },
   {
    "duration": 32,
    "start_time": "2022-05-06T13:42:27.658Z"
   },
   {
    "duration": 32,
    "start_time": "2022-05-06T13:42:27.692Z"
   },
   {
    "duration": 28,
    "start_time": "2022-05-06T13:42:27.726Z"
   },
   {
    "duration": 208,
    "start_time": "2022-05-06T13:42:27.756Z"
   },
   {
    "duration": 16,
    "start_time": "2022-05-06T13:42:27.965Z"
   },
   {
    "duration": 677,
    "start_time": "2022-05-06T13:42:27.982Z"
   },
   {
    "duration": 1044,
    "start_time": "2022-05-06T13:42:28.661Z"
   },
   {
    "duration": 21,
    "start_time": "2022-05-06T13:42:29.773Z"
   },
   {
    "duration": 3783,
    "start_time": "2022-05-06T13:42:29.799Z"
   },
   {
    "duration": 1281,
    "start_time": "2022-05-06T13:42:33.587Z"
   },
   {
    "duration": 148,
    "start_time": "2022-05-06T13:42:34.879Z"
   },
   {
    "duration": 632,
    "start_time": "2022-05-06T13:42:35.028Z"
   },
   {
    "duration": 584,
    "start_time": "2022-05-06T13:42:35.661Z"
   },
   {
    "duration": 9,
    "start_time": "2022-05-06T13:48:05.256Z"
   },
   {
    "duration": 14,
    "start_time": "2022-05-06T13:54:06.184Z"
   },
   {
    "duration": 11,
    "start_time": "2022-05-06T13:55:55.046Z"
   },
   {
    "duration": 35,
    "start_time": "2022-05-06T13:56:30.600Z"
   },
   {
    "duration": 13,
    "start_time": "2022-05-06T13:56:51.257Z"
   },
   {
    "duration": 166,
    "start_time": "2022-05-06T14:05:50.959Z"
   },
   {
    "duration": 41,
    "start_time": "2022-05-06T14:06:48.194Z"
   },
   {
    "duration": 39,
    "start_time": "2022-05-06T14:07:12.045Z"
   },
   {
    "duration": 44,
    "start_time": "2022-05-06T14:07:59.163Z"
   },
   {
    "duration": 5,
    "start_time": "2022-05-06T14:08:33.264Z"
   },
   {
    "duration": 333,
    "start_time": "2022-05-06T14:09:03.113Z"
   },
   {
    "duration": 909,
    "start_time": "2022-05-06T14:21:18.330Z"
   },
   {
    "duration": 14,
    "start_time": "2022-05-06T14:25:24.173Z"
   },
   {
    "duration": 1474,
    "start_time": "2022-05-06T14:25:41.150Z"
   },
   {
    "duration": 4,
    "start_time": "2022-05-06T14:27:44.539Z"
   },
   {
    "duration": 296,
    "start_time": "2022-05-06T14:28:04.112Z"
   },
   {
    "duration": 4,
    "start_time": "2022-05-06T14:28:18.471Z"
   },
   {
    "duration": 239,
    "start_time": "2022-05-06T14:28:21.093Z"
   },
   {
    "duration": 967,
    "start_time": "2022-05-06T14:31:31.430Z"
   },
   {
    "duration": 1495,
    "start_time": "2022-05-06T14:33:12.553Z"
   },
   {
    "duration": 44,
    "start_time": "2022-05-06T14:33:14.050Z"
   },
   {
    "duration": 20,
    "start_time": "2022-05-06T14:33:14.096Z"
   },
   {
    "duration": 55,
    "start_time": "2022-05-06T14:33:14.119Z"
   },
   {
    "duration": 10,
    "start_time": "2022-05-06T14:33:14.176Z"
   },
   {
    "duration": 4,
    "start_time": "2022-05-06T14:33:14.188Z"
   },
   {
    "duration": 17,
    "start_time": "2022-05-06T14:33:14.193Z"
   },
   {
    "duration": 11,
    "start_time": "2022-05-06T14:33:14.212Z"
   },
   {
    "duration": 4,
    "start_time": "2022-05-06T14:33:14.225Z"
   },
   {
    "duration": 92,
    "start_time": "2022-05-06T14:33:14.231Z"
   },
   {
    "duration": 53,
    "start_time": "2022-05-06T14:33:14.325Z"
   },
   {
    "duration": 63,
    "start_time": "2022-05-06T14:33:14.380Z"
   },
   {
    "duration": 40,
    "start_time": "2022-05-06T14:33:14.445Z"
   },
   {
    "duration": 35,
    "start_time": "2022-05-06T14:33:14.487Z"
   },
   {
    "duration": 12,
    "start_time": "2022-05-06T14:33:14.523Z"
   },
   {
    "duration": 4,
    "start_time": "2022-05-06T14:33:14.537Z"
   },
   {
    "duration": 30,
    "start_time": "2022-05-06T14:33:14.544Z"
   },
   {
    "duration": 125,
    "start_time": "2022-05-06T14:33:14.576Z"
   },
   {
    "duration": 0,
    "start_time": "2022-05-06T14:33:14.703Z"
   },
   {
    "duration": 0,
    "start_time": "2022-05-06T14:33:14.705Z"
   },
   {
    "duration": 0,
    "start_time": "2022-05-06T14:33:14.706Z"
   },
   {
    "duration": 0,
    "start_time": "2022-05-06T14:33:14.708Z"
   },
   {
    "duration": 0,
    "start_time": "2022-05-06T14:33:14.709Z"
   },
   {
    "duration": 0,
    "start_time": "2022-05-06T14:33:14.711Z"
   },
   {
    "duration": 0,
    "start_time": "2022-05-06T14:33:14.712Z"
   },
   {
    "duration": 0,
    "start_time": "2022-05-06T14:33:14.713Z"
   },
   {
    "duration": 0,
    "start_time": "2022-05-06T14:33:14.715Z"
   },
   {
    "duration": 0,
    "start_time": "2022-05-06T14:33:14.716Z"
   },
   {
    "duration": 0,
    "start_time": "2022-05-06T14:33:14.718Z"
   },
   {
    "duration": 0,
    "start_time": "2022-05-06T14:33:14.719Z"
   },
   {
    "duration": 3,
    "start_time": "2022-05-06T14:34:00.378Z"
   },
   {
    "duration": 21,
    "start_time": "2022-05-06T14:34:01.271Z"
   },
   {
    "duration": 19,
    "start_time": "2022-05-06T14:34:37.641Z"
   },
   {
    "duration": 97,
    "start_time": "2022-05-06T14:35:23.334Z"
   },
   {
    "duration": 13,
    "start_time": "2022-05-06T14:35:28.944Z"
   },
   {
    "duration": 11,
    "start_time": "2022-05-06T14:35:32.872Z"
   },
   {
    "duration": 12,
    "start_time": "2022-05-06T14:35:41.499Z"
   },
   {
    "duration": 6,
    "start_time": "2022-05-06T14:38:40.044Z"
   },
   {
    "duration": 18,
    "start_time": "2022-05-06T14:39:34.717Z"
   },
   {
    "duration": 1541,
    "start_time": "2022-05-06T14:40:10.763Z"
   },
   {
    "duration": 47,
    "start_time": "2022-05-06T14:40:12.306Z"
   },
   {
    "duration": 27,
    "start_time": "2022-05-06T14:40:12.355Z"
   },
   {
    "duration": 49,
    "start_time": "2022-05-06T14:40:12.385Z"
   },
   {
    "duration": 12,
    "start_time": "2022-05-06T14:40:12.435Z"
   },
   {
    "duration": 38,
    "start_time": "2022-05-06T14:40:12.449Z"
   },
   {
    "duration": 27,
    "start_time": "2022-05-06T14:40:12.489Z"
   },
   {
    "duration": 20,
    "start_time": "2022-05-06T14:40:12.518Z"
   },
   {
    "duration": 32,
    "start_time": "2022-05-06T14:40:12.539Z"
   },
   {
    "duration": 89,
    "start_time": "2022-05-06T14:40:12.574Z"
   },
   {
    "duration": 49,
    "start_time": "2022-05-06T14:40:12.665Z"
   },
   {
    "duration": 66,
    "start_time": "2022-05-06T14:40:12.716Z"
   },
   {
    "duration": 26,
    "start_time": "2022-05-06T14:40:12.784Z"
   },
   {
    "duration": 40,
    "start_time": "2022-05-06T14:40:12.813Z"
   },
   {
    "duration": 13,
    "start_time": "2022-05-06T14:40:12.874Z"
   },
   {
    "duration": 6,
    "start_time": "2022-05-06T14:40:12.889Z"
   },
   {
    "duration": 13,
    "start_time": "2022-05-06T14:40:12.897Z"
   },
   {
    "duration": 15,
    "start_time": "2022-05-06T14:40:12.911Z"
   },
   {
    "duration": 141,
    "start_time": "2022-05-06T14:40:12.928Z"
   },
   {
    "duration": 0,
    "start_time": "2022-05-06T14:40:13.072Z"
   },
   {
    "duration": 0,
    "start_time": "2022-05-06T14:40:13.074Z"
   },
   {
    "duration": 0,
    "start_time": "2022-05-06T14:40:13.074Z"
   },
   {
    "duration": 0,
    "start_time": "2022-05-06T14:40:13.075Z"
   },
   {
    "duration": 0,
    "start_time": "2022-05-06T14:40:13.077Z"
   },
   {
    "duration": 0,
    "start_time": "2022-05-06T14:40:13.077Z"
   },
   {
    "duration": 0,
    "start_time": "2022-05-06T14:40:13.078Z"
   },
   {
    "duration": 0,
    "start_time": "2022-05-06T14:40:13.079Z"
   },
   {
    "duration": 0,
    "start_time": "2022-05-06T14:40:13.080Z"
   },
   {
    "duration": 0,
    "start_time": "2022-05-06T14:40:13.081Z"
   },
   {
    "duration": 0,
    "start_time": "2022-05-06T14:40:13.082Z"
   },
   {
    "duration": 0,
    "start_time": "2022-05-06T14:40:13.083Z"
   },
   {
    "duration": 0,
    "start_time": "2022-05-06T14:40:13.084Z"
   },
   {
    "duration": 26,
    "start_time": "2022-05-06T14:41:57.861Z"
   },
   {
    "duration": 13,
    "start_time": "2022-05-06T14:47:45.032Z"
   },
   {
    "duration": 1457,
    "start_time": "2022-05-06T14:49:48.999Z"
   },
   {
    "duration": 39,
    "start_time": "2022-05-06T14:49:50.458Z"
   },
   {
    "duration": 20,
    "start_time": "2022-05-06T14:49:50.498Z"
   },
   {
    "duration": 57,
    "start_time": "2022-05-06T14:49:50.520Z"
   },
   {
    "duration": 13,
    "start_time": "2022-05-06T14:49:50.579Z"
   },
   {
    "duration": 5,
    "start_time": "2022-05-06T14:49:50.595Z"
   },
   {
    "duration": 21,
    "start_time": "2022-05-06T14:49:50.601Z"
   },
   {
    "duration": 18,
    "start_time": "2022-05-06T14:49:50.624Z"
   },
   {
    "duration": 5,
    "start_time": "2022-05-06T14:49:50.644Z"
   },
   {
    "duration": 65,
    "start_time": "2022-05-06T14:49:50.672Z"
   },
   {
    "duration": 58,
    "start_time": "2022-05-06T14:49:50.739Z"
   },
   {
    "duration": 62,
    "start_time": "2022-05-06T14:49:50.799Z"
   },
   {
    "duration": 26,
    "start_time": "2022-05-06T14:49:50.863Z"
   },
   {
    "duration": 30,
    "start_time": "2022-05-06T14:49:50.891Z"
   },
   {
    "duration": 13,
    "start_time": "2022-05-06T14:49:50.923Z"
   },
   {
    "duration": 5,
    "start_time": "2022-05-06T14:49:50.937Z"
   },
   {
    "duration": 4,
    "start_time": "2022-05-06T14:49:50.973Z"
   },
   {
    "duration": 136,
    "start_time": "2022-05-06T14:49:50.978Z"
   },
   {
    "duration": 0,
    "start_time": "2022-05-06T14:49:51.117Z"
   },
   {
    "duration": 0,
    "start_time": "2022-05-06T14:49:51.118Z"
   },
   {
    "duration": 0,
    "start_time": "2022-05-06T14:49:51.119Z"
   },
   {
    "duration": 0,
    "start_time": "2022-05-06T14:49:51.120Z"
   },
   {
    "duration": 0,
    "start_time": "2022-05-06T14:49:51.121Z"
   },
   {
    "duration": 0,
    "start_time": "2022-05-06T14:49:51.122Z"
   },
   {
    "duration": 0,
    "start_time": "2022-05-06T14:49:51.123Z"
   },
   {
    "duration": 0,
    "start_time": "2022-05-06T14:49:51.124Z"
   },
   {
    "duration": 0,
    "start_time": "2022-05-06T14:49:51.126Z"
   },
   {
    "duration": 0,
    "start_time": "2022-05-06T14:49:51.127Z"
   },
   {
    "duration": 0,
    "start_time": "2022-05-06T14:49:51.128Z"
   },
   {
    "duration": 0,
    "start_time": "2022-05-06T14:49:51.128Z"
   },
   {
    "duration": 23,
    "start_time": "2022-05-06T14:51:31.809Z"
   },
   {
    "duration": 1557,
    "start_time": "2022-05-06T14:52:24.860Z"
   },
   {
    "duration": 46,
    "start_time": "2022-05-06T14:52:26.419Z"
   },
   {
    "duration": 30,
    "start_time": "2022-05-06T14:52:29.145Z"
   },
   {
    "duration": 45,
    "start_time": "2022-05-06T14:52:29.762Z"
   },
   {
    "duration": 12,
    "start_time": "2022-05-06T14:52:31.557Z"
   },
   {
    "duration": 4,
    "start_time": "2022-05-06T14:52:32.623Z"
   },
   {
    "duration": 11,
    "start_time": "2022-05-06T14:52:33.150Z"
   },
   {
    "duration": 13,
    "start_time": "2022-05-06T14:52:33.490Z"
   },
   {
    "duration": 5,
    "start_time": "2022-05-06T14:52:33.796Z"
   },
   {
    "duration": 66,
    "start_time": "2022-05-06T14:52:36.609Z"
   },
   {
    "duration": 49,
    "start_time": "2022-05-06T14:52:36.898Z"
   },
   {
    "duration": 60,
    "start_time": "2022-05-06T14:52:37.210Z"
   },
   {
    "duration": 19,
    "start_time": "2022-05-06T14:52:41.413Z"
   },
   {
    "duration": 119,
    "start_time": "2022-05-06T14:52:46.069Z"
   },
   {
    "duration": 8,
    "start_time": "2022-05-06T14:53:06.384Z"
   },
   {
    "duration": 17,
    "start_time": "2022-05-06T14:55:38.580Z"
   },
   {
    "duration": 13,
    "start_time": "2022-05-06T14:55:43.409Z"
   },
   {
    "duration": 1496,
    "start_time": "2022-05-06T14:55:59.288Z"
   },
   {
    "duration": 47,
    "start_time": "2022-05-06T14:56:00.786Z"
   },
   {
    "duration": 23,
    "start_time": "2022-05-06T14:56:01.190Z"
   },
   {
    "duration": 54,
    "start_time": "2022-05-06T14:56:01.495Z"
   },
   {
    "duration": 12,
    "start_time": "2022-05-06T14:56:02.166Z"
   },
   {
    "duration": 5,
    "start_time": "2022-05-06T14:56:03.095Z"
   },
   {
    "duration": 13,
    "start_time": "2022-05-06T14:56:03.572Z"
   },
   {
    "duration": 18,
    "start_time": "2022-05-06T14:56:03.893Z"
   },
   {
    "duration": 7,
    "start_time": "2022-05-06T14:56:04.324Z"
   },
   {
    "duration": 84,
    "start_time": "2022-05-06T14:56:05.422Z"
   },
   {
    "duration": 48,
    "start_time": "2022-05-06T14:56:06.322Z"
   },
   {
    "duration": 62,
    "start_time": "2022-05-06T14:56:07.457Z"
   },
   {
    "duration": 17,
    "start_time": "2022-05-06T14:56:09.166Z"
   },
   {
    "duration": 18,
    "start_time": "2022-05-06T14:56:26.682Z"
   },
   {
    "duration": 1526,
    "start_time": "2022-05-06T14:57:32.940Z"
   },
   {
    "duration": 46,
    "start_time": "2022-05-06T14:57:34.468Z"
   },
   {
    "duration": 21,
    "start_time": "2022-05-06T14:57:36.424Z"
   },
   {
    "duration": 43,
    "start_time": "2022-05-06T14:57:36.711Z"
   },
   {
    "duration": 12,
    "start_time": "2022-05-06T14:57:39.307Z"
   },
   {
    "duration": 4,
    "start_time": "2022-05-06T14:57:40.306Z"
   },
   {
    "duration": 14,
    "start_time": "2022-05-06T14:57:40.771Z"
   },
   {
    "duration": 16,
    "start_time": "2022-05-06T14:57:41.091Z"
   },
   {
    "duration": 6,
    "start_time": "2022-05-06T14:57:43.420Z"
   },
   {
    "duration": 68,
    "start_time": "2022-05-06T14:57:44.464Z"
   },
   {
    "duration": 49,
    "start_time": "2022-05-06T14:57:45.219Z"
   },
   {
    "duration": 62,
    "start_time": "2022-05-06T14:57:47.007Z"
   },
   {
    "duration": 22,
    "start_time": "2022-05-06T14:57:48.161Z"
   },
   {
    "duration": 29,
    "start_time": "2022-05-06T14:58:35.630Z"
   },
   {
    "duration": 14,
    "start_time": "2022-05-06T14:58:42.503Z"
   },
   {
    "duration": 6,
    "start_time": "2022-05-06T14:58:44.943Z"
   },
   {
    "duration": 4,
    "start_time": "2022-05-06T14:58:45.448Z"
   },
   {
    "duration": 118,
    "start_time": "2022-05-06T14:58:47.164Z"
   },
   {
    "duration": 24,
    "start_time": "2022-05-06T15:02:31.663Z"
   },
   {
    "duration": 1718,
    "start_time": "2022-05-06T15:03:28.400Z"
   },
   {
    "duration": 42,
    "start_time": "2022-05-06T15:03:30.121Z"
   },
   {
    "duration": 39,
    "start_time": "2022-05-06T15:03:30.165Z"
   },
   {
    "duration": 74,
    "start_time": "2022-05-06T15:03:30.207Z"
   },
   {
    "duration": 21,
    "start_time": "2022-05-06T15:03:30.285Z"
   },
   {
    "duration": 13,
    "start_time": "2022-05-06T15:03:30.308Z"
   },
   {
    "duration": 14,
    "start_time": "2022-05-06T15:03:30.323Z"
   },
   {
    "duration": 14,
    "start_time": "2022-05-06T15:03:30.339Z"
   },
   {
    "duration": 51,
    "start_time": "2022-05-06T15:03:30.354Z"
   },
   {
    "duration": 93,
    "start_time": "2022-05-06T15:03:30.409Z"
   },
   {
    "duration": 48,
    "start_time": "2022-05-06T15:03:30.505Z"
   },
   {
    "duration": 85,
    "start_time": "2022-05-06T15:03:30.554Z"
   },
   {
    "duration": 19,
    "start_time": "2022-05-06T15:03:30.642Z"
   },
   {
    "duration": 57,
    "start_time": "2022-05-06T15:03:30.663Z"
   },
   {
    "duration": 13,
    "start_time": "2022-05-06T15:03:30.722Z"
   },
   {
    "duration": 9,
    "start_time": "2022-05-06T15:03:30.737Z"
   },
   {
    "duration": 57,
    "start_time": "2022-05-06T15:03:30.747Z"
   },
   {
    "duration": 156,
    "start_time": "2022-05-06T15:03:30.806Z"
   },
   {
    "duration": 0,
    "start_time": "2022-05-06T15:03:30.964Z"
   },
   {
    "duration": 0,
    "start_time": "2022-05-06T15:03:30.965Z"
   },
   {
    "duration": 0,
    "start_time": "2022-05-06T15:03:30.966Z"
   },
   {
    "duration": 0,
    "start_time": "2022-05-06T15:03:30.967Z"
   },
   {
    "duration": 0,
    "start_time": "2022-05-06T15:03:30.968Z"
   },
   {
    "duration": 0,
    "start_time": "2022-05-06T15:03:30.969Z"
   },
   {
    "duration": 0,
    "start_time": "2022-05-06T15:03:30.970Z"
   },
   {
    "duration": 0,
    "start_time": "2022-05-06T15:03:30.971Z"
   },
   {
    "duration": 0,
    "start_time": "2022-05-06T15:03:30.972Z"
   },
   {
    "duration": 0,
    "start_time": "2022-05-06T15:03:30.977Z"
   },
   {
    "duration": 0,
    "start_time": "2022-05-06T15:03:30.979Z"
   },
   {
    "duration": 0,
    "start_time": "2022-05-06T15:03:30.981Z"
   },
   {
    "duration": 14,
    "start_time": "2022-05-06T15:04:06.546Z"
   },
   {
    "duration": 13,
    "start_time": "2022-05-06T15:04:23.204Z"
   },
   {
    "duration": 2435,
    "start_time": "2022-05-11T07:12:55.769Z"
   },
   {
    "duration": 62,
    "start_time": "2022-05-11T07:12:58.207Z"
   },
   {
    "duration": 30,
    "start_time": "2022-05-11T07:12:58.272Z"
   },
   {
    "duration": 67,
    "start_time": "2022-05-11T07:12:58.326Z"
   },
   {
    "duration": 40,
    "start_time": "2022-05-11T07:12:58.396Z"
   },
   {
    "duration": 7,
    "start_time": "2022-05-11T07:12:58.439Z"
   },
   {
    "duration": 19,
    "start_time": "2022-05-11T07:12:58.448Z"
   },
   {
    "duration": 17,
    "start_time": "2022-05-11T07:12:58.469Z"
   },
   {
    "duration": 46,
    "start_time": "2022-05-11T07:12:58.489Z"
   },
   {
    "duration": 121,
    "start_time": "2022-05-11T07:12:58.539Z"
   },
   {
    "duration": 88,
    "start_time": "2022-05-11T07:12:58.662Z"
   },
   {
    "duration": 110,
    "start_time": "2022-05-11T07:12:58.752Z"
   },
   {
    "duration": 30,
    "start_time": "2022-05-11T07:12:58.865Z"
   },
   {
    "duration": 46,
    "start_time": "2022-05-11T07:12:58.897Z"
   },
   {
    "duration": 48,
    "start_time": "2022-05-11T07:12:58.945Z"
   },
   {
    "duration": 37,
    "start_time": "2022-05-11T07:12:58.995Z"
   },
   {
    "duration": 31,
    "start_time": "2022-05-11T07:12:59.036Z"
   },
   {
    "duration": 7,
    "start_time": "2022-05-11T07:12:59.069Z"
   },
   {
    "duration": 7,
    "start_time": "2022-05-11T07:12:59.078Z"
   },
   {
    "duration": 232,
    "start_time": "2022-05-11T07:12:59.087Z"
   },
   {
    "duration": 0,
    "start_time": "2022-05-11T07:12:59.325Z"
   },
   {
    "duration": 0,
    "start_time": "2022-05-11T07:12:59.328Z"
   },
   {
    "duration": 0,
    "start_time": "2022-05-11T07:12:59.330Z"
   },
   {
    "duration": 0,
    "start_time": "2022-05-11T07:12:59.332Z"
   },
   {
    "duration": 0,
    "start_time": "2022-05-11T07:12:59.334Z"
   },
   {
    "duration": 0,
    "start_time": "2022-05-11T07:12:59.337Z"
   },
   {
    "duration": 0,
    "start_time": "2022-05-11T07:12:59.339Z"
   },
   {
    "duration": 0,
    "start_time": "2022-05-11T07:12:59.342Z"
   },
   {
    "duration": 1,
    "start_time": "2022-05-11T07:12:59.343Z"
   },
   {
    "duration": 0,
    "start_time": "2022-05-11T07:12:59.347Z"
   },
   {
    "duration": 0,
    "start_time": "2022-05-11T07:12:59.349Z"
   },
   {
    "duration": 0,
    "start_time": "2022-05-11T07:12:59.351Z"
   },
   {
    "duration": 35,
    "start_time": "2022-05-11T07:27:58.912Z"
   },
   {
    "duration": 34,
    "start_time": "2022-05-11T07:32:37.725Z"
   },
   {
    "duration": 27,
    "start_time": "2022-05-11T07:32:49.652Z"
   },
   {
    "duration": 38,
    "start_time": "2022-05-11T07:40:39.539Z"
   },
   {
    "duration": 58,
    "start_time": "2022-05-11T07:40:49.925Z"
   },
   {
    "duration": 57,
    "start_time": "2022-05-11T07:41:07.856Z"
   },
   {
    "duration": 2128,
    "start_time": "2022-05-11T07:43:07.887Z"
   },
   {
    "duration": 70,
    "start_time": "2022-05-11T07:43:10.018Z"
   },
   {
    "duration": 53,
    "start_time": "2022-05-11T07:43:10.090Z"
   },
   {
    "duration": 65,
    "start_time": "2022-05-11T07:43:10.146Z"
   },
   {
    "duration": 21,
    "start_time": "2022-05-11T07:43:10.225Z"
   },
   {
    "duration": 8,
    "start_time": "2022-05-11T07:43:10.249Z"
   },
   {
    "duration": 30,
    "start_time": "2022-05-11T07:43:10.260Z"
   },
   {
    "duration": 49,
    "start_time": "2022-05-11T07:43:10.293Z"
   },
   {
    "duration": 8,
    "start_time": "2022-05-11T07:43:10.344Z"
   },
   {
    "duration": 124,
    "start_time": "2022-05-11T07:43:10.355Z"
   },
   {
    "duration": 84,
    "start_time": "2022-05-11T07:43:10.481Z"
   },
   {
    "duration": 114,
    "start_time": "2022-05-11T07:43:10.567Z"
   },
   {
    "duration": 15,
    "start_time": "2022-05-11T07:43:10.683Z"
   },
   {
    "duration": 74,
    "start_time": "2022-05-11T07:43:10.700Z"
   },
   {
    "duration": 17,
    "start_time": "2022-05-11T07:43:10.777Z"
   },
   {
    "duration": 34,
    "start_time": "2022-05-11T07:43:10.797Z"
   },
   {
    "duration": 39,
    "start_time": "2022-05-11T07:43:10.834Z"
   },
   {
    "duration": 226,
    "start_time": "2022-05-11T07:43:10.876Z"
   },
   {
    "duration": 0,
    "start_time": "2022-05-11T07:43:11.105Z"
   },
   {
    "duration": 0,
    "start_time": "2022-05-11T07:43:11.107Z"
   },
   {
    "duration": 0,
    "start_time": "2022-05-11T07:43:11.109Z"
   },
   {
    "duration": 0,
    "start_time": "2022-05-11T07:43:11.111Z"
   },
   {
    "duration": 0,
    "start_time": "2022-05-11T07:43:11.125Z"
   },
   {
    "duration": 0,
    "start_time": "2022-05-11T07:43:11.128Z"
   },
   {
    "duration": 0,
    "start_time": "2022-05-11T07:43:11.130Z"
   },
   {
    "duration": 0,
    "start_time": "2022-05-11T07:43:11.132Z"
   },
   {
    "duration": 0,
    "start_time": "2022-05-11T07:43:11.134Z"
   },
   {
    "duration": 1,
    "start_time": "2022-05-11T07:43:11.136Z"
   },
   {
    "duration": 0,
    "start_time": "2022-05-11T07:43:11.139Z"
   },
   {
    "duration": 0,
    "start_time": "2022-05-11T07:43:11.141Z"
   },
   {
    "duration": 2207,
    "start_time": "2022-05-11T07:46:52.272Z"
   },
   {
    "duration": 66,
    "start_time": "2022-05-11T07:46:54.482Z"
   },
   {
    "duration": 32,
    "start_time": "2022-05-11T07:46:54.550Z"
   },
   {
    "duration": 96,
    "start_time": "2022-05-11T07:46:54.585Z"
   },
   {
    "duration": 14,
    "start_time": "2022-05-11T07:46:54.683Z"
   },
   {
    "duration": 25,
    "start_time": "2022-05-11T07:46:54.699Z"
   },
   {
    "duration": 25,
    "start_time": "2022-05-11T07:46:54.729Z"
   },
   {
    "duration": 18,
    "start_time": "2022-05-11T07:46:54.757Z"
   },
   {
    "duration": 7,
    "start_time": "2022-05-11T07:46:54.777Z"
   },
   {
    "duration": 152,
    "start_time": "2022-05-11T07:46:54.790Z"
   },
   {
    "duration": 90,
    "start_time": "2022-05-11T07:46:54.944Z"
   },
   {
    "duration": 110,
    "start_time": "2022-05-11T07:46:55.037Z"
   },
   {
    "duration": 10,
    "start_time": "2022-05-11T07:46:55.149Z"
   },
   {
    "duration": 77,
    "start_time": "2022-05-11T07:46:55.161Z"
   },
   {
    "duration": 19,
    "start_time": "2022-05-11T07:46:55.240Z"
   },
   {
    "duration": 6,
    "start_time": "2022-05-11T07:46:55.261Z"
   },
   {
    "duration": 9,
    "start_time": "2022-05-11T07:46:55.269Z"
   },
   {
    "duration": 222,
    "start_time": "2022-05-11T07:46:55.280Z"
   },
   {
    "duration": 0,
    "start_time": "2022-05-11T07:46:55.505Z"
   },
   {
    "duration": 0,
    "start_time": "2022-05-11T07:46:55.507Z"
   },
   {
    "duration": 0,
    "start_time": "2022-05-11T07:46:55.508Z"
   },
   {
    "duration": 0,
    "start_time": "2022-05-11T07:46:55.510Z"
   },
   {
    "duration": 0,
    "start_time": "2022-05-11T07:46:55.529Z"
   },
   {
    "duration": 0,
    "start_time": "2022-05-11T07:46:55.531Z"
   },
   {
    "duration": 0,
    "start_time": "2022-05-11T07:46:55.533Z"
   },
   {
    "duration": 0,
    "start_time": "2022-05-11T07:46:55.534Z"
   },
   {
    "duration": 0,
    "start_time": "2022-05-11T07:46:55.536Z"
   },
   {
    "duration": 0,
    "start_time": "2022-05-11T07:46:55.537Z"
   },
   {
    "duration": 0,
    "start_time": "2022-05-11T07:46:55.538Z"
   },
   {
    "duration": 0,
    "start_time": "2022-05-11T07:46:55.540Z"
   },
   {
    "duration": 26,
    "start_time": "2022-05-11T07:49:23.312Z"
   },
   {
    "duration": 33,
    "start_time": "2022-05-11T07:50:08.448Z"
   },
   {
    "duration": 30,
    "start_time": "2022-05-11T07:50:38.382Z"
   },
   {
    "duration": 33,
    "start_time": "2022-05-11T07:50:52.577Z"
   },
   {
    "duration": 60,
    "start_time": "2022-05-11T07:50:57.420Z"
   },
   {
    "duration": 59,
    "start_time": "2022-05-11T07:51:06.021Z"
   },
   {
    "duration": 24,
    "start_time": "2022-05-11T07:51:12.919Z"
   },
   {
    "duration": 6,
    "start_time": "2022-05-11T07:51:16.491Z"
   },
   {
    "duration": 5,
    "start_time": "2022-05-11T07:51:16.812Z"
   },
   {
    "duration": 26,
    "start_time": "2022-05-11T07:51:18.783Z"
   },
   {
    "duration": 2115,
    "start_time": "2022-05-11T07:51:25.275Z"
   },
   {
    "duration": 63,
    "start_time": "2022-05-11T07:51:27.394Z"
   },
   {
    "duration": 31,
    "start_time": "2022-05-11T07:51:27.459Z"
   },
   {
    "duration": 97,
    "start_time": "2022-05-11T07:51:27.493Z"
   },
   {
    "duration": 45,
    "start_time": "2022-05-11T07:51:27.593Z"
   },
   {
    "duration": 6,
    "start_time": "2022-05-11T07:51:27.641Z"
   },
   {
    "duration": 17,
    "start_time": "2022-05-11T07:51:27.649Z"
   },
   {
    "duration": 19,
    "start_time": "2022-05-11T07:51:27.668Z"
   },
   {
    "duration": 7,
    "start_time": "2022-05-11T07:51:27.689Z"
   },
   {
    "duration": 120,
    "start_time": "2022-05-11T07:51:27.734Z"
   },
   {
    "duration": 91,
    "start_time": "2022-05-11T07:51:27.856Z"
   },
   {
    "duration": 107,
    "start_time": "2022-05-11T07:51:27.949Z"
   },
   {
    "duration": 34,
    "start_time": "2022-05-11T07:51:28.058Z"
   },
   {
    "duration": 76,
    "start_time": "2022-05-11T07:51:28.095Z"
   },
   {
    "duration": 17,
    "start_time": "2022-05-11T07:51:28.173Z"
   },
   {
    "duration": 39,
    "start_time": "2022-05-11T07:51:28.192Z"
   },
   {
    "duration": 15,
    "start_time": "2022-05-11T07:51:28.235Z"
   },
   {
    "duration": 229,
    "start_time": "2022-05-11T07:51:28.252Z"
   },
   {
    "duration": 0,
    "start_time": "2022-05-11T07:51:28.483Z"
   },
   {
    "duration": 0,
    "start_time": "2022-05-11T07:51:28.484Z"
   },
   {
    "duration": 0,
    "start_time": "2022-05-11T07:51:28.486Z"
   },
   {
    "duration": 0,
    "start_time": "2022-05-11T07:51:28.487Z"
   },
   {
    "duration": 0,
    "start_time": "2022-05-11T07:51:28.488Z"
   },
   {
    "duration": 0,
    "start_time": "2022-05-11T07:51:28.490Z"
   },
   {
    "duration": 0,
    "start_time": "2022-05-11T07:51:28.491Z"
   },
   {
    "duration": 0,
    "start_time": "2022-05-11T07:51:28.493Z"
   },
   {
    "duration": 0,
    "start_time": "2022-05-11T07:51:28.494Z"
   },
   {
    "duration": 0,
    "start_time": "2022-05-11T07:51:28.496Z"
   },
   {
    "duration": 0,
    "start_time": "2022-05-11T07:51:28.497Z"
   },
   {
    "duration": 0,
    "start_time": "2022-05-11T07:51:28.500Z"
   },
   {
    "duration": 2502,
    "start_time": "2022-05-11T08:02:05.510Z"
   },
   {
    "duration": 61,
    "start_time": "2022-05-11T08:02:08.015Z"
   },
   {
    "duration": 58,
    "start_time": "2022-05-11T08:02:08.078Z"
   },
   {
    "duration": 66,
    "start_time": "2022-05-11T08:02:08.140Z"
   },
   {
    "duration": 22,
    "start_time": "2022-05-11T08:02:08.225Z"
   },
   {
    "duration": 6,
    "start_time": "2022-05-11T08:02:08.250Z"
   },
   {
    "duration": 23,
    "start_time": "2022-05-11T08:02:08.258Z"
   },
   {
    "duration": 43,
    "start_time": "2022-05-11T08:02:08.283Z"
   },
   {
    "duration": 8,
    "start_time": "2022-05-11T08:02:08.331Z"
   },
   {
    "duration": 126,
    "start_time": "2022-05-11T08:02:08.344Z"
   },
   {
    "duration": 93,
    "start_time": "2022-05-11T08:02:08.473Z"
   },
   {
    "duration": 109,
    "start_time": "2022-05-11T08:02:08.568Z"
   },
   {
    "duration": 47,
    "start_time": "2022-05-11T08:02:08.680Z"
   },
   {
    "duration": 52,
    "start_time": "2022-05-11T08:02:08.730Z"
   },
   {
    "duration": 4,
    "start_time": "2022-05-11T08:02:08.784Z"
   },
   {
    "duration": 51,
    "start_time": "2022-05-11T08:02:08.790Z"
   },
   {
    "duration": 7,
    "start_time": "2022-05-11T08:02:08.843Z"
   },
   {
    "duration": 10,
    "start_time": "2022-05-11T08:02:08.852Z"
   },
   {
    "duration": 210,
    "start_time": "2022-05-11T08:02:08.864Z"
   },
   {
    "duration": 0,
    "start_time": "2022-05-11T08:02:09.077Z"
   },
   {
    "duration": 0,
    "start_time": "2022-05-11T08:02:09.078Z"
   },
   {
    "duration": 0,
    "start_time": "2022-05-11T08:02:09.080Z"
   },
   {
    "duration": 0,
    "start_time": "2022-05-11T08:02:09.082Z"
   },
   {
    "duration": 0,
    "start_time": "2022-05-11T08:02:09.083Z"
   },
   {
    "duration": 0,
    "start_time": "2022-05-11T08:02:09.085Z"
   },
   {
    "duration": 0,
    "start_time": "2022-05-11T08:02:09.086Z"
   },
   {
    "duration": 0,
    "start_time": "2022-05-11T08:02:09.088Z"
   },
   {
    "duration": 0,
    "start_time": "2022-05-11T08:02:09.090Z"
   },
   {
    "duration": 0,
    "start_time": "2022-05-11T08:02:09.091Z"
   },
   {
    "duration": 0,
    "start_time": "2022-05-11T08:02:09.093Z"
   },
   {
    "duration": 0,
    "start_time": "2022-05-11T08:02:09.094Z"
   },
   {
    "duration": 2545,
    "start_time": "2022-05-11T08:09:44.203Z"
   },
   {
    "duration": 77,
    "start_time": "2022-05-11T08:09:46.751Z"
   },
   {
    "duration": 37,
    "start_time": "2022-05-11T08:09:46.833Z"
   },
   {
    "duration": 103,
    "start_time": "2022-05-11T08:09:46.874Z"
   },
   {
    "duration": 15,
    "start_time": "2022-05-11T08:09:46.980Z"
   },
   {
    "duration": 8,
    "start_time": "2022-05-11T08:09:46.997Z"
   },
   {
    "duration": 45,
    "start_time": "2022-05-11T08:09:47.007Z"
   },
   {
    "duration": 22,
    "start_time": "2022-05-11T08:09:47.055Z"
   },
   {
    "duration": 8,
    "start_time": "2022-05-11T08:09:47.080Z"
   },
   {
    "duration": 160,
    "start_time": "2022-05-11T08:09:47.094Z"
   },
   {
    "duration": 97,
    "start_time": "2022-05-11T08:09:47.257Z"
   },
   {
    "duration": 125,
    "start_time": "2022-05-11T08:09:47.357Z"
   },
   {
    "duration": 59,
    "start_time": "2022-05-11T08:09:47.485Z"
   },
   {
    "duration": 56,
    "start_time": "2022-05-11T08:09:47.547Z"
   },
   {
    "duration": 5,
    "start_time": "2022-05-11T08:09:47.628Z"
   },
   {
    "duration": 53,
    "start_time": "2022-05-11T08:09:47.636Z"
   },
   {
    "duration": 6,
    "start_time": "2022-05-11T08:09:47.692Z"
   },
   {
    "duration": 8,
    "start_time": "2022-05-11T08:09:47.701Z"
   },
   {
    "duration": 235,
    "start_time": "2022-05-11T08:09:47.712Z"
   },
   {
    "duration": 0,
    "start_time": "2022-05-11T08:09:47.949Z"
   },
   {
    "duration": 0,
    "start_time": "2022-05-11T08:09:47.951Z"
   },
   {
    "duration": 0,
    "start_time": "2022-05-11T08:09:47.953Z"
   },
   {
    "duration": 0,
    "start_time": "2022-05-11T08:09:47.955Z"
   },
   {
    "duration": 0,
    "start_time": "2022-05-11T08:09:47.957Z"
   },
   {
    "duration": 0,
    "start_time": "2022-05-11T08:09:47.959Z"
   },
   {
    "duration": 0,
    "start_time": "2022-05-11T08:09:47.961Z"
   },
   {
    "duration": 0,
    "start_time": "2022-05-11T08:09:47.962Z"
   },
   {
    "duration": 0,
    "start_time": "2022-05-11T08:09:47.964Z"
   },
   {
    "duration": 0,
    "start_time": "2022-05-11T08:09:47.966Z"
   },
   {
    "duration": 0,
    "start_time": "2022-05-11T08:09:47.967Z"
   },
   {
    "duration": 0,
    "start_time": "2022-05-11T08:09:47.968Z"
   },
   {
    "duration": 17,
    "start_time": "2022-05-11T08:11:13.005Z"
   },
   {
    "duration": 26,
    "start_time": "2022-05-11T08:12:40.439Z"
   },
   {
    "duration": 12,
    "start_time": "2022-05-11T08:12:59.551Z"
   },
   {
    "duration": 6,
    "start_time": "2022-05-11T08:13:02.952Z"
   },
   {
    "duration": 13,
    "start_time": "2022-05-11T08:13:15.606Z"
   },
   {
    "duration": 29,
    "start_time": "2022-05-11T08:13:21.820Z"
   },
   {
    "duration": 2195,
    "start_time": "2022-05-11T08:13:31.303Z"
   },
   {
    "duration": 67,
    "start_time": "2022-05-11T08:13:33.501Z"
   },
   {
    "duration": 32,
    "start_time": "2022-05-11T08:13:33.571Z"
   },
   {
    "duration": 75,
    "start_time": "2022-05-11T08:13:33.627Z"
   },
   {
    "duration": 41,
    "start_time": "2022-05-11T08:13:33.704Z"
   },
   {
    "duration": 8,
    "start_time": "2022-05-11T08:13:33.748Z"
   },
   {
    "duration": 20,
    "start_time": "2022-05-11T08:13:33.759Z"
   },
   {
    "duration": 45,
    "start_time": "2022-05-11T08:13:33.781Z"
   },
   {
    "duration": 9,
    "start_time": "2022-05-11T08:13:33.832Z"
   },
   {
    "duration": 141,
    "start_time": "2022-05-11T08:13:33.845Z"
   },
   {
    "duration": 90,
    "start_time": "2022-05-11T08:13:33.989Z"
   },
   {
    "duration": 110,
    "start_time": "2022-05-11T08:13:34.082Z"
   },
   {
    "duration": 49,
    "start_time": "2022-05-11T08:13:34.195Z"
   },
   {
    "duration": 49,
    "start_time": "2022-05-11T08:13:34.247Z"
   },
   {
    "duration": 30,
    "start_time": "2022-05-11T08:13:34.299Z"
   },
   {
    "duration": 22,
    "start_time": "2022-05-11T08:13:34.332Z"
   },
   {
    "duration": 7,
    "start_time": "2022-05-11T08:13:34.357Z"
   },
   {
    "duration": 81,
    "start_time": "2022-05-11T08:13:34.366Z"
   },
   {
    "duration": 15,
    "start_time": "2022-05-11T08:13:34.449Z"
   },
   {
    "duration": 193,
    "start_time": "2022-05-11T08:13:34.466Z"
   },
   {
    "duration": 0,
    "start_time": "2022-05-11T08:13:34.662Z"
   },
   {
    "duration": 0,
    "start_time": "2022-05-11T08:13:34.665Z"
   },
   {
    "duration": 0,
    "start_time": "2022-05-11T08:13:34.667Z"
   },
   {
    "duration": 0,
    "start_time": "2022-05-11T08:13:34.669Z"
   },
   {
    "duration": 0,
    "start_time": "2022-05-11T08:13:34.671Z"
   },
   {
    "duration": 0,
    "start_time": "2022-05-11T08:13:34.673Z"
   },
   {
    "duration": 0,
    "start_time": "2022-05-11T08:13:34.674Z"
   },
   {
    "duration": 0,
    "start_time": "2022-05-11T08:13:34.676Z"
   },
   {
    "duration": 0,
    "start_time": "2022-05-11T08:13:34.677Z"
   },
   {
    "duration": 0,
    "start_time": "2022-05-11T08:13:34.678Z"
   },
   {
    "duration": 0,
    "start_time": "2022-05-11T08:13:34.679Z"
   },
   {
    "duration": 0,
    "start_time": "2022-05-11T08:13:34.681Z"
   },
   {
    "duration": 2063,
    "start_time": "2022-05-11T08:14:19.835Z"
   },
   {
    "duration": 66,
    "start_time": "2022-05-11T08:14:21.901Z"
   },
   {
    "duration": 30,
    "start_time": "2022-05-11T08:14:21.969Z"
   },
   {
    "duration": 93,
    "start_time": "2022-05-11T08:14:22.001Z"
   },
   {
    "duration": 39,
    "start_time": "2022-05-11T08:14:22.096Z"
   },
   {
    "duration": 6,
    "start_time": "2022-05-11T08:14:22.139Z"
   },
   {
    "duration": 21,
    "start_time": "2022-05-11T08:14:22.147Z"
   },
   {
    "duration": 18,
    "start_time": "2022-05-11T08:14:22.170Z"
   },
   {
    "duration": 39,
    "start_time": "2022-05-11T08:14:22.190Z"
   },
   {
    "duration": 125,
    "start_time": "2022-05-11T08:14:22.235Z"
   },
   {
    "duration": 89,
    "start_time": "2022-05-11T08:14:22.362Z"
   },
   {
    "duration": 107,
    "start_time": "2022-05-11T08:14:22.453Z"
   },
   {
    "duration": 30,
    "start_time": "2022-05-11T08:14:22.563Z"
   },
   {
    "duration": 77,
    "start_time": "2022-05-11T08:14:22.595Z"
   },
   {
    "duration": 4,
    "start_time": "2022-05-11T08:14:22.674Z"
   },
   {
    "duration": 23,
    "start_time": "2022-05-11T08:14:22.680Z"
   },
   {
    "duration": 27,
    "start_time": "2022-05-11T08:14:22.705Z"
   },
   {
    "duration": 9,
    "start_time": "2022-05-11T08:14:22.739Z"
   },
   {
    "duration": 9,
    "start_time": "2022-05-11T08:14:22.750Z"
   },
   {
    "duration": 427,
    "start_time": "2022-05-11T08:14:22.761Z"
   },
   {
    "duration": 1082,
    "start_time": "2022-05-11T08:14:23.191Z"
   },
   {
    "duration": 1012,
    "start_time": "2022-05-11T08:14:24.275Z"
   },
   {
    "duration": 324,
    "start_time": "2022-05-11T08:14:25.289Z"
   },
   {
    "duration": 0,
    "start_time": "2022-05-11T08:14:25.615Z"
   },
   {
    "duration": 0,
    "start_time": "2022-05-11T08:14:25.625Z"
   },
   {
    "duration": 0,
    "start_time": "2022-05-11T08:14:25.627Z"
   },
   {
    "duration": 0,
    "start_time": "2022-05-11T08:14:25.629Z"
   },
   {
    "duration": 0,
    "start_time": "2022-05-11T08:14:25.631Z"
   },
   {
    "duration": 0,
    "start_time": "2022-05-11T08:14:25.633Z"
   },
   {
    "duration": 0,
    "start_time": "2022-05-11T08:14:25.635Z"
   },
   {
    "duration": 0,
    "start_time": "2022-05-11T08:14:25.637Z"
   },
   {
    "duration": 0,
    "start_time": "2022-05-11T08:14:25.639Z"
   },
   {
    "duration": 5,
    "start_time": "2022-05-11T08:15:33.046Z"
   },
   {
    "duration": 33,
    "start_time": "2022-05-11T08:15:34.064Z"
   },
   {
    "duration": 2035,
    "start_time": "2022-05-11T08:15:40.733Z"
   },
   {
    "duration": 62,
    "start_time": "2022-05-11T08:15:42.771Z"
   },
   {
    "duration": 35,
    "start_time": "2022-05-11T08:15:42.835Z"
   },
   {
    "duration": 99,
    "start_time": "2022-05-11T08:15:42.873Z"
   },
   {
    "duration": 17,
    "start_time": "2022-05-11T08:15:42.975Z"
   },
   {
    "duration": 31,
    "start_time": "2022-05-11T08:15:42.994Z"
   },
   {
    "duration": 17,
    "start_time": "2022-05-11T08:15:43.030Z"
   },
   {
    "duration": 19,
    "start_time": "2022-05-11T08:15:43.050Z"
   },
   {
    "duration": 7,
    "start_time": "2022-05-11T08:15:43.071Z"
   },
   {
    "duration": 136,
    "start_time": "2022-05-11T08:15:43.082Z"
   },
   {
    "duration": 79,
    "start_time": "2022-05-11T08:15:43.220Z"
   },
   {
    "duration": 125,
    "start_time": "2022-05-11T08:15:43.301Z"
   },
   {
    "duration": 33,
    "start_time": "2022-05-11T08:15:43.428Z"
   },
   {
    "duration": 80,
    "start_time": "2022-05-11T08:15:43.464Z"
   },
   {
    "duration": 4,
    "start_time": "2022-05-11T08:15:43.546Z"
   },
   {
    "duration": 39,
    "start_time": "2022-05-11T08:15:43.552Z"
   },
   {
    "duration": 20,
    "start_time": "2022-05-11T08:15:43.593Z"
   },
   {
    "duration": 20,
    "start_time": "2022-05-11T08:15:43.615Z"
   },
   {
    "duration": 14,
    "start_time": "2022-05-11T08:15:43.638Z"
   },
   {
    "duration": 432,
    "start_time": "2022-05-11T08:15:43.654Z"
   },
   {
    "duration": 1098,
    "start_time": "2022-05-11T08:15:44.089Z"
   },
   {
    "duration": 999,
    "start_time": "2022-05-11T08:15:45.189Z"
   },
   {
    "duration": 323,
    "start_time": "2022-05-11T08:15:46.190Z"
   },
   {
    "duration": 0,
    "start_time": "2022-05-11T08:15:46.526Z"
   },
   {
    "duration": 0,
    "start_time": "2022-05-11T08:15:46.529Z"
   },
   {
    "duration": 0,
    "start_time": "2022-05-11T08:15:46.532Z"
   },
   {
    "duration": 0,
    "start_time": "2022-05-11T08:15:46.534Z"
   },
   {
    "duration": 0,
    "start_time": "2022-05-11T08:15:46.537Z"
   },
   {
    "duration": 0,
    "start_time": "2022-05-11T08:15:46.539Z"
   },
   {
    "duration": 1,
    "start_time": "2022-05-11T08:15:46.541Z"
   },
   {
    "duration": 0,
    "start_time": "2022-05-11T08:15:46.543Z"
   },
   {
    "duration": 0,
    "start_time": "2022-05-11T08:15:46.545Z"
   },
   {
    "duration": 187,
    "start_time": "2022-05-11T08:22:47.771Z"
   },
   {
    "duration": 11,
    "start_time": "2022-05-11T08:23:12.620Z"
   },
   {
    "duration": 8,
    "start_time": "2022-05-11T08:27:22.869Z"
   },
   {
    "duration": 39,
    "start_time": "2022-05-11T08:27:25.172Z"
   },
   {
    "duration": 43,
    "start_time": "2022-05-11T08:28:28.799Z"
   },
   {
    "duration": 2263,
    "start_time": "2022-05-11T08:28:43.800Z"
   },
   {
    "duration": 69,
    "start_time": "2022-05-11T08:28:46.066Z"
   },
   {
    "duration": 31,
    "start_time": "2022-05-11T08:28:46.138Z"
   },
   {
    "duration": 103,
    "start_time": "2022-05-11T08:28:46.173Z"
   },
   {
    "duration": 15,
    "start_time": "2022-05-11T08:28:46.278Z"
   },
   {
    "duration": 5,
    "start_time": "2022-05-11T08:28:46.296Z"
   },
   {
    "duration": 39,
    "start_time": "2022-05-11T08:28:46.303Z"
   },
   {
    "duration": 19,
    "start_time": "2022-05-11T08:28:46.345Z"
   },
   {
    "duration": 7,
    "start_time": "2022-05-11T08:28:46.366Z"
   },
   {
    "duration": 142,
    "start_time": "2022-05-11T08:28:46.377Z"
   },
   {
    "duration": 85,
    "start_time": "2022-05-11T08:28:46.522Z"
   },
   {
    "duration": 122,
    "start_time": "2022-05-11T08:28:46.609Z"
   },
   {
    "duration": 35,
    "start_time": "2022-05-11T08:28:46.734Z"
   },
   {
    "duration": 83,
    "start_time": "2022-05-11T08:28:46.771Z"
   },
   {
    "duration": 3,
    "start_time": "2022-05-11T08:28:46.857Z"
   },
   {
    "duration": 16,
    "start_time": "2022-05-11T08:28:46.863Z"
   },
   {
    "duration": 15,
    "start_time": "2022-05-11T08:28:46.881Z"
   },
   {
    "duration": 43,
    "start_time": "2022-05-11T08:28:46.899Z"
   },
   {
    "duration": 8,
    "start_time": "2022-05-11T08:28:46.944Z"
   },
   {
    "duration": 12,
    "start_time": "2022-05-11T08:28:46.954Z"
   },
   {
    "duration": 226,
    "start_time": "2022-05-11T08:28:46.969Z"
   },
   {
    "duration": 707,
    "start_time": "2022-05-11T08:28:47.197Z"
   },
   {
    "duration": 431,
    "start_time": "2022-05-11T08:28:47.906Z"
   },
   {
    "duration": 353,
    "start_time": "2022-05-11T08:28:48.341Z"
   },
   {
    "duration": 0,
    "start_time": "2022-05-11T08:28:48.697Z"
   },
   {
    "duration": 0,
    "start_time": "2022-05-11T08:28:48.699Z"
   },
   {
    "duration": 0,
    "start_time": "2022-05-11T08:28:48.700Z"
   },
   {
    "duration": 0,
    "start_time": "2022-05-11T08:28:48.701Z"
   },
   {
    "duration": 0,
    "start_time": "2022-05-11T08:28:48.703Z"
   },
   {
    "duration": 0,
    "start_time": "2022-05-11T08:28:48.705Z"
   },
   {
    "duration": 0,
    "start_time": "2022-05-11T08:28:48.706Z"
   },
   {
    "duration": 0,
    "start_time": "2022-05-11T08:28:48.725Z"
   },
   {
    "duration": 0,
    "start_time": "2022-05-11T08:28:48.730Z"
   },
   {
    "duration": 34,
    "start_time": "2022-05-11T08:29:46.569Z"
   },
   {
    "duration": 2241,
    "start_time": "2022-05-11T08:29:54.912Z"
   },
   {
    "duration": 55,
    "start_time": "2022-05-11T08:29:57.156Z"
   },
   {
    "duration": 43,
    "start_time": "2022-05-11T08:29:57.213Z"
   },
   {
    "duration": 92,
    "start_time": "2022-05-11T08:29:57.259Z"
   },
   {
    "duration": 15,
    "start_time": "2022-05-11T08:29:57.353Z"
   },
   {
    "duration": 6,
    "start_time": "2022-05-11T08:29:57.370Z"
   },
   {
    "duration": 26,
    "start_time": "2022-05-11T08:29:57.378Z"
   },
   {
    "duration": 40,
    "start_time": "2022-05-11T08:29:57.406Z"
   },
   {
    "duration": 14,
    "start_time": "2022-05-11T08:29:57.449Z"
   },
   {
    "duration": 129,
    "start_time": "2022-05-11T08:29:57.468Z"
   },
   {
    "duration": 88,
    "start_time": "2022-05-11T08:29:57.600Z"
   },
   {
    "duration": 118,
    "start_time": "2022-05-11T08:29:57.690Z"
   },
   {
    "duration": 49,
    "start_time": "2022-05-11T08:29:57.811Z"
   },
   {
    "duration": 85,
    "start_time": "2022-05-11T08:29:57.862Z"
   },
   {
    "duration": 3,
    "start_time": "2022-05-11T08:29:57.950Z"
   },
   {
    "duration": 14,
    "start_time": "2022-05-11T08:29:57.956Z"
   },
   {
    "duration": 15,
    "start_time": "2022-05-11T08:29:57.973Z"
   },
   {
    "duration": 48,
    "start_time": "2022-05-11T08:29:57.990Z"
   },
   {
    "duration": 8,
    "start_time": "2022-05-11T08:29:58.041Z"
   },
   {
    "duration": 9,
    "start_time": "2022-05-11T08:29:58.051Z"
   },
   {
    "duration": 229,
    "start_time": "2022-05-11T08:29:58.062Z"
   },
   {
    "duration": 716,
    "start_time": "2022-05-11T08:29:58.293Z"
   },
   {
    "duration": 523,
    "start_time": "2022-05-11T08:29:59.011Z"
   },
   {
    "duration": 307,
    "start_time": "2022-05-11T08:29:59.538Z"
   },
   {
    "duration": 0,
    "start_time": "2022-05-11T08:29:59.849Z"
   },
   {
    "duration": 0,
    "start_time": "2022-05-11T08:29:59.850Z"
   },
   {
    "duration": 0,
    "start_time": "2022-05-11T08:29:59.852Z"
   },
   {
    "duration": 0,
    "start_time": "2022-05-11T08:29:59.855Z"
   },
   {
    "duration": 0,
    "start_time": "2022-05-11T08:29:59.856Z"
   },
   {
    "duration": 0,
    "start_time": "2022-05-11T08:29:59.859Z"
   },
   {
    "duration": 0,
    "start_time": "2022-05-11T08:29:59.861Z"
   },
   {
    "duration": 0,
    "start_time": "2022-05-11T08:29:59.862Z"
   },
   {
    "duration": 0,
    "start_time": "2022-05-11T08:29:59.866Z"
   },
   {
    "duration": 7,
    "start_time": "2022-05-11T08:31:13.681Z"
   },
   {
    "duration": 37,
    "start_time": "2022-05-11T08:31:14.990Z"
   },
   {
    "duration": 2144,
    "start_time": "2022-05-11T08:31:20.167Z"
   },
   {
    "duration": 69,
    "start_time": "2022-05-11T08:31:22.314Z"
   },
   {
    "duration": 49,
    "start_time": "2022-05-11T08:31:22.385Z"
   },
   {
    "duration": 65,
    "start_time": "2022-05-11T08:31:22.437Z"
   },
   {
    "duration": 38,
    "start_time": "2022-05-11T08:31:22.505Z"
   },
   {
    "duration": 6,
    "start_time": "2022-05-11T08:31:22.546Z"
   },
   {
    "duration": 31,
    "start_time": "2022-05-11T08:31:22.554Z"
   },
   {
    "duration": 18,
    "start_time": "2022-05-11T08:31:22.587Z"
   },
   {
    "duration": 30,
    "start_time": "2022-05-11T08:31:22.607Z"
   },
   {
    "duration": 125,
    "start_time": "2022-05-11T08:31:22.641Z"
   },
   {
    "duration": 89,
    "start_time": "2022-05-11T08:31:22.768Z"
   },
   {
    "duration": 103,
    "start_time": "2022-05-11T08:31:22.860Z"
   },
   {
    "duration": 31,
    "start_time": "2022-05-11T08:31:22.965Z"
   },
   {
    "duration": 78,
    "start_time": "2022-05-11T08:31:23.000Z"
   },
   {
    "duration": 3,
    "start_time": "2022-05-11T08:31:23.080Z"
   },
   {
    "duration": 17,
    "start_time": "2022-05-11T08:31:23.085Z"
   },
   {
    "duration": 39,
    "start_time": "2022-05-11T08:31:23.104Z"
   },
   {
    "duration": 11,
    "start_time": "2022-05-11T08:31:23.146Z"
   },
   {
    "duration": 9,
    "start_time": "2022-05-11T08:31:23.160Z"
   },
   {
    "duration": 10,
    "start_time": "2022-05-11T08:31:23.171Z"
   },
   {
    "duration": 265,
    "start_time": "2022-05-11T08:31:23.184Z"
   },
   {
    "duration": 717,
    "start_time": "2022-05-11T08:31:23.451Z"
   },
   {
    "duration": 461,
    "start_time": "2022-05-11T08:31:24.170Z"
   },
   {
    "duration": 312,
    "start_time": "2022-05-11T08:31:24.638Z"
   },
   {
    "duration": 0,
    "start_time": "2022-05-11T08:31:24.953Z"
   },
   {
    "duration": 0,
    "start_time": "2022-05-11T08:31:24.954Z"
   },
   {
    "duration": 0,
    "start_time": "2022-05-11T08:31:24.955Z"
   },
   {
    "duration": 0,
    "start_time": "2022-05-11T08:31:24.957Z"
   },
   {
    "duration": 0,
    "start_time": "2022-05-11T08:31:24.958Z"
   },
   {
    "duration": 0,
    "start_time": "2022-05-11T08:31:24.960Z"
   },
   {
    "duration": 0,
    "start_time": "2022-05-11T08:31:24.961Z"
   },
   {
    "duration": 0,
    "start_time": "2022-05-11T08:31:24.963Z"
   },
   {
    "duration": 0,
    "start_time": "2022-05-11T08:31:24.964Z"
   },
   {
    "duration": 37,
    "start_time": "2022-05-11T08:33:33.640Z"
   },
   {
    "duration": 2120,
    "start_time": "2022-05-11T08:33:39.562Z"
   },
   {
    "duration": 67,
    "start_time": "2022-05-11T08:33:41.685Z"
   },
   {
    "duration": 29,
    "start_time": "2022-05-11T08:33:41.755Z"
   },
   {
    "duration": 100,
    "start_time": "2022-05-11T08:33:41.787Z"
   },
   {
    "duration": 42,
    "start_time": "2022-05-11T08:33:41.890Z"
   },
   {
    "duration": 11,
    "start_time": "2022-05-11T08:33:41.936Z"
   },
   {
    "duration": 28,
    "start_time": "2022-05-11T08:33:41.952Z"
   },
   {
    "duration": 19,
    "start_time": "2022-05-11T08:33:41.983Z"
   },
   {
    "duration": 34,
    "start_time": "2022-05-11T08:33:42.004Z"
   },
   {
    "duration": 130,
    "start_time": "2022-05-11T08:33:42.044Z"
   },
   {
    "duration": 104,
    "start_time": "2022-05-11T08:33:42.176Z"
   },
   {
    "duration": 112,
    "start_time": "2022-05-11T08:33:42.283Z"
   },
   {
    "duration": 53,
    "start_time": "2022-05-11T08:33:42.398Z"
   },
   {
    "duration": 91,
    "start_time": "2022-05-11T08:33:42.453Z"
   },
   {
    "duration": 5,
    "start_time": "2022-05-11T08:33:42.547Z"
   },
   {
    "duration": 25,
    "start_time": "2022-05-11T08:33:42.554Z"
   },
   {
    "duration": 17,
    "start_time": "2022-05-11T08:33:42.582Z"
   },
   {
    "duration": 18,
    "start_time": "2022-05-11T08:33:42.628Z"
   },
   {
    "duration": 7,
    "start_time": "2022-05-11T08:33:42.651Z"
   },
   {
    "duration": 10,
    "start_time": "2022-05-11T08:33:42.661Z"
   },
   {
    "duration": 229,
    "start_time": "2022-05-11T08:33:42.674Z"
   },
   {
    "duration": 718,
    "start_time": "2022-05-11T08:33:42.906Z"
   },
   {
    "duration": 498,
    "start_time": "2022-05-11T08:33:43.629Z"
   },
   {
    "duration": 298,
    "start_time": "2022-05-11T08:33:44.136Z"
   },
   {
    "duration": 0,
    "start_time": "2022-05-11T08:33:44.439Z"
   },
   {
    "duration": 0,
    "start_time": "2022-05-11T08:33:44.441Z"
   },
   {
    "duration": 0,
    "start_time": "2022-05-11T08:33:44.444Z"
   },
   {
    "duration": 0,
    "start_time": "2022-05-11T08:33:44.446Z"
   },
   {
    "duration": 0,
    "start_time": "2022-05-11T08:33:44.448Z"
   },
   {
    "duration": 0,
    "start_time": "2022-05-11T08:33:44.450Z"
   },
   {
    "duration": 0,
    "start_time": "2022-05-11T08:33:44.452Z"
   },
   {
    "duration": 0,
    "start_time": "2022-05-11T08:33:44.455Z"
   },
   {
    "duration": 0,
    "start_time": "2022-05-11T08:33:44.458Z"
   },
   {
    "duration": 2508,
    "start_time": "2022-05-11T08:36:34.443Z"
   },
   {
    "duration": 53,
    "start_time": "2022-05-11T08:36:36.953Z"
   },
   {
    "duration": 35,
    "start_time": "2022-05-11T08:36:37.026Z"
   },
   {
    "duration": 90,
    "start_time": "2022-05-11T08:36:37.065Z"
   },
   {
    "duration": 13,
    "start_time": "2022-05-11T08:36:37.157Z"
   },
   {
    "duration": 5,
    "start_time": "2022-05-11T08:36:37.173Z"
   },
   {
    "duration": 18,
    "start_time": "2022-05-11T08:36:37.180Z"
   },
   {
    "duration": 22,
    "start_time": "2022-05-11T08:36:37.232Z"
   },
   {
    "duration": 8,
    "start_time": "2022-05-11T08:36:37.257Z"
   },
   {
    "duration": 123,
    "start_time": "2022-05-11T08:36:37.270Z"
   },
   {
    "duration": 80,
    "start_time": "2022-05-11T08:36:37.395Z"
   },
   {
    "duration": 109,
    "start_time": "2022-05-11T08:36:37.478Z"
   },
   {
    "duration": 47,
    "start_time": "2022-05-11T08:36:37.589Z"
   },
   {
    "duration": 47,
    "start_time": "2022-05-11T08:36:37.639Z"
   },
   {
    "duration": 3,
    "start_time": "2022-05-11T08:36:37.689Z"
   },
   {
    "duration": 46,
    "start_time": "2022-05-11T08:36:37.694Z"
   },
   {
    "duration": 15,
    "start_time": "2022-05-11T08:36:37.742Z"
   },
   {
    "duration": 8,
    "start_time": "2022-05-11T08:36:37.759Z"
   },
   {
    "duration": 7,
    "start_time": "2022-05-11T08:36:37.769Z"
   },
   {
    "duration": 7,
    "start_time": "2022-05-11T08:36:37.778Z"
   },
   {
    "duration": 226,
    "start_time": "2022-05-11T08:36:37.787Z"
   },
   {
    "duration": 684,
    "start_time": "2022-05-11T08:36:38.015Z"
   },
   {
    "duration": 630,
    "start_time": "2022-05-11T08:36:38.701Z"
   },
   {
    "duration": 297,
    "start_time": "2022-05-11T08:36:39.335Z"
   },
   {
    "duration": 0,
    "start_time": "2022-05-11T08:36:39.637Z"
   },
   {
    "duration": 0,
    "start_time": "2022-05-11T08:36:39.639Z"
   },
   {
    "duration": 0,
    "start_time": "2022-05-11T08:36:39.641Z"
   },
   {
    "duration": 0,
    "start_time": "2022-05-11T08:36:39.643Z"
   },
   {
    "duration": 0,
    "start_time": "2022-05-11T08:36:39.645Z"
   },
   {
    "duration": 0,
    "start_time": "2022-05-11T08:36:39.646Z"
   },
   {
    "duration": 0,
    "start_time": "2022-05-11T08:36:39.648Z"
   },
   {
    "duration": 0,
    "start_time": "2022-05-11T08:36:39.650Z"
   },
   {
    "duration": 0,
    "start_time": "2022-05-11T08:36:39.652Z"
   },
   {
    "duration": 2045,
    "start_time": "2022-05-11T08:37:00.459Z"
   },
   {
    "duration": 60,
    "start_time": "2022-05-11T08:37:02.507Z"
   },
   {
    "duration": 31,
    "start_time": "2022-05-11T08:37:02.569Z"
   },
   {
    "duration": 93,
    "start_time": "2022-05-11T08:37:02.603Z"
   },
   {
    "duration": 43,
    "start_time": "2022-05-11T08:37:02.698Z"
   },
   {
    "duration": 8,
    "start_time": "2022-05-11T08:37:02.743Z"
   },
   {
    "duration": 25,
    "start_time": "2022-05-11T08:37:02.754Z"
   },
   {
    "duration": 53,
    "start_time": "2022-05-11T08:37:02.782Z"
   },
   {
    "duration": 9,
    "start_time": "2022-05-11T08:37:02.839Z"
   },
   {
    "duration": 130,
    "start_time": "2022-05-11T08:37:02.851Z"
   },
   {
    "duration": 93,
    "start_time": "2022-05-11T08:37:02.983Z"
   },
   {
    "duration": 115,
    "start_time": "2022-05-11T08:37:03.079Z"
   },
   {
    "duration": 51,
    "start_time": "2022-05-11T08:37:03.196Z"
   },
   {
    "duration": 49,
    "start_time": "2022-05-11T08:37:03.250Z"
   },
   {
    "duration": 34,
    "start_time": "2022-05-11T08:37:03.301Z"
   },
   {
    "duration": 35,
    "start_time": "2022-05-11T08:37:03.339Z"
   },
   {
    "duration": 15,
    "start_time": "2022-05-11T08:37:03.377Z"
   },
   {
    "duration": 11,
    "start_time": "2022-05-11T08:37:03.394Z"
   },
   {
    "duration": 26,
    "start_time": "2022-05-11T08:37:03.407Z"
   },
   {
    "duration": 27,
    "start_time": "2022-05-11T08:37:03.437Z"
   },
   {
    "duration": 236,
    "start_time": "2022-05-11T08:37:03.467Z"
   },
   {
    "duration": 745,
    "start_time": "2022-05-11T08:37:03.705Z"
   },
   {
    "duration": 480,
    "start_time": "2022-05-11T08:37:04.453Z"
   },
   {
    "duration": 369,
    "start_time": "2022-05-11T08:37:04.936Z"
   },
   {
    "duration": 0,
    "start_time": "2022-05-11T08:37:05.307Z"
   },
   {
    "duration": 0,
    "start_time": "2022-05-11T08:37:05.309Z"
   },
   {
    "duration": 0,
    "start_time": "2022-05-11T08:37:05.311Z"
   },
   {
    "duration": 0,
    "start_time": "2022-05-11T08:37:05.325Z"
   },
   {
    "duration": 0,
    "start_time": "2022-05-11T08:37:05.327Z"
   },
   {
    "duration": 0,
    "start_time": "2022-05-11T08:37:05.329Z"
   },
   {
    "duration": 0,
    "start_time": "2022-05-11T08:37:05.331Z"
   },
   {
    "duration": 0,
    "start_time": "2022-05-11T08:37:05.333Z"
   },
   {
    "duration": 0,
    "start_time": "2022-05-11T08:37:05.336Z"
   },
   {
    "duration": 12,
    "start_time": "2022-05-11T08:39:45.032Z"
   },
   {
    "duration": 2086,
    "start_time": "2022-05-11T08:39:58.111Z"
   },
   {
    "duration": 65,
    "start_time": "2022-05-11T08:40:00.200Z"
   },
   {
    "duration": 31,
    "start_time": "2022-05-11T08:40:00.267Z"
   },
   {
    "duration": 88,
    "start_time": "2022-05-11T08:40:00.301Z"
   },
   {
    "duration": 44,
    "start_time": "2022-05-11T08:40:00.391Z"
   },
   {
    "duration": 7,
    "start_time": "2022-05-11T08:40:00.438Z"
   },
   {
    "duration": 26,
    "start_time": "2022-05-11T08:40:00.448Z"
   },
   {
    "duration": 20,
    "start_time": "2022-05-11T08:40:00.476Z"
   },
   {
    "duration": 28,
    "start_time": "2022-05-11T08:40:00.499Z"
   },
   {
    "duration": 124,
    "start_time": "2022-05-11T08:40:00.532Z"
   },
   {
    "duration": 92,
    "start_time": "2022-05-11T08:40:00.659Z"
   },
   {
    "duration": 116,
    "start_time": "2022-05-11T08:40:00.754Z"
   },
   {
    "duration": 33,
    "start_time": "2022-05-11T08:40:00.873Z"
   },
   {
    "duration": 59,
    "start_time": "2022-05-11T08:40:00.925Z"
   },
   {
    "duration": 4,
    "start_time": "2022-05-11T08:40:00.986Z"
   },
   {
    "duration": 45,
    "start_time": "2022-05-11T08:40:00.992Z"
   },
   {
    "duration": 22,
    "start_time": "2022-05-11T08:40:01.040Z"
   },
   {
    "duration": 17,
    "start_time": "2022-05-11T08:40:01.064Z"
   },
   {
    "duration": 14,
    "start_time": "2022-05-11T08:40:01.083Z"
   },
   {
    "duration": 36,
    "start_time": "2022-05-11T08:40:01.099Z"
   },
   {
    "duration": 219,
    "start_time": "2022-05-11T08:40:01.138Z"
   },
   {
    "duration": 11,
    "start_time": "2022-05-11T08:40:01.360Z"
   },
   {
    "duration": 659,
    "start_time": "2022-05-11T08:40:01.373Z"
   },
   {
    "duration": 224,
    "start_time": "2022-05-11T08:40:02.123Z"
   },
   {
    "duration": 0,
    "start_time": "2022-05-11T08:40:02.350Z"
   },
   {
    "duration": 0,
    "start_time": "2022-05-11T08:40:02.352Z"
   },
   {
    "duration": 0,
    "start_time": "2022-05-11T08:40:02.353Z"
   },
   {
    "duration": 0,
    "start_time": "2022-05-11T08:40:02.355Z"
   },
   {
    "duration": 0,
    "start_time": "2022-05-11T08:40:02.356Z"
   },
   {
    "duration": 0,
    "start_time": "2022-05-11T08:40:02.358Z"
   },
   {
    "duration": 0,
    "start_time": "2022-05-11T08:40:02.360Z"
   },
   {
    "duration": 0,
    "start_time": "2022-05-11T08:40:02.361Z"
   },
   {
    "duration": 0,
    "start_time": "2022-05-11T08:40:02.363Z"
   },
   {
    "duration": 37,
    "start_time": "2022-05-11T08:40:24.594Z"
   },
   {
    "duration": 2084,
    "start_time": "2022-05-11T08:40:31.346Z"
   },
   {
    "duration": 61,
    "start_time": "2022-05-11T08:40:33.434Z"
   },
   {
    "duration": 55,
    "start_time": "2022-05-11T08:40:33.497Z"
   },
   {
    "duration": 86,
    "start_time": "2022-05-11T08:40:33.554Z"
   },
   {
    "duration": 18,
    "start_time": "2022-05-11T08:40:33.642Z"
   },
   {
    "duration": 8,
    "start_time": "2022-05-11T08:40:33.662Z"
   },
   {
    "duration": 18,
    "start_time": "2022-05-11T08:40:33.672Z"
   },
   {
    "duration": 25,
    "start_time": "2022-05-11T08:40:33.728Z"
   },
   {
    "duration": 8,
    "start_time": "2022-05-11T08:40:33.755Z"
   },
   {
    "duration": 134,
    "start_time": "2022-05-11T08:40:33.768Z"
   },
   {
    "duration": 91,
    "start_time": "2022-05-11T08:40:33.904Z"
   },
   {
    "duration": 107,
    "start_time": "2022-05-11T08:40:33.998Z"
   },
   {
    "duration": 39,
    "start_time": "2022-05-11T08:40:34.107Z"
   },
   {
    "duration": 47,
    "start_time": "2022-05-11T08:40:34.148Z"
   },
   {
    "duration": 4,
    "start_time": "2022-05-11T08:40:34.197Z"
   },
   {
    "duration": 41,
    "start_time": "2022-05-11T08:40:34.203Z"
   },
   {
    "duration": 15,
    "start_time": "2022-05-11T08:40:34.246Z"
   },
   {
    "duration": 10,
    "start_time": "2022-05-11T08:40:34.264Z"
   },
   {
    "duration": 13,
    "start_time": "2022-05-11T08:40:34.277Z"
   },
   {
    "duration": 9,
    "start_time": "2022-05-11T08:40:34.329Z"
   },
   {
    "duration": 222,
    "start_time": "2022-05-11T08:40:34.341Z"
   },
   {
    "duration": 10659,
    "start_time": "2022-05-11T08:40:34.565Z"
   },
   {
    "duration": 301,
    "start_time": "2022-05-11T08:40:45.230Z"
   },
   {
    "duration": 302,
    "start_time": "2022-05-11T08:40:45.541Z"
   },
   {
    "duration": 0,
    "start_time": "2022-05-11T08:40:45.846Z"
   },
   {
    "duration": 0,
    "start_time": "2022-05-11T08:40:45.847Z"
   },
   {
    "duration": 0,
    "start_time": "2022-05-11T08:40:45.848Z"
   },
   {
    "duration": 0,
    "start_time": "2022-05-11T08:40:45.849Z"
   },
   {
    "duration": 0,
    "start_time": "2022-05-11T08:40:45.851Z"
   },
   {
    "duration": 0,
    "start_time": "2022-05-11T08:40:45.853Z"
   },
   {
    "duration": 0,
    "start_time": "2022-05-11T08:40:45.854Z"
   },
   {
    "duration": 0,
    "start_time": "2022-05-11T08:40:45.857Z"
   },
   {
    "duration": 0,
    "start_time": "2022-05-11T08:40:45.858Z"
   },
   {
    "duration": 2082,
    "start_time": "2022-05-11T08:42:27.796Z"
   },
   {
    "duration": 65,
    "start_time": "2022-05-11T08:42:29.882Z"
   },
   {
    "duration": 30,
    "start_time": "2022-05-11T08:42:29.949Z"
   },
   {
    "duration": 97,
    "start_time": "2022-05-11T08:42:29.982Z"
   },
   {
    "duration": 14,
    "start_time": "2022-05-11T08:42:30.081Z"
   },
   {
    "duration": 12,
    "start_time": "2022-05-11T08:42:30.097Z"
   },
   {
    "duration": 32,
    "start_time": "2022-05-11T08:42:30.111Z"
   },
   {
    "duration": 18,
    "start_time": "2022-05-11T08:42:30.145Z"
   },
   {
    "duration": 7,
    "start_time": "2022-05-11T08:42:30.165Z"
   },
   {
    "duration": 155,
    "start_time": "2022-05-11T08:42:30.176Z"
   },
   {
    "duration": 77,
    "start_time": "2022-05-11T08:42:30.334Z"
   },
   {
    "duration": 113,
    "start_time": "2022-05-11T08:42:30.427Z"
   },
   {
    "duration": 30,
    "start_time": "2022-05-11T08:42:30.543Z"
   },
   {
    "duration": 81,
    "start_time": "2022-05-11T08:42:30.576Z"
   },
   {
    "duration": 4,
    "start_time": "2022-05-11T08:42:30.659Z"
   },
   {
    "duration": 24,
    "start_time": "2022-05-11T08:42:30.665Z"
   },
   {
    "duration": 25,
    "start_time": "2022-05-11T08:42:30.691Z"
   },
   {
    "duration": 16,
    "start_time": "2022-05-11T08:42:30.726Z"
   },
   {
    "duration": 13,
    "start_time": "2022-05-11T08:42:30.745Z"
   },
   {
    "duration": 17,
    "start_time": "2022-05-11T08:42:30.761Z"
   },
   {
    "duration": 216,
    "start_time": "2022-05-11T08:42:30.780Z"
   },
   {
    "duration": 2808,
    "start_time": "2022-05-11T08:42:30.998Z"
   },
   {
    "duration": 725,
    "start_time": "2022-05-11T08:42:33.808Z"
   },
   {
    "duration": 299,
    "start_time": "2022-05-11T08:42:34.536Z"
   },
   {
    "duration": 0,
    "start_time": "2022-05-11T08:42:34.838Z"
   },
   {
    "duration": 0,
    "start_time": "2022-05-11T08:42:34.841Z"
   },
   {
    "duration": 0,
    "start_time": "2022-05-11T08:42:34.844Z"
   },
   {
    "duration": 1,
    "start_time": "2022-05-11T08:42:34.844Z"
   },
   {
    "duration": 0,
    "start_time": "2022-05-11T08:42:34.846Z"
   },
   {
    "duration": 0,
    "start_time": "2022-05-11T08:42:34.847Z"
   },
   {
    "duration": 0,
    "start_time": "2022-05-11T08:42:34.849Z"
   },
   {
    "duration": 0,
    "start_time": "2022-05-11T08:42:34.851Z"
   },
   {
    "duration": 0,
    "start_time": "2022-05-11T08:42:34.852Z"
   },
   {
    "duration": 42,
    "start_time": "2022-05-11T08:50:21.185Z"
   },
   {
    "duration": 4,
    "start_time": "2022-05-11T08:50:36.653Z"
   },
   {
    "duration": 2145,
    "start_time": "2022-05-11T08:51:10.790Z"
   },
   {
    "duration": 56,
    "start_time": "2022-05-11T08:51:12.939Z"
   },
   {
    "duration": 47,
    "start_time": "2022-05-11T08:51:12.997Z"
   },
   {
    "duration": 78,
    "start_time": "2022-05-11T08:51:13.047Z"
   },
   {
    "duration": 18,
    "start_time": "2022-05-11T08:51:13.128Z"
   },
   {
    "duration": 7,
    "start_time": "2022-05-11T08:51:13.149Z"
   },
   {
    "duration": 18,
    "start_time": "2022-05-11T08:51:13.158Z"
   },
   {
    "duration": 59,
    "start_time": "2022-05-11T08:51:13.178Z"
   },
   {
    "duration": 6,
    "start_time": "2022-05-11T08:51:13.240Z"
   },
   {
    "duration": 129,
    "start_time": "2022-05-11T08:51:13.250Z"
   },
   {
    "duration": 88,
    "start_time": "2022-05-11T08:51:13.381Z"
   },
   {
    "duration": 112,
    "start_time": "2022-05-11T08:51:13.472Z"
   },
   {
    "duration": 52,
    "start_time": "2022-05-11T08:51:13.587Z"
   },
   {
    "duration": 52,
    "start_time": "2022-05-11T08:51:13.642Z"
   },
   {
    "duration": 3,
    "start_time": "2022-05-11T08:51:13.697Z"
   },
   {
    "duration": 19,
    "start_time": "2022-05-11T08:51:13.728Z"
   },
   {
    "duration": 29,
    "start_time": "2022-05-11T08:51:13.750Z"
   },
   {
    "duration": 10,
    "start_time": "2022-05-11T08:51:13.782Z"
   },
   {
    "duration": 31,
    "start_time": "2022-05-11T08:51:13.795Z"
   },
   {
    "duration": 225,
    "start_time": "2022-05-11T08:51:13.829Z"
   },
   {
    "duration": 2786,
    "start_time": "2022-05-11T08:51:14.056Z"
   },
   {
    "duration": 403,
    "start_time": "2022-05-11T08:51:16.845Z"
   },
   {
    "duration": 159,
    "start_time": "2022-05-11T08:51:17.326Z"
   },
   {
    "duration": 0,
    "start_time": "2022-05-11T08:51:17.488Z"
   },
   {
    "duration": 0,
    "start_time": "2022-05-11T08:51:17.490Z"
   },
   {
    "duration": 0,
    "start_time": "2022-05-11T08:51:17.492Z"
   },
   {
    "duration": 0,
    "start_time": "2022-05-11T08:51:17.493Z"
   },
   {
    "duration": 0,
    "start_time": "2022-05-11T08:51:17.495Z"
   },
   {
    "duration": 0,
    "start_time": "2022-05-11T08:51:17.497Z"
   },
   {
    "duration": 0,
    "start_time": "2022-05-11T08:51:17.498Z"
   },
   {
    "duration": 0,
    "start_time": "2022-05-11T08:51:17.500Z"
   },
   {
    "duration": 0,
    "start_time": "2022-05-11T08:51:17.502Z"
   },
   {
    "duration": 216,
    "start_time": "2022-05-11T08:51:40.275Z"
   },
   {
    "duration": 2301,
    "start_time": "2022-05-11T08:54:27.666Z"
   },
   {
    "duration": 8019,
    "start_time": "2022-05-11T08:55:43.905Z"
   },
   {
    "duration": 2760,
    "start_time": "2022-05-11T08:55:56.115Z"
   },
   {
    "duration": 2109,
    "start_time": "2022-05-11T08:56:22.702Z"
   },
   {
    "duration": 63,
    "start_time": "2022-05-11T08:56:24.814Z"
   },
   {
    "duration": 53,
    "start_time": "2022-05-11T08:56:24.879Z"
   },
   {
    "duration": 68,
    "start_time": "2022-05-11T08:56:24.936Z"
   },
   {
    "duration": 19,
    "start_time": "2022-05-11T08:56:25.029Z"
   },
   {
    "duration": 24,
    "start_time": "2022-05-11T08:56:25.050Z"
   },
   {
    "duration": 60,
    "start_time": "2022-05-11T08:56:25.076Z"
   },
   {
    "duration": 26,
    "start_time": "2022-05-11T08:56:25.139Z"
   },
   {
    "duration": 53,
    "start_time": "2022-05-11T08:56:25.168Z"
   },
   {
    "duration": 129,
    "start_time": "2022-05-11T08:56:25.226Z"
   },
   {
    "duration": 120,
    "start_time": "2022-05-11T08:56:25.357Z"
   },
   {
    "duration": 147,
    "start_time": "2022-05-11T08:56:25.479Z"
   },
   {
    "duration": 34,
    "start_time": "2022-05-11T08:56:25.629Z"
   },
   {
    "duration": 81,
    "start_time": "2022-05-11T08:56:25.666Z"
   },
   {
    "duration": 4,
    "start_time": "2022-05-11T08:56:25.750Z"
   },
   {
    "duration": 14,
    "start_time": "2022-05-11T08:56:25.756Z"
   },
   {
    "duration": 18,
    "start_time": "2022-05-11T08:56:25.772Z"
   },
   {
    "duration": 37,
    "start_time": "2022-05-11T08:56:25.793Z"
   },
   {
    "duration": 11,
    "start_time": "2022-05-11T08:56:25.833Z"
   },
   {
    "duration": 214,
    "start_time": "2022-05-11T08:56:25.846Z"
   },
   {
    "duration": 2785,
    "start_time": "2022-05-11T08:56:26.062Z"
   },
   {
    "duration": 382,
    "start_time": "2022-05-11T08:56:28.849Z"
   },
   {
    "duration": 318,
    "start_time": "2022-05-11T08:56:29.240Z"
   },
   {
    "duration": 2206,
    "start_time": "2022-05-11T08:56:29.560Z"
   },
   {
    "duration": 13,
    "start_time": "2022-05-11T08:56:31.769Z"
   },
   {
    "duration": 201,
    "start_time": "2022-05-11T08:56:31.786Z"
   },
   {
    "duration": 0,
    "start_time": "2022-05-11T08:56:31.989Z"
   },
   {
    "duration": 0,
    "start_time": "2022-05-11T08:56:31.991Z"
   },
   {
    "duration": 0,
    "start_time": "2022-05-11T08:56:31.992Z"
   },
   {
    "duration": 0,
    "start_time": "2022-05-11T08:56:31.994Z"
   },
   {
    "duration": 0,
    "start_time": "2022-05-11T08:56:31.996Z"
   },
   {
    "duration": 0,
    "start_time": "2022-05-11T08:56:31.998Z"
   },
   {
    "duration": 0,
    "start_time": "2022-05-11T08:56:31.999Z"
   },
   {
    "duration": 2287,
    "start_time": "2022-05-11T08:56:49.653Z"
   },
   {
    "duration": 519,
    "start_time": "2022-05-11T08:57:59.329Z"
   },
   {
    "duration": 6,
    "start_time": "2022-05-11T09:01:44.804Z"
   },
   {
    "duration": 7,
    "start_time": "2022-05-11T09:03:05.236Z"
   },
   {
    "duration": 1988,
    "start_time": "2022-05-11T09:03:10.852Z"
   },
   {
    "duration": 55,
    "start_time": "2022-05-11T09:03:12.843Z"
   },
   {
    "duration": 55,
    "start_time": "2022-05-11T09:03:12.900Z"
   },
   {
    "duration": 79,
    "start_time": "2022-05-11T09:03:12.958Z"
   },
   {
    "duration": 19,
    "start_time": "2022-05-11T09:03:13.040Z"
   },
   {
    "duration": 6,
    "start_time": "2022-05-11T09:03:13.061Z"
   },
   {
    "duration": 17,
    "start_time": "2022-05-11T09:03:13.069Z"
   },
   {
    "duration": 59,
    "start_time": "2022-05-11T09:03:13.087Z"
   },
   {
    "duration": 7,
    "start_time": "2022-05-11T09:03:13.150Z"
   },
   {
    "duration": 134,
    "start_time": "2022-05-11T09:03:13.161Z"
   },
   {
    "duration": 98,
    "start_time": "2022-05-11T09:03:13.297Z"
   },
   {
    "duration": 108,
    "start_time": "2022-05-11T09:03:13.397Z"
   },
   {
    "duration": 46,
    "start_time": "2022-05-11T09:03:13.507Z"
   },
   {
    "duration": 75,
    "start_time": "2022-05-11T09:03:13.555Z"
   },
   {
    "duration": 5,
    "start_time": "2022-05-11T09:03:13.633Z"
   },
   {
    "duration": 25,
    "start_time": "2022-05-11T09:03:13.641Z"
   },
   {
    "duration": 22,
    "start_time": "2022-05-11T09:03:13.669Z"
   },
   {
    "duration": 11,
    "start_time": "2022-05-11T09:03:13.693Z"
   },
   {
    "duration": 26,
    "start_time": "2022-05-11T09:03:13.706Z"
   },
   {
    "duration": 198,
    "start_time": "2022-05-11T09:03:13.735Z"
   },
   {
    "duration": 0,
    "start_time": "2022-05-11T09:03:13.937Z"
   },
   {
    "duration": 0,
    "start_time": "2022-05-11T09:03:13.938Z"
   },
   {
    "duration": 0,
    "start_time": "2022-05-11T09:03:13.940Z"
   },
   {
    "duration": 0,
    "start_time": "2022-05-11T09:03:13.941Z"
   },
   {
    "duration": 0,
    "start_time": "2022-05-11T09:03:13.943Z"
   },
   {
    "duration": 0,
    "start_time": "2022-05-11T09:03:13.945Z"
   },
   {
    "duration": 0,
    "start_time": "2022-05-11T09:03:13.947Z"
   },
   {
    "duration": 0,
    "start_time": "2022-05-11T09:03:13.948Z"
   },
   {
    "duration": 0,
    "start_time": "2022-05-11T09:03:13.949Z"
   },
   {
    "duration": 0,
    "start_time": "2022-05-11T09:03:13.950Z"
   },
   {
    "duration": 0,
    "start_time": "2022-05-11T09:03:13.952Z"
   },
   {
    "duration": 0,
    "start_time": "2022-05-11T09:03:13.953Z"
   },
   {
    "duration": 8,
    "start_time": "2022-05-11T09:05:17.543Z"
   },
   {
    "duration": 203,
    "start_time": "2022-05-11T09:05:18.680Z"
   },
   {
    "duration": 404,
    "start_time": "2022-05-11T09:06:02.876Z"
   },
   {
    "duration": 200,
    "start_time": "2022-05-11T09:06:03.682Z"
   },
   {
    "duration": 110,
    "start_time": "2022-05-11T09:06:16.299Z"
   },
   {
    "duration": 6,
    "start_time": "2022-05-11T09:06:28.248Z"
   },
   {
    "duration": 19,
    "start_time": "2022-05-11T09:06:29.392Z"
   },
   {
    "duration": 7,
    "start_time": "2022-05-11T09:09:23.202Z"
   },
   {
    "duration": 18,
    "start_time": "2022-05-11T09:09:23.960Z"
   },
   {
    "duration": 7,
    "start_time": "2022-05-11T09:10:46.451Z"
   },
   {
    "duration": 23,
    "start_time": "2022-05-11T09:10:48.012Z"
   },
   {
    "duration": 200,
    "start_time": "2022-05-11T09:13:03.322Z"
   },
   {
    "duration": 5,
    "start_time": "2022-05-11T09:17:30.346Z"
   },
   {
    "duration": 4,
    "start_time": "2022-05-11T09:17:30.992Z"
   },
   {
    "duration": 2116,
    "start_time": "2022-05-11T09:19:55.883Z"
   },
   {
    "duration": 64,
    "start_time": "2022-05-11T09:19:58.002Z"
   },
   {
    "duration": 32,
    "start_time": "2022-05-11T09:19:58.068Z"
   },
   {
    "duration": 87,
    "start_time": "2022-05-11T09:19:58.103Z"
   },
   {
    "duration": 36,
    "start_time": "2022-05-11T09:19:58.192Z"
   },
   {
    "duration": 9,
    "start_time": "2022-05-11T09:19:58.233Z"
   },
   {
    "duration": 21,
    "start_time": "2022-05-11T09:19:58.244Z"
   },
   {
    "duration": 18,
    "start_time": "2022-05-11T09:19:58.268Z"
   },
   {
    "duration": 37,
    "start_time": "2022-05-11T09:19:58.288Z"
   },
   {
    "duration": 126,
    "start_time": "2022-05-11T09:19:58.332Z"
   },
   {
    "duration": 94,
    "start_time": "2022-05-11T09:19:58.461Z"
   },
   {
    "duration": 111,
    "start_time": "2022-05-11T09:19:58.557Z"
   },
   {
    "duration": 32,
    "start_time": "2022-05-11T09:19:58.670Z"
   },
   {
    "duration": 71,
    "start_time": "2022-05-11T09:19:58.704Z"
   },
   {
    "duration": 14,
    "start_time": "2022-05-11T09:19:58.778Z"
   },
   {
    "duration": 32,
    "start_time": "2022-05-11T09:19:58.795Z"
   },
   {
    "duration": 14,
    "start_time": "2022-05-11T09:19:58.830Z"
   },
   {
    "duration": 8,
    "start_time": "2022-05-11T09:19:58.847Z"
   },
   {
    "duration": 16,
    "start_time": "2022-05-11T09:19:58.858Z"
   },
   {
    "duration": 7,
    "start_time": "2022-05-11T09:19:58.876Z"
   },
   {
    "duration": 224,
    "start_time": "2022-05-11T09:19:58.885Z"
   },
   {
    "duration": 0,
    "start_time": "2022-05-11T09:19:59.112Z"
   },
   {
    "duration": 0,
    "start_time": "2022-05-11T09:19:59.114Z"
   },
   {
    "duration": 0,
    "start_time": "2022-05-11T09:19:59.124Z"
   },
   {
    "duration": 0,
    "start_time": "2022-05-11T09:19:59.128Z"
   },
   {
    "duration": 0,
    "start_time": "2022-05-11T09:19:59.129Z"
   },
   {
    "duration": 0,
    "start_time": "2022-05-11T09:19:59.132Z"
   },
   {
    "duration": 0,
    "start_time": "2022-05-11T09:19:59.137Z"
   },
   {
    "duration": 0,
    "start_time": "2022-05-11T09:19:59.139Z"
   },
   {
    "duration": 1,
    "start_time": "2022-05-11T09:19:59.140Z"
   },
   {
    "duration": 0,
    "start_time": "2022-05-11T09:19:59.142Z"
   },
   {
    "duration": 0,
    "start_time": "2022-05-11T09:19:59.143Z"
   },
   {
    "duration": 0,
    "start_time": "2022-05-11T09:19:59.145Z"
   },
   {
    "duration": 2281,
    "start_time": "2022-05-11T09:21:16.195Z"
   },
   {
    "duration": 69,
    "start_time": "2022-05-11T09:21:18.478Z"
   },
   {
    "duration": 30,
    "start_time": "2022-05-11T09:21:18.549Z"
   },
   {
    "duration": 100,
    "start_time": "2022-05-11T09:21:18.582Z"
   },
   {
    "duration": 15,
    "start_time": "2022-05-11T09:21:18.685Z"
   },
   {
    "duration": 6,
    "start_time": "2022-05-11T09:21:18.702Z"
   },
   {
    "duration": 24,
    "start_time": "2022-05-11T09:21:18.730Z"
   },
   {
    "duration": 19,
    "start_time": "2022-05-11T09:21:18.757Z"
   },
   {
    "duration": 8,
    "start_time": "2022-05-11T09:21:18.779Z"
   },
   {
    "duration": 156,
    "start_time": "2022-05-11T09:21:18.791Z"
   },
   {
    "duration": 91,
    "start_time": "2022-05-11T09:21:18.949Z"
   },
   {
    "duration": 112,
    "start_time": "2022-05-11T09:21:19.043Z"
   },
   {
    "duration": 30,
    "start_time": "2022-05-11T09:21:19.157Z"
   },
   {
    "duration": 75,
    "start_time": "2022-05-11T09:21:19.190Z"
   },
   {
    "duration": 12,
    "start_time": "2022-05-11T09:21:19.267Z"
   },
   {
    "duration": 18,
    "start_time": "2022-05-11T09:21:19.281Z"
   },
   {
    "duration": 28,
    "start_time": "2022-05-11T09:21:19.301Z"
   },
   {
    "duration": 16,
    "start_time": "2022-05-11T09:21:19.332Z"
   },
   {
    "duration": 16,
    "start_time": "2022-05-11T09:21:19.351Z"
   },
   {
    "duration": 7,
    "start_time": "2022-05-11T09:21:19.370Z"
   },
   {
    "duration": 200,
    "start_time": "2022-05-11T09:21:19.380Z"
   },
   {
    "duration": 0,
    "start_time": "2022-05-11T09:21:19.584Z"
   },
   {
    "duration": 0,
    "start_time": "2022-05-11T09:21:19.587Z"
   },
   {
    "duration": 0,
    "start_time": "2022-05-11T09:21:19.589Z"
   },
   {
    "duration": 0,
    "start_time": "2022-05-11T09:21:19.591Z"
   },
   {
    "duration": 0,
    "start_time": "2022-05-11T09:21:19.593Z"
   },
   {
    "duration": 0,
    "start_time": "2022-05-11T09:21:19.596Z"
   },
   {
    "duration": 0,
    "start_time": "2022-05-11T09:21:19.627Z"
   },
   {
    "duration": 0,
    "start_time": "2022-05-11T09:21:19.629Z"
   },
   {
    "duration": 0,
    "start_time": "2022-05-11T09:21:19.632Z"
   },
   {
    "duration": 0,
    "start_time": "2022-05-11T09:21:19.636Z"
   },
   {
    "duration": 0,
    "start_time": "2022-05-11T09:21:19.639Z"
   },
   {
    "duration": 0,
    "start_time": "2022-05-11T09:21:19.641Z"
   },
   {
    "duration": 2084,
    "start_time": "2022-05-11T09:23:46.002Z"
   },
   {
    "duration": 60,
    "start_time": "2022-05-11T09:23:48.089Z"
   },
   {
    "duration": 31,
    "start_time": "2022-05-11T09:23:48.152Z"
   },
   {
    "duration": 101,
    "start_time": "2022-05-11T09:23:48.185Z"
   },
   {
    "duration": 14,
    "start_time": "2022-05-11T09:23:48.289Z"
   },
   {
    "duration": 24,
    "start_time": "2022-05-11T09:23:48.305Z"
   },
   {
    "duration": 24,
    "start_time": "2022-05-11T09:23:48.332Z"
   },
   {
    "duration": 20,
    "start_time": "2022-05-11T09:23:48.358Z"
   },
   {
    "duration": 7,
    "start_time": "2022-05-11T09:23:48.381Z"
   },
   {
    "duration": 156,
    "start_time": "2022-05-11T09:23:48.392Z"
   },
   {
    "duration": 89,
    "start_time": "2022-05-11T09:23:48.550Z"
   },
   {
    "duration": 112,
    "start_time": "2022-05-11T09:23:48.641Z"
   },
   {
    "duration": 30,
    "start_time": "2022-05-11T09:23:48.755Z"
   },
   {
    "duration": 79,
    "start_time": "2022-05-11T09:23:48.787Z"
   },
   {
    "duration": 13,
    "start_time": "2022-05-11T09:23:48.868Z"
   },
   {
    "duration": 5,
    "start_time": "2022-05-11T09:23:48.883Z"
   },
   {
    "duration": 9,
    "start_time": "2022-05-11T09:23:48.890Z"
   },
   {
    "duration": 26,
    "start_time": "2022-05-11T09:23:48.901Z"
   },
   {
    "duration": 15,
    "start_time": "2022-05-11T09:23:48.935Z"
   },
   {
    "duration": 7,
    "start_time": "2022-05-11T09:23:48.953Z"
   },
   {
    "duration": 288,
    "start_time": "2022-05-11T09:23:48.964Z"
   },
   {
    "duration": 2854,
    "start_time": "2022-05-11T09:23:49.254Z"
   },
   {
    "duration": 514,
    "start_time": "2022-05-11T09:23:52.111Z"
   },
   {
    "duration": 362,
    "start_time": "2022-05-11T09:23:52.635Z"
   },
   {
    "duration": 2370,
    "start_time": "2022-05-11T09:23:52.999Z"
   },
   {
    "duration": 457,
    "start_time": "2022-05-11T09:23:55.371Z"
   },
   {
    "duration": 15,
    "start_time": "2022-05-11T09:23:55.830Z"
   },
   {
    "duration": 181,
    "start_time": "2022-05-11T09:23:55.934Z"
   },
   {
    "duration": 0,
    "start_time": "2022-05-11T09:23:56.117Z"
   },
   {
    "duration": 0,
    "start_time": "2022-05-11T09:23:56.119Z"
   },
   {
    "duration": 0,
    "start_time": "2022-05-11T09:23:56.131Z"
   },
   {
    "duration": 0,
    "start_time": "2022-05-11T09:23:56.134Z"
   },
   {
    "duration": 0,
    "start_time": "2022-05-11T09:23:56.136Z"
   },
   {
    "duration": 2478,
    "start_time": "2022-05-11T09:24:25.404Z"
   },
   {
    "duration": 2172,
    "start_time": "2022-05-11T09:24:52.012Z"
   },
   {
    "duration": 69,
    "start_time": "2022-05-11T09:24:54.187Z"
   },
   {
    "duration": 31,
    "start_time": "2022-05-11T09:24:54.258Z"
   },
   {
    "duration": 94,
    "start_time": "2022-05-11T09:24:54.293Z"
   },
   {
    "duration": 15,
    "start_time": "2022-05-11T09:24:54.389Z"
   },
   {
    "duration": 24,
    "start_time": "2022-05-11T09:24:54.406Z"
   },
   {
    "duration": 25,
    "start_time": "2022-05-11T09:24:54.433Z"
   },
   {
    "duration": 17,
    "start_time": "2022-05-11T09:24:54.461Z"
   },
   {
    "duration": 6,
    "start_time": "2022-05-11T09:24:54.480Z"
   },
   {
    "duration": 143,
    "start_time": "2022-05-11T09:24:54.490Z"
   },
   {
    "duration": 90,
    "start_time": "2022-05-11T09:24:54.636Z"
   },
   {
    "duration": 115,
    "start_time": "2022-05-11T09:24:54.730Z"
   },
   {
    "duration": 31,
    "start_time": "2022-05-11T09:24:54.848Z"
   },
   {
    "duration": 81,
    "start_time": "2022-05-11T09:24:54.881Z"
   },
   {
    "duration": 13,
    "start_time": "2022-05-11T09:24:54.964Z"
   },
   {
    "duration": 6,
    "start_time": "2022-05-11T09:24:54.979Z"
   },
   {
    "duration": 11,
    "start_time": "2022-05-11T09:24:54.987Z"
   },
   {
    "duration": 35,
    "start_time": "2022-05-11T09:24:55.000Z"
   },
   {
    "duration": 44,
    "start_time": "2022-05-11T09:24:55.038Z"
   },
   {
    "duration": 27,
    "start_time": "2022-05-11T09:24:55.085Z"
   },
   {
    "duration": 302,
    "start_time": "2022-05-11T09:24:55.115Z"
   },
   {
    "duration": 2530,
    "start_time": "2022-05-11T09:24:55.419Z"
   },
   {
    "duration": 400,
    "start_time": "2022-05-11T09:24:57.951Z"
   },
   {
    "duration": 276,
    "start_time": "2022-05-11T09:24:58.429Z"
   },
   {
    "duration": 2227,
    "start_time": "2022-05-11T09:24:58.708Z"
   },
   {
    "duration": 602,
    "start_time": "2022-05-11T09:25:00.939Z"
   },
   {
    "duration": 181,
    "start_time": "2022-05-11T09:25:01.544Z"
   },
   {
    "duration": 217,
    "start_time": "2022-05-11T09:25:01.732Z"
   },
   {
    "duration": 0,
    "start_time": "2022-05-11T09:25:01.952Z"
   },
   {
    "duration": 0,
    "start_time": "2022-05-11T09:25:01.955Z"
   },
   {
    "duration": 0,
    "start_time": "2022-05-11T09:25:01.957Z"
   },
   {
    "duration": 0,
    "start_time": "2022-05-11T09:25:01.960Z"
   },
   {
    "duration": 0,
    "start_time": "2022-05-11T09:25:01.962Z"
   },
   {
    "duration": 33,
    "start_time": "2022-05-11T09:28:03.474Z"
   },
   {
    "duration": 6,
    "start_time": "2022-05-11T09:28:43.880Z"
   },
   {
    "duration": 35,
    "start_time": "2022-05-11T09:28:44.978Z"
   },
   {
    "duration": 6,
    "start_time": "2022-05-11T09:28:53.876Z"
   },
   {
    "duration": 549,
    "start_time": "2022-05-11T09:28:54.809Z"
   },
   {
    "duration": 467,
    "start_time": "2022-05-11T09:29:59.337Z"
   },
   {
    "duration": 4588,
    "start_time": "2022-05-11T09:30:21.374Z"
   },
   {
    "duration": 648,
    "start_time": "2022-05-11T09:31:04.094Z"
   },
   {
    "duration": 2544,
    "start_time": "2022-05-11T09:42:34.671Z"
   },
   {
    "duration": 73,
    "start_time": "2022-05-11T09:42:37.217Z"
   },
   {
    "duration": 43,
    "start_time": "2022-05-11T09:42:37.292Z"
   },
   {
    "duration": 66,
    "start_time": "2022-05-11T09:42:37.338Z"
   },
   {
    "duration": 43,
    "start_time": "2022-05-11T09:42:37.433Z"
   },
   {
    "duration": 107,
    "start_time": "2022-05-11T09:42:37.480Z"
   },
   {
    "duration": 23,
    "start_time": "2022-05-11T09:42:37.590Z"
   },
   {
    "duration": 21,
    "start_time": "2022-05-11T09:42:37.615Z"
   },
   {
    "duration": 12,
    "start_time": "2022-05-11T09:42:37.638Z"
   },
   {
    "duration": 118,
    "start_time": "2022-05-11T09:42:37.656Z"
   },
   {
    "duration": 98,
    "start_time": "2022-05-11T09:42:37.777Z"
   },
   {
    "duration": 126,
    "start_time": "2022-05-11T09:42:37.878Z"
   },
   {
    "duration": 41,
    "start_time": "2022-05-11T09:42:38.006Z"
   },
   {
    "duration": 53,
    "start_time": "2022-05-11T09:42:38.050Z"
   },
   {
    "duration": 14,
    "start_time": "2022-05-11T09:42:38.126Z"
   },
   {
    "duration": 4,
    "start_time": "2022-05-11T09:42:38.143Z"
   },
   {
    "duration": 13,
    "start_time": "2022-05-11T09:42:38.150Z"
   },
   {
    "duration": 7,
    "start_time": "2022-05-11T09:42:38.167Z"
   },
   {
    "duration": 12,
    "start_time": "2022-05-11T09:42:38.177Z"
   },
   {
    "duration": 13,
    "start_time": "2022-05-11T09:42:38.225Z"
   },
   {
    "duration": 274,
    "start_time": "2022-05-11T09:42:38.241Z"
   },
   {
    "duration": 2489,
    "start_time": "2022-05-11T09:42:38.518Z"
   },
   {
    "duration": 325,
    "start_time": "2022-05-11T09:42:41.009Z"
   },
   {
    "duration": 468,
    "start_time": "2022-05-11T09:42:41.338Z"
   },
   {
    "duration": 2306,
    "start_time": "2022-05-11T09:42:41.809Z"
   },
   {
    "duration": 506,
    "start_time": "2022-05-11T09:42:44.126Z"
   },
   {
    "duration": 93,
    "start_time": "2022-05-11T09:42:44.637Z"
   },
   {
    "duration": 656,
    "start_time": "2022-05-11T09:42:44.737Z"
   },
   {
    "duration": 4576,
    "start_time": "2022-05-11T09:42:45.396Z"
   },
   {
    "duration": 1355,
    "start_time": "2022-05-11T09:42:49.974Z"
   },
   {
    "duration": 381,
    "start_time": "2022-05-11T09:42:51.338Z"
   },
   {
    "duration": 0,
    "start_time": "2022-05-11T09:42:51.722Z"
   },
   {
    "duration": 0,
    "start_time": "2022-05-11T09:42:51.725Z"
   },
   {
    "duration": 0,
    "start_time": "2022-05-11T09:42:51.728Z"
   },
   {
    "duration": 0,
    "start_time": "2022-05-11T09:42:51.729Z"
   },
   {
    "duration": 0,
    "start_time": "2022-05-11T09:42:51.731Z"
   },
   {
    "duration": 1197,
    "start_time": "2022-05-11T09:44:35.139Z"
   },
   {
    "duration": 1229,
    "start_time": "2022-05-11T09:45:37.887Z"
   },
   {
    "duration": 2256,
    "start_time": "2022-05-11T09:47:08.535Z"
   },
   {
    "duration": 61,
    "start_time": "2022-05-11T09:47:10.794Z"
   },
   {
    "duration": 31,
    "start_time": "2022-05-11T09:47:10.857Z"
   },
   {
    "duration": 85,
    "start_time": "2022-05-11T09:47:10.891Z"
   },
   {
    "duration": 14,
    "start_time": "2022-05-11T09:47:10.978Z"
   },
   {
    "duration": 30,
    "start_time": "2022-05-11T09:47:10.994Z"
   },
   {
    "duration": 14,
    "start_time": "2022-05-11T09:47:11.027Z"
   },
   {
    "duration": 17,
    "start_time": "2022-05-11T09:47:11.043Z"
   },
   {
    "duration": 7,
    "start_time": "2022-05-11T09:47:11.062Z"
   },
   {
    "duration": 145,
    "start_time": "2022-05-11T09:47:11.073Z"
   },
   {
    "duration": 76,
    "start_time": "2022-05-11T09:47:11.220Z"
   },
   {
    "duration": 126,
    "start_time": "2022-05-11T09:47:11.298Z"
   },
   {
    "duration": 34,
    "start_time": "2022-05-11T09:47:11.427Z"
   },
   {
    "duration": 81,
    "start_time": "2022-05-11T09:47:11.463Z"
   },
   {
    "duration": 14,
    "start_time": "2022-05-11T09:47:11.547Z"
   },
   {
    "duration": 4,
    "start_time": "2022-05-11T09:47:11.564Z"
   },
   {
    "duration": 13,
    "start_time": "2022-05-11T09:47:11.571Z"
   },
   {
    "duration": 38,
    "start_time": "2022-05-11T09:47:11.586Z"
   },
   {
    "duration": 11,
    "start_time": "2022-05-11T09:47:11.627Z"
   },
   {
    "duration": 11,
    "start_time": "2022-05-11T09:47:11.641Z"
   },
   {
    "duration": 272,
    "start_time": "2022-05-11T09:47:11.655Z"
   },
   {
    "duration": 2379,
    "start_time": "2022-05-11T09:47:11.929Z"
   },
   {
    "duration": 224,
    "start_time": "2022-05-11T09:47:14.310Z"
   },
   {
    "duration": 439,
    "start_time": "2022-05-11T09:47:14.537Z"
   },
   {
    "duration": 2106,
    "start_time": "2022-05-11T09:47:14.979Z"
   },
   {
    "duration": 338,
    "start_time": "2022-05-11T09:47:17.088Z"
   },
   {
    "duration": 95,
    "start_time": "2022-05-11T09:47:17.430Z"
   },
   {
    "duration": 476,
    "start_time": "2022-05-11T09:47:17.530Z"
   },
   {
    "duration": 4417,
    "start_time": "2022-05-11T09:47:18.008Z"
   },
   {
    "duration": 499,
    "start_time": "2022-05-11T09:47:22.427Z"
   },
   {
    "duration": 1406,
    "start_time": "2022-05-11T09:47:22.930Z"
   },
   {
    "duration": 1586,
    "start_time": "2022-05-11T09:47:24.338Z"
   },
   {
    "duration": 254,
    "start_time": "2022-05-11T09:47:25.928Z"
   },
   {
    "duration": 0,
    "start_time": "2022-05-11T09:47:26.184Z"
   },
   {
    "duration": 0,
    "start_time": "2022-05-11T09:47:26.186Z"
   },
   {
    "duration": 0,
    "start_time": "2022-05-11T09:47:26.188Z"
   },
   {
    "duration": 0,
    "start_time": "2022-05-11T09:47:26.190Z"
   },
   {
    "duration": 2039,
    "start_time": "2022-05-11T09:52:29.410Z"
   },
   {
    "duration": 63,
    "start_time": "2022-05-11T09:52:31.451Z"
   },
   {
    "duration": 36,
    "start_time": "2022-05-11T09:52:31.516Z"
   },
   {
    "duration": 87,
    "start_time": "2022-05-11T09:52:31.554Z"
   },
   {
    "duration": 14,
    "start_time": "2022-05-11T09:52:31.644Z"
   },
   {
    "duration": 29,
    "start_time": "2022-05-11T09:52:31.661Z"
   },
   {
    "duration": 40,
    "start_time": "2022-05-11T09:52:31.693Z"
   },
   {
    "duration": 32,
    "start_time": "2022-05-11T09:52:31.735Z"
   },
   {
    "duration": 7,
    "start_time": "2022-05-11T09:52:31.769Z"
   },
   {
    "duration": 109,
    "start_time": "2022-05-11T09:52:31.781Z"
   },
   {
    "duration": 85,
    "start_time": "2022-05-11T09:52:31.892Z"
   },
   {
    "duration": 106,
    "start_time": "2022-05-11T09:52:31.980Z"
   },
   {
    "duration": 43,
    "start_time": "2022-05-11T09:52:32.088Z"
   },
   {
    "duration": 50,
    "start_time": "2022-05-11T09:52:32.133Z"
   },
   {
    "duration": 13,
    "start_time": "2022-05-11T09:52:32.185Z"
   },
   {
    "duration": 4,
    "start_time": "2022-05-11T09:52:32.226Z"
   },
   {
    "duration": 10,
    "start_time": "2022-05-11T09:52:32.233Z"
   },
   {
    "duration": 8,
    "start_time": "2022-05-11T09:52:32.245Z"
   },
   {
    "duration": 13,
    "start_time": "2022-05-11T09:52:32.255Z"
   },
   {
    "duration": 10,
    "start_time": "2022-05-11T09:52:32.270Z"
   },
   {
    "duration": 287,
    "start_time": "2022-05-11T09:52:32.282Z"
   },
   {
    "duration": 2421,
    "start_time": "2022-05-11T09:52:32.571Z"
   },
   {
    "duration": 330,
    "start_time": "2022-05-11T09:52:34.994Z"
   },
   {
    "duration": 401,
    "start_time": "2022-05-11T09:52:35.328Z"
   },
   {
    "duration": 2296,
    "start_time": "2022-05-11T09:52:35.731Z"
   },
   {
    "duration": 197,
    "start_time": "2022-05-11T09:52:38.030Z"
   },
   {
    "duration": 105,
    "start_time": "2022-05-11T09:52:38.230Z"
   },
   {
    "duration": 489,
    "start_time": "2022-05-11T09:52:38.351Z"
   },
   {
    "duration": 4177,
    "start_time": "2022-05-11T09:52:38.843Z"
   },
   {
    "duration": 308,
    "start_time": "2022-05-11T09:52:43.025Z"
   },
   {
    "duration": 1399,
    "start_time": "2022-05-11T09:52:43.335Z"
   },
   {
    "duration": 1490,
    "start_time": "2022-05-11T09:52:44.736Z"
   },
   {
    "duration": 273,
    "start_time": "2022-05-11T09:52:46.230Z"
   },
   {
    "duration": 0,
    "start_time": "2022-05-11T09:52:46.506Z"
   },
   {
    "duration": 0,
    "start_time": "2022-05-11T09:52:46.507Z"
   },
   {
    "duration": 0,
    "start_time": "2022-05-11T09:52:46.509Z"
   },
   {
    "duration": 0,
    "start_time": "2022-05-11T09:52:46.510Z"
   },
   {
    "duration": 10676,
    "start_time": "2022-05-11T09:53:50.190Z"
   },
   {
    "duration": 3,
    "start_time": "2022-05-11T09:54:08.948Z"
   },
   {
    "duration": 1712,
    "start_time": "2022-05-11T09:54:18.511Z"
   },
   {
    "duration": 16,
    "start_time": "2022-05-11T10:03:40.761Z"
   },
   {
    "duration": 2022,
    "start_time": "2022-05-11T10:03:57.969Z"
   },
   {
    "duration": 56,
    "start_time": "2022-05-11T10:03:59.994Z"
   },
   {
    "duration": 29,
    "start_time": "2022-05-11T10:04:00.053Z"
   },
   {
    "duration": 92,
    "start_time": "2022-05-11T10:04:00.085Z"
   },
   {
    "duration": 14,
    "start_time": "2022-05-11T10:04:00.179Z"
   },
   {
    "duration": 28,
    "start_time": "2022-05-11T10:04:00.196Z"
   },
   {
    "duration": 24,
    "start_time": "2022-05-11T10:04:00.227Z"
   },
   {
    "duration": 20,
    "start_time": "2022-05-11T10:04:00.253Z"
   },
   {
    "duration": 18,
    "start_time": "2022-05-11T10:04:00.275Z"
   },
   {
    "duration": 122,
    "start_time": "2022-05-11T10:04:00.297Z"
   },
   {
    "duration": 76,
    "start_time": "2022-05-11T10:04:00.424Z"
   },
   {
    "duration": 112,
    "start_time": "2022-05-11T10:04:00.502Z"
   },
   {
    "duration": 30,
    "start_time": "2022-05-11T10:04:00.624Z"
   },
   {
    "duration": 70,
    "start_time": "2022-05-11T10:04:00.656Z"
   },
   {
    "duration": 13,
    "start_time": "2022-05-11T10:04:00.728Z"
   },
   {
    "duration": 22,
    "start_time": "2022-05-11T10:04:00.743Z"
   },
   {
    "duration": 15,
    "start_time": "2022-05-11T10:04:00.767Z"
   },
   {
    "duration": 15,
    "start_time": "2022-05-11T10:04:00.784Z"
   },
   {
    "duration": 14,
    "start_time": "2022-05-11T10:04:00.802Z"
   },
   {
    "duration": 11,
    "start_time": "2022-05-11T10:04:00.823Z"
   },
   {
    "duration": 262,
    "start_time": "2022-05-11T10:04:00.836Z"
   },
   {
    "duration": 2429,
    "start_time": "2022-05-11T10:04:01.100Z"
   },
   {
    "duration": 293,
    "start_time": "2022-05-11T10:04:03.532Z"
   },
   {
    "duration": 357,
    "start_time": "2022-05-11T10:04:03.830Z"
   },
   {
    "duration": 2135,
    "start_time": "2022-05-11T10:04:04.189Z"
   },
   {
    "duration": 109,
    "start_time": "2022-05-11T10:04:06.326Z"
   },
   {
    "duration": 99,
    "start_time": "2022-05-11T10:04:06.526Z"
   },
   {
    "duration": 469,
    "start_time": "2022-05-11T10:04:06.630Z"
   },
   {
    "duration": 4500,
    "start_time": "2022-05-11T10:04:07.102Z"
   },
   {
    "duration": 430,
    "start_time": "2022-05-11T10:04:11.604Z"
   },
   {
    "duration": 1275,
    "start_time": "2022-05-11T10:04:12.124Z"
   },
   {
    "duration": 10494,
    "start_time": "2022-05-11T10:04:13.401Z"
   },
   {
    "duration": 1529,
    "start_time": "2022-05-11T10:04:23.897Z"
   },
   {
    "duration": 382,
    "start_time": "2022-05-11T10:04:25.429Z"
   },
   {
    "duration": 0,
    "start_time": "2022-05-11T10:04:25.815Z"
   },
   {
    "duration": 0,
    "start_time": "2022-05-11T10:04:25.817Z"
   },
   {
    "duration": 0,
    "start_time": "2022-05-11T10:04:25.825Z"
   },
   {
    "duration": 248,
    "start_time": "2022-05-11T10:04:52.947Z"
   },
   {
    "duration": 234,
    "start_time": "2022-05-11T10:06:13.184Z"
   },
   {
    "duration": 267,
    "start_time": "2022-05-11T10:06:19.570Z"
   },
   {
    "duration": 2079,
    "start_time": "2022-05-11T10:06:54.862Z"
   },
   {
    "duration": 55,
    "start_time": "2022-05-11T10:06:56.944Z"
   },
   {
    "duration": 45,
    "start_time": "2022-05-11T10:06:57.001Z"
   },
   {
    "duration": 80,
    "start_time": "2022-05-11T10:06:57.049Z"
   },
   {
    "duration": 15,
    "start_time": "2022-05-11T10:06:57.131Z"
   },
   {
    "duration": 6,
    "start_time": "2022-05-11T10:06:57.148Z"
   },
   {
    "duration": 20,
    "start_time": "2022-05-11T10:06:57.156Z"
   },
   {
    "duration": 54,
    "start_time": "2022-05-11T10:06:57.178Z"
   },
   {
    "duration": 7,
    "start_time": "2022-05-11T10:06:57.234Z"
   },
   {
    "duration": 115,
    "start_time": "2022-05-11T10:06:57.245Z"
   },
   {
    "duration": 85,
    "start_time": "2022-05-11T10:06:57.362Z"
   },
   {
    "duration": 101,
    "start_time": "2022-05-11T10:06:57.449Z"
   },
   {
    "duration": 30,
    "start_time": "2022-05-11T10:06:57.553Z"
   },
   {
    "duration": 74,
    "start_time": "2022-05-11T10:06:57.585Z"
   },
   {
    "duration": 11,
    "start_time": "2022-05-11T10:06:57.661Z"
   },
   {
    "duration": 4,
    "start_time": "2022-05-11T10:06:57.674Z"
   },
   {
    "duration": 6,
    "start_time": "2022-05-11T10:06:57.680Z"
   },
   {
    "duration": 8,
    "start_time": "2022-05-11T10:06:57.688Z"
   },
   {
    "duration": 33,
    "start_time": "2022-05-11T10:06:57.698Z"
   },
   {
    "duration": 10,
    "start_time": "2022-05-11T10:06:57.733Z"
   },
   {
    "duration": 266,
    "start_time": "2022-05-11T10:06:57.745Z"
   },
   {
    "duration": 2343,
    "start_time": "2022-05-11T10:06:58.013Z"
   },
   {
    "duration": 366,
    "start_time": "2022-05-11T10:07:00.359Z"
   },
   {
    "duration": 351,
    "start_time": "2022-05-11T10:07:00.730Z"
   },
   {
    "duration": 2125,
    "start_time": "2022-05-11T10:07:01.083Z"
   },
   {
    "duration": 320,
    "start_time": "2022-05-11T10:07:03.210Z"
   },
   {
    "duration": 95,
    "start_time": "2022-05-11T10:07:03.533Z"
   },
   {
    "duration": 478,
    "start_time": "2022-05-11T10:07:03.633Z"
   },
   {
    "duration": 4469,
    "start_time": "2022-05-11T10:07:04.113Z"
   },
   {
    "duration": 541,
    "start_time": "2022-05-11T10:07:08.584Z"
   },
   {
    "duration": 1403,
    "start_time": "2022-05-11T10:07:09.129Z"
   },
   {
    "duration": 9962,
    "start_time": "2022-05-11T10:07:10.534Z"
   },
   {
    "duration": 1727,
    "start_time": "2022-05-11T10:07:20.498Z"
   },
   {
    "duration": 311,
    "start_time": "2022-05-11T10:07:22.229Z"
   },
   {
    "duration": 255,
    "start_time": "2022-05-11T10:07:22.543Z"
   },
   {
    "duration": 2243,
    "start_time": "2022-05-11T10:13:46.787Z"
   },
   {
    "duration": 65,
    "start_time": "2022-05-11T10:13:49.033Z"
   },
   {
    "duration": 35,
    "start_time": "2022-05-11T10:13:49.100Z"
   },
   {
    "duration": 66,
    "start_time": "2022-05-11T10:13:49.139Z"
   },
   {
    "duration": 15,
    "start_time": "2022-05-11T10:13:49.224Z"
   },
   {
    "duration": 25,
    "start_time": "2022-05-11T10:13:49.241Z"
   },
   {
    "duration": 53,
    "start_time": "2022-05-11T10:13:49.268Z"
   },
   {
    "duration": 21,
    "start_time": "2022-05-11T10:13:49.324Z"
   },
   {
    "duration": 25,
    "start_time": "2022-05-11T10:13:49.348Z"
   },
   {
    "duration": 134,
    "start_time": "2022-05-11T10:13:49.377Z"
   },
   {
    "duration": 78,
    "start_time": "2022-05-11T10:13:49.514Z"
   },
   {
    "duration": 116,
    "start_time": "2022-05-11T10:13:49.594Z"
   },
   {
    "duration": 41,
    "start_time": "2022-05-11T10:13:49.712Z"
   },
   {
    "duration": 73,
    "start_time": "2022-05-11T10:13:49.756Z"
   },
   {
    "duration": 15,
    "start_time": "2022-05-11T10:13:49.832Z"
   },
   {
    "duration": 7,
    "start_time": "2022-05-11T10:13:49.850Z"
   },
   {
    "duration": 22,
    "start_time": "2022-05-11T10:13:49.859Z"
   },
   {
    "duration": 22,
    "start_time": "2022-05-11T10:13:49.884Z"
   },
   {
    "duration": 20,
    "start_time": "2022-05-11T10:13:49.908Z"
   },
   {
    "duration": 37,
    "start_time": "2022-05-11T10:13:49.931Z"
   },
   {
    "duration": 289,
    "start_time": "2022-05-11T10:13:49.970Z"
   },
   {
    "duration": 2357,
    "start_time": "2022-05-11T10:13:50.261Z"
   },
   {
    "duration": 306,
    "start_time": "2022-05-11T10:13:52.620Z"
   },
   {
    "duration": 355,
    "start_time": "2022-05-11T10:13:52.929Z"
   },
   {
    "duration": 2208,
    "start_time": "2022-05-11T10:13:53.286Z"
   },
   {
    "duration": 332,
    "start_time": "2022-05-11T10:13:55.496Z"
   },
   {
    "duration": 93,
    "start_time": "2022-05-11T10:13:55.832Z"
   },
   {
    "duration": 475,
    "start_time": "2022-05-11T10:13:55.930Z"
   },
   {
    "duration": 4223,
    "start_time": "2022-05-11T10:13:56.407Z"
   },
   {
    "duration": 593,
    "start_time": "2022-05-11T10:14:00.633Z"
   },
   {
    "duration": 1377,
    "start_time": "2022-05-11T10:14:01.230Z"
   },
   {
    "duration": 9980,
    "start_time": "2022-05-11T10:14:02.610Z"
   },
   {
    "duration": 1642,
    "start_time": "2022-05-11T10:14:12.592Z"
   },
   {
    "duration": 348,
    "start_time": "2022-05-11T10:14:14.325Z"
   },
   {
    "duration": 267,
    "start_time": "2022-05-11T10:14:14.675Z"
   },
   {
    "duration": 1762,
    "start_time": "2022-05-12T10:10:02.521Z"
   },
   {
    "duration": 38,
    "start_time": "2022-05-12T10:10:04.285Z"
   },
   {
    "duration": 21,
    "start_time": "2022-05-12T10:10:04.325Z"
   },
   {
    "duration": 56,
    "start_time": "2022-05-12T10:10:04.347Z"
   },
   {
    "duration": 10,
    "start_time": "2022-05-12T10:10:04.404Z"
   },
   {
    "duration": 4,
    "start_time": "2022-05-12T10:10:04.415Z"
   },
   {
    "duration": 11,
    "start_time": "2022-05-12T10:10:04.421Z"
   },
   {
    "duration": 37,
    "start_time": "2022-05-12T10:10:04.434Z"
   },
   {
    "duration": 5,
    "start_time": "2022-05-12T10:10:04.473Z"
   },
   {
    "duration": 66,
    "start_time": "2022-05-12T10:10:04.481Z"
   },
   {
    "duration": 62,
    "start_time": "2022-05-12T10:10:04.549Z"
   },
   {
    "duration": 70,
    "start_time": "2022-05-12T10:10:04.612Z"
   },
   {
    "duration": 19,
    "start_time": "2022-05-12T10:10:04.684Z"
   },
   {
    "duration": 32,
    "start_time": "2022-05-12T10:10:04.705Z"
   },
   {
    "duration": 8,
    "start_time": "2022-05-12T10:10:04.738Z"
   },
   {
    "duration": 3,
    "start_time": "2022-05-12T10:10:04.747Z"
   },
   {
    "duration": 3,
    "start_time": "2022-05-12T10:10:04.772Z"
   },
   {
    "duration": 6,
    "start_time": "2022-05-12T10:10:04.777Z"
   },
   {
    "duration": 9,
    "start_time": "2022-05-12T10:10:04.785Z"
   },
   {
    "duration": 6,
    "start_time": "2022-05-12T10:10:04.796Z"
   },
   {
    "duration": 176,
    "start_time": "2022-05-12T10:10:04.804Z"
   },
   {
    "duration": 1402,
    "start_time": "2022-05-12T10:10:04.982Z"
   },
   {
    "duration": 286,
    "start_time": "2022-05-12T10:10:06.386Z"
   },
   {
    "duration": 245,
    "start_time": "2022-05-12T10:10:06.674Z"
   },
   {
    "duration": 1542,
    "start_time": "2022-05-12T10:10:06.921Z"
   },
   {
    "duration": 221,
    "start_time": "2022-05-12T10:10:08.465Z"
   },
   {
    "duration": 83,
    "start_time": "2022-05-12T10:10:08.689Z"
   },
   {
    "duration": 257,
    "start_time": "2022-05-12T10:10:08.777Z"
   },
   {
    "duration": 0,
    "start_time": "2022-05-12T10:10:09.035Z"
   },
   {
    "duration": 0,
    "start_time": "2022-05-12T10:10:09.037Z"
   },
   {
    "duration": 0,
    "start_time": "2022-05-12T10:10:09.038Z"
   },
   {
    "duration": 0,
    "start_time": "2022-05-12T10:10:09.039Z"
   },
   {
    "duration": 0,
    "start_time": "2022-05-12T10:10:09.040Z"
   },
   {
    "duration": 0,
    "start_time": "2022-05-12T10:10:09.041Z"
   },
   {
    "duration": 0,
    "start_time": "2022-05-12T10:10:09.042Z"
   },
   {
    "duration": 0,
    "start_time": "2022-05-12T10:10:09.043Z"
   },
   {
    "duration": 6,
    "start_time": "2022-05-12T10:10:27.863Z"
   },
   {
    "duration": 274,
    "start_time": "2022-05-12T10:10:30.552Z"
   },
   {
    "duration": 2157,
    "start_time": "2022-05-12T10:10:33.515Z"
   },
   {
    "duration": 9,
    "start_time": "2022-05-12T10:11:33.667Z"
   },
   {
    "duration": 8,
    "start_time": "2022-05-12T10:12:14.346Z"
   },
   {
    "duration": 10,
    "start_time": "2022-05-12T10:12:28.140Z"
   },
   {
    "duration": 11,
    "start_time": "2022-05-12T10:12:45.669Z"
   },
   {
    "duration": 31,
    "start_time": "2022-05-12T10:15:08.661Z"
   },
   {
    "duration": 27,
    "start_time": "2022-05-12T10:15:18.480Z"
   },
   {
    "duration": 490,
    "start_time": "2022-05-12T10:17:33.169Z"
   },
   {
    "duration": 44,
    "start_time": "2022-05-12T13:23:44.087Z"
   },
   {
    "duration": 1797,
    "start_time": "2022-05-12T13:28:40.661Z"
   },
   {
    "duration": 46,
    "start_time": "2022-05-12T13:28:42.460Z"
   },
   {
    "duration": 20,
    "start_time": "2022-05-12T13:28:42.507Z"
   },
   {
    "duration": 61,
    "start_time": "2022-05-12T13:28:42.529Z"
   },
   {
    "duration": 9,
    "start_time": "2022-05-12T13:28:42.592Z"
   },
   {
    "duration": 3,
    "start_time": "2022-05-12T13:28:42.603Z"
   },
   {
    "duration": 11,
    "start_time": "2022-05-12T13:28:42.608Z"
   },
   {
    "duration": 14,
    "start_time": "2022-05-12T13:28:42.621Z"
   },
   {
    "duration": 34,
    "start_time": "2022-05-12T13:28:42.636Z"
   },
   {
    "duration": 77,
    "start_time": "2022-05-12T13:28:42.672Z"
   },
   {
    "duration": 61,
    "start_time": "2022-05-12T13:28:42.751Z"
   },
   {
    "duration": 98,
    "start_time": "2022-05-12T13:28:42.814Z"
   },
   {
    "duration": 20,
    "start_time": "2022-05-12T13:28:42.914Z"
   },
   {
    "duration": 7,
    "start_time": "2022-05-12T13:28:42.936Z"
   },
   {
    "duration": 4,
    "start_time": "2022-05-12T13:28:42.945Z"
   },
   {
    "duration": 5,
    "start_time": "2022-05-12T13:28:42.962Z"
   },
   {
    "duration": 17,
    "start_time": "2022-05-12T13:28:42.969Z"
   },
   {
    "duration": 10,
    "start_time": "2022-05-12T13:28:42.987Z"
   },
   {
    "duration": 7,
    "start_time": "2022-05-12T13:28:42.998Z"
   },
   {
    "duration": 474,
    "start_time": "2022-05-12T13:28:43.006Z"
   },
   {
    "duration": 2427,
    "start_time": "2022-05-12T13:28:43.482Z"
   },
   {
    "duration": 672,
    "start_time": "2022-05-12T13:28:45.910Z"
   },
   {
    "duration": 650,
    "start_time": "2022-05-12T13:28:46.587Z"
   },
   {
    "duration": 2961,
    "start_time": "2022-05-12T13:28:47.238Z"
   },
   {
    "duration": 287,
    "start_time": "2022-05-12T13:28:50.200Z"
   },
   {
    "duration": 75,
    "start_time": "2022-05-12T13:28:50.489Z"
   },
   {
    "duration": 1097,
    "start_time": "2022-05-12T13:28:50.566Z"
   },
   {
    "duration": 6334,
    "start_time": "2022-05-12T13:28:51.667Z"
   },
   {
    "duration": 375,
    "start_time": "2022-05-12T13:28:58.002Z"
   },
   {
    "duration": 1200,
    "start_time": "2022-05-12T13:28:58.379Z"
   },
   {
    "duration": 10800,
    "start_time": "2022-05-12T13:28:59.581Z"
   },
   {
    "duration": 902,
    "start_time": "2022-05-12T13:29:10.385Z"
   },
   {
    "duration": 548,
    "start_time": "2022-05-12T13:29:11.367Z"
   },
   {
    "duration": 511,
    "start_time": "2022-05-12T13:29:11.916Z"
   },
   {
    "duration": 1537,
    "start_time": "2022-05-12T13:33:35.277Z"
   },
   {
    "duration": 53,
    "start_time": "2022-05-12T13:33:38.982Z"
   },
   {
    "duration": 28,
    "start_time": "2022-05-12T13:33:42.564Z"
   },
   {
    "duration": 53,
    "start_time": "2022-05-12T13:33:43.969Z"
   },
   {
    "duration": 10,
    "start_time": "2022-05-12T13:33:45.632Z"
   },
   {
    "duration": 4,
    "start_time": "2022-05-12T13:33:49.313Z"
   },
   {
    "duration": 10,
    "start_time": "2022-05-12T13:33:50.483Z"
   },
   {
    "duration": 11,
    "start_time": "2022-05-12T13:33:51.185Z"
   },
   {
    "duration": 5,
    "start_time": "2022-05-12T13:33:51.832Z"
   },
   {
    "duration": 63,
    "start_time": "2022-05-12T13:33:55.681Z"
   },
   {
    "duration": 46,
    "start_time": "2022-05-12T13:33:56.537Z"
   },
   {
    "duration": 63,
    "start_time": "2022-05-12T13:33:58.717Z"
   },
   {
    "duration": 22,
    "start_time": "2022-05-12T13:34:02.258Z"
   },
   {
    "duration": 9,
    "start_time": "2022-05-12T13:34:08.832Z"
   },
   {
    "duration": 3,
    "start_time": "2022-05-12T13:34:09.669Z"
   },
   {
    "duration": 104,
    "start_time": "2022-05-12T13:34:13.735Z"
   },
   {
    "duration": 5,
    "start_time": "2022-05-12T13:34:32.063Z"
   },
   {
    "duration": 41,
    "start_time": "2022-05-12T13:34:46.977Z"
   },
   {
    "duration": 8,
    "start_time": "2022-05-12T13:37:15.025Z"
   },
   {
    "duration": 8,
    "start_time": "2022-05-12T13:37:16.880Z"
   },
   {
    "duration": 13,
    "start_time": "2022-05-12T13:37:20.282Z"
   },
   {
    "duration": 1518,
    "start_time": "2022-05-12T13:38:11.308Z"
   },
   {
    "duration": 38,
    "start_time": "2022-05-12T13:38:12.827Z"
   },
   {
    "duration": 25,
    "start_time": "2022-05-12T13:38:12.867Z"
   },
   {
    "duration": 39,
    "start_time": "2022-05-12T13:38:12.895Z"
   },
   {
    "duration": 35,
    "start_time": "2022-05-12T13:38:12.935Z"
   },
   {
    "duration": 4,
    "start_time": "2022-05-12T13:38:12.972Z"
   },
   {
    "duration": 12,
    "start_time": "2022-05-12T13:38:12.978Z"
   },
   {
    "duration": 11,
    "start_time": "2022-05-12T13:38:12.992Z"
   },
   {
    "duration": 4,
    "start_time": "2022-05-12T13:38:13.005Z"
   },
   {
    "duration": 87,
    "start_time": "2022-05-12T13:38:13.011Z"
   },
   {
    "duration": 42,
    "start_time": "2022-05-12T13:38:13.100Z"
   },
   {
    "duration": 77,
    "start_time": "2022-05-12T13:38:13.144Z"
   },
   {
    "duration": 20,
    "start_time": "2022-05-12T13:38:13.222Z"
   },
   {
    "duration": 28,
    "start_time": "2022-05-12T13:38:13.245Z"
   },
   {
    "duration": 5,
    "start_time": "2022-05-12T13:38:13.276Z"
   },
   {
    "duration": 11,
    "start_time": "2022-05-12T13:38:13.283Z"
   },
   {
    "duration": 7,
    "start_time": "2022-05-12T13:38:13.296Z"
   },
   {
    "duration": 9,
    "start_time": "2022-05-12T13:38:13.304Z"
   },
   {
    "duration": 7,
    "start_time": "2022-05-12T13:38:13.314Z"
   },
   {
    "duration": 617,
    "start_time": "2022-05-12T13:38:13.322Z"
   },
   {
    "duration": 2516,
    "start_time": "2022-05-12T13:38:13.941Z"
   },
   {
    "duration": 410,
    "start_time": "2022-05-12T13:38:16.458Z"
   },
   {
    "duration": 676,
    "start_time": "2022-05-12T13:38:16.870Z"
   },
   {
    "duration": 3538,
    "start_time": "2022-05-12T13:38:17.548Z"
   },
   {
    "duration": 695,
    "start_time": "2022-05-12T13:38:21.088Z"
   },
   {
    "duration": 92,
    "start_time": "2022-05-12T13:38:21.785Z"
   },
   {
    "duration": 837,
    "start_time": "2022-05-12T13:38:21.880Z"
   },
   {
    "duration": 8795,
    "start_time": "2022-05-12T13:38:22.721Z"
   },
   {
    "duration": 665,
    "start_time": "2022-05-12T13:38:31.518Z"
   },
   {
    "duration": 1445,
    "start_time": "2022-05-12T13:38:32.186Z"
   },
   {
    "duration": 13548,
    "start_time": "2022-05-12T13:38:33.633Z"
   },
   {
    "duration": 1395,
    "start_time": "2022-05-12T13:38:47.184Z"
   },
   {
    "duration": 722,
    "start_time": "2022-05-12T13:38:48.662Z"
   },
   {
    "duration": 649,
    "start_time": "2022-05-12T13:38:49.386Z"
   },
   {
    "duration": 1555,
    "start_time": "2022-05-12T14:00:47.773Z"
   },
   {
    "duration": 178,
    "start_time": "2022-05-12T14:00:49.330Z"
   },
   {
    "duration": 0,
    "start_time": "2022-05-12T14:00:49.511Z"
   },
   {
    "duration": 0,
    "start_time": "2022-05-12T14:00:49.511Z"
   },
   {
    "duration": 0,
    "start_time": "2022-05-12T14:00:49.513Z"
   },
   {
    "duration": 0,
    "start_time": "2022-05-12T14:00:49.514Z"
   },
   {
    "duration": 0,
    "start_time": "2022-05-12T14:00:49.515Z"
   },
   {
    "duration": 0,
    "start_time": "2022-05-12T14:00:49.516Z"
   },
   {
    "duration": 0,
    "start_time": "2022-05-12T14:00:49.516Z"
   },
   {
    "duration": 0,
    "start_time": "2022-05-12T14:00:49.517Z"
   },
   {
    "duration": 0,
    "start_time": "2022-05-12T14:00:49.518Z"
   },
   {
    "duration": 0,
    "start_time": "2022-05-12T14:00:49.519Z"
   },
   {
    "duration": 0,
    "start_time": "2022-05-12T14:00:49.520Z"
   },
   {
    "duration": 0,
    "start_time": "2022-05-12T14:00:49.521Z"
   },
   {
    "duration": 0,
    "start_time": "2022-05-12T14:00:49.521Z"
   },
   {
    "duration": 0,
    "start_time": "2022-05-12T14:00:49.522Z"
   },
   {
    "duration": 0,
    "start_time": "2022-05-12T14:00:49.523Z"
   },
   {
    "duration": 0,
    "start_time": "2022-05-12T14:00:49.524Z"
   },
   {
    "duration": 0,
    "start_time": "2022-05-12T14:00:49.526Z"
   },
   {
    "duration": 0,
    "start_time": "2022-05-12T14:00:49.527Z"
   },
   {
    "duration": 0,
    "start_time": "2022-05-12T14:00:49.528Z"
   },
   {
    "duration": 0,
    "start_time": "2022-05-12T14:00:49.529Z"
   },
   {
    "duration": 0,
    "start_time": "2022-05-12T14:00:49.530Z"
   },
   {
    "duration": 0,
    "start_time": "2022-05-12T14:00:49.562Z"
   },
   {
    "duration": 0,
    "start_time": "2022-05-12T14:00:49.564Z"
   },
   {
    "duration": 0,
    "start_time": "2022-05-12T14:00:49.565Z"
   },
   {
    "duration": 0,
    "start_time": "2022-05-12T14:00:49.565Z"
   },
   {
    "duration": 0,
    "start_time": "2022-05-12T14:00:49.566Z"
   },
   {
    "duration": 0,
    "start_time": "2022-05-12T14:00:49.567Z"
   },
   {
    "duration": 0,
    "start_time": "2022-05-12T14:00:49.571Z"
   },
   {
    "duration": 0,
    "start_time": "2022-05-12T14:00:49.572Z"
   },
   {
    "duration": 0,
    "start_time": "2022-05-12T14:00:49.579Z"
   },
   {
    "duration": 0,
    "start_time": "2022-05-12T14:00:49.580Z"
   },
   {
    "duration": 0,
    "start_time": "2022-05-12T14:00:49.583Z"
   },
   {
    "duration": 1486,
    "start_time": "2022-05-12T14:01:54.901Z"
   },
   {
    "duration": 40,
    "start_time": "2022-05-12T14:01:56.389Z"
   },
   {
    "duration": 19,
    "start_time": "2022-05-12T14:01:56.431Z"
   },
   {
    "duration": 41,
    "start_time": "2022-05-12T14:01:56.463Z"
   },
   {
    "duration": 9,
    "start_time": "2022-05-12T14:01:56.506Z"
   },
   {
    "duration": 4,
    "start_time": "2022-05-12T14:01:56.517Z"
   },
   {
    "duration": 19,
    "start_time": "2022-05-12T14:01:56.523Z"
   },
   {
    "duration": 31,
    "start_time": "2022-05-12T14:01:56.544Z"
   },
   {
    "duration": 11,
    "start_time": "2022-05-12T14:01:56.578Z"
   },
   {
    "duration": 73,
    "start_time": "2022-05-12T14:01:56.592Z"
   },
   {
    "duration": 43,
    "start_time": "2022-05-12T14:01:56.667Z"
   },
   {
    "duration": 75,
    "start_time": "2022-05-12T14:01:56.712Z"
   },
   {
    "duration": 19,
    "start_time": "2022-05-12T14:01:56.789Z"
   },
   {
    "duration": 8,
    "start_time": "2022-05-12T14:01:56.810Z"
   },
   {
    "duration": 6,
    "start_time": "2022-05-12T14:01:56.819Z"
   },
   {
    "duration": 14,
    "start_time": "2022-05-12T14:01:56.827Z"
   },
   {
    "duration": 23,
    "start_time": "2022-05-12T14:01:56.843Z"
   },
   {
    "duration": 11,
    "start_time": "2022-05-12T14:01:56.874Z"
   },
   {
    "duration": 7,
    "start_time": "2022-05-12T14:01:56.887Z"
   },
   {
    "duration": 497,
    "start_time": "2022-05-12T14:01:56.895Z"
   },
   {
    "duration": 2294,
    "start_time": "2022-05-12T14:01:57.393Z"
   },
   {
    "duration": 377,
    "start_time": "2022-05-12T14:01:59.689Z"
   },
   {
    "duration": 615,
    "start_time": "2022-05-12T14:02:00.068Z"
   },
   {
    "duration": 2772,
    "start_time": "2022-05-12T14:02:00.685Z"
   },
   {
    "duration": 310,
    "start_time": "2022-05-12T14:02:03.459Z"
   },
   {
    "duration": 12,
    "start_time": "2022-05-12T14:02:03.771Z"
   },
   {
    "duration": 853,
    "start_time": "2022-05-12T14:02:03.864Z"
   },
   {
    "duration": 6228,
    "start_time": "2022-05-12T14:02:04.720Z"
   },
   {
    "duration": 340,
    "start_time": "2022-05-12T14:02:10.950Z"
   },
   {
    "duration": 1217,
    "start_time": "2022-05-12T14:02:11.366Z"
   },
   {
    "duration": 10648,
    "start_time": "2022-05-12T14:02:12.584Z"
   },
   {
    "duration": 539,
    "start_time": "2022-05-12T14:02:23.233Z"
   },
   {
    "duration": 544,
    "start_time": "2022-05-12T14:02:23.785Z"
   },
   {
    "duration": 513,
    "start_time": "2022-05-12T14:02:24.330Z"
   }
  ],
  "celltoolbar": "Отсутствует",
  "interpreter": {
   "hash": "a9872e31791ab73c8f16de93a6d5e76afc896f0caafe4a21f77a6173ca95125a"
  },
  "kernelspec": {
   "display_name": "Python 3.9.1 64-bit",
   "language": "python",
   "name": "python3"
  },
  "language_info": {
   "codemirror_mode": {
    "name": "ipython",
    "version": 3
   },
   "file_extension": ".py",
   "mimetype": "text/x-python",
   "name": "python",
   "nbconvert_exporter": "python",
   "pygments_lexer": "ipython3",
   "version": "3.9.1"
  },
  "toc": {
   "base_numbering": 1,
   "nav_menu": {},
   "number_sections": true,
   "sideBar": true,
   "skip_h1_title": true,
   "title_cell": "Содержание",
   "title_sidebar": "Contents",
   "toc_cell": true,
   "toc_position": {
    "height": "calc(100% - 180px)",
    "left": "10px",
    "top": "150px",
    "width": "324.969px"
   },
   "toc_section_display": true,
   "toc_window_display": true
  }
 },
 "nbformat": 4,
 "nbformat_minor": 2
}
