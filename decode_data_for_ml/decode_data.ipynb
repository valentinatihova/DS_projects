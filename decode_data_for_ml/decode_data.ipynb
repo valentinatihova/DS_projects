{
 "cells": [
  {
   "cell_type": "markdown",
   "metadata": {
    "toc": true
   },
   "source": [
    "<h1>Содержание<span class=\"tocSkip\"></span></h1>\n",
    "<div class=\"toc\"><ul class=\"toc-item\"><li><span><a href=\"#Загрузка-данных\" data-toc-modified-id=\"Загрузка-данных-1\"><span class=\"toc-item-num\">1&nbsp;&nbsp;</span>Загрузка данных</a></span></li><li><span><a href=\"#Умножение-матриц\" data-toc-modified-id=\"Умножение-матриц-2\"><span class=\"toc-item-num\">2&nbsp;&nbsp;</span>Умножение матриц</a></span></li><li><span><a href=\"#Алгоритм-преобразования\" data-toc-modified-id=\"Алгоритм-преобразования-3\"><span class=\"toc-item-num\">3&nbsp;&nbsp;</span>Алгоритм преобразования</a></span></li><li><span><a href=\"#Проверка-алгоритма\" data-toc-modified-id=\"Проверка-алгоритма-4\"><span class=\"toc-item-num\">4&nbsp;&nbsp;</span>Проверка алгоритма</a></span></li><li><span><a href=\"#Чек-лист-проверки\" data-toc-modified-id=\"Чек-лист-проверки-5\"><span class=\"toc-item-num\">5&nbsp;&nbsp;</span>Чек-лист проверки</a></span></li></ul></div>"
   ]
  },
  {
   "cell_type": "markdown",
   "metadata": {},
   "source": [
    "# Защита персональных данных клиентов"
   ]
  },
  {
   "cell_type": "markdown",
   "metadata": {},
   "source": [
    "Вам нужно защитить данные клиентов страховой компании «Хоть потоп». Разработайте такой метод преобразования данных, чтобы по ним было сложно восстановить персональную информацию. Обоснуйте корректность его работы.\n",
    "\n",
    "Нужно защитить данные, чтобы при преобразовании качество моделей машинного обучения не ухудшилось. Подбирать наилучшую модель не требуется."
   ]
  },
  {
   "cell_type": "markdown",
   "metadata": {},
   "source": [
    "## Загрузка данных"
   ]
  },
  {
   "cell_type": "markdown",
   "metadata": {},
   "source": [
    "Перед началом работы сделаем импорт необходимых бибилиотек."
   ]
  },
  {
   "cell_type": "code",
   "execution_count": 1,
   "metadata": {},
   "outputs": [],
   "source": [
    "import pandas as pd\n",
    "import matplotlib.pyplot as plt\n",
    "from IPython.display import display\n",
    "import seaborn as sns\n",
    "import numpy as np\n",
    "import warnings\n",
    "import re\n",
    "\n",
    "from sklearn.linear_model import LinearRegression\n",
    "from sklearn.preprocessing import StandardScaler\n",
    "from sklearn.metrics import mean_squared_error, r2_score"
   ]
  },
  {
   "cell_type": "markdown",
   "metadata": {},
   "source": [
    "Загрузим данные страховой компании и посмотрим на них."
   ]
  },
  {
   "cell_type": "code",
   "execution_count": 2,
   "metadata": {},
   "outputs": [
    {
     "data": {
      "text/html": [
       "<div>\n",
       "<style scoped>\n",
       "    .dataframe tbody tr th:only-of-type {\n",
       "        vertical-align: middle;\n",
       "    }\n",
       "\n",
       "    .dataframe tbody tr th {\n",
       "        vertical-align: top;\n",
       "    }\n",
       "\n",
       "    .dataframe thead th {\n",
       "        text-align: right;\n",
       "    }\n",
       "</style>\n",
       "<table border=\"1\" class=\"dataframe\">\n",
       "  <thead>\n",
       "    <tr style=\"text-align: right;\">\n",
       "      <th></th>\n",
       "      <th>gender</th>\n",
       "      <th>age</th>\n",
       "      <th>sale</th>\n",
       "      <th>family_member</th>\n",
       "      <th>insurance</th>\n",
       "    </tr>\n",
       "  </thead>\n",
       "  <tbody>\n",
       "    <tr>\n",
       "      <th>2875</th>\n",
       "      <td>1</td>\n",
       "      <td>35.0</td>\n",
       "      <td>40500.0</td>\n",
       "      <td>3</td>\n",
       "      <td>0</td>\n",
       "    </tr>\n",
       "    <tr>\n",
       "      <th>1792</th>\n",
       "      <td>1</td>\n",
       "      <td>33.0</td>\n",
       "      <td>30700.0</td>\n",
       "      <td>1</td>\n",
       "      <td>0</td>\n",
       "    </tr>\n",
       "    <tr>\n",
       "      <th>3776</th>\n",
       "      <td>1</td>\n",
       "      <td>20.0</td>\n",
       "      <td>42200.0</td>\n",
       "      <td>1</td>\n",
       "      <td>0</td>\n",
       "    </tr>\n",
       "  </tbody>\n",
       "</table>\n",
       "</div>"
      ],
      "text/plain": [
       "      gender   age     sale  family_member  insurance\n",
       "2875       1  35.0  40500.0              3          0\n",
       "1792       1  33.0  30700.0              1          0\n",
       "3776       1  20.0  42200.0              1          0"
      ]
     },
     "execution_count": 2,
     "metadata": {},
     "output_type": "execute_result"
    }
   ],
   "source": [
    "df = pd.read_csv('/datasets/insurance.csv')\n",
    "df.columns = ['gender', 'age', 'sale', 'family_member', 'insurance']\n",
    "df.sample(3)"
   ]
  },
  {
   "cell_type": "code",
   "execution_count": 3,
   "metadata": {},
   "outputs": [
    {
     "name": "stdout",
     "output_type": "stream",
     "text": [
      "<class 'pandas.core.frame.DataFrame'>\n",
      "RangeIndex: 5000 entries, 0 to 4999\n",
      "Data columns (total 5 columns):\n",
      " #   Column         Non-Null Count  Dtype  \n",
      "---  ------         --------------  -----  \n",
      " 0   gender         5000 non-null   int64  \n",
      " 1   age            5000 non-null   float64\n",
      " 2   sale           5000 non-null   float64\n",
      " 3   family_member  5000 non-null   int64  \n",
      " 4   insurance      5000 non-null   int64  \n",
      "dtypes: float64(2), int64(3)\n",
      "memory usage: 195.4 KB\n"
     ]
    }
   ],
   "source": [
    "df.info()"
   ]
  },
  {
   "cell_type": "code",
   "execution_count": 4,
   "metadata": {},
   "outputs": [
    {
     "data": {
      "text/html": [
       "<div>\n",
       "<style scoped>\n",
       "    .dataframe tbody tr th:only-of-type {\n",
       "        vertical-align: middle;\n",
       "    }\n",
       "\n",
       "    .dataframe tbody tr th {\n",
       "        vertical-align: top;\n",
       "    }\n",
       "\n",
       "    .dataframe thead th {\n",
       "        text-align: right;\n",
       "    }\n",
       "</style>\n",
       "<table border=\"1\" class=\"dataframe\">\n",
       "  <thead>\n",
       "    <tr style=\"text-align: right;\">\n",
       "      <th></th>\n",
       "      <th>gender</th>\n",
       "      <th>age</th>\n",
       "      <th>sale</th>\n",
       "      <th>family_member</th>\n",
       "      <th>insurance</th>\n",
       "    </tr>\n",
       "  </thead>\n",
       "  <tbody>\n",
       "    <tr>\n",
       "      <th>count</th>\n",
       "      <td>5000.0</td>\n",
       "      <td>5000.0</td>\n",
       "      <td>5000.0</td>\n",
       "      <td>5000.0</td>\n",
       "      <td>5000.0</td>\n",
       "    </tr>\n",
       "    <tr>\n",
       "      <th>mean</th>\n",
       "      <td>0.5</td>\n",
       "      <td>31.0</td>\n",
       "      <td>39916.4</td>\n",
       "      <td>1.2</td>\n",
       "      <td>0.1</td>\n",
       "    </tr>\n",
       "    <tr>\n",
       "      <th>std</th>\n",
       "      <td>0.5</td>\n",
       "      <td>8.4</td>\n",
       "      <td>9900.1</td>\n",
       "      <td>1.1</td>\n",
       "      <td>0.5</td>\n",
       "    </tr>\n",
       "    <tr>\n",
       "      <th>min</th>\n",
       "      <td>0.0</td>\n",
       "      <td>18.0</td>\n",
       "      <td>5300.0</td>\n",
       "      <td>0.0</td>\n",
       "      <td>0.0</td>\n",
       "    </tr>\n",
       "    <tr>\n",
       "      <th>25%</th>\n",
       "      <td>0.0</td>\n",
       "      <td>24.0</td>\n",
       "      <td>33300.0</td>\n",
       "      <td>0.0</td>\n",
       "      <td>0.0</td>\n",
       "    </tr>\n",
       "    <tr>\n",
       "      <th>50%</th>\n",
       "      <td>0.0</td>\n",
       "      <td>30.0</td>\n",
       "      <td>40200.0</td>\n",
       "      <td>1.0</td>\n",
       "      <td>0.0</td>\n",
       "    </tr>\n",
       "    <tr>\n",
       "      <th>75%</th>\n",
       "      <td>1.0</td>\n",
       "      <td>37.0</td>\n",
       "      <td>46600.0</td>\n",
       "      <td>2.0</td>\n",
       "      <td>0.0</td>\n",
       "    </tr>\n",
       "    <tr>\n",
       "      <th>max</th>\n",
       "      <td>1.0</td>\n",
       "      <td>65.0</td>\n",
       "      <td>79000.0</td>\n",
       "      <td>6.0</td>\n",
       "      <td>5.0</td>\n",
       "    </tr>\n",
       "  </tbody>\n",
       "</table>\n",
       "</div>"
      ],
      "text/plain": [
       "       gender     age     sale  family_member  insurance\n",
       "count  5000.0  5000.0   5000.0         5000.0     5000.0\n",
       "mean      0.5    31.0  39916.4            1.2        0.1\n",
       "std       0.5     8.4   9900.1            1.1        0.5\n",
       "min       0.0    18.0   5300.0            0.0        0.0\n",
       "25%       0.0    24.0  33300.0            0.0        0.0\n",
       "50%       0.0    30.0  40200.0            1.0        0.0\n",
       "75%       1.0    37.0  46600.0            2.0        0.0\n",
       "max       1.0    65.0  79000.0            6.0        5.0"
      ]
     },
     "execution_count": 4,
     "metadata": {},
     "output_type": "execute_result"
    }
   ],
   "source": [
    "df.describe(include = 'all').round(1)"
   ]
  },
  {
   "cell_type": "code",
   "execution_count": 5,
   "metadata": {},
   "outputs": [
    {
     "data": {
      "text/plain": [
       "gender             Int64\n",
       "age                Int64\n",
       "sale             Float64\n",
       "family_member      Int64\n",
       "insurance          Int64\n",
       "dtype: object"
      ]
     },
     "execution_count": 5,
     "metadata": {},
     "output_type": "execute_result"
    }
   ],
   "source": [
    "df = df.convert_dtypes()\n",
    "df.dtypes"
   ]
  },
  {
   "cell_type": "code",
   "execution_count": 6,
   "metadata": {},
   "outputs": [
    {
     "data": {
      "text/plain": [
       "gender           0\n",
       "age              0\n",
       "sale             0\n",
       "family_member    0\n",
       "insurance        0\n",
       "dtype: int64"
      ]
     },
     "execution_count": 6,
     "metadata": {},
     "output_type": "execute_result"
    }
   ],
   "source": [
    "df.isna().sum()"
   ]
  },
  {
   "cell_type": "code",
   "execution_count": 7,
   "metadata": {},
   "outputs": [
    {
     "name": "stdout",
     "output_type": "stream",
     "text": [
      "Find 153 duplicate in a DataFrame\n"
     ]
    }
   ],
   "source": [
    "print(f'Find {df.duplicated().sum()} duplicate in a DataFrame')"
   ]
  },
  {
   "cell_type": "code",
   "execution_count": 8,
   "metadata": {},
   "outputs": [],
   "source": [
    "df = df.drop_duplicates()"
   ]
  },
  {
   "cell_type": "code",
   "execution_count": 9,
   "metadata": {},
   "outputs": [
    {
     "data": {
      "text/html": [
       "<style  type=\"text/css\" >\n",
       "#T_7c8fe_row0_col0,#T_7c8fe_row1_col1,#T_7c8fe_row2_col2,#T_7c8fe_row3_col3,#T_7c8fe_row4_col4{\n",
       "            background-color:  #b40426;\n",
       "            color:  #f1f1f1;\n",
       "        }#T_7c8fe_row0_col1,#T_7c8fe_row1_col0{\n",
       "            background-color:  #465ecf;\n",
       "            color:  #f1f1f1;\n",
       "        }#T_7c8fe_row0_col2,#T_7c8fe_row2_col0{\n",
       "            background-color:  #4a63d3;\n",
       "            color:  #f1f1f1;\n",
       "        }#T_7c8fe_row0_col3,#T_7c8fe_row1_col3,#T_7c8fe_row3_col0,#T_7c8fe_row3_col1{\n",
       "            background-color:  #4358cb;\n",
       "            color:  #f1f1f1;\n",
       "        }#T_7c8fe_row0_col4,#T_7c8fe_row4_col0{\n",
       "            background-color:  #4961d2;\n",
       "            color:  #f1f1f1;\n",
       "        }#T_7c8fe_row1_col2,#T_7c8fe_row2_col1{\n",
       "            background-color:  #4055c8;\n",
       "            color:  #f1f1f1;\n",
       "        }#T_7c8fe_row1_col4,#T_7c8fe_row4_col1{\n",
       "            background-color:  #f7b79b;\n",
       "            color:  #000000;\n",
       "        }#T_7c8fe_row2_col3,#T_7c8fe_row3_col2{\n",
       "            background-color:  #3c4ec2;\n",
       "            color:  #f1f1f1;\n",
       "        }#T_7c8fe_row2_col4,#T_7c8fe_row4_col2{\n",
       "            background-color:  #4257c9;\n",
       "            color:  #f1f1f1;\n",
       "        }#T_7c8fe_row3_col4,#T_7c8fe_row4_col3{\n",
       "            background-color:  #3b4cc0;\n",
       "            color:  #f1f1f1;\n",
       "        }</style><table id=\"T_7c8fe_\" ><thead>    <tr>        <th class=\"blank level0\" ></th>        <th class=\"col_heading level0 col0\" >gender</th>        <th class=\"col_heading level0 col1\" >age</th>        <th class=\"col_heading level0 col2\" >sale</th>        <th class=\"col_heading level0 col3\" >family_member</th>        <th class=\"col_heading level0 col4\" >insurance</th>    </tr></thead><tbody>\n",
       "                <tr>\n",
       "                        <th id=\"T_7c8fe_level0_row0\" class=\"row_heading level0 row0\" >gender</th>\n",
       "                        <td id=\"T_7c8fe_row0_col0\" class=\"data row0 col0\" >1.000</td>\n",
       "                        <td id=\"T_7c8fe_row0_col1\" class=\"data row0 col1\" >0.002</td>\n",
       "                        <td id=\"T_7c8fe_row0_col2\" class=\"data row0 col2\" >0.015</td>\n",
       "                        <td id=\"T_7c8fe_row0_col3\" class=\"data row0 col3\" >-0.007</td>\n",
       "                        <td id=\"T_7c8fe_row0_col4\" class=\"data row0 col4\" >0.012</td>\n",
       "            </tr>\n",
       "            <tr>\n",
       "                        <th id=\"T_7c8fe_level0_row1\" class=\"row_heading level0 row1\" >age</th>\n",
       "                        <td id=\"T_7c8fe_row1_col0\" class=\"data row1 col0\" >0.002</td>\n",
       "                        <td id=\"T_7c8fe_row1_col1\" class=\"data row1 col1\" >1.000</td>\n",
       "                        <td id=\"T_7c8fe_row1_col2\" class=\"data row1 col2\" >-0.017</td>\n",
       "                        <td id=\"T_7c8fe_row1_col3\" class=\"data row1 col3\" >-0.009</td>\n",
       "                        <td id=\"T_7c8fe_row1_col4\" class=\"data row1 col4\" >0.655</td>\n",
       "            </tr>\n",
       "            <tr>\n",
       "                        <th id=\"T_7c8fe_level0_row2\" class=\"row_heading level0 row2\" >sale</th>\n",
       "                        <td id=\"T_7c8fe_row2_col0\" class=\"data row2 col0\" >0.015</td>\n",
       "                        <td id=\"T_7c8fe_row2_col1\" class=\"data row2 col1\" >-0.017</td>\n",
       "                        <td id=\"T_7c8fe_row2_col2\" class=\"data row2 col2\" >1.000</td>\n",
       "                        <td id=\"T_7c8fe_row2_col3\" class=\"data row2 col3\" >-0.032</td>\n",
       "                        <td id=\"T_7c8fe_row2_col4\" class=\"data row2 col4\" >-0.013</td>\n",
       "            </tr>\n",
       "            <tr>\n",
       "                        <th id=\"T_7c8fe_level0_row3\" class=\"row_heading level0 row3\" >family_member</th>\n",
       "                        <td id=\"T_7c8fe_row3_col0\" class=\"data row3 col0\" >-0.007</td>\n",
       "                        <td id=\"T_7c8fe_row3_col1\" class=\"data row3 col1\" >-0.009</td>\n",
       "                        <td id=\"T_7c8fe_row3_col2\" class=\"data row3 col2\" >-0.032</td>\n",
       "                        <td id=\"T_7c8fe_row3_col3\" class=\"data row3 col3\" >1.000</td>\n",
       "                        <td id=\"T_7c8fe_row3_col4\" class=\"data row3 col4\" >-0.039</td>\n",
       "            </tr>\n",
       "            <tr>\n",
       "                        <th id=\"T_7c8fe_level0_row4\" class=\"row_heading level0 row4\" >insurance</th>\n",
       "                        <td id=\"T_7c8fe_row4_col0\" class=\"data row4 col0\" >0.012</td>\n",
       "                        <td id=\"T_7c8fe_row4_col1\" class=\"data row4 col1\" >0.655</td>\n",
       "                        <td id=\"T_7c8fe_row4_col2\" class=\"data row4 col2\" >-0.013</td>\n",
       "                        <td id=\"T_7c8fe_row4_col3\" class=\"data row4 col3\" >-0.039</td>\n",
       "                        <td id=\"T_7c8fe_row4_col4\" class=\"data row4 col4\" >1.000</td>\n",
       "            </tr>\n",
       "    </tbody></table>"
      ],
      "text/plain": [
       "<pandas.io.formats.style.Styler at 0x7f8338b5b1f0>"
      ]
     },
     "execution_count": 9,
     "metadata": {},
     "output_type": "execute_result"
    }
   ],
   "source": [
    "df.corr().style.background_gradient(cmap='coolwarm', \n",
    "                                    axis=None, \n",
    "                                    vmin=df.corr().min().min(), \n",
    "                                    vmax=df.corr().max().max()).set_precision(3)"
   ]
  },
  {
   "cell_type": "code",
   "execution_count": 10,
   "metadata": {},
   "outputs": [
    {
     "data": {
      "image/png": "[encoded data removed]",
      "text/plain": [
       "<Figure size 504x216 with 1 Axes>"
      ]
     },
     "metadata": {
      "needs_background": "light"
     },
     "output_type": "display_data"
    },
    {
     "data": {
      "image/png": "[encoded data removed]",
      "text/plain": [
       "<Figure size 504x216 with 1 Axes>"
      ]
     },
     "metadata": {
      "needs_background": "light"
     },
     "output_type": "display_data"
    },
    {
     "data": {
      "image/png": "[encoded data removed]",
      "text/plain": [
       "<Figure size 504x216 with 1 Axes>"
      ]
     },
     "metadata": {
      "needs_background": "light"
     },
     "output_type": "display_data"
    },
    {
     "data": {
      "image/png": "[encoded data removed]",
      "text/plain": [
       "<Figure size 504x216 with 1 Axes>"
      ]
     },
     "metadata": {
      "needs_background": "light"
     },
     "output_type": "display_data"
    }
   ],
   "source": [
    "df_1 = df.drop(columns = ['insurance'], axis=1)\n",
    "for i, col in enumerate(df_1):\n",
    "    fig, ax = plt.subplots(figsize=(7,3))\n",
    "    sns.boxplot(data = df, x = col, y = 'insurance', orient = 'h')\n",
    "    plt.title(str(col))\n",
    "    plt.legend(labels=df['insurance'].unique())\n",
    "    plt.show()"
   ]
  },
  {
   "cell_type": "markdown",
   "metadata": {},
   "source": [
    "В нашем рапоряжении 5k записей страховой компании:\n",
    "- `признаки`: пол клиента, его возраст, заработная плата и количество членов семьи\n",
    "- `целевой признак`: количество страховых платежей.\n",
    "\n",
    "Пропусков в данных нет, обнаружено 153 дубликата по строкам, а также скорректирован тип данных по признакому возраст.\n",
    "\n",
    "Средний возраст клиента страховой компании - 31 год (варьируется от 18 до 65 лет), в среднем получает до 40k д.е. и имеет одного чдена семьи.\n",
    "\n",
    "Как и следовало ожидать, на количество страховых выплат непосредтсвенно влияент возраст клиента, остальные признаки почти не имеют влияния."
   ]
  },
  {
   "cell_type": "markdown",
   "metadata": {},
   "source": [
    "## Умножение матриц"
   ]
  },
  {
   "cell_type": "markdown",
   "metadata": {},
   "source": [
    "Признаки умножают на обратимую матрицу. \n",
    "Изменится ли качество линейной регрессии? Давайте посмотри на вычисления."
   ]
  },
  {
   "cell_type": "markdown",
   "metadata": {},
   "source": [
    "Обозначения:\n",
    "\n",
    "- $X$ — матрица признаков (нулевой столбец состоит из единиц)\n",
    "\n",
    "- $y$ — вектор целевого признака\n",
    "\n",
    "- $P$ — матрица, на которую умножаются признаки\n",
    "\n",
    "- $w$ — вектор весов линейной регрессии (нулевой элемент равен сдвигу)"
   ]
  },
  {
   "cell_type": "markdown",
   "metadata": {},
   "source": [
    "Предсказания:\n",
    "\n",
    "$$\n",
    "a = Xw                        \n",
    "$$\n",
    "\n",
    "Задача обучения:\n",
    "\n",
    "$$\n",
    "w = \\arg\\min_w MSE(Xw, y) \n",
    "$$\n",
    "\n",
    "Формула обучения:\n",
    "\n",
    "$$\n",
    "w = (X^T X)^{-1} X^T y \n",
    "$$"
   ]
  },
  {
   "cell_type": "markdown",
   "metadata": {},
   "source": [
    "Пусть X1 - новая матрица, полученная в ходе преоизведения исходной матрицы X на обратимую P:\n",
    "\n",
    "$$\n",
    "X_1 = XP\n",
    "$$"
   ]
  },
  {
   "cell_type": "markdown",
   "metadata": {},
   "source": [
    "Тогда формула обучения w_1 будет выглядеть следующим образом:\n",
    "\n",
    "$$\n",
    "w_1 = ((XP)^T XP)^{-1} (XP)^T y\n",
    "$$"
   ]
  },
  {
   "cell_type": "markdown",
   "metadata": {},
   "source": [
    "Упростим выражение, раскрыв скобки:\n",
    "$$\n",
    "w_1 = (P^T X^TXP)^{-1} X^T P^T y\n",
    "$$"
   ]
  },
  {
   "cell_type": "markdown",
   "metadata": {},
   "source": [
    "Тогда:\n",
    "$$\n",
    "w_1 = P^{-1}(X^TX)^{-1}(P^T)^{-1}P^TX^Ty\n",
    "$$"
   ]
  },
  {
   "cell_type": "markdown",
   "metadata": {},
   "source": [
    "А так как матрица $P$ обратная, то произведение $ (P^T)^{-1}P^T $ равно единичной матрице  $E$, поэтому $$w_1 = P^{-1}(X^TX)^{-1}EX^Ty = P^{-1}(X^TX)^{-1}X^Ty = P^{-1}w $$"
   ]
  },
  {
   "cell_type": "markdown",
   "metadata": {},
   "source": [
    "Итого, предсказания равны:\n",
    "$$\n",
    "a_1 = X_1w_1 = XP P^{-1}w\n",
    "$$\n",
    "\n",
    "Так как $P P^{-1}$ равно $E$, то:\n",
    "$$\n",
    "a_1 = XEw = Xw = a\n",
    "$$\n"
   ]
  },
  {
   "cell_type": "markdown",
   "metadata": {},
   "source": [
    "**Ответ:** При умножении признаков на обратимую матрицу, предсказания модели не поменяется ($a_1 = a$), но поменяются веса для новых признаков ($w_1 = P^{-1}w $)."
   ]
  },
  {
   "cell_type": "markdown",
   "metadata": {},
   "source": [
    "## Алгоритм преобразования\n",
    "\n",
    "Как уже отметили выше, чтобы защитить данные и при этом не потерять качество модели ML, нужно умножить признакми модели на обратимую матрицу P.\n",
    "\n",
    "Для этого выделим создадим рандомную матрицу нужной размерности и умножим на нее матрицу признаков."
   ]
  },
  {
   "cell_type": "code",
   "execution_count": 11,
   "metadata": {},
   "outputs": [],
   "source": [
    "def encryption(X):\n",
    "    random_matrix = np.random.randint(100,size = (4, 4))\n",
    "    X_new = X @ random_matrix\n",
    "    return X_new"
   ]
  },
  {
   "cell_type": "markdown",
   "metadata": {},
   "source": [
    "Выделим в исходной матрице признаки `X` и целефой признак `y`, сделаем масштабирование признаков с помощью метода StandardScaler() и сохраним их:"
   ]
  },
  {
   "cell_type": "code",
   "execution_count": 12,
   "metadata": {},
   "outputs": [],
   "source": [
    "X = df.drop('insurance', axis = 1)\n",
    "y = df.insurance\n",
    " \n",
    "scaler = StandardScaler()\n",
    "scaler.fit(X)\n",
    "\n",
    "X_scaled = scaler.transform(X)"
   ]
  },
  {
   "cell_type": "markdown",
   "metadata": {},
   "source": [
    "По формулам из п.2 найдем веса $w$ для исходных признаков X_scaled и сами предсказания:"
   ]
  },
  {
   "cell_type": "code",
   "execution_count": 13,
   "metadata": {},
   "outputs": [],
   "source": [
    "def pred(X,y, show = False):\n",
    "    w = np.linalg.inv(X.T.dot(X)).dot(X.T).dot(y)\n",
    "    a = X @ w\n",
    "    if show:\n",
    "        print(f'Весы: {w}')\n",
    "        print()\n",
    "        print(f'Предсказания: {a}')\n",
    "    return w,a"
   ]
  },
  {
   "cell_type": "code",
   "execution_count": 14,
   "metadata": {},
   "outputs": [
    {
     "name": "stdout",
     "output_type": "stream",
     "text": [
      "Весы: [0.004730068054176864 0.3069282623466504 -0.001386011472040633\n",
      " -0.015656252287099333]\n",
      "\n",
      "Предсказания: [0.3670696788885955 0.5400418375579217 -0.058131709105968224 ...\n",
      " -0.413904244286536 -0.34620099419464073 -0.10181150352920469]\n"
     ]
    }
   ],
   "source": [
    "w, a = pred(X_scaled, y, True)"
   ]
  },
  {
   "cell_type": "markdown",
   "metadata": {},
   "source": [
    "Настало время преобразовать признаки с помощью умножения на производную матрицу функцией `encryption`, нахождения новых весов и предсказаний. Выполним такую магию раз 10:"
   ]
  },
  {
   "cell_type": "code",
   "execution_count": 15,
   "metadata": {},
   "outputs": [
    {
     "name": "stdout",
     "output_type": "stream",
     "text": [
      "-2.4522918418146133e-14\n",
      "-8.4519197196542e-14\n",
      "-5.323692875425223e-14\n",
      "-2.048118619146777e-13\n",
      "1.5680685916397152e-13\n",
      "1.0061396160665481e-15\n",
      "8.833159897969622e-13\n",
      "-4.5982315177717226e-14\n",
      "-4.380610457710432e-14\n"
     ]
    }
   ],
   "source": [
    "for i in range(1,10):\n",
    "    X_scaled_new = encryption(X_scaled)\n",
    "    w1, a1 = pred(X_scaled_new, y, False)\n",
    "    diff = (a - a1).sum()\n",
    "    print(diff)"
   ]
  },
  {
   "cell_type": "markdown",
   "metadata": {},
   "source": [
    "Видно, что расхождения очень малы, ими можно пренебречь. Следовательно, получилось доказать, что алгоритм защиты данных не меняет качество модели."
   ]
  },
  {
   "cell_type": "markdown",
   "metadata": {},
   "source": [
    "## Проверка алгоритма"
   ]
  },
  {
   "cell_type": "markdown",
   "metadata": {},
   "source": [
    "Проверим, что качество линейной регрессии не имезнится до и после применения алгоритма."
   ]
  },
  {
   "cell_type": "code",
   "execution_count": 16,
   "metadata": {},
   "outputs": [],
   "source": [
    "def model_LR(X, y):\n",
    "    model = LinearRegression().fit(X, y)\n",
    "    predictions = model.predict(X)\n",
    "    mse = mean_squared_error(y, predictions)\n",
    "    print('MSE Score:', mse)\n",
    "    print('R2_Score: ', r2_score(y, predictions))"
   ]
  },
  {
   "cell_type": "code",
   "execution_count": 17,
   "metadata": {},
   "outputs": [
    {
     "name": "stdout",
     "output_type": "stream",
     "text": [
      "Исходная выборка:\n",
      "MSE Score: 0.12527263826681603\n",
      "R2_Score:  0.4302010044852067\n"
     ]
    },
    {
     "name": "stderr",
     "output_type": "stream",
     "text": [
      "/opt/conda/lib/python3.9/site-packages/sklearn/utils/validation.py:63: FutureWarning: Arrays of bytes/strings is being converted to decimal numbers if dtype='numeric'. This behavior is deprecated in 0.24 and will be removed in 1.1 (renaming of 0.26). Please convert your data to numeric values explicitly instead.\n",
      "  return f(*args, **kwargs)\n",
      "/opt/conda/lib/python3.9/site-packages/sklearn/utils/validation.py:63: FutureWarning: Arrays of bytes/strings is being converted to decimal numbers if dtype='numeric'. This behavior is deprecated in 0.24 and will be removed in 1.1 (renaming of 0.26). Please convert your data to numeric values explicitly instead.\n",
      "  return f(*args, **kwargs)\n"
     ]
    }
   ],
   "source": [
    "print('Исходная выборка:')\n",
    "model_LR(X_scaled, y)"
   ]
  },
  {
   "cell_type": "markdown",
   "metadata": {},
   "source": [
    "Используем алгоритм преобразования данных:"
   ]
  },
  {
   "cell_type": "code",
   "execution_count": 18,
   "metadata": {},
   "outputs": [
    {
     "name": "stderr",
     "output_type": "stream",
     "text": [
      "/opt/conda/lib/python3.9/site-packages/sklearn/utils/validation.py:63: FutureWarning: Arrays of bytes/strings is being converted to decimal numbers if dtype='numeric'. This behavior is deprecated in 0.24 and will be removed in 1.1 (renaming of 0.26). Please convert your data to numeric values explicitly instead.\n",
      "  return f(*args, **kwargs)\n",
      "/opt/conda/lib/python3.9/site-packages/sklearn/utils/validation.py:63: FutureWarning: Arrays of bytes/strings is being converted to decimal numbers if dtype='numeric'. This behavior is deprecated in 0.24 and will be removed in 1.1 (renaming of 0.26). Please convert your data to numeric values explicitly instead.\n",
      "  return f(*args, **kwargs)\n"
     ]
    },
    {
     "name": "stdout",
     "output_type": "stream",
     "text": [
      "Закодированная выборка:\n",
      "MSE Score: 0.12527263826681603\n",
      "R2_Score:  0.4302010044852067\n"
     ]
    }
   ],
   "source": [
    "print('Закодированная выборка:')\n",
    "model_LR(encryption(X_scaled), y)"
   ]
  }
 ],
 "metadata": {
  "ExecuteTimeLog": [
   {
    "duration": 394,
    "start_time": "2022-06-14T19:23:08.952Z"
   },
   {
    "duration": 84,
    "start_time": "2022-06-14T19:23:29.653Z"
   },
   {
    "duration": 85,
    "start_time": "2022-06-14T19:23:44.804Z"
   },
   {
    "duration": 16,
    "start_time": "2022-06-14T19:25:46.743Z"
   },
   {
    "duration": 6,
    "start_time": "2022-06-14T19:25:58.107Z"
   },
   {
    "duration": 15,
    "start_time": "2022-06-14T19:26:24.751Z"
   },
   {
    "duration": 7,
    "start_time": "2022-06-14T19:26:59.834Z"
   },
   {
    "duration": 9,
    "start_time": "2022-06-14T19:27:13.345Z"
   },
   {
    "duration": 5,
    "start_time": "2022-06-14T19:27:32.022Z"
   },
   {
    "duration": 4,
    "start_time": "2022-06-14T19:27:53.741Z"
   },
   {
    "duration": 6,
    "start_time": "2022-06-14T19:28:14.099Z"
   },
   {
    "duration": 33,
    "start_time": "2022-06-14T19:28:20.192Z"
   },
   {
    "duration": 11,
    "start_time": "2022-06-14T19:28:20.795Z"
   },
   {
    "duration": 7,
    "start_time": "2022-06-14T19:28:21.142Z"
   },
   {
    "duration": 7,
    "start_time": "2022-06-14T19:28:21.596Z"
   },
   {
    "duration": 6,
    "start_time": "2022-06-14T19:29:50.516Z"
   },
   {
    "duration": 5,
    "start_time": "2022-06-14T19:30:38.981Z"
   },
   {
    "duration": 430,
    "start_time": "2022-06-14T19:33:47.955Z"
   },
   {
    "duration": 24,
    "start_time": "2022-06-14T19:35:08.954Z"
   },
   {
    "duration": 21,
    "start_time": "2022-06-14T19:35:16.192Z"
   },
   {
    "duration": 22,
    "start_time": "2022-06-14T19:35:27.552Z"
   },
   {
    "duration": 10,
    "start_time": "2022-06-14T19:35:44.853Z"
   },
   {
    "duration": 11,
    "start_time": "2022-06-14T19:37:41.565Z"
   },
   {
    "duration": 539,
    "start_time": "2022-06-14T19:37:57.715Z"
   },
   {
    "duration": 1071,
    "start_time": "2022-06-14T19:38:03.774Z"
   },
   {
    "duration": 38,
    "start_time": "2022-06-14T19:38:04.847Z"
   },
   {
    "duration": 11,
    "start_time": "2022-06-14T19:38:04.886Z"
   },
   {
    "duration": 25,
    "start_time": "2022-06-14T19:38:04.899Z"
   },
   {
    "duration": 8,
    "start_time": "2022-06-14T19:38:04.925Z"
   },
   {
    "duration": 8,
    "start_time": "2022-06-14T19:38:04.935Z"
   },
   {
    "duration": 21,
    "start_time": "2022-06-14T19:38:04.945Z"
   },
   {
    "duration": 6,
    "start_time": "2022-06-14T19:38:04.968Z"
   },
   {
    "duration": 348,
    "start_time": "2022-06-14T19:38:04.976Z"
   },
   {
    "duration": 335,
    "start_time": "2022-06-14T19:38:18.287Z"
   },
   {
    "duration": 5,
    "start_time": "2022-06-14T19:39:05.842Z"
   },
   {
    "duration": 1720,
    "start_time": "2022-06-14T19:39:22.920Z"
   },
   {
    "duration": 6,
    "start_time": "2022-06-14T19:39:57.330Z"
   },
   {
    "duration": 1003,
    "start_time": "2022-06-14T19:39:59.308Z"
   },
   {
    "duration": 113,
    "start_time": "2022-06-14T19:41:28.884Z"
   },
   {
    "duration": 17,
    "start_time": "2022-06-14T19:41:41.732Z"
   },
   {
    "duration": 652,
    "start_time": "2022-06-14T19:41:54.022Z"
   },
   {
    "duration": 1009,
    "start_time": "2022-06-14T19:42:33.135Z"
   },
   {
    "duration": 1881,
    "start_time": "2022-06-14T19:43:08.730Z"
   },
   {
    "duration": 1228,
    "start_time": "2022-06-14T19:43:29.393Z"
   },
   {
    "duration": 865,
    "start_time": "2022-06-14T19:44:01.015Z"
   },
   {
    "duration": 351,
    "start_time": "2022-06-14T19:44:49.971Z"
   },
   {
    "duration": 802,
    "start_time": "2022-06-14T19:44:58.292Z"
   },
   {
    "duration": 284,
    "start_time": "2022-06-14T19:46:22.047Z"
   },
   {
    "duration": 283,
    "start_time": "2022-06-14T19:46:38.441Z"
   },
   {
    "duration": 6005,
    "start_time": "2022-06-14T19:47:39.605Z"
   },
   {
    "duration": 5845,
    "start_time": "2022-06-14T19:48:37.551Z"
   },
   {
    "duration": 287,
    "start_time": "2022-06-14T19:49:22.092Z"
   },
   {
    "duration": 5998,
    "start_time": "2022-06-14T19:49:29.021Z"
   },
   {
    "duration": 5886,
    "start_time": "2022-06-14T19:49:51.241Z"
   },
   {
    "duration": 6872,
    "start_time": "2022-06-14T19:50:28.840Z"
   },
   {
    "duration": 724,
    "start_time": "2022-06-14T19:52:40.823Z"
   },
   {
    "duration": 1076,
    "start_time": "2022-06-14T19:52:47.993Z"
   },
   {
    "duration": 301,
    "start_time": "2022-06-14T19:54:36.203Z"
   },
   {
    "duration": 173,
    "start_time": "2022-06-14T19:55:34.058Z"
   },
   {
    "duration": 6,
    "start_time": "2022-06-14T19:56:43.912Z"
   },
   {
    "duration": 182,
    "start_time": "2022-06-14T19:57:58.765Z"
   },
   {
    "duration": 13,
    "start_time": "2022-06-14T19:59:52.965Z"
   },
   {
    "duration": 747,
    "start_time": "2022-06-14T20:00:04.602Z"
   },
   {
    "duration": 718,
    "start_time": "2022-06-14T20:00:23.230Z"
   },
   {
    "duration": 722,
    "start_time": "2022-06-14T20:02:07.624Z"
   },
   {
    "duration": 665,
    "start_time": "2022-06-14T20:02:39.646Z"
   },
   {
    "duration": 37,
    "start_time": "2022-06-14T20:04:50.003Z"
   },
   {
    "duration": 1156,
    "start_time": "2022-06-14T20:04:59.706Z"
   },
   {
    "duration": 1107,
    "start_time": "2022-06-14T20:05:22.637Z"
   },
   {
    "duration": 678,
    "start_time": "2022-06-14T20:06:03.906Z"
   },
   {
    "duration": 2397,
    "start_time": "2022-06-14T20:08:16.089Z"
   },
   {
    "duration": 3615,
    "start_time": "2022-06-14T20:09:12.470Z"
   },
   {
    "duration": 1659,
    "start_time": "2022-06-14T20:09:44.961Z"
   },
   {
    "duration": 1405,
    "start_time": "2022-06-14T20:12:19.997Z"
   },
   {
    "duration": 1647,
    "start_time": "2022-06-14T20:13:16.634Z"
   },
   {
    "duration": 12,
    "start_time": "2022-06-14T20:15:18.643Z"
   },
   {
    "duration": 21,
    "start_time": "2022-06-14T20:15:27.239Z"
   },
   {
    "duration": 2125,
    "start_time": "2022-06-14T20:15:40.318Z"
   },
   {
    "duration": 12,
    "start_time": "2022-06-14T20:18:59.911Z"
   },
   {
    "duration": 6,
    "start_time": "2022-06-14T20:19:04.229Z"
   },
   {
    "duration": 15100,
    "start_time": "2022-06-14T20:19:05.146Z"
   },
   {
    "duration": 1428,
    "start_time": "2022-06-14T20:20:02.740Z"
   },
   {
    "duration": 51,
    "start_time": "2022-06-14T20:20:04.170Z"
   },
   {
    "duration": 15,
    "start_time": "2022-06-14T20:20:04.225Z"
   },
   {
    "duration": 80,
    "start_time": "2022-06-14T20:20:04.242Z"
   },
   {
    "duration": 10,
    "start_time": "2022-06-14T20:20:04.325Z"
   },
   {
    "duration": 26,
    "start_time": "2022-06-14T20:20:04.338Z"
   },
   {
    "duration": 18,
    "start_time": "2022-06-14T20:20:04.366Z"
   },
   {
    "duration": 12,
    "start_time": "2022-06-14T20:20:04.387Z"
   },
   {
    "duration": 424,
    "start_time": "2022-06-14T20:20:04.401Z"
   },
   {
    "duration": 202,
    "start_time": "2022-06-14T20:24:09.515Z"
   },
   {
    "duration": 958,
    "start_time": "2022-06-14T20:24:21.956Z"
   },
   {
    "duration": 457,
    "start_time": "2022-06-14T20:26:02.010Z"
   },
   {
    "duration": 15,
    "start_time": "2022-06-14T20:27:02.912Z"
   },
   {
    "duration": 1279,
    "start_time": "2022-06-14T20:27:09.994Z"
   },
   {
    "duration": 481,
    "start_time": "2022-06-14T20:28:59.765Z"
   },
   {
    "duration": 497,
    "start_time": "2022-06-14T20:30:13.535Z"
   },
   {
    "duration": 76,
    "start_time": "2022-06-14T20:30:48.035Z"
   },
   {
    "duration": 1051,
    "start_time": "2022-06-14T20:36:10.825Z"
   },
   {
    "duration": 38,
    "start_time": "2022-06-14T20:36:11.878Z"
   },
   {
    "duration": 11,
    "start_time": "2022-06-14T20:36:11.917Z"
   },
   {
    "duration": 24,
    "start_time": "2022-06-14T20:36:11.930Z"
   },
   {
    "duration": 7,
    "start_time": "2022-06-14T20:36:11.959Z"
   },
   {
    "duration": 6,
    "start_time": "2022-06-14T20:36:11.968Z"
   },
   {
    "duration": 12,
    "start_time": "2022-06-14T20:36:11.975Z"
   },
   {
    "duration": 7,
    "start_time": "2022-06-14T20:36:11.988Z"
   },
   {
    "duration": 73,
    "start_time": "2022-06-14T20:36:11.996Z"
   },
   {
    "duration": 955,
    "start_time": "2022-06-14T20:36:12.071Z"
   },
   {
    "duration": 4,
    "start_time": "2022-06-14T21:02:32.299Z"
   },
   {
    "duration": 6,
    "start_time": "2022-06-14T21:03:10.747Z"
   },
   {
    "duration": 116,
    "start_time": "2022-06-14T21:04:55.775Z"
   },
   {
    "duration": 1427,
    "start_time": "2022-06-14T21:05:51.442Z"
   },
   {
    "duration": 41,
    "start_time": "2022-06-14T21:05:52.875Z"
   },
   {
    "duration": 11,
    "start_time": "2022-06-14T21:05:52.918Z"
   },
   {
    "duration": 60,
    "start_time": "2022-06-14T21:05:52.931Z"
   },
   {
    "duration": 15,
    "start_time": "2022-06-14T21:05:52.993Z"
   },
   {
    "duration": 28,
    "start_time": "2022-06-14T21:05:53.009Z"
   },
   {
    "duration": 17,
    "start_time": "2022-06-14T21:05:53.039Z"
   },
   {
    "duration": 62,
    "start_time": "2022-06-14T21:05:53.057Z"
   },
   {
    "duration": 88,
    "start_time": "2022-06-14T21:05:53.121Z"
   },
   {
    "duration": 1170,
    "start_time": "2022-06-14T21:05:53.211Z"
   },
   {
    "duration": 6,
    "start_time": "2022-06-14T21:05:54.389Z"
   },
   {
    "duration": 12,
    "start_time": "2022-06-14T21:05:54.396Z"
   },
   {
    "duration": 70,
    "start_time": "2022-06-14T21:05:54.411Z"
   },
   {
    "duration": 6,
    "start_time": "2022-06-14T21:10:14.110Z"
   },
   {
    "duration": 10,
    "start_time": "2022-06-14T21:10:22.354Z"
   },
   {
    "duration": 7,
    "start_time": "2022-06-14T21:10:51.997Z"
   },
   {
    "duration": 11,
    "start_time": "2022-06-14T21:11:44.159Z"
   },
   {
    "duration": 2,
    "start_time": "2022-06-14T21:13:29.139Z"
   },
   {
    "duration": 8,
    "start_time": "2022-06-14T21:13:47.390Z"
   },
   {
    "duration": 5,
    "start_time": "2022-06-14T21:13:50.412Z"
   },
   {
    "duration": 3,
    "start_time": "2022-06-14T21:14:20.636Z"
   },
   {
    "duration": 16,
    "start_time": "2022-06-14T21:15:10.156Z"
   },
   {
    "duration": 113,
    "start_time": "2022-06-14T21:15:12.346Z"
   },
   {
    "duration": 11,
    "start_time": "2022-06-14T21:15:19.853Z"
   },
   {
    "duration": 1298,
    "start_time": "2022-06-14T21:15:27.891Z"
   },
   {
    "duration": 38,
    "start_time": "2022-06-14T21:15:29.195Z"
   },
   {
    "duration": 12,
    "start_time": "2022-06-14T21:15:29.235Z"
   },
   {
    "duration": 37,
    "start_time": "2022-06-14T21:15:29.248Z"
   },
   {
    "duration": 7,
    "start_time": "2022-06-14T21:15:29.289Z"
   },
   {
    "duration": 6,
    "start_time": "2022-06-14T21:15:29.297Z"
   },
   {
    "duration": 9,
    "start_time": "2022-06-14T21:15:29.304Z"
   },
   {
    "duration": 7,
    "start_time": "2022-06-14T21:15:29.314Z"
   },
   {
    "duration": 76,
    "start_time": "2022-06-14T21:15:29.323Z"
   },
   {
    "duration": 1116,
    "start_time": "2022-06-14T21:15:29.401Z"
   },
   {
    "duration": 4,
    "start_time": "2022-06-14T21:15:30.519Z"
   },
   {
    "duration": 62,
    "start_time": "2022-06-14T21:15:30.525Z"
   },
   {
    "duration": 77,
    "start_time": "2022-06-14T21:15:30.588Z"
   },
   {
    "duration": 99,
    "start_time": "2022-06-14T21:15:30.668Z"
   },
   {
    "duration": 21,
    "start_time": "2022-06-14T21:15:30.770Z"
   },
   {
    "duration": 69,
    "start_time": "2022-06-14T21:15:30.794Z"
   },
   {
    "duration": 94,
    "start_time": "2022-06-14T21:15:30.865Z"
   },
   {
    "duration": 139,
    "start_time": "2022-06-14T21:15:30.962Z"
   },
   {
    "duration": 10,
    "start_time": "2022-06-14T21:16:30.797Z"
   },
   {
    "duration": 8,
    "start_time": "2022-06-14T21:19:49.397Z"
   },
   {
    "duration": 6,
    "start_time": "2022-06-14T21:20:18.246Z"
   },
   {
    "duration": 6,
    "start_time": "2022-06-14T21:20:27.724Z"
   },
   {
    "duration": 12,
    "start_time": "2022-06-14T21:21:33.958Z"
   },
   {
    "duration": 5,
    "start_time": "2022-06-14T21:22:19.793Z"
   },
   {
    "duration": 8,
    "start_time": "2022-06-14T21:24:38.558Z"
   },
   {
    "duration": 6,
    "start_time": "2022-06-14T21:25:33.539Z"
   },
   {
    "duration": 9,
    "start_time": "2022-06-14T21:25:40.804Z"
   },
   {
    "duration": 9,
    "start_time": "2022-06-14T21:25:46.085Z"
   },
   {
    "duration": 1388,
    "start_time": "2022-06-14T21:26:19.596Z"
   },
   {
    "duration": 41,
    "start_time": "2022-06-14T21:26:20.986Z"
   },
   {
    "duration": 17,
    "start_time": "2022-06-14T21:26:21.029Z"
   },
   {
    "duration": 50,
    "start_time": "2022-06-14T21:26:21.049Z"
   },
   {
    "duration": 14,
    "start_time": "2022-06-14T21:26:21.102Z"
   },
   {
    "duration": 19,
    "start_time": "2022-06-14T21:26:21.117Z"
   },
   {
    "duration": 15,
    "start_time": "2022-06-14T21:26:21.138Z"
   },
   {
    "duration": 40,
    "start_time": "2022-06-14T21:26:21.155Z"
   },
   {
    "duration": 59,
    "start_time": "2022-06-14T21:26:21.196Z"
   },
   {
    "duration": 1172,
    "start_time": "2022-06-14T21:26:21.256Z"
   },
   {
    "duration": 4,
    "start_time": "2022-06-14T21:26:22.431Z"
   },
   {
    "duration": 52,
    "start_time": "2022-06-14T21:26:22.437Z"
   },
   {
    "duration": 186,
    "start_time": "2022-06-14T21:26:22.492Z"
   },
   {
    "duration": 24,
    "start_time": "2022-06-14T21:26:22.683Z"
   },
   {
    "duration": 30,
    "start_time": "2022-06-14T21:26:22.709Z"
   },
   {
    "duration": 60,
    "start_time": "2022-06-14T21:26:22.741Z"
   },
   {
    "duration": 34,
    "start_time": "2022-06-14T21:26:22.864Z"
   },
   {
    "duration": 81,
    "start_time": "2022-06-14T21:26:22.901Z"
   },
   {
    "duration": 76,
    "start_time": "2022-06-14T21:26:22.987Z"
   },
   {
    "duration": 6,
    "start_time": "2022-06-14T21:27:06.638Z"
   },
   {
    "duration": 3,
    "start_time": "2022-06-14T21:27:12.930Z"
   },
   {
    "duration": 9,
    "start_time": "2022-06-14T21:27:18.292Z"
   },
   {
    "duration": 6,
    "start_time": "2022-06-14T21:27:25.162Z"
   },
   {
    "duration": 7,
    "start_time": "2022-06-14T21:27:25.602Z"
   },
   {
    "duration": 4,
    "start_time": "2022-06-14T21:27:28.726Z"
   },
   {
    "duration": 112,
    "start_time": "2022-06-14T21:27:54.532Z"
   },
   {
    "duration": 1412,
    "start_time": "2022-06-14T21:28:20.489Z"
   },
   {
    "duration": 39,
    "start_time": "2022-06-14T21:28:21.903Z"
   },
   {
    "duration": 12,
    "start_time": "2022-06-14T21:28:21.944Z"
   },
   {
    "duration": 67,
    "start_time": "2022-06-14T21:28:21.958Z"
   },
   {
    "duration": 9,
    "start_time": "2022-06-14T21:28:22.028Z"
   },
   {
    "duration": 16,
    "start_time": "2022-06-14T21:28:22.039Z"
   },
   {
    "duration": 45,
    "start_time": "2022-06-14T21:28:22.057Z"
   },
   {
    "duration": 22,
    "start_time": "2022-06-14T21:28:22.104Z"
   },
   {
    "duration": 83,
    "start_time": "2022-06-14T21:28:22.127Z"
   },
   {
    "duration": 1215,
    "start_time": "2022-06-14T21:28:22.212Z"
   },
   {
    "duration": 5,
    "start_time": "2022-06-14T21:28:23.428Z"
   },
   {
    "duration": 29,
    "start_time": "2022-06-14T21:28:23.434Z"
   },
   {
    "duration": 102,
    "start_time": "2022-06-14T21:28:23.468Z"
   },
   {
    "duration": 36,
    "start_time": "2022-06-14T21:28:23.576Z"
   },
   {
    "duration": 50,
    "start_time": "2022-06-14T21:28:23.614Z"
   },
   {
    "duration": 32,
    "start_time": "2022-06-14T21:28:23.667Z"
   },
   {
    "duration": 178,
    "start_time": "2022-06-14T21:28:23.759Z"
   },
   {
    "duration": 0,
    "start_time": "2022-06-14T21:28:23.939Z"
   },
   {
    "duration": 1361,
    "start_time": "2022-06-14T21:31:41.803Z"
   },
   {
    "duration": 46,
    "start_time": "2022-06-14T21:31:43.167Z"
   },
   {
    "duration": 10,
    "start_time": "2022-06-14T21:31:43.215Z"
   },
   {
    "duration": 27,
    "start_time": "2022-06-14T21:31:43.227Z"
   },
   {
    "duration": 14,
    "start_time": "2022-06-14T21:31:43.257Z"
   },
   {
    "duration": 27,
    "start_time": "2022-06-14T21:31:43.274Z"
   },
   {
    "duration": 9,
    "start_time": "2022-06-14T21:31:43.302Z"
   },
   {
    "duration": 8,
    "start_time": "2022-06-14T21:31:43.312Z"
   },
   {
    "duration": 62,
    "start_time": "2022-06-14T21:31:43.322Z"
   },
   {
    "duration": 1118,
    "start_time": "2022-06-14T21:31:43.386Z"
   },
   {
    "duration": 3,
    "start_time": "2022-06-14T21:31:44.505Z"
   },
   {
    "duration": 15,
    "start_time": "2022-06-14T21:31:44.510Z"
   },
   {
    "duration": 6,
    "start_time": "2022-06-14T21:31:44.527Z"
   },
   {
    "duration": 37,
    "start_time": "2022-06-14T21:31:44.535Z"
   },
   {
    "duration": 226,
    "start_time": "2022-06-14T21:31:44.574Z"
   },
   {
    "duration": 0,
    "start_time": "2022-06-14T21:31:44.802Z"
   },
   {
    "duration": 0,
    "start_time": "2022-06-14T21:31:44.803Z"
   },
   {
    "duration": 9,
    "start_time": "2022-06-14T21:33:22.026Z"
   },
   {
    "duration": 3,
    "start_time": "2022-06-14T21:34:44.249Z"
   },
   {
    "duration": 14,
    "start_time": "2022-06-14T21:34:44.858Z"
   },
   {
    "duration": 3,
    "start_time": "2022-06-14T21:34:45.603Z"
   },
   {
    "duration": 6,
    "start_time": "2022-06-14T21:34:46.092Z"
   },
   {
    "duration": 128,
    "start_time": "2022-06-14T21:35:45.150Z"
   },
   {
    "duration": 1244,
    "start_time": "2022-06-14T21:36:41.228Z"
   },
   {
    "duration": 37,
    "start_time": "2022-06-14T21:36:42.475Z"
   },
   {
    "duration": 10,
    "start_time": "2022-06-14T21:36:42.514Z"
   },
   {
    "duration": 25,
    "start_time": "2022-06-14T21:36:42.526Z"
   },
   {
    "duration": 8,
    "start_time": "2022-06-14T21:36:42.552Z"
   },
   {
    "duration": 28,
    "start_time": "2022-06-14T21:36:42.562Z"
   },
   {
    "duration": 9,
    "start_time": "2022-06-14T21:36:42.592Z"
   },
   {
    "duration": 10,
    "start_time": "2022-06-14T21:36:42.602Z"
   },
   {
    "duration": 67,
    "start_time": "2022-06-14T21:36:42.613Z"
   },
   {
    "duration": 1144,
    "start_time": "2022-06-14T21:36:42.684Z"
   },
   {
    "duration": 3,
    "start_time": "2022-06-14T21:36:43.829Z"
   },
   {
    "duration": 19,
    "start_time": "2022-06-14T21:36:43.834Z"
   },
   {
    "duration": 16,
    "start_time": "2022-06-14T21:36:43.858Z"
   },
   {
    "duration": 14,
    "start_time": "2022-06-14T21:36:43.884Z"
   },
   {
    "duration": 96,
    "start_time": "2022-06-14T21:36:43.900Z"
   },
   {
    "duration": 6,
    "start_time": "2022-06-14T21:36:44.059Z"
   },
   {
    "duration": 240,
    "start_time": "2022-06-14T21:38:09.096Z"
   },
   {
    "duration": 18,
    "start_time": "2022-06-14T21:38:18.908Z"
   },
   {
    "duration": 1343,
    "start_time": "2022-06-14T21:38:31.482Z"
   },
   {
    "duration": 39,
    "start_time": "2022-06-14T21:38:32.827Z"
   },
   {
    "duration": 14,
    "start_time": "2022-06-14T21:38:32.868Z"
   },
   {
    "duration": 29,
    "start_time": "2022-06-14T21:38:32.884Z"
   },
   {
    "duration": 8,
    "start_time": "2022-06-14T21:38:32.915Z"
   },
   {
    "duration": 7,
    "start_time": "2022-06-14T21:38:32.925Z"
   },
   {
    "duration": 51,
    "start_time": "2022-06-14T21:38:32.933Z"
   },
   {
    "duration": 18,
    "start_time": "2022-06-14T21:38:32.988Z"
   },
   {
    "duration": 79,
    "start_time": "2022-06-14T21:38:33.008Z"
   },
   {
    "duration": 1101,
    "start_time": "2022-06-14T21:38:33.089Z"
   },
   {
    "duration": 3,
    "start_time": "2022-06-14T21:38:34.192Z"
   },
   {
    "duration": 13,
    "start_time": "2022-06-14T21:38:34.197Z"
   },
   {
    "duration": 4,
    "start_time": "2022-06-14T21:38:34.212Z"
   },
   {
    "duration": 43,
    "start_time": "2022-06-14T21:38:34.218Z"
   },
   {
    "duration": 196,
    "start_time": "2022-06-14T21:38:34.263Z"
   },
   {
    "duration": 5,
    "start_time": "2022-06-14T21:39:15.101Z"
   },
   {
    "duration": 256,
    "start_time": "2022-06-14T21:39:42.461Z"
   },
   {
    "duration": 52,
    "start_time": "2022-06-14T21:39:52.240Z"
   },
   {
    "duration": 67,
    "start_time": "2022-06-14T21:40:05.192Z"
   },
   {
    "duration": 122,
    "start_time": "2022-06-14T21:40:15.643Z"
   },
   {
    "duration": 144,
    "start_time": "2022-06-14T21:40:39.750Z"
   },
   {
    "duration": 1307,
    "start_time": "2022-06-14T21:41:33.941Z"
   },
   {
    "duration": 52,
    "start_time": "2022-06-14T21:41:35.250Z"
   },
   {
    "duration": 10,
    "start_time": "2022-06-14T21:41:35.304Z"
   },
   {
    "duration": 26,
    "start_time": "2022-06-14T21:41:35.315Z"
   },
   {
    "duration": 7,
    "start_time": "2022-06-14T21:41:35.343Z"
   },
   {
    "duration": 6,
    "start_time": "2022-06-14T21:41:35.351Z"
   },
   {
    "duration": 27,
    "start_time": "2022-06-14T21:41:35.358Z"
   },
   {
    "duration": 7,
    "start_time": "2022-06-14T21:41:35.388Z"
   },
   {
    "duration": 63,
    "start_time": "2022-06-14T21:41:35.396Z"
   },
   {
    "duration": 1087,
    "start_time": "2022-06-14T21:41:35.462Z"
   },
   {
    "duration": 2,
    "start_time": "2022-06-14T21:41:36.551Z"
   },
   {
    "duration": 32,
    "start_time": "2022-06-14T21:41:36.560Z"
   },
   {
    "duration": 4,
    "start_time": "2022-06-14T21:41:36.594Z"
   },
   {
    "duration": 7,
    "start_time": "2022-06-14T21:41:36.600Z"
   },
   {
    "duration": 166,
    "start_time": "2022-06-14T21:41:36.609Z"
   },
   {
    "duration": 4,
    "start_time": "2022-06-14T21:43:11.686Z"
   },
   {
    "duration": 122,
    "start_time": "2022-06-14T21:43:25.022Z"
   },
   {
    "duration": 1386,
    "start_time": "2022-06-14T21:43:41.841Z"
   },
   {
    "duration": 42,
    "start_time": "2022-06-14T21:43:43.229Z"
   },
   {
    "duration": 18,
    "start_time": "2022-06-14T21:43:43.274Z"
   },
   {
    "duration": 28,
    "start_time": "2022-06-14T21:43:43.294Z"
   },
   {
    "duration": 7,
    "start_time": "2022-06-14T21:43:43.324Z"
   },
   {
    "duration": 8,
    "start_time": "2022-06-14T21:43:43.332Z"
   },
   {
    "duration": 8,
    "start_time": "2022-06-14T21:43:43.365Z"
   },
   {
    "duration": 16,
    "start_time": "2022-06-14T21:43:43.376Z"
   },
   {
    "duration": 49,
    "start_time": "2022-06-14T21:43:43.394Z"
   },
   {
    "duration": 1109,
    "start_time": "2022-06-14T21:43:43.445Z"
   },
   {
    "duration": 23,
    "start_time": "2022-06-14T21:43:44.555Z"
   },
   {
    "duration": 30,
    "start_time": "2022-06-14T21:43:44.587Z"
   },
   {
    "duration": 11,
    "start_time": "2022-06-14T21:43:44.619Z"
   },
   {
    "duration": 26,
    "start_time": "2022-06-14T21:43:44.631Z"
   },
   {
    "duration": 222,
    "start_time": "2022-06-14T21:43:44.660Z"
   },
   {
    "duration": 80,
    "start_time": "2022-06-14T21:43:44.884Z"
   },
   {
    "duration": 212,
    "start_time": "2022-06-14T21:43:44.967Z"
   },
   {
    "duration": 3,
    "start_time": "2022-06-14T21:43:56.684Z"
   },
   {
    "duration": 15,
    "start_time": "2022-06-14T21:43:57.579Z"
   },
   {
    "duration": 6,
    "start_time": "2022-06-14T21:44:58.280Z"
   },
   {
    "duration": 20,
    "start_time": "2022-06-14T21:44:58.764Z"
   },
   {
    "duration": 1374,
    "start_time": "2022-06-14T21:45:38.460Z"
   },
   {
    "duration": 61,
    "start_time": "2022-06-14T21:45:39.836Z"
   },
   {
    "duration": 11,
    "start_time": "2022-06-14T21:45:39.899Z"
   },
   {
    "duration": 24,
    "start_time": "2022-06-14T21:45:39.911Z"
   },
   {
    "duration": 6,
    "start_time": "2022-06-14T21:45:39.938Z"
   },
   {
    "duration": 6,
    "start_time": "2022-06-14T21:45:39.946Z"
   },
   {
    "duration": 9,
    "start_time": "2022-06-14T21:45:39.953Z"
   },
   {
    "duration": 31,
    "start_time": "2022-06-14T21:45:39.964Z"
   },
   {
    "duration": 56,
    "start_time": "2022-06-14T21:45:39.997Z"
   },
   {
    "duration": 1096,
    "start_time": "2022-06-14T21:45:40.054Z"
   },
   {
    "duration": 3,
    "start_time": "2022-06-14T21:45:41.151Z"
   },
   {
    "duration": 28,
    "start_time": "2022-06-14T21:45:41.170Z"
   },
   {
    "duration": 25,
    "start_time": "2022-06-14T21:45:41.199Z"
   },
   {
    "duration": 16,
    "start_time": "2022-06-14T21:45:41.226Z"
   },
   {
    "duration": 228,
    "start_time": "2022-06-14T21:45:41.244Z"
   },
   {
    "duration": 6,
    "start_time": "2022-06-14T21:45:41.474Z"
   },
   {
    "duration": 272,
    "start_time": "2022-06-14T21:45:41.482Z"
   },
   {
    "duration": 3,
    "start_time": "2022-06-14T21:45:59.103Z"
   },
   {
    "duration": 24,
    "start_time": "2022-06-14T21:46:00.056Z"
   },
   {
    "duration": 3,
    "start_time": "2022-06-14T21:46:48.795Z"
   },
   {
    "duration": 1436,
    "start_time": "2022-06-14T21:46:55.344Z"
   },
   {
    "duration": 39,
    "start_time": "2022-06-14T21:46:56.782Z"
   },
   {
    "duration": 11,
    "start_time": "2022-06-14T21:46:56.822Z"
   },
   {
    "duration": 43,
    "start_time": "2022-06-14T21:46:56.835Z"
   },
   {
    "duration": 9,
    "start_time": "2022-06-14T21:46:56.889Z"
   },
   {
    "duration": 6,
    "start_time": "2022-06-14T21:46:56.899Z"
   },
   {
    "duration": 7,
    "start_time": "2022-06-14T21:46:56.906Z"
   },
   {
    "duration": 6,
    "start_time": "2022-06-14T21:46:56.915Z"
   },
   {
    "duration": 77,
    "start_time": "2022-06-14T21:46:56.923Z"
   },
   {
    "duration": 1196,
    "start_time": "2022-06-14T21:46:57.002Z"
   },
   {
    "duration": 3,
    "start_time": "2022-06-14T21:46:58.201Z"
   },
   {
    "duration": 14,
    "start_time": "2022-06-14T21:46:58.206Z"
   },
   {
    "duration": 3,
    "start_time": "2022-06-14T21:46:58.222Z"
   },
   {
    "duration": 12,
    "start_time": "2022-06-14T21:46:58.227Z"
   },
   {
    "duration": 198,
    "start_time": "2022-06-14T21:46:58.264Z"
   },
   {
    "duration": 9,
    "start_time": "2022-06-14T21:46:58.465Z"
   },
   {
    "duration": 380,
    "start_time": "2022-06-14T21:46:58.476Z"
   },
   {
    "duration": 1375,
    "start_time": "2022-06-14T21:47:47.279Z"
   },
   {
    "duration": 46,
    "start_time": "2022-06-14T21:47:48.656Z"
   },
   {
    "duration": 10,
    "start_time": "2022-06-14T21:47:48.704Z"
   },
   {
    "duration": 26,
    "start_time": "2022-06-14T21:47:48.716Z"
   },
   {
    "duration": 7,
    "start_time": "2022-06-14T21:47:48.745Z"
   },
   {
    "duration": 26,
    "start_time": "2022-06-14T21:47:48.753Z"
   },
   {
    "duration": 18,
    "start_time": "2022-06-14T21:47:48.781Z"
   },
   {
    "duration": 6,
    "start_time": "2022-06-14T21:47:48.801Z"
   },
   {
    "duration": 52,
    "start_time": "2022-06-14T21:47:48.808Z"
   },
   {
    "duration": 1101,
    "start_time": "2022-06-14T21:47:48.862Z"
   },
   {
    "duration": 4,
    "start_time": "2022-06-14T21:47:49.965Z"
   },
   {
    "duration": 34,
    "start_time": "2022-06-14T21:47:49.972Z"
   },
   {
    "duration": 5,
    "start_time": "2022-06-14T21:47:50.007Z"
   },
   {
    "duration": 16,
    "start_time": "2022-06-14T21:47:50.014Z"
   },
   {
    "duration": 149,
    "start_time": "2022-06-14T21:47:50.032Z"
   },
   {
    "duration": 11,
    "start_time": "2022-06-14T21:47:50.183Z"
   },
   {
    "duration": 395,
    "start_time": "2022-06-14T21:47:50.196Z"
   },
   {
    "duration": 1343,
    "start_time": "2022-06-14T21:48:34.138Z"
   },
   {
    "duration": 38,
    "start_time": "2022-06-14T21:48:35.486Z"
   },
   {
    "duration": 11,
    "start_time": "2022-06-14T21:48:35.525Z"
   },
   {
    "duration": 35,
    "start_time": "2022-06-14T21:48:35.537Z"
   },
   {
    "duration": 11,
    "start_time": "2022-06-14T21:48:35.575Z"
   },
   {
    "duration": 8,
    "start_time": "2022-06-14T21:48:35.588Z"
   },
   {
    "duration": 6,
    "start_time": "2022-06-14T21:48:35.598Z"
   },
   {
    "duration": 5,
    "start_time": "2022-06-14T21:48:35.606Z"
   },
   {
    "duration": 82,
    "start_time": "2022-06-14T21:48:35.612Z"
   },
   {
    "duration": 1098,
    "start_time": "2022-06-14T21:48:35.696Z"
   },
   {
    "duration": 3,
    "start_time": "2022-06-14T21:48:36.795Z"
   },
   {
    "duration": 16,
    "start_time": "2022-06-14T21:48:36.799Z"
   },
   {
    "duration": 7,
    "start_time": "2022-06-14T21:48:36.816Z"
   },
   {
    "duration": 42,
    "start_time": "2022-06-14T21:48:36.825Z"
   },
   {
    "duration": 191,
    "start_time": "2022-06-14T21:48:36.873Z"
   },
   {
    "duration": 4,
    "start_time": "2022-06-14T21:48:37.072Z"
   },
   {
    "duration": 364,
    "start_time": "2022-06-14T21:48:37.078Z"
   },
   {
    "duration": 4,
    "start_time": "2022-06-14T21:48:44.291Z"
   },
   {
    "duration": 16,
    "start_time": "2022-06-14T21:48:44.785Z"
   },
   {
    "duration": 3,
    "start_time": "2022-06-14T21:49:23.789Z"
   },
   {
    "duration": 19,
    "start_time": "2022-06-14T21:49:45.778Z"
   },
   {
    "duration": 1267,
    "start_time": "2022-06-15T06:26:47.494Z"
   },
   {
    "duration": 95,
    "start_time": "2022-06-15T06:26:48.764Z"
   },
   {
    "duration": 10,
    "start_time": "2022-06-15T06:26:48.861Z"
   },
   {
    "duration": 22,
    "start_time": "2022-06-15T06:26:48.872Z"
   },
   {
    "duration": 6,
    "start_time": "2022-06-15T06:26:48.896Z"
   },
   {
    "duration": 5,
    "start_time": "2022-06-15T06:26:48.903Z"
   },
   {
    "duration": 6,
    "start_time": "2022-06-15T06:26:48.909Z"
   },
   {
    "duration": 20,
    "start_time": "2022-06-15T06:26:48.917Z"
   },
   {
    "duration": 47,
    "start_time": "2022-06-15T06:26:48.938Z"
   },
   {
    "duration": 893,
    "start_time": "2022-06-15T06:26:48.988Z"
   },
   {
    "duration": 3,
    "start_time": "2022-06-15T06:26:49.882Z"
   },
   {
    "duration": 13,
    "start_time": "2022-06-15T06:26:49.886Z"
   },
   {
    "duration": 4,
    "start_time": "2022-06-15T06:26:49.900Z"
   },
   {
    "duration": 32,
    "start_time": "2022-06-15T06:26:49.905Z"
   },
   {
    "duration": 211,
    "start_time": "2022-06-15T06:26:49.940Z"
   },
   {
    "duration": 83,
    "start_time": "2022-06-15T06:26:50.152Z"
   },
   {
    "duration": 91,
    "start_time": "2022-06-15T06:26:50.238Z"
   },
   {
    "duration": 0,
    "start_time": "2022-06-15T06:26:50.331Z"
   },
   {
    "duration": 28,
    "start_time": "2022-06-15T06:27:24.106Z"
   },
   {
    "duration": 1160,
    "start_time": "2022-06-15T06:27:59.595Z"
   },
   {
    "duration": 36,
    "start_time": "2022-06-15T06:28:00.757Z"
   },
   {
    "duration": 9,
    "start_time": "2022-06-15T06:28:00.795Z"
   },
   {
    "duration": 40,
    "start_time": "2022-06-15T06:28:00.806Z"
   },
   {
    "duration": 23,
    "start_time": "2022-06-15T06:28:00.848Z"
   },
   {
    "duration": 8,
    "start_time": "2022-06-15T06:28:00.872Z"
   },
   {
    "duration": 11,
    "start_time": "2022-06-15T06:28:00.881Z"
   },
   {
    "duration": 14,
    "start_time": "2022-06-15T06:28:00.894Z"
   },
   {
    "duration": 59,
    "start_time": "2022-06-15T06:28:00.910Z"
   },
   {
    "duration": 940,
    "start_time": "2022-06-15T06:28:00.970Z"
   },
   {
    "duration": 3,
    "start_time": "2022-06-15T06:28:01.912Z"
   },
   {
    "duration": 16,
    "start_time": "2022-06-15T06:28:01.928Z"
   },
   {
    "duration": 15,
    "start_time": "2022-06-15T06:28:01.945Z"
   },
   {
    "duration": 17,
    "start_time": "2022-06-15T06:28:01.962Z"
   },
   {
    "duration": 149,
    "start_time": "2022-06-15T06:28:01.980Z"
   },
   {
    "duration": 7,
    "start_time": "2022-06-15T06:28:02.130Z"
   },
   {
    "duration": 106,
    "start_time": "2022-06-15T06:28:02.138Z"
   },
   {
    "duration": 193,
    "start_time": "2022-06-15T06:28:02.246Z"
   },
   {
    "duration": 1188,
    "start_time": "2022-06-15T06:28:22.354Z"
   },
   {
    "duration": 35,
    "start_time": "2022-06-15T06:28:23.544Z"
   },
   {
    "duration": 10,
    "start_time": "2022-06-15T06:28:23.580Z"
   },
   {
    "duration": 28,
    "start_time": "2022-06-15T06:28:23.592Z"
   },
   {
    "duration": 10,
    "start_time": "2022-06-15T06:28:23.621Z"
   },
   {
    "duration": 16,
    "start_time": "2022-06-15T06:28:23.632Z"
   },
   {
    "duration": 10,
    "start_time": "2022-06-15T06:28:23.650Z"
   },
   {
    "duration": 8,
    "start_time": "2022-06-15T06:28:23.661Z"
   },
   {
    "duration": 50,
    "start_time": "2022-06-15T06:28:23.671Z"
   },
   {
    "duration": 920,
    "start_time": "2022-06-15T06:28:23.724Z"
   },
   {
    "duration": 2,
    "start_time": "2022-06-15T06:28:24.646Z"
   },
   {
    "duration": 22,
    "start_time": "2022-06-15T06:28:24.650Z"
   },
   {
    "duration": 3,
    "start_time": "2022-06-15T06:28:24.674Z"
   },
   {
    "duration": 9,
    "start_time": "2022-06-15T06:28:24.678Z"
   },
   {
    "duration": 138,
    "start_time": "2022-06-15T06:28:24.689Z"
   },
   {
    "duration": 27,
    "start_time": "2022-06-15T06:28:24.828Z"
   },
   {
    "duration": 92,
    "start_time": "2022-06-15T06:28:24.857Z"
   },
   {
    "duration": 209,
    "start_time": "2022-06-15T06:28:24.950Z"
   },
   {
    "duration": 12,
    "start_time": "2022-06-15T06:29:04.622Z"
   },
   {
    "duration": 1157,
    "start_time": "2022-06-15T06:29:22.795Z"
   },
   {
    "duration": 35,
    "start_time": "2022-06-15T06:29:23.954Z"
   },
   {
    "duration": 9,
    "start_time": "2022-06-15T06:29:23.991Z"
   },
   {
    "duration": 34,
    "start_time": "2022-06-15T06:29:24.002Z"
   },
   {
    "duration": 17,
    "start_time": "2022-06-15T06:29:24.038Z"
   },
   {
    "duration": 5,
    "start_time": "2022-06-15T06:29:24.057Z"
   },
   {
    "duration": 7,
    "start_time": "2022-06-15T06:29:24.064Z"
   },
   {
    "duration": 5,
    "start_time": "2022-06-15T06:29:24.072Z"
   },
   {
    "duration": 61,
    "start_time": "2022-06-15T06:29:24.078Z"
   },
   {
    "duration": 918,
    "start_time": "2022-06-15T06:29:24.142Z"
   },
   {
    "duration": 2,
    "start_time": "2022-06-15T06:29:25.062Z"
   },
   {
    "duration": 11,
    "start_time": "2022-06-15T06:29:25.065Z"
   },
   {
    "duration": 2,
    "start_time": "2022-06-15T06:29:25.078Z"
   },
   {
    "duration": 11,
    "start_time": "2022-06-15T06:29:25.081Z"
   },
   {
    "duration": 147,
    "start_time": "2022-06-15T06:29:25.093Z"
   },
   {
    "duration": 4,
    "start_time": "2022-06-15T06:29:25.241Z"
   },
   {
    "duration": 101,
    "start_time": "2022-06-15T06:29:25.246Z"
   },
   {
    "duration": 116,
    "start_time": "2022-06-15T06:29:25.431Z"
   }
  ],
  "kernelspec": {
   "display_name": "Python 3 (ipykernel)",
   "language": "python",
   "name": "python3"
  },
  "language_info": {
   "codemirror_mode": {
    "name": "ipython",
    "version": 3
   },
   "file_extension": ".py",
   "mimetype": "text/x-python",
   "name": "python",
   "nbconvert_exporter": "python",
   "pygments_lexer": "ipython3",
   "version": "3.9.5"
  },
  "toc": {
   "base_numbering": 1,
   "nav_menu": {},
   "number_sections": true,
   "sideBar": true,
   "skip_h1_title": true,
   "title_cell": "Содержание",
   "title_sidebar": "Contents",
   "toc_cell": true,
   "toc_position": {
    "height": "calc(100% - 180px)",
    "left": "10px",
    "top": "150px",
    "width": "165px"
   },
   "toc_section_display": true,
   "toc_window_display": true
  }
 },
 "nbformat": 4,
 "nbformat_minor": 2
}
