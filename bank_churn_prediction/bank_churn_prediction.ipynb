{
 "cells": [
  {
   "cell_type": "markdown",
   "metadata": {
    "slideshow": {
     "slide_type": "-"
    },
    "toc": true
   },
   "source": [
    "<h1>Содержание<span class=\"tocSkip\"></span></h1>\n",
    "<div class=\"toc\"><ul class=\"toc-item\"><li><span><a href=\"#Подготовка-данных\" data-toc-modified-id=\"Подготовка-данных-1\"><span class=\"toc-item-num\">1&nbsp;&nbsp;</span>Подготовка данных</a></span></li><li><span><a href=\"#Исследование-задачи\" data-toc-modified-id=\"Исследование-задачи-2\"><span class=\"toc-item-num\">2&nbsp;&nbsp;</span>Исследование задачи</a></span></li><li><span><a href=\"#Борьба-с-дисбалансом\" data-toc-modified-id=\"Борьба-с-дисбалансом-3\"><span class=\"toc-item-num\">3&nbsp;&nbsp;</span>Борьба с дисбалансом</a></span></li><li><span><a href=\"#Тестирование-модели\" data-toc-modified-id=\"Тестирование-модели-4\"><span class=\"toc-item-num\">4&nbsp;&nbsp;</span>Тестирование модели</a></span></li><li><span><a href=\"#Чек-лист-готовности-проекта\" data-toc-modified-id=\"Чек-лист-готовности-проекта-5\"><span class=\"toc-item-num\">5&nbsp;&nbsp;</span>Чек-лист готовности проекта</a></span></li></ul></div>"
   ]
  },
  {
   "cell_type": "markdown",
   "metadata": {},
   "source": [
    "# Отток клиентов"
   ]
  },
  {
   "cell_type": "markdown",
   "metadata": {},
   "source": [
    "Из «Бета-Банка» стали уходить клиенты. Каждый месяц. Немного, но заметно. Банковские маркетологи посчитали: сохранять текущих клиентов дешевле, чем привлекать новых.\n",
    "\n",
    "Нужно спрогнозировать, уйдёт клиент из банка в ближайшее время или нет. Вам предоставлены исторические данные о поведении клиентов и расторжении договоров с банком. \n",
    "\n",
    "Постройте модель с предельно большим значением *F1*-меры. Чтобы сдать проект успешно, нужно довести метрику до 0.59. Проверьте *F1*-меру на тестовой выборке самостоятельно.\n",
    "\n",
    "Дополнительно измеряйте *AUC-ROC*, сравнивайте её значение с *F1*-мерой.\n",
    "\n",
    "Источник данных: [https://www.kaggle.com/barelydedicated/bank-customer-churn-modeling](https://www.kaggle.com/barelydedicated/bank-customer-churn-modeling)"
   ]
  },
  {
   "cell_type": "markdown",
   "metadata": {},
   "source": [
    "## Подготовка данных"
   ]
  },
  {
   "cell_type": "code",
   "execution_count": 1,
   "metadata": {},
   "outputs": [],
   "source": [
    "import pandas as pd\n",
    "from sklearn.tree import DecisionTreeClassifier\n",
    "from sklearn.ensemble import RandomForestClassifier\n",
    "from sklearn.linear_model import LogisticRegression\n",
    "from sklearn.model_selection import train_test_split\n",
    "from sklearn.metrics import mean_squared_error, confusion_matrix, plot_confusion_matrix, recall_score, mean_absolute_error\n",
    "from sklearn.metrics import roc_curve, roc_auc_score, r2_score, precision_score, f1_score, precision_recall_curve\n",
    "from sklearn.utils import shuffle\n",
    "\n",
    "import matplotlib.pyplot as plt\n",
    "from IPython.display import display\n",
    "import seaborn as sns\n",
    "import numpy as np\n",
    "from sklearn.metrics import accuracy_score\n",
    "import warnings\n",
    "import re\n",
    "from sklearn.preprocessing import OrdinalEncoder\n",
    "\n",
    "warnings.simplefilter(action='ignore', category=FutureWarning)"
   ]
  },
  {
   "cell_type": "markdown",
   "metadata": {},
   "source": [
    "Загрузим файл в датафрейм, посмотрим его размерность и выведем несколько строк для наглядности данных. Немного изменим написание названия столбцов для бОльшей читаемости."
   ]
  },
  {
   "cell_type": "markdown",
   "metadata": {},
   "source": [
    "Так как я работаю локально, потренировалась в загрузке датасета напрямую из kaggle: "
   ]
  },
  {
   "cell_type": "raw",
   "metadata": {},
   "source": [
    "import kaggle\n",
    "from kaggle.api.kaggle_api_extended import KaggleApi\n",
    "\n",
    "api = KaggleApi()\n",
    "api.authenticate()\n",
    "\n",
    "t1 = api.dataset_download_files(dataset='barelydedicated/bank-customer-churn-modeling', path='gt.zip', unzip=True)\n",
    "df = pd.read_csv('gt.zip/Churn_Modelling.csv', encoding='ISO-8859-1')"
   ]
  },
  {
   "cell_type": "code",
   "execution_count": 2,
   "metadata": {
    "scrolled": true
   },
   "outputs": [
    {
     "data": {
      "text/plain": [
       "(10000, 14)"
      ]
     },
     "metadata": {},
     "output_type": "display_data"
    },
    {
     "data": {
      "text/html": [
       "<div>\n",
       "<style scoped>\n",
       "    .dataframe tbody tr th:only-of-type {\n",
       "        vertical-align: middle;\n",
       "    }\n",
       "\n",
       "    .dataframe tbody tr th {\n",
       "        vertical-align: top;\n",
       "    }\n",
       "\n",
       "    .dataframe thead th {\n",
       "        text-align: right;\n",
       "    }\n",
       "</style>\n",
       "<table border=\"1\" class=\"dataframe\">\n",
       "  <thead>\n",
       "    <tr style=\"text-align: right;\">\n",
       "      <th></th>\n",
       "      <th>row_number</th>\n",
       "      <th>customer_id</th>\n",
       "      <th>surname</th>\n",
       "      <th>credit_score</th>\n",
       "      <th>geography</th>\n",
       "      <th>gender</th>\n",
       "      <th>age</th>\n",
       "      <th>tenure</th>\n",
       "      <th>balance</th>\n",
       "      <th>num_of_products</th>\n",
       "      <th>has_cr_card</th>\n",
       "      <th>is_active_member</th>\n",
       "      <th>estimated_salary</th>\n",
       "      <th>exited</th>\n",
       "    </tr>\n",
       "  </thead>\n",
       "  <tbody>\n",
       "    <tr>\n",
       "      <th>5860</th>\n",
       "      <td>5861</td>\n",
       "      <td>15723818</td>\n",
       "      <td>Carpenter</td>\n",
       "      <td>453</td>\n",
       "      <td>France</td>\n",
       "      <td>Female</td>\n",
       "      <td>37</td>\n",
       "      <td>4.0</td>\n",
       "      <td>131834.76</td>\n",
       "      <td>2</td>\n",
       "      <td>1</td>\n",
       "      <td>0</td>\n",
       "      <td>8949.20</td>\n",
       "      <td>0</td>\n",
       "    </tr>\n",
       "    <tr>\n",
       "      <th>9959</th>\n",
       "      <td>9960</td>\n",
       "      <td>15677783</td>\n",
       "      <td>Graham</td>\n",
       "      <td>764</td>\n",
       "      <td>Spain</td>\n",
       "      <td>Male</td>\n",
       "      <td>38</td>\n",
       "      <td>4.0</td>\n",
       "      <td>113607.47</td>\n",
       "      <td>1</td>\n",
       "      <td>1</td>\n",
       "      <td>0</td>\n",
       "      <td>91094.46</td>\n",
       "      <td>0</td>\n",
       "    </tr>\n",
       "    <tr>\n",
       "      <th>8019</th>\n",
       "      <td>8020</td>\n",
       "      <td>15771154</td>\n",
       "      <td>North</td>\n",
       "      <td>683</td>\n",
       "      <td>France</td>\n",
       "      <td>Female</td>\n",
       "      <td>73</td>\n",
       "      <td>8.0</td>\n",
       "      <td>137732.23</td>\n",
       "      <td>2</td>\n",
       "      <td>1</td>\n",
       "      <td>1</td>\n",
       "      <td>133210.44</td>\n",
       "      <td>0</td>\n",
       "    </tr>\n",
       "  </tbody>\n",
       "</table>\n",
       "</div>"
      ],
      "text/plain": [
       "      row_number  customer_id    surname  credit_score geography  gender  age  \\\n",
       "5860        5861     15723818  Carpenter           453    France  Female   37   \n",
       "9959        9960     15677783     Graham           764     Spain    Male   38   \n",
       "8019        8020     15771154      North           683    France  Female   73   \n",
       "\n",
       "      tenure    balance  num_of_products  has_cr_card  is_active_member  \\\n",
       "5860     4.0  131834.76                2            1                 0   \n",
       "9959     4.0  113607.47                1            1                 0   \n",
       "8019     8.0  137732.23                2            1                 1   \n",
       "\n",
       "      estimated_salary  exited  \n",
       "5860           8949.20       0  \n",
       "9959          91094.46       0  \n",
       "8019         133210.44       0  "
      ]
     },
     "metadata": {},
     "output_type": "display_data"
    }
   ],
   "source": [
    "df = pd.read_csv('/datasets/Churn.csv')\n",
    "df.columns = [re.sub(r\"\\B([A-Z])\", r\"_\\1\", col).lower() for col in df.columns]\n",
    "\n",
    "display(df.shape)\n",
    "display(df.sample(3))"
   ]
  },
  {
   "cell_type": "markdown",
   "metadata": {},
   "source": [
    "\n",
    "Посмотрим информацию по выборке: \n",
    "* тип данных `dtypes`, \n",
    "* наличие дубликатов `dupl_cnt`, \n",
    "* пропусков `count`, \n",
    "* уникальные значения `nunique`и другие статистические метрики.\n",
    "\n",
    "На локальной машине можно запустить `pandas_profiling` -- полная информация о датафрейме."
   ]
  },
  {
   "cell_type": "code",
   "execution_count": 3,
   "metadata": {},
   "outputs": [],
   "source": [
    "def describe_full(df):\n",
    "    return (df.describe(include='all', percentiles = [.5, .75, .9]).round(decimals = 2)\n",
    "                                  .append(pd.Series(df.dtypes, name='dtypes'))\n",
    "                                  .append(pd.Series(df[df.duplicated()].count(), name='dupl_cnt'))\n",
    "                                  .append(pd.Series(df.nunique(axis = 0, dropna = True), name = 'nunique'))  \n",
    "                                  .T)"
   ]
  },
  {
   "cell_type": "code",
   "execution_count": 4,
   "metadata": {},
   "outputs": [
    {
     "data": {
      "text/html": [
       "<div>\n",
       "<style scoped>\n",
       "    .dataframe tbody tr th:only-of-type {\n",
       "        vertical-align: middle;\n",
       "    }\n",
       "\n",
       "    .dataframe tbody tr th {\n",
       "        vertical-align: top;\n",
       "    }\n",
       "\n",
       "    .dataframe thead th {\n",
       "        text-align: right;\n",
       "    }\n",
       "</style>\n",
       "<table border=\"1\" class=\"dataframe\">\n",
       "  <thead>\n",
       "    <tr style=\"text-align: right;\">\n",
       "      <th></th>\n",
       "      <th>count</th>\n",
       "      <th>unique</th>\n",
       "      <th>top</th>\n",
       "      <th>freq</th>\n",
       "      <th>mean</th>\n",
       "      <th>std</th>\n",
       "      <th>min</th>\n",
       "      <th>50%</th>\n",
       "      <th>75%</th>\n",
       "      <th>90%</th>\n",
       "      <th>max</th>\n",
       "      <th>dtypes</th>\n",
       "      <th>dupl_cnt</th>\n",
       "      <th>nunique</th>\n",
       "    </tr>\n",
       "  </thead>\n",
       "  <tbody>\n",
       "    <tr>\n",
       "      <th>row_number</th>\n",
       "      <td>10000.0</td>\n",
       "      <td>NaN</td>\n",
       "      <td>NaN</td>\n",
       "      <td>NaN</td>\n",
       "      <td>5000.5</td>\n",
       "      <td>2886.9</td>\n",
       "      <td>1.0</td>\n",
       "      <td>5000.5</td>\n",
       "      <td>7500.25</td>\n",
       "      <td>9000.1</td>\n",
       "      <td>10000.0</td>\n",
       "      <td>int64</td>\n",
       "      <td>0</td>\n",
       "      <td>10000</td>\n",
       "    </tr>\n",
       "    <tr>\n",
       "      <th>customer_id</th>\n",
       "      <td>10000.0</td>\n",
       "      <td>NaN</td>\n",
       "      <td>NaN</td>\n",
       "      <td>NaN</td>\n",
       "      <td>15690940.57</td>\n",
       "      <td>71936.19</td>\n",
       "      <td>15565701.0</td>\n",
       "      <td>15690738.0</td>\n",
       "      <td>15753233.75</td>\n",
       "      <td>15790830.7</td>\n",
       "      <td>15815690.0</td>\n",
       "      <td>int64</td>\n",
       "      <td>0</td>\n",
       "      <td>10000</td>\n",
       "    </tr>\n",
       "    <tr>\n",
       "      <th>surname</th>\n",
       "      <td>10000</td>\n",
       "      <td>2932</td>\n",
       "      <td>Smith</td>\n",
       "      <td>32</td>\n",
       "      <td>NaN</td>\n",
       "      <td>NaN</td>\n",
       "      <td>NaN</td>\n",
       "      <td>NaN</td>\n",
       "      <td>NaN</td>\n",
       "      <td>NaN</td>\n",
       "      <td>NaN</td>\n",
       "      <td>object</td>\n",
       "      <td>0</td>\n",
       "      <td>2932</td>\n",
       "    </tr>\n",
       "    <tr>\n",
       "      <th>credit_score</th>\n",
       "      <td>10000.0</td>\n",
       "      <td>NaN</td>\n",
       "      <td>NaN</td>\n",
       "      <td>NaN</td>\n",
       "      <td>650.53</td>\n",
       "      <td>96.65</td>\n",
       "      <td>350.0</td>\n",
       "      <td>652.0</td>\n",
       "      <td>718.0</td>\n",
       "      <td>778.0</td>\n",
       "      <td>850.0</td>\n",
       "      <td>int64</td>\n",
       "      <td>0</td>\n",
       "      <td>460</td>\n",
       "    </tr>\n",
       "    <tr>\n",
       "      <th>geography</th>\n",
       "      <td>10000</td>\n",
       "      <td>3</td>\n",
       "      <td>France</td>\n",
       "      <td>5014</td>\n",
       "      <td>NaN</td>\n",
       "      <td>NaN</td>\n",
       "      <td>NaN</td>\n",
       "      <td>NaN</td>\n",
       "      <td>NaN</td>\n",
       "      <td>NaN</td>\n",
       "      <td>NaN</td>\n",
       "      <td>object</td>\n",
       "      <td>0</td>\n",
       "      <td>3</td>\n",
       "    </tr>\n",
       "    <tr>\n",
       "      <th>gender</th>\n",
       "      <td>10000</td>\n",
       "      <td>2</td>\n",
       "      <td>Male</td>\n",
       "      <td>5457</td>\n",
       "      <td>NaN</td>\n",
       "      <td>NaN</td>\n",
       "      <td>NaN</td>\n",
       "      <td>NaN</td>\n",
       "      <td>NaN</td>\n",
       "      <td>NaN</td>\n",
       "      <td>NaN</td>\n",
       "      <td>object</td>\n",
       "      <td>0</td>\n",
       "      <td>2</td>\n",
       "    </tr>\n",
       "    <tr>\n",
       "      <th>age</th>\n",
       "      <td>10000.0</td>\n",
       "      <td>NaN</td>\n",
       "      <td>NaN</td>\n",
       "      <td>NaN</td>\n",
       "      <td>38.92</td>\n",
       "      <td>10.49</td>\n",
       "      <td>18.0</td>\n",
       "      <td>37.0</td>\n",
       "      <td>44.0</td>\n",
       "      <td>53.0</td>\n",
       "      <td>92.0</td>\n",
       "      <td>int64</td>\n",
       "      <td>0</td>\n",
       "      <td>70</td>\n",
       "    </tr>\n",
       "    <tr>\n",
       "      <th>tenure</th>\n",
       "      <td>9091.0</td>\n",
       "      <td>NaN</td>\n",
       "      <td>NaN</td>\n",
       "      <td>NaN</td>\n",
       "      <td>5.0</td>\n",
       "      <td>2.89</td>\n",
       "      <td>0.0</td>\n",
       "      <td>5.0</td>\n",
       "      <td>7.0</td>\n",
       "      <td>9.0</td>\n",
       "      <td>10.0</td>\n",
       "      <td>float64</td>\n",
       "      <td>0</td>\n",
       "      <td>11</td>\n",
       "    </tr>\n",
       "    <tr>\n",
       "      <th>balance</th>\n",
       "      <td>10000.0</td>\n",
       "      <td>NaN</td>\n",
       "      <td>NaN</td>\n",
       "      <td>NaN</td>\n",
       "      <td>76485.89</td>\n",
       "      <td>62397.41</td>\n",
       "      <td>0.0</td>\n",
       "      <td>97198.54</td>\n",
       "      <td>127644.24</td>\n",
       "      <td>149244.79</td>\n",
       "      <td>250898.09</td>\n",
       "      <td>float64</td>\n",
       "      <td>0</td>\n",
       "      <td>6382</td>\n",
       "    </tr>\n",
       "    <tr>\n",
       "      <th>num_of_products</th>\n",
       "      <td>10000.0</td>\n",
       "      <td>NaN</td>\n",
       "      <td>NaN</td>\n",
       "      <td>NaN</td>\n",
       "      <td>1.53</td>\n",
       "      <td>0.58</td>\n",
       "      <td>1.0</td>\n",
       "      <td>1.0</td>\n",
       "      <td>2.0</td>\n",
       "      <td>2.0</td>\n",
       "      <td>4.0</td>\n",
       "      <td>int64</td>\n",
       "      <td>0</td>\n",
       "      <td>4</td>\n",
       "    </tr>\n",
       "    <tr>\n",
       "      <th>has_cr_card</th>\n",
       "      <td>10000.0</td>\n",
       "      <td>NaN</td>\n",
       "      <td>NaN</td>\n",
       "      <td>NaN</td>\n",
       "      <td>0.71</td>\n",
       "      <td>0.46</td>\n",
       "      <td>0.0</td>\n",
       "      <td>1.0</td>\n",
       "      <td>1.0</td>\n",
       "      <td>1.0</td>\n",
       "      <td>1.0</td>\n",
       "      <td>int64</td>\n",
       "      <td>0</td>\n",
       "      <td>2</td>\n",
       "    </tr>\n",
       "    <tr>\n",
       "      <th>is_active_member</th>\n",
       "      <td>10000.0</td>\n",
       "      <td>NaN</td>\n",
       "      <td>NaN</td>\n",
       "      <td>NaN</td>\n",
       "      <td>0.52</td>\n",
       "      <td>0.5</td>\n",
       "      <td>0.0</td>\n",
       "      <td>1.0</td>\n",
       "      <td>1.0</td>\n",
       "      <td>1.0</td>\n",
       "      <td>1.0</td>\n",
       "      <td>int64</td>\n",
       "      <td>0</td>\n",
       "      <td>2</td>\n",
       "    </tr>\n",
       "    <tr>\n",
       "      <th>estimated_salary</th>\n",
       "      <td>10000.0</td>\n",
       "      <td>NaN</td>\n",
       "      <td>NaN</td>\n",
       "      <td>NaN</td>\n",
       "      <td>100090.24</td>\n",
       "      <td>57510.49</td>\n",
       "      <td>11.58</td>\n",
       "      <td>100193.92</td>\n",
       "      <td>149388.25</td>\n",
       "      <td>179674.7</td>\n",
       "      <td>199992.48</td>\n",
       "      <td>float64</td>\n",
       "      <td>0</td>\n",
       "      <td>9999</td>\n",
       "    </tr>\n",
       "    <tr>\n",
       "      <th>exited</th>\n",
       "      <td>10000.0</td>\n",
       "      <td>NaN</td>\n",
       "      <td>NaN</td>\n",
       "      <td>NaN</td>\n",
       "      <td>0.2</td>\n",
       "      <td>0.4</td>\n",
       "      <td>0.0</td>\n",
       "      <td>0.0</td>\n",
       "      <td>0.0</td>\n",
       "      <td>1.0</td>\n",
       "      <td>1.0</td>\n",
       "      <td>int64</td>\n",
       "      <td>0</td>\n",
       "      <td>2</td>\n",
       "    </tr>\n",
       "  </tbody>\n",
       "</table>\n",
       "</div>"
      ],
      "text/plain": [
       "                    count unique     top  freq         mean       std  \\\n",
       "row_number        10000.0    NaN     NaN   NaN       5000.5    2886.9   \n",
       "customer_id       10000.0    NaN     NaN   NaN  15690940.57  71936.19   \n",
       "surname             10000   2932   Smith    32          NaN       NaN   \n",
       "credit_score      10000.0    NaN     NaN   NaN       650.53     96.65   \n",
       "geography           10000      3  France  5014          NaN       NaN   \n",
       "gender              10000      2    Male  5457          NaN       NaN   \n",
       "age               10000.0    NaN     NaN   NaN        38.92     10.49   \n",
       "tenure             9091.0    NaN     NaN   NaN          5.0      2.89   \n",
       "balance           10000.0    NaN     NaN   NaN     76485.89  62397.41   \n",
       "num_of_products   10000.0    NaN     NaN   NaN         1.53      0.58   \n",
       "has_cr_card       10000.0    NaN     NaN   NaN         0.71      0.46   \n",
       "is_active_member  10000.0    NaN     NaN   NaN         0.52       0.5   \n",
       "estimated_salary  10000.0    NaN     NaN   NaN    100090.24  57510.49   \n",
       "exited            10000.0    NaN     NaN   NaN          0.2       0.4   \n",
       "\n",
       "                         min         50%          75%         90%         max  \\\n",
       "row_number               1.0      5000.5      7500.25      9000.1     10000.0   \n",
       "customer_id       15565701.0  15690738.0  15753233.75  15790830.7  15815690.0   \n",
       "surname                  NaN         NaN          NaN         NaN         NaN   \n",
       "credit_score           350.0       652.0        718.0       778.0       850.0   \n",
       "geography                NaN         NaN          NaN         NaN         NaN   \n",
       "gender                   NaN         NaN          NaN         NaN         NaN   \n",
       "age                     18.0        37.0         44.0        53.0        92.0   \n",
       "tenure                   0.0         5.0          7.0         9.0        10.0   \n",
       "balance                  0.0    97198.54    127644.24   149244.79   250898.09   \n",
       "num_of_products          1.0         1.0          2.0         2.0         4.0   \n",
       "has_cr_card              0.0         1.0          1.0         1.0         1.0   \n",
       "is_active_member         0.0         1.0          1.0         1.0         1.0   \n",
       "estimated_salary       11.58   100193.92    149388.25    179674.7   199992.48   \n",
       "exited                   0.0         0.0          0.0         1.0         1.0   \n",
       "\n",
       "                   dtypes dupl_cnt nunique  \n",
       "row_number          int64        0   10000  \n",
       "customer_id         int64        0   10000  \n",
       "surname            object        0    2932  \n",
       "credit_score        int64        0     460  \n",
       "geography          object        0       3  \n",
       "gender             object        0       2  \n",
       "age                 int64        0      70  \n",
       "tenure            float64        0      11  \n",
       "balance           float64        0    6382  \n",
       "num_of_products     int64        0       4  \n",
       "has_cr_card         int64        0       2  \n",
       "is_active_member    int64        0       2  \n",
       "estimated_salary  float64        0    9999  \n",
       "exited              int64        0       2  "
      ]
     },
     "execution_count": 4,
     "metadata": {},
     "output_type": "execute_result"
    }
   ],
   "source": [
    "describe_full(df)"
   ]
  },
  {
   "cell_type": "markdown",
   "metadata": {},
   "source": [
    "В нашем распоряжении 10k записей, каждый объект в наборе данных — информация о клиента банка, а именно:\n",
    "- `row_number` — индекс строки в данных\n",
    "- `customer_id` — уникальный идентификатор клиента\n",
    "- `surname` — фамилия\n",
    "- `credit_score` — кредитный рейтинг\n",
    "- `geography` — страна проживания\n",
    "- `gender` — пол\n",
    "- `age` — возраст\n",
    "- `tenure` — сколько лет человек является клиентом банка\n",
    "- `balance` — баланс на счёте\n",
    "- `num_of_products` — количество продуктов банка, используемых клиентом\n",
    "- `has_cr_card` — наличие кредитной карты\n",
    "- `is_active_member` — активность клиента\n",
    "- `estimated_salary` — предполагаемая зарплата\n",
    "- `exited` — факт ухода клиента\n",
    "\n",
    "Есть категориальные признаки - фамилия и пол клиента, а так же страна проживания.\n",
    "Есть пропуски в поле с количество лет `tenure`, дубликатов не обнаружено, есть поля, по которым необходимо поменять тип полей.\n",
    "\n",
    "Поля с индексами строки и фамилией не являются важной информацией для предсказания оттока клиента из банка -- ими можно пренебречь. К тому же уникальным идентификатором клиента может быть индекс строки."
   ]
  },
  {
   "cell_type": "code",
   "execution_count": 5,
   "metadata": {},
   "outputs": [],
   "source": [
    "df = df.drop(['row_number', 'surname', 'customer_id'] , axis=1)"
   ]
  },
  {
   "cell_type": "markdown",
   "metadata": {},
   "source": [
    "Пропуски по количеству времени присутствия Клиента в банке (`tenure`) заполним медианным значением по столбцу активности клиента методом `transform`."
   ]
  },
  {
   "cell_type": "code",
   "execution_count": 6,
   "metadata": {},
   "outputs": [],
   "source": [
    "df.loc[df['tenure'].isnull(), 'tenure'] = df.groupby('is_active_member')['tenure'].transform('mean')"
   ]
  },
  {
   "cell_type": "markdown",
   "metadata": {},
   "source": [
    "Поменяем тип данных в столбцах на основе значений объекта в каждом столбце с помощью метода `convert_dtypes()`."
   ]
  },
  {
   "cell_type": "code",
   "execution_count": 7,
   "metadata": {},
   "outputs": [
    {
     "data": {
      "text/plain": [
       "credit_score          Int64\n",
       "geography            string\n",
       "gender               string\n",
       "age                   Int64\n",
       "tenure              Float64\n",
       "balance             Float64\n",
       "num_of_products       Int64\n",
       "has_cr_card           Int64\n",
       "is_active_member      Int64\n",
       "estimated_salary    Float64\n",
       "exited                Int64\n",
       "dtype: object"
      ]
     },
     "execution_count": 7,
     "metadata": {},
     "output_type": "execute_result"
    }
   ],
   "source": [
    "df = df.convert_dtypes()\n",
    "df.dtypes"
   ]
  },
  {
   "cell_type": "markdown",
   "metadata": {},
   "source": [
    "Как видим, страна и пол клиента теперь строковые переменные."
   ]
  },
  {
   "cell_type": "markdown",
   "metadata": {},
   "source": [
    "Заменим вещественный тип данных на целочисленный."
   ]
  },
  {
   "cell_type": "code",
   "execution_count": 8,
   "metadata": {},
   "outputs": [],
   "source": [
    "for i in ['tenure', 'balance', 'estimated_salary']:\n",
    "    df[i] = df[i].astype('int')"
   ]
  },
  {
   "cell_type": "markdown",
   "metadata": {},
   "source": [
    "## Исследование задачи"
   ]
  },
  {
   "cell_type": "markdown",
   "metadata": {},
   "source": [
    "Посмотрим, какие параметры влиют больше всего на факт оттока из банка с помощью функции `corr()`. "
   ]
  },
  {
   "cell_type": "code",
   "execution_count": 9,
   "metadata": {},
   "outputs": [
    {
     "data": {
      "text/html": [
       "<style  type=\"text/css\" >\n",
       "#T_83555_row0_col0,#T_83555_row1_col1,#T_83555_row2_col2,#T_83555_row3_col3,#T_83555_row4_col4,#T_83555_row5_col5,#T_83555_row6_col6,#T_83555_row7_col7,#T_83555_row8_col8{\n",
       "            background-color:  #b40426;\n",
       "            color:  #f1f1f1;\n",
       "        }#T_83555_row0_col1,#T_83555_row0_col5,#T_83555_row1_col0,#T_83555_row1_col7,#T_83555_row2_col3,#T_83555_row3_col2,#T_83555_row5_col0,#T_83555_row5_col8,#T_83555_row7_col1,#T_83555_row8_col5{\n",
       "            background-color:  #85a8fc;\n",
       "            color:  #000000;\n",
       "        }#T_83555_row0_col2,#T_83555_row0_col7,#T_83555_row2_col0,#T_83555_row7_col0{\n",
       "            background-color:  #86a9fc;\n",
       "            color:  #000000;\n",
       "        }#T_83555_row0_col3,#T_83555_row3_col0,#T_83555_row4_col5,#T_83555_row5_col4{\n",
       "            background-color:  #88abfd;\n",
       "            color:  #000000;\n",
       "        }#T_83555_row0_col4,#T_83555_row3_col7,#T_83555_row4_col0,#T_83555_row4_col7,#T_83555_row7_col3,#T_83555_row7_col4,#T_83555_row7_col8,#T_83555_row8_col7{\n",
       "            background-color:  #8badfd;\n",
       "            color:  #000000;\n",
       "        }#T_83555_row0_col6,#T_83555_row2_col5,#T_83555_row5_col2,#T_83555_row6_col0{\n",
       "            background-color:  #8db0fe;\n",
       "            color:  #000000;\n",
       "        }#T_83555_row0_col8,#T_83555_row8_col0{\n",
       "            background-color:  #80a3fa;\n",
       "            color:  #000000;\n",
       "        }#T_83555_row1_col2,#T_83555_row2_col1,#T_83555_row3_col5,#T_83555_row5_col3{\n",
       "            background-color:  #82a6fb;\n",
       "            color:  #000000;\n",
       "        }#T_83555_row1_col3,#T_83555_row3_col1{\n",
       "            background-color:  #8fb1fe;\n",
       "            color:  #000000;\n",
       "        }#T_83555_row1_col4,#T_83555_row4_col1{\n",
       "            background-color:  #7ea1fa;\n",
       "            color:  #000000;\n",
       "        }#T_83555_row1_col5,#T_83555_row2_col8,#T_83555_row3_col6,#T_83555_row5_col1,#T_83555_row5_col6,#T_83555_row5_col7,#T_83555_row6_col3,#T_83555_row6_col5,#T_83555_row6_col7,#T_83555_row7_col5,#T_83555_row7_col6,#T_83555_row8_col2{\n",
       "            background-color:  #84a7fc;\n",
       "            color:  #000000;\n",
       "        }#T_83555_row1_col6,#T_83555_row6_col1{\n",
       "            background-color:  #9ebeff;\n",
       "            color:  #000000;\n",
       "        }#T_83555_row1_col8,#T_83555_row8_col1{\n",
       "            background-color:  #cfdaea;\n",
       "            color:  #000000;\n",
       "        }#T_83555_row2_col4,#T_83555_row2_col7,#T_83555_row4_col2,#T_83555_row4_col6,#T_83555_row6_col4,#T_83555_row7_col2{\n",
       "            background-color:  #89acfd;\n",
       "            color:  #000000;\n",
       "        }#T_83555_row2_col6,#T_83555_row4_col8,#T_83555_row6_col2,#T_83555_row8_col4{\n",
       "            background-color:  #7a9df8;\n",
       "            color:  #000000;\n",
       "        }#T_83555_row3_col4,#T_83555_row4_col3{\n",
       "            background-color:  #3b4cc0;\n",
       "            color:  #f1f1f1;\n",
       "        }#T_83555_row3_col8,#T_83555_row8_col3{\n",
       "            background-color:  #a6c4fe;\n",
       "            color:  #000000;\n",
       "        }#T_83555_row6_col8,#T_83555_row8_col6{\n",
       "            background-color:  #5e7de7;\n",
       "            color:  #000000;\n",
       "        }</style><table id=\"T_83555_\" ><thead>    <tr>        <th class=\"blank level0\" ></th>        <th class=\"col_heading level0 col0\" >credit_score</th>        <th class=\"col_heading level0 col1\" >age</th>        <th class=\"col_heading level0 col2\" >tenure</th>        <th class=\"col_heading level0 col3\" >balance</th>        <th class=\"col_heading level0 col4\" >num_of_products</th>        <th class=\"col_heading level0 col5\" >has_cr_card</th>        <th class=\"col_heading level0 col6\" >is_active_member</th>        <th class=\"col_heading level0 col7\" >estimated_salary</th>        <th class=\"col_heading level0 col8\" >exited</th>    </tr></thead><tbody>\n",
       "                <tr>\n",
       "                        <th id=\"T_83555_level0_row0\" class=\"row_heading level0 row0\" >credit_score</th>\n",
       "                        <td id=\"T_83555_row0_col0\" class=\"data row0 col0\" >1.000</td>\n",
       "                        <td id=\"T_83555_row0_col1\" class=\"data row0 col1\" >-0.004</td>\n",
       "                        <td id=\"T_83555_row0_col2\" class=\"data row0 col2\" >0.001</td>\n",
       "                        <td id=\"T_83555_row0_col3\" class=\"data row0 col3\" >0.006</td>\n",
       "                        <td id=\"T_83555_row0_col4\" class=\"data row0 col4\" >0.012</td>\n",
       "                        <td id=\"T_83555_row0_col5\" class=\"data row0 col5\" >-0.005</td>\n",
       "                        <td id=\"T_83555_row0_col6\" class=\"data row0 col6\" >0.026</td>\n",
       "                        <td id=\"T_83555_row0_col7\" class=\"data row0 col7\" >-0.001</td>\n",
       "                        <td id=\"T_83555_row0_col8\" class=\"data row0 col8\" >-0.027</td>\n",
       "            </tr>\n",
       "            <tr>\n",
       "                        <th id=\"T_83555_level0_row1\" class=\"row_heading level0 row1\" >age</th>\n",
       "                        <td id=\"T_83555_row1_col0\" class=\"data row1 col0\" >-0.004</td>\n",
       "                        <td id=\"T_83555_row1_col1\" class=\"data row1 col1\" >1.000</td>\n",
       "                        <td id=\"T_83555_row1_col2\" class=\"data row1 col2\" >-0.014</td>\n",
       "                        <td id=\"T_83555_row1_col3\" class=\"data row1 col3\" >0.028</td>\n",
       "                        <td id=\"T_83555_row1_col4\" class=\"data row1 col4\" >-0.031</td>\n",
       "                        <td id=\"T_83555_row1_col5\" class=\"data row1 col5\" >-0.012</td>\n",
       "                        <td id=\"T_83555_row1_col6\" class=\"data row1 col6\" >0.085</td>\n",
       "                        <td id=\"T_83555_row1_col7\" class=\"data row1 col7\" >-0.007</td>\n",
       "                        <td id=\"T_83555_row1_col8\" class=\"data row1 col8\" >0.285</td>\n",
       "            </tr>\n",
       "            <tr>\n",
       "                        <th id=\"T_83555_level0_row2\" class=\"row_heading level0 row2\" >tenure</th>\n",
       "                        <td id=\"T_83555_row2_col0\" class=\"data row2 col0\" >0.001</td>\n",
       "                        <td id=\"T_83555_row2_col1\" class=\"data row2 col1\" >-0.014</td>\n",
       "                        <td id=\"T_83555_row2_col2\" class=\"data row2 col2\" >1.000</td>\n",
       "                        <td id=\"T_83555_row2_col3\" class=\"data row2 col3\" >-0.006</td>\n",
       "                        <td id=\"T_83555_row2_col4\" class=\"data row2 col4\" >0.011</td>\n",
       "                        <td id=\"T_83555_row2_col5\" class=\"data row2 col5\" >0.026</td>\n",
       "                        <td id=\"T_83555_row2_col6\" class=\"data row2 col6\" >-0.047</td>\n",
       "                        <td id=\"T_83555_row2_col7\" class=\"data row2 col7\" >0.009</td>\n",
       "                        <td id=\"T_83555_row2_col8\" class=\"data row2 col8\" >-0.013</td>\n",
       "            </tr>\n",
       "            <tr>\n",
       "                        <th id=\"T_83555_level0_row3\" class=\"row_heading level0 row3\" >balance</th>\n",
       "                        <td id=\"T_83555_row3_col0\" class=\"data row3 col0\" >0.006</td>\n",
       "                        <td id=\"T_83555_row3_col1\" class=\"data row3 col1\" >0.028</td>\n",
       "                        <td id=\"T_83555_row3_col2\" class=\"data row3 col2\" >-0.006</td>\n",
       "                        <td id=\"T_83555_row3_col3\" class=\"data row3 col3\" >1.000</td>\n",
       "                        <td id=\"T_83555_row3_col4\" class=\"data row3 col4\" >-0.304</td>\n",
       "                        <td id=\"T_83555_row3_col5\" class=\"data row3 col5\" >-0.015</td>\n",
       "                        <td id=\"T_83555_row3_col6\" class=\"data row3 col6\" >-0.010</td>\n",
       "                        <td id=\"T_83555_row3_col7\" class=\"data row3 col7\" >0.013</td>\n",
       "                        <td id=\"T_83555_row3_col8\" class=\"data row3 col8\" >0.119</td>\n",
       "            </tr>\n",
       "            <tr>\n",
       "                        <th id=\"T_83555_level0_row4\" class=\"row_heading level0 row4\" >num_of_products</th>\n",
       "                        <td id=\"T_83555_row4_col0\" class=\"data row4 col0\" >0.012</td>\n",
       "                        <td id=\"T_83555_row4_col1\" class=\"data row4 col1\" >-0.031</td>\n",
       "                        <td id=\"T_83555_row4_col2\" class=\"data row4 col2\" >0.011</td>\n",
       "                        <td id=\"T_83555_row4_col3\" class=\"data row4 col3\" >-0.304</td>\n",
       "                        <td id=\"T_83555_row4_col4\" class=\"data row4 col4\" >1.000</td>\n",
       "                        <td id=\"T_83555_row4_col5\" class=\"data row4 col5\" >0.003</td>\n",
       "                        <td id=\"T_83555_row4_col6\" class=\"data row4 col6\" >0.010</td>\n",
       "                        <td id=\"T_83555_row4_col7\" class=\"data row4 col7\" >0.014</td>\n",
       "                        <td id=\"T_83555_row4_col8\" class=\"data row4 col8\" >-0.048</td>\n",
       "            </tr>\n",
       "            <tr>\n",
       "                        <th id=\"T_83555_level0_row5\" class=\"row_heading level0 row5\" >has_cr_card</th>\n",
       "                        <td id=\"T_83555_row5_col0\" class=\"data row5 col0\" >-0.005</td>\n",
       "                        <td id=\"T_83555_row5_col1\" class=\"data row5 col1\" >-0.012</td>\n",
       "                        <td id=\"T_83555_row5_col2\" class=\"data row5 col2\" >0.026</td>\n",
       "                        <td id=\"T_83555_row5_col3\" class=\"data row5 col3\" >-0.015</td>\n",
       "                        <td id=\"T_83555_row5_col4\" class=\"data row5 col4\" >0.003</td>\n",
       "                        <td id=\"T_83555_row5_col5\" class=\"data row5 col5\" >1.000</td>\n",
       "                        <td id=\"T_83555_row5_col6\" class=\"data row5 col6\" >-0.012</td>\n",
       "                        <td id=\"T_83555_row5_col7\" class=\"data row5 col7\" >-0.010</td>\n",
       "                        <td id=\"T_83555_row5_col8\" class=\"data row5 col8\" >-0.007</td>\n",
       "            </tr>\n",
       "            <tr>\n",
       "                        <th id=\"T_83555_level0_row6\" class=\"row_heading level0 row6\" >is_active_member</th>\n",
       "                        <td id=\"T_83555_row6_col0\" class=\"data row6 col0\" >0.026</td>\n",
       "                        <td id=\"T_83555_row6_col1\" class=\"data row6 col1\" >0.085</td>\n",
       "                        <td id=\"T_83555_row6_col2\" class=\"data row6 col2\" >-0.047</td>\n",
       "                        <td id=\"T_83555_row6_col3\" class=\"data row6 col3\" >-0.010</td>\n",
       "                        <td id=\"T_83555_row6_col4\" class=\"data row6 col4\" >0.010</td>\n",
       "                        <td id=\"T_83555_row6_col5\" class=\"data row6 col5\" >-0.012</td>\n",
       "                        <td id=\"T_83555_row6_col6\" class=\"data row6 col6\" >1.000</td>\n",
       "                        <td id=\"T_83555_row6_col7\" class=\"data row6 col7\" >-0.011</td>\n",
       "                        <td id=\"T_83555_row6_col8\" class=\"data row6 col8\" >-0.156</td>\n",
       "            </tr>\n",
       "            <tr>\n",
       "                        <th id=\"T_83555_level0_row7\" class=\"row_heading level0 row7\" >estimated_salary</th>\n",
       "                        <td id=\"T_83555_row7_col0\" class=\"data row7 col0\" >-0.001</td>\n",
       "                        <td id=\"T_83555_row7_col1\" class=\"data row7 col1\" >-0.007</td>\n",
       "                        <td id=\"T_83555_row7_col2\" class=\"data row7 col2\" >0.009</td>\n",
       "                        <td id=\"T_83555_row7_col3\" class=\"data row7 col3\" >0.013</td>\n",
       "                        <td id=\"T_83555_row7_col4\" class=\"data row7 col4\" >0.014</td>\n",
       "                        <td id=\"T_83555_row7_col5\" class=\"data row7 col5\" >-0.010</td>\n",
       "                        <td id=\"T_83555_row7_col6\" class=\"data row7 col6\" >-0.011</td>\n",
       "                        <td id=\"T_83555_row7_col7\" class=\"data row7 col7\" >1.000</td>\n",
       "                        <td id=\"T_83555_row7_col8\" class=\"data row7 col8\" >0.012</td>\n",
       "            </tr>\n",
       "            <tr>\n",
       "                        <th id=\"T_83555_level0_row8\" class=\"row_heading level0 row8\" >exited</th>\n",
       "                        <td id=\"T_83555_row8_col0\" class=\"data row8 col0\" >-0.027</td>\n",
       "                        <td id=\"T_83555_row8_col1\" class=\"data row8 col1\" >0.285</td>\n",
       "                        <td id=\"T_83555_row8_col2\" class=\"data row8 col2\" >-0.013</td>\n",
       "                        <td id=\"T_83555_row8_col3\" class=\"data row8 col3\" >0.119</td>\n",
       "                        <td id=\"T_83555_row8_col4\" class=\"data row8 col4\" >-0.048</td>\n",
       "                        <td id=\"T_83555_row8_col5\" class=\"data row8 col5\" >-0.007</td>\n",
       "                        <td id=\"T_83555_row8_col6\" class=\"data row8 col6\" >-0.156</td>\n",
       "                        <td id=\"T_83555_row8_col7\" class=\"data row8 col7\" >0.012</td>\n",
       "                        <td id=\"T_83555_row8_col8\" class=\"data row8 col8\" >1.000</td>\n",
       "            </tr>\n",
       "    </tbody></table>"
      ],
      "text/plain": [
       "<pandas.io.formats.style.Styler at 0x7f741e95a6a0>"
      ]
     },
     "execution_count": 9,
     "metadata": {},
     "output_type": "execute_result"
    }
   ],
   "source": [
    "df.corr().style.background_gradient(cmap='coolwarm', \n",
    "                                    axis=None, \n",
    "                                    vmin=df.corr().min().min(), \n",
    "                                    vmax=df.corr().max().max()).set_precision(3)"
   ]
  },
  {
   "cell_type": "markdown",
   "metadata": {},
   "source": [
    "На факт оттока клиента больше всего влияет его возраст, а также баланс счета. Интересно, что чем активнее клиент, тем выше вероятность его ухода. Можно объяснить это заинтересованностью клиента в выгодных условиях банковских услуг. Вероятно, чем больше клиент использует банковские услуги, тем больше сравнивает их уровень у конкурентов."
   ]
  },
  {
   "cell_type": "markdown",
   "metadata": {},
   "source": [
    "А еще хочется посмотреть аналитику `describe_full` в разрезе факта ухода клиента из банка (голубой цвет - клиент остался, красный - ушел)."
   ]
  },
  {
   "cell_type": "code",
   "execution_count": 10,
   "metadata": {},
   "outputs": [
    {
     "data": {
      "text/html": [
       "<style  type=\"text/css\" >\n",
       "#T_bf674_row0_col0,#T_bf674_row0_col1,#T_bf674_row0_col2,#T_bf674_row0_col3,#T_bf674_row0_col4,#T_bf674_row0_col5,#T_bf674_row0_col6,#T_bf674_row0_col7,#T_bf674_row0_col8,#T_bf674_row0_col9,#T_bf674_row0_col10,#T_bf674_row0_col11,#T_bf674_row0_col12,#T_bf674_row0_col13,#T_bf674_row0_col14,#T_bf674_row1_col0,#T_bf674_row1_col1,#T_bf674_row1_col2,#T_bf674_row1_col3,#T_bf674_row1_col4,#T_bf674_row1_col5,#T_bf674_row1_col6,#T_bf674_row1_col7,#T_bf674_row1_col8,#T_bf674_row1_col9,#T_bf674_row1_col10,#T_bf674_row1_col11,#T_bf674_row1_col12,#T_bf674_row1_col13,#T_bf674_row1_col14,#T_bf674_row2_col0,#T_bf674_row2_col1,#T_bf674_row2_col2,#T_bf674_row2_col3,#T_bf674_row2_col4,#T_bf674_row2_col5,#T_bf674_row2_col6,#T_bf674_row2_col7,#T_bf674_row2_col8,#T_bf674_row2_col9,#T_bf674_row2_col10,#T_bf674_row2_col11,#T_bf674_row2_col12,#T_bf674_row2_col13,#T_bf674_row2_col14,#T_bf674_row3_col0,#T_bf674_row3_col1,#T_bf674_row3_col2,#T_bf674_row3_col3,#T_bf674_row3_col4,#T_bf674_row3_col5,#T_bf674_row3_col6,#T_bf674_row3_col7,#T_bf674_row3_col8,#T_bf674_row3_col9,#T_bf674_row3_col10,#T_bf674_row3_col11,#T_bf674_row3_col12,#T_bf674_row3_col13,#T_bf674_row3_col14,#T_bf674_row4_col0,#T_bf674_row4_col1,#T_bf674_row4_col2,#T_bf674_row4_col3,#T_bf674_row4_col4,#T_bf674_row4_col5,#T_bf674_row4_col6,#T_bf674_row4_col7,#T_bf674_row4_col8,#T_bf674_row4_col9,#T_bf674_row4_col10,#T_bf674_row4_col11,#T_bf674_row4_col12,#T_bf674_row4_col13,#T_bf674_row4_col14,#T_bf674_row5_col0,#T_bf674_row5_col1,#T_bf674_row5_col2,#T_bf674_row5_col3,#T_bf674_row5_col4,#T_bf674_row5_col5,#T_bf674_row5_col6,#T_bf674_row5_col7,#T_bf674_row5_col8,#T_bf674_row5_col9,#T_bf674_row5_col10,#T_bf674_row5_col11,#T_bf674_row5_col12,#T_bf674_row5_col13,#T_bf674_row5_col14,#T_bf674_row6_col0,#T_bf674_row6_col1,#T_bf674_row6_col2,#T_bf674_row6_col3,#T_bf674_row6_col4,#T_bf674_row6_col5,#T_bf674_row6_col6,#T_bf674_row6_col7,#T_bf674_row6_col8,#T_bf674_row6_col9,#T_bf674_row6_col10,#T_bf674_row6_col11,#T_bf674_row6_col12,#T_bf674_row6_col13,#T_bf674_row6_col14,#T_bf674_row7_col0,#T_bf674_row7_col1,#T_bf674_row7_col2,#T_bf674_row7_col3,#T_bf674_row7_col4,#T_bf674_row7_col5,#T_bf674_row7_col6,#T_bf674_row7_col7,#T_bf674_row7_col8,#T_bf674_row7_col9,#T_bf674_row7_col10,#T_bf674_row7_col11,#T_bf674_row7_col12,#T_bf674_row7_col13,#T_bf674_row7_col14,#T_bf674_row8_col0,#T_bf674_row8_col1,#T_bf674_row8_col2,#T_bf674_row8_col3,#T_bf674_row8_col4,#T_bf674_row8_col5,#T_bf674_row8_col6,#T_bf674_row8_col7,#T_bf674_row8_col8,#T_bf674_row8_col9,#T_bf674_row8_col10,#T_bf674_row8_col11,#T_bf674_row8_col12,#T_bf674_row8_col13,#T_bf674_row8_col14,#T_bf674_row9_col0,#T_bf674_row9_col1,#T_bf674_row9_col2,#T_bf674_row9_col3,#T_bf674_row9_col4,#T_bf674_row9_col5,#T_bf674_row9_col6,#T_bf674_row9_col7,#T_bf674_row9_col8,#T_bf674_row9_col9,#T_bf674_row9_col10,#T_bf674_row9_col11,#T_bf674_row9_col12,#T_bf674_row9_col13,#T_bf674_row9_col14,#T_bf674_row10_col0,#T_bf674_row10_col1,#T_bf674_row10_col2,#T_bf674_row10_col3,#T_bf674_row10_col4,#T_bf674_row10_col5,#T_bf674_row10_col6,#T_bf674_row10_col7,#T_bf674_row10_col8,#T_bf674_row10_col9,#T_bf674_row10_col10,#T_bf674_row10_col11,#T_bf674_row10_col12,#T_bf674_row10_col13,#T_bf674_row10_col14{\n",
       "            background-color:  #f6a789;\n",
       "        }#T_bf674_row11_col0,#T_bf674_row11_col1,#T_bf674_row11_col2,#T_bf674_row11_col3,#T_bf674_row11_col4,#T_bf674_row11_col5,#T_bf674_row11_col6,#T_bf674_row11_col7,#T_bf674_row11_col8,#T_bf674_row11_col9,#T_bf674_row11_col10,#T_bf674_row11_col11,#T_bf674_row11_col12,#T_bf674_row11_col13,#T_bf674_row11_col14,#T_bf674_row12_col0,#T_bf674_row12_col1,#T_bf674_row12_col2,#T_bf674_row12_col3,#T_bf674_row12_col4,#T_bf674_row12_col5,#T_bf674_row12_col6,#T_bf674_row12_col7,#T_bf674_row12_col8,#T_bf674_row12_col9,#T_bf674_row12_col10,#T_bf674_row12_col11,#T_bf674_row12_col12,#T_bf674_row12_col13,#T_bf674_row12_col14,#T_bf674_row13_col0,#T_bf674_row13_col1,#T_bf674_row13_col2,#T_bf674_row13_col3,#T_bf674_row13_col4,#T_bf674_row13_col5,#T_bf674_row13_col6,#T_bf674_row13_col7,#T_bf674_row13_col8,#T_bf674_row13_col9,#T_bf674_row13_col10,#T_bf674_row13_col11,#T_bf674_row13_col12,#T_bf674_row13_col13,#T_bf674_row13_col14,#T_bf674_row14_col0,#T_bf674_row14_col1,#T_bf674_row14_col2,#T_bf674_row14_col3,#T_bf674_row14_col4,#T_bf674_row14_col5,#T_bf674_row14_col6,#T_bf674_row14_col7,#T_bf674_row14_col8,#T_bf674_row14_col9,#T_bf674_row14_col10,#T_bf674_row14_col11,#T_bf674_row14_col12,#T_bf674_row14_col13,#T_bf674_row14_col14,#T_bf674_row15_col0,#T_bf674_row15_col1,#T_bf674_row15_col2,#T_bf674_row15_col3,#T_bf674_row15_col4,#T_bf674_row15_col5,#T_bf674_row15_col6,#T_bf674_row15_col7,#T_bf674_row15_col8,#T_bf674_row15_col9,#T_bf674_row15_col10,#T_bf674_row15_col11,#T_bf674_row15_col12,#T_bf674_row15_col13,#T_bf674_row15_col14,#T_bf674_row16_col0,#T_bf674_row16_col1,#T_bf674_row16_col2,#T_bf674_row16_col3,#T_bf674_row16_col4,#T_bf674_row16_col5,#T_bf674_row16_col6,#T_bf674_row16_col7,#T_bf674_row16_col8,#T_bf674_row16_col9,#T_bf674_row16_col10,#T_bf674_row16_col11,#T_bf674_row16_col12,#T_bf674_row16_col13,#T_bf674_row16_col14,#T_bf674_row17_col0,#T_bf674_row17_col1,#T_bf674_row17_col2,#T_bf674_row17_col3,#T_bf674_row17_col4,#T_bf674_row17_col5,#T_bf674_row17_col6,#T_bf674_row17_col7,#T_bf674_row17_col8,#T_bf674_row17_col9,#T_bf674_row17_col10,#T_bf674_row17_col11,#T_bf674_row17_col12,#T_bf674_row17_col13,#T_bf674_row17_col14,#T_bf674_row18_col0,#T_bf674_row18_col1,#T_bf674_row18_col2,#T_bf674_row18_col3,#T_bf674_row18_col4,#T_bf674_row18_col5,#T_bf674_row18_col6,#T_bf674_row18_col7,#T_bf674_row18_col8,#T_bf674_row18_col9,#T_bf674_row18_col10,#T_bf674_row18_col11,#T_bf674_row18_col12,#T_bf674_row18_col13,#T_bf674_row18_col14,#T_bf674_row19_col0,#T_bf674_row19_col1,#T_bf674_row19_col2,#T_bf674_row19_col3,#T_bf674_row19_col4,#T_bf674_row19_col5,#T_bf674_row19_col6,#T_bf674_row19_col7,#T_bf674_row19_col8,#T_bf674_row19_col9,#T_bf674_row19_col10,#T_bf674_row19_col11,#T_bf674_row19_col12,#T_bf674_row19_col13,#T_bf674_row19_col14,#T_bf674_row20_col0,#T_bf674_row20_col1,#T_bf674_row20_col2,#T_bf674_row20_col3,#T_bf674_row20_col4,#T_bf674_row20_col5,#T_bf674_row20_col6,#T_bf674_row20_col7,#T_bf674_row20_col8,#T_bf674_row20_col9,#T_bf674_row20_col10,#T_bf674_row20_col11,#T_bf674_row20_col12,#T_bf674_row20_col13,#T_bf674_row20_col14,#T_bf674_row21_col0,#T_bf674_row21_col1,#T_bf674_row21_col2,#T_bf674_row21_col3,#T_bf674_row21_col4,#T_bf674_row21_col5,#T_bf674_row21_col6,#T_bf674_row21_col7,#T_bf674_row21_col8,#T_bf674_row21_col9,#T_bf674_row21_col10,#T_bf674_row21_col11,#T_bf674_row21_col12,#T_bf674_row21_col13,#T_bf674_row21_col14{\n",
       "            background-color:  #99bafe;\n",
       "        }</style><table id=\"T_bf674_\" ><thead>    <tr>        <th class=\"blank level0\" ></th>        <th class=\"col_heading level0 col0\" >index</th>        <th class=\"col_heading level0 col1\" >count</th>        <th class=\"col_heading level0 col2\" >unique</th>        <th class=\"col_heading level0 col3\" >top</th>        <th class=\"col_heading level0 col4\" >freq</th>        <th class=\"col_heading level0 col5\" >mean</th>        <th class=\"col_heading level0 col6\" >std</th>        <th class=\"col_heading level0 col7\" >min</th>        <th class=\"col_heading level0 col8\" >50%</th>        <th class=\"col_heading level0 col9\" >75%</th>        <th class=\"col_heading level0 col10\" >90%</th>        <th class=\"col_heading level0 col11\" >max</th>        <th class=\"col_heading level0 col12\" >dtypes</th>        <th class=\"col_heading level0 col13\" >dupl_cnt</th>        <th class=\"col_heading level0 col14\" >nunique</th>    </tr></thead><tbody>\n",
       "                <tr>\n",
       "                        <th id=\"T_bf674_level0_row0\" class=\"row_heading level0 row0\" >0</th>\n",
       "                        <td id=\"T_bf674_row0_col0\" class=\"data row0 col0\" >credit_score</td>\n",
       "                        <td id=\"T_bf674_row0_col1\" class=\"data row0 col1\" >2037.000000</td>\n",
       "                        <td id=\"T_bf674_row0_col2\" class=\"data row0 col2\" >nan</td>\n",
       "                        <td id=\"T_bf674_row0_col3\" class=\"data row0 col3\" >nan</td>\n",
       "                        <td id=\"T_bf674_row0_col4\" class=\"data row0 col4\" >nan</td>\n",
       "                        <td id=\"T_bf674_row0_col5\" class=\"data row0 col5\" >645.350000</td>\n",
       "                        <td id=\"T_bf674_row0_col6\" class=\"data row0 col6\" >100.320000</td>\n",
       "                        <td id=\"T_bf674_row0_col7\" class=\"data row0 col7\" >350.000000</td>\n",
       "                        <td id=\"T_bf674_row0_col8\" class=\"data row0 col8\" >646.000000</td>\n",
       "                        <td id=\"T_bf674_row0_col9\" class=\"data row0 col9\" >716.000000</td>\n",
       "                        <td id=\"T_bf674_row0_col10\" class=\"data row0 col10\" >776.400000</td>\n",
       "                        <td id=\"T_bf674_row0_col11\" class=\"data row0 col11\" >850.000000</td>\n",
       "                        <td id=\"T_bf674_row0_col12\" class=\"data row0 col12\" >Int64</td>\n",
       "                        <td id=\"T_bf674_row0_col13\" class=\"data row0 col13\" >0</td>\n",
       "                        <td id=\"T_bf674_row0_col14\" class=\"data row0 col14\" >420</td>\n",
       "            </tr>\n",
       "            <tr>\n",
       "                        <th id=\"T_bf674_level0_row1\" class=\"row_heading level0 row1\" >1</th>\n",
       "                        <td id=\"T_bf674_row1_col0\" class=\"data row1 col0\" >geography</td>\n",
       "                        <td id=\"T_bf674_row1_col1\" class=\"data row1 col1\" >2037</td>\n",
       "                        <td id=\"T_bf674_row1_col2\" class=\"data row1 col2\" >3</td>\n",
       "                        <td id=\"T_bf674_row1_col3\" class=\"data row1 col3\" >Germany</td>\n",
       "                        <td id=\"T_bf674_row1_col4\" class=\"data row1 col4\" >814</td>\n",
       "                        <td id=\"T_bf674_row1_col5\" class=\"data row1 col5\" >nan</td>\n",
       "                        <td id=\"T_bf674_row1_col6\" class=\"data row1 col6\" >nan</td>\n",
       "                        <td id=\"T_bf674_row1_col7\" class=\"data row1 col7\" >nan</td>\n",
       "                        <td id=\"T_bf674_row1_col8\" class=\"data row1 col8\" >nan</td>\n",
       "                        <td id=\"T_bf674_row1_col9\" class=\"data row1 col9\" >nan</td>\n",
       "                        <td id=\"T_bf674_row1_col10\" class=\"data row1 col10\" >nan</td>\n",
       "                        <td id=\"T_bf674_row1_col11\" class=\"data row1 col11\" >nan</td>\n",
       "                        <td id=\"T_bf674_row1_col12\" class=\"data row1 col12\" >string</td>\n",
       "                        <td id=\"T_bf674_row1_col13\" class=\"data row1 col13\" >0</td>\n",
       "                        <td id=\"T_bf674_row1_col14\" class=\"data row1 col14\" >3</td>\n",
       "            </tr>\n",
       "            <tr>\n",
       "                        <th id=\"T_bf674_level0_row2\" class=\"row_heading level0 row2\" >2</th>\n",
       "                        <td id=\"T_bf674_row2_col0\" class=\"data row2 col0\" >gender</td>\n",
       "                        <td id=\"T_bf674_row2_col1\" class=\"data row2 col1\" >2037</td>\n",
       "                        <td id=\"T_bf674_row2_col2\" class=\"data row2 col2\" >2</td>\n",
       "                        <td id=\"T_bf674_row2_col3\" class=\"data row2 col3\" >Female</td>\n",
       "                        <td id=\"T_bf674_row2_col4\" class=\"data row2 col4\" >1139</td>\n",
       "                        <td id=\"T_bf674_row2_col5\" class=\"data row2 col5\" >nan</td>\n",
       "                        <td id=\"T_bf674_row2_col6\" class=\"data row2 col6\" >nan</td>\n",
       "                        <td id=\"T_bf674_row2_col7\" class=\"data row2 col7\" >nan</td>\n",
       "                        <td id=\"T_bf674_row2_col8\" class=\"data row2 col8\" >nan</td>\n",
       "                        <td id=\"T_bf674_row2_col9\" class=\"data row2 col9\" >nan</td>\n",
       "                        <td id=\"T_bf674_row2_col10\" class=\"data row2 col10\" >nan</td>\n",
       "                        <td id=\"T_bf674_row2_col11\" class=\"data row2 col11\" >nan</td>\n",
       "                        <td id=\"T_bf674_row2_col12\" class=\"data row2 col12\" >string</td>\n",
       "                        <td id=\"T_bf674_row2_col13\" class=\"data row2 col13\" >0</td>\n",
       "                        <td id=\"T_bf674_row2_col14\" class=\"data row2 col14\" >2</td>\n",
       "            </tr>\n",
       "            <tr>\n",
       "                        <th id=\"T_bf674_level0_row3\" class=\"row_heading level0 row3\" >3</th>\n",
       "                        <td id=\"T_bf674_row3_col0\" class=\"data row3 col0\" >age</td>\n",
       "                        <td id=\"T_bf674_row3_col1\" class=\"data row3 col1\" >2037.000000</td>\n",
       "                        <td id=\"T_bf674_row3_col2\" class=\"data row3 col2\" >nan</td>\n",
       "                        <td id=\"T_bf674_row3_col3\" class=\"data row3 col3\" >nan</td>\n",
       "                        <td id=\"T_bf674_row3_col4\" class=\"data row3 col4\" >nan</td>\n",
       "                        <td id=\"T_bf674_row3_col5\" class=\"data row3 col5\" >44.840000</td>\n",
       "                        <td id=\"T_bf674_row3_col6\" class=\"data row3 col6\" >9.760000</td>\n",
       "                        <td id=\"T_bf674_row3_col7\" class=\"data row3 col7\" >18.000000</td>\n",
       "                        <td id=\"T_bf674_row3_col8\" class=\"data row3 col8\" >45.000000</td>\n",
       "                        <td id=\"T_bf674_row3_col9\" class=\"data row3 col9\" >51.000000</td>\n",
       "                        <td id=\"T_bf674_row3_col10\" class=\"data row3 col10\" >58.000000</td>\n",
       "                        <td id=\"T_bf674_row3_col11\" class=\"data row3 col11\" >84.000000</td>\n",
       "                        <td id=\"T_bf674_row3_col12\" class=\"data row3 col12\" >Int64</td>\n",
       "                        <td id=\"T_bf674_row3_col13\" class=\"data row3 col13\" >0</td>\n",
       "                        <td id=\"T_bf674_row3_col14\" class=\"data row3 col14\" >58</td>\n",
       "            </tr>\n",
       "            <tr>\n",
       "                        <th id=\"T_bf674_level0_row4\" class=\"row_heading level0 row4\" >4</th>\n",
       "                        <td id=\"T_bf674_row4_col0\" class=\"data row4 col0\" >tenure</td>\n",
       "                        <td id=\"T_bf674_row4_col1\" class=\"data row4 col1\" >2037.000000</td>\n",
       "                        <td id=\"T_bf674_row4_col2\" class=\"data row4 col2\" >nan</td>\n",
       "                        <td id=\"T_bf674_row4_col3\" class=\"data row4 col3\" >nan</td>\n",
       "                        <td id=\"T_bf674_row4_col4\" class=\"data row4 col4\" >nan</td>\n",
       "                        <td id=\"T_bf674_row4_col5\" class=\"data row4 col5\" >4.880000</td>\n",
       "                        <td id=\"T_bf674_row4_col6\" class=\"data row4 col6\" >2.810000</td>\n",
       "                        <td id=\"T_bf674_row4_col7\" class=\"data row4 col7\" >0.000000</td>\n",
       "                        <td id=\"T_bf674_row4_col8\" class=\"data row4 col8\" >5.000000</td>\n",
       "                        <td id=\"T_bf674_row4_col9\" class=\"data row4 col9\" >7.000000</td>\n",
       "                        <td id=\"T_bf674_row4_col10\" class=\"data row4 col10\" >9.000000</td>\n",
       "                        <td id=\"T_bf674_row4_col11\" class=\"data row4 col11\" >10.000000</td>\n",
       "                        <td id=\"T_bf674_row4_col12\" class=\"data row4 col12\" >int64</td>\n",
       "                        <td id=\"T_bf674_row4_col13\" class=\"data row4 col13\" >0</td>\n",
       "                        <td id=\"T_bf674_row4_col14\" class=\"data row4 col14\" >11</td>\n",
       "            </tr>\n",
       "            <tr>\n",
       "                        <th id=\"T_bf674_level0_row5\" class=\"row_heading level0 row5\" >5</th>\n",
       "                        <td id=\"T_bf674_row5_col0\" class=\"data row5 col0\" >balance</td>\n",
       "                        <td id=\"T_bf674_row5_col1\" class=\"data row5 col1\" >2037.000000</td>\n",
       "                        <td id=\"T_bf674_row5_col2\" class=\"data row5 col2\" >nan</td>\n",
       "                        <td id=\"T_bf674_row5_col3\" class=\"data row5 col3\" >nan</td>\n",
       "                        <td id=\"T_bf674_row5_col4\" class=\"data row5 col4\" >nan</td>\n",
       "                        <td id=\"T_bf674_row5_col5\" class=\"data row5 col5\" >91108.170000</td>\n",
       "                        <td id=\"T_bf674_row5_col6\" class=\"data row5 col6\" >58360.600000</td>\n",
       "                        <td id=\"T_bf674_row5_col7\" class=\"data row5 col7\" >0.000000</td>\n",
       "                        <td id=\"T_bf674_row5_col8\" class=\"data row5 col8\" >109349.000000</td>\n",
       "                        <td id=\"T_bf674_row5_col9\" class=\"data row5 col9\" >131433.000000</td>\n",
       "                        <td id=\"T_bf674_row5_col10\" class=\"data row5 col10\" >152080.000000</td>\n",
       "                        <td id=\"T_bf674_row5_col11\" class=\"data row5 col11\" >250898.000000</td>\n",
       "                        <td id=\"T_bf674_row5_col12\" class=\"data row5 col12\" >int64</td>\n",
       "                        <td id=\"T_bf674_row5_col13\" class=\"data row5 col13\" >0</td>\n",
       "                        <td id=\"T_bf674_row5_col14\" class=\"data row5 col14\" >1527</td>\n",
       "            </tr>\n",
       "            <tr>\n",
       "                        <th id=\"T_bf674_level0_row6\" class=\"row_heading level0 row6\" >6</th>\n",
       "                        <td id=\"T_bf674_row6_col0\" class=\"data row6 col0\" >num_of_products</td>\n",
       "                        <td id=\"T_bf674_row6_col1\" class=\"data row6 col1\" >2037.000000</td>\n",
       "                        <td id=\"T_bf674_row6_col2\" class=\"data row6 col2\" >nan</td>\n",
       "                        <td id=\"T_bf674_row6_col3\" class=\"data row6 col3\" >nan</td>\n",
       "                        <td id=\"T_bf674_row6_col4\" class=\"data row6 col4\" >nan</td>\n",
       "                        <td id=\"T_bf674_row6_col5\" class=\"data row6 col5\" >1.480000</td>\n",
       "                        <td id=\"T_bf674_row6_col6\" class=\"data row6 col6\" >0.800000</td>\n",
       "                        <td id=\"T_bf674_row6_col7\" class=\"data row6 col7\" >1.000000</td>\n",
       "                        <td id=\"T_bf674_row6_col8\" class=\"data row6 col8\" >1.000000</td>\n",
       "                        <td id=\"T_bf674_row6_col9\" class=\"data row6 col9\" >2.000000</td>\n",
       "                        <td id=\"T_bf674_row6_col10\" class=\"data row6 col10\" >3.000000</td>\n",
       "                        <td id=\"T_bf674_row6_col11\" class=\"data row6 col11\" >4.000000</td>\n",
       "                        <td id=\"T_bf674_row6_col12\" class=\"data row6 col12\" >Int64</td>\n",
       "                        <td id=\"T_bf674_row6_col13\" class=\"data row6 col13\" >0</td>\n",
       "                        <td id=\"T_bf674_row6_col14\" class=\"data row6 col14\" >4</td>\n",
       "            </tr>\n",
       "            <tr>\n",
       "                        <th id=\"T_bf674_level0_row7\" class=\"row_heading level0 row7\" >7</th>\n",
       "                        <td id=\"T_bf674_row7_col0\" class=\"data row7 col0\" >has_cr_card</td>\n",
       "                        <td id=\"T_bf674_row7_col1\" class=\"data row7 col1\" >2037.000000</td>\n",
       "                        <td id=\"T_bf674_row7_col2\" class=\"data row7 col2\" >nan</td>\n",
       "                        <td id=\"T_bf674_row7_col3\" class=\"data row7 col3\" >nan</td>\n",
       "                        <td id=\"T_bf674_row7_col4\" class=\"data row7 col4\" >nan</td>\n",
       "                        <td id=\"T_bf674_row7_col5\" class=\"data row7 col5\" >0.700000</td>\n",
       "                        <td id=\"T_bf674_row7_col6\" class=\"data row7 col6\" >0.460000</td>\n",
       "                        <td id=\"T_bf674_row7_col7\" class=\"data row7 col7\" >0.000000</td>\n",
       "                        <td id=\"T_bf674_row7_col8\" class=\"data row7 col8\" >1.000000</td>\n",
       "                        <td id=\"T_bf674_row7_col9\" class=\"data row7 col9\" >1.000000</td>\n",
       "                        <td id=\"T_bf674_row7_col10\" class=\"data row7 col10\" >1.000000</td>\n",
       "                        <td id=\"T_bf674_row7_col11\" class=\"data row7 col11\" >1.000000</td>\n",
       "                        <td id=\"T_bf674_row7_col12\" class=\"data row7 col12\" >Int64</td>\n",
       "                        <td id=\"T_bf674_row7_col13\" class=\"data row7 col13\" >0</td>\n",
       "                        <td id=\"T_bf674_row7_col14\" class=\"data row7 col14\" >2</td>\n",
       "            </tr>\n",
       "            <tr>\n",
       "                        <th id=\"T_bf674_level0_row8\" class=\"row_heading level0 row8\" >8</th>\n",
       "                        <td id=\"T_bf674_row8_col0\" class=\"data row8 col0\" >is_active_member</td>\n",
       "                        <td id=\"T_bf674_row8_col1\" class=\"data row8 col1\" >2037.000000</td>\n",
       "                        <td id=\"T_bf674_row8_col2\" class=\"data row8 col2\" >nan</td>\n",
       "                        <td id=\"T_bf674_row8_col3\" class=\"data row8 col3\" >nan</td>\n",
       "                        <td id=\"T_bf674_row8_col4\" class=\"data row8 col4\" >nan</td>\n",
       "                        <td id=\"T_bf674_row8_col5\" class=\"data row8 col5\" >0.360000</td>\n",
       "                        <td id=\"T_bf674_row8_col6\" class=\"data row8 col6\" >0.480000</td>\n",
       "                        <td id=\"T_bf674_row8_col7\" class=\"data row8 col7\" >0.000000</td>\n",
       "                        <td id=\"T_bf674_row8_col8\" class=\"data row8 col8\" >0.000000</td>\n",
       "                        <td id=\"T_bf674_row8_col9\" class=\"data row8 col9\" >1.000000</td>\n",
       "                        <td id=\"T_bf674_row8_col10\" class=\"data row8 col10\" >1.000000</td>\n",
       "                        <td id=\"T_bf674_row8_col11\" class=\"data row8 col11\" >1.000000</td>\n",
       "                        <td id=\"T_bf674_row8_col12\" class=\"data row8 col12\" >Int64</td>\n",
       "                        <td id=\"T_bf674_row8_col13\" class=\"data row8 col13\" >0</td>\n",
       "                        <td id=\"T_bf674_row8_col14\" class=\"data row8 col14\" >2</td>\n",
       "            </tr>\n",
       "            <tr>\n",
       "                        <th id=\"T_bf674_level0_row9\" class=\"row_heading level0 row9\" >9</th>\n",
       "                        <td id=\"T_bf674_row9_col0\" class=\"data row9 col0\" >estimated_salary</td>\n",
       "                        <td id=\"T_bf674_row9_col1\" class=\"data row9 col1\" >2037.000000</td>\n",
       "                        <td id=\"T_bf674_row9_col2\" class=\"data row9 col2\" >nan</td>\n",
       "                        <td id=\"T_bf674_row9_col3\" class=\"data row9 col3\" >nan</td>\n",
       "                        <td id=\"T_bf674_row9_col4\" class=\"data row9 col4\" >nan</td>\n",
       "                        <td id=\"T_bf674_row9_col5\" class=\"data row9 col5\" >101465.180000</td>\n",
       "                        <td id=\"T_bf674_row9_col6\" class=\"data row9 col6\" >57912.420000</td>\n",
       "                        <td id=\"T_bf674_row9_col7\" class=\"data row9 col7\" >11.000000</td>\n",
       "                        <td id=\"T_bf674_row9_col8\" class=\"data row9 col8\" >102460.000000</td>\n",
       "                        <td id=\"T_bf674_row9_col9\" class=\"data row9 col9\" >152422.000000</td>\n",
       "                        <td id=\"T_bf674_row9_col10\" class=\"data row9 col10\" >180168.800000</td>\n",
       "                        <td id=\"T_bf674_row9_col11\" class=\"data row9 col11\" >199808.000000</td>\n",
       "                        <td id=\"T_bf674_row9_col12\" class=\"data row9 col12\" >int64</td>\n",
       "                        <td id=\"T_bf674_row9_col13\" class=\"data row9 col13\" >0</td>\n",
       "                        <td id=\"T_bf674_row9_col14\" class=\"data row9 col14\" >2031</td>\n",
       "            </tr>\n",
       "            <tr>\n",
       "                        <th id=\"T_bf674_level0_row10\" class=\"row_heading level0 row10\" >10</th>\n",
       "                        <td id=\"T_bf674_row10_col0\" class=\"data row10 col0\" >exited</td>\n",
       "                        <td id=\"T_bf674_row10_col1\" class=\"data row10 col1\" >2037.000000</td>\n",
       "                        <td id=\"T_bf674_row10_col2\" class=\"data row10 col2\" >nan</td>\n",
       "                        <td id=\"T_bf674_row10_col3\" class=\"data row10 col3\" >nan</td>\n",
       "                        <td id=\"T_bf674_row10_col4\" class=\"data row10 col4\" >nan</td>\n",
       "                        <td id=\"T_bf674_row10_col5\" class=\"data row10 col5\" >1.000000</td>\n",
       "                        <td id=\"T_bf674_row10_col6\" class=\"data row10 col6\" >0.000000</td>\n",
       "                        <td id=\"T_bf674_row10_col7\" class=\"data row10 col7\" >1.000000</td>\n",
       "                        <td id=\"T_bf674_row10_col8\" class=\"data row10 col8\" >1.000000</td>\n",
       "                        <td id=\"T_bf674_row10_col9\" class=\"data row10 col9\" >1.000000</td>\n",
       "                        <td id=\"T_bf674_row10_col10\" class=\"data row10 col10\" >1.000000</td>\n",
       "                        <td id=\"T_bf674_row10_col11\" class=\"data row10 col11\" >1.000000</td>\n",
       "                        <td id=\"T_bf674_row10_col12\" class=\"data row10 col12\" >Int64</td>\n",
       "                        <td id=\"T_bf674_row10_col13\" class=\"data row10 col13\" >0</td>\n",
       "                        <td id=\"T_bf674_row10_col14\" class=\"data row10 col14\" >1</td>\n",
       "            </tr>\n",
       "            <tr>\n",
       "                        <th id=\"T_bf674_level0_row11\" class=\"row_heading level0 row11\" >11</th>\n",
       "                        <td id=\"T_bf674_row11_col0\" class=\"data row11 col0\" >credit_score</td>\n",
       "                        <td id=\"T_bf674_row11_col1\" class=\"data row11 col1\" >7963.000000</td>\n",
       "                        <td id=\"T_bf674_row11_col2\" class=\"data row11 col2\" >nan</td>\n",
       "                        <td id=\"T_bf674_row11_col3\" class=\"data row11 col3\" >nan</td>\n",
       "                        <td id=\"T_bf674_row11_col4\" class=\"data row11 col4\" >nan</td>\n",
       "                        <td id=\"T_bf674_row11_col5\" class=\"data row11 col5\" >651.850000</td>\n",
       "                        <td id=\"T_bf674_row11_col6\" class=\"data row11 col6\" >95.650000</td>\n",
       "                        <td id=\"T_bf674_row11_col7\" class=\"data row11 col7\" >405.000000</td>\n",
       "                        <td id=\"T_bf674_row11_col8\" class=\"data row11 col8\" >653.000000</td>\n",
       "                        <td id=\"T_bf674_row11_col9\" class=\"data row11 col9\" >718.000000</td>\n",
       "                        <td id=\"T_bf674_row11_col10\" class=\"data row11 col10\" >778.000000</td>\n",
       "                        <td id=\"T_bf674_row11_col11\" class=\"data row11 col11\" >850.000000</td>\n",
       "                        <td id=\"T_bf674_row11_col12\" class=\"data row11 col12\" >Int64</td>\n",
       "                        <td id=\"T_bf674_row11_col13\" class=\"data row11 col13\" >0</td>\n",
       "                        <td id=\"T_bf674_row11_col14\" class=\"data row11 col14\" >442</td>\n",
       "            </tr>\n",
       "            <tr>\n",
       "                        <th id=\"T_bf674_level0_row12\" class=\"row_heading level0 row12\" >12</th>\n",
       "                        <td id=\"T_bf674_row12_col0\" class=\"data row12 col0\" >geography</td>\n",
       "                        <td id=\"T_bf674_row12_col1\" class=\"data row12 col1\" >7963</td>\n",
       "                        <td id=\"T_bf674_row12_col2\" class=\"data row12 col2\" >3</td>\n",
       "                        <td id=\"T_bf674_row12_col3\" class=\"data row12 col3\" >France</td>\n",
       "                        <td id=\"T_bf674_row12_col4\" class=\"data row12 col4\" >4204</td>\n",
       "                        <td id=\"T_bf674_row12_col5\" class=\"data row12 col5\" >nan</td>\n",
       "                        <td id=\"T_bf674_row12_col6\" class=\"data row12 col6\" >nan</td>\n",
       "                        <td id=\"T_bf674_row12_col7\" class=\"data row12 col7\" >nan</td>\n",
       "                        <td id=\"T_bf674_row12_col8\" class=\"data row12 col8\" >nan</td>\n",
       "                        <td id=\"T_bf674_row12_col9\" class=\"data row12 col9\" >nan</td>\n",
       "                        <td id=\"T_bf674_row12_col10\" class=\"data row12 col10\" >nan</td>\n",
       "                        <td id=\"T_bf674_row12_col11\" class=\"data row12 col11\" >nan</td>\n",
       "                        <td id=\"T_bf674_row12_col12\" class=\"data row12 col12\" >string</td>\n",
       "                        <td id=\"T_bf674_row12_col13\" class=\"data row12 col13\" >0</td>\n",
       "                        <td id=\"T_bf674_row12_col14\" class=\"data row12 col14\" >3</td>\n",
       "            </tr>\n",
       "            <tr>\n",
       "                        <th id=\"T_bf674_level0_row13\" class=\"row_heading level0 row13\" >13</th>\n",
       "                        <td id=\"T_bf674_row13_col0\" class=\"data row13 col0\" >gender</td>\n",
       "                        <td id=\"T_bf674_row13_col1\" class=\"data row13 col1\" >7963</td>\n",
       "                        <td id=\"T_bf674_row13_col2\" class=\"data row13 col2\" >2</td>\n",
       "                        <td id=\"T_bf674_row13_col3\" class=\"data row13 col3\" >Male</td>\n",
       "                        <td id=\"T_bf674_row13_col4\" class=\"data row13 col4\" >4559</td>\n",
       "                        <td id=\"T_bf674_row13_col5\" class=\"data row13 col5\" >nan</td>\n",
       "                        <td id=\"T_bf674_row13_col6\" class=\"data row13 col6\" >nan</td>\n",
       "                        <td id=\"T_bf674_row13_col7\" class=\"data row13 col7\" >nan</td>\n",
       "                        <td id=\"T_bf674_row13_col8\" class=\"data row13 col8\" >nan</td>\n",
       "                        <td id=\"T_bf674_row13_col9\" class=\"data row13 col9\" >nan</td>\n",
       "                        <td id=\"T_bf674_row13_col10\" class=\"data row13 col10\" >nan</td>\n",
       "                        <td id=\"T_bf674_row13_col11\" class=\"data row13 col11\" >nan</td>\n",
       "                        <td id=\"T_bf674_row13_col12\" class=\"data row13 col12\" >string</td>\n",
       "                        <td id=\"T_bf674_row13_col13\" class=\"data row13 col13\" >0</td>\n",
       "                        <td id=\"T_bf674_row13_col14\" class=\"data row13 col14\" >2</td>\n",
       "            </tr>\n",
       "            <tr>\n",
       "                        <th id=\"T_bf674_level0_row14\" class=\"row_heading level0 row14\" >14</th>\n",
       "                        <td id=\"T_bf674_row14_col0\" class=\"data row14 col0\" >age</td>\n",
       "                        <td id=\"T_bf674_row14_col1\" class=\"data row14 col1\" >7963.000000</td>\n",
       "                        <td id=\"T_bf674_row14_col2\" class=\"data row14 col2\" >nan</td>\n",
       "                        <td id=\"T_bf674_row14_col3\" class=\"data row14 col3\" >nan</td>\n",
       "                        <td id=\"T_bf674_row14_col4\" class=\"data row14 col4\" >nan</td>\n",
       "                        <td id=\"T_bf674_row14_col5\" class=\"data row14 col5\" >37.410000</td>\n",
       "                        <td id=\"T_bf674_row14_col6\" class=\"data row14 col6\" >10.130000</td>\n",
       "                        <td id=\"T_bf674_row14_col7\" class=\"data row14 col7\" >18.000000</td>\n",
       "                        <td id=\"T_bf674_row14_col8\" class=\"data row14 col8\" >36.000000</td>\n",
       "                        <td id=\"T_bf674_row14_col9\" class=\"data row14 col9\" >41.000000</td>\n",
       "                        <td id=\"T_bf674_row14_col10\" class=\"data row14 col10\" >49.000000</td>\n",
       "                        <td id=\"T_bf674_row14_col11\" class=\"data row14 col11\" >92.000000</td>\n",
       "                        <td id=\"T_bf674_row14_col12\" class=\"data row14 col12\" >Int64</td>\n",
       "                        <td id=\"T_bf674_row14_col13\" class=\"data row14 col13\" >0</td>\n",
       "                        <td id=\"T_bf674_row14_col14\" class=\"data row14 col14\" >70</td>\n",
       "            </tr>\n",
       "            <tr>\n",
       "                        <th id=\"T_bf674_level0_row15\" class=\"row_heading level0 row15\" >15</th>\n",
       "                        <td id=\"T_bf674_row15_col0\" class=\"data row15 col0\" >tenure</td>\n",
       "                        <td id=\"T_bf674_row15_col1\" class=\"data row15 col1\" >7963.000000</td>\n",
       "                        <td id=\"T_bf674_row15_col2\" class=\"data row15 col2\" >nan</td>\n",
       "                        <td id=\"T_bf674_row15_col3\" class=\"data row15 col3\" >nan</td>\n",
       "                        <td id=\"T_bf674_row15_col4\" class=\"data row15 col4\" >nan</td>\n",
       "                        <td id=\"T_bf674_row15_col5\" class=\"data row15 col5\" >4.970000</td>\n",
       "                        <td id=\"T_bf674_row15_col6\" class=\"data row15 col6\" >2.760000</td>\n",
       "                        <td id=\"T_bf674_row15_col7\" class=\"data row15 col7\" >0.000000</td>\n",
       "                        <td id=\"T_bf674_row15_col8\" class=\"data row15 col8\" >5.000000</td>\n",
       "                        <td id=\"T_bf674_row15_col9\" class=\"data row15 col9\" >7.000000</td>\n",
       "                        <td id=\"T_bf674_row15_col10\" class=\"data row15 col10\" >9.000000</td>\n",
       "                        <td id=\"T_bf674_row15_col11\" class=\"data row15 col11\" >10.000000</td>\n",
       "                        <td id=\"T_bf674_row15_col12\" class=\"data row15 col12\" >int64</td>\n",
       "                        <td id=\"T_bf674_row15_col13\" class=\"data row15 col13\" >0</td>\n",
       "                        <td id=\"T_bf674_row15_col14\" class=\"data row15 col14\" >11</td>\n",
       "            </tr>\n",
       "            <tr>\n",
       "                        <th id=\"T_bf674_level0_row16\" class=\"row_heading level0 row16\" >16</th>\n",
       "                        <td id=\"T_bf674_row16_col0\" class=\"data row16 col0\" >balance</td>\n",
       "                        <td id=\"T_bf674_row16_col1\" class=\"data row16 col1\" >7963.000000</td>\n",
       "                        <td id=\"T_bf674_row16_col2\" class=\"data row16 col2\" >nan</td>\n",
       "                        <td id=\"T_bf674_row16_col3\" class=\"data row16 col3\" >nan</td>\n",
       "                        <td id=\"T_bf674_row16_col4\" class=\"data row16 col4\" >nan</td>\n",
       "                        <td id=\"T_bf674_row16_col5\" class=\"data row16 col5\" >72744.990000</td>\n",
       "                        <td id=\"T_bf674_row16_col6\" class=\"data row16 col6\" >62847.820000</td>\n",
       "                        <td id=\"T_bf674_row16_col7\" class=\"data row16 col7\" >0.000000</td>\n",
       "                        <td id=\"T_bf674_row16_col8\" class=\"data row16 col8\" >92072.000000</td>\n",
       "                        <td id=\"T_bf674_row16_col9\" class=\"data row16 col9\" >126410.000000</td>\n",
       "                        <td id=\"T_bf674_row16_col10\" class=\"data row16 col10\" >148729.400000</td>\n",
       "                        <td id=\"T_bf674_row16_col11\" class=\"data row16 col11\" >221532.000000</td>\n",
       "                        <td id=\"T_bf674_row16_col12\" class=\"data row16 col12\" >int64</td>\n",
       "                        <td id=\"T_bf674_row16_col13\" class=\"data row16 col13\" >0</td>\n",
       "                        <td id=\"T_bf674_row16_col14\" class=\"data row16 col14\" >4748</td>\n",
       "            </tr>\n",
       "            <tr>\n",
       "                        <th id=\"T_bf674_level0_row17\" class=\"row_heading level0 row17\" >17</th>\n",
       "                        <td id=\"T_bf674_row17_col0\" class=\"data row17 col0\" >num_of_products</td>\n",
       "                        <td id=\"T_bf674_row17_col1\" class=\"data row17 col1\" >7963.000000</td>\n",
       "                        <td id=\"T_bf674_row17_col2\" class=\"data row17 col2\" >nan</td>\n",
       "                        <td id=\"T_bf674_row17_col3\" class=\"data row17 col3\" >nan</td>\n",
       "                        <td id=\"T_bf674_row17_col4\" class=\"data row17 col4\" >nan</td>\n",
       "                        <td id=\"T_bf674_row17_col5\" class=\"data row17 col5\" >1.540000</td>\n",
       "                        <td id=\"T_bf674_row17_col6\" class=\"data row17 col6\" >0.510000</td>\n",
       "                        <td id=\"T_bf674_row17_col7\" class=\"data row17 col7\" >1.000000</td>\n",
       "                        <td id=\"T_bf674_row17_col8\" class=\"data row17 col8\" >2.000000</td>\n",
       "                        <td id=\"T_bf674_row17_col9\" class=\"data row17 col9\" >2.000000</td>\n",
       "                        <td id=\"T_bf674_row17_col10\" class=\"data row17 col10\" >2.000000</td>\n",
       "                        <td id=\"T_bf674_row17_col11\" class=\"data row17 col11\" >3.000000</td>\n",
       "                        <td id=\"T_bf674_row17_col12\" class=\"data row17 col12\" >Int64</td>\n",
       "                        <td id=\"T_bf674_row17_col13\" class=\"data row17 col13\" >0</td>\n",
       "                        <td id=\"T_bf674_row17_col14\" class=\"data row17 col14\" >3</td>\n",
       "            </tr>\n",
       "            <tr>\n",
       "                        <th id=\"T_bf674_level0_row18\" class=\"row_heading level0 row18\" >18</th>\n",
       "                        <td id=\"T_bf674_row18_col0\" class=\"data row18 col0\" >has_cr_card</td>\n",
       "                        <td id=\"T_bf674_row18_col1\" class=\"data row18 col1\" >7963.000000</td>\n",
       "                        <td id=\"T_bf674_row18_col2\" class=\"data row18 col2\" >nan</td>\n",
       "                        <td id=\"T_bf674_row18_col3\" class=\"data row18 col3\" >nan</td>\n",
       "                        <td id=\"T_bf674_row18_col4\" class=\"data row18 col4\" >nan</td>\n",
       "                        <td id=\"T_bf674_row18_col5\" class=\"data row18 col5\" >0.710000</td>\n",
       "                        <td id=\"T_bf674_row18_col6\" class=\"data row18 col6\" >0.460000</td>\n",
       "                        <td id=\"T_bf674_row18_col7\" class=\"data row18 col7\" >0.000000</td>\n",
       "                        <td id=\"T_bf674_row18_col8\" class=\"data row18 col8\" >1.000000</td>\n",
       "                        <td id=\"T_bf674_row18_col9\" class=\"data row18 col9\" >1.000000</td>\n",
       "                        <td id=\"T_bf674_row18_col10\" class=\"data row18 col10\" >1.000000</td>\n",
       "                        <td id=\"T_bf674_row18_col11\" class=\"data row18 col11\" >1.000000</td>\n",
       "                        <td id=\"T_bf674_row18_col12\" class=\"data row18 col12\" >Int64</td>\n",
       "                        <td id=\"T_bf674_row18_col13\" class=\"data row18 col13\" >0</td>\n",
       "                        <td id=\"T_bf674_row18_col14\" class=\"data row18 col14\" >2</td>\n",
       "            </tr>\n",
       "            <tr>\n",
       "                        <th id=\"T_bf674_level0_row19\" class=\"row_heading level0 row19\" >19</th>\n",
       "                        <td id=\"T_bf674_row19_col0\" class=\"data row19 col0\" >is_active_member</td>\n",
       "                        <td id=\"T_bf674_row19_col1\" class=\"data row19 col1\" >7963.000000</td>\n",
       "                        <td id=\"T_bf674_row19_col2\" class=\"data row19 col2\" >nan</td>\n",
       "                        <td id=\"T_bf674_row19_col3\" class=\"data row19 col3\" >nan</td>\n",
       "                        <td id=\"T_bf674_row19_col4\" class=\"data row19 col4\" >nan</td>\n",
       "                        <td id=\"T_bf674_row19_col5\" class=\"data row19 col5\" >0.550000</td>\n",
       "                        <td id=\"T_bf674_row19_col6\" class=\"data row19 col6\" >0.500000</td>\n",
       "                        <td id=\"T_bf674_row19_col7\" class=\"data row19 col7\" >0.000000</td>\n",
       "                        <td id=\"T_bf674_row19_col8\" class=\"data row19 col8\" >1.000000</td>\n",
       "                        <td id=\"T_bf674_row19_col9\" class=\"data row19 col9\" >1.000000</td>\n",
       "                        <td id=\"T_bf674_row19_col10\" class=\"data row19 col10\" >1.000000</td>\n",
       "                        <td id=\"T_bf674_row19_col11\" class=\"data row19 col11\" >1.000000</td>\n",
       "                        <td id=\"T_bf674_row19_col12\" class=\"data row19 col12\" >Int64</td>\n",
       "                        <td id=\"T_bf674_row19_col13\" class=\"data row19 col13\" >0</td>\n",
       "                        <td id=\"T_bf674_row19_col14\" class=\"data row19 col14\" >2</td>\n",
       "            </tr>\n",
       "            <tr>\n",
       "                        <th id=\"T_bf674_level0_row20\" class=\"row_heading level0 row20\" >20</th>\n",
       "                        <td id=\"T_bf674_row20_col0\" class=\"data row20 col0\" >estimated_salary</td>\n",
       "                        <td id=\"T_bf674_row20_col1\" class=\"data row20 col1\" >7963.000000</td>\n",
       "                        <td id=\"T_bf674_row20_col2\" class=\"data row20 col2\" >nan</td>\n",
       "                        <td id=\"T_bf674_row20_col3\" class=\"data row20 col3\" >nan</td>\n",
       "                        <td id=\"T_bf674_row20_col4\" class=\"data row20 col4\" >nan</td>\n",
       "                        <td id=\"T_bf674_row20_col5\" class=\"data row20 col5\" >99737.900000</td>\n",
       "                        <td id=\"T_bf674_row20_col6\" class=\"data row20 col6\" >57405.580000</td>\n",
       "                        <td id=\"T_bf674_row20_col7\" class=\"data row20 col7\" >90.000000</td>\n",
       "                        <td id=\"T_bf674_row20_col8\" class=\"data row20 col8\" >99645.000000</td>\n",
       "                        <td id=\"T_bf674_row20_col9\" class=\"data row20 col9\" >148609.500000</td>\n",
       "                        <td id=\"T_bf674_row20_col10\" class=\"data row20 col10\" >179452.600000</td>\n",
       "                        <td id=\"T_bf674_row20_col11\" class=\"data row20 col11\" >199992.000000</td>\n",
       "                        <td id=\"T_bf674_row20_col12\" class=\"data row20 col12\" >int64</td>\n",
       "                        <td id=\"T_bf674_row20_col13\" class=\"data row20 col13\" >0</td>\n",
       "                        <td id=\"T_bf674_row20_col14\" class=\"data row20 col14\" >7822</td>\n",
       "            </tr>\n",
       "            <tr>\n",
       "                        <th id=\"T_bf674_level0_row21\" class=\"row_heading level0 row21\" >21</th>\n",
       "                        <td id=\"T_bf674_row21_col0\" class=\"data row21 col0\" >exited</td>\n",
       "                        <td id=\"T_bf674_row21_col1\" class=\"data row21 col1\" >7963.000000</td>\n",
       "                        <td id=\"T_bf674_row21_col2\" class=\"data row21 col2\" >nan</td>\n",
       "                        <td id=\"T_bf674_row21_col3\" class=\"data row21 col3\" >nan</td>\n",
       "                        <td id=\"T_bf674_row21_col4\" class=\"data row21 col4\" >nan</td>\n",
       "                        <td id=\"T_bf674_row21_col5\" class=\"data row21 col5\" >0.000000</td>\n",
       "                        <td id=\"T_bf674_row21_col6\" class=\"data row21 col6\" >0.000000</td>\n",
       "                        <td id=\"T_bf674_row21_col7\" class=\"data row21 col7\" >0.000000</td>\n",
       "                        <td id=\"T_bf674_row21_col8\" class=\"data row21 col8\" >0.000000</td>\n",
       "                        <td id=\"T_bf674_row21_col9\" class=\"data row21 col9\" >0.000000</td>\n",
       "                        <td id=\"T_bf674_row21_col10\" class=\"data row21 col10\" >0.000000</td>\n",
       "                        <td id=\"T_bf674_row21_col11\" class=\"data row21 col11\" >0.000000</td>\n",
       "                        <td id=\"T_bf674_row21_col12\" class=\"data row21 col12\" >Int64</td>\n",
       "                        <td id=\"T_bf674_row21_col13\" class=\"data row21 col13\" >0</td>\n",
       "                        <td id=\"T_bf674_row21_col14\" class=\"data row21 col14\" >1</td>\n",
       "            </tr>\n",
       "    </tbody></table>"
      ],
      "text/plain": [
       "<pandas.io.formats.style.Styler at 0x7f741e9360d0>"
      ]
     },
     "execution_count": 10,
     "metadata": {},
     "output_type": "execute_result"
    }
   ],
   "source": [
    "def highlight(df_analyses):\n",
    "    ret = pd.DataFrame(\"\", index=df_analyses.index, columns=df_analyses.columns)\n",
    "    ret.loc[df_analyses[\"count\"] == 7963] = \"background-color: #99bafe\"\n",
    "    ret.loc[df_analyses[\"count\"] == 2037] = \"background-color: #f6a789\"\n",
    "    return ret\n",
    "\n",
    "(describe_full(df.query(\"exited == 1\"))\n",
    "     .append(describe_full(df.query(\"exited == 0\")))\n",
    "     .reset_index()\n",
    "     .style.apply(highlight, axis=None))"
   ]
  },
  {
   "cell_type": "markdown",
   "metadata": {},
   "source": [
    "Оба типа клиента (по факту оттока) почти не отличаются количеством лет `tenure`, а также фактом наличия кредитной карты. Это также подтвеждается коррелацией признаков.\n",
    "\n",
    "**Портрет пользователей, ушедших в отток**:\n",
    "- большинство (90%) имеют кредитный скоринг более 770\n",
    "- в оттоке в основном - женщины за 58 лет, проживающие в Германии\n",
    "- в среднем были клиентами банка в течение 4.8 лет\n",
    "- средний баланс на счету клиента - 91 тыс у.е., предполагаемая зп - 101 тыс у.е.\n",
    "- большинство имеют около трех банковских продуктов\n",
    "\n",
    "**Портрет оставшихся пользователей**:\n",
    "- в большинстве случаев - французы до 50 лет с кредитным скорингом -- порядка 778\n",
    "- в среднем являются клиентами банка около 5 лет\n",
    "- средний баланс на счету клиента - 73 тыс у.е., предполагаемая зп - 100 тыс у.е.\n",
    "- большинство имеют около двух банковских продуктов"
   ]
  },
  {
   "cell_type": "markdown",
   "metadata": {},
   "source": [
    "## Борьба с дисбалансом"
   ]
  },
  {
   "cell_type": "markdown",
   "metadata": {},
   "source": [
    "Как увидели выше, в датасете есть категориальные признаки (география клиента и его пол), которые необходимо преобразовать в численные. Например, методом порядкового кодирования `Ordinal Encoding`."
   ]
  },
  {
   "cell_type": "code",
   "execution_count": 11,
   "metadata": {},
   "outputs": [],
   "source": [
    "encoder = OrdinalEncoder()\n",
    "df = pd.DataFrame(encoder.fit_transform(df), columns=df.columns)"
   ]
  },
  {
   "cell_type": "markdown",
   "metadata": {},
   "source": [
    "Интересно посмотреть на отношение числа правильных ответов к размеру тестовой выборки (метрика `accuracy`). Для этого обучим модель решающего дерева и посчитаем значение метрики на валидационной выборке."
   ]
  },
  {
   "cell_type": "code",
   "execution_count": 12,
   "metadata": {},
   "outputs": [
    {
     "data": {
      "text/plain": [
       "'Доля правильных ответов: 0.7816'"
      ]
     },
     "metadata": {},
     "output_type": "display_data"
    },
    {
     "data": {
      "image/png": "[encoded data removed]",
      "text/plain": [
       "<Figure size 432x288 with 1 Axes>"
      ]
     },
     "metadata": {
      "needs_background": "light"
     },
     "output_type": "display_data"
    }
   ],
   "source": [
    "target = df['exited']\n",
    "features = df.drop('exited', axis=1)\n",
    "\n",
    "features_train, features_valid, target_train, target_valid = train_test_split(\n",
    "    features, target, test_size=0.25, random_state=12345)\n",
    "\n",
    "model = DecisionTreeClassifier(random_state=12345, class_weight='balanced') # получите предсказания модели\n",
    "model.fit(features_train, target_train)\n",
    "predicted_valid = model.predict(features_valid)\n",
    "accuracy_valid = accuracy_score(target_valid, predicted_valid)\n",
    "\n",
    "predicted_valid = pd.Series(model.predict(features_valid))\n",
    "class_frequency = predicted_valid.value_counts(normalize = True)\n",
    "\n",
    "display('Доля правильных ответов: %s' % accuracy_valid)\n",
    "\n",
    "sns.barplot(class_frequency.index, class_frequency.values)\n",
    "plt.xlabel('факт оттока клиента')\n",
    "plt.ylabel('доля')\n",
    "plt.title('Частота классов в результатах предстказаний решающего дерева')\n",
    "plt.show()"
   ]
  },
  {
   "cell_type": "markdown",
   "metadata": {},
   "source": [
    "По статистике (выше) 20.37% клиентов уходят в отток. Метрика `class_frequency` тоже ничего не изменила. Явно наблюдается дисбаланс классов, это плохо сказывается на обучении модели.\n",
    "\n",
    "Наглядно представить результаты вычислений метрик точности и полноты позволяет матрица ошибок.\n",
    "\n",
    "Напишем фукцию `metrics` для расчета метрик:\n",
    "- **recall** (способность модели обнаруживать выборки, относящиеся к классу Positive);\n",
    "- **precision** (классификация всех Positive семплов как Positive, не допуская ложных определений Negative как Positive);\n",
    "- **f1** (ошибка классификации)\n",
    "- **roc_auc** (показатель качества классификации)\n",
    "- **rmse** (средняя квадратная ошибка)\n",
    "- **r2** (коэффициент детерминации)\n",
    "- **mae** (среднее абсолютное отклонение)\n",
    "- если необходимо покажет график **roc** и **pr**\n",
    "\n",
    "А еще нарисуем матрицу ошибок отдельной функцией `cf_matrix`."
   ]
  },
  {
   "cell_type": "code",
   "execution_count": 13,
   "metadata": {},
   "outputs": [],
   "source": [
    "def metrics(target, features, show_roc, show_pr):\n",
    "    predicted = model.predict(features)\n",
    "    probabilities = model.predict_proba(features)\n",
    "    \n",
    "    recall =  recall_score(target, predicted)\n",
    "    precision = precision_score(target, predicted)\n",
    "    f1 = f1_score(target, predicted)\n",
    "    roc_auc = roc_auc_score(target, probabilities[:, 1], multi_class='ovr')\n",
    "    mse = mean_squared_error(target, predicted)\n",
    "    rmse = mse ** 0.5\n",
    "    r2 = r2_score(target, predicted)\n",
    "    r2_ = model.score(features, target)\n",
    "    mae = mean_absolute_error(target, predicted)\n",
    "    \n",
    "    if show_roc == 1:\n",
    "        fpr, tpr, thresholds = roc_curve(target, probabilities[:, 1])\n",
    "        plt.plot(fpr, tpr)\n",
    "        plt.plot([0, 1], [0, 1], linestyle='--')\n",
    "        plt.xlabel('False Positive Rate')\n",
    "        plt.ylabel('True Positive Rate')\n",
    "        plt.title('ROC-curve')\n",
    "        plt.show()\n",
    "\n",
    "    if show_pr == 1:\n",
    "        precision, recall, thresholds = precision_recall_curve(target, probabilities[:, 1])\n",
    "        fig, ax = plt.subplots()\n",
    "        ax.plot(recall, precision)\n",
    "        ax.set_title('Precision-Recall Curve')\n",
    "        ax.set_ylabel('Precision')\n",
    "        ax.set_xlabel('Recall')\n",
    "        plt.show()\n",
    "        \n",
    "    return recall, precision, f1, roc_auc, mse, rmse, r2, r2_, mae\n",
    "\n",
    "def cf_matrix(target, predicted):\n",
    "    cf_matrix = confusion_matrix(target, predicted)\n",
    "\n",
    "    group_names = ['True Neg','False Pos','False Neg','True Pos']\n",
    "    group_counts = ['{0:0.0f}'.format(value) for value in cf_matrix.flatten()]\n",
    "    group_percentages = ['{0:.2%}'.format(value) for value in cf_matrix.flatten()/np.sum(cf_matrix)]\n",
    "\n",
    "    labels = [f'{v1}\\n{v2}\\n{v3}' for v1, v2, v3 in zip(group_names, group_counts, group_percentages)]\n",
    "    labels = np.asarray(labels).reshape(2,2)\n",
    "    \n",
    "    sns.heatmap(cf_matrix, annot=labels, fmt='', cmap='coolwarm')\n",
    "    plt.title('Confusion matrix')\n",
    "    plt.show()  "
   ]
  },
  {
   "cell_type": "markdown",
   "metadata": {},
   "source": [
    "Нарисуем матрицу неточности, roc-кривую, pr-кривую и посчитаем все метрики."
   ]
  },
  {
   "cell_type": "code",
   "execution_count": 14,
   "metadata": {},
   "outputs": [
    {
     "data": {
      "image/png": "[encoded data removed]",
      "text/plain": [
       "<Figure size 432x288 with 2 Axes>"
      ]
     },
     "metadata": {
      "needs_background": "light"
     },
     "output_type": "display_data"
    },
    {
     "data": {
      "image/png": "[encoded data removed]",
      "text/plain": [
       "<Figure size 432x288 with 1 Axes>"
      ]
     },
     "metadata": {
      "needs_background": "light"
     },
     "output_type": "display_data"
    },
    {
     "data": {
      "image/png": "[encoded data removed]",
      "text/plain": [
       "<Figure size 432x288 with 1 Axes>"
      ]
     },
     "metadata": {
      "needs_background": "light"
     },
     "output_type": "display_data"
    },
    {
     "name": "stdout",
     "output_type": "stream",
     "text": [
      "recall: [1.         0.46728972 0.        ]\n",
      "precision: [0.214      0.48923679 1.        ]\n",
      "f1: 0.47801147227533464\n",
      "roc_auc: 0.6672326460726261\n",
      "mse: 0.2184\n",
      "rmse: 0.4673328578219169\n",
      "r2: -0.2984233430833987\n",
      "r2_: 0.7816\n",
      "mae: 0.2184\n"
     ]
    }
   ],
   "source": [
    "cf_matrix(target_valid, model.predict(features_valid))\n",
    "\n",
    "metric_lables = ('recall', 'precision', 'f1', 'roc_auc', 'mse', 'rmse', 'r2', 'r2_', 'mae')\n",
    "metric_dict = dict(zip(metric_lables, metrics(target_valid, features_valid, 1, 1)))\n",
    "\n",
    "for key in metric_dict.keys():\n",
    "    print(\"%s: %s\" % (key, metric_dict[key]))"
   ]
  },
  {
   "cell_type": "markdown",
   "metadata": {},
   "source": [
    "Ложноположительные и  ложноотрицательные цели имеют довольно большую долю (12.24% и 11.08% соответственно). Модель не сильно отличается от случайной (площадь под кривой ROC модели равна 0.66)."
   ]
  },
  {
   "cell_type": "markdown",
   "metadata": {},
   "source": [
    "Попробуем поднять порог и посмотрим, какими станут метрики."
   ]
  },
  {
   "cell_type": "code",
   "execution_count": 15,
   "metadata": {},
   "outputs": [
    {
     "name": "stdout",
     "output_type": "stream",
     "text": [
      "Порог = 0.00 | Точность = 0.214 | Полнота = 1.000\n",
      "Порог = 0.05 | Точность = 0.214 | Полнота = 1.000\n",
      "Порог = 0.10 | Точность = 0.217 | Полнота = 0.998\n",
      "Порог = 0.15 | Точность = 0.224 | Полнота = 0.991\n",
      "Порог = 0.20 | Точность = 0.235 | Полнота = 0.972\n",
      "Порог = 0.25 | Точность = 0.254 | Полнота = 0.938\n",
      "Порог = 0.30 | Точность = 0.273 | Полнота = 0.910\n",
      "Порог = 0.35 | Точность = 0.299 | Полнота = 0.884\n",
      "Порог = 0.40 | Точность = 0.316 | Полнота = 0.822\n",
      "Порог = 0.45 | Точность = 0.348 | Полнота = 0.770\n",
      "Порог = 0.50 | Точность = 0.375 | Полнота = 0.686\n",
      "Порог = 0.55 | Точность = 0.406 | Полнота = 0.615\n",
      "Порог = 0.60 | Точность = 0.427 | Полнота = 0.533\n",
      "Порог = 0.65 | Точность = 0.466 | Полнота = 0.465\n"
     ]
    }
   ],
   "source": [
    "model = LogisticRegression(random_state=12345, solver='liblinear', class_weight='balanced')\n",
    "model.fit(features_train, target_train)\n",
    "probabilities_valid = model.predict_proba(features_valid)\n",
    "probabilities_one_valid = probabilities_valid[:, 1]\n",
    "\n",
    "for threshold in np.arange(0, 0.7, 0.05):\n",
    "    predicted_valid = probabilities_one_valid > threshold\n",
    "    predicted = model.predict(features)    \n",
    "    precision = precision_score(target_valid, predicted_valid)\n",
    "    recall = recall_score(target_valid, predicted_valid)\n",
    "\n",
    "    print(\"Порог = {:.2f} | Точность = {:.3f} | Полнота = {:.3f}\".format(threshold, precision, recall))"
   ]
  },
  {
   "cell_type": "markdown",
   "metadata": {},
   "source": [
    "Чем выше порог, тем выше точность, а полнота, наоорот, уменьшается. Продолжать поднимать порог нет смысла."
   ]
  },
  {
   "cell_type": "markdown",
   "metadata": {},
   "source": [
    "Попробуем увеличить `upsample` выборку для увеличения метрик. Для этого напишем соответствующую функцию и попробуем подобрать лучшее значение увеличения выборки с помощью функции `map`, ну и матрицу нарисуем :)"
   ]
  },
  {
   "cell_type": "code",
   "execution_count": 16,
   "metadata": {},
   "outputs": [],
   "source": [
    "def upsampled(features, target, repeat, show_matrix, show_roc, show_pr):\n",
    "    ''' Функция увеличения выборки для увеличения метрик качества'''    \n",
    "    features_0 = features[target == 0]\n",
    "    features_1 = features[target == 1]\n",
    "    target_0 = target[target == 0]\n",
    "    target_1 = target[target == 1]\n",
    "    \n",
    "    # увеличение\n",
    "    features_up = pd.concat([features_0] + [features_1] * repeat)\n",
    "    target_up = pd.concat([target_0] + [target_1] * repeat)\n",
    "    \n",
    "    # перемешиваем\n",
    "    features_up, target_up = shuffle(features_up, target_up, random_state=12345)  \n",
    "    \n",
    "    model = LogisticRegression(random_state=12345, solver = 'liblinear', class_weight='balanced')\n",
    "    model.fit(features_up, target_up)\n",
    "    recall_up, precision_up, f1_up, roc_auc_up, _, _, _, _, _ = metrics(target_up, features_up, show_roc, show_pr)\n",
    " \n",
    "    # рисуем матрицу\n",
    "    cf_matrix(target_up, model.predict(features_up)) if show_matrix == 1 else None    \n",
    "    \n",
    "    return recall_up, precision_up, f1_up, roc_auc_up, repeat+1"
   ]
  },
  {
   "cell_type": "markdown",
   "metadata": {},
   "source": [
    "Увеличим выборку до 10 раз (проверим, какое значение увеличения оптимальное) и посмотрим на значения показателей."
   ]
  },
  {
   "cell_type": "code",
   "execution_count": 17,
   "metadata": {},
   "outputs": [
    {
     "data": {
      "text/plain": [
       "'Recall: 0.684421   Precision: 0.836226   F1: 0.752746   roc_auc: 0.756775   best_repeat: 10'"
      ]
     },
     "metadata": {},
     "output_type": "display_data"
    }
   ],
   "source": [
    "N = 10\n",
    "display('Recall: %g   Precision: %g   F1: %g   roc_auc: %g   best_repeat: %g' % \n",
    "                                                    max(map(upsampled, \n",
    "                                                            [features_train] * N, \n",
    "                                                            [target_train] * N, \n",
    "                                                            [i for i in range(1,N)],\n",
    "                                                            [0] * N,\n",
    "                                                            [0] * N,\n",
    "                                                            [0] * N)))"
   ]
  },
  {
   "cell_type": "code",
   "execution_count": 18,
   "metadata": {},
   "outputs": [
    {
     "data": {
      "image/png": "[encoded data removed]",
      "text/plain": [
       "<Figure size 432x288 with 1 Axes>"
      ]
     },
     "metadata": {
      "needs_background": "light"
     },
     "output_type": "display_data"
    },
    {
     "data": {
      "image/png": "[encoded data removed]",
      "text/plain": [
       "<Figure size 432x288 with 1 Axes>"
      ]
     },
     "metadata": {
      "needs_background": "light"
     },
     "output_type": "display_data"
    },
    {
     "data": {
      "image/png": "[encoded data removed]",
      "text/plain": [
       "<Figure size 432x288 with 2 Axes>"
      ]
     },
     "metadata": {
      "needs_background": "light"
     },
     "output_type": "display_data"
    },
    {
     "data": {
      "text/plain": [
       "(array([1.00000000e+00, 9.99334221e-01, 9.99334221e-01, ...,\n",
       "        6.65778961e-04, 6.65778961e-04, 0.00000000e+00]),\n",
       " array([0.71462556, 0.71448972, 0.71452373, ..., 0.90909091, 1.        ,\n",
       "        1.        ]),\n",
       " 0.7583357922691061,\n",
       " 0.7567747837827877,\n",
       " 11)"
      ]
     },
     "execution_count": 18,
     "metadata": {},
     "output_type": "execute_result"
    }
   ],
   "source": [
    "upsampled(features_train, target_train, 10, 1, 1, 1) # проверка"
   ]
  },
  {
   "cell_type": "markdown",
   "metadata": {},
   "source": [
    "Увеличение выборки дает результаты: **f1-мера** порядка 0.75, а это довольно высокое значение."
   ]
  },
  {
   "cell_type": "markdown",
   "metadata": {},
   "source": [
    "## Тестирование модели"
   ]
  },
  {
   "cell_type": "markdown",
   "metadata": {},
   "source": [
    "Проверим самую лучшую модель по итогам прошлого пункта (`случайный лес`) на обучающей выборке, делаем предсказание на валидационной выборке."
   ]
  },
  {
   "cell_type": "code",
   "execution_count": 19,
   "metadata": {},
   "outputs": [
    {
     "data": {
      "text/plain": [
       "RandomForestClassifier(class_weight='balanced', max_depth=10, n_estimators=20,\n",
       "                       random_state=12345)"
      ]
     },
     "execution_count": 19,
     "metadata": {},
     "output_type": "execute_result"
    }
   ],
   "source": [
    "model = RandomForestClassifier(random_state = 12345, n_estimators = 20, max_depth = 10, class_weight='balanced') \n",
    "model.fit(features_train, target_train) "
   ]
  },
  {
   "cell_type": "markdown",
   "metadata": {},
   "source": [
    "`Обучающая выборка`"
   ]
  },
  {
   "cell_type": "code",
   "execution_count": 20,
   "metadata": {},
   "outputs": [
    {
     "data": {
      "image/png": "[encoded data removed]",
      "text/plain": [
       "<Figure size 432x288 with 2 Axes>"
      ]
     },
     "metadata": {
      "needs_background": "light"
     },
     "output_type": "display_data"
    },
    {
     "data": {
      "image/png": "[encoded data removed]",
      "text/plain": [
       "<Figure size 432x288 with 1 Axes>"
      ]
     },
     "metadata": {
      "needs_background": "light"
     },
     "output_type": "display_data"
    },
    {
     "data": {
      "image/png": "[encoded data removed]",
      "text/plain": [
       "<Figure size 432x288 with 1 Axes>"
      ]
     },
     "metadata": {
      "needs_background": "light"
     },
     "output_type": "display_data"
    },
    {
     "name": "stdout",
     "output_type": "stream",
     "text": [
      "recall: [1.         0.99933422 0.99933422 ... 0.00599201 0.00532623 0.        ]\n",
      "precision: [0.2756975  0.27556453 0.27561513 ... 1.         1.         1.        ]\n",
      "f1: 0.7859605139454717\n",
      "roc_auc: 0.9631895718457416\n",
      "mse: 0.09106666666666667\n",
      "rmse: 0.30177254127350067\n",
      "r2: 0.43140167894402426\n",
      "r2_: 0.9089333333333334\n",
      "mae: 0.09106666666666667\n"
     ]
    }
   ],
   "source": [
    "cf_matrix(target_train, model.predict(features_train))\n",
    "\n",
    "metric_lables = ('recall', 'precision', 'f1', 'roc_auc', 'mse', 'rmse', 'r2', 'r2_', 'mae')\n",
    "metric_dict = dict(zip(metric_lables, metrics(target_train, features_train, 1, 1)))\n",
    "\n",
    "for key in metric_dict.keys():\n",
    "    print(\"%s: %s\" % (key, metric_dict[key]))"
   ]
  },
  {
   "cell_type": "markdown",
   "metadata": {},
   "source": [
    "`Валидационная выборка`"
   ]
  },
  {
   "cell_type": "code",
   "execution_count": 21,
   "metadata": {},
   "outputs": [
    {
     "data": {
      "image/png": "[encoded data removed]",
      "text/plain": [
       "<Figure size 432x288 with 2 Axes>"
      ]
     },
     "metadata": {
      "needs_background": "light"
     },
     "output_type": "display_data"
    },
    {
     "data": {
      "image/png": "[encoded data removed]",
      "text/plain": [
       "<Figure size 432x288 with 1 Axes>"
      ]
     },
     "metadata": {
      "needs_background": "light"
     },
     "output_type": "display_data"
    },
    {
     "data": {
      "image/png": "[encoded data removed]",
      "text/plain": [
       "<Figure size 432x288 with 1 Axes>"
      ]
     },
     "metadata": {
      "needs_background": "light"
     },
     "output_type": "display_data"
    },
    {
     "name": "stdout",
     "output_type": "stream",
     "text": [
      "recall: [1.         0.99813084 0.99813084 ... 0.00373832 0.00186916 0.        ]\n",
      "precision: [0.21477318 0.21445783 0.21454399 ... 1.         1.         1.        ]\n",
      "f1: 0.6191780821917809\n",
      "roc_auc: 0.8528667570331264\n",
      "mse: 0.1668\n",
      "rmse: 0.40841155713324273\n",
      "r2: 0.008347007205536161\n",
      "r2_: 0.8332\n",
      "mae: 0.1668\n"
     ]
    }
   ],
   "source": [
    "cf_matrix(target_valid, model.predict(features_valid))\n",
    "\n",
    "metric_lables = ('recall', 'precision', 'f1', 'roc_auc', 'mse', 'rmse', 'r2', 'r2_', 'mae')\n",
    "metric_dict = dict(zip(metric_lables, metrics(target_valid, features_valid, 1, 1)))\n",
    "\n",
    "for key in metric_dict.keys():\n",
    "    print(\"%s: %s\" % (key, metric_dict[key]))"
   ]
  },
  {
   "cell_type": "markdown",
   "metadata": {},
   "source": [
    "В итоге мы добились неплохих результатов: \n",
    "- исследовали баланс классов,\n",
    "- учли их дисбаланс,\n",
    "- получили подтвержение качества модели, доказав это расчетом нужных метрик (f1-мера выше 0.59)."
   ]
  },
  {
   "cell_type": "markdown",
   "metadata": {},
   "source": [
    "## Чек-лист готовности проекта"
   ]
  },
  {
   "cell_type": "markdown",
   "metadata": {},
   "source": [
    "Поставьте 'x' в выполненных пунктах. Далее нажмите Shift+Enter."
   ]
  },
  {
   "cell_type": "markdown",
   "metadata": {},
   "source": [
    "- [x]  Jupyter Notebook открыт\n",
    "- [ ]  Весь код выполняется без ошибок\n",
    "- [ ]  Ячейки с кодом расположены в порядке исполнения\n",
    "- [ ]  Выполнен шаг 1: данные подготовлены\n",
    "- [ ]  Выполнен шаг 2: задача исследована\n",
    "    - [ ]  Исследован баланс классов\n",
    "    - [ ]  Изучены модели без учёта дисбаланса\n",
    "    - [ ]  Написаны выводы по результатам исследования\n",
    "- [ ]  Выполнен шаг 3: учтён дисбаланс\n",
    "    - [ ]  Применено несколько способов борьбы с дисбалансом\n",
    "    - [ ]  Написаны выводы по результатам исследования\n",
    "- [ ]  Выполнен шаг 4: проведено тестирование\n",
    "- [ ]  Удалось достичь *F1*-меры не менее 0.59\n",
    "- [ ]  Исследована метрика *AUC-ROC*"
   ]
  },
  {
   "cell_type": "code",
   "execution_count": null,
   "metadata": {},
   "outputs": [],
   "source": []
  }
 ],
 "metadata": {
  "ExecuteTimeLog": [
   {
    "duration": 1733,
    "start_time": "2022-03-28T06:35:37.408Z"
   },
   {
    "duration": 42,
    "start_time": "2022-03-28T06:36:05.743Z"
   },
   {
    "duration": 2550,
    "start_time": "2022-03-28T06:37:47.651Z"
   },
   {
    "duration": 15,
    "start_time": "2022-03-28T06:38:57.340Z"
   },
   {
    "duration": 8,
    "start_time": "2022-03-28T06:39:14.692Z"
   },
   {
    "duration": 5,
    "start_time": "2022-03-28T06:39:20.971Z"
   },
   {
    "duration": 32490,
    "start_time": "2022-03-28T06:39:36.885Z"
   },
   {
    "duration": 10,
    "start_time": "2022-03-28T06:42:40.247Z"
   },
   {
    "duration": 52200,
    "start_time": "2022-03-28T06:42:46.870Z"
   },
   {
    "duration": 33480,
    "start_time": "2022-03-28T06:46:39.260Z"
   },
   {
    "duration": 16593,
    "start_time": "2022-03-28T06:51:48.779Z"
   },
   {
    "duration": 20056,
    "start_time": "2022-03-28T06:53:01.932Z"
   },
   {
    "duration": 1817,
    "start_time": "2022-03-28T06:54:19.613Z"
   },
   {
    "duration": 42,
    "start_time": "2022-03-28T06:54:21.432Z"
   },
   {
    "duration": 13163,
    "start_time": "2022-03-28T06:54:21.476Z"
   },
   {
    "duration": 33,
    "start_time": "2022-03-28T06:55:19.047Z"
   },
   {
    "duration": 1981,
    "start_time": "2022-03-28T06:58:25.035Z"
   },
   {
    "duration": 37,
    "start_time": "2022-03-28T06:58:27.018Z"
   },
   {
    "duration": 5,
    "start_time": "2022-03-28T06:58:27.062Z"
   },
   {
    "duration": 12721,
    "start_time": "2022-03-28T06:58:27.070Z"
   },
   {
    "duration": 1051,
    "start_time": "2022-03-28T07:00:52.738Z"
   },
   {
    "duration": 750,
    "start_time": "2022-03-28T07:03:18.471Z"
   },
   {
    "duration": 1109,
    "start_time": "2022-03-28T07:07:09.128Z"
   },
   {
    "duration": 271,
    "start_time": "2022-03-28T07:08:37.860Z"
   },
   {
    "duration": 5,
    "start_time": "2022-03-28T07:14:52.325Z"
   },
   {
    "duration": 53,
    "start_time": "2022-03-28T07:14:54.143Z"
   },
   {
    "duration": 44,
    "start_time": "2022-03-28T07:15:06.003Z"
   },
   {
    "duration": 4,
    "start_time": "2022-03-28T07:15:10.532Z"
   },
   {
    "duration": 19,
    "start_time": "2022-03-28T07:17:38.291Z"
   },
   {
    "duration": 31,
    "start_time": "2022-03-28T07:17:59.122Z"
   },
   {
    "duration": 539,
    "start_time": "2022-03-28T07:18:02.231Z"
   },
   {
    "duration": 81,
    "start_time": "2022-03-28T07:19:17.030Z"
   },
   {
    "duration": 53,
    "start_time": "2022-03-28T08:23:30.812Z"
   },
   {
    "duration": 52,
    "start_time": "2022-03-28T08:33:25.455Z"
   },
   {
    "duration": 40,
    "start_time": "2022-03-28T08:33:55.052Z"
   },
   {
    "duration": 13,
    "start_time": "2022-03-28T08:38:32.157Z"
   },
   {
    "duration": 4,
    "start_time": "2022-03-28T08:40:06.166Z"
   },
   {
    "duration": 4,
    "start_time": "2022-03-28T08:40:29.687Z"
   },
   {
    "duration": 54,
    "start_time": "2022-03-28T08:40:36.802Z"
   },
   {
    "duration": 45,
    "start_time": "2022-03-28T08:47:22.146Z"
   },
   {
    "duration": 38,
    "start_time": "2022-03-28T08:47:42.062Z"
   },
   {
    "duration": 689,
    "start_time": "2022-03-28T08:47:58.563Z"
   },
   {
    "duration": 49662,
    "start_time": "2022-03-28T08:49:06.790Z"
   },
   {
    "duration": 377,
    "start_time": "2022-03-28T08:49:56.462Z"
   },
   {
    "duration": 42738,
    "start_time": "2022-03-28T08:49:58.770Z"
   },
   {
    "duration": 4,
    "start_time": "2022-03-28T08:53:52.054Z"
   },
   {
    "duration": 41,
    "start_time": "2022-03-28T08:53:53.588Z"
   },
   {
    "duration": 513,
    "start_time": "2022-03-28T08:54:11.612Z"
   },
   {
    "duration": 14,
    "start_time": "2022-03-28T08:54:26.593Z"
   },
   {
    "duration": 4,
    "start_time": "2022-03-28T08:54:34.628Z"
   },
   {
    "duration": 40,
    "start_time": "2022-03-28T08:54:36.080Z"
   },
   {
    "duration": 39,
    "start_time": "2022-03-28T08:54:45.947Z"
   },
   {
    "duration": 5,
    "start_time": "2022-03-28T08:54:56.120Z"
   },
   {
    "duration": 2416,
    "start_time": "2022-03-28T13:22:11.960Z"
   },
   {
    "duration": 77,
    "start_time": "2022-03-28T13:22:14.379Z"
   },
   {
    "duration": 6,
    "start_time": "2022-03-28T13:22:14.458Z"
   },
   {
    "duration": 195,
    "start_time": "2022-03-28T13:22:14.466Z"
   },
   {
    "duration": 0,
    "start_time": "2022-03-28T13:22:14.663Z"
   },
   {
    "duration": 0,
    "start_time": "2022-03-28T13:22:14.665Z"
   },
   {
    "duration": 74,
    "start_time": "2022-03-28T13:23:32.048Z"
   },
   {
    "duration": 62,
    "start_time": "2022-03-28T13:23:51.254Z"
   },
   {
    "duration": 59,
    "start_time": "2022-03-28T13:24:06.534Z"
   },
   {
    "duration": 6,
    "start_time": "2022-03-28T13:27:08.228Z"
   },
   {
    "duration": 71,
    "start_time": "2022-03-28T13:27:09.372Z"
   },
   {
    "duration": 6,
    "start_time": "2022-03-28T13:27:13.514Z"
   },
   {
    "duration": 25,
    "start_time": "2022-03-28T13:27:39.896Z"
   },
   {
    "duration": 902,
    "start_time": "2022-03-28T13:28:12.204Z"
   },
   {
    "duration": 937,
    "start_time": "2022-03-28T13:28:26.089Z"
   },
   {
    "duration": 8,
    "start_time": "2022-03-28T13:29:18.446Z"
   },
   {
    "duration": 214,
    "start_time": "2022-03-28T13:30:58.391Z"
   },
   {
    "duration": 21,
    "start_time": "2022-03-28T13:33:41.767Z"
   },
   {
    "duration": 2140,
    "start_time": "2022-03-28T13:34:08.751Z"
   },
   {
    "duration": 139,
    "start_time": "2022-03-28T13:34:10.895Z"
   },
   {
    "duration": 6,
    "start_time": "2022-03-28T13:34:11.036Z"
   },
   {
    "duration": 15,
    "start_time": "2022-03-28T13:34:11.045Z"
   },
   {
    "duration": 22,
    "start_time": "2022-03-28T13:34:11.062Z"
   },
   {
    "duration": 631,
    "start_time": "2022-03-28T13:34:11.086Z"
   },
   {
    "duration": 196,
    "start_time": "2022-03-28T13:34:11.719Z"
   },
   {
    "duration": 116,
    "start_time": "2022-03-28T13:34:29.741Z"
   },
   {
    "duration": 69,
    "start_time": "2022-03-28T13:34:42.493Z"
   },
   {
    "duration": 117,
    "start_time": "2022-03-28T13:34:48.147Z"
   },
   {
    "duration": 118,
    "start_time": "2022-03-28T13:36:04.245Z"
   },
   {
    "duration": 73,
    "start_time": "2022-03-28T13:36:33.057Z"
   },
   {
    "duration": 119,
    "start_time": "2022-03-28T13:37:15.990Z"
   },
   {
    "duration": 2141,
    "start_time": "2022-03-28T13:37:34.448Z"
   },
   {
    "duration": 136,
    "start_time": "2022-03-28T13:37:36.592Z"
   },
   {
    "duration": 6,
    "start_time": "2022-03-28T13:37:36.730Z"
   },
   {
    "duration": 9,
    "start_time": "2022-03-28T13:37:36.739Z"
   },
   {
    "duration": 7,
    "start_time": "2022-03-28T13:37:36.750Z"
   },
   {
    "duration": 680,
    "start_time": "2022-03-28T13:37:36.759Z"
   },
   {
    "duration": 184,
    "start_time": "2022-03-28T13:37:37.441Z"
   },
   {
    "duration": 18,
    "start_time": "2022-03-28T13:38:13.733Z"
   },
   {
    "duration": 15,
    "start_time": "2022-03-28T13:39:13.225Z"
   },
   {
    "duration": 16,
    "start_time": "2022-03-28T13:39:21.878Z"
   },
   {
    "duration": 558,
    "start_time": "2022-03-28T13:39:57.375Z"
   },
   {
    "duration": 666,
    "start_time": "2022-03-28T13:40:02.949Z"
   },
   {
    "duration": 19,
    "start_time": "2022-03-28T13:40:28.752Z"
   },
   {
    "duration": 21363,
    "start_time": "2022-03-28T13:40:46.550Z"
   },
   {
    "duration": 35224,
    "start_time": "2022-03-28T13:41:28.215Z"
   },
   {
    "duration": 4,
    "start_time": "2022-03-28T13:42:03.441Z"
   },
   {
    "duration": 2504,
    "start_time": "2022-03-28T13:43:03.375Z"
   },
   {
    "duration": 207,
    "start_time": "2022-03-28T13:43:05.884Z"
   },
   {
    "duration": 8,
    "start_time": "2022-03-28T13:43:06.094Z"
   },
   {
    "duration": 14,
    "start_time": "2022-03-28T13:43:06.107Z"
   },
   {
    "duration": 18,
    "start_time": "2022-03-28T13:43:06.124Z"
   },
   {
    "duration": 46,
    "start_time": "2022-03-28T13:43:06.145Z"
   },
   {
    "duration": 30822,
    "start_time": "2022-03-28T13:43:06.193Z"
   },
   {
    "duration": 4,
    "start_time": "2022-03-28T13:43:37.018Z"
   },
   {
    "duration": 410,
    "start_time": "2022-03-28T13:43:47.711Z"
   },
   {
    "duration": 1410,
    "start_time": "2022-03-28T13:45:04.678Z"
   },
   {
    "duration": 1347,
    "start_time": "2022-03-28T13:45:20.614Z"
   },
   {
    "duration": 32945,
    "start_time": "2022-03-28T13:45:59.155Z"
   },
   {
    "duration": 977,
    "start_time": "2022-03-28T13:47:24.994Z"
   },
   {
    "duration": 568,
    "start_time": "2022-03-28T13:49:06.526Z"
   },
   {
    "duration": 682,
    "start_time": "2022-03-28T13:49:34.512Z"
   },
   {
    "duration": 15,
    "start_time": "2022-03-28T13:50:57.093Z"
   },
   {
    "duration": 1026,
    "start_time": "2022-03-28T13:51:04.813Z"
   },
   {
    "duration": 1013,
    "start_time": "2022-03-28T13:51:26.152Z"
   },
   {
    "duration": 1042,
    "start_time": "2022-03-28T13:54:52.313Z"
   },
   {
    "duration": 1002,
    "start_time": "2022-03-28T13:55:40.360Z"
   },
   {
    "duration": 123,
    "start_time": "2022-03-28T13:56:17.192Z"
   },
   {
    "duration": 1128,
    "start_time": "2022-03-28T13:56:29.423Z"
   },
   {
    "duration": 997,
    "start_time": "2022-03-28T13:57:24.937Z"
   },
   {
    "duration": 5,
    "start_time": "2022-03-28T13:58:07.291Z"
   },
   {
    "duration": 2071,
    "start_time": "2022-03-28T13:58:16.663Z"
   },
   {
    "duration": 126,
    "start_time": "2022-03-28T13:58:18.737Z"
   },
   {
    "duration": 24,
    "start_time": "2022-03-28T13:58:18.866Z"
   },
   {
    "duration": 14,
    "start_time": "2022-03-28T13:58:18.894Z"
   },
   {
    "duration": 12,
    "start_time": "2022-03-28T13:58:18.911Z"
   },
   {
    "duration": 22,
    "start_time": "2022-03-28T13:58:18.925Z"
   },
   {
    "duration": 1008,
    "start_time": "2022-03-28T13:58:18.949Z"
   },
   {
    "duration": 996,
    "start_time": "2022-03-28T13:58:19.959Z"
   },
   {
    "duration": 1071,
    "start_time": "2022-03-28T14:00:12.261Z"
   },
   {
    "duration": 1157,
    "start_time": "2022-03-28T14:00:51.173Z"
   },
   {
    "duration": 26,
    "start_time": "2022-03-28T14:01:11.221Z"
   },
   {
    "duration": 103,
    "start_time": "2022-03-28T14:02:42.008Z"
   },
   {
    "duration": 54,
    "start_time": "2022-03-28T14:03:04.248Z"
   },
   {
    "duration": 46,
    "start_time": "2022-03-28T14:03:11.801Z"
   },
   {
    "duration": 39,
    "start_time": "2022-03-28T14:04:10.279Z"
   },
   {
    "duration": 889,
    "start_time": "2022-03-28T14:05:36.314Z"
   },
   {
    "duration": 39,
    "start_time": "2022-03-28T14:06:15.102Z"
   },
   {
    "duration": 56,
    "start_time": "2022-03-28T14:06:38.860Z"
   },
   {
    "duration": 38,
    "start_time": "2022-03-28T14:07:02.757Z"
   },
   {
    "duration": 350,
    "start_time": "2022-03-28T14:07:34.775Z"
   },
   {
    "duration": 86,
    "start_time": "2022-03-28T14:08:30.382Z"
   },
   {
    "duration": 136,
    "start_time": "2022-03-28T14:08:38.549Z"
   },
   {
    "duration": 18,
    "start_time": "2022-03-28T14:09:11.164Z"
   },
   {
    "duration": 190,
    "start_time": "2022-03-28T14:10:30.094Z"
   },
   {
    "duration": 192,
    "start_time": "2022-03-28T14:11:51.851Z"
   },
   {
    "duration": 176,
    "start_time": "2022-03-28T14:13:14.423Z"
   },
   {
    "duration": 96,
    "start_time": "2022-03-28T14:13:27.734Z"
   },
   {
    "duration": 29,
    "start_time": "2022-03-28T14:16:53.009Z"
   },
   {
    "duration": 44,
    "start_time": "2022-03-28T14:17:38.977Z"
   },
   {
    "duration": 604,
    "start_time": "2022-03-28T14:18:36.622Z"
   },
   {
    "duration": 588,
    "start_time": "2022-03-28T14:18:47.011Z"
   },
   {
    "duration": 688,
    "start_time": "2022-03-28T14:18:55.959Z"
   },
   {
    "duration": 770,
    "start_time": "2022-03-28T14:19:45.160Z"
   },
   {
    "duration": 201,
    "start_time": "2022-03-28T14:20:22.110Z"
   },
   {
    "duration": 300,
    "start_time": "2022-03-28T14:20:54.025Z"
   },
   {
    "duration": 173,
    "start_time": "2022-03-28T14:21:22.124Z"
   },
   {
    "duration": 177,
    "start_time": "2022-03-28T14:21:26.725Z"
   },
   {
    "duration": 177,
    "start_time": "2022-03-28T14:21:41.258Z"
   },
   {
    "duration": 178,
    "start_time": "2022-03-28T14:21:50.226Z"
   },
   {
    "duration": 1819,
    "start_time": "2022-03-28T14:22:41.848Z"
   },
   {
    "duration": 1813,
    "start_time": "2022-03-28T14:22:52.111Z"
   },
   {
    "duration": 1932,
    "start_time": "2022-03-28T14:23:10.959Z"
   },
   {
    "duration": 1783,
    "start_time": "2022-03-28T14:23:17.009Z"
   },
   {
    "duration": 55,
    "start_time": "2022-03-28T14:23:23.096Z"
   },
   {
    "duration": 56,
    "start_time": "2022-03-28T14:23:30.338Z"
   },
   {
    "duration": 2226,
    "start_time": "2022-03-28T14:23:39.692Z"
   },
   {
    "duration": 132,
    "start_time": "2022-03-28T14:23:45.333Z"
   },
   {
    "duration": 62,
    "start_time": "2022-03-28T14:23:53.012Z"
   },
   {
    "duration": 1149,
    "start_time": "2022-03-28T14:24:02.763Z"
   },
   {
    "duration": 14,
    "start_time": "2022-03-28T14:24:38.401Z"
   },
   {
    "duration": 74,
    "start_time": "2022-03-28T14:25:19.801Z"
   },
   {
    "duration": 937,
    "start_time": "2022-03-28T14:26:33.210Z"
   },
   {
    "duration": 176,
    "start_time": "2022-03-28T14:26:38.643Z"
   },
   {
    "duration": 69,
    "start_time": "2022-03-28T14:27:02.532Z"
   },
   {
    "duration": 45,
    "start_time": "2022-03-28T14:27:35.536Z"
   },
   {
    "duration": 220,
    "start_time": "2022-03-28T14:27:39.939Z"
   },
   {
    "duration": 71,
    "start_time": "2022-03-28T14:27:50.573Z"
   },
   {
    "duration": 69,
    "start_time": "2022-03-28T14:28:38.109Z"
   },
   {
    "duration": 74,
    "start_time": "2022-03-28T14:29:20.153Z"
   },
   {
    "duration": 63,
    "start_time": "2022-03-28T14:29:29.085Z"
   },
   {
    "duration": 70,
    "start_time": "2022-03-28T14:42:50.113Z"
   },
   {
    "duration": 9,
    "start_time": "2022-03-28T14:43:08.502Z"
   },
   {
    "duration": 2374,
    "start_time": "2022-03-28T14:43:19.359Z"
   },
   {
    "duration": 57,
    "start_time": "2022-03-28T14:43:25.252Z"
   },
   {
    "duration": 182,
    "start_time": "2022-03-28T14:43:27.689Z"
   },
   {
    "duration": 71,
    "start_time": "2022-03-28T14:43:31.401Z"
   },
   {
    "duration": 65,
    "start_time": "2022-03-28T14:43:42.712Z"
   },
   {
    "duration": 126,
    "start_time": "2022-03-28T14:43:59.358Z"
   },
   {
    "duration": 225,
    "start_time": "2022-03-28T14:44:10.399Z"
   },
   {
    "duration": 63,
    "start_time": "2022-03-28T14:44:23.673Z"
   },
   {
    "duration": 170,
    "start_time": "2022-03-28T14:44:49.386Z"
   },
   {
    "duration": 178,
    "start_time": "2022-03-28T14:45:00.120Z"
   },
   {
    "duration": 162,
    "start_time": "2022-03-28T14:45:40.688Z"
   },
   {
    "duration": 176,
    "start_time": "2022-03-28T14:45:49.143Z"
   },
   {
    "duration": 127,
    "start_time": "2022-03-28T14:46:51.362Z"
   },
   {
    "duration": 54,
    "start_time": "2022-03-28T14:47:08.744Z"
   },
   {
    "duration": 68,
    "start_time": "2022-03-28T14:49:51.576Z"
   },
   {
    "duration": 129,
    "start_time": "2022-03-28T14:50:01.317Z"
   },
   {
    "duration": 77,
    "start_time": "2022-03-28T14:50:22.700Z"
   },
   {
    "duration": 17,
    "start_time": "2022-03-28T14:51:04.462Z"
   },
   {
    "duration": 24,
    "start_time": "2022-03-28T14:51:21.180Z"
   },
   {
    "duration": 71,
    "start_time": "2022-03-28T14:51:51.751Z"
   },
   {
    "duration": 75,
    "start_time": "2022-03-28T14:52:00.145Z"
   },
   {
    "duration": 74,
    "start_time": "2022-03-28T14:52:06.947Z"
   },
   {
    "duration": 8,
    "start_time": "2022-03-28T14:54:00.482Z"
   },
   {
    "duration": 13,
    "start_time": "2022-03-28T14:54:12.369Z"
   },
   {
    "duration": 88,
    "start_time": "2022-03-28T14:54:26.586Z"
   },
   {
    "duration": 14,
    "start_time": "2022-03-28T14:55:15.261Z"
   },
   {
    "duration": 66,
    "start_time": "2022-03-28T14:55:38.213Z"
   },
   {
    "duration": 49,
    "start_time": "2022-03-28T14:56:41.751Z"
   },
   {
    "duration": 49,
    "start_time": "2022-03-28T14:57:52.007Z"
   },
   {
    "duration": 79,
    "start_time": "2022-03-28T14:58:06.200Z"
   },
   {
    "duration": 66,
    "start_time": "2022-03-28T14:58:19.159Z"
   },
   {
    "duration": 65,
    "start_time": "2022-03-28T14:58:31.471Z"
   },
   {
    "duration": 80,
    "start_time": "2022-03-28T14:59:08.329Z"
   },
   {
    "duration": 77,
    "start_time": "2022-03-28T14:59:28.766Z"
   },
   {
    "duration": 8,
    "start_time": "2022-03-28T14:59:42.301Z"
   },
   {
    "duration": 20,
    "start_time": "2022-03-28T15:00:02.972Z"
   },
   {
    "duration": 25,
    "start_time": "2022-03-28T15:00:06.820Z"
   },
   {
    "duration": 72,
    "start_time": "2022-03-28T15:00:16.766Z"
   },
   {
    "duration": 4,
    "start_time": "2022-03-28T15:00:26.177Z"
   },
   {
    "duration": 70,
    "start_time": "2022-03-28T15:00:29.174Z"
   },
   {
    "duration": 17,
    "start_time": "2022-03-28T15:00:49.225Z"
   },
   {
    "duration": 75,
    "start_time": "2022-03-28T15:01:18.958Z"
   },
   {
    "duration": 75,
    "start_time": "2022-03-28T15:01:30.328Z"
   },
   {
    "duration": 88,
    "start_time": "2022-03-28T15:01:50.988Z"
   },
   {
    "duration": 91,
    "start_time": "2022-03-28T15:02:16.571Z"
   },
   {
    "duration": 88,
    "start_time": "2022-03-28T15:02:25.123Z"
   },
   {
    "duration": 87,
    "start_time": "2022-03-28T15:02:37.286Z"
   },
   {
    "duration": 82,
    "start_time": "2022-03-28T15:03:53.018Z"
   },
   {
    "duration": 102,
    "start_time": "2022-03-28T15:04:17.273Z"
   },
   {
    "duration": 89,
    "start_time": "2022-03-28T15:04:30.140Z"
   },
   {
    "duration": 100,
    "start_time": "2022-03-28T15:05:34.891Z"
   },
   {
    "duration": 20,
    "start_time": "2022-03-28T15:07:04.923Z"
   },
   {
    "duration": 89,
    "start_time": "2022-03-28T15:07:48.704Z"
   },
   {
    "duration": 16,
    "start_time": "2022-03-28T15:08:04.786Z"
   },
   {
    "duration": 13,
    "start_time": "2022-03-28T15:08:07.739Z"
   },
   {
    "duration": 12,
    "start_time": "2022-03-28T15:08:15.586Z"
   },
   {
    "duration": 6,
    "start_time": "2022-03-28T15:09:14.491Z"
   },
   {
    "duration": 44,
    "start_time": "2022-03-28T15:09:15.463Z"
   },
   {
    "duration": 93,
    "start_time": "2022-03-28T15:09:17.585Z"
   },
   {
    "duration": 19,
    "start_time": "2022-03-28T15:09:35.137Z"
   },
   {
    "duration": 28,
    "start_time": "2022-03-28T15:11:20.007Z"
   },
   {
    "duration": 13,
    "start_time": "2022-03-28T15:11:28.527Z"
   },
   {
    "duration": 17,
    "start_time": "2022-03-28T15:11:35.061Z"
   },
   {
    "duration": 46,
    "start_time": "2022-03-28T15:11:43.966Z"
   },
   {
    "duration": 17,
    "start_time": "2022-03-28T15:12:27.429Z"
   },
   {
    "duration": 64,
    "start_time": "2022-03-28T15:14:55.215Z"
   },
   {
    "duration": 26,
    "start_time": "2022-03-28T15:15:10.553Z"
   },
   {
    "duration": 5,
    "start_time": "2022-03-28T15:17:10.293Z"
   },
   {
    "duration": 146,
    "start_time": "2022-03-28T15:17:16.755Z"
   },
   {
    "duration": 1946,
    "start_time": "2022-03-28T15:18:58.796Z"
   },
   {
    "duration": 56,
    "start_time": "2022-03-28T15:19:00.744Z"
   },
   {
    "duration": 4,
    "start_time": "2022-03-28T15:19:00.803Z"
   },
   {
    "duration": 24,
    "start_time": "2022-03-28T15:19:00.810Z"
   },
   {
    "duration": 159,
    "start_time": "2022-03-28T15:19:00.837Z"
   },
   {
    "duration": 4,
    "start_time": "2022-03-28T15:19:00.999Z"
   },
   {
    "duration": 207,
    "start_time": "2022-03-28T15:19:01.006Z"
   },
   {
    "duration": 0,
    "start_time": "2022-03-28T15:19:01.216Z"
   },
   {
    "duration": 0,
    "start_time": "2022-03-28T15:19:01.218Z"
   },
   {
    "duration": 52,
    "start_time": "2022-03-28T15:19:37.970Z"
   },
   {
    "duration": 1977,
    "start_time": "2022-03-28T15:19:59.627Z"
   },
   {
    "duration": 55,
    "start_time": "2022-03-28T15:20:01.606Z"
   },
   {
    "duration": 13,
    "start_time": "2022-03-28T15:20:01.664Z"
   },
   {
    "duration": 111,
    "start_time": "2022-03-28T15:20:01.680Z"
   },
   {
    "duration": 16,
    "start_time": "2022-03-28T15:20:01.793Z"
   },
   {
    "duration": 164,
    "start_time": "2022-03-28T15:20:01.812Z"
   },
   {
    "duration": 5,
    "start_time": "2022-03-28T15:20:01.978Z"
   },
   {
    "duration": 199,
    "start_time": "2022-03-28T15:20:01.985Z"
   },
   {
    "duration": 1,
    "start_time": "2022-03-28T15:20:02.186Z"
   },
   {
    "duration": 0,
    "start_time": "2022-03-28T15:20:02.188Z"
   },
   {
    "duration": 1670,
    "start_time": "2022-03-28T17:53:18.627Z"
   },
   {
    "duration": 48,
    "start_time": "2022-03-28T17:53:20.300Z"
   },
   {
    "duration": 4,
    "start_time": "2022-03-28T17:53:20.349Z"
   },
   {
    "duration": 65,
    "start_time": "2022-03-28T17:53:20.354Z"
   },
   {
    "duration": 4,
    "start_time": "2022-03-28T17:53:20.421Z"
   },
   {
    "duration": 22,
    "start_time": "2022-03-28T17:53:20.427Z"
   },
   {
    "duration": 137,
    "start_time": "2022-03-28T17:53:20.451Z"
   },
   {
    "duration": 0,
    "start_time": "2022-03-28T17:53:20.590Z"
   },
   {
    "duration": 0,
    "start_time": "2022-03-28T17:53:20.591Z"
   },
   {
    "duration": 1460,
    "start_time": "2022-03-28T17:53:33.052Z"
   },
   {
    "duration": 38,
    "start_time": "2022-03-28T17:53:34.514Z"
   },
   {
    "duration": 4,
    "start_time": "2022-03-28T17:53:34.553Z"
   },
   {
    "duration": 60,
    "start_time": "2022-03-28T17:53:34.559Z"
   },
   {
    "duration": 5,
    "start_time": "2022-03-28T17:53:34.637Z"
   },
   {
    "duration": 12,
    "start_time": "2022-03-28T17:53:34.644Z"
   },
   {
    "duration": 124,
    "start_time": "2022-03-28T17:53:34.658Z"
   },
   {
    "duration": 0,
    "start_time": "2022-03-28T17:53:34.784Z"
   },
   {
    "duration": 0,
    "start_time": "2022-03-28T17:53:34.785Z"
   },
   {
    "duration": 34,
    "start_time": "2022-03-28T17:53:44.885Z"
   },
   {
    "duration": 3,
    "start_time": "2022-03-28T17:53:49.450Z"
   },
   {
    "duration": 62,
    "start_time": "2022-03-28T17:54:00.050Z"
   },
   {
    "duration": 20,
    "start_time": "2022-03-28T17:55:41.281Z"
   },
   {
    "duration": 16,
    "start_time": "2022-03-28T17:55:50.099Z"
   },
   {
    "duration": 11,
    "start_time": "2022-03-28T17:56:06.310Z"
   },
   {
    "duration": 132,
    "start_time": "2022-03-28T18:00:31.385Z"
   },
   {
    "duration": 146,
    "start_time": "2022-03-28T18:05:32.410Z"
   },
   {
    "duration": 114,
    "start_time": "2022-03-28T18:05:48.197Z"
   },
   {
    "duration": 129,
    "start_time": "2022-03-28T18:06:02.995Z"
   },
   {
    "duration": 4,
    "start_time": "2022-03-28T18:08:51.031Z"
   },
   {
    "duration": 35,
    "start_time": "2022-03-28T18:08:52.425Z"
   },
   {
    "duration": 88,
    "start_time": "2022-03-28T18:08:55.699Z"
   },
   {
    "duration": 5,
    "start_time": "2022-03-28T18:08:58.482Z"
   },
   {
    "duration": 7,
    "start_time": "2022-03-28T18:09:07.565Z"
   },
   {
    "duration": 13,
    "start_time": "2022-03-28T18:09:17.301Z"
   },
   {
    "duration": 6,
    "start_time": "2022-03-28T18:10:13.179Z"
   },
   {
    "duration": 78,
    "start_time": "2022-03-28T18:10:32.291Z"
   },
   {
    "duration": 22,
    "start_time": "2022-03-28T18:10:56.254Z"
   },
   {
    "duration": 18,
    "start_time": "2022-03-28T18:11:32.435Z"
   },
   {
    "duration": 10,
    "start_time": "2022-03-28T18:11:38.419Z"
   },
   {
    "duration": 31,
    "start_time": "2022-03-28T18:13:26.817Z"
   },
   {
    "duration": 76,
    "start_time": "2022-03-28T18:15:52.790Z"
   },
   {
    "duration": 1484,
    "start_time": "2022-03-28T18:16:13.779Z"
   },
   {
    "duration": 42,
    "start_time": "2022-03-28T18:16:15.265Z"
   },
   {
    "duration": 77,
    "start_time": "2022-03-28T18:16:15.309Z"
   },
   {
    "duration": 4,
    "start_time": "2022-03-28T18:16:15.388Z"
   },
   {
    "duration": 31,
    "start_time": "2022-03-28T18:16:15.394Z"
   },
   {
    "duration": 44,
    "start_time": "2022-03-28T18:16:15.427Z"
   },
   {
    "duration": 29,
    "start_time": "2022-03-28T18:16:15.473Z"
   },
   {
    "duration": 101,
    "start_time": "2022-03-28T18:16:15.504Z"
   },
   {
    "duration": 48,
    "start_time": "2022-03-28T18:19:33.516Z"
   },
   {
    "duration": 3,
    "start_time": "2022-03-28T18:20:48.952Z"
   },
   {
    "duration": 81,
    "start_time": "2022-03-28T18:20:59.763Z"
   },
   {
    "duration": 119,
    "start_time": "2022-03-28T18:21:04.172Z"
   },
   {
    "duration": 1436,
    "start_time": "2022-03-28T18:21:10.297Z"
   },
   {
    "duration": 41,
    "start_time": "2022-03-28T18:21:11.735Z"
   },
   {
    "duration": 4,
    "start_time": "2022-03-28T18:21:11.777Z"
   },
   {
    "duration": 99,
    "start_time": "2022-03-28T18:21:11.783Z"
   },
   {
    "duration": 5,
    "start_time": "2022-03-28T18:21:11.884Z"
   },
   {
    "duration": 20,
    "start_time": "2022-03-28T18:21:11.890Z"
   },
   {
    "duration": 31,
    "start_time": "2022-03-28T18:21:11.911Z"
   },
   {
    "duration": 8,
    "start_time": "2022-03-28T18:21:11.944Z"
   },
   {
    "duration": 84,
    "start_time": "2022-03-28T18:21:11.954Z"
   },
   {
    "duration": 51,
    "start_time": "2022-03-28T18:21:12.040Z"
   },
   {
    "duration": 59,
    "start_time": "2022-03-28T18:21:55.852Z"
   },
   {
    "duration": 1816,
    "start_time": "2022-04-09T12:42:55.469Z"
   },
   {
    "duration": 4,
    "start_time": "2022-04-09T12:47:14.512Z"
   },
   {
    "duration": 49,
    "start_time": "2022-04-09T12:47:19.456Z"
   },
   {
    "duration": 37,
    "start_time": "2022-04-09T12:47:55.426Z"
   },
   {
    "duration": 38,
    "start_time": "2022-04-09T12:48:06.780Z"
   },
   {
    "duration": 39,
    "start_time": "2022-04-09T12:48:19.018Z"
   },
   {
    "duration": 36,
    "start_time": "2022-04-09T12:48:53.402Z"
   },
   {
    "duration": 1539,
    "start_time": "2022-04-09T13:13:25.456Z"
   },
   {
    "duration": 113,
    "start_time": "2022-04-09T13:13:26.997Z"
   },
   {
    "duration": 0,
    "start_time": "2022-04-09T13:13:27.112Z"
   },
   {
    "duration": 0,
    "start_time": "2022-04-09T13:13:27.113Z"
   },
   {
    "duration": 0,
    "start_time": "2022-04-09T13:13:27.114Z"
   },
   {
    "duration": 0,
    "start_time": "2022-04-09T13:13:27.115Z"
   },
   {
    "duration": 0,
    "start_time": "2022-04-09T13:13:27.116Z"
   },
   {
    "duration": 0,
    "start_time": "2022-04-09T13:13:27.132Z"
   },
   {
    "duration": 0,
    "start_time": "2022-04-09T13:13:27.133Z"
   },
   {
    "duration": 0,
    "start_time": "2022-04-09T13:13:27.134Z"
   },
   {
    "duration": 1582,
    "start_time": "2022-04-09T13:13:48.441Z"
   },
   {
    "duration": 48,
    "start_time": "2022-04-09T13:13:50.026Z"
   },
   {
    "duration": 4,
    "start_time": "2022-04-09T13:13:50.076Z"
   },
   {
    "duration": 91,
    "start_time": "2022-04-09T13:13:50.082Z"
   },
   {
    "duration": 137,
    "start_time": "2022-04-09T13:13:50.175Z"
   },
   {
    "duration": 0,
    "start_time": "2022-04-09T13:13:50.314Z"
   },
   {
    "duration": 0,
    "start_time": "2022-04-09T13:13:50.315Z"
   },
   {
    "duration": 0,
    "start_time": "2022-04-09T13:13:50.316Z"
   },
   {
    "duration": 0,
    "start_time": "2022-04-09T13:13:50.317Z"
   },
   {
    "duration": 38,
    "start_time": "2022-04-09T13:14:11.265Z"
   },
   {
    "duration": 42,
    "start_time": "2022-04-09T13:14:18.450Z"
   },
   {
    "duration": 5,
    "start_time": "2022-04-09T13:15:58.407Z"
   },
   {
    "duration": 7,
    "start_time": "2022-04-09T13:16:10.549Z"
   },
   {
    "duration": 15,
    "start_time": "2022-04-09T13:16:14.684Z"
   },
   {
    "duration": 5,
    "start_time": "2022-04-09T13:16:36.320Z"
   },
   {
    "duration": 74,
    "start_time": "2022-04-09T13:16:44.495Z"
   },
   {
    "duration": 1893,
    "start_time": "2022-04-10T13:44:38.220Z"
   },
   {
    "duration": 68,
    "start_time": "2022-04-10T13:44:44.183Z"
   },
   {
    "duration": 4,
    "start_time": "2022-04-10T13:44:47.709Z"
   },
   {
    "duration": 69,
    "start_time": "2022-04-10T13:44:55.211Z"
   },
   {
    "duration": 116,
    "start_time": "2022-04-10T13:48:37.739Z"
   },
   {
    "duration": 3098,
    "start_time": "2022-04-10T13:48:43.927Z"
   },
   {
    "duration": 11,
    "start_time": "2022-04-10T13:48:55.515Z"
   },
   {
    "duration": 23,
    "start_time": "2022-04-10T13:49:45.603Z"
   },
   {
    "duration": 59,
    "start_time": "2022-04-10T13:49:49.871Z"
   },
   {
    "duration": 62,
    "start_time": "2022-04-10T13:51:04.858Z"
   },
   {
    "duration": 4,
    "start_time": "2022-04-10T13:51:38.649Z"
   },
   {
    "duration": 41,
    "start_time": "2022-04-10T13:51:41.951Z"
   },
   {
    "duration": 3,
    "start_time": "2022-04-10T13:51:43.732Z"
   },
   {
    "duration": 65,
    "start_time": "2022-04-10T13:51:44.238Z"
   },
   {
    "duration": 5,
    "start_time": "2022-04-10T13:51:47.318Z"
   },
   {
    "duration": 6,
    "start_time": "2022-04-10T13:51:48.449Z"
   },
   {
    "duration": 13,
    "start_time": "2022-04-10T13:51:51.728Z"
   },
   {
    "duration": 5,
    "start_time": "2022-04-10T13:51:53.629Z"
   },
   {
    "duration": 82,
    "start_time": "2022-04-10T13:51:56.468Z"
   },
   {
    "duration": 135,
    "start_time": "2022-04-10T13:56:17.967Z"
   },
   {
    "duration": 128,
    "start_time": "2022-04-10T13:56:44.914Z"
   },
   {
    "duration": 16,
    "start_time": "2022-04-10T14:00:19.491Z"
   },
   {
    "duration": 5635,
    "start_time": "2022-04-10T14:00:45.343Z"
   },
   {
    "duration": 273,
    "start_time": "2022-04-10T14:02:15.603Z"
   },
   {
    "duration": 36,
    "start_time": "2022-04-10T14:02:43.471Z"
   },
   {
    "duration": 4,
    "start_time": "2022-04-10T14:04:43.029Z"
   },
   {
    "duration": 85,
    "start_time": "2022-04-10T14:04:45.533Z"
   },
   {
    "duration": 4930,
    "start_time": "2022-04-10T14:22:42.864Z"
   },
   {
    "duration": 18,
    "start_time": "2022-04-10T14:23:09.938Z"
   },
   {
    "duration": 176,
    "start_time": "2022-04-10T14:24:09.202Z"
   },
   {
    "duration": 3,
    "start_time": "2022-04-10T14:25:33.352Z"
   },
   {
    "duration": 117,
    "start_time": "2022-04-10T14:25:33.830Z"
   },
   {
    "duration": 119,
    "start_time": "2022-04-10T14:25:37.775Z"
   },
   {
    "duration": 3095,
    "start_time": "2022-04-10T14:25:46.384Z"
   },
   {
    "duration": 3,
    "start_time": "2022-04-10T14:26:05.522Z"
   },
   {
    "duration": 154,
    "start_time": "2022-04-10T14:26:10.083Z"
   },
   {
    "duration": 164,
    "start_time": "2022-04-10T14:26:48.783Z"
   },
   {
    "duration": 120,
    "start_time": "2022-04-10T14:27:03.789Z"
   },
   {
    "duration": 151,
    "start_time": "2022-04-10T14:27:23.966Z"
   },
   {
    "duration": 3,
    "start_time": "2022-04-10T14:27:53.225Z"
   },
   {
    "duration": 12,
    "start_time": "2022-04-10T14:27:59.937Z"
   },
   {
    "duration": 128,
    "start_time": "2022-04-10T14:28:17.033Z"
   },
   {
    "duration": 6,
    "start_time": "2022-04-10T14:31:18.706Z"
   },
   {
    "duration": 13,
    "start_time": "2022-04-10T14:31:34.310Z"
   },
   {
    "duration": 3,
    "start_time": "2022-04-10T14:32:49.696Z"
   },
   {
    "duration": 10,
    "start_time": "2022-04-10T14:32:50.148Z"
   },
   {
    "duration": 10,
    "start_time": "2022-04-10T14:33:06.581Z"
   },
   {
    "duration": 30,
    "start_time": "2022-04-10T14:36:11.646Z"
   },
   {
    "duration": 31,
    "start_time": "2022-04-10T14:36:27.687Z"
   },
   {
    "duration": 133,
    "start_time": "2022-04-10T14:50:12.276Z"
   },
   {
    "duration": 43,
    "start_time": "2022-04-10T14:50:31.316Z"
   },
   {
    "duration": 41,
    "start_time": "2022-04-10T14:50:43.915Z"
   },
   {
    "duration": 29,
    "start_time": "2022-04-10T14:53:51.756Z"
   },
   {
    "duration": 27,
    "start_time": "2022-04-10T14:54:03.719Z"
   },
   {
    "duration": 3,
    "start_time": "2022-04-10T15:00:06.380Z"
   },
   {
    "duration": 12,
    "start_time": "2022-04-10T15:00:06.776Z"
   },
   {
    "duration": 34,
    "start_time": "2022-04-10T15:00:18.865Z"
   },
   {
    "duration": 3,
    "start_time": "2022-04-10T15:01:20.920Z"
   },
   {
    "duration": 16,
    "start_time": "2022-04-10T15:01:21.438Z"
   },
   {
    "duration": 3,
    "start_time": "2022-04-10T15:01:31.863Z"
   },
   {
    "duration": 11,
    "start_time": "2022-04-10T15:01:32.316Z"
   },
   {
    "duration": 20,
    "start_time": "2022-04-10T15:02:39.078Z"
   },
   {
    "duration": 3,
    "start_time": "2022-04-10T15:03:46.824Z"
   },
   {
    "duration": 11,
    "start_time": "2022-04-10T15:03:47.423Z"
   },
   {
    "duration": 9,
    "start_time": "2022-04-10T15:04:38.738Z"
   },
   {
    "duration": 6,
    "start_time": "2022-04-10T15:04:44.919Z"
   },
   {
    "duration": 8,
    "start_time": "2022-04-10T15:04:50.286Z"
   },
   {
    "duration": 12,
    "start_time": "2022-04-10T15:05:00.088Z"
   },
   {
    "duration": 4,
    "start_time": "2022-04-10T15:05:04.755Z"
   },
   {
    "duration": 3,
    "start_time": "2022-04-10T15:05:12.762Z"
   },
   {
    "duration": 12,
    "start_time": "2022-04-10T15:05:14.664Z"
   },
   {
    "duration": 4,
    "start_time": "2022-04-10T15:08:20.510Z"
   },
   {
    "duration": 4,
    "start_time": "2022-04-10T15:08:21.521Z"
   },
   {
    "duration": 10,
    "start_time": "2022-04-10T15:08:23.163Z"
   },
   {
    "duration": 31,
    "start_time": "2022-04-10T15:09:08.941Z"
   },
   {
    "duration": 44,
    "start_time": "2022-04-10T15:13:40.550Z"
   },
   {
    "duration": 81,
    "start_time": "2022-04-10T15:14:02.054Z"
   },
   {
    "duration": 45,
    "start_time": "2022-04-10T15:15:22.585Z"
   },
   {
    "duration": 37,
    "start_time": "2022-04-10T15:16:17.942Z"
   },
   {
    "duration": 23,
    "start_time": "2022-04-10T15:17:02.294Z"
   },
   {
    "duration": 17,
    "start_time": "2022-04-10T15:17:46.529Z"
   },
   {
    "duration": 9,
    "start_time": "2022-04-10T15:18:00.923Z"
   },
   {
    "duration": 33,
    "start_time": "2022-04-10T15:18:50.703Z"
   },
   {
    "duration": 31,
    "start_time": "2022-04-10T15:19:46.964Z"
   },
   {
    "duration": 161,
    "start_time": "2022-04-10T15:20:41.613Z"
   },
   {
    "duration": 195,
    "start_time": "2022-04-10T15:20:52.112Z"
   },
   {
    "duration": 176,
    "start_time": "2022-04-10T15:23:09.737Z"
   },
   {
    "duration": 133,
    "start_time": "2022-04-10T15:23:26.750Z"
   },
   {
    "duration": 138,
    "start_time": "2022-04-10T15:24:15.177Z"
   },
   {
    "duration": 4,
    "start_time": "2022-04-10T15:24:46.417Z"
   },
   {
    "duration": 82,
    "start_time": "2022-04-10T15:24:49.849Z"
   },
   {
    "duration": 113,
    "start_time": "2022-04-10T15:25:00.985Z"
   },
   {
    "duration": 5,
    "start_time": "2022-04-10T15:25:32.215Z"
   },
   {
    "duration": 87,
    "start_time": "2022-04-10T15:25:33.260Z"
   },
   {
    "duration": 81,
    "start_time": "2022-04-10T15:26:22.760Z"
   },
   {
    "duration": 83,
    "start_time": "2022-04-10T15:26:45.259Z"
   },
   {
    "duration": 4,
    "start_time": "2022-04-10T15:27:24.449Z"
   },
   {
    "duration": 76,
    "start_time": "2022-04-10T15:27:25.384Z"
   },
   {
    "duration": 3,
    "start_time": "2022-04-10T15:27:31.734Z"
   },
   {
    "duration": 81,
    "start_time": "2022-04-10T15:27:32.725Z"
   },
   {
    "duration": 143,
    "start_time": "2022-04-10T15:27:53.143Z"
   },
   {
    "duration": 200,
    "start_time": "2022-04-10T15:30:16.219Z"
   },
   {
    "duration": 132,
    "start_time": "2022-04-10T15:30:23.061Z"
   },
   {
    "duration": 184,
    "start_time": "2022-04-10T15:30:34.907Z"
   },
   {
    "duration": 168,
    "start_time": "2022-04-10T15:30:39.539Z"
   },
   {
    "duration": 207,
    "start_time": "2022-04-10T15:30:46.881Z"
   },
   {
    "duration": 151,
    "start_time": "2022-04-10T15:31:16.734Z"
   },
   {
    "duration": 139,
    "start_time": "2022-04-10T15:31:24.076Z"
   },
   {
    "duration": 147,
    "start_time": "2022-04-10T15:31:32.344Z"
   },
   {
    "duration": 5,
    "start_time": "2022-04-10T15:33:51.894Z"
   },
   {
    "duration": 87,
    "start_time": "2022-04-10T15:33:52.409Z"
   },
   {
    "duration": 12,
    "start_time": "2022-04-10T15:33:59.324Z"
   },
   {
    "duration": 1839,
    "start_time": "2022-04-10T15:34:07.002Z"
   },
   {
    "duration": 50,
    "start_time": "2022-04-10T15:34:08.843Z"
   },
   {
    "duration": 8,
    "start_time": "2022-04-10T15:34:08.895Z"
   },
   {
    "duration": 84,
    "start_time": "2022-04-10T15:34:08.906Z"
   },
   {
    "duration": 10,
    "start_time": "2022-04-10T15:34:09.002Z"
   },
   {
    "duration": 16,
    "start_time": "2022-04-10T15:34:09.014Z"
   },
   {
    "duration": 18,
    "start_time": "2022-04-10T15:34:09.032Z"
   },
   {
    "duration": 6,
    "start_time": "2022-04-10T15:34:09.052Z"
   },
   {
    "duration": 91,
    "start_time": "2022-04-10T15:34:09.059Z"
   },
   {
    "duration": 169,
    "start_time": "2022-04-10T15:34:09.152Z"
   },
   {
    "duration": 17,
    "start_time": "2022-04-10T16:06:39.842Z"
   },
   {
    "duration": 10,
    "start_time": "2022-04-10T16:08:10.238Z"
   },
   {
    "duration": 37,
    "start_time": "2022-04-10T16:10:10.894Z"
   },
   {
    "duration": 43,
    "start_time": "2022-04-10T16:10:28.777Z"
   },
   {
    "duration": 53,
    "start_time": "2022-04-10T16:10:42.364Z"
   },
   {
    "duration": 43,
    "start_time": "2022-04-10T16:11:00.144Z"
   },
   {
    "duration": 38,
    "start_time": "2022-04-10T16:12:40.078Z"
   },
   {
    "duration": 2014,
    "start_time": "2022-04-10T16:13:29.043Z"
   },
   {
    "duration": 59,
    "start_time": "2022-04-10T16:13:31.060Z"
   },
   {
    "duration": 4,
    "start_time": "2022-04-10T16:13:31.121Z"
   },
   {
    "duration": 118,
    "start_time": "2022-04-10T16:13:31.128Z"
   },
   {
    "duration": 5,
    "start_time": "2022-04-10T16:13:31.248Z"
   },
   {
    "duration": 13,
    "start_time": "2022-04-10T16:13:31.256Z"
   },
   {
    "duration": 37,
    "start_time": "2022-04-10T16:13:31.271Z"
   },
   {
    "duration": 6,
    "start_time": "2022-04-10T16:13:31.310Z"
   },
   {
    "duration": 83,
    "start_time": "2022-04-10T16:13:31.318Z"
   },
   {
    "duration": 153,
    "start_time": "2022-04-10T16:13:31.404Z"
   },
   {
    "duration": 49,
    "start_time": "2022-04-10T16:13:31.559Z"
   },
   {
    "duration": 1622,
    "start_time": "2022-04-12T15:13:52.153Z"
   },
   {
    "duration": 64,
    "start_time": "2022-04-12T15:13:53.777Z"
   },
   {
    "duration": 4,
    "start_time": "2022-04-12T15:13:53.842Z"
   },
   {
    "duration": 72,
    "start_time": "2022-04-12T15:13:53.848Z"
   },
   {
    "duration": 4,
    "start_time": "2022-04-12T15:13:53.922Z"
   },
   {
    "duration": 10,
    "start_time": "2022-04-12T15:13:53.928Z"
   },
   {
    "duration": 12,
    "start_time": "2022-04-12T15:13:53.940Z"
   },
   {
    "duration": 5,
    "start_time": "2022-04-12T15:13:53.954Z"
   },
   {
    "duration": 65,
    "start_time": "2022-04-12T15:13:53.972Z"
   },
   {
    "duration": 157,
    "start_time": "2022-04-12T15:13:54.039Z"
   },
   {
    "duration": 31,
    "start_time": "2022-04-12T15:13:54.198Z"
   },
   {
    "duration": 49,
    "start_time": "2022-04-12T15:19:32.701Z"
   },
   {
    "duration": 125,
    "start_time": "2022-04-12T15:34:40.899Z"
   },
   {
    "duration": 147,
    "start_time": "2022-04-12T15:34:45.007Z"
   },
   {
    "duration": 46,
    "start_time": "2022-04-12T15:35:17.355Z"
   },
   {
    "duration": 150,
    "start_time": "2022-04-12T15:35:44.141Z"
   },
   {
    "duration": 146,
    "start_time": "2022-04-12T15:35:55.080Z"
   },
   {
    "duration": 231,
    "start_time": "2022-04-12T15:37:41.729Z"
   },
   {
    "duration": 152,
    "start_time": "2022-04-12T15:37:57.023Z"
   },
   {
    "duration": 4,
    "start_time": "2022-04-12T15:46:22.677Z"
   },
   {
    "duration": 14,
    "start_time": "2022-04-12T15:47:15.102Z"
   },
   {
    "duration": 14,
    "start_time": "2022-04-12T15:48:31.451Z"
   },
   {
    "duration": 12,
    "start_time": "2022-04-12T15:49:04.756Z"
   },
   {
    "duration": 7,
    "start_time": "2022-04-12T15:49:12.410Z"
   },
   {
    "duration": 4,
    "start_time": "2022-04-12T15:49:56.254Z"
   },
   {
    "duration": 21,
    "start_time": "2022-04-12T15:50:36.992Z"
   },
   {
    "duration": 6,
    "start_time": "2022-04-12T15:53:36.795Z"
   },
   {
    "duration": 13,
    "start_time": "2022-04-12T15:53:57.803Z"
   },
   {
    "duration": 10,
    "start_time": "2022-04-12T15:54:18.368Z"
   },
   {
    "duration": 9,
    "start_time": "2022-04-12T15:55:16.334Z"
   },
   {
    "duration": 10,
    "start_time": "2022-04-12T15:55:22.889Z"
   },
   {
    "duration": 1496,
    "start_time": "2022-04-12T15:55:30.846Z"
   },
   {
    "duration": 37,
    "start_time": "2022-04-12T15:55:32.344Z"
   },
   {
    "duration": 3,
    "start_time": "2022-04-12T15:55:32.383Z"
   },
   {
    "duration": 75,
    "start_time": "2022-04-12T15:55:32.388Z"
   },
   {
    "duration": 10,
    "start_time": "2022-04-12T15:55:32.464Z"
   },
   {
    "duration": 13,
    "start_time": "2022-04-12T15:55:32.476Z"
   },
   {
    "duration": 22,
    "start_time": "2022-04-12T15:55:32.491Z"
   },
   {
    "duration": 5,
    "start_time": "2022-04-12T15:55:32.514Z"
   },
   {
    "duration": 67,
    "start_time": "2022-04-12T15:55:32.521Z"
   },
   {
    "duration": 143,
    "start_time": "2022-04-12T15:55:32.591Z"
   },
   {
    "duration": 44,
    "start_time": "2022-04-12T15:55:32.736Z"
   },
   {
    "duration": 169,
    "start_time": "2022-04-12T15:55:32.782Z"
   },
   {
    "duration": 112,
    "start_time": "2022-04-12T15:55:32.953Z"
   },
   {
    "duration": 1462,
    "start_time": "2022-04-12T15:55:57.888Z"
   },
   {
    "duration": 38,
    "start_time": "2022-04-12T15:55:59.352Z"
   },
   {
    "duration": 4,
    "start_time": "2022-04-12T15:55:59.392Z"
   },
   {
    "duration": 82,
    "start_time": "2022-04-12T15:55:59.397Z"
   },
   {
    "duration": 4,
    "start_time": "2022-04-12T15:55:59.481Z"
   },
   {
    "duration": 14,
    "start_time": "2022-04-12T15:55:59.487Z"
   },
   {
    "duration": 14,
    "start_time": "2022-04-12T15:55:59.502Z"
   },
   {
    "duration": 5,
    "start_time": "2022-04-12T15:55:59.518Z"
   },
   {
    "duration": 78,
    "start_time": "2022-04-12T15:55:59.524Z"
   },
   {
    "duration": 158,
    "start_time": "2022-04-12T15:55:59.605Z"
   },
   {
    "duration": 38,
    "start_time": "2022-04-12T15:55:59.764Z"
   },
   {
    "duration": 188,
    "start_time": "2022-04-12T15:55:59.804Z"
   },
   {
    "duration": 10,
    "start_time": "2022-04-12T15:55:59.995Z"
   },
   {
    "duration": 108,
    "start_time": "2022-04-12T15:56:49.266Z"
   },
   {
    "duration": 15,
    "start_time": "2022-04-12T16:00:31.671Z"
   },
   {
    "duration": 1393,
    "start_time": "2022-04-12T16:06:43.927Z"
   },
   {
    "duration": 43,
    "start_time": "2022-04-12T16:06:45.322Z"
   },
   {
    "duration": 3,
    "start_time": "2022-04-12T16:06:45.367Z"
   },
   {
    "duration": 74,
    "start_time": "2022-04-12T16:06:45.372Z"
   },
   {
    "duration": 4,
    "start_time": "2022-04-12T16:06:45.448Z"
   },
   {
    "duration": 13,
    "start_time": "2022-04-12T16:06:45.453Z"
   },
   {
    "duration": 18,
    "start_time": "2022-04-12T16:06:45.467Z"
   },
   {
    "duration": 4,
    "start_time": "2022-04-12T16:06:45.486Z"
   },
   {
    "duration": 63,
    "start_time": "2022-04-12T16:06:45.492Z"
   },
   {
    "duration": 141,
    "start_time": "2022-04-12T16:06:45.575Z"
   },
   {
    "duration": 32,
    "start_time": "2022-04-12T16:06:45.718Z"
   },
   {
    "duration": 190,
    "start_time": "2022-04-12T16:06:45.752Z"
   },
   {
    "duration": 6,
    "start_time": "2022-04-12T16:06:45.944Z"
   },
   {
    "duration": 7,
    "start_time": "2022-04-12T16:06:56.974Z"
   },
   {
    "duration": 111,
    "start_time": "2022-04-12T16:07:52.726Z"
   },
   {
    "duration": 17,
    "start_time": "2022-04-12T16:08:15.589Z"
   },
   {
    "duration": 15,
    "start_time": "2022-04-12T16:12:49.107Z"
   },
   {
    "duration": 13,
    "start_time": "2022-04-12T16:12:59.793Z"
   },
   {
    "duration": 12,
    "start_time": "2022-04-12T16:14:05.175Z"
   },
   {
    "duration": 261,
    "start_time": "2022-04-12T16:15:25.643Z"
   },
   {
    "duration": 326,
    "start_time": "2022-04-12T16:16:24.601Z"
   },
   {
    "duration": 235,
    "start_time": "2022-04-12T16:16:31.180Z"
   },
   {
    "duration": 264,
    "start_time": "2022-04-12T16:18:40.742Z"
   },
   {
    "duration": 259,
    "start_time": "2022-04-12T16:18:48.645Z"
   },
   {
    "duration": 215,
    "start_time": "2022-04-12T16:19:45.301Z"
   },
   {
    "duration": 253,
    "start_time": "2022-04-12T16:22:12.222Z"
   },
   {
    "duration": 280,
    "start_time": "2022-04-12T16:22:20.720Z"
   },
   {
    "duration": 6,
    "start_time": "2022-04-12T16:24:47.516Z"
   },
   {
    "duration": 5,
    "start_time": "2022-04-12T16:25:42.641Z"
   },
   {
    "duration": 12,
    "start_time": "2022-04-12T16:25:56.793Z"
   },
   {
    "duration": 273,
    "start_time": "2022-04-12T16:29:55.013Z"
   },
   {
    "duration": 278,
    "start_time": "2022-04-12T16:30:09.157Z"
   },
   {
    "duration": 299,
    "start_time": "2022-04-12T16:30:27.945Z"
   },
   {
    "duration": 1482,
    "start_time": "2022-04-12T16:30:37.635Z"
   },
   {
    "duration": 60,
    "start_time": "2022-04-12T16:30:39.120Z"
   },
   {
    "duration": 7,
    "start_time": "2022-04-12T16:30:39.182Z"
   },
   {
    "duration": 89,
    "start_time": "2022-04-12T16:30:39.192Z"
   },
   {
    "duration": 7,
    "start_time": "2022-04-12T16:30:39.285Z"
   },
   {
    "duration": 9,
    "start_time": "2022-04-12T16:30:39.294Z"
   },
   {
    "duration": 13,
    "start_time": "2022-04-12T16:30:39.305Z"
   },
   {
    "duration": 4,
    "start_time": "2022-04-12T16:30:39.320Z"
   },
   {
    "duration": 93,
    "start_time": "2022-04-12T16:30:39.326Z"
   },
   {
    "duration": 178,
    "start_time": "2022-04-12T16:30:39.422Z"
   },
   {
    "duration": 35,
    "start_time": "2022-04-12T16:30:39.603Z"
   },
   {
    "duration": 203,
    "start_time": "2022-04-12T16:30:39.640Z"
   },
   {
    "duration": 128,
    "start_time": "2022-04-12T16:30:39.845Z"
   },
   {
    "duration": 0,
    "start_time": "2022-04-12T16:30:39.975Z"
   },
   {
    "duration": 235,
    "start_time": "2022-04-12T16:30:55.395Z"
   },
   {
    "duration": 334,
    "start_time": "2022-04-12T16:30:59.110Z"
   },
   {
    "duration": 225,
    "start_time": "2022-04-12T16:31:10.513Z"
   },
   {
    "duration": 307,
    "start_time": "2022-04-12T16:31:43.739Z"
   },
   {
    "duration": 1648,
    "start_time": "2022-04-13T06:38:53.285Z"
   },
   {
    "duration": 58,
    "start_time": "2022-04-13T06:38:54.936Z"
   },
   {
    "duration": 4,
    "start_time": "2022-04-13T06:38:54.995Z"
   },
   {
    "duration": 79,
    "start_time": "2022-04-13T06:38:55.001Z"
   },
   {
    "duration": 5,
    "start_time": "2022-04-13T06:38:55.081Z"
   },
   {
    "duration": 9,
    "start_time": "2022-04-13T06:38:55.088Z"
   },
   {
    "duration": 15,
    "start_time": "2022-04-13T06:38:55.099Z"
   },
   {
    "duration": 5,
    "start_time": "2022-04-13T06:38:55.115Z"
   },
   {
    "duration": 88,
    "start_time": "2022-04-13T06:38:55.121Z"
   },
   {
    "duration": 143,
    "start_time": "2022-04-13T06:38:55.211Z"
   },
   {
    "duration": 31,
    "start_time": "2022-04-13T06:38:55.356Z"
   },
   {
    "duration": 173,
    "start_time": "2022-04-13T06:38:55.389Z"
   },
   {
    "duration": 373,
    "start_time": "2022-04-13T06:38:55.564Z"
   },
   {
    "duration": 6,
    "start_time": "2022-04-13T06:39:09.033Z"
   },
   {
    "duration": 6,
    "start_time": "2022-04-13T06:39:19.568Z"
   },
   {
    "duration": 6,
    "start_time": "2022-04-13T06:40:18.279Z"
   },
   {
    "duration": 113,
    "start_time": "2022-04-13T06:41:01.209Z"
   },
   {
    "duration": 9,
    "start_time": "2022-04-13T06:41:12.923Z"
   },
   {
    "duration": 16,
    "start_time": "2022-04-13T06:43:36.257Z"
   },
   {
    "duration": 12,
    "start_time": "2022-04-13T06:43:47.549Z"
   },
   {
    "duration": 13,
    "start_time": "2022-04-13T07:45:26.659Z"
   },
   {
    "duration": 1503,
    "start_time": "2022-04-13T07:45:55.256Z"
   },
   {
    "duration": 39,
    "start_time": "2022-04-13T07:45:56.760Z"
   },
   {
    "duration": 4,
    "start_time": "2022-04-13T07:45:56.800Z"
   },
   {
    "duration": 77,
    "start_time": "2022-04-13T07:45:56.806Z"
   },
   {
    "duration": 4,
    "start_time": "2022-04-13T07:45:56.884Z"
   },
   {
    "duration": 16,
    "start_time": "2022-04-13T07:45:56.890Z"
   },
   {
    "duration": 22,
    "start_time": "2022-04-13T07:45:56.907Z"
   },
   {
    "duration": 6,
    "start_time": "2022-04-13T07:45:56.931Z"
   },
   {
    "duration": 72,
    "start_time": "2022-04-13T07:45:56.938Z"
   },
   {
    "duration": 135,
    "start_time": "2022-04-13T07:45:57.014Z"
   },
   {
    "duration": 31,
    "start_time": "2022-04-13T07:45:57.155Z"
   },
   {
    "duration": 174,
    "start_time": "2022-04-13T07:45:57.188Z"
   },
   {
    "duration": 240,
    "start_time": "2022-04-13T07:45:57.364Z"
   },
   {
    "duration": 115,
    "start_time": "2022-04-13T07:45:57.606Z"
   },
   {
    "duration": 11,
    "start_time": "2022-04-13T07:46:23.318Z"
   },
   {
    "duration": 20,
    "start_time": "2022-04-13T07:47:07.382Z"
   },
   {
    "duration": 11,
    "start_time": "2022-04-13T07:47:33.653Z"
   },
   {
    "duration": 358,
    "start_time": "2022-04-13T07:47:34.552Z"
   },
   {
    "duration": 41,
    "start_time": "2022-04-13T07:48:18.015Z"
   },
   {
    "duration": 5,
    "start_time": "2022-04-13T07:54:22.794Z"
   },
   {
    "duration": 287,
    "start_time": "2022-04-13T07:55:34.470Z"
   },
   {
    "duration": 6,
    "start_time": "2022-04-13T07:56:38.806Z"
   },
   {
    "duration": 347,
    "start_time": "2022-04-13T07:56:40.822Z"
   },
   {
    "duration": 60,
    "start_time": "2022-04-13T13:10:47.377Z"
   },
   {
    "duration": 1778,
    "start_time": "2022-04-13T13:10:53.760Z"
   },
   {
    "duration": 50,
    "start_time": "2022-04-13T13:10:55.541Z"
   },
   {
    "duration": 5,
    "start_time": "2022-04-13T13:10:55.592Z"
   },
   {
    "duration": 99,
    "start_time": "2022-04-13T13:10:55.599Z"
   },
   {
    "duration": 4,
    "start_time": "2022-04-13T13:10:55.700Z"
   },
   {
    "duration": 10,
    "start_time": "2022-04-13T13:10:55.706Z"
   },
   {
    "duration": 22,
    "start_time": "2022-04-13T13:10:55.718Z"
   },
   {
    "duration": 7,
    "start_time": "2022-04-13T13:10:55.744Z"
   },
   {
    "duration": 112,
    "start_time": "2022-04-13T13:10:55.753Z"
   },
   {
    "duration": 180,
    "start_time": "2022-04-13T13:10:55.867Z"
   },
   {
    "duration": 43,
    "start_time": "2022-04-13T13:10:56.048Z"
   },
   {
    "duration": 231,
    "start_time": "2022-04-13T13:10:56.094Z"
   },
   {
    "duration": 433,
    "start_time": "2022-04-13T13:10:56.327Z"
   },
   {
    "duration": 14,
    "start_time": "2022-04-13T13:10:56.762Z"
   },
   {
    "duration": 6,
    "start_time": "2022-04-13T13:10:56.778Z"
   },
   {
    "duration": 474,
    "start_time": "2022-04-13T13:10:56.786Z"
   },
   {
    "duration": 0,
    "start_time": "2022-04-13T13:10:57.262Z"
   },
   {
    "duration": 7,
    "start_time": "2022-04-13T13:12:44.455Z"
   },
   {
    "duration": 386,
    "start_time": "2022-04-13T13:12:46.250Z"
   },
   {
    "duration": 7,
    "start_time": "2022-04-13T13:13:09.761Z"
   },
   {
    "duration": 7,
    "start_time": "2022-04-13T13:14:13.792Z"
   },
   {
    "duration": 8,
    "start_time": "2022-04-13T13:14:38.872Z"
   },
   {
    "duration": 18,
    "start_time": "2022-04-13T13:14:46.299Z"
   },
   {
    "duration": 6,
    "start_time": "2022-04-13T13:14:55.245Z"
   },
   {
    "duration": 12,
    "start_time": "2022-04-13T13:14:56.037Z"
   },
   {
    "duration": 6,
    "start_time": "2022-04-13T13:15:16.203Z"
   },
   {
    "duration": 12,
    "start_time": "2022-04-13T13:15:16.654Z"
   },
   {
    "duration": 9,
    "start_time": "2022-04-13T13:15:46.094Z"
   },
   {
    "duration": 6,
    "start_time": "2022-04-13T13:15:46.617Z"
   },
   {
    "duration": 13,
    "start_time": "2022-04-13T13:15:49.372Z"
   },
   {
    "duration": 1581,
    "start_time": "2022-04-13T13:16:02.779Z"
   },
   {
    "duration": 49,
    "start_time": "2022-04-13T13:16:04.362Z"
   },
   {
    "duration": 4,
    "start_time": "2022-04-13T13:16:04.412Z"
   },
   {
    "duration": 95,
    "start_time": "2022-04-13T13:16:04.420Z"
   },
   {
    "duration": 6,
    "start_time": "2022-04-13T13:16:04.517Z"
   },
   {
    "duration": 9,
    "start_time": "2022-04-13T13:16:04.534Z"
   },
   {
    "duration": 20,
    "start_time": "2022-04-13T13:16:04.546Z"
   },
   {
    "duration": 8,
    "start_time": "2022-04-13T13:16:04.569Z"
   },
   {
    "duration": 106,
    "start_time": "2022-04-13T13:16:04.579Z"
   },
   {
    "duration": 182,
    "start_time": "2022-04-13T13:16:04.688Z"
   },
   {
    "duration": 38,
    "start_time": "2022-04-13T13:16:04.872Z"
   },
   {
    "duration": 244,
    "start_time": "2022-04-13T13:16:04.912Z"
   },
   {
    "duration": 6,
    "start_time": "2022-04-13T13:16:05.157Z"
   },
   {
    "duration": 136,
    "start_time": "2022-04-13T13:16:05.165Z"
   },
   {
    "duration": 0,
    "start_time": "2022-04-13T13:16:05.303Z"
   },
   {
    "duration": 0,
    "start_time": "2022-04-13T13:16:05.304Z"
   },
   {
    "duration": 0,
    "start_time": "2022-04-13T13:16:05.305Z"
   },
   {
    "duration": 0,
    "start_time": "2022-04-13T13:16:05.306Z"
   },
   {
    "duration": 16,
    "start_time": "2022-04-13T13:16:16.229Z"
   },
   {
    "duration": 1726,
    "start_time": "2022-04-13T13:16:51.338Z"
   },
   {
    "duration": 49,
    "start_time": "2022-04-13T13:16:53.067Z"
   },
   {
    "duration": 4,
    "start_time": "2022-04-13T13:16:53.118Z"
   },
   {
    "duration": 89,
    "start_time": "2022-04-13T13:16:53.124Z"
   },
   {
    "duration": 4,
    "start_time": "2022-04-13T13:16:53.215Z"
   },
   {
    "duration": 7,
    "start_time": "2022-04-13T13:16:53.233Z"
   },
   {
    "duration": 15,
    "start_time": "2022-04-13T13:16:53.242Z"
   },
   {
    "duration": 7,
    "start_time": "2022-04-13T13:16:53.258Z"
   },
   {
    "duration": 102,
    "start_time": "2022-04-13T13:16:53.267Z"
   },
   {
    "duration": 171,
    "start_time": "2022-04-13T13:16:53.373Z"
   },
   {
    "duration": 39,
    "start_time": "2022-04-13T13:16:53.546Z"
   },
   {
    "duration": 228,
    "start_time": "2022-04-13T13:16:53.587Z"
   },
   {
    "duration": 6,
    "start_time": "2022-04-13T13:16:53.818Z"
   },
   {
    "duration": 285,
    "start_time": "2022-04-13T13:16:53.833Z"
   },
   {
    "duration": 23,
    "start_time": "2022-04-13T13:16:54.121Z"
   },
   {
    "duration": 93,
    "start_time": "2022-04-13T13:16:54.146Z"
   },
   {
    "duration": 395,
    "start_time": "2022-04-13T13:16:54.241Z"
   },
   {
    "duration": 170,
    "start_time": "2022-04-13T13:16:54.638Z"
   },
   {
    "duration": 6,
    "start_time": "2022-04-13T13:18:33.921Z"
   },
   {
    "duration": 315,
    "start_time": "2022-04-13T13:18:34.591Z"
   },
   {
    "duration": 8,
    "start_time": "2022-04-13T13:19:14.492Z"
   },
   {
    "duration": 311,
    "start_time": "2022-04-13T13:19:14.935Z"
   },
   {
    "duration": 7,
    "start_time": "2022-04-13T13:20:19.354Z"
   },
   {
    "duration": 1052,
    "start_time": "2022-04-13T13:20:20.456Z"
   },
   {
    "duration": 6,
    "start_time": "2022-04-13T13:21:02.734Z"
   },
   {
    "duration": 310,
    "start_time": "2022-04-13T13:21:03.257Z"
   },
   {
    "duration": 6,
    "start_time": "2022-04-13T13:21:22.897Z"
   },
   {
    "duration": 291,
    "start_time": "2022-04-13T13:21:23.719Z"
   },
   {
    "duration": 5,
    "start_time": "2022-04-13T13:21:37.750Z"
   },
   {
    "duration": 306,
    "start_time": "2022-04-13T13:21:38.199Z"
   },
   {
    "duration": 155,
    "start_time": "2022-04-13T13:22:06.194Z"
   },
   {
    "duration": 305,
    "start_time": "2022-04-13T13:22:13.941Z"
   },
   {
    "duration": 1775,
    "start_time": "2022-04-13T16:14:43.841Z"
   },
   {
    "duration": 64,
    "start_time": "2022-04-13T16:14:45.618Z"
   },
   {
    "duration": 3,
    "start_time": "2022-04-13T16:14:45.684Z"
   },
   {
    "duration": 90,
    "start_time": "2022-04-13T16:14:45.689Z"
   },
   {
    "duration": 5,
    "start_time": "2022-04-13T16:14:45.781Z"
   },
   {
    "duration": 10,
    "start_time": "2022-04-13T16:14:45.788Z"
   },
   {
    "duration": 30,
    "start_time": "2022-04-13T16:14:45.800Z"
   },
   {
    "duration": 6,
    "start_time": "2022-04-13T16:14:45.833Z"
   },
   {
    "duration": 113,
    "start_time": "2022-04-13T16:14:45.840Z"
   },
   {
    "duration": 158,
    "start_time": "2022-04-13T16:14:45.961Z"
   },
   {
    "duration": 53,
    "start_time": "2022-04-13T16:14:46.121Z"
   },
   {
    "duration": 206,
    "start_time": "2022-04-13T16:14:46.176Z"
   },
   {
    "duration": 5,
    "start_time": "2022-04-13T16:14:46.383Z"
   },
   {
    "duration": 392,
    "start_time": "2022-04-13T16:14:46.389Z"
   },
   {
    "duration": 5,
    "start_time": "2022-04-13T16:14:46.782Z"
   },
   {
    "duration": 1008,
    "start_time": "2022-04-13T16:14:46.789Z"
   },
   {
    "duration": 196,
    "start_time": "2022-04-13T16:14:47.799Z"
   },
   {
    "duration": 166,
    "start_time": "2022-04-13T16:20:03.324Z"
   },
   {
    "duration": 53,
    "start_time": "2022-04-13T16:21:27.561Z"
   },
   {
    "duration": 185,
    "start_time": "2022-04-13T16:21:41.177Z"
   },
   {
    "duration": 63,
    "start_time": "2022-04-13T16:21:44.310Z"
   },
   {
    "duration": 50,
    "start_time": "2022-04-13T16:22:12.055Z"
   },
   {
    "duration": 174,
    "start_time": "2022-04-13T16:22:27.706Z"
   },
   {
    "duration": 136,
    "start_time": "2022-04-13T16:22:42.354Z"
   },
   {
    "duration": 271,
    "start_time": "2022-04-13T16:22:54.681Z"
   },
   {
    "duration": 260,
    "start_time": "2022-04-13T16:24:18.145Z"
   },
   {
    "duration": 292,
    "start_time": "2022-04-13T16:24:48.145Z"
   },
   {
    "duration": 357,
    "start_time": "2022-04-13T16:25:43.499Z"
   },
   {
    "duration": 4989,
    "start_time": "2022-04-13T16:27:38.541Z"
   },
   {
    "duration": 58,
    "start_time": "2022-04-13T16:27:43.534Z"
   },
   {
    "duration": 4,
    "start_time": "2022-04-13T16:27:43.594Z"
   },
   {
    "duration": 89,
    "start_time": "2022-04-13T16:27:43.599Z"
   },
   {
    "duration": 4,
    "start_time": "2022-04-13T16:27:43.690Z"
   },
   {
    "duration": 7,
    "start_time": "2022-04-13T16:27:43.695Z"
   },
   {
    "duration": 31,
    "start_time": "2022-04-13T16:27:43.703Z"
   },
   {
    "duration": 9,
    "start_time": "2022-04-13T16:27:43.736Z"
   },
   {
    "duration": 65,
    "start_time": "2022-04-13T16:27:43.749Z"
   },
   {
    "duration": 178,
    "start_time": "2022-04-13T16:27:43.816Z"
   },
   {
    "duration": 60,
    "start_time": "2022-04-13T16:27:43.996Z"
   },
   {
    "duration": 187,
    "start_time": "2022-04-13T16:27:44.059Z"
   },
   {
    "duration": 8,
    "start_time": "2022-04-13T16:27:44.248Z"
   },
   {
    "duration": 265,
    "start_time": "2022-04-13T16:27:44.265Z"
   },
   {
    "duration": 12,
    "start_time": "2022-04-13T16:27:44.532Z"
   },
   {
    "duration": 1138,
    "start_time": "2022-04-13T16:27:44.546Z"
   },
   {
    "duration": 192,
    "start_time": "2022-04-13T16:27:45.686Z"
   },
   {
    "duration": 8,
    "start_time": "2022-04-13T16:32:16.756Z"
   },
   {
    "duration": 297,
    "start_time": "2022-04-13T16:32:18.259Z"
   },
   {
    "duration": 13,
    "start_time": "2022-04-13T16:32:22.227Z"
   },
   {
    "duration": 1028,
    "start_time": "2022-04-13T16:33:26.970Z"
   },
   {
    "duration": 6,
    "start_time": "2022-04-13T16:36:01.503Z"
   },
   {
    "duration": 282,
    "start_time": "2022-04-13T16:36:04.897Z"
   },
   {
    "duration": 250,
    "start_time": "2022-04-13T16:36:09.831Z"
   },
   {
    "duration": 4,
    "start_time": "2022-04-13T16:38:23.511Z"
   },
   {
    "duration": 5,
    "start_time": "2022-04-13T16:39:08.775Z"
   },
   {
    "duration": 295,
    "start_time": "2022-04-13T16:39:30.336Z"
   },
   {
    "duration": 286,
    "start_time": "2022-04-13T16:40:03.211Z"
   },
   {
    "duration": 306,
    "start_time": "2022-04-13T16:43:52.367Z"
   },
   {
    "duration": 108,
    "start_time": "2022-04-13T16:44:12.238Z"
   },
   {
    "duration": 1724,
    "start_time": "2022-04-13T16:44:36.215Z"
   },
   {
    "duration": 62,
    "start_time": "2022-04-13T16:44:37.941Z"
   },
   {
    "duration": 4,
    "start_time": "2022-04-13T16:44:38.004Z"
   },
   {
    "duration": 85,
    "start_time": "2022-04-13T16:44:38.010Z"
   },
   {
    "duration": 5,
    "start_time": "2022-04-13T16:44:38.096Z"
   },
   {
    "duration": 8,
    "start_time": "2022-04-13T16:44:38.102Z"
   },
   {
    "duration": 28,
    "start_time": "2022-04-13T16:44:38.111Z"
   },
   {
    "duration": 12,
    "start_time": "2022-04-13T16:44:38.141Z"
   },
   {
    "duration": 92,
    "start_time": "2022-04-13T16:44:38.155Z"
   },
   {
    "duration": 177,
    "start_time": "2022-04-13T16:44:38.253Z"
   },
   {
    "duration": 49,
    "start_time": "2022-04-13T16:44:38.432Z"
   },
   {
    "duration": 194,
    "start_time": "2022-04-13T16:44:38.483Z"
   },
   {
    "duration": 6,
    "start_time": "2022-04-13T16:44:38.678Z"
   },
   {
    "duration": 310,
    "start_time": "2022-04-13T16:44:38.686Z"
   },
   {
    "duration": 4,
    "start_time": "2022-04-13T16:44:38.998Z"
   },
   {
    "duration": 27,
    "start_time": "2022-04-13T16:44:39.003Z"
   },
   {
    "duration": 129,
    "start_time": "2022-04-13T16:44:39.032Z"
   },
   {
    "duration": 0,
    "start_time": "2022-04-13T16:44:39.165Z"
   },
   {
    "duration": 0,
    "start_time": "2022-04-13T16:44:39.166Z"
   },
   {
    "duration": 0,
    "start_time": "2022-04-13T16:44:39.167Z"
   },
   {
    "duration": 327,
    "start_time": "2022-04-13T16:45:03.330Z"
   },
   {
    "duration": 173,
    "start_time": "2022-04-13T16:45:06.264Z"
   },
   {
    "duration": 621,
    "start_time": "2022-04-13T16:46:28.727Z"
   },
   {
    "duration": 6,
    "start_time": "2022-04-13T16:48:19.144Z"
   },
   {
    "duration": 20,
    "start_time": "2022-04-13T16:48:51.839Z"
   },
   {
    "duration": 6,
    "start_time": "2022-04-13T16:50:10.129Z"
   },
   {
    "duration": 5,
    "start_time": "2022-04-13T16:50:10.500Z"
   },
   {
    "duration": 19,
    "start_time": "2022-04-13T16:50:18.141Z"
   },
   {
    "duration": 10312,
    "start_time": "2022-04-13T16:50:35.873Z"
   },
   {
    "duration": 8,
    "start_time": "2022-04-13T16:52:19.843Z"
   },
   {
    "duration": 11,
    "start_time": "2022-04-13T16:52:20.603Z"
   },
   {
    "duration": 195,
    "start_time": "2022-04-13T16:53:20.957Z"
   },
   {
    "duration": 6,
    "start_time": "2022-04-13T16:53:28.908Z"
   },
   {
    "duration": 5,
    "start_time": "2022-04-13T16:53:31.616Z"
   },
   {
    "duration": 9,
    "start_time": "2022-04-13T16:53:36.063Z"
   },
   {
    "duration": 6,
    "start_time": "2022-04-13T16:53:50.884Z"
   },
   {
    "duration": 9,
    "start_time": "2022-04-13T16:53:51.511Z"
   },
   {
    "duration": 225,
    "start_time": "2022-04-13T16:53:57.154Z"
   },
   {
    "duration": 367,
    "start_time": "2022-04-13T16:54:02.336Z"
   },
   {
    "duration": 12,
    "start_time": "2022-04-13T16:54:04.621Z"
   },
   {
    "duration": 5,
    "start_time": "2022-04-13T16:54:05.479Z"
   },
   {
    "duration": 10626,
    "start_time": "2022-04-13T16:54:06.839Z"
   },
   {
    "duration": 10222,
    "start_time": "2022-04-13T16:54:49.855Z"
   },
   {
    "duration": 295,
    "start_time": "2022-04-13T16:56:41.693Z"
   },
   {
    "duration": 9,
    "start_time": "2022-04-13T16:56:45.943Z"
   },
   {
    "duration": 257,
    "start_time": "2022-04-13T16:56:46.740Z"
   },
   {
    "duration": 6,
    "start_time": "2022-04-13T16:56:56.978Z"
   },
   {
    "duration": 223,
    "start_time": "2022-04-13T16:56:57.367Z"
   },
   {
    "duration": 8,
    "start_time": "2022-04-13T16:56:59.228Z"
   },
   {
    "duration": 10,
    "start_time": "2022-04-13T16:56:59.653Z"
   },
   {
    "duration": 10444,
    "start_time": "2022-04-13T16:57:00.419Z"
   },
   {
    "duration": 5,
    "start_time": "2022-04-13T17:01:02.496Z"
   },
   {
    "duration": 11,
    "start_time": "2022-04-13T17:01:02.952Z"
   },
   {
    "duration": 22669,
    "start_time": "2022-04-13T17:01:03.458Z"
   },
   {
    "duration": 204,
    "start_time": "2022-04-13T17:02:56.038Z"
   },
   {
    "duration": 5,
    "start_time": "2022-04-13T17:03:01.205Z"
   },
   {
    "duration": 5,
    "start_time": "2022-04-13T17:03:03.710Z"
   },
   {
    "duration": 10582,
    "start_time": "2022-04-13T17:03:12.705Z"
   },
   {
    "duration": 308,
    "start_time": "2022-04-13T17:13:03.310Z"
   },
   {
    "duration": 8,
    "start_time": "2022-04-13T17:14:19.879Z"
   },
   {
    "duration": 1327,
    "start_time": "2022-04-13T17:14:57.428Z"
   },
   {
    "duration": 14,
    "start_time": "2022-04-13T17:16:02.339Z"
   },
   {
    "duration": 7,
    "start_time": "2022-04-13T17:16:04.004Z"
   },
   {
    "duration": 1369,
    "start_time": "2022-04-13T17:16:05.543Z"
   },
   {
    "duration": 30,
    "start_time": "2022-04-13T17:21:30.426Z"
   },
   {
    "duration": 25,
    "start_time": "2022-04-13T17:22:10.027Z"
   },
   {
    "duration": 464,
    "start_time": "2022-04-13T17:22:15.542Z"
   },
   {
    "duration": 483,
    "start_time": "2022-04-13T17:23:24.491Z"
   },
   {
    "duration": 45,
    "start_time": "2022-04-13T17:24:18.213Z"
   },
   {
    "duration": 11,
    "start_time": "2022-04-13T17:24:48.165Z"
   },
   {
    "duration": 42144,
    "start_time": "2022-04-13T17:24:48.873Z"
   },
   {
    "duration": 10,
    "start_time": "2022-04-13T17:26:11.943Z"
   },
   {
    "duration": 171541,
    "start_time": "2022-04-13T17:26:12.589Z"
   },
   {
    "duration": 443,
    "start_time": "2022-04-13T17:32:02.981Z"
   },
   {
    "duration": 165150,
    "start_time": "2022-04-13T17:32:29.879Z"
   },
   {
    "duration": 12,
    "start_time": "2022-04-13T17:35:52.650Z"
   },
   {
    "duration": 1322,
    "start_time": "2022-04-13T17:36:00.788Z"
   },
   {
    "duration": 5232,
    "start_time": "2022-04-13T17:38:24.583Z"
   },
   {
    "duration": 0,
    "start_time": "2022-04-13T17:38:29.818Z"
   },
   {
    "duration": 10,
    "start_time": "2022-04-13T17:38:31.925Z"
   },
   {
    "duration": 10326,
    "start_time": "2022-04-13T17:38:33.020Z"
   },
   {
    "duration": 11,
    "start_time": "2022-04-13T17:40:57.848Z"
   },
   {
    "duration": 739,
    "start_time": "2022-04-13T17:41:03.349Z"
   },
   {
    "duration": 791,
    "start_time": "2022-04-13T17:41:55.281Z"
   },
   {
    "duration": 1676,
    "start_time": "2022-04-13T17:42:24.596Z"
   },
   {
    "duration": 44,
    "start_time": "2022-04-13T17:42:26.274Z"
   },
   {
    "duration": 14,
    "start_time": "2022-04-13T17:42:26.320Z"
   },
   {
    "duration": 83,
    "start_time": "2022-04-13T17:42:26.345Z"
   },
   {
    "duration": 8,
    "start_time": "2022-04-13T17:42:26.430Z"
   },
   {
    "duration": 15,
    "start_time": "2022-04-13T17:42:26.452Z"
   },
   {
    "duration": 14,
    "start_time": "2022-04-13T17:42:26.470Z"
   },
   {
    "duration": 5,
    "start_time": "2022-04-13T17:42:26.486Z"
   },
   {
    "duration": 82,
    "start_time": "2022-04-13T17:42:26.492Z"
   },
   {
    "duration": 182,
    "start_time": "2022-04-13T17:42:26.577Z"
   },
   {
    "duration": 36,
    "start_time": "2022-04-13T17:42:26.762Z"
   },
   {
    "duration": 177,
    "start_time": "2022-04-13T17:42:26.800Z"
   },
   {
    "duration": 5,
    "start_time": "2022-04-13T17:42:26.979Z"
   },
   {
    "duration": 298,
    "start_time": "2022-04-13T17:42:26.985Z"
   },
   {
    "duration": 5,
    "start_time": "2022-04-13T17:42:27.285Z"
   },
   {
    "duration": 10395,
    "start_time": "2022-04-13T17:42:27.292Z"
   },
   {
    "duration": 798,
    "start_time": "2022-04-13T17:42:37.689Z"
   },
   {
    "duration": 132,
    "start_time": "2022-04-13T17:42:38.489Z"
   },
   {
    "duration": 0,
    "start_time": "2022-04-13T17:42:38.624Z"
   },
   {
    "duration": 11,
    "start_time": "2022-04-13T18:12:47.282Z"
   },
   {
    "duration": 5,
    "start_time": "2022-04-13T18:16:02.305Z"
   },
   {
    "duration": 16,
    "start_time": "2022-04-13T18:16:18.613Z"
   },
   {
    "duration": 29,
    "start_time": "2022-04-13T18:16:45.569Z"
   },
   {
    "duration": 11,
    "start_time": "2022-04-13T18:16:54.911Z"
   },
   {
    "duration": 20,
    "start_time": "2022-04-13T18:17:05.755Z"
   },
   {
    "duration": 22,
    "start_time": "2022-04-13T18:17:26.297Z"
   },
   {
    "duration": 18,
    "start_time": "2022-04-13T18:18:24.540Z"
   },
   {
    "duration": 6,
    "start_time": "2022-04-13T18:19:01.658Z"
   },
   {
    "duration": 6,
    "start_time": "2022-04-13T18:19:27.087Z"
   },
   {
    "duration": 9,
    "start_time": "2022-04-13T18:19:31.540Z"
   },
   {
    "duration": 33,
    "start_time": "2022-04-13T18:20:21.855Z"
   },
   {
    "duration": 7,
    "start_time": "2022-04-13T18:20:28.973Z"
   },
   {
    "duration": 116,
    "start_time": "2022-04-13T18:20:55.592Z"
   },
   {
    "duration": 22,
    "start_time": "2022-04-13T18:21:54.294Z"
   },
   {
    "duration": 36,
    "start_time": "2022-04-13T18:26:32.004Z"
   },
   {
    "duration": 10449,
    "start_time": "2022-04-13T18:27:40.343Z"
   },
   {
    "duration": 11196,
    "start_time": "2022-04-13T18:28:00.683Z"
   },
   {
    "duration": 4,
    "start_time": "2022-04-13T18:29:03.212Z"
   },
   {
    "duration": 10404,
    "start_time": "2022-04-13T18:29:11.095Z"
   },
   {
    "duration": 9,
    "start_time": "2022-04-13T18:29:36.598Z"
   },
   {
    "duration": 585,
    "start_time": "2022-04-13T18:29:43.690Z"
   },
   {
    "duration": 679,
    "start_time": "2022-04-13T18:30:34.905Z"
   },
   {
    "duration": 396,
    "start_time": "2022-04-13T18:30:56.191Z"
   },
   {
    "duration": 861,
    "start_time": "2022-04-13T18:31:12.438Z"
   },
   {
    "duration": 11198,
    "start_time": "2022-04-13T18:31:47.402Z"
   },
   {
    "duration": 843,
    "start_time": "2022-04-13T18:33:58.041Z"
   },
   {
    "duration": 1193,
    "start_time": "2022-04-13T18:34:16.128Z"
   },
   {
    "duration": 1716,
    "start_time": "2022-04-13T18:34:43.325Z"
   },
   {
    "duration": 53,
    "start_time": "2022-04-13T18:34:45.045Z"
   },
   {
    "duration": 4,
    "start_time": "2022-04-13T18:34:45.100Z"
   },
   {
    "duration": 83,
    "start_time": "2022-04-13T18:34:45.106Z"
   },
   {
    "duration": 5,
    "start_time": "2022-04-13T18:34:45.191Z"
   },
   {
    "duration": 7,
    "start_time": "2022-04-13T18:34:45.198Z"
   },
   {
    "duration": 34,
    "start_time": "2022-04-13T18:34:45.207Z"
   },
   {
    "duration": 13,
    "start_time": "2022-04-13T18:34:45.243Z"
   },
   {
    "duration": 84,
    "start_time": "2022-04-13T18:34:45.261Z"
   },
   {
    "duration": 213,
    "start_time": "2022-04-13T18:34:45.348Z"
   },
   {
    "duration": 35,
    "start_time": "2022-04-13T18:34:45.563Z"
   },
   {
    "duration": 243,
    "start_time": "2022-04-13T18:34:45.600Z"
   },
   {
    "duration": 8,
    "start_time": "2022-04-13T18:34:45.844Z"
   },
   {
    "duration": 247,
    "start_time": "2022-04-13T18:34:45.854Z"
   },
   {
    "duration": 5,
    "start_time": "2022-04-13T18:34:46.103Z"
   },
   {
    "duration": 12295,
    "start_time": "2022-04-13T18:34:46.109Z"
   },
   {
    "duration": 1605,
    "start_time": "2022-04-15T11:59:23.441Z"
   },
   {
    "duration": 48,
    "start_time": "2022-04-15T11:59:25.048Z"
   },
   {
    "duration": 3,
    "start_time": "2022-04-15T11:59:25.098Z"
   },
   {
    "duration": 75,
    "start_time": "2022-04-15T11:59:25.106Z"
   },
   {
    "duration": 4,
    "start_time": "2022-04-15T11:59:25.183Z"
   },
   {
    "duration": 21,
    "start_time": "2022-04-15T11:59:25.189Z"
   },
   {
    "duration": 13,
    "start_time": "2022-04-15T11:59:25.211Z"
   },
   {
    "duration": 4,
    "start_time": "2022-04-15T11:59:25.226Z"
   },
   {
    "duration": 85,
    "start_time": "2022-04-15T11:59:25.231Z"
   },
   {
    "duration": 155,
    "start_time": "2022-04-15T11:59:25.319Z"
   },
   {
    "duration": 42,
    "start_time": "2022-04-15T11:59:25.476Z"
   },
   {
    "duration": 192,
    "start_time": "2022-04-15T11:59:25.520Z"
   },
   {
    "duration": 6,
    "start_time": "2022-04-15T11:59:25.714Z"
   },
   {
    "duration": 336,
    "start_time": "2022-04-15T11:59:25.721Z"
   },
   {
    "duration": 5,
    "start_time": "2022-04-15T11:59:26.059Z"
   },
   {
    "duration": 11620,
    "start_time": "2022-04-15T11:59:26.066Z"
   },
   {
    "duration": 35,
    "start_time": "2022-04-15T12:04:18.573Z"
   },
   {
    "duration": 68,
    "start_time": "2022-04-15T12:04:28.734Z"
   },
   {
    "duration": 122,
    "start_time": "2022-04-15T12:05:32.612Z"
   },
   {
    "duration": 117,
    "start_time": "2022-04-15T12:11:43.808Z"
   },
   {
    "duration": 115,
    "start_time": "2022-04-15T12:14:08.579Z"
   },
   {
    "duration": 118,
    "start_time": "2022-04-15T12:14:54.657Z"
   },
   {
    "duration": 127,
    "start_time": "2022-04-15T12:17:29.692Z"
   },
   {
    "duration": 114,
    "start_time": "2022-04-15T12:17:38.590Z"
   },
   {
    "duration": 113,
    "start_time": "2022-04-15T12:17:52.646Z"
   },
   {
    "duration": 5,
    "start_time": "2022-04-15T12:21:54.958Z"
   },
   {
    "duration": 18,
    "start_time": "2022-04-15T12:21:59.943Z"
   },
   {
    "duration": 3780,
    "start_time": "2022-04-17T16:54:44.188Z"
   },
   {
    "duration": 142,
    "start_time": "2022-04-17T16:54:47.971Z"
   },
   {
    "duration": 7,
    "start_time": "2022-04-17T16:54:48.116Z"
   },
   {
    "duration": 143,
    "start_time": "2022-04-17T16:54:48.129Z"
   },
   {
    "duration": 6,
    "start_time": "2022-04-17T16:54:48.274Z"
   },
   {
    "duration": 33,
    "start_time": "2022-04-17T16:54:48.282Z"
   },
   {
    "duration": 41,
    "start_time": "2022-04-17T16:54:48.317Z"
   },
   {
    "duration": 50,
    "start_time": "2022-04-17T16:54:48.360Z"
   },
   {
    "duration": 107,
    "start_time": "2022-04-17T16:54:48.413Z"
   },
   {
    "duration": 247,
    "start_time": "2022-04-17T16:54:48.524Z"
   },
   {
    "duration": 64,
    "start_time": "2022-04-17T16:54:48.774Z"
   },
   {
    "duration": 286,
    "start_time": "2022-04-17T16:54:48.841Z"
   },
   {
    "duration": 9,
    "start_time": "2022-04-17T16:54:49.129Z"
   },
   {
    "duration": 406,
    "start_time": "2022-04-17T16:54:49.141Z"
   },
   {
    "duration": 0,
    "start_time": "2022-04-17T16:54:49.550Z"
   },
   {
    "duration": 0,
    "start_time": "2022-04-17T16:54:49.551Z"
   },
   {
    "duration": 0,
    "start_time": "2022-04-17T16:54:49.554Z"
   },
   {
    "duration": 0,
    "start_time": "2022-04-17T16:54:49.556Z"
   },
   {
    "duration": 14,
    "start_time": "2022-04-17T16:56:15.690Z"
   },
   {
    "duration": 30,
    "start_time": "2022-04-17T16:56:23.594Z"
   },
   {
    "duration": 110,
    "start_time": "2022-04-17T16:57:07.457Z"
   },
   {
    "duration": 444,
    "start_time": "2022-04-17T16:57:10.666Z"
   },
   {
    "duration": 10,
    "start_time": "2022-04-17T16:58:20.595Z"
   },
   {
    "duration": 555,
    "start_time": "2022-04-17T16:58:22.937Z"
   },
   {
    "duration": 11,
    "start_time": "2022-04-17T16:58:37.730Z"
   },
   {
    "duration": 788,
    "start_time": "2022-04-17T16:58:40.874Z"
   },
   {
    "duration": 7,
    "start_time": "2022-04-17T16:58:58.757Z"
   },
   {
    "duration": 7,
    "start_time": "2022-04-17T16:59:44.529Z"
   },
   {
    "duration": 8,
    "start_time": "2022-04-17T17:00:25.227Z"
   },
   {
    "duration": 18618,
    "start_time": "2022-04-17T17:00:26.116Z"
   },
   {
    "duration": 9,
    "start_time": "2022-04-17T17:01:02.893Z"
   },
   {
    "duration": 20411,
    "start_time": "2022-04-17T17:01:03.560Z"
   },
   {
    "duration": 12,
    "start_time": "2022-04-17T17:02:29.524Z"
   },
   {
    "duration": 537,
    "start_time": "2022-04-17T17:02:40.230Z"
   },
   {
    "duration": 8,
    "start_time": "2022-04-17T17:02:56.852Z"
   },
   {
    "duration": 124,
    "start_time": "2022-04-17T17:03:03.701Z"
   },
   {
    "duration": 2141,
    "start_time": "2022-04-17T17:03:36.983Z"
   },
   {
    "duration": 57,
    "start_time": "2022-04-17T17:03:39.127Z"
   },
   {
    "duration": 5,
    "start_time": "2022-04-17T17:03:39.187Z"
   },
   {
    "duration": 141,
    "start_time": "2022-04-17T17:03:39.195Z"
   },
   {
    "duration": 6,
    "start_time": "2022-04-17T17:03:39.338Z"
   },
   {
    "duration": 21,
    "start_time": "2022-04-17T17:03:39.347Z"
   },
   {
    "duration": 20,
    "start_time": "2022-04-17T17:03:39.371Z"
   },
   {
    "duration": 30,
    "start_time": "2022-04-17T17:03:39.394Z"
   },
   {
    "duration": 192,
    "start_time": "2022-04-17T17:03:39.427Z"
   },
   {
    "duration": 399,
    "start_time": "2022-04-17T17:03:39.628Z"
   },
   {
    "duration": 97,
    "start_time": "2022-04-17T17:03:40.030Z"
   },
   {
    "duration": 280,
    "start_time": "2022-04-17T17:03:40.130Z"
   },
   {
    "duration": 16,
    "start_time": "2022-04-17T17:03:40.412Z"
   },
   {
    "duration": 550,
    "start_time": "2022-04-17T17:03:40.430Z"
   },
   {
    "duration": 8,
    "start_time": "2022-04-17T17:03:40.982Z"
   },
   {
    "duration": 297,
    "start_time": "2022-04-17T17:03:40.992Z"
   },
   {
    "duration": 0,
    "start_time": "2022-04-17T17:03:41.291Z"
   },
   {
    "duration": 100,
    "start_time": "2022-04-17T17:04:57.091Z"
   },
   {
    "duration": 401,
    "start_time": "2022-04-17T17:04:57.869Z"
   },
   {
    "duration": 8,
    "start_time": "2022-04-17T17:05:00.231Z"
   },
   {
    "duration": 223,
    "start_time": "2022-04-17T17:05:01.017Z"
   },
   {
    "duration": 526,
    "start_time": "2022-04-17T17:05:58.760Z"
   },
   {
    "duration": 561,
    "start_time": "2022-04-17T17:08:00.611Z"
   },
   {
    "duration": 11,
    "start_time": "2022-04-17T17:08:08.218Z"
   },
   {
    "duration": 8,
    "start_time": "2022-04-17T17:08:16.267Z"
   },
   {
    "duration": 127,
    "start_time": "2022-04-17T17:08:17.144Z"
   },
   {
    "duration": 7,
    "start_time": "2022-04-17T17:09:24.834Z"
   },
   {
    "duration": 12176,
    "start_time": "2022-04-17T17:09:25.364Z"
   },
   {
    "duration": 2026,
    "start_time": "2022-04-17T17:15:27.941Z"
   },
   {
    "duration": 62,
    "start_time": "2022-04-17T17:15:29.970Z"
   },
   {
    "duration": 7,
    "start_time": "2022-04-17T17:15:30.035Z"
   },
   {
    "duration": 142,
    "start_time": "2022-04-17T17:15:30.047Z"
   },
   {
    "duration": 8,
    "start_time": "2022-04-17T17:15:30.192Z"
   },
   {
    "duration": 28,
    "start_time": "2022-04-17T17:15:30.202Z"
   },
   {
    "duration": 27,
    "start_time": "2022-04-17T17:15:30.235Z"
   },
   {
    "duration": 15,
    "start_time": "2022-04-17T17:15:30.265Z"
   },
   {
    "duration": 149,
    "start_time": "2022-04-17T17:15:30.282Z"
   },
   {
    "duration": 255,
    "start_time": "2022-04-17T17:15:30.435Z"
   },
   {
    "duration": 78,
    "start_time": "2022-04-17T17:15:30.692Z"
   },
   {
    "duration": 288,
    "start_time": "2022-04-17T17:15:30.773Z"
   },
   {
    "duration": 11,
    "start_time": "2022-04-17T17:15:31.063Z"
   },
   {
    "duration": 583,
    "start_time": "2022-04-17T17:15:31.076Z"
   },
   {
    "duration": 8,
    "start_time": "2022-04-17T17:15:31.661Z"
   },
   {
    "duration": 12255,
    "start_time": "2022-04-17T17:15:31.671Z"
   },
   {
    "duration": 196,
    "start_time": "2022-04-17T17:15:43.928Z"
   },
   {
    "duration": 327,
    "start_time": "2022-04-17T17:20:26.365Z"
   },
   {
    "duration": 404,
    "start_time": "2022-04-17T17:27:36.917Z"
   },
   {
    "duration": 391,
    "start_time": "2022-04-17T17:27:45.934Z"
   },
   {
    "duration": 757,
    "start_time": "2022-04-17T17:39:09.511Z"
   },
   {
    "duration": 788,
    "start_time": "2022-04-17T17:39:29.848Z"
   },
   {
    "duration": 734,
    "start_time": "2022-04-17T17:39:41.810Z"
   },
   {
    "duration": 382,
    "start_time": "2022-04-17T17:41:47.246Z"
   },
   {
    "duration": 427,
    "start_time": "2022-04-17T17:42:10.397Z"
   },
   {
    "duration": 405,
    "start_time": "2022-04-17T17:42:39.395Z"
   },
   {
    "duration": 495,
    "start_time": "2022-04-17T17:43:38.634Z"
   },
   {
    "duration": 11,
    "start_time": "2022-04-17T17:44:19.229Z"
   },
   {
    "duration": 715,
    "start_time": "2022-04-17T17:44:19.828Z"
   },
   {
    "duration": 766,
    "start_time": "2022-04-17T17:44:43.197Z"
   },
   {
    "duration": 810,
    "start_time": "2022-04-17T17:45:06.820Z"
   },
   {
    "duration": 6,
    "start_time": "2022-04-17T17:45:54.405Z"
   },
   {
    "duration": 9,
    "start_time": "2022-04-17T17:46:02.475Z"
   },
   {
    "duration": 7,
    "start_time": "2022-04-17T17:47:18.284Z"
   },
   {
    "duration": 12,
    "start_time": "2022-04-17T17:48:03.488Z"
   },
   {
    "duration": 362,
    "start_time": "2022-04-17T17:48:05.763Z"
   },
   {
    "duration": 375,
    "start_time": "2022-04-17T17:48:26.166Z"
   },
   {
    "duration": 12,
    "start_time": "2022-04-17T17:48:43.402Z"
   },
   {
    "duration": 446,
    "start_time": "2022-04-17T17:48:44.246Z"
   },
   {
    "duration": 13,
    "start_time": "2022-04-17T17:50:48.989Z"
   },
   {
    "duration": 630,
    "start_time": "2022-04-17T17:51:17.996Z"
   },
   {
    "duration": 629,
    "start_time": "2022-04-17T17:51:58.242Z"
   },
   {
    "duration": 448,
    "start_time": "2022-04-17T17:57:11.252Z"
   },
   {
    "duration": 578,
    "start_time": "2022-04-17T17:58:06.208Z"
   },
   {
    "duration": 537,
    "start_time": "2022-04-17T18:01:51.670Z"
   },
   {
    "duration": 446,
    "start_time": "2022-04-17T18:02:09.640Z"
   },
   {
    "duration": 936,
    "start_time": "2022-04-17T18:04:53.571Z"
   },
   {
    "duration": 581,
    "start_time": "2022-04-17T18:05:32.430Z"
   },
   {
    "duration": 415,
    "start_time": "2022-04-17T18:06:39.874Z"
   },
   {
    "duration": 11,
    "start_time": "2022-04-17T18:07:43.556Z"
   },
   {
    "duration": 480,
    "start_time": "2022-04-17T18:07:44.460Z"
   },
   {
    "duration": 403,
    "start_time": "2022-04-17T18:08:03.087Z"
   },
   {
    "duration": 100,
    "start_time": "2022-04-17T18:08:28.025Z"
   },
   {
    "duration": 408,
    "start_time": "2022-04-17T18:08:32.503Z"
   },
   {
    "duration": 486,
    "start_time": "2022-04-17T18:08:54.686Z"
   },
   {
    "duration": 105,
    "start_time": "2022-04-17T18:09:07.315Z"
   },
   {
    "duration": 490,
    "start_time": "2022-04-17T18:09:10.807Z"
   },
   {
    "duration": 460,
    "start_time": "2022-04-17T18:11:51.034Z"
   },
   {
    "duration": 2261,
    "start_time": "2022-04-17T18:43:16.566Z"
   },
   {
    "duration": 59,
    "start_time": "2022-04-17T18:43:18.830Z"
   },
   {
    "duration": 6,
    "start_time": "2022-04-17T18:43:18.891Z"
   },
   {
    "duration": 131,
    "start_time": "2022-04-17T18:43:18.925Z"
   },
   {
    "duration": 6,
    "start_time": "2022-04-17T18:43:19.059Z"
   },
   {
    "duration": 13,
    "start_time": "2022-04-17T18:43:19.067Z"
   },
   {
    "duration": 50,
    "start_time": "2022-04-17T18:43:19.082Z"
   },
   {
    "duration": 7,
    "start_time": "2022-04-17T18:43:19.134Z"
   },
   {
    "duration": 126,
    "start_time": "2022-04-17T18:43:19.143Z"
   },
   {
    "duration": 509,
    "start_time": "2022-04-17T18:43:19.275Z"
   },
   {
    "duration": 75,
    "start_time": "2022-04-17T18:43:19.787Z"
   },
   {
    "duration": 282,
    "start_time": "2022-04-17T18:43:19.864Z"
   },
   {
    "duration": 12,
    "start_time": "2022-04-17T18:43:20.148Z"
   },
   {
    "duration": 272,
    "start_time": "2022-04-17T18:43:20.163Z"
   },
   {
    "duration": 223,
    "start_time": "2022-04-17T18:43:20.438Z"
   },
   {
    "duration": 8,
    "start_time": "2022-04-17T18:43:20.664Z"
   },
   {
    "duration": 295,
    "start_time": "2022-04-17T18:43:20.674Z"
   },
   {
    "duration": 0,
    "start_time": "2022-04-17T18:43:20.971Z"
   },
   {
    "duration": 919,
    "start_time": "2022-04-17T18:43:53.742Z"
   },
   {
    "duration": 572,
    "start_time": "2022-04-17T18:46:26.232Z"
   },
   {
    "duration": 100,
    "start_time": "2022-04-17T18:47:39.495Z"
   },
   {
    "duration": 100,
    "start_time": "2022-04-17T18:47:55.653Z"
   },
   {
    "duration": 185,
    "start_time": "2022-04-17T18:48:16.666Z"
   },
   {
    "duration": 174,
    "start_time": "2022-04-17T18:49:04.782Z"
   },
   {
    "duration": 2196,
    "start_time": "2022-05-03T12:59:54.915Z"
   },
   {
    "duration": 55,
    "start_time": "2022-05-03T12:59:57.114Z"
   },
   {
    "duration": 13,
    "start_time": "2022-05-03T12:59:57.172Z"
   },
   {
    "duration": 130,
    "start_time": "2022-05-03T12:59:57.188Z"
   },
   {
    "duration": 6,
    "start_time": "2022-05-03T12:59:57.321Z"
   },
   {
    "duration": 12,
    "start_time": "2022-05-03T12:59:57.329Z"
   },
   {
    "duration": 44,
    "start_time": "2022-05-03T12:59:57.343Z"
   },
   {
    "duration": 6,
    "start_time": "2022-05-03T12:59:57.390Z"
   },
   {
    "duration": 116,
    "start_time": "2022-05-03T12:59:57.398Z"
   },
   {
    "duration": 242,
    "start_time": "2022-05-03T12:59:57.517Z"
   },
   {
    "duration": 60,
    "start_time": "2022-05-03T12:59:57.761Z"
   },
   {
    "duration": 277,
    "start_time": "2022-05-03T12:59:57.823Z"
   },
   {
    "duration": 12,
    "start_time": "2022-05-03T12:59:58.102Z"
   },
   {
    "duration": 709,
    "start_time": "2022-05-03T12:59:58.116Z"
   },
   {
    "duration": 8,
    "start_time": "2022-05-03T12:59:58.827Z"
   },
   {
    "duration": 297,
    "start_time": "2022-05-03T12:59:58.837Z"
   },
   {
    "duration": 0,
    "start_time": "2022-05-03T12:59:59.136Z"
   },
   {
    "duration": 0,
    "start_time": "2022-05-03T12:59:59.138Z"
   },
   {
    "duration": 127,
    "start_time": "2022-05-03T13:13:58.506Z"
   },
   {
    "duration": 7,
    "start_time": "2022-05-03T13:20:21.307Z"
   },
   {
    "duration": 127,
    "start_time": "2022-05-03T13:20:27.508Z"
   },
   {
    "duration": 7,
    "start_time": "2022-05-03T13:20:41.298Z"
   },
   {
    "duration": 125,
    "start_time": "2022-05-03T13:20:43.300Z"
   },
   {
    "duration": 7,
    "start_time": "2022-05-03T13:20:59.009Z"
   },
   {
    "duration": 10555,
    "start_time": "2022-05-03T13:21:01.002Z"
   },
   {
    "duration": 12226,
    "start_time": "2022-05-03T13:21:32.370Z"
   },
   {
    "duration": 1995,
    "start_time": "2022-05-03T13:22:22.975Z"
   },
   {
    "duration": 57,
    "start_time": "2022-05-03T13:22:24.973Z"
   },
   {
    "duration": 6,
    "start_time": "2022-05-03T13:22:25.032Z"
   },
   {
    "duration": 144,
    "start_time": "2022-05-03T13:22:25.041Z"
   },
   {
    "duration": 10,
    "start_time": "2022-05-03T13:22:25.187Z"
   },
   {
    "duration": 18,
    "start_time": "2022-05-03T13:22:25.199Z"
   },
   {
    "duration": 19,
    "start_time": "2022-05-03T13:22:25.220Z"
   },
   {
    "duration": 6,
    "start_time": "2022-05-03T13:22:25.241Z"
   },
   {
    "duration": 130,
    "start_time": "2022-05-03T13:22:25.249Z"
   },
   {
    "duration": 242,
    "start_time": "2022-05-03T13:22:25.384Z"
   },
   {
    "duration": 68,
    "start_time": "2022-05-03T13:22:25.628Z"
   },
   {
    "duration": 272,
    "start_time": "2022-05-03T13:22:25.698Z"
   },
   {
    "duration": 20,
    "start_time": "2022-05-03T13:22:25.972Z"
   },
   {
    "duration": 660,
    "start_time": "2022-05-03T13:22:25.997Z"
   },
   {
    "duration": 9,
    "start_time": "2022-05-03T13:22:26.660Z"
   },
   {
    "duration": 6,
    "start_time": "2022-05-03T13:22:26.683Z"
   },
   {
    "duration": 12698,
    "start_time": "2022-05-03T13:22:26.692Z"
   },
   {
    "duration": 354,
    "start_time": "2022-05-03T13:22:39.393Z"
   },
   {
    "duration": 21666,
    "start_time": "2022-05-03T13:23:41.308Z"
   },
   {
    "duration": 375,
    "start_time": "2022-05-03T13:25:34.580Z"
   },
   {
    "duration": 1726,
    "start_time": "2022-05-04T05:51:20.409Z"
   },
   {
    "duration": 43,
    "start_time": "2022-05-04T05:51:22.137Z"
   },
   {
    "duration": 3,
    "start_time": "2022-05-04T05:51:22.182Z"
   },
   {
    "duration": 78,
    "start_time": "2022-05-04T05:51:22.187Z"
   },
   {
    "duration": 4,
    "start_time": "2022-05-04T05:51:22.268Z"
   },
   {
    "duration": 8,
    "start_time": "2022-05-04T05:51:22.273Z"
   },
   {
    "duration": 12,
    "start_time": "2022-05-04T05:51:22.283Z"
   },
   {
    "duration": 22,
    "start_time": "2022-05-04T05:51:22.296Z"
   },
   {
    "duration": 77,
    "start_time": "2022-05-04T05:51:22.320Z"
   },
   {
    "duration": 135,
    "start_time": "2022-05-04T05:51:22.399Z"
   },
   {
    "duration": 40,
    "start_time": "2022-05-04T05:51:22.535Z"
   },
   {
    "duration": 157,
    "start_time": "2022-05-04T05:51:22.577Z"
   },
   {
    "duration": 7,
    "start_time": "2022-05-04T05:51:22.735Z"
   },
   {
    "duration": 478,
    "start_time": "2022-05-04T05:51:22.744Z"
   },
   {
    "duration": 5,
    "start_time": "2022-05-04T05:51:23.223Z"
   },
   {
    "duration": 6577,
    "start_time": "2022-05-04T05:51:23.229Z"
   },
   {
    "duration": 282,
    "start_time": "2022-05-04T05:51:29.807Z"
   },
   {
    "duration": 1449,
    "start_time": "2022-05-04T06:02:03.773Z"
   },
   {
    "duration": 41,
    "start_time": "2022-05-04T06:02:05.224Z"
   },
   {
    "duration": 4,
    "start_time": "2022-05-04T06:02:05.267Z"
   },
   {
    "duration": 104,
    "start_time": "2022-05-04T06:02:05.272Z"
   },
   {
    "duration": 3,
    "start_time": "2022-05-04T06:02:05.378Z"
   },
   {
    "duration": 20,
    "start_time": "2022-05-04T06:02:05.383Z"
   },
   {
    "duration": 26,
    "start_time": "2022-05-04T06:02:05.404Z"
   },
   {
    "duration": 8,
    "start_time": "2022-05-04T06:02:05.432Z"
   },
   {
    "duration": 67,
    "start_time": "2022-05-04T06:02:05.442Z"
   },
   {
    "duration": 143,
    "start_time": "2022-05-04T06:02:05.513Z"
   },
   {
    "duration": 34,
    "start_time": "2022-05-04T06:02:05.658Z"
   },
   {
    "duration": 176,
    "start_time": "2022-05-04T06:02:05.693Z"
   },
   {
    "duration": 8,
    "start_time": "2022-05-04T06:02:05.871Z"
   },
   {
    "duration": 407,
    "start_time": "2022-05-04T06:02:05.881Z"
   },
   {
    "duration": 5,
    "start_time": "2022-05-04T06:02:06.291Z"
   },
   {
    "duration": 7800,
    "start_time": "2022-05-04T06:02:06.297Z"
   },
   {
    "duration": 286,
    "start_time": "2022-05-04T06:02:14.098Z"
   },
   {
    "duration": 1681,
    "start_time": "2022-05-04T06:10:21.235Z"
   },
   {
    "duration": 51,
    "start_time": "2022-05-04T06:10:22.918Z"
   },
   {
    "duration": 4,
    "start_time": "2022-05-04T06:10:22.971Z"
   },
   {
    "duration": 81,
    "start_time": "2022-05-04T06:10:22.978Z"
   },
   {
    "duration": 4,
    "start_time": "2022-05-04T06:10:23.062Z"
   },
   {
    "duration": 26,
    "start_time": "2022-05-04T06:10:23.068Z"
   },
   {
    "duration": 23,
    "start_time": "2022-05-04T06:10:23.095Z"
   },
   {
    "duration": 16,
    "start_time": "2022-05-04T06:10:23.119Z"
   },
   {
    "duration": 75,
    "start_time": "2022-05-04T06:10:23.136Z"
   },
   {
    "duration": 137,
    "start_time": "2022-05-04T06:10:23.214Z"
   },
   {
    "duration": 33,
    "start_time": "2022-05-04T06:10:23.354Z"
   },
   {
    "duration": 168,
    "start_time": "2022-05-04T06:10:23.388Z"
   },
   {
    "duration": 8,
    "start_time": "2022-05-04T06:10:23.558Z"
   },
   {
    "duration": 587,
    "start_time": "2022-05-04T06:10:23.568Z"
   },
   {
    "duration": 5,
    "start_time": "2022-05-04T06:10:24.157Z"
   },
   {
    "duration": 7858,
    "start_time": "2022-05-04T06:10:24.163Z"
   },
   {
    "duration": 275,
    "start_time": "2022-05-04T06:10:32.022Z"
   },
   {
    "duration": 1403,
    "start_time": "2022-05-04T06:12:23.192Z"
   },
   {
    "duration": 37,
    "start_time": "2022-05-04T06:12:24.596Z"
   },
   {
    "duration": 4,
    "start_time": "2022-05-04T06:12:24.634Z"
   },
   {
    "duration": 74,
    "start_time": "2022-05-04T06:12:24.640Z"
   },
   {
    "duration": 4,
    "start_time": "2022-05-04T06:12:24.715Z"
   },
   {
    "duration": 26,
    "start_time": "2022-05-04T06:12:24.720Z"
   },
   {
    "duration": 21,
    "start_time": "2022-05-04T06:12:24.747Z"
   },
   {
    "duration": 15,
    "start_time": "2022-05-04T06:12:24.770Z"
   },
   {
    "duration": 71,
    "start_time": "2022-05-04T06:12:24.786Z"
   },
   {
    "duration": 141,
    "start_time": "2022-05-04T06:12:24.859Z"
   },
   {
    "duration": 33,
    "start_time": "2022-05-04T06:12:25.001Z"
   },
   {
    "duration": 164,
    "start_time": "2022-05-04T06:12:25.036Z"
   },
   {
    "duration": 7,
    "start_time": "2022-05-04T06:12:25.202Z"
   },
   {
    "duration": 562,
    "start_time": "2022-05-04T06:12:25.211Z"
   },
   {
    "duration": 5,
    "start_time": "2022-05-04T06:12:25.775Z"
   },
   {
    "duration": 7819,
    "start_time": "2022-05-04T06:12:25.782Z"
   },
   {
    "duration": 284,
    "start_time": "2022-05-04T06:12:33.602Z"
   },
   {
    "duration": 17385,
    "start_time": "2022-05-04T06:16:37.932Z"
   },
   {
    "duration": 5,
    "start_time": "2022-05-04T06:18:07.609Z"
   },
   {
    "duration": 17801,
    "start_time": "2022-05-04T06:18:08.997Z"
   },
   {
    "duration": 4868,
    "start_time": "2022-05-04T06:18:49.846Z"
   },
   {
    "duration": 1506,
    "start_time": "2022-05-04T06:19:05.195Z"
   },
   {
    "duration": 37,
    "start_time": "2022-05-04T06:19:06.703Z"
   },
   {
    "duration": 4,
    "start_time": "2022-05-04T06:19:06.741Z"
   },
   {
    "duration": 66,
    "start_time": "2022-05-04T06:19:06.754Z"
   },
   {
    "duration": 4,
    "start_time": "2022-05-04T06:19:06.822Z"
   },
   {
    "duration": 8,
    "start_time": "2022-05-04T06:19:06.827Z"
   },
   {
    "duration": 12,
    "start_time": "2022-05-04T06:19:06.854Z"
   },
   {
    "duration": 4,
    "start_time": "2022-05-04T06:19:06.867Z"
   },
   {
    "duration": 60,
    "start_time": "2022-05-04T06:19:06.873Z"
   },
   {
    "duration": 153,
    "start_time": "2022-05-04T06:19:06.935Z"
   },
   {
    "duration": 36,
    "start_time": "2022-05-04T06:19:07.089Z"
   },
   {
    "duration": 170,
    "start_time": "2022-05-04T06:19:07.126Z"
   },
   {
    "duration": 9,
    "start_time": "2022-05-04T06:19:07.297Z"
   },
   {
    "duration": 600,
    "start_time": "2022-05-04T06:19:07.308Z"
   },
   {
    "duration": 5,
    "start_time": "2022-05-04T06:19:07.910Z"
   },
   {
    "duration": 1692,
    "start_time": "2022-05-04T06:19:07.916Z"
   },
   {
    "duration": 281,
    "start_time": "2022-05-04T06:19:09.610Z"
   },
   {
    "duration": 1523,
    "start_time": "2022-05-04T06:19:41.959Z"
   },
   {
    "duration": 38,
    "start_time": "2022-05-04T06:19:43.484Z"
   },
   {
    "duration": 4,
    "start_time": "2022-05-04T06:19:43.524Z"
   },
   {
    "duration": 74,
    "start_time": "2022-05-04T06:19:43.530Z"
   },
   {
    "duration": 4,
    "start_time": "2022-05-04T06:19:43.606Z"
   },
   {
    "duration": 12,
    "start_time": "2022-05-04T06:19:43.611Z"
   },
   {
    "duration": 13,
    "start_time": "2022-05-04T06:19:43.625Z"
   },
   {
    "duration": 19,
    "start_time": "2022-05-04T06:19:43.640Z"
   },
   {
    "duration": 86,
    "start_time": "2022-05-04T06:19:43.661Z"
   },
   {
    "duration": 136,
    "start_time": "2022-05-04T06:19:43.749Z"
   },
   {
    "duration": 34,
    "start_time": "2022-05-04T06:19:43.886Z"
   },
   {
    "duration": 172,
    "start_time": "2022-05-04T06:19:43.921Z"
   },
   {
    "duration": 8,
    "start_time": "2022-05-04T06:19:44.095Z"
   },
   {
    "duration": 602,
    "start_time": "2022-05-04T06:19:44.105Z"
   },
   {
    "duration": 5,
    "start_time": "2022-05-04T06:19:44.709Z"
   },
   {
    "duration": 1699,
    "start_time": "2022-05-04T06:19:44.715Z"
   },
   {
    "duration": 273,
    "start_time": "2022-05-04T06:19:46.415Z"
   },
   {
    "duration": 4000,
    "start_time": "2022-05-04T06:20:50.355Z"
   },
   {
    "duration": 827,
    "start_time": "2022-05-04T06:21:02.287Z"
   },
   {
    "duration": 1127,
    "start_time": "2022-05-04T06:23:58.336Z"
   },
   {
    "duration": 896,
    "start_time": "2022-05-04T06:26:03.265Z"
   },
   {
    "duration": 1598,
    "start_time": "2022-05-04T06:29:09.964Z"
   },
   {
    "duration": 41,
    "start_time": "2022-05-04T06:29:11.564Z"
   },
   {
    "duration": 4,
    "start_time": "2022-05-04T06:29:11.607Z"
   },
   {
    "duration": 72,
    "start_time": "2022-05-04T06:29:11.613Z"
   },
   {
    "duration": 5,
    "start_time": "2022-05-04T06:29:11.686Z"
   },
   {
    "duration": 9,
    "start_time": "2022-05-04T06:29:11.692Z"
   },
   {
    "duration": 13,
    "start_time": "2022-05-04T06:29:11.702Z"
   },
   {
    "duration": 4,
    "start_time": "2022-05-04T06:29:11.717Z"
   },
   {
    "duration": 83,
    "start_time": "2022-05-04T06:29:11.723Z"
   },
   {
    "duration": 147,
    "start_time": "2022-05-04T06:29:11.809Z"
   },
   {
    "duration": 33,
    "start_time": "2022-05-04T06:29:11.957Z"
   },
   {
    "duration": 183,
    "start_time": "2022-05-04T06:29:11.992Z"
   },
   {
    "duration": 8,
    "start_time": "2022-05-04T06:29:12.177Z"
   },
   {
    "duration": 565,
    "start_time": "2022-05-04T06:29:12.187Z"
   },
   {
    "duration": 805,
    "start_time": "2022-05-04T06:29:12.755Z"
   },
   {
    "duration": 95,
    "start_time": "2022-05-04T06:29:13.563Z"
   },
   {
    "duration": 3999,
    "start_time": "2022-05-04T06:29:13.660Z"
   },
   {
    "duration": 759,
    "start_time": "2022-05-04T06:29:17.754Z"
   },
   {
    "duration": 5,
    "start_time": "2022-05-04T06:32:36.032Z"
   },
   {
    "duration": 4056,
    "start_time": "2022-05-04T06:32:37.299Z"
   },
   {
    "duration": 1191,
    "start_time": "2022-05-04T06:32:45.438Z"
   },
   {
    "duration": 1643,
    "start_time": "2022-05-04T06:33:29.999Z"
   },
   {
    "duration": 43,
    "start_time": "2022-05-04T06:33:31.644Z"
   },
   {
    "duration": 4,
    "start_time": "2022-05-04T06:33:31.689Z"
   },
   {
    "duration": 95,
    "start_time": "2022-05-04T06:33:31.695Z"
   },
   {
    "duration": 4,
    "start_time": "2022-05-04T06:33:31.792Z"
   },
   {
    "duration": 36,
    "start_time": "2022-05-04T06:33:31.798Z"
   },
   {
    "duration": 26,
    "start_time": "2022-05-04T06:33:31.835Z"
   },
   {
    "duration": 10,
    "start_time": "2022-05-04T06:33:31.863Z"
   },
   {
    "duration": 142,
    "start_time": "2022-05-04T06:33:31.874Z"
   },
   {
    "duration": 150,
    "start_time": "2022-05-04T06:33:32.018Z"
   },
   {
    "duration": 33,
    "start_time": "2022-05-04T06:33:32.169Z"
   },
   {
    "duration": 194,
    "start_time": "2022-05-04T06:33:32.203Z"
   },
   {
    "duration": 9,
    "start_time": "2022-05-04T06:33:32.398Z"
   },
   {
    "duration": 600,
    "start_time": "2022-05-04T06:33:32.408Z"
   },
   {
    "duration": 1046,
    "start_time": "2022-05-04T06:33:33.010Z"
   },
   {
    "duration": 5,
    "start_time": "2022-05-04T06:33:34.154Z"
   },
   {
    "duration": 4010,
    "start_time": "2022-05-04T06:33:34.162Z"
   },
   {
    "duration": 1353,
    "start_time": "2022-05-04T06:33:38.174Z"
   },
   {
    "duration": 1606,
    "start_time": "2022-05-04T06:41:43.719Z"
   },
   {
    "duration": 42,
    "start_time": "2022-05-04T06:41:45.327Z"
   },
   {
    "duration": 4,
    "start_time": "2022-05-04T06:41:45.371Z"
   },
   {
    "duration": 93,
    "start_time": "2022-05-04T06:41:45.376Z"
   },
   {
    "duration": 4,
    "start_time": "2022-05-04T06:41:45.471Z"
   },
   {
    "duration": 33,
    "start_time": "2022-05-04T06:41:45.476Z"
   },
   {
    "duration": 21,
    "start_time": "2022-05-04T06:41:45.510Z"
   },
   {
    "duration": 7,
    "start_time": "2022-05-04T06:41:45.532Z"
   },
   {
    "duration": 69,
    "start_time": "2022-05-04T06:41:45.540Z"
   },
   {
    "duration": 134,
    "start_time": "2022-05-04T06:41:45.611Z"
   },
   {
    "duration": 37,
    "start_time": "2022-05-04T06:41:45.747Z"
   },
   {
    "duration": 158,
    "start_time": "2022-05-04T06:41:45.786Z"
   },
   {
    "duration": 12,
    "start_time": "2022-05-04T06:41:45.946Z"
   },
   {
    "duration": 557,
    "start_time": "2022-05-04T06:41:45.960Z"
   },
   {
    "duration": 1143,
    "start_time": "2022-05-04T06:41:46.519Z"
   },
   {
    "duration": 7,
    "start_time": "2022-05-04T06:41:47.754Z"
   },
   {
    "duration": 4094,
    "start_time": "2022-05-04T06:41:47.763Z"
   },
   {
    "duration": 1248,
    "start_time": "2022-05-04T06:41:51.860Z"
   },
   {
    "duration": 117,
    "start_time": "2022-05-04T06:45:32.910Z"
   },
   {
    "duration": 17,
    "start_time": "2022-05-04T06:46:07.868Z"
   },
   {
    "duration": 279,
    "start_time": "2022-05-04T06:46:13.786Z"
   },
   {
    "duration": 229,
    "start_time": "2022-05-04T06:48:41.184Z"
   },
   {
    "duration": 538,
    "start_time": "2022-05-04T07:00:58.865Z"
   },
   {
    "duration": 140,
    "start_time": "2022-05-04T07:02:43.369Z"
   },
   {
    "duration": 589,
    "start_time": "2022-05-04T07:02:47.987Z"
   },
   {
    "duration": 621,
    "start_time": "2022-05-04T07:02:53.339Z"
   },
   {
    "duration": 1590,
    "start_time": "2022-05-04T07:03:14.941Z"
   },
   {
    "duration": 39,
    "start_time": "2022-05-04T07:03:16.533Z"
   },
   {
    "duration": 4,
    "start_time": "2022-05-04T07:03:16.573Z"
   },
   {
    "duration": 78,
    "start_time": "2022-05-04T07:03:16.578Z"
   },
   {
    "duration": 4,
    "start_time": "2022-05-04T07:03:16.658Z"
   },
   {
    "duration": 8,
    "start_time": "2022-05-04T07:03:16.664Z"
   },
   {
    "duration": 13,
    "start_time": "2022-05-04T07:03:16.673Z"
   },
   {
    "duration": 5,
    "start_time": "2022-05-04T07:03:16.687Z"
   },
   {
    "duration": 87,
    "start_time": "2022-05-04T07:03:16.693Z"
   },
   {
    "duration": 141,
    "start_time": "2022-05-04T07:03:16.782Z"
   },
   {
    "duration": 47,
    "start_time": "2022-05-04T07:03:16.924Z"
   },
   {
    "duration": 166,
    "start_time": "2022-05-04T07:03:16.973Z"
   },
   {
    "duration": 8,
    "start_time": "2022-05-04T07:03:17.140Z"
   },
   {
    "duration": 583,
    "start_time": "2022-05-04T07:03:17.156Z"
   },
   {
    "duration": 1123,
    "start_time": "2022-05-04T07:03:17.740Z"
   },
   {
    "duration": 6,
    "start_time": "2022-05-04T07:03:18.955Z"
   },
   {
    "duration": 4092,
    "start_time": "2022-05-04T07:03:18.963Z"
   },
   {
    "duration": 1258,
    "start_time": "2022-05-04T07:03:23.058Z"
   },
   {
    "duration": 152,
    "start_time": "2022-05-04T07:03:24.318Z"
   },
   {
    "duration": 560,
    "start_time": "2022-05-04T07:03:24.472Z"
   },
   {
    "duration": 538,
    "start_time": "2022-05-04T07:03:25.035Z"
   }
  ],
  "celltoolbar": "Отсутствует",
  "kernelspec": {
   "display_name": "Python 3 (ipykernel)",
   "language": "python",
   "name": "python3"
  },
  "language_info": {
   "codemirror_mode": {
    "name": "ipython",
    "version": 3
   },
   "file_extension": ".py",
   "mimetype": "text/x-python",
   "name": "python",
   "nbconvert_exporter": "python",
   "pygments_lexer": "ipython3",
   "version": "3.9.5"
  },
  "toc": {
   "base_numbering": 1,
   "nav_menu": {},
   "number_sections": true,
   "sideBar": true,
   "skip_h1_title": true,
   "title_cell": "Содержание",
   "title_sidebar": "Contents",
   "toc_cell": true,
   "toc_position": {
    "height": "calc(100% - 180px)",
    "left": "10px",
    "top": "150px",
    "width": "165px"
   },
   "toc_section_display": true,
   "toc_window_display": true
  }
 },
 "nbformat": 4,
 "nbformat_minor": 2
}
