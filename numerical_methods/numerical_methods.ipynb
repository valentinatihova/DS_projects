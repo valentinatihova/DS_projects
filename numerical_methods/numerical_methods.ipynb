{
 "cells": [
  {
   "cell_type": "markdown",
   "metadata": {},
   "source": [
    "# Определение стоимости автомобилей"
   ]
  },
  {
   "cell_type": "markdown",
   "metadata": {},
   "source": [
    "Сервис по продаже автомобилей с пробегом «Не бит, не крашен» разрабатывает приложение для привлечения новых клиентов. В нём можно быстро узнать рыночную стоимость своего автомобиля. \n",
    "\n",
    "**Цель**: получить модель для определения стоимости автомобиля на основании технических характеристик, комплектации и цены автомобилей.\n",
    "\n",
    "**Задачи**:\n",
    "- загрузить и подготовить данные;\n",
    "- обучить разные модели и к каждой подобрать гиперпараметры;\n",
    "- проанализировать скорость работы, время обучения и качество модели."
   ]
  },
  {
   "cell_type": "markdown",
   "metadata": {},
   "source": [
    "<div class=\"alert alert-block alert-warning\">\n",
    "<b>Совет:</b> Важно чтобы в проектах было подробное описание: когда потенциальные работодатели будут смотреть твой проект в портфолио, им нужно будет понимать задачу, чтобы можно было оценить её решение. Вот что можно добавить:\n",
    "    \n",
    "* Описание целей и задачи проекта\n",
    "* Описание данных\n",
    "* План работы\n",
    "</div>"
   ]
  },
  {
   "cell_type": "markdown",
   "metadata": {},
   "source": [
    "## Подготовка данных\n",
    "\n",
    "### Импорт библиотек и загрузка данных"
   ]
  },
  {
   "cell_type": "markdown",
   "metadata": {},
   "source": [
    "Для начала сделаем импорт всех необходимых библиотек:"
   ]
  },
  {
   "cell_type": "code",
   "execution_count": 1,
   "metadata": {},
   "outputs": [],
   "source": [
    "import pandas as pd\n",
    "\n",
    "import matplotlib.pyplot as plt\n",
    "from datetime import datetime\n",
    "import seaborn as sns\n",
    "import numpy as np\n",
    "import warnings\n",
    "import re\n",
    "import time\n",
    "\n",
    "from sklearn.preprocessing import LabelEncoder\n",
    "from sklearn.preprocessing import StandardScaler\n",
    "from sklearn.model_selection import train_test_split, cross_val_score, GridSearchCV\n",
    "from sklearn.linear_model import LinearRegression\n",
    "from sklearn.tree import DecisionTreeRegressor\n",
    "from sklearn.ensemble import RandomForestRegressor\n",
    "from sklearn.metrics import mean_squared_error\n",
    "\n",
    "from catboost import CatBoostRegressor\n",
    "import lightgbm as lgb\n",
    "\n",
    "warnings.simplefilter(action='ignore', category=FutureWarning)\n",
    "\n",
    "pd.set_option('display.max_columns', None)\n",
    "pd.set_option('display.expand_frame_repr', False)\n",
    "pd.set_option('max_colwidth', -1)"
   ]
  },
  {
   "cell_type": "markdown",
   "metadata": {},
   "source": [
    "Загрузим файл и прочитаем из него несколько строк для наглядности."
   ]
  },
  {
   "cell_type": "code",
   "execution_count": 2,
   "metadata": {},
   "outputs": [
    {
     "data": {
      "text/html": [
       "<div>\n",
       "<style scoped>\n",
       "    .dataframe tbody tr th:only-of-type {\n",
       "        vertical-align: middle;\n",
       "    }\n",
       "\n",
       "    .dataframe tbody tr th {\n",
       "        vertical-align: top;\n",
       "    }\n",
       "\n",
       "    .dataframe thead th {\n",
       "        text-align: right;\n",
       "    }\n",
       "</style>\n",
       "<table border=\"1\" class=\"dataframe\">\n",
       "  <thead>\n",
       "    <tr style=\"text-align: right;\">\n",
       "      <th></th>\n",
       "      <th>DateCrawled</th>\n",
       "      <th>Price</th>\n",
       "      <th>VehicleType</th>\n",
       "      <th>RegistrationYear</th>\n",
       "      <th>Gearbox</th>\n",
       "      <th>Power</th>\n",
       "      <th>Model</th>\n",
       "      <th>Kilometer</th>\n",
       "      <th>RegistrationMonth</th>\n",
       "      <th>FuelType</th>\n",
       "      <th>Brand</th>\n",
       "      <th>NotRepaired</th>\n",
       "      <th>DateCreated</th>\n",
       "      <th>NumberOfPictures</th>\n",
       "      <th>PostalCode</th>\n",
       "      <th>LastSeen</th>\n",
       "    </tr>\n",
       "  </thead>\n",
       "  <tbody>\n",
       "    <tr>\n",
       "      <th>314040</th>\n",
       "      <td>2016-03-08 11:49:37</td>\n",
       "      <td>10500</td>\n",
       "      <td>sedan</td>\n",
       "      <td>2009</td>\n",
       "      <td>manual</td>\n",
       "      <td>300</td>\n",
       "      <td>leon</td>\n",
       "      <td>150000</td>\n",
       "      <td>4</td>\n",
       "      <td>petrol</td>\n",
       "      <td>seat</td>\n",
       "      <td>no</td>\n",
       "      <td>2016-03-08 00:00:00</td>\n",
       "      <td>0</td>\n",
       "      <td>31157</td>\n",
       "      <td>2016-04-07 10:46:20</td>\n",
       "    </tr>\n",
       "    <tr>\n",
       "      <th>81214</th>\n",
       "      <td>2016-03-16 18:41:33</td>\n",
       "      <td>1200</td>\n",
       "      <td>sedan</td>\n",
       "      <td>1995</td>\n",
       "      <td>manual</td>\n",
       "      <td>75</td>\n",
       "      <td>corolla</td>\n",
       "      <td>150000</td>\n",
       "      <td>8</td>\n",
       "      <td>petrol</td>\n",
       "      <td>toyota</td>\n",
       "      <td>no</td>\n",
       "      <td>2016-03-16 00:00:00</td>\n",
       "      <td>0</td>\n",
       "      <td>88131</td>\n",
       "      <td>2016-03-17 16:47:48</td>\n",
       "    </tr>\n",
       "    <tr>\n",
       "      <th>42172</th>\n",
       "      <td>2016-03-30 14:58:50</td>\n",
       "      <td>5590</td>\n",
       "      <td>small</td>\n",
       "      <td>2009</td>\n",
       "      <td>manual</td>\n",
       "      <td>69</td>\n",
       "      <td>500</td>\n",
       "      <td>50000</td>\n",
       "      <td>5</td>\n",
       "      <td>petrol</td>\n",
       "      <td>fiat</td>\n",
       "      <td>no</td>\n",
       "      <td>2016-03-30 00:00:00</td>\n",
       "      <td>0</td>\n",
       "      <td>93055</td>\n",
       "      <td>2016-04-07 06:15:47</td>\n",
       "    </tr>\n",
       "  </tbody>\n",
       "</table>\n",
       "</div>"
      ],
      "text/plain": [
       "                DateCrawled  Price VehicleType  RegistrationYear Gearbox  Power    Model  Kilometer  RegistrationMonth FuelType   Brand NotRepaired          DateCreated  NumberOfPictures  PostalCode             LastSeen\n",
       "314040  2016-03-08 11:49:37  10500  sedan       2009              manual  300    leon     150000     4                  petrol   seat    no          2016-03-08 00:00:00  0                 31157       2016-04-07 10:46:20\n",
       "81214   2016-03-16 18:41:33  1200   sedan       1995              manual  75     corolla  150000     8                  petrol   toyota  no          2016-03-16 00:00:00  0                 88131       2016-03-17 16:47:48\n",
       "42172   2016-03-30 14:58:50  5590   small       2009              manual  69     500      50000      5                  petrol   fiat    no          2016-03-30 00:00:00  0                 93055       2016-04-07 06:15:47"
      ]
     },
     "metadata": {},
     "output_type": "display_data"
    },
    {
     "data": {
      "text/plain": [
       "(354369, 16)"
      ]
     },
     "execution_count": 2,
     "metadata": {},
     "output_type": "execute_result"
    }
   ],
   "source": [
    "try:\n",
    "    df = pd.read_csv(r'C:\\Users\\valentina.tikhova\\Downloads\\autos.csv')\n",
    "except:\n",
    "    df = pd.read_csv('/datasets/autos.csv')\n",
    "\n",
    "display(df.sample(3))\n",
    "df.shape"
   ]
  },
  {
   "cell_type": "markdown",
   "metadata": {},
   "source": [
    "У нас в распоряжении порядка 350k записей о машинах в разрезе:\n",
    "* DateCrawled — дата скачивания анкеты из базы\n",
    "* VehicleType — тип автомобильного кузова\n",
    "* RegistrationYear — год регистрации автомобиля\n",
    "* Gearbox — тип коробки передач\n",
    "* Power — мощность (л. с.)\n",
    "* Model — модель автомобиля\n",
    "* Kilometer — пробег (км)\n",
    "* RegistrationMonth — месяц регистрации автомобиля\n",
    "* FuelType — тип топлива\n",
    "* Brand — марка автомобиля\n",
    "* NotRepaired — была машина в ремонте или нет\n",
    "* DateCreated — дата создания анкеты\n",
    "* NumberOfPictures — количество фотографий автомобиля\n",
    "* PostalCode — почтовый индекс владельца анкеты (пользователя)\n",
    "* LastSeen — дата последней активности пользователя\n"
   ]
  },
  {
   "cell_type": "markdown",
   "metadata": {},
   "source": [
    "### EDA"
   ]
  },
  {
   "cell_type": "markdown",
   "metadata": {},
   "source": [
    "Сходу уберем дубли и посмотрим информацию о данных: описательную статистику, типы данных и пропуски в них."
   ]
  },
  {
   "cell_type": "code",
   "execution_count": 3,
   "metadata": {},
   "outputs": [],
   "source": [
    "df = df.drop_duplicates()"
   ]
  },
  {
   "cell_type": "code",
   "execution_count": 4,
   "metadata": {},
   "outputs": [],
   "source": [
    "def df_info(df):\n",
    "    ''' Func show describe, dtypes and missing_values\n",
    "    '''\n",
    "    return pd.concat([df.describe(include = 'all').round(2).fillna('-').T, \n",
    "           df.dtypes,\n",
    "           round(np.mean(df.isnull())*100)], axis=1).rename(columns={0:'dtypes', 1:'missing_%'})"
   ]
  },
  {
   "cell_type": "code",
   "execution_count": 5,
   "metadata": {},
   "outputs": [
    {
     "data": {
      "text/html": [
       "<div>\n",
       "<style scoped>\n",
       "    .dataframe tbody tr th:only-of-type {\n",
       "        vertical-align: middle;\n",
       "    }\n",
       "\n",
       "    .dataframe tbody tr th {\n",
       "        vertical-align: top;\n",
       "    }\n",
       "\n",
       "    .dataframe thead th {\n",
       "        text-align: right;\n",
       "    }\n",
       "</style>\n",
       "<table border=\"1\" class=\"dataframe\">\n",
       "  <thead>\n",
       "    <tr style=\"text-align: right;\">\n",
       "      <th></th>\n",
       "      <th>count</th>\n",
       "      <th>unique</th>\n",
       "      <th>top</th>\n",
       "      <th>freq</th>\n",
       "      <th>mean</th>\n",
       "      <th>std</th>\n",
       "      <th>min</th>\n",
       "      <th>25%</th>\n",
       "      <th>50%</th>\n",
       "      <th>75%</th>\n",
       "      <th>max</th>\n",
       "      <th>dtypes</th>\n",
       "      <th>missing_%</th>\n",
       "    </tr>\n",
       "  </thead>\n",
       "  <tbody>\n",
       "    <tr>\n",
       "      <th>DateCrawled</th>\n",
       "      <td>354365</td>\n",
       "      <td>271174</td>\n",
       "      <td>2016-03-24 14:49:47</td>\n",
       "      <td>7</td>\n",
       "      <td>-</td>\n",
       "      <td>-</td>\n",
       "      <td>-</td>\n",
       "      <td>-</td>\n",
       "      <td>-</td>\n",
       "      <td>-</td>\n",
       "      <td>-</td>\n",
       "      <td>object</td>\n",
       "      <td>0.0</td>\n",
       "    </tr>\n",
       "    <tr>\n",
       "      <th>Price</th>\n",
       "      <td>354365.0</td>\n",
       "      <td>-</td>\n",
       "      <td>-</td>\n",
       "      <td>-</td>\n",
       "      <td>4416.68</td>\n",
       "      <td>4514.18</td>\n",
       "      <td>0.0</td>\n",
       "      <td>1050.0</td>\n",
       "      <td>2700.0</td>\n",
       "      <td>6400.0</td>\n",
       "      <td>20000.0</td>\n",
       "      <td>int64</td>\n",
       "      <td>0.0</td>\n",
       "    </tr>\n",
       "    <tr>\n",
       "      <th>VehicleType</th>\n",
       "      <td>316875</td>\n",
       "      <td>8</td>\n",
       "      <td>sedan</td>\n",
       "      <td>91457</td>\n",
       "      <td>-</td>\n",
       "      <td>-</td>\n",
       "      <td>-</td>\n",
       "      <td>-</td>\n",
       "      <td>-</td>\n",
       "      <td>-</td>\n",
       "      <td>-</td>\n",
       "      <td>object</td>\n",
       "      <td>11.0</td>\n",
       "    </tr>\n",
       "    <tr>\n",
       "      <th>RegistrationYear</th>\n",
       "      <td>354365.0</td>\n",
       "      <td>-</td>\n",
       "      <td>-</td>\n",
       "      <td>-</td>\n",
       "      <td>2004.23</td>\n",
       "      <td>90.23</td>\n",
       "      <td>1000.0</td>\n",
       "      <td>1999.0</td>\n",
       "      <td>2003.0</td>\n",
       "      <td>2008.0</td>\n",
       "      <td>9999.0</td>\n",
       "      <td>int64</td>\n",
       "      <td>0.0</td>\n",
       "    </tr>\n",
       "    <tr>\n",
       "      <th>Gearbox</th>\n",
       "      <td>334532</td>\n",
       "      <td>2</td>\n",
       "      <td>manual</td>\n",
       "      <td>268249</td>\n",
       "      <td>-</td>\n",
       "      <td>-</td>\n",
       "      <td>-</td>\n",
       "      <td>-</td>\n",
       "      <td>-</td>\n",
       "      <td>-</td>\n",
       "      <td>-</td>\n",
       "      <td>object</td>\n",
       "      <td>6.0</td>\n",
       "    </tr>\n",
       "    <tr>\n",
       "      <th>Power</th>\n",
       "      <td>354365.0</td>\n",
       "      <td>-</td>\n",
       "      <td>-</td>\n",
       "      <td>-</td>\n",
       "      <td>110.09</td>\n",
       "      <td>189.85</td>\n",
       "      <td>0.0</td>\n",
       "      <td>69.0</td>\n",
       "      <td>105.0</td>\n",
       "      <td>143.0</td>\n",
       "      <td>20000.0</td>\n",
       "      <td>int64</td>\n",
       "      <td>0.0</td>\n",
       "    </tr>\n",
       "    <tr>\n",
       "      <th>Model</th>\n",
       "      <td>334660</td>\n",
       "      <td>250</td>\n",
       "      <td>golf</td>\n",
       "      <td>29232</td>\n",
       "      <td>-</td>\n",
       "      <td>-</td>\n",
       "      <td>-</td>\n",
       "      <td>-</td>\n",
       "      <td>-</td>\n",
       "      <td>-</td>\n",
       "      <td>-</td>\n",
       "      <td>object</td>\n",
       "      <td>6.0</td>\n",
       "    </tr>\n",
       "    <tr>\n",
       "      <th>Kilometer</th>\n",
       "      <td>354365.0</td>\n",
       "      <td>-</td>\n",
       "      <td>-</td>\n",
       "      <td>-</td>\n",
       "      <td>128211.36</td>\n",
       "      <td>37905.08</td>\n",
       "      <td>5000.0</td>\n",
       "      <td>125000.0</td>\n",
       "      <td>150000.0</td>\n",
       "      <td>150000.0</td>\n",
       "      <td>150000.0</td>\n",
       "      <td>int64</td>\n",
       "      <td>0.0</td>\n",
       "    </tr>\n",
       "    <tr>\n",
       "      <th>RegistrationMonth</th>\n",
       "      <td>354365.0</td>\n",
       "      <td>-</td>\n",
       "      <td>-</td>\n",
       "      <td>-</td>\n",
       "      <td>5.71</td>\n",
       "      <td>3.73</td>\n",
       "      <td>0.0</td>\n",
       "      <td>3.0</td>\n",
       "      <td>6.0</td>\n",
       "      <td>9.0</td>\n",
       "      <td>12.0</td>\n",
       "      <td>int64</td>\n",
       "      <td>0.0</td>\n",
       "    </tr>\n",
       "    <tr>\n",
       "      <th>FuelType</th>\n",
       "      <td>321470</td>\n",
       "      <td>7</td>\n",
       "      <td>petrol</td>\n",
       "      <td>216349</td>\n",
       "      <td>-</td>\n",
       "      <td>-</td>\n",
       "      <td>-</td>\n",
       "      <td>-</td>\n",
       "      <td>-</td>\n",
       "      <td>-</td>\n",
       "      <td>-</td>\n",
       "      <td>object</td>\n",
       "      <td>9.0</td>\n",
       "    </tr>\n",
       "    <tr>\n",
       "      <th>Brand</th>\n",
       "      <td>354365</td>\n",
       "      <td>40</td>\n",
       "      <td>volkswagen</td>\n",
       "      <td>77012</td>\n",
       "      <td>-</td>\n",
       "      <td>-</td>\n",
       "      <td>-</td>\n",
       "      <td>-</td>\n",
       "      <td>-</td>\n",
       "      <td>-</td>\n",
       "      <td>-</td>\n",
       "      <td>object</td>\n",
       "      <td>0.0</td>\n",
       "    </tr>\n",
       "    <tr>\n",
       "      <th>NotRepaired</th>\n",
       "      <td>283211</td>\n",
       "      <td>2</td>\n",
       "      <td>no</td>\n",
       "      <td>247158</td>\n",
       "      <td>-</td>\n",
       "      <td>-</td>\n",
       "      <td>-</td>\n",
       "      <td>-</td>\n",
       "      <td>-</td>\n",
       "      <td>-</td>\n",
       "      <td>-</td>\n",
       "      <td>object</td>\n",
       "      <td>20.0</td>\n",
       "    </tr>\n",
       "    <tr>\n",
       "      <th>DateCreated</th>\n",
       "      <td>354365</td>\n",
       "      <td>109</td>\n",
       "      <td>2016-04-03 00:00:00</td>\n",
       "      <td>13718</td>\n",
       "      <td>-</td>\n",
       "      <td>-</td>\n",
       "      <td>-</td>\n",
       "      <td>-</td>\n",
       "      <td>-</td>\n",
       "      <td>-</td>\n",
       "      <td>-</td>\n",
       "      <td>object</td>\n",
       "      <td>0.0</td>\n",
       "    </tr>\n",
       "    <tr>\n",
       "      <th>NumberOfPictures</th>\n",
       "      <td>354365.0</td>\n",
       "      <td>-</td>\n",
       "      <td>-</td>\n",
       "      <td>-</td>\n",
       "      <td>0.0</td>\n",
       "      <td>0.0</td>\n",
       "      <td>0.0</td>\n",
       "      <td>0.0</td>\n",
       "      <td>0.0</td>\n",
       "      <td>0.0</td>\n",
       "      <td>0.0</td>\n",
       "      <td>int64</td>\n",
       "      <td>0.0</td>\n",
       "    </tr>\n",
       "    <tr>\n",
       "      <th>PostalCode</th>\n",
       "      <td>354365.0</td>\n",
       "      <td>-</td>\n",
       "      <td>-</td>\n",
       "      <td>-</td>\n",
       "      <td>50508.5</td>\n",
       "      <td>25783.1</td>\n",
       "      <td>1067.0</td>\n",
       "      <td>30165.0</td>\n",
       "      <td>49413.0</td>\n",
       "      <td>71083.0</td>\n",
       "      <td>99998.0</td>\n",
       "      <td>int64</td>\n",
       "      <td>0.0</td>\n",
       "    </tr>\n",
       "    <tr>\n",
       "      <th>LastSeen</th>\n",
       "      <td>354365</td>\n",
       "      <td>179150</td>\n",
       "      <td>2016-04-06 13:45:54</td>\n",
       "      <td>17</td>\n",
       "      <td>-</td>\n",
       "      <td>-</td>\n",
       "      <td>-</td>\n",
       "      <td>-</td>\n",
       "      <td>-</td>\n",
       "      <td>-</td>\n",
       "      <td>-</td>\n",
       "      <td>object</td>\n",
       "      <td>0.0</td>\n",
       "    </tr>\n",
       "  </tbody>\n",
       "</table>\n",
       "</div>"
      ],
      "text/plain": [
       "                      count  unique                  top    freq       mean       std     min       25%       50%       75%       max  dtypes  missing_%\n",
       "DateCrawled        354365    271174  2016-03-24 14:49:47  7       -          -         -       -         -         -         -         object  0.0      \n",
       "Price              354365.0  -       -                    -       4416.68    4514.18   0.0     1050.0    2700.0    6400.0    20000.0   int64   0.0      \n",
       "VehicleType        316875    8       sedan                91457   -          -         -       -         -         -         -         object  11.0     \n",
       "RegistrationYear   354365.0  -       -                    -       2004.23    90.23     1000.0  1999.0    2003.0    2008.0    9999.0    int64   0.0      \n",
       "Gearbox            334532    2       manual               268249  -          -         -       -         -         -         -         object  6.0      \n",
       "Power              354365.0  -       -                    -       110.09     189.85    0.0     69.0      105.0     143.0     20000.0   int64   0.0      \n",
       "Model              334660    250     golf                 29232   -          -         -       -         -         -         -         object  6.0      \n",
       "Kilometer          354365.0  -       -                    -       128211.36  37905.08  5000.0  125000.0  150000.0  150000.0  150000.0  int64   0.0      \n",
       "RegistrationMonth  354365.0  -       -                    -       5.71       3.73      0.0     3.0       6.0       9.0       12.0      int64   0.0      \n",
       "FuelType           321470    7       petrol               216349  -          -         -       -         -         -         -         object  9.0      \n",
       "Brand              354365    40      volkswagen           77012   -          -         -       -         -         -         -         object  0.0      \n",
       "NotRepaired        283211    2       no                   247158  -          -         -       -         -         -         -         object  20.0     \n",
       "DateCreated        354365    109     2016-04-03 00:00:00  13718   -          -         -       -         -         -         -         object  0.0      \n",
       "NumberOfPictures   354365.0  -       -                    -       0.0        0.0       0.0     0.0       0.0       0.0       0.0       int64   0.0      \n",
       "PostalCode         354365.0  -       -                    -       50508.5    25783.1   1067.0  30165.0   49413.0   71083.0   99998.0   int64   0.0      \n",
       "LastSeen           354365    179150  2016-04-06 13:45:54  17      -          -         -       -         -         -         -         object  0.0      "
      ]
     },
     "execution_count": 5,
     "metadata": {},
     "output_type": "execute_result"
    }
   ],
   "source": [
    "df_info(df)"
   ]
  },
  {
   "cell_type": "markdown",
   "metadata": {},
   "source": [
    "Видим пропуски в данных по типу кузова (11%) и коробки передач (6%), модели автомобиля (6%), типу топлива (9%), а так же не указано, была ли машина в ремонте (20%). \n",
    "\n",
    "Можно предположить, что такие характеристики как тип кузова, коробка передач и тип топлива будут схлжи в одинаковых моделях автомобиля. Поэтому пропущенные данных по ним можно заполнить:"
   ]
  },
  {
   "cell_type": "code",
   "execution_count": 6,
   "metadata": {},
   "outputs": [],
   "source": [
    "for col in ['VehicleType', 'Gearbox', 'FuelType']:\n",
    "    f = lambda x: x.value_counts().idxmax()\n",
    "    df[col] = df.groupby('Model', dropna=False)[col].transform(f)"
   ]
  },
  {
   "cell_type": "markdown",
   "metadata": {},
   "source": [
    "Узнать, была ли машина в ремонте, не сможем никак, поэтому просто заполним флагом:"
   ]
  },
  {
   "cell_type": "code",
   "execution_count": 7,
   "metadata": {},
   "outputs": [],
   "source": [
    "df['NotRepaired'] = df['NotRepaired'].fillna('unknown')"
   ]
  },
  {
   "cell_type": "markdown",
   "metadata": {},
   "source": [
    "Модель автомобиля тоже никак не угадать, удалим такие записи:"
   ]
  },
  {
   "cell_type": "code",
   "execution_count": 8,
   "metadata": {},
   "outputs": [],
   "source": [
    "df = df.loc[~df['Model'].isna()]"
   ]
  },
  {
   "cell_type": "markdown",
   "metadata": {},
   "source": [
    "Сконвертируем типы данных на нужные (отдельно зададим формат дат)."
   ]
  },
  {
   "cell_type": "code",
   "execution_count": 9,
   "metadata": {},
   "outputs": [],
   "source": [
    "df = df.convert_dtypes()"
   ]
  },
  {
   "cell_type": "code",
   "execution_count": 10,
   "metadata": {},
   "outputs": [],
   "source": [
    "for col in ['DateCrawled', 'LastSeen']:\n",
    "    df[col] =  pd.to_datetime(df[col], format='%Y-%m-%d %H:%M:%S')"
   ]
  },
  {
   "cell_type": "markdown",
   "metadata": {},
   "source": [
    "Признаки почтового индекса и наличии картинки не влияет ни на что, от них можно избавиться. Дата скачивания анкеты и дата создания актеты почти идентичны, оставим только первую. Месяц регистрации не несет полезной информации, можно его удалить."
   ]
  },
  {
   "cell_type": "code",
   "execution_count": 11,
   "metadata": {},
   "outputs": [],
   "source": [
    "df.drop(['DateCreated', 'PostalCode', 'NumberOfPictures', 'RegistrationMonth'], axis=1, inplace=True)"
   ]
  },
  {
   "cell_type": "markdown",
   "metadata": {},
   "source": [
    "Единственная значимая характеристика автомобиля, которая имеет влияние (обратное) на цену, - это пробег."
   ]
  },
  {
   "cell_type": "code",
   "execution_count": 12,
   "metadata": {},
   "outputs": [
    {
     "data": {
      "image/png": "[encoded data removed]",
      "text/plain": [
       "<Figure size 1440x864 with 6 Axes>"
      ]
     },
     "metadata": {
      "needs_background": "light"
     },
     "output_type": "display_data"
    }
   ],
   "source": [
    "df.hist(figsize=(20,12));"
   ]
  },
  {
   "cell_type": "markdown",
   "metadata": {},
   "source": [
    "Посмотрим выбросы в данных и сразу же избавляемся от них:"
   ]
  },
  {
   "cell_type": "code",
   "execution_count": 13,
   "metadata": {},
   "outputs": [
    {
     "name": "stdout",
     "output_type": "stream",
     "text": [
      "Price: lower = 0.0 and upper = 16900.0\n",
      "RegistrationYear: lower = 1990.0 and upper = 2017.0\n",
      "Power: lower = 0.0 and upper = 233.0\n",
      "Kilometer: lower = 30000.0 and upper = 150000.0\n"
     ]
    }
   ],
   "source": [
    "for col in df.select_dtypes(include=[np.number]).columns:\n",
    "    lower = df[col].quantile(q=0.025)\n",
    "    upper = df[col].quantile(q=0.975)\n",
    "    df = df[(df[col] > lower) & (df[col] < upper)]   \n",
    "    print(f'{col:}: {lower = } and {upper = }')"
   ]
  },
  {
   "cell_type": "markdown",
   "metadata": {},
   "source": [
    "Для дальнейшего обучения надо привести категориальные переменные в количественные, а также их стандартизировать. А исходный df сохраним в df_cat."
   ]
  },
  {
   "cell_type": "code",
   "execution_count": 14,
   "metadata": {},
   "outputs": [],
   "source": [
    "df_cat = df.copy()"
   ]
  },
  {
   "cell_type": "code",
   "execution_count": 15,
   "metadata": {},
   "outputs": [],
   "source": [
    "cat_col = df.select_dtypes(exclude=[np.number]).columns\n",
    "label_encode = LabelEncoder()\n",
    "\n",
    "for col in cat_col:\n",
    "    label_encode.fit(df[col].astype('str'))\n",
    "    df[col] = label_encode.transform(df[col].astype('str'))"
   ]
  },
  {
   "cell_type": "code",
   "execution_count": 16,
   "metadata": {},
   "outputs": [
    {
     "data": {
      "text/html": [
       "<div>\n",
       "<style scoped>\n",
       "    .dataframe tbody tr th:only-of-type {\n",
       "        vertical-align: middle;\n",
       "    }\n",
       "\n",
       "    .dataframe tbody tr th {\n",
       "        vertical-align: top;\n",
       "    }\n",
       "\n",
       "    .dataframe thead th {\n",
       "        text-align: right;\n",
       "    }\n",
       "</style>\n",
       "<table border=\"1\" class=\"dataframe\">\n",
       "  <thead>\n",
       "    <tr style=\"text-align: right;\">\n",
       "      <th></th>\n",
       "      <th>DateCrawled</th>\n",
       "      <th>Price</th>\n",
       "      <th>VehicleType</th>\n",
       "      <th>RegistrationYear</th>\n",
       "      <th>Gearbox</th>\n",
       "      <th>Power</th>\n",
       "      <th>Model</th>\n",
       "      <th>Kilometer</th>\n",
       "      <th>FuelType</th>\n",
       "      <th>Brand</th>\n",
       "      <th>NotRepaired</th>\n",
       "      <th>LastSeen</th>\n",
       "    </tr>\n",
       "  </thead>\n",
       "  <tbody>\n",
       "    <tr>\n",
       "      <th>2</th>\n",
       "      <td>19993</td>\n",
       "      <td>9800</td>\n",
       "      <td>5</td>\n",
       "      <td>2004</td>\n",
       "      <td>0</td>\n",
       "      <td>163</td>\n",
       "      <td>112</td>\n",
       "      <td>125000</td>\n",
       "      <td>0</td>\n",
       "      <td>14</td>\n",
       "      <td>1</td>\n",
       "      <td>37631</td>\n",
       "    </tr>\n",
       "    <tr>\n",
       "      <th>4</th>\n",
       "      <td>59879</td>\n",
       "      <td>3600</td>\n",
       "      <td>4</td>\n",
       "      <td>2008</td>\n",
       "      <td>1</td>\n",
       "      <td>69</td>\n",
       "      <td>98</td>\n",
       "      <td>90000</td>\n",
       "      <td>1</td>\n",
       "      <td>31</td>\n",
       "      <td>0</td>\n",
       "      <td>44625</td>\n",
       "    </tr>\n",
       "    <tr>\n",
       "      <th>20</th>\n",
       "      <td>62793</td>\n",
       "      <td>10400</td>\n",
       "      <td>2</td>\n",
       "      <td>2009</td>\n",
       "      <td>1</td>\n",
       "      <td>160</td>\n",
       "      <td>189</td>\n",
       "      <td>100000</td>\n",
       "      <td>1</td>\n",
       "      <td>37</td>\n",
       "      <td>0</td>\n",
       "      <td>38915</td>\n",
       "    </tr>\n",
       "    <tr>\n",
       "      <th>27</th>\n",
       "      <td>3868</td>\n",
       "      <td>6900</td>\n",
       "      <td>3</td>\n",
       "      <td>2008</td>\n",
       "      <td>1</td>\n",
       "      <td>99</td>\n",
       "      <td>70</td>\n",
       "      <td>60000</td>\n",
       "      <td>1</td>\n",
       "      <td>11</td>\n",
       "      <td>0</td>\n",
       "      <td>20342</td>\n",
       "    </tr>\n",
       "    <tr>\n",
       "      <th>36</th>\n",
       "      <td>13264</td>\n",
       "      <td>1600</td>\n",
       "      <td>3</td>\n",
       "      <td>1991</td>\n",
       "      <td>1</td>\n",
       "      <td>75</td>\n",
       "      <td>123</td>\n",
       "      <td>70000</td>\n",
       "      <td>1</td>\n",
       "      <td>24</td>\n",
       "      <td>1</td>\n",
       "      <td>50414</td>\n",
       "    </tr>\n",
       "  </tbody>\n",
       "</table>\n",
       "</div>"
      ],
      "text/plain": [
       "    DateCrawled  Price  VehicleType  RegistrationYear  Gearbox  Power  Model  Kilometer  FuelType  Brand  NotRepaired  LastSeen\n",
       "2   19993        9800   5            2004              0        163    112    125000     0         14     1            37631   \n",
       "4   59879        3600   4            2008              1        69     98     90000      1         31     0            44625   \n",
       "20  62793        10400  2            2009              1        160    189    100000     1         37     0            38915   \n",
       "27  3868         6900   3            2008              1        99     70     60000      1         11     0            20342   \n",
       "36  13264        1600   3            1991              1        75     123    70000      1         24     1            50414   "
      ]
     },
     "execution_count": 16,
     "metadata": {},
     "output_type": "execute_result"
    }
   ],
   "source": [
    "df.head()"
   ]
  },
  {
   "cell_type": "code",
   "execution_count": 17,
   "metadata": {},
   "outputs": [],
   "source": [
    "scaler = StandardScaler()\n",
    "numeric = ['DateCrawled', 'VehicleType', 'RegistrationYear', 'Gearbox','Power', 'Model', 'Kilometer', \n",
    "           'FuelType', 'Brand', 'NotRepaired','LastSeen']\n",
    "scaler.fit(df[numeric])\n",
    "df[numeric] = scaler.transform(df[numeric])"
   ]
  },
  {
   "cell_type": "markdown",
   "metadata": {},
   "source": [
    "Посмотрим, как зависят признакми друг от друга."
   ]
  },
  {
   "cell_type": "code",
   "execution_count": 18,
   "metadata": {},
   "outputs": [
    {
     "data": {
      "image/png": "[encoded data removed]",
      "text/plain": [
       "<Figure size 936x648 with 2 Axes>"
      ]
     },
     "metadata": {
      "needs_background": "light"
     },
     "output_type": "display_data"
    }
   ],
   "source": [
    "plt.figure(figsize=(13,9))\n",
    "plt.title('Зависимость признаков', fontsize=16)\n",
    "sns.heatmap(df.corr().round(2), annot=True, linewidths=1,  linecolor='gray');"
   ]
  },
  {
   "cell_type": "markdown",
   "metadata": {},
   "source": [
    "В итоге:\n",
    "* избавились от выбросов в данных\n",
    "* убрали пропущенные значения\n",
    "* больше нет дубликатов в данных\n",
    "* справили типы данных\n",
    "* от признаков, которые не несут полезную информацию, избавились\n",
    "* заметили обратную зависимость цены от пробега машины и типа топлива и прямую зависимость от мощности и года регистрации."
   ]
  },
  {
   "cell_type": "markdown",
   "metadata": {},
   "source": [
    "## Обучение моделей"
   ]
  },
  {
   "cell_type": "markdown",
   "metadata": {},
   "source": [
    "Традиционно выделим признаки и цель, а также разделим выборку на обучающую и тестовую. А еще закрепим констанкту random_state."
   ]
  },
  {
   "cell_type": "code",
   "execution_count": 19,
   "metadata": {},
   "outputs": [],
   "source": [
    "RANDOM_STATE = 1234"
   ]
  },
  {
   "cell_type": "code",
   "execution_count": 20,
   "metadata": {},
   "outputs": [],
   "source": [
    "def prepare_model(df):\n",
    "\n",
    "    X = df.drop('Price', axis=1)\n",
    "    y = df['Price']\n",
    "    \n",
    "    X_train, X_test, y_train, y_test = train_test_split(X, y, test_size=0.2, random_state=RANDOM_STATE)\n",
    "    \n",
    "    return X_train, X_test, y_train, y_test"
   ]
  },
  {
   "cell_type": "markdown",
   "metadata": {},
   "source": [
    "Начнем строить модели и посчитаем время:\n",
    "* её обучения;\n",
    "* её предсказания;\n",
    "* расчета метрики RMSE.\n",
    "\n",
    "Обернем все стадии постоения и оценки модели в функцию -- так проще будет проводить последующий анализ.\n",
    "\n",
    "**Сразу отмечу, что использовала GridSearchCV для нахождения лучших параметров модели. Так как в тренажере результат выполнения не дождаться, выполнила подбор на локальной машине, и применила их в своей работе.**"
   ]
  },
  {
   "cell_type": "code",
   "execution_count": 21,
   "metadata": {},
   "outputs": [],
   "source": [
    "def time_model(model, df):\n",
    "\n",
    "    X_train, X_test, y_train, y_test = prepare_model(df)\n",
    "\n",
    "    time_col = ['model_fit', 'predict', 'rmse']\n",
    "    time_val = []\n",
    "\n",
    "    start_fit = time.time()\n",
    "    model = model\n",
    "    model.fit(X_train, y_train.astype('int32'))\n",
    "    end_fit = time.time()\n",
    "\n",
    "    time_val.append(end_fit-start_fit)\n",
    "\n",
    "    start_pred = time.time()\n",
    "    pred_train = model.predict(X_train)\n",
    "    pred_test = model.predict(X_test)\n",
    "    end_pred = time.time()\n",
    "\n",
    "    time_val.append(end_pred-start_pred)\n",
    "\n",
    "    start_rmse = time.time()\n",
    "    rmse_train = mean_squared_error(y_train, pred_train) ** 0.5\n",
    "    rmse_test = mean_squared_error(y_test, pred_test) ** 0.5\n",
    "    end_rmse = time.time()\n",
    "    time_val.append(end_rmse-start_rmse)\n",
    "    rmse = f'{rmse_train = }, {rmse_test = }'\n",
    "\n",
    "    time_df = pd.DataFrame(list(zip(time_col, time_val)), columns = ['time', 'sec'])\n",
    "    rmse_df = pd.DataFrame(list(zip(['rmse_train', 'rmse_test'], [rmse_train, rmse_test])), columns = ['rmse', 'value'])\n",
    "\n",
    "    return time_df.round(3), rmse_df.round(3)"
   ]
  },
  {
   "cell_type": "markdown",
   "metadata": {},
   "source": [
    "#### Линейная регрессия"
   ]
  },
  {
   "cell_type": "code",
   "execution_count": 22,
   "metadata": {},
   "outputs": [
    {
     "name": "stdout",
     "output_type": "stream",
     "text": [
      "CPU times: user 162 ms, sys: 110 ms, total: 272 ms\n",
      "Wall time: 252 ms\n"
     ]
    }
   ],
   "source": [
    "%%time\n",
    "time_LR, rmse_LR = time_model(LinearRegression(), df)"
   ]
  },
  {
   "cell_type": "markdown",
   "metadata": {},
   "source": [
    "#### Дерево решений"
   ]
  },
  {
   "cell_type": "raw",
   "metadata": {},
   "source": [
    "%%time\n",
    "X_train, X_test, y_train, y_test = prepare_model(df)\n",
    "\n",
    "params = {'min_samples_split': range(2, 20, 2),'min_samples_leaf': range(2, 20, 2), 'max_depth': range(2,20,2)}\n",
    "\n",
    "model_DT = GridSearchCV(DecisionTreeRegressor(random_state=RANDOM_STATE),\n",
    "                                              param_grid=params,\n",
    "                                              cv=5, \n",
    "                                              refit=True)\n",
    "\n",
    "best_params_DT = model_DT.fit(X_train, y_train.astype('int32')).best_params_\n",
    "print(best_params_DT)"
   ]
  },
  {
   "cell_type": "raw",
   "metadata": {},
   "source": [
    "%%time\n",
    "time_DT, rmse_DT = time_model(DecisionTreeRegressor(**best_params_DT), df)"
   ]
  },
  {
   "cell_type": "code",
   "execution_count": 23,
   "metadata": {},
   "outputs": [
    {
     "name": "stdout",
     "output_type": "stream",
     "text": [
      "CPU times: user 334 ms, sys: 0 ns, total: 334 ms\n",
      "Wall time: 340 ms\n"
     ]
    }
   ],
   "source": [
    "%%time\n",
    "time_DT, rmse_DT = time_model(DecisionTreeRegressor(min_samples_split = 2, min_samples_leaf = 12, max_depth = 18), df)"
   ]
  },
  {
   "cell_type": "markdown",
   "metadata": {},
   "source": [
    "#### Случайный лес"
   ]
  },
  {
   "cell_type": "raw",
   "metadata": {},
   "source": [
    "%%time\n",
    "X_train, X_test, y_train, y_test = prepare_model(df)\n",
    "\n",
    "params = {'n_estimators': range(10, 50, 10),'min_samples_split': range(2, 10, 2), 'max_depth': range(5,20,5)}\n",
    "\n",
    "model_RF = GridSearchCV(RandomForestRegressor(random_state=RANDOM_STATE),\n",
    "                                              param_grid=params,\n",
    "                                              cv=5, \n",
    "                                              refit=True)\n",
    "\n",
    "best_params_RF = model_RF.fit(X_train, y_train.astype('int32')).best_params_\n",
    "print(best_params_RF)"
   ]
  },
  {
   "cell_type": "raw",
   "metadata": {},
   "source": [
    "%%time\n",
    "time_RF, rmse_RF = time_model(RandomForestRegressor(**best_params_RF), df)"
   ]
  },
  {
   "cell_type": "code",
   "execution_count": 24,
   "metadata": {},
   "outputs": [
    {
     "name": "stdout",
     "output_type": "stream",
     "text": [
      "CPU times: user 8.63 s, sys: 28.1 ms, total: 8.66 s\n",
      "Wall time: 8.67 s\n"
     ]
    }
   ],
   "source": [
    "%%time\n",
    "time_RF, rmse_RF = time_model(RandomForestRegressor(n_estimators = 40, min_samples_split = 2, max_depth = 15), df)"
   ]
  },
  {
   "cell_type": "markdown",
   "metadata": {},
   "source": [
    "### LightGBM"
   ]
  },
  {
   "cell_type": "markdown",
   "metadata": {},
   "source": [
    "Модель умеет работать с категориальными переменными, поэтому берем в работу df. Заодно переберем несколько гиперпараметров:\n",
    "* n_estimators - количество деревьев;\n",
    "* num_leaves - количество листьев дерева\n",
    "\n",
    "Сделаем подбор параметров и их перебор через GridSearchCV."
   ]
  },
  {
   "cell_type": "raw",
   "metadata": {},
   "source": [
    "%%time\n",
    "X_train, X_test, y_train, y_test = prepare_model(df)\n",
    "\n",
    "params = {'n_estimators': range(10, 200, 50), 'num_leaves': range(2,20,2)}\n",
    "\n",
    "model = GridSearchCV(lgb.LGBMRegressor(random_state=RANDOM_STATE), param_grid=params, cv=5, refit=True)\n",
    "best_params  = model.fit(X_train, y_train.astype('int32')).best_params_"
   ]
  },
  {
   "cell_type": "raw",
   "metadata": {},
   "source": [
    "%%time\n",
    "time_LGBM, rmse_LGBM = time_model(lgb.LGBMRegressor(**best_params), df)"
   ]
  },
  {
   "cell_type": "code",
   "execution_count": 25,
   "metadata": {},
   "outputs": [
    {
     "name": "stdout",
     "output_type": "stream",
     "text": [
      "CPU times: user 6min 27s, sys: 4.36 s, total: 6min 31s\n",
      "Wall time: 6min 33s\n"
     ]
    }
   ],
   "source": [
    "%%time\n",
    "time_LGBM, rmse_LGBM = time_model(lgb.LGBMRegressor(n_estimators = 160, num_leaves = 18), df)"
   ]
  },
  {
   "cell_type": "markdown",
   "metadata": {},
   "source": [
    "### CatBoost\n",
    "\n",
    "Так как модель умеет работать с категориальными признаками. воспользуемся датасетом df_cat, оставив в нем только категориальные признаки."
   ]
  },
  {
   "cell_type": "code",
   "execution_count": 26,
   "metadata": {},
   "outputs": [],
   "source": [
    "cat_col = ['VehicleType', 'RegistrationYear', 'Gearbox', 'Power', 'Model', 'Kilometer', 'FuelType', 'Brand', 'NotRepaired']\n",
    "\n",
    "df_cat = df_cat.drop(['DateCrawled', 'LastSeen'], axis=1)\n",
    "\n",
    "df_cat[cat_col] = df_cat[cat_col].astype('category')"
   ]
  },
  {
   "cell_type": "code",
   "execution_count": 27,
   "metadata": {},
   "outputs": [
    {
     "name": "stdout",
     "output_type": "stream",
     "text": [
      "Learning rate set to 0.078558\n",
      "0:\tlearn: 4124.3452597\ttotal: 119ms\tremaining: 1m 58s\n",
      "1:\tlearn: 3901.5215436\ttotal: 158ms\tremaining: 1m 18s\n",
      "2:\tlearn: 3695.3211934\ttotal: 203ms\tremaining: 1m 7s\n",
      "3:\tlearn: 3510.0072049\ttotal: 238ms\tremaining: 59.3s\n",
      "4:\tlearn: 3345.7088410\ttotal: 300ms\tremaining: 59.7s\n",
      "5:\tlearn: 3191.3388215\ttotal: 355ms\tremaining: 58.8s\n",
      "6:\tlearn: 3058.6418856\ttotal: 409ms\tremaining: 58s\n",
      "7:\tlearn: 2933.7300105\ttotal: 469ms\tremaining: 58.1s\n",
      "8:\tlearn: 2824.1144718\ttotal: 513ms\tremaining: 56.5s\n",
      "9:\tlearn: 2719.6820702\ttotal: 568ms\tremaining: 56.3s\n",
      "10:\tlearn: 2623.4914760\ttotal: 613ms\tremaining: 55.1s\n",
      "11:\tlearn: 2541.7030840\ttotal: 655ms\tremaining: 53.9s\n",
      "12:\tlearn: 2467.7484665\ttotal: 710ms\tremaining: 53.9s\n",
      "13:\tlearn: 2396.7741301\ttotal: 756ms\tremaining: 53.2s\n",
      "14:\tlearn: 2337.1317198\ttotal: 802ms\tremaining: 52.7s\n",
      "15:\tlearn: 2281.9270389\ttotal: 837ms\tremaining: 51.5s\n",
      "16:\tlearn: 2235.6274765\ttotal: 882ms\tremaining: 51s\n",
      "17:\tlearn: 2192.4201065\ttotal: 917ms\tremaining: 50.1s\n",
      "18:\tlearn: 2156.3005400\ttotal: 954ms\tremaining: 49.2s\n",
      "19:\tlearn: 2121.0186247\ttotal: 1s\tremaining: 49.2s\n",
      "20:\tlearn: 2088.6127981\ttotal: 1.04s\tremaining: 48.5s\n",
      "21:\tlearn: 2061.3187619\ttotal: 1.09s\tremaining: 48.5s\n",
      "22:\tlearn: 2034.6609287\ttotal: 1.13s\tremaining: 47.8s\n",
      "23:\tlearn: 2010.1511349\ttotal: 1.18s\tremaining: 48.1s\n",
      "24:\tlearn: 1987.5061785\ttotal: 1.22s\tremaining: 47.6s\n",
      "25:\tlearn: 1967.1893528\ttotal: 1.26s\tremaining: 47.1s\n",
      "26:\tlearn: 1949.6820210\ttotal: 1.3s\tremaining: 46.8s\n",
      "27:\tlearn: 1932.9697274\ttotal: 1.33s\tremaining: 46.4s\n",
      "28:\tlearn: 1918.6339558\ttotal: 1.39s\tremaining: 46.5s\n",
      "29:\tlearn: 1905.3017765\ttotal: 1.44s\tremaining: 46.4s\n",
      "30:\tlearn: 1892.0575368\ttotal: 1.49s\tremaining: 46.4s\n",
      "31:\tlearn: 1880.4219710\ttotal: 1.54s\tremaining: 46.8s\n",
      "32:\tlearn: 1869.2196675\ttotal: 1.6s\tremaining: 46.9s\n",
      "33:\tlearn: 1859.7048147\ttotal: 1.66s\tremaining: 47.2s\n",
      "34:\tlearn: 1849.5980395\ttotal: 1.73s\tremaining: 47.7s\n",
      "35:\tlearn: 1839.1611923\ttotal: 1.79s\tremaining: 48.1s\n",
      "36:\tlearn: 1830.3805328\ttotal: 1.86s\tremaining: 48.4s\n",
      "37:\tlearn: 1822.1928955\ttotal: 1.91s\tremaining: 48.3s\n",
      "38:\tlearn: 1815.7172159\ttotal: 1.96s\tremaining: 48.2s\n",
      "39:\tlearn: 1809.6818873\ttotal: 2.04s\tremaining: 48.9s\n",
      "40:\tlearn: 1802.4484240\ttotal: 2.09s\tremaining: 48.9s\n",
      "41:\tlearn: 1795.5969636\ttotal: 2.13s\tremaining: 48.6s\n",
      "42:\tlearn: 1790.7110718\ttotal: 2.22s\tremaining: 49.4s\n",
      "43:\tlearn: 1786.3840188\ttotal: 2.27s\tremaining: 49.3s\n",
      "44:\tlearn: 1782.2788747\ttotal: 2.31s\tremaining: 49s\n",
      "45:\tlearn: 1777.8351078\ttotal: 2.35s\tremaining: 48.7s\n",
      "46:\tlearn: 1773.8971426\ttotal: 2.39s\tremaining: 48.4s\n",
      "47:\tlearn: 1770.3993145\ttotal: 2.43s\tremaining: 48.2s\n",
      "48:\tlearn: 1767.2200638\ttotal: 2.48s\tremaining: 48.2s\n",
      "49:\tlearn: 1765.0160832\ttotal: 2.52s\tremaining: 47.9s\n",
      "50:\tlearn: 1761.5523605\ttotal: 2.58s\tremaining: 48.1s\n",
      "51:\tlearn: 1757.8472813\ttotal: 2.63s\tremaining: 47.9s\n",
      "52:\tlearn: 1754.4558815\ttotal: 2.7s\tremaining: 48.3s\n",
      "53:\tlearn: 1752.5755762\ttotal: 2.75s\tremaining: 48.2s\n",
      "54:\tlearn: 1748.6711726\ttotal: 2.81s\tremaining: 48.4s\n",
      "55:\tlearn: 1745.6049068\ttotal: 2.89s\tremaining: 48.7s\n",
      "56:\tlearn: 1742.8798079\ttotal: 2.94s\tremaining: 48.6s\n",
      "57:\tlearn: 1740.0081126\ttotal: 3.01s\tremaining: 48.9s\n",
      "58:\tlearn: 1738.3135768\ttotal: 3.07s\tremaining: 49s\n",
      "59:\tlearn: 1735.6571132\ttotal: 3.14s\tremaining: 49.2s\n",
      "60:\tlearn: 1733.0070588\ttotal: 3.18s\tremaining: 48.9s\n",
      "61:\tlearn: 1730.3283557\ttotal: 3.24s\tremaining: 49s\n",
      "62:\tlearn: 1727.2583603\ttotal: 3.29s\tremaining: 48.9s\n",
      "63:\tlearn: 1724.7947178\ttotal: 3.34s\tremaining: 48.9s\n",
      "64:\tlearn: 1723.0598352\ttotal: 3.38s\tremaining: 48.7s\n",
      "65:\tlearn: 1720.1615478\ttotal: 3.46s\tremaining: 48.9s\n",
      "66:\tlearn: 1717.8527361\ttotal: 3.5s\tremaining: 48.7s\n",
      "67:\tlearn: 1715.5022960\ttotal: 3.56s\tremaining: 48.8s\n",
      "68:\tlearn: 1712.2146316\ttotal: 3.6s\tremaining: 48.5s\n",
      "69:\tlearn: 1710.0720568\ttotal: 3.66s\tremaining: 48.7s\n",
      "70:\tlearn: 1708.6736990\ttotal: 3.72s\tremaining: 48.7s\n",
      "71:\tlearn: 1706.7814108\ttotal: 3.79s\tremaining: 48.8s\n",
      "72:\tlearn: 1705.4019697\ttotal: 3.83s\tremaining: 48.7s\n",
      "73:\tlearn: 1703.7356524\ttotal: 3.9s\tremaining: 48.9s\n",
      "74:\tlearn: 1702.5276784\ttotal: 3.98s\tremaining: 49s\n",
      "75:\tlearn: 1700.7604766\ttotal: 4.04s\tremaining: 49.1s\n",
      "76:\tlearn: 1699.7977785\ttotal: 4.1s\tremaining: 49.1s\n",
      "77:\tlearn: 1697.7543494\ttotal: 4.17s\tremaining: 49.3s\n",
      "78:\tlearn: 1696.7092535\ttotal: 4.22s\tremaining: 49.2s\n",
      "79:\tlearn: 1694.6675485\ttotal: 4.27s\tremaining: 49.1s\n",
      "80:\tlearn: 1692.4929677\ttotal: 4.32s\tremaining: 49s\n",
      "81:\tlearn: 1690.9175032\ttotal: 4.37s\tremaining: 48.9s\n",
      "82:\tlearn: 1689.2463288\ttotal: 4.43s\tremaining: 48.9s\n",
      "83:\tlearn: 1687.4255735\ttotal: 4.47s\tremaining: 48.7s\n",
      "84:\tlearn: 1686.3062283\ttotal: 4.51s\tremaining: 48.6s\n",
      "85:\tlearn: 1684.4632035\ttotal: 4.56s\tremaining: 48.4s\n",
      "86:\tlearn: 1683.4881541\ttotal: 4.61s\tremaining: 48.4s\n",
      "87:\tlearn: 1681.8896660\ttotal: 4.65s\tremaining: 48.2s\n",
      "88:\tlearn: 1678.2770714\ttotal: 4.71s\tremaining: 48.3s\n",
      "89:\tlearn: 1676.1200108\ttotal: 4.76s\tremaining: 48.2s\n",
      "90:\tlearn: 1674.2743595\ttotal: 4.82s\tremaining: 48.1s\n",
      "91:\tlearn: 1672.8859608\ttotal: 4.88s\tremaining: 48.1s\n",
      "92:\tlearn: 1672.4169620\ttotal: 4.94s\tremaining: 48.2s\n",
      "93:\tlearn: 1671.0695104\ttotal: 5.01s\tremaining: 48.3s\n",
      "94:\tlearn: 1668.8602471\ttotal: 5.08s\tremaining: 48.4s\n",
      "95:\tlearn: 1667.5532458\ttotal: 5.14s\tremaining: 48.4s\n",
      "96:\tlearn: 1666.9689566\ttotal: 5.21s\tremaining: 48.5s\n",
      "97:\tlearn: 1665.3555622\ttotal: 5.26s\tremaining: 48.4s\n",
      "98:\tlearn: 1664.0786868\ttotal: 5.31s\tremaining: 48.3s\n",
      "99:\tlearn: 1662.7645290\ttotal: 5.36s\tremaining: 48.3s\n",
      "100:\tlearn: 1661.2758711\ttotal: 5.41s\tremaining: 48.2s\n",
      "101:\tlearn: 1659.3492047\ttotal: 5.46s\tremaining: 48s\n",
      "102:\tlearn: 1657.5462905\ttotal: 5.51s\tremaining: 48s\n",
      "103:\tlearn: 1655.5861102\ttotal: 5.55s\tremaining: 47.9s\n",
      "104:\tlearn: 1654.3146394\ttotal: 5.6s\tremaining: 47.8s\n",
      "105:\tlearn: 1652.7080481\ttotal: 5.65s\tremaining: 47.7s\n",
      "106:\tlearn: 1651.3709408\ttotal: 5.71s\tremaining: 47.7s\n",
      "107:\tlearn: 1649.8732125\ttotal: 5.78s\tremaining: 47.7s\n",
      "108:\tlearn: 1648.4224405\ttotal: 5.85s\tremaining: 47.8s\n",
      "109:\tlearn: 1647.5077724\ttotal: 5.9s\tremaining: 47.8s\n",
      "110:\tlearn: 1646.2566161\ttotal: 5.96s\tremaining: 47.8s\n",
      "111:\tlearn: 1645.2698759\ttotal: 6.02s\tremaining: 47.7s\n",
      "112:\tlearn: 1643.8732211\ttotal: 6.07s\tremaining: 47.6s\n",
      "113:\tlearn: 1642.0556838\ttotal: 6.12s\tremaining: 47.6s\n",
      "114:\tlearn: 1640.3528432\ttotal: 6.17s\tremaining: 47.5s\n",
      "115:\tlearn: 1638.9575651\ttotal: 6.24s\tremaining: 47.5s\n",
      "116:\tlearn: 1637.5322189\ttotal: 6.29s\tremaining: 47.4s\n",
      "117:\tlearn: 1636.1415532\ttotal: 6.34s\tremaining: 47.4s\n",
      "118:\tlearn: 1635.0567528\ttotal: 6.4s\tremaining: 47.4s\n",
      "119:\tlearn: 1634.2336615\ttotal: 6.46s\tremaining: 47.4s\n",
      "120:\tlearn: 1633.0491830\ttotal: 6.54s\tremaining: 47.5s\n",
      "121:\tlearn: 1631.5317499\ttotal: 6.63s\tremaining: 47.7s\n",
      "122:\tlearn: 1630.8233115\ttotal: 6.68s\tremaining: 47.6s\n",
      "123:\tlearn: 1630.0394669\ttotal: 6.73s\tremaining: 47.5s\n",
      "124:\tlearn: 1628.2605746\ttotal: 6.8s\tremaining: 47.6s\n",
      "125:\tlearn: 1626.3098469\ttotal: 6.87s\tremaining: 47.7s\n",
      "126:\tlearn: 1625.4298512\ttotal: 6.93s\tremaining: 47.6s\n",
      "127:\tlearn: 1624.9446101\ttotal: 6.98s\tremaining: 47.5s\n",
      "128:\tlearn: 1623.2037801\ttotal: 7.01s\tremaining: 47.3s\n",
      "129:\tlearn: 1621.9215050\ttotal: 7.07s\tremaining: 47.3s\n",
      "130:\tlearn: 1620.9224065\ttotal: 7.12s\tremaining: 47.2s\n",
      "131:\tlearn: 1620.2529515\ttotal: 7.17s\tremaining: 47.2s\n",
      "132:\tlearn: 1618.6609844\ttotal: 7.21s\tremaining: 47s\n",
      "133:\tlearn: 1617.5692731\ttotal: 7.26s\tremaining: 46.9s\n",
      "134:\tlearn: 1616.6102932\ttotal: 7.3s\tremaining: 46.8s\n",
      "135:\tlearn: 1615.6567815\ttotal: 7.35s\tremaining: 46.7s\n",
      "136:\tlearn: 1614.5496478\ttotal: 7.4s\tremaining: 46.6s\n",
      "137:\tlearn: 1613.6074481\ttotal: 7.45s\tremaining: 46.5s\n",
      "138:\tlearn: 1612.7469597\ttotal: 7.49s\tremaining: 46.4s\n",
      "139:\tlearn: 1611.9542966\ttotal: 7.54s\tremaining: 46.3s\n",
      "140:\tlearn: 1611.2843451\ttotal: 7.6s\tremaining: 46.3s\n",
      "141:\tlearn: 1610.6884939\ttotal: 7.67s\tremaining: 46.3s\n",
      "142:\tlearn: 1609.9992439\ttotal: 7.73s\tremaining: 46.3s\n",
      "143:\tlearn: 1608.9436814\ttotal: 7.79s\tremaining: 46.3s\n",
      "144:\tlearn: 1608.6152549\ttotal: 7.84s\tremaining: 46.2s\n",
      "145:\tlearn: 1607.5399306\ttotal: 7.9s\tremaining: 46.2s\n",
      "146:\tlearn: 1606.8522919\ttotal: 7.95s\tremaining: 46.1s\n",
      "147:\tlearn: 1605.5935075\ttotal: 8.01s\tremaining: 46.1s\n",
      "148:\tlearn: 1605.1193092\ttotal: 8.08s\tremaining: 46.2s\n",
      "149:\tlearn: 1604.1146340\ttotal: 8.13s\tremaining: 46.1s\n",
      "150:\tlearn: 1602.9586326\ttotal: 8.19s\tremaining: 46.1s\n",
      "151:\tlearn: 1602.2880957\ttotal: 8.23s\tremaining: 45.9s\n",
      "152:\tlearn: 1601.0209645\ttotal: 8.29s\tremaining: 45.9s\n",
      "153:\tlearn: 1600.0861251\ttotal: 8.33s\tremaining: 45.8s\n",
      "154:\tlearn: 1599.7511606\ttotal: 8.38s\tremaining: 45.7s\n",
      "155:\tlearn: 1598.9890564\ttotal: 8.41s\tremaining: 45.5s\n",
      "156:\tlearn: 1598.7322427\ttotal: 8.47s\tremaining: 45.5s\n",
      "157:\tlearn: 1597.9484805\ttotal: 8.51s\tremaining: 45.4s\n",
      "158:\tlearn: 1596.2733319\ttotal: 8.56s\tremaining: 45.3s\n",
      "159:\tlearn: 1595.8617364\ttotal: 8.6s\tremaining: 45.2s\n",
      "160:\tlearn: 1594.4037217\ttotal: 8.66s\tremaining: 45.1s\n",
      "161:\tlearn: 1593.6753678\ttotal: 8.72s\tremaining: 45.1s\n",
      "162:\tlearn: 1593.4886781\ttotal: 8.76s\tremaining: 45s\n",
      "163:\tlearn: 1592.5423947\ttotal: 8.82s\tremaining: 44.9s\n",
      "164:\tlearn: 1590.9218930\ttotal: 8.88s\tremaining: 44.9s\n",
      "165:\tlearn: 1589.9990397\ttotal: 8.93s\tremaining: 44.9s\n",
      "166:\tlearn: 1589.1321049\ttotal: 8.99s\tremaining: 44.8s\n",
      "167:\tlearn: 1588.0601070\ttotal: 9.06s\tremaining: 44.9s\n",
      "168:\tlearn: 1587.9002461\ttotal: 9.1s\tremaining: 44.7s\n",
      "169:\tlearn: 1587.2318546\ttotal: 9.16s\tremaining: 44.7s\n",
      "170:\tlearn: 1586.9606365\ttotal: 9.21s\tremaining: 44.6s\n",
      "171:\tlearn: 1586.4543330\ttotal: 9.25s\tremaining: 44.5s\n",
      "172:\tlearn: 1586.0445892\ttotal: 9.33s\tremaining: 44.6s\n",
      "173:\tlearn: 1585.4859489\ttotal: 9.38s\tremaining: 44.5s\n",
      "174:\tlearn: 1583.8716247\ttotal: 9.45s\tremaining: 44.5s\n",
      "175:\tlearn: 1583.3354147\ttotal: 9.51s\tremaining: 44.5s\n",
      "176:\tlearn: 1582.6990131\ttotal: 9.57s\tremaining: 44.5s\n",
      "177:\tlearn: 1582.1935976\ttotal: 9.62s\tremaining: 44.4s\n",
      "178:\tlearn: 1581.5017137\ttotal: 9.66s\tremaining: 44.3s\n",
      "179:\tlearn: 1580.9182267\ttotal: 9.72s\tremaining: 44.3s\n",
      "180:\tlearn: 1580.3651695\ttotal: 9.75s\tremaining: 44.1s\n",
      "181:\tlearn: 1579.0238786\ttotal: 9.82s\tremaining: 44.1s\n",
      "182:\tlearn: 1578.4537846\ttotal: 9.87s\tremaining: 44.1s\n",
      "183:\tlearn: 1578.2343680\ttotal: 9.92s\tremaining: 44s\n",
      "184:\tlearn: 1577.3864512\ttotal: 9.96s\tremaining: 43.9s\n",
      "185:\tlearn: 1577.0177177\ttotal: 10s\tremaining: 43.8s\n",
      "186:\tlearn: 1576.1312365\ttotal: 10.1s\tremaining: 43.7s\n",
      "187:\tlearn: 1575.7907136\ttotal: 10.1s\tremaining: 43.6s\n",
      "188:\tlearn: 1575.3451983\ttotal: 10.2s\tremaining: 43.6s\n",
      "189:\tlearn: 1574.5162465\ttotal: 10.2s\tremaining: 43.5s\n",
      "190:\tlearn: 1573.6732672\ttotal: 10.2s\tremaining: 43.4s\n",
      "191:\tlearn: 1572.4487250\ttotal: 10.3s\tremaining: 43.3s\n",
      "192:\tlearn: 1571.7029989\ttotal: 10.3s\tremaining: 43.2s\n",
      "193:\tlearn: 1571.2982143\ttotal: 10.4s\tremaining: 43.3s\n",
      "194:\tlearn: 1570.5764750\ttotal: 10.5s\tremaining: 43.2s\n",
      "195:\tlearn: 1569.7784860\ttotal: 10.5s\tremaining: 43.1s\n",
      "196:\tlearn: 1568.8917984\ttotal: 10.6s\tremaining: 43s\n",
      "197:\tlearn: 1568.3524883\ttotal: 10.6s\tremaining: 43s\n",
      "198:\tlearn: 1567.4202794\ttotal: 10.7s\tremaining: 43s\n",
      "199:\tlearn: 1566.5988338\ttotal: 10.7s\tremaining: 42.9s\n",
      "200:\tlearn: 1565.4907850\ttotal: 10.8s\tremaining: 42.9s\n",
      "201:\tlearn: 1565.3016620\ttotal: 10.9s\tremaining: 42.9s\n",
      "202:\tlearn: 1565.0009012\ttotal: 10.9s\tremaining: 42.9s\n",
      "203:\tlearn: 1564.3649457\ttotal: 11s\tremaining: 42.7s\n",
      "204:\tlearn: 1563.9672520\ttotal: 11s\tremaining: 42.7s\n",
      "205:\tlearn: 1563.0476414\ttotal: 11.1s\tremaining: 42.6s\n",
      "206:\tlearn: 1562.0811050\ttotal: 11.1s\tremaining: 42.6s\n",
      "207:\tlearn: 1561.4731751\ttotal: 11.2s\tremaining: 42.5s\n",
      "208:\tlearn: 1560.2694316\ttotal: 11.2s\tremaining: 42.5s\n",
      "209:\tlearn: 1559.3493553\ttotal: 11.3s\tremaining: 42.4s\n",
      "210:\tlearn: 1558.5921771\ttotal: 11.3s\tremaining: 42.3s\n",
      "211:\tlearn: 1558.2538328\ttotal: 11.4s\tremaining: 42.4s\n",
      "212:\tlearn: 1557.7442944\ttotal: 11.5s\tremaining: 42.5s\n",
      "213:\tlearn: 1556.9931042\ttotal: 11.6s\tremaining: 42.5s\n",
      "214:\tlearn: 1556.3284286\ttotal: 11.6s\tremaining: 42.4s\n",
      "215:\tlearn: 1556.0195049\ttotal: 11.7s\tremaining: 42.4s\n",
      "216:\tlearn: 1555.0439791\ttotal: 11.7s\tremaining: 42.3s\n",
      "217:\tlearn: 1554.7526051\ttotal: 11.8s\tremaining: 42.3s\n",
      "218:\tlearn: 1554.0579186\ttotal: 11.9s\tremaining: 42.3s\n",
      "219:\tlearn: 1553.4188191\ttotal: 11.9s\tremaining: 42.2s\n",
      "220:\tlearn: 1552.7777733\ttotal: 12s\tremaining: 42.2s\n",
      "221:\tlearn: 1552.6413378\ttotal: 12s\tremaining: 42.1s\n",
      "222:\tlearn: 1551.8704356\ttotal: 12.1s\tremaining: 42.1s\n",
      "223:\tlearn: 1550.8434605\ttotal: 12.1s\tremaining: 42s\n",
      "224:\tlearn: 1550.1717637\ttotal: 12.2s\tremaining: 42s\n",
      "225:\tlearn: 1549.4836200\ttotal: 12.2s\tremaining: 41.9s\n",
      "226:\tlearn: 1548.9946967\ttotal: 12.3s\tremaining: 41.8s\n",
      "227:\tlearn: 1548.3554555\ttotal: 12.4s\tremaining: 41.8s\n",
      "228:\tlearn: 1547.8565127\ttotal: 12.4s\tremaining: 41.8s\n",
      "229:\tlearn: 1547.3741379\ttotal: 12.5s\tremaining: 41.7s\n",
      "230:\tlearn: 1546.9571101\ttotal: 12.5s\tremaining: 41.6s\n",
      "231:\tlearn: 1546.4819730\ttotal: 12.6s\tremaining: 41.6s\n",
      "232:\tlearn: 1546.0325182\ttotal: 12.6s\tremaining: 41.5s\n",
      "233:\tlearn: 1545.7546915\ttotal: 12.7s\tremaining: 41.5s\n",
      "234:\tlearn: 1545.4225038\ttotal: 12.7s\tremaining: 41.4s\n",
      "235:\tlearn: 1544.9689683\ttotal: 12.8s\tremaining: 41.3s\n",
      "236:\tlearn: 1544.5480887\ttotal: 12.8s\tremaining: 41.2s\n",
      "237:\tlearn: 1543.6859484\ttotal: 12.8s\tremaining: 41.1s\n",
      "238:\tlearn: 1543.2868355\ttotal: 12.9s\tremaining: 41s\n",
      "239:\tlearn: 1542.2194190\ttotal: 12.9s\tremaining: 41s\n",
      "240:\tlearn: 1541.5016172\ttotal: 13s\tremaining: 40.9s\n",
      "241:\tlearn: 1540.9234476\ttotal: 13.1s\tremaining: 40.9s\n",
      "242:\tlearn: 1539.7997969\ttotal: 13.1s\tremaining: 40.9s\n",
      "243:\tlearn: 1538.9770333\ttotal: 13.2s\tremaining: 40.8s\n",
      "244:\tlearn: 1538.9111024\ttotal: 13.2s\tremaining: 40.7s\n",
      "245:\tlearn: 1538.6618456\ttotal: 13.3s\tremaining: 40.7s\n",
      "246:\tlearn: 1538.0639781\ttotal: 13.3s\tremaining: 40.6s\n",
      "247:\tlearn: 1538.0532685\ttotal: 13.4s\tremaining: 40.5s\n",
      "248:\tlearn: 1536.7665641\ttotal: 13.4s\tremaining: 40.5s\n",
      "249:\tlearn: 1535.6448963\ttotal: 13.5s\tremaining: 40.4s\n",
      "250:\tlearn: 1535.2335242\ttotal: 13.5s\tremaining: 40.3s\n",
      "251:\tlearn: 1534.2478712\ttotal: 13.6s\tremaining: 40.3s\n",
      "252:\tlearn: 1533.5830044\ttotal: 13.6s\tremaining: 40.2s\n",
      "253:\tlearn: 1533.0976203\ttotal: 13.7s\tremaining: 40.1s\n",
      "254:\tlearn: 1532.4878633\ttotal: 13.7s\tremaining: 40.1s\n",
      "255:\tlearn: 1532.0121405\ttotal: 13.8s\tremaining: 40s\n",
      "256:\tlearn: 1531.5877849\ttotal: 13.8s\tremaining: 40s\n",
      "257:\tlearn: 1531.4497677\ttotal: 13.9s\tremaining: 40s\n",
      "258:\tlearn: 1529.9016964\ttotal: 14s\tremaining: 39.9s\n",
      "259:\tlearn: 1529.1905395\ttotal: 14s\tremaining: 39.9s\n",
      "260:\tlearn: 1528.6567822\ttotal: 14.1s\tremaining: 39.8s\n",
      "261:\tlearn: 1528.0536317\ttotal: 14.1s\tremaining: 39.7s\n",
      "262:\tlearn: 1528.0464927\ttotal: 14.2s\tremaining: 39.7s\n",
      "263:\tlearn: 1527.7298689\ttotal: 14.2s\tremaining: 39.6s\n",
      "264:\tlearn: 1527.4241982\ttotal: 14.2s\tremaining: 39.5s\n",
      "265:\tlearn: 1527.3845039\ttotal: 14.3s\tremaining: 39.4s\n",
      "266:\tlearn: 1526.9963691\ttotal: 14.3s\tremaining: 39.4s\n",
      "267:\tlearn: 1526.7278942\ttotal: 14.4s\tremaining: 39.3s\n",
      "268:\tlearn: 1526.5565322\ttotal: 14.4s\tremaining: 39.3s\n",
      "269:\tlearn: 1526.5505503\ttotal: 14.5s\tremaining: 39.1s\n",
      "270:\tlearn: 1526.0393392\ttotal: 14.5s\tremaining: 39.1s\n",
      "271:\tlearn: 1525.7764348\ttotal: 14.6s\tremaining: 39s\n",
      "272:\tlearn: 1525.1812976\ttotal: 14.6s\tremaining: 39s\n",
      "273:\tlearn: 1524.6715333\ttotal: 14.7s\tremaining: 38.9s\n",
      "274:\tlearn: 1524.1809435\ttotal: 14.7s\tremaining: 38.8s\n",
      "275:\tlearn: 1523.7054609\ttotal: 14.8s\tremaining: 38.8s\n",
      "276:\tlearn: 1522.4070784\ttotal: 14.8s\tremaining: 38.7s\n",
      "277:\tlearn: 1522.0912552\ttotal: 14.9s\tremaining: 38.6s\n",
      "278:\tlearn: 1521.4698644\ttotal: 14.9s\tremaining: 38.5s\n",
      "279:\tlearn: 1521.1867331\ttotal: 14.9s\tremaining: 38.4s\n",
      "280:\tlearn: 1520.9157329\ttotal: 15s\tremaining: 38.4s\n",
      "281:\tlearn: 1520.5358813\ttotal: 15s\tremaining: 38.3s\n",
      "282:\tlearn: 1520.0315495\ttotal: 15.1s\tremaining: 38.2s\n",
      "283:\tlearn: 1519.7980650\ttotal: 15.1s\tremaining: 38.1s\n",
      "284:\tlearn: 1519.1942985\ttotal: 15.2s\tremaining: 38.2s\n",
      "285:\tlearn: 1518.6739672\ttotal: 15.3s\tremaining: 38.2s\n",
      "286:\tlearn: 1518.2768588\ttotal: 15.4s\tremaining: 38.2s\n",
      "287:\tlearn: 1517.9338967\ttotal: 15.5s\tremaining: 38.2s\n",
      "288:\tlearn: 1517.5598444\ttotal: 15.5s\tremaining: 38.2s\n",
      "289:\tlearn: 1517.0768183\ttotal: 15.6s\tremaining: 38.2s\n",
      "290:\tlearn: 1517.0474354\ttotal: 15.6s\tremaining: 38.1s\n",
      "291:\tlearn: 1516.1827853\ttotal: 15.7s\tremaining: 38s\n",
      "292:\tlearn: 1516.1786232\ttotal: 15.7s\tremaining: 37.9s\n",
      "293:\tlearn: 1515.8664156\ttotal: 15.8s\tremaining: 37.9s\n",
      "294:\tlearn: 1515.4922862\ttotal: 15.8s\tremaining: 37.8s\n",
      "295:\tlearn: 1515.0134283\ttotal: 15.9s\tremaining: 37.8s\n",
      "296:\tlearn: 1514.5702386\ttotal: 16s\tremaining: 37.8s\n",
      "297:\tlearn: 1514.0609461\ttotal: 16s\tremaining: 37.7s\n",
      "298:\tlearn: 1513.3699734\ttotal: 16s\tremaining: 37.6s\n",
      "299:\tlearn: 1513.0140326\ttotal: 16.1s\tremaining: 37.6s\n",
      "300:\tlearn: 1512.4340007\ttotal: 16.2s\tremaining: 37.5s\n",
      "301:\tlearn: 1512.2153576\ttotal: 16.2s\tremaining: 37.5s\n",
      "302:\tlearn: 1511.6393197\ttotal: 16.3s\tremaining: 37.4s\n",
      "303:\tlearn: 1511.0705897\ttotal: 16.3s\tremaining: 37.4s\n",
      "304:\tlearn: 1510.8425965\ttotal: 16.4s\tremaining: 37.3s\n",
      "305:\tlearn: 1510.7158657\ttotal: 16.4s\tremaining: 37.3s\n",
      "306:\tlearn: 1510.2604504\ttotal: 16.5s\tremaining: 37.2s\n",
      "307:\tlearn: 1509.7842825\ttotal: 16.6s\tremaining: 37.2s\n",
      "308:\tlearn: 1509.2311845\ttotal: 16.6s\tremaining: 37.1s\n",
      "309:\tlearn: 1509.0892888\ttotal: 16.7s\tremaining: 37.1s\n",
      "310:\tlearn: 1508.8023575\ttotal: 16.7s\tremaining: 37s\n",
      "311:\tlearn: 1508.7746152\ttotal: 16.7s\tremaining: 36.9s\n",
      "312:\tlearn: 1508.7506645\ttotal: 16.8s\tremaining: 36.9s\n",
      "313:\tlearn: 1508.4299579\ttotal: 16.9s\tremaining: 36.8s\n",
      "314:\tlearn: 1508.3592849\ttotal: 16.9s\tremaining: 36.8s\n",
      "315:\tlearn: 1507.6941654\ttotal: 16.9s\tremaining: 36.7s\n",
      "316:\tlearn: 1507.0445213\ttotal: 17s\tremaining: 36.6s\n",
      "317:\tlearn: 1506.3901022\ttotal: 17.1s\tremaining: 36.6s\n",
      "318:\tlearn: 1505.9817359\ttotal: 17.1s\tremaining: 36.5s\n",
      "319:\tlearn: 1505.1660124\ttotal: 17.2s\tremaining: 36.4s\n",
      "320:\tlearn: 1504.5590031\ttotal: 17.2s\tremaining: 36.4s\n",
      "321:\tlearn: 1504.0006503\ttotal: 17.3s\tremaining: 36.4s\n",
      "322:\tlearn: 1503.8151684\ttotal: 17.3s\tremaining: 36.3s\n",
      "323:\tlearn: 1503.6415923\ttotal: 17.4s\tremaining: 36.3s\n",
      "324:\tlearn: 1503.5205290\ttotal: 17.4s\tremaining: 36.2s\n",
      "325:\tlearn: 1502.7928602\ttotal: 17.5s\tremaining: 36.2s\n",
      "326:\tlearn: 1502.4624588\ttotal: 17.6s\tremaining: 36.2s\n",
      "327:\tlearn: 1501.9469772\ttotal: 17.6s\tremaining: 36.1s\n",
      "328:\tlearn: 1501.1080345\ttotal: 17.7s\tremaining: 36.1s\n",
      "329:\tlearn: 1501.0814355\ttotal: 17.7s\tremaining: 36s\n",
      "330:\tlearn: 1500.5129942\ttotal: 17.8s\tremaining: 36s\n",
      "331:\tlearn: 1500.4342837\ttotal: 17.9s\tremaining: 35.9s\n",
      "332:\tlearn: 1500.2267364\ttotal: 17.9s\tremaining: 35.9s\n",
      "333:\tlearn: 1500.0686761\ttotal: 18s\tremaining: 35.9s\n",
      "334:\tlearn: 1499.5080065\ttotal: 18s\tremaining: 35.8s\n",
      "335:\tlearn: 1499.3578210\ttotal: 18.1s\tremaining: 35.7s\n",
      "336:\tlearn: 1498.8127355\ttotal: 18.1s\tremaining: 35.7s\n",
      "337:\tlearn: 1498.5066306\ttotal: 18.2s\tremaining: 35.6s\n",
      "338:\tlearn: 1498.2784330\ttotal: 18.2s\tremaining: 35.5s\n",
      "339:\tlearn: 1498.0147259\ttotal: 18.3s\tremaining: 35.5s\n",
      "340:\tlearn: 1497.3676305\ttotal: 18.3s\tremaining: 35.4s\n",
      "341:\tlearn: 1496.9286869\ttotal: 18.4s\tremaining: 35.3s\n",
      "342:\tlearn: 1496.8974290\ttotal: 18.4s\tremaining: 35.3s\n",
      "343:\tlearn: 1496.5210253\ttotal: 18.5s\tremaining: 35.2s\n",
      "344:\tlearn: 1496.1151280\ttotal: 18.5s\tremaining: 35.2s\n",
      "345:\tlearn: 1495.8081508\ttotal: 18.6s\tremaining: 35.1s\n",
      "346:\tlearn: 1495.3527984\ttotal: 18.6s\tremaining: 35s\n",
      "347:\tlearn: 1495.0827709\ttotal: 18.7s\tremaining: 34.9s\n",
      "348:\tlearn: 1494.4043213\ttotal: 18.7s\tremaining: 34.9s\n",
      "349:\tlearn: 1494.1448560\ttotal: 18.8s\tremaining: 34.9s\n",
      "350:\tlearn: 1493.9367062\ttotal: 18.8s\tremaining: 34.8s\n",
      "351:\tlearn: 1493.3287261\ttotal: 18.9s\tremaining: 34.8s\n",
      "352:\tlearn: 1493.0595589\ttotal: 19s\tremaining: 34.7s\n",
      "353:\tlearn: 1492.7083600\ttotal: 19s\tremaining: 34.7s\n",
      "354:\tlearn: 1492.3059675\ttotal: 19.1s\tremaining: 34.6s\n",
      "355:\tlearn: 1491.6547004\ttotal: 19.1s\tremaining: 34.6s\n",
      "356:\tlearn: 1491.1096922\ttotal: 19.2s\tremaining: 34.5s\n",
      "357:\tlearn: 1490.7707171\ttotal: 19.2s\tremaining: 34.5s\n",
      "358:\tlearn: 1490.4089474\ttotal: 19.3s\tremaining: 34.4s\n",
      "359:\tlearn: 1490.2193645\ttotal: 19.3s\tremaining: 34.4s\n",
      "360:\tlearn: 1490.1723888\ttotal: 19.4s\tremaining: 34.3s\n",
      "361:\tlearn: 1489.6599407\ttotal: 19.4s\tremaining: 34.3s\n",
      "362:\tlearn: 1489.3358289\ttotal: 19.5s\tremaining: 34.2s\n",
      "363:\tlearn: 1488.9824701\ttotal: 19.5s\tremaining: 34.2s\n",
      "364:\tlearn: 1488.6552239\ttotal: 19.6s\tremaining: 34.1s\n",
      "365:\tlearn: 1488.4555527\ttotal: 19.7s\tremaining: 34.1s\n",
      "366:\tlearn: 1488.2195616\ttotal: 19.8s\tremaining: 34.1s\n",
      "367:\tlearn: 1487.8070396\ttotal: 19.8s\tremaining: 34s\n",
      "368:\tlearn: 1487.2661458\ttotal: 19.9s\tremaining: 34s\n",
      "369:\tlearn: 1487.0377804\ttotal: 19.9s\tremaining: 33.9s\n",
      "370:\tlearn: 1486.8889364\ttotal: 20s\tremaining: 33.8s\n",
      "371:\tlearn: 1486.5054653\ttotal: 20s\tremaining: 33.8s\n",
      "372:\tlearn: 1486.0679919\ttotal: 20.1s\tremaining: 33.7s\n",
      "373:\tlearn: 1485.9383452\ttotal: 20.1s\tremaining: 33.7s\n",
      "374:\tlearn: 1485.6031820\ttotal: 20.2s\tremaining: 33.6s\n",
      "375:\tlearn: 1485.3466651\ttotal: 20.2s\tremaining: 33.6s\n",
      "376:\tlearn: 1485.1180230\ttotal: 20.3s\tremaining: 33.6s\n",
      "377:\tlearn: 1484.8272804\ttotal: 20.4s\tremaining: 33.5s\n",
      "378:\tlearn: 1484.6479080\ttotal: 20.4s\tremaining: 33.5s\n",
      "379:\tlearn: 1484.1470912\ttotal: 20.5s\tremaining: 33.5s\n",
      "380:\tlearn: 1483.7799321\ttotal: 20.6s\tremaining: 33.5s\n",
      "381:\tlearn: 1483.6280623\ttotal: 20.7s\tremaining: 33.4s\n",
      "382:\tlearn: 1483.2469177\ttotal: 20.7s\tremaining: 33.4s\n",
      "383:\tlearn: 1482.9310981\ttotal: 20.8s\tremaining: 33.4s\n",
      "384:\tlearn: 1482.6223764\ttotal: 20.9s\tremaining: 33.3s\n",
      "385:\tlearn: 1482.4992538\ttotal: 20.9s\tremaining: 33.3s\n",
      "386:\tlearn: 1481.8788178\ttotal: 21s\tremaining: 33.2s\n",
      "387:\tlearn: 1481.4304004\ttotal: 21s\tremaining: 33.2s\n",
      "388:\tlearn: 1480.9617248\ttotal: 21.1s\tremaining: 33.1s\n",
      "389:\tlearn: 1480.8498627\ttotal: 21.1s\tremaining: 33.1s\n",
      "390:\tlearn: 1480.3397463\ttotal: 21.2s\tremaining: 33s\n",
      "391:\tlearn: 1480.0231768\ttotal: 21.3s\tremaining: 33s\n",
      "392:\tlearn: 1479.7230373\ttotal: 21.3s\tremaining: 32.9s\n",
      "393:\tlearn: 1479.5968657\ttotal: 21.4s\tremaining: 32.9s\n",
      "394:\tlearn: 1479.2325203\ttotal: 21.5s\tremaining: 32.9s\n",
      "395:\tlearn: 1479.0770514\ttotal: 21.6s\tremaining: 32.9s\n",
      "396:\tlearn: 1478.6644318\ttotal: 21.6s\tremaining: 32.9s\n",
      "397:\tlearn: 1478.5057016\ttotal: 21.7s\tremaining: 32.8s\n",
      "398:\tlearn: 1478.3990683\ttotal: 21.7s\tremaining: 32.8s\n",
      "399:\tlearn: 1478.0840327\ttotal: 21.8s\tremaining: 32.7s\n",
      "400:\tlearn: 1477.7948702\ttotal: 21.8s\tremaining: 32.6s\n",
      "401:\tlearn: 1477.6273599\ttotal: 21.9s\tremaining: 32.6s\n",
      "402:\tlearn: 1477.2805887\ttotal: 21.9s\tremaining: 32.5s\n",
      "403:\tlearn: 1477.0894989\ttotal: 22s\tremaining: 32.5s\n",
      "404:\tlearn: 1476.8780553\ttotal: 22.1s\tremaining: 32.4s\n",
      "405:\tlearn: 1476.5545608\ttotal: 22.1s\tremaining: 32.3s\n",
      "406:\tlearn: 1476.1015831\ttotal: 22.2s\tremaining: 32.3s\n",
      "407:\tlearn: 1475.7792650\ttotal: 22.2s\tremaining: 32.2s\n",
      "408:\tlearn: 1475.5888399\ttotal: 22.3s\tremaining: 32.2s\n",
      "409:\tlearn: 1475.2445892\ttotal: 22.3s\tremaining: 32.1s\n",
      "410:\tlearn: 1474.8240603\ttotal: 22.4s\tremaining: 32.1s\n",
      "411:\tlearn: 1474.5778248\ttotal: 22.4s\tremaining: 32s\n",
      "412:\tlearn: 1474.1419086\ttotal: 22.5s\tremaining: 32s\n",
      "413:\tlearn: 1473.8155936\ttotal: 22.6s\tremaining: 31.9s\n",
      "414:\tlearn: 1473.6449650\ttotal: 22.6s\tremaining: 31.9s\n",
      "415:\tlearn: 1473.3266137\ttotal: 22.7s\tremaining: 31.8s\n",
      "416:\tlearn: 1473.1138872\ttotal: 22.7s\tremaining: 31.7s\n",
      "417:\tlearn: 1472.7338676\ttotal: 22.8s\tremaining: 31.7s\n",
      "418:\tlearn: 1472.4070752\ttotal: 22.8s\tremaining: 31.7s\n",
      "419:\tlearn: 1472.1653059\ttotal: 22.9s\tremaining: 31.6s\n",
      "420:\tlearn: 1471.7209091\ttotal: 22.9s\tremaining: 31.6s\n",
      "421:\tlearn: 1471.4207907\ttotal: 23s\tremaining: 31.5s\n",
      "422:\tlearn: 1471.1105762\ttotal: 23.1s\tremaining: 31.4s\n",
      "423:\tlearn: 1470.8555927\ttotal: 23.1s\tremaining: 31.4s\n",
      "424:\tlearn: 1470.4238391\ttotal: 23.2s\tremaining: 31.3s\n",
      "425:\tlearn: 1470.2278795\ttotal: 23.2s\tremaining: 31.3s\n",
      "426:\tlearn: 1469.8980385\ttotal: 23.3s\tremaining: 31.2s\n",
      "427:\tlearn: 1469.8951560\ttotal: 23.3s\tremaining: 31.2s\n",
      "428:\tlearn: 1469.6736170\ttotal: 23.4s\tremaining: 31.1s\n",
      "429:\tlearn: 1469.4366753\ttotal: 23.4s\tremaining: 31s\n",
      "430:\tlearn: 1468.9083923\ttotal: 23.5s\tremaining: 31s\n",
      "431:\tlearn: 1468.6980563\ttotal: 23.5s\tremaining: 30.9s\n",
      "432:\tlearn: 1468.2825321\ttotal: 23.6s\tremaining: 30.9s\n",
      "433:\tlearn: 1467.9700456\ttotal: 23.7s\tremaining: 30.9s\n",
      "434:\tlearn: 1467.7172932\ttotal: 23.7s\tremaining: 30.8s\n",
      "435:\tlearn: 1467.4569955\ttotal: 23.8s\tremaining: 30.7s\n",
      "436:\tlearn: 1467.1113772\ttotal: 23.8s\tremaining: 30.7s\n",
      "437:\tlearn: 1466.8058345\ttotal: 23.9s\tremaining: 30.6s\n",
      "438:\tlearn: 1466.5133860\ttotal: 23.9s\tremaining: 30.6s\n",
      "439:\tlearn: 1466.1323253\ttotal: 24s\tremaining: 30.5s\n",
      "440:\tlearn: 1465.9380750\ttotal: 24.1s\tremaining: 30.5s\n",
      "441:\tlearn: 1465.7402934\ttotal: 24.1s\tremaining: 30.5s\n",
      "442:\tlearn: 1465.3697418\ttotal: 24.2s\tremaining: 30.4s\n",
      "443:\tlearn: 1465.0440675\ttotal: 24.2s\tremaining: 30.4s\n",
      "444:\tlearn: 1464.6630631\ttotal: 24.3s\tremaining: 30.3s\n",
      "445:\tlearn: 1464.6031697\ttotal: 24.3s\tremaining: 30.2s\n",
      "446:\tlearn: 1464.2265030\ttotal: 24.4s\tremaining: 30.2s\n",
      "447:\tlearn: 1464.0209506\ttotal: 24.4s\tremaining: 30.1s\n",
      "448:\tlearn: 1463.9980109\ttotal: 24.5s\tremaining: 30.1s\n",
      "449:\tlearn: 1463.1558248\ttotal: 24.6s\tremaining: 30s\n",
      "450:\tlearn: 1463.0073782\ttotal: 24.6s\tremaining: 30s\n",
      "451:\tlearn: 1462.9541203\ttotal: 24.7s\tremaining: 29.9s\n",
      "452:\tlearn: 1462.5565343\ttotal: 24.7s\tremaining: 29.9s\n",
      "453:\tlearn: 1462.5485111\ttotal: 24.8s\tremaining: 29.8s\n",
      "454:\tlearn: 1462.4845550\ttotal: 24.8s\tremaining: 29.7s\n",
      "455:\tlearn: 1461.9799095\ttotal: 24.9s\tremaining: 29.7s\n",
      "456:\tlearn: 1461.8968728\ttotal: 24.9s\tremaining: 29.6s\n",
      "457:\tlearn: 1461.7466620\ttotal: 25s\tremaining: 29.6s\n",
      "458:\tlearn: 1461.5547177\ttotal: 25s\tremaining: 29.5s\n",
      "459:\tlearn: 1461.3395518\ttotal: 25.1s\tremaining: 29.4s\n",
      "460:\tlearn: 1460.8561484\ttotal: 25.1s\tremaining: 29.4s\n",
      "461:\tlearn: 1460.5246394\ttotal: 25.2s\tremaining: 29.3s\n",
      "462:\tlearn: 1460.4716465\ttotal: 25.2s\tremaining: 29.3s\n",
      "463:\tlearn: 1460.2998355\ttotal: 25.3s\tremaining: 29.2s\n",
      "464:\tlearn: 1460.0221524\ttotal: 25.3s\tremaining: 29.1s\n",
      "465:\tlearn: 1459.8427029\ttotal: 25.4s\tremaining: 29.1s\n",
      "466:\tlearn: 1459.6394312\ttotal: 25.5s\tremaining: 29.1s\n",
      "467:\tlearn: 1459.5195592\ttotal: 25.5s\tremaining: 29s\n",
      "468:\tlearn: 1459.3178099\ttotal: 25.6s\tremaining: 29s\n",
      "469:\tlearn: 1459.1299012\ttotal: 25.6s\tremaining: 28.9s\n",
      "470:\tlearn: 1458.4175786\ttotal: 25.7s\tremaining: 28.9s\n",
      "471:\tlearn: 1458.1378983\ttotal: 25.8s\tremaining: 28.8s\n",
      "472:\tlearn: 1457.8801261\ttotal: 25.8s\tremaining: 28.8s\n",
      "473:\tlearn: 1457.6647312\ttotal: 25.9s\tremaining: 28.7s\n",
      "474:\tlearn: 1457.2840418\ttotal: 25.9s\tremaining: 28.7s\n",
      "475:\tlearn: 1457.2004430\ttotal: 26s\tremaining: 28.6s\n",
      "476:\tlearn: 1456.5244557\ttotal: 26.1s\tremaining: 28.6s\n",
      "477:\tlearn: 1456.1870181\ttotal: 26.1s\tremaining: 28.5s\n",
      "478:\tlearn: 1455.7910164\ttotal: 26.2s\tremaining: 28.5s\n",
      "479:\tlearn: 1455.6163698\ttotal: 26.2s\tremaining: 28.4s\n",
      "480:\tlearn: 1455.3529155\ttotal: 26.3s\tremaining: 28.4s\n",
      "481:\tlearn: 1455.2197275\ttotal: 26.4s\tremaining: 28.3s\n",
      "482:\tlearn: 1454.9103341\ttotal: 26.4s\tremaining: 28.3s\n",
      "483:\tlearn: 1454.7021438\ttotal: 26.5s\tremaining: 28.2s\n",
      "484:\tlearn: 1454.3785527\ttotal: 26.6s\tremaining: 28.2s\n",
      "485:\tlearn: 1454.2747546\ttotal: 26.6s\tremaining: 28.2s\n",
      "486:\tlearn: 1453.8106003\ttotal: 26.7s\tremaining: 28.1s\n",
      "487:\tlearn: 1453.5582852\ttotal: 26.8s\tremaining: 28.1s\n",
      "488:\tlearn: 1453.3343409\ttotal: 26.8s\tremaining: 28s\n",
      "489:\tlearn: 1452.7885715\ttotal: 26.9s\tremaining: 28s\n",
      "490:\tlearn: 1452.3951738\ttotal: 26.9s\tremaining: 27.9s\n",
      "491:\tlearn: 1452.2953326\ttotal: 27s\tremaining: 27.9s\n",
      "492:\tlearn: 1451.9883968\ttotal: 27s\tremaining: 27.8s\n",
      "493:\tlearn: 1451.6681501\ttotal: 27.1s\tremaining: 27.8s\n",
      "494:\tlearn: 1451.4805120\ttotal: 27.2s\tremaining: 27.7s\n",
      "495:\tlearn: 1451.2767191\ttotal: 27.2s\tremaining: 27.7s\n",
      "496:\tlearn: 1451.0922024\ttotal: 27.3s\tremaining: 27.6s\n",
      "497:\tlearn: 1450.9223883\ttotal: 27.3s\tremaining: 27.5s\n",
      "498:\tlearn: 1450.8802106\ttotal: 27.4s\tremaining: 27.5s\n",
      "499:\tlearn: 1450.8546004\ttotal: 27.4s\tremaining: 27.4s\n",
      "500:\tlearn: 1450.7093051\ttotal: 27.5s\tremaining: 27.4s\n",
      "501:\tlearn: 1450.5391035\ttotal: 27.5s\tremaining: 27.3s\n",
      "502:\tlearn: 1450.1581945\ttotal: 27.6s\tremaining: 27.2s\n",
      "503:\tlearn: 1449.7639841\ttotal: 27.6s\tremaining: 27.2s\n",
      "504:\tlearn: 1449.4906595\ttotal: 27.7s\tremaining: 27.1s\n",
      "505:\tlearn: 1449.2894534\ttotal: 27.7s\tremaining: 27.1s\n",
      "506:\tlearn: 1449.1304404\ttotal: 27.8s\tremaining: 27s\n",
      "507:\tlearn: 1448.9646092\ttotal: 27.9s\tremaining: 27s\n",
      "508:\tlearn: 1448.8050536\ttotal: 27.9s\tremaining: 26.9s\n",
      "509:\tlearn: 1448.5525521\ttotal: 28s\tremaining: 26.9s\n",
      "510:\tlearn: 1448.3504054\ttotal: 28.1s\tremaining: 26.9s\n",
      "511:\tlearn: 1448.2951811\ttotal: 28.1s\tremaining: 26.8s\n",
      "512:\tlearn: 1448.1979430\ttotal: 28.2s\tremaining: 26.8s\n",
      "513:\tlearn: 1447.9217646\ttotal: 28.2s\tremaining: 26.7s\n",
      "514:\tlearn: 1447.7070391\ttotal: 28.3s\tremaining: 26.6s\n",
      "515:\tlearn: 1447.5504933\ttotal: 28.3s\tremaining: 26.6s\n",
      "516:\tlearn: 1447.5429199\ttotal: 28.4s\tremaining: 26.5s\n",
      "517:\tlearn: 1447.3669057\ttotal: 28.4s\tremaining: 26.5s\n",
      "518:\tlearn: 1447.2018633\ttotal: 28.5s\tremaining: 26.4s\n",
      "519:\tlearn: 1447.0597938\ttotal: 28.6s\tremaining: 26.4s\n",
      "520:\tlearn: 1446.7537717\ttotal: 28.6s\tremaining: 26.3s\n",
      "521:\tlearn: 1446.5286431\ttotal: 28.7s\tremaining: 26.3s\n",
      "522:\tlearn: 1446.3859462\ttotal: 28.8s\tremaining: 26.2s\n",
      "523:\tlearn: 1446.1310661\ttotal: 28.8s\tremaining: 26.2s\n",
      "524:\tlearn: 1445.9997945\ttotal: 28.9s\tremaining: 26.1s\n",
      "525:\tlearn: 1445.8114978\ttotal: 28.9s\tremaining: 26.1s\n",
      "526:\tlearn: 1445.6631993\ttotal: 29s\tremaining: 26s\n",
      "527:\tlearn: 1445.3960886\ttotal: 29.1s\tremaining: 26s\n",
      "528:\tlearn: 1445.3075486\ttotal: 29.1s\tremaining: 25.9s\n",
      "529:\tlearn: 1445.0489147\ttotal: 29.2s\tremaining: 25.9s\n",
      "530:\tlearn: 1444.9010142\ttotal: 29.2s\tremaining: 25.8s\n",
      "531:\tlearn: 1444.7927288\ttotal: 29.3s\tremaining: 25.7s\n",
      "532:\tlearn: 1444.6435206\ttotal: 29.3s\tremaining: 25.7s\n",
      "533:\tlearn: 1444.3892854\ttotal: 29.4s\tremaining: 25.6s\n",
      "534:\tlearn: 1444.2323168\ttotal: 29.5s\tremaining: 25.6s\n",
      "535:\tlearn: 1444.2194410\ttotal: 29.5s\tremaining: 25.6s\n",
      "536:\tlearn: 1444.1293239\ttotal: 29.6s\tremaining: 25.5s\n",
      "537:\tlearn: 1443.8702376\ttotal: 29.6s\tremaining: 25.4s\n",
      "538:\tlearn: 1443.6795552\ttotal: 29.7s\tremaining: 25.4s\n",
      "539:\tlearn: 1443.3278753\ttotal: 29.8s\tremaining: 25.4s\n",
      "540:\tlearn: 1443.2315382\ttotal: 29.9s\tremaining: 25.3s\n",
      "541:\tlearn: 1443.0494559\ttotal: 29.9s\tremaining: 25.3s\n",
      "542:\tlearn: 1442.7568138\ttotal: 30s\tremaining: 25.2s\n",
      "543:\tlearn: 1442.6779440\ttotal: 30s\tremaining: 25.2s\n",
      "544:\tlearn: 1442.2773527\ttotal: 30.1s\tremaining: 25.1s\n",
      "545:\tlearn: 1441.9507695\ttotal: 30.2s\tremaining: 25.1s\n",
      "546:\tlearn: 1441.9067479\ttotal: 30.2s\tremaining: 25s\n",
      "547:\tlearn: 1441.7702980\ttotal: 30.3s\tremaining: 25s\n",
      "548:\tlearn: 1441.6441756\ttotal: 30.3s\tremaining: 24.9s\n",
      "549:\tlearn: 1441.3439287\ttotal: 30.4s\tremaining: 24.8s\n",
      "550:\tlearn: 1441.1871931\ttotal: 30.4s\tremaining: 24.8s\n",
      "551:\tlearn: 1441.0225650\ttotal: 30.5s\tremaining: 24.7s\n",
      "552:\tlearn: 1440.9766732\ttotal: 30.5s\tremaining: 24.7s\n",
      "553:\tlearn: 1440.5085727\ttotal: 30.6s\tremaining: 24.6s\n",
      "554:\tlearn: 1440.3210339\ttotal: 30.7s\tremaining: 24.6s\n",
      "555:\tlearn: 1440.2082103\ttotal: 30.7s\tremaining: 24.5s\n",
      "556:\tlearn: 1439.9890882\ttotal: 30.8s\tremaining: 24.5s\n",
      "557:\tlearn: 1439.8023342\ttotal: 30.8s\tremaining: 24.4s\n",
      "558:\tlearn: 1439.3611600\ttotal: 30.9s\tremaining: 24.4s\n",
      "559:\tlearn: 1439.2328754\ttotal: 31s\tremaining: 24.4s\n",
      "560:\tlearn: 1439.1267557\ttotal: 31.1s\tremaining: 24.3s\n",
      "561:\tlearn: 1439.0879681\ttotal: 31.2s\tremaining: 24.3s\n",
      "562:\tlearn: 1438.9768994\ttotal: 31.2s\tremaining: 24.2s\n",
      "563:\tlearn: 1438.9354479\ttotal: 31.3s\tremaining: 24.2s\n",
      "564:\tlearn: 1438.9023153\ttotal: 31.4s\tremaining: 24.2s\n",
      "565:\tlearn: 1438.7688020\ttotal: 31.4s\tremaining: 24.1s\n",
      "566:\tlearn: 1438.4670624\ttotal: 31.5s\tremaining: 24.1s\n",
      "567:\tlearn: 1438.3256601\ttotal: 31.5s\tremaining: 24s\n",
      "568:\tlearn: 1438.0511212\ttotal: 31.6s\tremaining: 23.9s\n",
      "569:\tlearn: 1437.9703327\ttotal: 31.6s\tremaining: 23.9s\n",
      "570:\tlearn: 1437.7309742\ttotal: 31.7s\tremaining: 23.8s\n",
      "571:\tlearn: 1437.5745531\ttotal: 31.7s\tremaining: 23.8s\n",
      "572:\tlearn: 1437.4286579\ttotal: 31.8s\tremaining: 23.7s\n",
      "573:\tlearn: 1437.1429586\ttotal: 31.8s\tremaining: 23.6s\n",
      "574:\tlearn: 1436.7602483\ttotal: 31.9s\tremaining: 23.6s\n",
      "575:\tlearn: 1436.6986678\ttotal: 32s\tremaining: 23.5s\n",
      "576:\tlearn: 1436.4879515\ttotal: 32s\tremaining: 23.5s\n",
      "577:\tlearn: 1436.3319260\ttotal: 32.1s\tremaining: 23.4s\n",
      "578:\tlearn: 1436.0111177\ttotal: 32.2s\tremaining: 23.4s\n",
      "579:\tlearn: 1435.6087335\ttotal: 32.2s\tremaining: 23.3s\n",
      "580:\tlearn: 1435.3305912\ttotal: 32.3s\tremaining: 23.3s\n",
      "581:\tlearn: 1434.9289497\ttotal: 32.3s\tremaining: 23.2s\n",
      "582:\tlearn: 1434.6665382\ttotal: 32.4s\tremaining: 23.2s\n",
      "583:\tlearn: 1434.3598885\ttotal: 32.4s\tremaining: 23.1s\n",
      "584:\tlearn: 1434.1809847\ttotal: 32.5s\tremaining: 23.1s\n",
      "585:\tlearn: 1433.8422503\ttotal: 32.6s\tremaining: 23s\n",
      "586:\tlearn: 1433.6044687\ttotal: 32.6s\tremaining: 23s\n",
      "587:\tlearn: 1433.5867004\ttotal: 32.7s\tremaining: 22.9s\n",
      "588:\tlearn: 1433.3081857\ttotal: 32.8s\tremaining: 22.9s\n",
      "589:\tlearn: 1433.1916079\ttotal: 32.8s\tremaining: 22.8s\n",
      "590:\tlearn: 1433.0557537\ttotal: 32.9s\tremaining: 22.7s\n",
      "591:\tlearn: 1432.8824977\ttotal: 33s\tremaining: 22.7s\n",
      "592:\tlearn: 1432.7117852\ttotal: 33s\tremaining: 22.7s\n",
      "593:\tlearn: 1432.5130803\ttotal: 33.1s\tremaining: 22.6s\n",
      "594:\tlearn: 1432.3947283\ttotal: 33.1s\tremaining: 22.6s\n",
      "595:\tlearn: 1432.2049862\ttotal: 33.2s\tremaining: 22.5s\n",
      "596:\tlearn: 1432.0266020\ttotal: 33.2s\tremaining: 22.4s\n",
      "597:\tlearn: 1431.8750381\ttotal: 33.3s\tremaining: 22.4s\n",
      "598:\tlearn: 1431.8592316\ttotal: 33.4s\tremaining: 22.3s\n",
      "599:\tlearn: 1431.6639019\ttotal: 33.5s\tremaining: 22.3s\n",
      "600:\tlearn: 1431.2723288\ttotal: 33.5s\tremaining: 22.3s\n",
      "601:\tlearn: 1431.1224498\ttotal: 33.6s\tremaining: 22.2s\n",
      "602:\tlearn: 1430.9594093\ttotal: 33.7s\tremaining: 22.2s\n",
      "603:\tlearn: 1430.7348627\ttotal: 33.8s\tremaining: 22.1s\n",
      "604:\tlearn: 1430.2978028\ttotal: 33.8s\tremaining: 22.1s\n",
      "605:\tlearn: 1430.2552055\ttotal: 33.9s\tremaining: 22s\n",
      "606:\tlearn: 1430.0126577\ttotal: 33.9s\tremaining: 22s\n",
      "607:\tlearn: 1429.7537572\ttotal: 34s\tremaining: 21.9s\n",
      "608:\tlearn: 1429.3609022\ttotal: 34s\tremaining: 21.9s\n",
      "609:\tlearn: 1429.3589049\ttotal: 34.1s\tremaining: 21.8s\n",
      "610:\tlearn: 1429.2808963\ttotal: 34.2s\tremaining: 21.8s\n",
      "611:\tlearn: 1428.9585435\ttotal: 34.2s\tremaining: 21.7s\n",
      "612:\tlearn: 1428.7593024\ttotal: 34.3s\tremaining: 21.7s\n",
      "613:\tlearn: 1428.6054728\ttotal: 34.3s\tremaining: 21.6s\n",
      "614:\tlearn: 1428.2215237\ttotal: 34.4s\tremaining: 21.5s\n",
      "615:\tlearn: 1428.0544112\ttotal: 34.5s\tremaining: 21.5s\n",
      "616:\tlearn: 1427.9455213\ttotal: 34.5s\tremaining: 21.4s\n",
      "617:\tlearn: 1427.7651849\ttotal: 34.6s\tremaining: 21.4s\n",
      "618:\tlearn: 1427.4848414\ttotal: 34.6s\tremaining: 21.3s\n",
      "619:\tlearn: 1427.2921842\ttotal: 34.7s\tremaining: 21.2s\n",
      "620:\tlearn: 1427.2083309\ttotal: 34.7s\tremaining: 21.2s\n",
      "621:\tlearn: 1427.0562553\ttotal: 34.8s\tremaining: 21.1s\n",
      "622:\tlearn: 1426.8507951\ttotal: 34.8s\tremaining: 21.1s\n",
      "623:\tlearn: 1426.8422415\ttotal: 34.9s\tremaining: 21s\n",
      "624:\tlearn: 1426.7909636\ttotal: 34.9s\tremaining: 21s\n",
      "625:\tlearn: 1426.6710935\ttotal: 35s\tremaining: 20.9s\n",
      "626:\tlearn: 1426.4420075\ttotal: 35s\tremaining: 20.8s\n",
      "627:\tlearn: 1426.2182439\ttotal: 35.1s\tremaining: 20.8s\n",
      "628:\tlearn: 1425.9577659\ttotal: 35.2s\tremaining: 20.8s\n",
      "629:\tlearn: 1425.8494544\ttotal: 35.3s\tremaining: 20.7s\n",
      "630:\tlearn: 1425.5504615\ttotal: 35.3s\tremaining: 20.7s\n",
      "631:\tlearn: 1425.4789824\ttotal: 35.4s\tremaining: 20.6s\n",
      "632:\tlearn: 1425.3883901\ttotal: 35.5s\tremaining: 20.6s\n",
      "633:\tlearn: 1425.0782961\ttotal: 35.5s\tremaining: 20.5s\n",
      "634:\tlearn: 1424.7143336\ttotal: 35.6s\tremaining: 20.5s\n",
      "635:\tlearn: 1424.7033794\ttotal: 35.7s\tremaining: 20.4s\n",
      "636:\tlearn: 1424.6990088\ttotal: 35.7s\tremaining: 20.4s\n",
      "637:\tlearn: 1424.6883152\ttotal: 35.8s\tremaining: 20.3s\n",
      "638:\tlearn: 1424.6305115\ttotal: 35.8s\tremaining: 20.2s\n",
      "639:\tlearn: 1424.3979990\ttotal: 35.9s\tremaining: 20.2s\n",
      "640:\tlearn: 1424.3900233\ttotal: 35.9s\tremaining: 20.1s\n",
      "641:\tlearn: 1424.0546724\ttotal: 36s\tremaining: 20.1s\n",
      "642:\tlearn: 1424.0058354\ttotal: 36.1s\tremaining: 20s\n",
      "643:\tlearn: 1423.8574559\ttotal: 36.1s\tremaining: 20s\n",
      "644:\tlearn: 1423.8401591\ttotal: 36.2s\tremaining: 19.9s\n",
      "645:\tlearn: 1423.6102955\ttotal: 36.3s\tremaining: 19.9s\n",
      "646:\tlearn: 1423.4740755\ttotal: 36.3s\tremaining: 19.8s\n",
      "647:\tlearn: 1423.1518983\ttotal: 36.4s\tremaining: 19.8s\n",
      "648:\tlearn: 1422.8889424\ttotal: 36.4s\tremaining: 19.7s\n",
      "649:\tlearn: 1422.7158059\ttotal: 36.5s\tremaining: 19.7s\n",
      "650:\tlearn: 1422.5786329\ttotal: 36.6s\tremaining: 19.6s\n",
      "651:\tlearn: 1422.3494082\ttotal: 36.6s\tremaining: 19.6s\n",
      "652:\tlearn: 1422.2969363\ttotal: 36.7s\tremaining: 19.5s\n",
      "653:\tlearn: 1421.9712122\ttotal: 36.8s\tremaining: 19.4s\n",
      "654:\tlearn: 1421.8987618\ttotal: 36.8s\tremaining: 19.4s\n",
      "655:\tlearn: 1421.8892065\ttotal: 36.9s\tremaining: 19.3s\n",
      "656:\tlearn: 1421.8870753\ttotal: 36.9s\tremaining: 19.3s\n",
      "657:\tlearn: 1421.7413435\ttotal: 37s\tremaining: 19.2s\n",
      "658:\tlearn: 1421.5065003\ttotal: 37.1s\tremaining: 19.2s\n",
      "659:\tlearn: 1421.3274131\ttotal: 37.1s\tremaining: 19.1s\n",
      "660:\tlearn: 1421.2082753\ttotal: 37.2s\tremaining: 19.1s\n",
      "661:\tlearn: 1420.9722393\ttotal: 37.2s\tremaining: 19s\n",
      "662:\tlearn: 1420.7560922\ttotal: 37.3s\tremaining: 19s\n",
      "663:\tlearn: 1420.4580187\ttotal: 37.4s\tremaining: 18.9s\n",
      "664:\tlearn: 1420.3457296\ttotal: 37.4s\tremaining: 18.9s\n",
      "665:\tlearn: 1420.1992315\ttotal: 37.5s\tremaining: 18.8s\n",
      "666:\tlearn: 1420.0352276\ttotal: 37.5s\tremaining: 18.7s\n",
      "667:\tlearn: 1419.8119759\ttotal: 37.6s\tremaining: 18.7s\n",
      "668:\tlearn: 1419.6233872\ttotal: 37.7s\tremaining: 18.6s\n",
      "669:\tlearn: 1419.2173437\ttotal: 37.7s\tremaining: 18.6s\n",
      "670:\tlearn: 1419.1660492\ttotal: 37.8s\tremaining: 18.5s\n",
      "671:\tlearn: 1418.9849120\ttotal: 37.9s\tremaining: 18.5s\n",
      "672:\tlearn: 1418.7334730\ttotal: 37.9s\tremaining: 18.4s\n",
      "673:\tlearn: 1418.4484617\ttotal: 38s\tremaining: 18.4s\n",
      "674:\tlearn: 1418.3074924\ttotal: 38s\tremaining: 18.3s\n",
      "675:\tlearn: 1418.1471547\ttotal: 38.1s\tremaining: 18.3s\n",
      "676:\tlearn: 1417.9423594\ttotal: 38.2s\tremaining: 18.2s\n",
      "677:\tlearn: 1417.7391902\ttotal: 38.2s\tremaining: 18.1s\n",
      "678:\tlearn: 1417.4885894\ttotal: 38.3s\tremaining: 18.1s\n",
      "679:\tlearn: 1417.2308212\ttotal: 38.4s\tremaining: 18s\n",
      "680:\tlearn: 1417.1161251\ttotal: 38.4s\tremaining: 18s\n",
      "681:\tlearn: 1417.0158284\ttotal: 38.5s\tremaining: 17.9s\n",
      "682:\tlearn: 1416.9314471\ttotal: 38.5s\tremaining: 17.9s\n",
      "683:\tlearn: 1416.7299344\ttotal: 38.6s\tremaining: 17.8s\n",
      "684:\tlearn: 1416.6244208\ttotal: 38.6s\tremaining: 17.8s\n",
      "685:\tlearn: 1416.5575918\ttotal: 38.7s\tremaining: 17.7s\n",
      "686:\tlearn: 1416.5571916\ttotal: 38.7s\tremaining: 17.6s\n",
      "687:\tlearn: 1416.2814086\ttotal: 38.8s\tremaining: 17.6s\n",
      "688:\tlearn: 1416.1351648\ttotal: 38.8s\tremaining: 17.5s\n",
      "689:\tlearn: 1415.9891347\ttotal: 38.9s\tremaining: 17.5s\n",
      "690:\tlearn: 1415.8580942\ttotal: 38.9s\tremaining: 17.4s\n",
      "691:\tlearn: 1415.7281899\ttotal: 39s\tremaining: 17.3s\n",
      "692:\tlearn: 1415.5202756\ttotal: 39s\tremaining: 17.3s\n",
      "693:\tlearn: 1415.4697305\ttotal: 39.1s\tremaining: 17.2s\n",
      "694:\tlearn: 1415.3292030\ttotal: 39.1s\tremaining: 17.2s\n",
      "695:\tlearn: 1415.0490306\ttotal: 39.2s\tremaining: 17.1s\n",
      "696:\tlearn: 1414.9806181\ttotal: 39.3s\tremaining: 17.1s\n",
      "697:\tlearn: 1414.9162344\ttotal: 39.3s\tremaining: 17s\n",
      "698:\tlearn: 1414.8259707\ttotal: 39.4s\tremaining: 17s\n",
      "699:\tlearn: 1414.6108673\ttotal: 39.4s\tremaining: 16.9s\n",
      "700:\tlearn: 1414.4958115\ttotal: 39.5s\tremaining: 16.8s\n",
      "701:\tlearn: 1414.3828469\ttotal: 39.5s\tremaining: 16.8s\n",
      "702:\tlearn: 1414.1202916\ttotal: 39.6s\tremaining: 16.7s\n",
      "703:\tlearn: 1414.0065237\ttotal: 39.6s\tremaining: 16.7s\n",
      "704:\tlearn: 1413.8936284\ttotal: 39.7s\tremaining: 16.6s\n",
      "705:\tlearn: 1413.5454348\ttotal: 39.7s\tremaining: 16.5s\n",
      "706:\tlearn: 1413.5288061\ttotal: 39.8s\tremaining: 16.5s\n",
      "707:\tlearn: 1413.4121628\ttotal: 39.8s\tremaining: 16.4s\n",
      "708:\tlearn: 1413.1988059\ttotal: 39.9s\tremaining: 16.4s\n",
      "709:\tlearn: 1413.1973888\ttotal: 39.9s\tremaining: 16.3s\n",
      "710:\tlearn: 1412.9646127\ttotal: 40s\tremaining: 16.3s\n",
      "711:\tlearn: 1412.8323167\ttotal: 40.1s\tremaining: 16.2s\n",
      "712:\tlearn: 1412.7352310\ttotal: 40.1s\tremaining: 16.1s\n",
      "713:\tlearn: 1412.5290977\ttotal: 40.2s\tremaining: 16.1s\n",
      "714:\tlearn: 1412.3045673\ttotal: 40.3s\tremaining: 16s\n",
      "715:\tlearn: 1412.1722042\ttotal: 40.3s\tremaining: 16s\n",
      "716:\tlearn: 1412.0445855\ttotal: 40.4s\tremaining: 15.9s\n",
      "717:\tlearn: 1411.7713440\ttotal: 40.4s\tremaining: 15.9s\n",
      "718:\tlearn: 1411.6909078\ttotal: 40.5s\tremaining: 15.8s\n",
      "719:\tlearn: 1411.5252968\ttotal: 40.6s\tremaining: 15.8s\n",
      "720:\tlearn: 1411.3503750\ttotal: 40.7s\tremaining: 15.7s\n",
      "721:\tlearn: 1411.0661392\ttotal: 40.7s\tremaining: 15.7s\n",
      "722:\tlearn: 1410.9057738\ttotal: 40.8s\tremaining: 15.6s\n",
      "723:\tlearn: 1410.7615893\ttotal: 40.9s\tremaining: 15.6s\n",
      "724:\tlearn: 1410.6908457\ttotal: 41s\tremaining: 15.5s\n",
      "725:\tlearn: 1410.5215949\ttotal: 41s\tremaining: 15.5s\n",
      "726:\tlearn: 1410.1885631\ttotal: 41.1s\tremaining: 15.4s\n",
      "727:\tlearn: 1410.1870295\ttotal: 41.1s\tremaining: 15.4s\n",
      "728:\tlearn: 1409.9733896\ttotal: 41.2s\tremaining: 15.3s\n",
      "729:\tlearn: 1409.9023583\ttotal: 41.2s\tremaining: 15.2s\n",
      "730:\tlearn: 1409.7735195\ttotal: 41.3s\tremaining: 15.2s\n",
      "731:\tlearn: 1409.6607079\ttotal: 41.3s\tremaining: 15.1s\n",
      "732:\tlearn: 1409.5768803\ttotal: 41.4s\tremaining: 15.1s\n",
      "733:\tlearn: 1409.4705644\ttotal: 41.4s\tremaining: 15s\n",
      "734:\tlearn: 1409.4181483\ttotal: 41.5s\tremaining: 15s\n",
      "735:\tlearn: 1409.2870914\ttotal: 41.6s\tremaining: 14.9s\n",
      "736:\tlearn: 1409.0708115\ttotal: 41.6s\tremaining: 14.9s\n",
      "737:\tlearn: 1409.0195964\ttotal: 41.7s\tremaining: 14.8s\n",
      "738:\tlearn: 1409.0170067\ttotal: 41.8s\tremaining: 14.7s\n",
      "739:\tlearn: 1408.8347306\ttotal: 41.8s\tremaining: 14.7s\n",
      "740:\tlearn: 1408.7578638\ttotal: 41.9s\tremaining: 14.6s\n",
      "741:\tlearn: 1408.7037497\ttotal: 41.9s\tremaining: 14.6s\n",
      "742:\tlearn: 1408.5850546\ttotal: 42s\tremaining: 14.5s\n",
      "743:\tlearn: 1408.4405082\ttotal: 42.1s\tremaining: 14.5s\n",
      "744:\tlearn: 1408.3347776\ttotal: 42.1s\tremaining: 14.4s\n",
      "745:\tlearn: 1408.1949958\ttotal: 42.2s\tremaining: 14.4s\n",
      "746:\tlearn: 1408.1486609\ttotal: 42.2s\tremaining: 14.3s\n",
      "747:\tlearn: 1407.8394621\ttotal: 42.3s\tremaining: 14.3s\n",
      "748:\tlearn: 1407.7090880\ttotal: 42.4s\tremaining: 14.2s\n",
      "749:\tlearn: 1407.5001195\ttotal: 42.4s\tremaining: 14.1s\n",
      "750:\tlearn: 1407.4923820\ttotal: 42.5s\tremaining: 14.1s\n",
      "751:\tlearn: 1407.4911112\ttotal: 42.5s\tremaining: 14s\n",
      "752:\tlearn: 1407.1598227\ttotal: 42.6s\tremaining: 14s\n",
      "753:\tlearn: 1407.0204085\ttotal: 42.7s\tremaining: 13.9s\n",
      "754:\tlearn: 1406.9411231\ttotal: 42.7s\tremaining: 13.9s\n",
      "755:\tlearn: 1406.8045195\ttotal: 42.8s\tremaining: 13.8s\n",
      "756:\tlearn: 1406.6706299\ttotal: 42.8s\tremaining: 13.7s\n",
      "757:\tlearn: 1406.4770781\ttotal: 42.9s\tremaining: 13.7s\n",
      "758:\tlearn: 1406.3657196\ttotal: 42.9s\tremaining: 13.6s\n",
      "759:\tlearn: 1406.3655604\ttotal: 43s\tremaining: 13.6s\n",
      "760:\tlearn: 1406.2929748\ttotal: 43s\tremaining: 13.5s\n",
      "761:\tlearn: 1406.2795238\ttotal: 43.1s\tremaining: 13.4s\n",
      "762:\tlearn: 1406.2793811\ttotal: 43.1s\tremaining: 13.4s\n",
      "763:\tlearn: 1406.2006726\ttotal: 43.1s\tremaining: 13.3s\n",
      "764:\tlearn: 1406.0897424\ttotal: 43.2s\tremaining: 13.3s\n",
      "765:\tlearn: 1405.9054986\ttotal: 43.3s\tremaining: 13.2s\n",
      "766:\tlearn: 1405.6912477\ttotal: 43.4s\tremaining: 13.2s\n",
      "767:\tlearn: 1405.5368776\ttotal: 43.4s\tremaining: 13.1s\n",
      "768:\tlearn: 1405.3537850\ttotal: 43.5s\tremaining: 13.1s\n",
      "769:\tlearn: 1405.2313719\ttotal: 43.5s\tremaining: 13s\n",
      "770:\tlearn: 1405.0093880\ttotal: 43.5s\tremaining: 12.9s\n",
      "771:\tlearn: 1404.8916434\ttotal: 43.6s\tremaining: 12.9s\n",
      "772:\tlearn: 1404.7211389\ttotal: 43.7s\tremaining: 12.8s\n",
      "773:\tlearn: 1404.5819282\ttotal: 43.7s\tremaining: 12.8s\n",
      "774:\tlearn: 1404.3936967\ttotal: 43.8s\tremaining: 12.7s\n",
      "775:\tlearn: 1404.2280068\ttotal: 43.8s\tremaining: 12.7s\n",
      "776:\tlearn: 1404.0557584\ttotal: 43.9s\tremaining: 12.6s\n",
      "777:\tlearn: 1404.0064295\ttotal: 44s\tremaining: 12.5s\n",
      "778:\tlearn: 1403.8080096\ttotal: 44s\tremaining: 12.5s\n",
      "779:\tlearn: 1403.7529937\ttotal: 44.1s\tremaining: 12.4s\n",
      "780:\tlearn: 1403.4286157\ttotal: 44.1s\tremaining: 12.4s\n",
      "781:\tlearn: 1403.1604549\ttotal: 44.2s\tremaining: 12.3s\n",
      "782:\tlearn: 1402.9662787\ttotal: 44.2s\tremaining: 12.3s\n",
      "783:\tlearn: 1402.8559786\ttotal: 44.3s\tremaining: 12.2s\n",
      "784:\tlearn: 1402.7034817\ttotal: 44.3s\tremaining: 12.1s\n",
      "785:\tlearn: 1402.3047723\ttotal: 44.4s\tremaining: 12.1s\n",
      "786:\tlearn: 1402.2408315\ttotal: 44.4s\tremaining: 12s\n",
      "787:\tlearn: 1402.0895072\ttotal: 44.5s\tremaining: 12s\n",
      "788:\tlearn: 1402.0456867\ttotal: 44.5s\tremaining: 11.9s\n",
      "789:\tlearn: 1401.9218630\ttotal: 44.6s\tremaining: 11.8s\n",
      "790:\tlearn: 1401.7349083\ttotal: 44.6s\tremaining: 11.8s\n",
      "791:\tlearn: 1401.4468439\ttotal: 44.7s\tremaining: 11.7s\n",
      "792:\tlearn: 1401.2418214\ttotal: 44.7s\tremaining: 11.7s\n",
      "793:\tlearn: 1400.9902567\ttotal: 44.8s\tremaining: 11.6s\n",
      "794:\tlearn: 1400.8977563\ttotal: 44.8s\tremaining: 11.6s\n",
      "795:\tlearn: 1400.6269607\ttotal: 44.9s\tremaining: 11.5s\n",
      "796:\tlearn: 1400.5071349\ttotal: 45s\tremaining: 11.4s\n",
      "797:\tlearn: 1400.3881377\ttotal: 45s\tremaining: 11.4s\n",
      "798:\tlearn: 1400.3294195\ttotal: 45.1s\tremaining: 11.3s\n",
      "799:\tlearn: 1400.0992145\ttotal: 45.2s\tremaining: 11.3s\n",
      "800:\tlearn: 1399.9010917\ttotal: 45.2s\tremaining: 11.2s\n",
      "801:\tlearn: 1399.7343597\ttotal: 45.3s\tremaining: 11.2s\n",
      "802:\tlearn: 1399.6054468\ttotal: 45.3s\tremaining: 11.1s\n",
      "803:\tlearn: 1399.4471391\ttotal: 45.4s\tremaining: 11.1s\n",
      "804:\tlearn: 1399.2182232\ttotal: 45.4s\tremaining: 11s\n",
      "805:\tlearn: 1398.7751618\ttotal: 45.5s\tremaining: 11s\n",
      "806:\tlearn: 1398.6204224\ttotal: 45.6s\tremaining: 10.9s\n",
      "807:\tlearn: 1398.4518462\ttotal: 45.6s\tremaining: 10.8s\n",
      "808:\tlearn: 1398.3547586\ttotal: 45.7s\tremaining: 10.8s\n",
      "809:\tlearn: 1398.1732461\ttotal: 45.8s\tremaining: 10.7s\n",
      "810:\tlearn: 1398.0791334\ttotal: 45.8s\tremaining: 10.7s\n",
      "811:\tlearn: 1397.9302923\ttotal: 45.9s\tremaining: 10.6s\n",
      "812:\tlearn: 1397.7649211\ttotal: 45.9s\tremaining: 10.6s\n",
      "813:\tlearn: 1397.4651347\ttotal: 46s\tremaining: 10.5s\n",
      "814:\tlearn: 1397.2309411\ttotal: 46.1s\tremaining: 10.5s\n",
      "815:\tlearn: 1397.0854334\ttotal: 46.1s\tremaining: 10.4s\n",
      "816:\tlearn: 1396.9450885\ttotal: 46.2s\tremaining: 10.3s\n",
      "817:\tlearn: 1396.8461393\ttotal: 46.2s\tremaining: 10.3s\n",
      "818:\tlearn: 1396.7909156\ttotal: 46.3s\tremaining: 10.2s\n",
      "819:\tlearn: 1396.7219378\ttotal: 46.4s\tremaining: 10.2s\n",
      "820:\tlearn: 1396.5665797\ttotal: 46.4s\tremaining: 10.1s\n",
      "821:\tlearn: 1396.4632081\ttotal: 46.5s\tremaining: 10.1s\n",
      "822:\tlearn: 1396.4358921\ttotal: 46.6s\tremaining: 10s\n",
      "823:\tlearn: 1396.3933948\ttotal: 46.6s\tremaining: 9.95s\n",
      "824:\tlearn: 1396.2573852\ttotal: 46.7s\tremaining: 9.9s\n",
      "825:\tlearn: 1396.1970775\ttotal: 46.7s\tremaining: 9.84s\n",
      "826:\tlearn: 1396.0369169\ttotal: 46.8s\tremaining: 9.78s\n",
      "827:\tlearn: 1395.9756023\ttotal: 46.8s\tremaining: 9.72s\n",
      "828:\tlearn: 1395.8360371\ttotal: 46.9s\tremaining: 9.67s\n",
      "829:\tlearn: 1395.7193416\ttotal: 46.9s\tremaining: 9.61s\n",
      "830:\tlearn: 1395.4063581\ttotal: 47s\tremaining: 9.56s\n",
      "831:\tlearn: 1395.2049070\ttotal: 47.1s\tremaining: 9.5s\n",
      "832:\tlearn: 1395.1392579\ttotal: 47.1s\tremaining: 9.45s\n",
      "833:\tlearn: 1394.9734259\ttotal: 47.2s\tremaining: 9.39s\n",
      "834:\tlearn: 1394.7258939\ttotal: 47.2s\tremaining: 9.34s\n",
      "835:\tlearn: 1394.6386288\ttotal: 47.3s\tremaining: 9.28s\n",
      "836:\tlearn: 1394.4667362\ttotal: 47.4s\tremaining: 9.22s\n",
      "837:\tlearn: 1394.3782278\ttotal: 47.4s\tremaining: 9.16s\n",
      "838:\tlearn: 1394.1469077\ttotal: 47.4s\tremaining: 9.1s\n",
      "839:\tlearn: 1393.9701993\ttotal: 47.5s\tremaining: 9.05s\n",
      "840:\tlearn: 1393.8095408\ttotal: 47.6s\tremaining: 8.99s\n",
      "841:\tlearn: 1393.7904246\ttotal: 47.6s\tremaining: 8.93s\n",
      "842:\tlearn: 1393.6577551\ttotal: 47.7s\tremaining: 8.88s\n",
      "843:\tlearn: 1393.4714364\ttotal: 47.7s\tremaining: 8.82s\n",
      "844:\tlearn: 1393.2557965\ttotal: 47.8s\tremaining: 8.77s\n",
      "845:\tlearn: 1393.1438743\ttotal: 47.9s\tremaining: 8.71s\n",
      "846:\tlearn: 1392.9316693\ttotal: 47.9s\tremaining: 8.65s\n",
      "847:\tlearn: 1392.8562801\ttotal: 48s\tremaining: 8.6s\n",
      "848:\tlearn: 1392.6976231\ttotal: 48s\tremaining: 8.54s\n",
      "849:\tlearn: 1392.3943203\ttotal: 48.1s\tremaining: 8.49s\n",
      "850:\tlearn: 1392.3897081\ttotal: 48.2s\tremaining: 8.43s\n",
      "851:\tlearn: 1392.2517255\ttotal: 48.2s\tremaining: 8.37s\n",
      "852:\tlearn: 1392.0325438\ttotal: 48.2s\tremaining: 8.31s\n",
      "853:\tlearn: 1391.9858176\ttotal: 48.3s\tremaining: 8.26s\n",
      "854:\tlearn: 1391.7163406\ttotal: 48.4s\tremaining: 8.2s\n",
      "855:\tlearn: 1391.5801583\ttotal: 48.4s\tremaining: 8.15s\n",
      "856:\tlearn: 1391.4306683\ttotal: 48.5s\tremaining: 8.09s\n",
      "857:\tlearn: 1391.2690213\ttotal: 48.5s\tremaining: 8.03s\n",
      "858:\tlearn: 1391.2067676\ttotal: 48.6s\tremaining: 7.97s\n",
      "859:\tlearn: 1391.1256177\ttotal: 48.6s\tremaining: 7.91s\n",
      "860:\tlearn: 1390.9417995\ttotal: 48.7s\tremaining: 7.86s\n",
      "861:\tlearn: 1390.8379958\ttotal: 48.7s\tremaining: 7.8s\n",
      "862:\tlearn: 1390.7468110\ttotal: 48.8s\tremaining: 7.74s\n",
      "863:\tlearn: 1390.5584460\ttotal: 48.8s\tremaining: 7.69s\n",
      "864:\tlearn: 1390.4031165\ttotal: 48.9s\tremaining: 7.63s\n",
      "865:\tlearn: 1390.2521175\ttotal: 49s\tremaining: 7.57s\n",
      "866:\tlearn: 1390.0692563\ttotal: 49s\tremaining: 7.52s\n",
      "867:\tlearn: 1390.0590136\ttotal: 49.1s\tremaining: 7.46s\n",
      "868:\tlearn: 1390.0294261\ttotal: 49.1s\tremaining: 7.41s\n",
      "869:\tlearn: 1389.9911437\ttotal: 49.2s\tremaining: 7.35s\n",
      "870:\tlearn: 1389.8933215\ttotal: 49.3s\tremaining: 7.29s\n",
      "871:\tlearn: 1389.7906377\ttotal: 49.3s\tremaining: 7.24s\n",
      "872:\tlearn: 1389.7185127\ttotal: 49.4s\tremaining: 7.18s\n",
      "873:\tlearn: 1389.5904549\ttotal: 49.4s\tremaining: 7.12s\n",
      "874:\tlearn: 1389.4663455\ttotal: 49.5s\tremaining: 7.07s\n",
      "875:\tlearn: 1389.3510891\ttotal: 49.5s\tremaining: 7.01s\n",
      "876:\tlearn: 1389.1641287\ttotal: 49.6s\tremaining: 6.96s\n",
      "877:\tlearn: 1388.9285235\ttotal: 49.7s\tremaining: 6.9s\n",
      "878:\tlearn: 1388.8169650\ttotal: 49.8s\tremaining: 6.85s\n",
      "879:\tlearn: 1388.8039441\ttotal: 49.8s\tremaining: 6.79s\n",
      "880:\tlearn: 1388.6257324\ttotal: 49.8s\tremaining: 6.73s\n",
      "881:\tlearn: 1388.5670859\ttotal: 49.9s\tremaining: 6.67s\n",
      "882:\tlearn: 1388.5493706\ttotal: 50s\tremaining: 6.62s\n",
      "883:\tlearn: 1388.4031765\ttotal: 50s\tremaining: 6.56s\n",
      "884:\tlearn: 1388.3109144\ttotal: 50.1s\tremaining: 6.51s\n",
      "885:\tlearn: 1388.0830990\ttotal: 50.1s\tremaining: 6.45s\n",
      "886:\tlearn: 1388.0007741\ttotal: 50.2s\tremaining: 6.39s\n",
      "887:\tlearn: 1387.9448103\ttotal: 50.3s\tremaining: 6.34s\n",
      "888:\tlearn: 1387.7732869\ttotal: 50.3s\tremaining: 6.28s\n",
      "889:\tlearn: 1387.5555974\ttotal: 50.4s\tremaining: 6.22s\n",
      "890:\tlearn: 1387.4774943\ttotal: 50.4s\tremaining: 6.17s\n",
      "891:\tlearn: 1387.4119145\ttotal: 50.5s\tremaining: 6.11s\n",
      "892:\tlearn: 1387.2738970\ttotal: 50.6s\tremaining: 6.06s\n",
      "893:\tlearn: 1387.0955037\ttotal: 50.7s\tremaining: 6.01s\n",
      "894:\tlearn: 1387.0893244\ttotal: 50.7s\tremaining: 5.95s\n",
      "895:\tlearn: 1386.8741705\ttotal: 50.8s\tremaining: 5.89s\n",
      "896:\tlearn: 1386.7283796\ttotal: 50.9s\tremaining: 5.84s\n",
      "897:\tlearn: 1386.5873216\ttotal: 50.9s\tremaining: 5.79s\n",
      "898:\tlearn: 1386.2937633\ttotal: 51s\tremaining: 5.73s\n",
      "899:\tlearn: 1386.2245667\ttotal: 51.1s\tremaining: 5.68s\n",
      "900:\tlearn: 1386.2162110\ttotal: 51.2s\tremaining: 5.62s\n",
      "901:\tlearn: 1386.0632940\ttotal: 51.2s\tremaining: 5.57s\n",
      "902:\tlearn: 1385.9911299\ttotal: 51.3s\tremaining: 5.51s\n",
      "903:\tlearn: 1385.7830284\ttotal: 51.4s\tremaining: 5.45s\n",
      "904:\tlearn: 1385.5697463\ttotal: 51.4s\tremaining: 5.4s\n",
      "905:\tlearn: 1385.4207243\ttotal: 51.5s\tremaining: 5.34s\n",
      "906:\tlearn: 1385.3839783\ttotal: 51.5s\tremaining: 5.28s\n",
      "907:\tlearn: 1385.3340364\ttotal: 51.6s\tremaining: 5.23s\n",
      "908:\tlearn: 1385.1962053\ttotal: 51.6s\tremaining: 5.17s\n",
      "909:\tlearn: 1385.1272798\ttotal: 51.7s\tremaining: 5.11s\n",
      "910:\tlearn: 1385.0572270\ttotal: 51.7s\tremaining: 5.05s\n",
      "911:\tlearn: 1384.8996428\ttotal: 51.8s\tremaining: 5s\n",
      "912:\tlearn: 1384.8263948\ttotal: 51.9s\tremaining: 4.94s\n",
      "913:\tlearn: 1384.7463984\ttotal: 51.9s\tremaining: 4.89s\n",
      "914:\tlearn: 1384.5609734\ttotal: 52s\tremaining: 4.83s\n",
      "915:\tlearn: 1384.3871235\ttotal: 52.1s\tremaining: 4.77s\n",
      "916:\tlearn: 1384.3144843\ttotal: 52.1s\tremaining: 4.72s\n",
      "917:\tlearn: 1384.1873402\ttotal: 52.2s\tremaining: 4.66s\n",
      "918:\tlearn: 1384.0648919\ttotal: 52.2s\tremaining: 4.6s\n",
      "919:\tlearn: 1383.9915429\ttotal: 52.3s\tremaining: 4.55s\n",
      "920:\tlearn: 1383.9562667\ttotal: 52.4s\tremaining: 4.49s\n",
      "921:\tlearn: 1383.8511021\ttotal: 52.4s\tremaining: 4.43s\n",
      "922:\tlearn: 1383.7352838\ttotal: 52.5s\tremaining: 4.38s\n",
      "923:\tlearn: 1383.6904702\ttotal: 52.5s\tremaining: 4.32s\n",
      "924:\tlearn: 1383.5186122\ttotal: 52.6s\tremaining: 4.26s\n",
      "925:\tlearn: 1383.3853318\ttotal: 52.6s\tremaining: 4.21s\n",
      "926:\tlearn: 1383.2163444\ttotal: 52.7s\tremaining: 4.15s\n",
      "927:\tlearn: 1383.0924571\ttotal: 52.7s\tremaining: 4.09s\n",
      "928:\tlearn: 1382.9204718\ttotal: 52.8s\tremaining: 4.03s\n",
      "929:\tlearn: 1382.6054919\ttotal: 52.9s\tremaining: 3.98s\n",
      "930:\tlearn: 1382.4826238\ttotal: 52.9s\tremaining: 3.92s\n",
      "931:\tlearn: 1382.3660087\ttotal: 53s\tremaining: 3.86s\n",
      "932:\tlearn: 1382.2607860\ttotal: 53s\tremaining: 3.81s\n",
      "933:\tlearn: 1382.0969604\ttotal: 53.1s\tremaining: 3.75s\n",
      "934:\tlearn: 1381.9576284\ttotal: 53.2s\tremaining: 3.7s\n",
      "935:\tlearn: 1381.8394013\ttotal: 53.2s\tremaining: 3.64s\n",
      "936:\tlearn: 1381.6940533\ttotal: 53.3s\tremaining: 3.58s\n",
      "937:\tlearn: 1381.5808338\ttotal: 53.3s\tremaining: 3.52s\n",
      "938:\tlearn: 1381.4897881\ttotal: 53.4s\tremaining: 3.47s\n",
      "939:\tlearn: 1381.3213501\ttotal: 53.4s\tremaining: 3.41s\n",
      "940:\tlearn: 1381.0436193\ttotal: 53.5s\tremaining: 3.35s\n",
      "941:\tlearn: 1380.9542814\ttotal: 53.5s\tremaining: 3.3s\n",
      "942:\tlearn: 1380.8573080\ttotal: 53.6s\tremaining: 3.24s\n",
      "943:\tlearn: 1380.7543771\ttotal: 53.7s\tremaining: 3.18s\n",
      "944:\tlearn: 1380.6850946\ttotal: 53.7s\tremaining: 3.13s\n",
      "945:\tlearn: 1380.5324357\ttotal: 53.8s\tremaining: 3.07s\n",
      "946:\tlearn: 1380.2851821\ttotal: 53.9s\tremaining: 3.01s\n",
      "947:\tlearn: 1379.9619852\ttotal: 53.9s\tremaining: 2.96s\n",
      "948:\tlearn: 1379.8179494\ttotal: 54s\tremaining: 2.9s\n",
      "949:\tlearn: 1379.6890217\ttotal: 54.1s\tremaining: 2.85s\n",
      "950:\tlearn: 1379.5561873\ttotal: 54.1s\tremaining: 2.79s\n",
      "951:\tlearn: 1379.3723707\ttotal: 54.2s\tremaining: 2.73s\n",
      "952:\tlearn: 1379.2724387\ttotal: 54.2s\tremaining: 2.67s\n",
      "953:\tlearn: 1379.1137646\ttotal: 54.3s\tremaining: 2.62s\n",
      "954:\tlearn: 1378.9205258\ttotal: 54.3s\tremaining: 2.56s\n",
      "955:\tlearn: 1378.8664934\ttotal: 54.4s\tremaining: 2.5s\n",
      "956:\tlearn: 1378.7690872\ttotal: 54.5s\tremaining: 2.45s\n",
      "957:\tlearn: 1378.6247470\ttotal: 54.5s\tremaining: 2.39s\n",
      "958:\tlearn: 1378.3417278\ttotal: 54.6s\tremaining: 2.33s\n",
      "959:\tlearn: 1378.1555480\ttotal: 54.7s\tremaining: 2.28s\n",
      "960:\tlearn: 1377.9630476\ttotal: 54.7s\tremaining: 2.22s\n",
      "961:\tlearn: 1377.8409464\ttotal: 54.8s\tremaining: 2.16s\n",
      "962:\tlearn: 1377.7384119\ttotal: 54.9s\tremaining: 2.11s\n",
      "963:\tlearn: 1377.6247028\ttotal: 54.9s\tremaining: 2.05s\n",
      "964:\tlearn: 1377.4298664\ttotal: 55s\tremaining: 2s\n",
      "965:\tlearn: 1377.2878032\ttotal: 55.1s\tremaining: 1.94s\n",
      "966:\tlearn: 1377.2227510\ttotal: 55.2s\tremaining: 1.88s\n",
      "967:\tlearn: 1377.1456555\ttotal: 55.2s\tremaining: 1.82s\n",
      "968:\tlearn: 1377.0012455\ttotal: 55.3s\tremaining: 1.77s\n",
      "969:\tlearn: 1376.8811270\ttotal: 55.3s\tremaining: 1.71s\n",
      "970:\tlearn: 1376.8361195\ttotal: 55.4s\tremaining: 1.65s\n",
      "971:\tlearn: 1376.6186280\ttotal: 55.4s\tremaining: 1.6s\n",
      "972:\tlearn: 1376.5123724\ttotal: 55.5s\tremaining: 1.54s\n",
      "973:\tlearn: 1376.4270263\ttotal: 55.6s\tremaining: 1.48s\n",
      "974:\tlearn: 1376.2552533\ttotal: 55.6s\tremaining: 1.43s\n",
      "975:\tlearn: 1376.1323222\ttotal: 55.7s\tremaining: 1.37s\n",
      "976:\tlearn: 1376.0892898\ttotal: 55.8s\tremaining: 1.31s\n",
      "977:\tlearn: 1375.9619565\ttotal: 55.9s\tremaining: 1.26s\n",
      "978:\tlearn: 1375.9243198\ttotal: 55.9s\tremaining: 1.2s\n",
      "979:\tlearn: 1375.7169929\ttotal: 56s\tremaining: 1.14s\n",
      "980:\tlearn: 1375.6108292\ttotal: 56.1s\tremaining: 1.08s\n",
      "981:\tlearn: 1375.4920958\ttotal: 56.1s\tremaining: 1.03s\n",
      "982:\tlearn: 1375.3160481\ttotal: 56.2s\tremaining: 972ms\n",
      "983:\tlearn: 1375.2573192\ttotal: 56.2s\tremaining: 914ms\n",
      "984:\tlearn: 1375.0379751\ttotal: 56.3s\tremaining: 857ms\n",
      "985:\tlearn: 1374.9091132\ttotal: 56.3s\tremaining: 800ms\n",
      "986:\tlearn: 1374.8291906\ttotal: 56.4s\tremaining: 743ms\n",
      "987:\tlearn: 1374.7748532\ttotal: 56.5s\tremaining: 686ms\n",
      "988:\tlearn: 1374.6005390\ttotal: 56.6s\tremaining: 629ms\n",
      "989:\tlearn: 1374.4609359\ttotal: 56.7s\tremaining: 572ms\n",
      "990:\tlearn: 1374.3284585\ttotal: 56.7s\tremaining: 515ms\n",
      "991:\tlearn: 1374.2575613\ttotal: 56.8s\tremaining: 458ms\n",
      "992:\tlearn: 1374.1310082\ttotal: 56.9s\tremaining: 401ms\n",
      "993:\tlearn: 1374.0861213\ttotal: 56.9s\tremaining: 344ms\n",
      "994:\tlearn: 1373.9527838\ttotal: 57s\tremaining: 286ms\n",
      "995:\tlearn: 1373.8972955\ttotal: 57s\tremaining: 229ms\n",
      "996:\tlearn: 1373.6917689\ttotal: 57.1s\tremaining: 172ms\n",
      "997:\tlearn: 1373.6391832\ttotal: 57.2s\tremaining: 115ms\n",
      "998:\tlearn: 1373.5989024\ttotal: 57.2s\tremaining: 57.3ms\n",
      "999:\tlearn: 1373.4129616\ttotal: 57.3s\tremaining: 0us\n",
      "CPU times: user 57.2 s, sys: 781 ms, total: 58 s\n",
      "Wall time: 59.4 s\n"
     ]
    }
   ],
   "source": [
    "%%time\n",
    "time_CB, rmse_CB = time_model(CatBoostRegressor(loss_function = 'RMSE', cat_features = cat_col), df_cat)"
   ]
  },
  {
   "cell_type": "markdown",
   "metadata": {},
   "source": [
    "## Анализ моделей"
   ]
  },
  {
   "cell_type": "markdown",
   "metadata": {},
   "source": [
    "Итого, посмотрим на \"замеры\" обычных моделей и моделей градиентного спуска, для этого напишем функцию отрисовки графика `check_models`:"
   ]
  },
  {
   "cell_type": "code",
   "execution_count": 28,
   "metadata": {},
   "outputs": [],
   "source": [
    "def check_models(time, names, *dfs):\n",
    "    simple_models = pd.concat(dfs, keys = names, axis=0).reset_index()\n",
    "    \n",
    "    f, ax = plt.subplots(figsize=(15, 5))\n",
    "    \n",
    "    if time:\n",
    "        X = \"sec\"\n",
    "        HUE = \"time\"\n",
    "        TITLE = 'Распределение скорости расчета, сек'\n",
    "\n",
    "        \n",
    "    else:\n",
    "        X = \"value\"\n",
    "        HUE = \"rmse\"        \n",
    "        TITLE = 'Распределение показателя RMSE'\n",
    "    \n",
    "    sns.barplot(y = \"level_0\", x = X, data=simple_models, hue = HUE)\n",
    "    \n",
    "    [ax.text(i.get_width(), i.get_y()+0.15, str(i.get_width()), fontsize=10) for i in ax.patches]\n",
    "    \n",
    "    ax.grid(b=True, color='grey', linestyle='-.', linewidth=0.5, alpha=0.4)   \n",
    "    \n",
    "    ax.set_title(TITLE, loc='left', pad=10, fontweight=\"bold\")    \n",
    "    \n",
    "    ax.legend(ncol=3, loc=\"lower right\", frameon=True)  \n",
    "    \n",
    "    ax.set_ylabel('model')\n",
    "    ax.set_xlabel(HUE)\n",
    "    \n",
    "    sns.despine(left=True, bottom=True)"
   ]
  },
  {
   "cell_type": "code",
   "execution_count": 29,
   "metadata": {},
   "outputs": [
    {
     "data": {
      "image/png": "[encoded data removed]",
      "text/plain": [
       "<Figure size 1080x360 with 1 Axes>"
      ]
     },
     "metadata": {
      "needs_background": "light"
     },
     "output_type": "display_data"
    }
   ],
   "source": [
    "check_models(True, \n",
    "             ('LinearRegression', 'DecisionTree', 'RandomForest', 'LGBM', 'CatBoost'), \n",
    "             time_LR, time_DT, time_RF, time_LGBM, time_CB)"
   ]
  },
  {
   "cell_type": "code",
   "execution_count": 30,
   "metadata": {},
   "outputs": [
    {
     "data": {
      "image/png": "[encoded data removed]",
      "text/plain": [
       "<Figure size 1080x360 with 1 Axes>"
      ]
     },
     "metadata": {
      "needs_background": "light"
     },
     "output_type": "display_data"
    }
   ],
   "source": [
    "check_models(False, \n",
    "             ('LinearRegression', 'DecisionTree', 'RandomForest', 'LGBM', 'CatBoost'), \n",
    "             rmse_LR, rmse_DT, rmse_RF, rmse_LGBM, rmse_CB)"
   ]
  },
  {
   "cell_type": "markdown",
   "metadata": {},
   "source": [
    "**ИТОГО, как видно из полученных результатов:**\n",
    "* самой долгой по обучаемости становится модель LGBM, которой надо порядка 7 минут, около минуты длится обучение и CatBoost. Самая быстрая модель по обучаемости ожидаемо Линейная регрессия\n",
    "* предстазывают модели оперативно, результаты замеров почти не отличатся\n",
    "* по качеству выигрывает модель LGBM с минимальным отрывом от CatBoost."
   ]
  }
 ],
 "metadata": {
  "ExecuteTimeLog": [
   {
    "duration": 1418,
    "start_time": "2022-07-03T16:22:30.937Z"
   },
   {
    "duration": 2779,
    "start_time": "2022-07-03T16:22:32.921Z"
   },
   {
    "duration": 15,
    "start_time": "2022-07-03T16:22:42.274Z"
   },
   {
    "duration": 10,
    "start_time": "2022-07-03T16:22:47.138Z"
   },
   {
    "duration": 4,
    "start_time": "2022-07-03T16:25:09.755Z"
   },
   {
    "duration": 103,
    "start_time": "2022-07-03T16:25:10.403Z"
   },
   {
    "duration": 1046,
    "start_time": "2022-07-03T16:27:12.958Z"
   },
   {
    "duration": 705,
    "start_time": "2022-07-03T16:27:14.006Z"
   },
   {
    "duration": 5,
    "start_time": "2022-07-03T16:27:14.712Z"
   },
   {
    "duration": 116,
    "start_time": "2022-07-03T16:27:14.718Z"
   },
   {
    "duration": 43624,
    "start_time": "2022-07-03T16:27:14.836Z"
   },
   {
    "duration": 379,
    "start_time": "2022-07-03T16:29:36.764Z"
   },
   {
    "duration": 917,
    "start_time": "2022-07-03T16:30:12.097Z"
   },
   {
    "duration": 1165,
    "start_time": "2022-07-03T16:33:42.564Z"
   },
   {
    "duration": 717,
    "start_time": "2022-07-03T16:33:43.731Z"
   },
   {
    "duration": 106,
    "start_time": "2022-07-03T16:33:44.449Z"
   },
   {
    "duration": 456,
    "start_time": "2022-07-03T16:33:44.556Z"
   },
   {
    "duration": 926,
    "start_time": "2022-07-03T16:33:45.014Z"
   },
   {
    "duration": 95,
    "start_time": "2022-07-03T16:33:45.942Z"
   },
   {
    "duration": 217,
    "start_time": "2022-07-03T16:33:46.039Z"
   },
   {
    "duration": 127,
    "start_time": "2022-07-03T16:34:05.368Z"
   },
   {
    "duration": 29,
    "start_time": "2022-07-03T16:34:37.635Z"
   },
   {
    "duration": 39,
    "start_time": "2022-07-03T16:36:13.706Z"
   },
   {
    "duration": 3,
    "start_time": "2022-07-03T16:37:03.009Z"
   },
   {
    "duration": 80,
    "start_time": "2022-07-03T16:37:26.515Z"
   },
   {
    "duration": 85,
    "start_time": "2022-07-03T16:37:30.292Z"
   },
   {
    "duration": 13,
    "start_time": "2022-07-03T16:37:36.202Z"
   },
   {
    "duration": 14,
    "start_time": "2022-07-03T16:37:42.667Z"
   },
   {
    "duration": 89,
    "start_time": "2022-07-03T16:39:24.659Z"
   },
   {
    "duration": 11,
    "start_time": "2022-07-03T16:39:30.913Z"
   },
   {
    "duration": 602,
    "start_time": "2022-07-03T16:39:46.290Z"
   },
   {
    "duration": 4,
    "start_time": "2022-07-03T16:40:12.375Z"
   },
   {
    "duration": 10,
    "start_time": "2022-07-03T16:41:21.795Z"
   },
   {
    "duration": 75,
    "start_time": "2022-07-03T16:43:36.462Z"
   },
   {
    "duration": 596,
    "start_time": "2022-07-03T16:44:21.823Z"
   },
   {
    "duration": 744,
    "start_time": "2022-07-03T16:45:46.948Z"
   },
   {
    "duration": 773,
    "start_time": "2022-07-03T16:46:04.126Z"
   },
   {
    "duration": 238,
    "start_time": "2022-07-03T16:49:41.930Z"
   },
   {
    "duration": 104,
    "start_time": "2022-07-03T16:49:43.049Z"
   },
   {
    "duration": 2310,
    "start_time": "2022-07-03T16:50:25.070Z"
   },
   {
    "duration": 725,
    "start_time": "2022-07-03T16:50:41.619Z"
   },
   {
    "duration": 589,
    "start_time": "2022-07-03T16:51:38.459Z"
   },
   {
    "duration": 189,
    "start_time": "2022-07-03T16:51:50.064Z"
   },
   {
    "duration": 74,
    "start_time": "2022-07-03T16:51:53.862Z"
   },
   {
    "duration": 1111,
    "start_time": "2022-07-03T16:53:10.202Z"
   },
   {
    "duration": 717,
    "start_time": "2022-07-03T16:53:11.315Z"
   },
   {
    "duration": 114,
    "start_time": "2022-07-03T16:53:12.033Z"
   },
   {
    "duration": 275,
    "start_time": "2022-07-03T16:53:12.150Z"
   },
   {
    "duration": 399,
    "start_time": "2022-07-03T16:53:12.427Z"
   },
   {
    "duration": 83,
    "start_time": "2022-07-03T16:53:12.829Z"
   },
   {
    "duration": 1572,
    "start_time": "2022-07-03T16:53:12.914Z"
   },
   {
    "duration": 77,
    "start_time": "2022-07-03T16:53:14.488Z"
   },
   {
    "duration": 1046,
    "start_time": "2022-07-03T16:53:14.567Z"
   },
   {
    "duration": 96,
    "start_time": "2022-07-03T16:53:15.616Z"
   },
   {
    "duration": 0,
    "start_time": "2022-07-03T16:53:15.715Z"
   },
   {
    "duration": 4858,
    "start_time": "2022-07-03T16:55:32.347Z"
   },
   {
    "duration": 72,
    "start_time": "2022-07-03T16:58:49.088Z"
   },
   {
    "duration": 64,
    "start_time": "2022-07-03T16:59:15.346Z"
   },
   {
    "duration": 265,
    "start_time": "2022-07-03T17:01:12.048Z"
   },
   {
    "duration": 686,
    "start_time": "2022-07-03T17:01:23.619Z"
   },
   {
    "duration": 651,
    "start_time": "2022-07-03T17:02:03.385Z"
   },
   {
    "duration": 153,
    "start_time": "2022-07-03T17:04:03.312Z"
   },
   {
    "duration": 98,
    "start_time": "2022-07-03T17:04:05.981Z"
   },
   {
    "duration": 1049,
    "start_time": "2022-07-03T17:04:24.059Z"
   },
   {
    "duration": 717,
    "start_time": "2022-07-03T17:04:25.110Z"
   },
   {
    "duration": 106,
    "start_time": "2022-07-03T17:04:25.829Z"
   },
   {
    "duration": 306,
    "start_time": "2022-07-03T17:04:25.936Z"
   },
   {
    "duration": 179,
    "start_time": "2022-07-03T17:04:26.244Z"
   },
   {
    "duration": 4590,
    "start_time": "2022-07-03T17:04:26.425Z"
   },
   {
    "duration": 681,
    "start_time": "2022-07-03T17:04:31.017Z"
   },
   {
    "duration": 1197,
    "start_time": "2022-07-03T17:04:31.700Z"
   },
   {
    "duration": 2078,
    "start_time": "2022-07-03T17:04:32.899Z"
   },
   {
    "duration": 2455,
    "start_time": "2022-07-03T17:04:34.979Z"
   },
   {
    "duration": 95,
    "start_time": "2022-07-03T17:04:37.435Z"
   },
   {
    "duration": 0,
    "start_time": "2022-07-03T17:04:37.531Z"
   },
   {
    "duration": 1628,
    "start_time": "2022-07-03T17:06:49.027Z"
   },
   {
    "duration": 1495,
    "start_time": "2022-07-03T17:06:59.992Z"
   },
   {
    "duration": 1579,
    "start_time": "2022-07-03T17:07:03.446Z"
   },
   {
    "duration": 70,
    "start_time": "2022-07-03T17:10:19.866Z"
   },
   {
    "duration": 89,
    "start_time": "2022-07-03T17:10:43.510Z"
   },
   {
    "duration": 350,
    "start_time": "2022-07-03T17:10:54.140Z"
   },
   {
    "duration": 116,
    "start_time": "2022-07-03T17:11:00.493Z"
   },
   {
    "duration": 67,
    "start_time": "2022-07-03T17:11:57.971Z"
   },
   {
    "duration": 67,
    "start_time": "2022-07-03T17:12:07.592Z"
   },
   {
    "duration": 69,
    "start_time": "2022-07-03T17:12:12.842Z"
   },
   {
    "duration": 1128,
    "start_time": "2022-07-03T17:12:27.686Z"
   },
   {
    "duration": 724,
    "start_time": "2022-07-03T17:12:28.816Z"
   },
   {
    "duration": 103,
    "start_time": "2022-07-03T17:12:29.542Z"
   },
   {
    "duration": 276,
    "start_time": "2022-07-03T17:12:29.647Z"
   },
   {
    "duration": 175,
    "start_time": "2022-07-03T17:12:29.925Z"
   },
   {
    "duration": 4640,
    "start_time": "2022-07-03T17:12:30.101Z"
   },
   {
    "duration": 109,
    "start_time": "2022-07-03T17:12:34.743Z"
   },
   {
    "duration": 0,
    "start_time": "2022-07-03T17:12:34.853Z"
   },
   {
    "duration": 0,
    "start_time": "2022-07-03T17:12:34.854Z"
   },
   {
    "duration": 0,
    "start_time": "2022-07-03T17:12:34.855Z"
   },
   {
    "duration": 0,
    "start_time": "2022-07-03T17:12:34.856Z"
   },
   {
    "duration": 0,
    "start_time": "2022-07-03T17:12:34.857Z"
   },
   {
    "duration": 69,
    "start_time": "2022-07-03T17:13:04.037Z"
   },
   {
    "duration": 634,
    "start_time": "2022-07-03T17:13:30.372Z"
   },
   {
    "duration": 1512,
    "start_time": "2022-07-03T17:13:42.891Z"
   },
   {
    "duration": 2354,
    "start_time": "2022-07-03T17:13:48.438Z"
   },
   {
    "duration": 2445,
    "start_time": "2022-07-03T17:14:01.687Z"
   },
   {
    "duration": 107,
    "start_time": "2022-07-03T17:17:07.248Z"
   },
   {
    "duration": 161,
    "start_time": "2022-07-03T17:17:20.621Z"
   },
   {
    "duration": 87,
    "start_time": "2022-07-03T17:17:30.804Z"
   },
   {
    "duration": 14,
    "start_time": "2022-07-03T17:18:04.253Z"
   },
   {
    "duration": 36,
    "start_time": "2022-07-03T17:19:07.220Z"
   },
   {
    "duration": 424,
    "start_time": "2022-07-03T17:20:18.320Z"
   },
   {
    "duration": 2839,
    "start_time": "2022-07-03T17:20:29.993Z"
   },
   {
    "duration": 86,
    "start_time": "2022-07-03T17:20:57.849Z"
   },
   {
    "duration": 220,
    "start_time": "2022-07-03T17:23:38.703Z"
   },
   {
    "duration": 1811,
    "start_time": "2022-07-03T17:29:16.794Z"
   },
   {
    "duration": 52,
    "start_time": "2022-07-03T17:29:37.791Z"
   },
   {
    "duration": 22,
    "start_time": "2022-07-03T17:29:43.698Z"
   },
   {
    "duration": 35,
    "start_time": "2022-07-03T17:29:50.302Z"
   },
   {
    "duration": 48,
    "start_time": "2022-07-03T17:30:45.466Z"
   },
   {
    "duration": 36,
    "start_time": "2022-07-03T17:30:55.709Z"
   },
   {
    "duration": 1084,
    "start_time": "2022-07-03T17:31:03.604Z"
   },
   {
    "duration": 752,
    "start_time": "2022-07-03T17:31:04.689Z"
   },
   {
    "duration": 119,
    "start_time": "2022-07-03T17:31:05.443Z"
   },
   {
    "duration": 290,
    "start_time": "2022-07-03T17:31:05.564Z"
   },
   {
    "duration": 224,
    "start_time": "2022-07-03T17:31:05.856Z"
   },
   {
    "duration": 86,
    "start_time": "2022-07-03T17:31:06.083Z"
   },
   {
    "duration": 5023,
    "start_time": "2022-07-03T17:31:06.171Z"
   },
   {
    "duration": 90,
    "start_time": "2022-07-03T17:31:11.196Z"
   },
   {
    "duration": 520,
    "start_time": "2022-07-03T17:31:11.289Z"
   },
   {
    "duration": 1295,
    "start_time": "2022-07-03T17:31:11.811Z"
   },
   {
    "duration": 2116,
    "start_time": "2022-07-03T17:31:13.108Z"
   },
   {
    "duration": 515,
    "start_time": "2022-07-03T17:31:15.225Z"
   },
   {
    "duration": 0,
    "start_time": "2022-07-03T17:31:15.741Z"
   },
   {
    "duration": 54,
    "start_time": "2022-07-03T17:31:34.594Z"
   },
   {
    "duration": 1069,
    "start_time": "2022-07-03T17:31:39.527Z"
   },
   {
    "duration": 742,
    "start_time": "2022-07-03T17:31:40.598Z"
   },
   {
    "duration": 103,
    "start_time": "2022-07-03T17:31:41.342Z"
   },
   {
    "duration": 277,
    "start_time": "2022-07-03T17:31:41.447Z"
   },
   {
    "duration": 178,
    "start_time": "2022-07-03T17:31:41.726Z"
   },
   {
    "duration": 85,
    "start_time": "2022-07-03T17:31:41.905Z"
   },
   {
    "duration": 4834,
    "start_time": "2022-07-03T17:31:41.991Z"
   },
   {
    "duration": 79,
    "start_time": "2022-07-03T17:31:46.828Z"
   },
   {
    "duration": 556,
    "start_time": "2022-07-03T17:31:46.909Z"
   },
   {
    "duration": 1367,
    "start_time": "2022-07-03T17:31:47.467Z"
   },
   {
    "duration": 2314,
    "start_time": "2022-07-03T17:31:48.835Z"
   },
   {
    "duration": 673,
    "start_time": "2022-07-03T17:31:51.151Z"
   },
   {
    "duration": 0,
    "start_time": "2022-07-03T17:31:51.825Z"
   },
   {
    "duration": 1418,
    "start_time": "2022-07-04T10:35:02.861Z"
   },
   {
    "duration": 3111,
    "start_time": "2022-07-04T10:35:07.274Z"
   },
   {
    "duration": 95,
    "start_time": "2022-07-04T10:35:11.627Z"
   },
   {
    "duration": 3,
    "start_time": "2022-07-04T10:35:40.183Z"
   },
   {
    "duration": 910,
    "start_time": "2022-07-04T10:35:40.975Z"
   },
   {
    "duration": 104,
    "start_time": "2022-07-04T10:35:42.672Z"
   },
   {
    "duration": 18,
    "start_time": "2022-07-04T10:35:57.417Z"
   },
   {
    "duration": 3863,
    "start_time": "2022-07-04T10:38:22.966Z"
   },
   {
    "duration": 3749,
    "start_time": "2022-07-04T10:38:30.997Z"
   },
   {
    "duration": 3678,
    "start_time": "2022-07-04T10:38:55.963Z"
   },
   {
    "duration": 904,
    "start_time": "2022-07-04T10:40:40.512Z"
   },
   {
    "duration": 4,
    "start_time": "2022-07-04T10:40:59.819Z"
   },
   {
    "duration": 878,
    "start_time": "2022-07-04T10:41:00.488Z"
   },
   {
    "duration": 889,
    "start_time": "2022-07-04T10:41:14.314Z"
   },
   {
    "duration": 7,
    "start_time": "2022-07-04T10:42:15.394Z"
   },
   {
    "duration": 6,
    "start_time": "2022-07-04T10:43:02.570Z"
   },
   {
    "duration": 1288,
    "start_time": "2022-07-04T10:43:29.568Z"
   },
   {
    "duration": 889,
    "start_time": "2022-07-04T10:43:30.858Z"
   },
   {
    "duration": 122,
    "start_time": "2022-07-04T10:43:31.748Z"
   },
   {
    "duration": 344,
    "start_time": "2022-07-04T10:43:31.872Z"
   },
   {
    "duration": 207,
    "start_time": "2022-07-04T10:43:32.219Z"
   },
   {
    "duration": 105,
    "start_time": "2022-07-04T10:43:32.428Z"
   },
   {
    "duration": 5424,
    "start_time": "2022-07-04T10:43:32.535Z"
   },
   {
    "duration": 85,
    "start_time": "2022-07-04T10:43:37.961Z"
   },
   {
    "duration": 607,
    "start_time": "2022-07-04T10:43:38.048Z"
   },
   {
    "duration": 1395,
    "start_time": "2022-07-04T10:43:38.657Z"
   },
   {
    "duration": 2268,
    "start_time": "2022-07-04T10:43:40.054Z"
   },
   {
    "duration": 603,
    "start_time": "2022-07-04T10:43:42.323Z"
   },
   {
    "duration": 0,
    "start_time": "2022-07-04T10:43:42.928Z"
   },
   {
    "duration": 9,
    "start_time": "2022-07-04T10:46:22.378Z"
   },
   {
    "duration": 414,
    "start_time": "2022-07-04T10:46:27.735Z"
   },
   {
    "duration": 387,
    "start_time": "2022-07-04T10:47:06.191Z"
   },
   {
    "duration": 1381,
    "start_time": "2022-07-04T16:48:09.986Z"
   },
   {
    "duration": 3173,
    "start_time": "2022-07-04T16:48:13.634Z"
   },
   {
    "duration": 1026,
    "start_time": "2022-07-04T16:50:57.571Z"
   },
   {
    "duration": 893,
    "start_time": "2022-07-04T16:51:38.800Z"
   },
   {
    "duration": 1782,
    "start_time": "2022-07-04T16:52:09.355Z"
   },
   {
    "duration": 1280,
    "start_time": "2022-07-04T16:52:17.864Z"
   },
   {
    "duration": 1345,
    "start_time": "2022-07-04T16:52:30.558Z"
   },
   {
    "duration": 1624,
    "start_time": "2022-07-04T16:52:42.559Z"
   },
   {
    "duration": 1007,
    "start_time": "2022-07-04T16:53:15.756Z"
   },
   {
    "duration": 970,
    "start_time": "2022-07-04T16:53:42.209Z"
   },
   {
    "duration": 455,
    "start_time": "2022-07-04T16:57:34.600Z"
   },
   {
    "duration": 432,
    "start_time": "2022-07-04T16:58:01.255Z"
   },
   {
    "duration": 410,
    "start_time": "2022-07-04T16:59:32.178Z"
   },
   {
    "duration": 521,
    "start_time": "2022-07-04T16:59:52.955Z"
   },
   {
    "duration": 467,
    "start_time": "2022-07-04T17:02:06.399Z"
   },
   {
    "duration": 970,
    "start_time": "2022-07-04T17:03:13.399Z"
   },
   {
    "duration": 240,
    "start_time": "2022-07-04T17:03:36.176Z"
   },
   {
    "duration": 952,
    "start_time": "2022-07-04T17:04:27.848Z"
   },
   {
    "duration": 1006,
    "start_time": "2022-07-04T17:04:53.553Z"
   },
   {
    "duration": 954,
    "start_time": "2022-07-04T17:05:07.982Z"
   },
   {
    "duration": 1166,
    "start_time": "2022-07-04T17:05:51.760Z"
   },
   {
    "duration": 1019,
    "start_time": "2022-07-04T17:05:52.929Z"
   },
   {
    "duration": 515,
    "start_time": "2022-07-04T17:05:53.953Z"
   },
   {
    "duration": 1071,
    "start_time": "2022-07-04T17:05:54.469Z"
   },
   {
    "duration": 343,
    "start_time": "2022-07-04T17:05:55.542Z"
   },
   {
    "duration": 236,
    "start_time": "2022-07-04T17:05:55.887Z"
   },
   {
    "duration": 104,
    "start_time": "2022-07-04T17:05:56.125Z"
   },
   {
    "duration": 585,
    "start_time": "2022-07-04T17:05:56.231Z"
   },
   {
    "duration": 1206,
    "start_time": "2022-07-04T17:08:55.410Z"
   },
   {
    "duration": 870,
    "start_time": "2022-07-04T17:08:56.618Z"
   },
   {
    "duration": 1082,
    "start_time": "2022-07-04T17:09:57.593Z"
   },
   {
    "duration": 861,
    "start_time": "2022-07-04T17:09:58.677Z"
   },
   {
    "duration": 526,
    "start_time": "2022-07-04T17:09:59.540Z"
   },
   {
    "duration": 1031,
    "start_time": "2022-07-04T17:10:00.067Z"
   },
   {
    "duration": 325,
    "start_time": "2022-07-04T17:10:01.100Z"
   },
   {
    "duration": 192,
    "start_time": "2022-07-04T17:10:01.426Z"
   },
   {
    "duration": 96,
    "start_time": "2022-07-04T17:10:01.620Z"
   },
   {
    "duration": 595,
    "start_time": "2022-07-04T17:10:01.718Z"
   },
   {
    "duration": 1188,
    "start_time": "2022-07-04T17:15:19.725Z"
   },
   {
    "duration": 825,
    "start_time": "2022-07-04T17:15:20.916Z"
   },
   {
    "duration": 505,
    "start_time": "2022-07-04T17:15:21.747Z"
   },
   {
    "duration": 945,
    "start_time": "2022-07-04T17:15:22.253Z"
   },
   {
    "duration": 321,
    "start_time": "2022-07-04T17:15:23.202Z"
   },
   {
    "duration": 210,
    "start_time": "2022-07-04T17:15:23.524Z"
   },
   {
    "duration": 57,
    "start_time": "2022-07-04T17:15:23.741Z"
   },
   {
    "duration": 13,
    "start_time": "2022-07-04T17:15:23.800Z"
   },
   {
    "duration": 431,
    "start_time": "2022-07-04T17:15:23.815Z"
   },
   {
    "duration": 1538,
    "start_time": "2022-07-04T17:35:44.570Z"
   },
   {
    "duration": 881,
    "start_time": "2022-07-04T17:35:46.110Z"
   },
   {
    "duration": 532,
    "start_time": "2022-07-04T17:35:46.993Z"
   },
   {
    "duration": 10,
    "start_time": "2022-07-04T17:35:47.527Z"
   },
   {
    "duration": 1052,
    "start_time": "2022-07-04T17:35:47.544Z"
   },
   {
    "duration": 294,
    "start_time": "2022-07-04T17:35:48.597Z"
   },
   {
    "duration": 198,
    "start_time": "2022-07-04T17:35:48.893Z"
   },
   {
    "duration": 72,
    "start_time": "2022-07-04T17:35:49.094Z"
   },
   {
    "duration": 16,
    "start_time": "2022-07-04T17:35:49.168Z"
   },
   {
    "duration": 403,
    "start_time": "2022-07-04T17:35:49.188Z"
   },
   {
    "duration": 1622,
    "start_time": "2022-07-04T17:35:49.592Z"
   },
   {
    "duration": 641,
    "start_time": "2022-07-04T17:35:51.216Z"
   },
   {
    "duration": 0,
    "start_time": "2022-07-04T17:35:51.859Z"
   },
   {
    "duration": 3,
    "start_time": "2022-07-04T17:36:02.025Z"
   },
   {
    "duration": 1094,
    "start_time": "2022-07-04T17:36:02.462Z"
   },
   {
    "duration": 3,
    "start_time": "2022-07-04T17:36:17.700Z"
   },
   {
    "duration": 1074,
    "start_time": "2022-07-04T17:36:18.152Z"
   },
   {
    "duration": 6,
    "start_time": "2022-07-04T17:36:29.156Z"
   },
   {
    "duration": 1123,
    "start_time": "2022-07-04T17:36:29.679Z"
   },
   {
    "duration": 1281,
    "start_time": "2022-07-04T17:37:14.907Z"
   },
   {
    "duration": 877,
    "start_time": "2022-07-04T17:37:16.194Z"
   },
   {
    "duration": 513,
    "start_time": "2022-07-04T17:37:17.072Z"
   },
   {
    "duration": 4,
    "start_time": "2022-07-04T17:37:17.588Z"
   },
   {
    "duration": 1006,
    "start_time": "2022-07-04T17:37:17.594Z"
   },
   {
    "duration": 307,
    "start_time": "2022-07-04T17:37:18.602Z"
   },
   {
    "duration": 203,
    "start_time": "2022-07-04T17:37:18.911Z"
   },
   {
    "duration": 88,
    "start_time": "2022-07-04T17:37:19.116Z"
   },
   {
    "duration": 28,
    "start_time": "2022-07-04T17:37:19.206Z"
   },
   {
    "duration": 396,
    "start_time": "2022-07-04T17:37:19.236Z"
   },
   {
    "duration": 1480,
    "start_time": "2022-07-04T17:37:19.633Z"
   },
   {
    "duration": 630,
    "start_time": "2022-07-04T17:37:21.115Z"
   },
   {
    "duration": 0,
    "start_time": "2022-07-04T17:37:21.752Z"
   },
   {
    "duration": 10,
    "start_time": "2022-07-04T17:39:00.953Z"
   },
   {
    "duration": 2,
    "start_time": "2022-07-04T17:39:11.210Z"
   },
   {
    "duration": 16,
    "start_time": "2022-07-04T17:39:21.705Z"
   },
   {
    "duration": 14,
    "start_time": "2022-07-04T17:39:34.776Z"
   },
   {
    "duration": 17,
    "start_time": "2022-07-04T17:39:41.118Z"
   },
   {
    "duration": 1162,
    "start_time": "2022-07-04T17:39:55.896Z"
   },
   {
    "duration": 762,
    "start_time": "2022-07-04T17:39:57.060Z"
   },
   {
    "duration": 488,
    "start_time": "2022-07-04T17:39:57.824Z"
   },
   {
    "duration": 4,
    "start_time": "2022-07-04T17:39:58.313Z"
   },
   {
    "duration": 996,
    "start_time": "2022-07-04T17:39:58.319Z"
   },
   {
    "duration": 292,
    "start_time": "2022-07-04T17:39:59.317Z"
   },
   {
    "duration": 182,
    "start_time": "2022-07-04T17:39:59.611Z"
   },
   {
    "duration": 61,
    "start_time": "2022-07-04T17:39:59.794Z"
   },
   {
    "duration": 13,
    "start_time": "2022-07-04T17:39:59.856Z"
   },
   {
    "duration": 380,
    "start_time": "2022-07-04T17:39:59.870Z"
   },
   {
    "duration": 1445,
    "start_time": "2022-07-04T17:40:00.251Z"
   },
   {
    "duration": 583,
    "start_time": "2022-07-04T17:40:01.697Z"
   },
   {
    "duration": 0,
    "start_time": "2022-07-04T17:40:02.282Z"
   },
   {
    "duration": 6,
    "start_time": "2022-07-04T17:42:16.386Z"
   },
   {
    "duration": 274,
    "start_time": "2022-07-04T17:42:53.559Z"
   },
   {
    "duration": 1113,
    "start_time": "2022-07-04T17:43:35.152Z"
   },
   {
    "duration": 104,
    "start_time": "2022-07-04T17:44:24.806Z"
   },
   {
    "duration": 985,
    "start_time": "2022-07-04T17:44:28.566Z"
   },
   {
    "duration": 1087,
    "start_time": "2022-07-04T17:44:40.224Z"
   },
   {
    "duration": 787,
    "start_time": "2022-07-04T17:44:41.313Z"
   },
   {
    "duration": 501,
    "start_time": "2022-07-04T17:44:42.101Z"
   },
   {
    "duration": 4,
    "start_time": "2022-07-04T17:44:42.604Z"
   },
   {
    "duration": 947,
    "start_time": "2022-07-04T17:44:42.609Z"
   },
   {
    "duration": 300,
    "start_time": "2022-07-04T17:44:43.558Z"
   },
   {
    "duration": 225,
    "start_time": "2022-07-04T17:44:43.859Z"
   },
   {
    "duration": 3,
    "start_time": "2022-07-04T17:44:44.085Z"
   },
   {
    "duration": 19,
    "start_time": "2022-07-04T17:44:44.089Z"
   },
   {
    "duration": 1012,
    "start_time": "2022-07-04T17:44:44.110Z"
   },
   {
    "duration": 355,
    "start_time": "2022-07-04T17:44:45.123Z"
   },
   {
    "duration": 7,
    "start_time": "2022-07-04T17:44:45.480Z"
   },
   {
    "duration": 238,
    "start_time": "2022-07-04T17:44:45.488Z"
   },
   {
    "duration": 1495,
    "start_time": "2022-07-04T17:44:45.728Z"
   },
   {
    "duration": 569,
    "start_time": "2022-07-04T17:44:47.225Z"
   },
   {
    "duration": 0,
    "start_time": "2022-07-04T17:44:47.796Z"
   },
   {
    "duration": 4,
    "start_time": "2022-07-04T17:46:27.812Z"
   },
   {
    "duration": 790,
    "start_time": "2022-07-04T17:46:28.395Z"
   },
   {
    "duration": 437,
    "start_time": "2022-07-04T17:46:32.124Z"
   },
   {
    "duration": 3,
    "start_time": "2022-07-04T17:46:32.569Z"
   },
   {
    "duration": 960,
    "start_time": "2022-07-04T17:46:33.454Z"
   },
   {
    "duration": 938,
    "start_time": "2022-07-04T17:46:36.737Z"
   },
   {
    "duration": 296,
    "start_time": "2022-07-04T17:46:41.386Z"
   },
   {
    "duration": 156,
    "start_time": "2022-07-04T17:46:42.352Z"
   },
   {
    "duration": 9,
    "start_time": "2022-07-04T17:46:43.155Z"
   },
   {
    "duration": 1602,
    "start_time": "2022-07-04T17:46:54.195Z"
   },
   {
    "duration": 102,
    "start_time": "2022-07-04T17:48:08.817Z"
   },
   {
    "duration": 9,
    "start_time": "2022-07-04T17:48:23.005Z"
   },
   {
    "duration": 9,
    "start_time": "2022-07-04T17:49:10.551Z"
   },
   {
    "duration": 10,
    "start_time": "2022-07-04T17:49:18.755Z"
   },
   {
    "duration": 1098,
    "start_time": "2022-07-04T17:49:57.585Z"
   },
   {
    "duration": 797,
    "start_time": "2022-07-04T17:49:58.685Z"
   },
   {
    "duration": 484,
    "start_time": "2022-07-04T17:49:59.483Z"
   },
   {
    "duration": 4,
    "start_time": "2022-07-04T17:49:59.969Z"
   },
   {
    "duration": 982,
    "start_time": "2022-07-04T17:49:59.976Z"
   },
   {
    "duration": 309,
    "start_time": "2022-07-04T17:50:00.959Z"
   },
   {
    "duration": 131,
    "start_time": "2022-07-04T17:50:01.270Z"
   },
   {
    "duration": 12,
    "start_time": "2022-07-04T17:50:01.403Z"
   },
   {
    "duration": 1219,
    "start_time": "2022-07-04T17:50:01.417Z"
   },
   {
    "duration": 400,
    "start_time": "2022-07-04T17:50:02.637Z"
   },
   {
    "duration": 8,
    "start_time": "2022-07-04T17:50:03.038Z"
   },
   {
    "duration": 262,
    "start_time": "2022-07-04T17:50:03.047Z"
   },
   {
    "duration": 1538,
    "start_time": "2022-07-04T17:50:03.311Z"
   },
   {
    "duration": 626,
    "start_time": "2022-07-04T17:50:04.856Z"
   },
   {
    "duration": 0,
    "start_time": "2022-07-04T17:50:05.484Z"
   },
   {
    "duration": 2009,
    "start_time": "2022-07-04T17:50:45.302Z"
   },
   {
    "duration": 1089,
    "start_time": "2022-07-04T17:52:03.554Z"
   },
   {
    "duration": 1020,
    "start_time": "2022-07-04T17:53:27.598Z"
   },
   {
    "duration": 849,
    "start_time": "2022-07-04T17:53:28.620Z"
   },
   {
    "duration": 541,
    "start_time": "2022-07-04T17:53:29.471Z"
   },
   {
    "duration": 3,
    "start_time": "2022-07-04T17:53:30.014Z"
   },
   {
    "duration": 1015,
    "start_time": "2022-07-04T17:53:30.019Z"
   },
   {
    "duration": 326,
    "start_time": "2022-07-04T17:53:31.035Z"
   },
   {
    "duration": 135,
    "start_time": "2022-07-04T17:53:31.362Z"
   },
   {
    "duration": 12,
    "start_time": "2022-07-04T17:53:31.499Z"
   },
   {
    "duration": 1219,
    "start_time": "2022-07-04T17:53:31.513Z"
   },
   {
    "duration": 413,
    "start_time": "2022-07-04T17:53:32.742Z"
   },
   {
    "duration": 7,
    "start_time": "2022-07-04T17:53:33.157Z"
   },
   {
    "duration": 244,
    "start_time": "2022-07-04T17:53:33.166Z"
   },
   {
    "duration": 1562,
    "start_time": "2022-07-04T17:53:33.412Z"
   },
   {
    "duration": 2016,
    "start_time": "2022-07-04T17:53:34.975Z"
   },
   {
    "duration": 246,
    "start_time": "2022-07-04T17:53:36.992Z"
   },
   {
    "duration": 4,
    "start_time": "2022-07-04T17:54:25.382Z"
   },
   {
    "duration": 98,
    "start_time": "2022-07-04T17:55:09.258Z"
   },
   {
    "duration": 176,
    "start_time": "2022-07-04T17:55:28.484Z"
   },
   {
    "duration": 173,
    "start_time": "2022-07-04T17:55:44.917Z"
   },
   {
    "duration": 104,
    "start_time": "2022-07-04T17:56:16.406Z"
   },
   {
    "duration": 217,
    "start_time": "2022-07-04T17:56:24.270Z"
   },
   {
    "duration": 376,
    "start_time": "2022-07-04T17:57:52.368Z"
   },
   {
    "duration": 312,
    "start_time": "2022-07-04T17:58:04.051Z"
   },
   {
    "duration": 783,
    "start_time": "2022-07-04T17:59:22.227Z"
   },
   {
    "duration": 718,
    "start_time": "2022-07-04T17:59:32.516Z"
   },
   {
    "duration": 75,
    "start_time": "2022-07-04T18:07:58.061Z"
   },
   {
    "duration": 676,
    "start_time": "2022-07-04T18:08:03.960Z"
   },
   {
    "duration": 702,
    "start_time": "2022-07-04T18:12:54.051Z"
   },
   {
    "duration": 837,
    "start_time": "2022-07-04T18:13:06.330Z"
   },
   {
    "duration": 20,
    "start_time": "2022-07-04T18:14:37.907Z"
   },
   {
    "duration": 11,
    "start_time": "2022-07-04T18:16:26.465Z"
   },
   {
    "duration": 49,
    "start_time": "2022-07-04T18:16:31.521Z"
   },
   {
    "duration": 1273,
    "start_time": "2022-07-04T18:16:36.554Z"
   },
   {
    "duration": 833,
    "start_time": "2022-07-04T18:16:37.829Z"
   },
   {
    "duration": 597,
    "start_time": "2022-07-04T18:16:38.664Z"
   },
   {
    "duration": 4,
    "start_time": "2022-07-04T18:16:39.264Z"
   },
   {
    "duration": 1009,
    "start_time": "2022-07-04T18:16:39.270Z"
   },
   {
    "duration": 835,
    "start_time": "2022-07-04T18:16:40.281Z"
   },
   {
    "duration": 27,
    "start_time": "2022-07-04T18:16:41.117Z"
   },
   {
    "duration": 98,
    "start_time": "2022-07-04T18:16:41.146Z"
   },
   {
    "duration": 344,
    "start_time": "2022-07-04T18:16:41.246Z"
   },
   {
    "duration": 144,
    "start_time": "2022-07-04T18:16:41.593Z"
   },
   {
    "duration": 9,
    "start_time": "2022-07-04T18:16:41.739Z"
   },
   {
    "duration": 357,
    "start_time": "2022-07-04T18:16:41.750Z"
   },
   {
    "duration": 8,
    "start_time": "2022-07-04T18:16:42.109Z"
   },
   {
    "duration": 1486,
    "start_time": "2022-07-04T18:16:42.119Z"
   },
   {
    "duration": 1924,
    "start_time": "2022-07-04T18:16:43.608Z"
   },
   {
    "duration": 143,
    "start_time": "2022-07-04T18:16:45.534Z"
   },
   {
    "duration": 3,
    "start_time": "2022-07-04T18:18:39.974Z"
   },
   {
    "duration": 90,
    "start_time": "2022-07-04T18:18:54.227Z"
   },
   {
    "duration": 18,
    "start_time": "2022-07-04T18:18:59.052Z"
   },
   {
    "duration": 77,
    "start_time": "2022-07-04T18:19:06.027Z"
   },
   {
    "duration": 19,
    "start_time": "2022-07-04T18:19:09.808Z"
   },
   {
    "duration": 22,
    "start_time": "2022-07-04T18:19:19.104Z"
   },
   {
    "duration": 21,
    "start_time": "2022-07-04T18:19:27.012Z"
   },
   {
    "duration": 28,
    "start_time": "2022-07-04T18:19:37.926Z"
   },
   {
    "duration": 23,
    "start_time": "2022-07-04T18:19:41.203Z"
   },
   {
    "duration": 23,
    "start_time": "2022-07-04T18:19:50.573Z"
   },
   {
    "duration": 186,
    "start_time": "2022-07-04T18:21:49.776Z"
   },
   {
    "duration": 220,
    "start_time": "2022-07-04T18:21:57.801Z"
   },
   {
    "duration": 178,
    "start_time": "2022-07-04T18:22:11.828Z"
   },
   {
    "duration": 960,
    "start_time": "2022-07-04T18:22:49.301Z"
   },
   {
    "duration": 8838,
    "start_time": "2022-07-04T18:25:18.900Z"
   },
   {
    "duration": 2353,
    "start_time": "2022-07-04T18:27:04.763Z"
   },
   {
    "duration": 26,
    "start_time": "2022-07-04T18:27:28.279Z"
   },
   {
    "duration": 5,
    "start_time": "2022-07-04T18:27:32.954Z"
   },
   {
    "duration": 5,
    "start_time": "2022-07-04T18:27:36.659Z"
   },
   {
    "duration": 1719,
    "start_time": "2022-07-04T18:28:04.510Z"
   },
   {
    "duration": 5,
    "start_time": "2022-07-04T18:28:22.972Z"
   },
   {
    "duration": 73,
    "start_time": "2022-07-04T18:28:56.314Z"
   },
   {
    "duration": 4,
    "start_time": "2022-07-04T18:30:12.549Z"
   },
   {
    "duration": 1183,
    "start_time": "2022-07-04T18:30:13.851Z"
   },
   {
    "duration": 4,
    "start_time": "2022-07-04T18:30:33.648Z"
   },
   {
    "duration": 1795,
    "start_time": "2022-07-04T18:30:35.544Z"
   },
   {
    "duration": 1025,
    "start_time": "2022-07-04T18:31:28.072Z"
   },
   {
    "duration": 755,
    "start_time": "2022-07-04T18:31:29.099Z"
   },
   {
    "duration": 525,
    "start_time": "2022-07-04T18:31:29.855Z"
   },
   {
    "duration": 5,
    "start_time": "2022-07-04T18:31:30.381Z"
   },
   {
    "duration": 943,
    "start_time": "2022-07-04T18:31:30.389Z"
   },
   {
    "duration": 689,
    "start_time": "2022-07-04T18:31:31.334Z"
   },
   {
    "duration": 18,
    "start_time": "2022-07-04T18:31:32.025Z"
   },
   {
    "duration": 56,
    "start_time": "2022-07-04T18:31:32.045Z"
   },
   {
    "duration": 251,
    "start_time": "2022-07-04T18:31:32.102Z"
   },
   {
    "duration": 114,
    "start_time": "2022-07-04T18:31:32.354Z"
   },
   {
    "duration": 7,
    "start_time": "2022-07-04T18:31:32.469Z"
   },
   {
    "duration": 365,
    "start_time": "2022-07-04T18:31:32.478Z"
   },
   {
    "duration": 7,
    "start_time": "2022-07-04T18:31:32.845Z"
   },
   {
    "duration": 1333,
    "start_time": "2022-07-04T18:31:32.854Z"
   },
   {
    "duration": 1595,
    "start_time": "2022-07-04T18:31:34.188Z"
   },
   {
    "duration": 84,
    "start_time": "2022-07-04T18:31:35.784Z"
   },
   {
    "duration": 2458,
    "start_time": "2022-07-04T18:31:35.870Z"
   },
   {
    "duration": 28,
    "start_time": "2022-07-04T18:32:02.469Z"
   },
   {
    "duration": 77,
    "start_time": "2022-07-04T18:33:07.310Z"
   },
   {
    "duration": 102,
    "start_time": "2022-07-04T18:33:10.885Z"
   },
   {
    "duration": 29,
    "start_time": "2022-07-04T18:33:37.187Z"
   },
   {
    "duration": 16,
    "start_time": "2022-07-04T18:34:26.583Z"
   },
   {
    "duration": 20,
    "start_time": "2022-07-04T18:34:31.897Z"
   },
   {
    "duration": 80,
    "start_time": "2022-07-04T18:49:40.394Z"
   },
   {
    "duration": 1055,
    "start_time": "2022-07-04T18:50:01.356Z"
   },
   {
    "duration": 787,
    "start_time": "2022-07-04T18:50:02.413Z"
   },
   {
    "duration": 516,
    "start_time": "2022-07-04T18:50:03.201Z"
   },
   {
    "duration": 4,
    "start_time": "2022-07-04T18:50:03.719Z"
   },
   {
    "duration": 927,
    "start_time": "2022-07-04T18:50:03.731Z"
   },
   {
    "duration": 774,
    "start_time": "2022-07-04T18:50:04.660Z"
   },
   {
    "duration": 20,
    "start_time": "2022-07-04T18:50:05.437Z"
   },
   {
    "duration": 61,
    "start_time": "2022-07-04T18:50:05.459Z"
   },
   {
    "duration": 263,
    "start_time": "2022-07-04T18:50:05.533Z"
   },
   {
    "duration": 123,
    "start_time": "2022-07-04T18:50:05.799Z"
   },
   {
    "duration": 17,
    "start_time": "2022-07-04T18:50:05.924Z"
   },
   {
    "duration": 376,
    "start_time": "2022-07-04T18:50:05.943Z"
   },
   {
    "duration": 14,
    "start_time": "2022-07-04T18:50:06.320Z"
   },
   {
    "duration": 1420,
    "start_time": "2022-07-04T18:50:06.339Z"
   },
   {
    "duration": 1502,
    "start_time": "2022-07-04T18:50:07.761Z"
   },
   {
    "duration": 265,
    "start_time": "2022-07-04T18:50:09.265Z"
   },
   {
    "duration": 1167,
    "start_time": "2022-07-04T18:50:09.531Z"
   },
   {
    "duration": 1102,
    "start_time": "2022-07-04T18:53:30.807Z"
   },
   {
    "duration": 782,
    "start_time": "2022-07-04T18:53:31.911Z"
   },
   {
    "duration": 497,
    "start_time": "2022-07-04T18:53:32.694Z"
   },
   {
    "duration": 4,
    "start_time": "2022-07-04T18:53:33.193Z"
   },
   {
    "duration": 953,
    "start_time": "2022-07-04T18:53:33.199Z"
   },
   {
    "duration": 798,
    "start_time": "2022-07-04T18:53:34.154Z"
   },
   {
    "duration": 19,
    "start_time": "2022-07-04T18:53:34.954Z"
   },
   {
    "duration": 81,
    "start_time": "2022-07-04T18:53:34.975Z"
   },
   {
    "duration": 292,
    "start_time": "2022-07-04T18:53:35.058Z"
   },
   {
    "duration": 130,
    "start_time": "2022-07-04T18:53:35.352Z"
   },
   {
    "duration": 9,
    "start_time": "2022-07-04T18:53:35.483Z"
   },
   {
    "duration": 354,
    "start_time": "2022-07-04T18:53:35.494Z"
   },
   {
    "duration": 6,
    "start_time": "2022-07-04T18:53:35.850Z"
   },
   {
    "duration": 1444,
    "start_time": "2022-07-04T18:53:35.859Z"
   },
   {
    "duration": 1470,
    "start_time": "2022-07-04T18:53:37.304Z"
   },
   {
    "duration": 71,
    "start_time": "2022-07-04T18:53:38.775Z"
   },
   {
    "duration": 1097,
    "start_time": "2022-07-04T18:53:38.848Z"
   },
   {
    "duration": 86,
    "start_time": "2022-07-04T18:54:52.003Z"
   },
   {
    "duration": 83,
    "start_time": "2022-07-04T18:55:04.674Z"
   },
   {
    "duration": 64,
    "start_time": "2022-07-04T18:55:13.851Z"
   },
   {
    "duration": 1269,
    "start_time": "2022-07-04T18:55:54.807Z"
   },
   {
    "duration": 839,
    "start_time": "2022-07-04T18:55:56.078Z"
   },
   {
    "duration": 533,
    "start_time": "2022-07-04T18:55:56.919Z"
   },
   {
    "duration": 4,
    "start_time": "2022-07-04T18:55:57.455Z"
   },
   {
    "duration": 956,
    "start_time": "2022-07-04T18:55:57.461Z"
   },
   {
    "duration": 762,
    "start_time": "2022-07-04T18:55:58.418Z"
   },
   {
    "duration": 19,
    "start_time": "2022-07-04T18:55:59.182Z"
   },
   {
    "duration": 73,
    "start_time": "2022-07-04T18:55:59.202Z"
   },
   {
    "duration": 288,
    "start_time": "2022-07-04T18:55:59.277Z"
   },
   {
    "duration": 134,
    "start_time": "2022-07-04T18:55:59.567Z"
   },
   {
    "duration": 7,
    "start_time": "2022-07-04T18:55:59.704Z"
   },
   {
    "duration": 353,
    "start_time": "2022-07-04T18:55:59.713Z"
   },
   {
    "duration": 7,
    "start_time": "2022-07-04T18:56:00.068Z"
   },
   {
    "duration": 1435,
    "start_time": "2022-07-04T18:56:00.077Z"
   },
   {
    "duration": 1774,
    "start_time": "2022-07-04T18:56:01.514Z"
   },
   {
    "duration": 3,
    "start_time": "2022-07-04T18:56:03.289Z"
   },
   {
    "duration": 81,
    "start_time": "2022-07-04T18:56:03.294Z"
   },
   {
    "duration": 1114,
    "start_time": "2022-07-04T18:56:20.598Z"
   },
   {
    "duration": 813,
    "start_time": "2022-07-04T18:56:21.714Z"
   },
   {
    "duration": 509,
    "start_time": "2022-07-04T18:56:22.531Z"
   },
   {
    "duration": 10,
    "start_time": "2022-07-04T18:56:23.047Z"
   },
   {
    "duration": 1000,
    "start_time": "2022-07-04T18:56:23.061Z"
   },
   {
    "duration": 820,
    "start_time": "2022-07-04T18:56:24.063Z"
   },
   {
    "duration": 20,
    "start_time": "2022-07-04T18:56:24.885Z"
   },
   {
    "duration": 77,
    "start_time": "2022-07-04T18:56:24.907Z"
   },
   {
    "duration": 289,
    "start_time": "2022-07-04T18:56:24.986Z"
   },
   {
    "duration": 132,
    "start_time": "2022-07-04T18:56:25.276Z"
   },
   {
    "duration": 7,
    "start_time": "2022-07-04T18:56:25.411Z"
   },
   {
    "duration": 325,
    "start_time": "2022-07-04T18:56:25.420Z"
   },
   {
    "duration": 10,
    "start_time": "2022-07-04T18:56:25.747Z"
   },
   {
    "duration": 1478,
    "start_time": "2022-07-04T18:56:25.760Z"
   },
   {
    "duration": 1820,
    "start_time": "2022-07-04T18:56:27.243Z"
   },
   {
    "duration": 4,
    "start_time": "2022-07-04T18:56:29.065Z"
   },
   {
    "duration": 5,
    "start_time": "2022-07-04T18:56:29.070Z"
   },
   {
    "duration": 296,
    "start_time": "2022-07-04T19:00:07.852Z"
   },
   {
    "duration": 3897,
    "start_time": "2022-07-04T19:01:01.980Z"
   },
   {
    "duration": 4,
    "start_time": "2022-07-04T19:01:30.524Z"
   },
   {
    "duration": 767,
    "start_time": "2022-07-04T19:02:01.225Z"
   },
   {
    "duration": 20,
    "start_time": "2022-07-04T19:02:21.836Z"
   },
   {
    "duration": 1220,
    "start_time": "2022-07-04T19:02:29.259Z"
   },
   {
    "duration": 210,
    "start_time": "2022-07-04T19:04:00.042Z"
   },
   {
    "duration": 1233,
    "start_time": "2022-07-04T19:04:56.465Z"
   },
   {
    "duration": 767,
    "start_time": "2022-07-04T19:04:57.701Z"
   },
   {
    "duration": 467,
    "start_time": "2022-07-04T19:04:58.470Z"
   },
   {
    "duration": 3,
    "start_time": "2022-07-04T19:04:58.939Z"
   },
   {
    "duration": 877,
    "start_time": "2022-07-04T19:04:58.944Z"
   },
   {
    "duration": 718,
    "start_time": "2022-07-04T19:04:59.823Z"
   },
   {
    "duration": 18,
    "start_time": "2022-07-04T19:05:00.542Z"
   },
   {
    "duration": 69,
    "start_time": "2022-07-04T19:05:00.562Z"
   },
   {
    "duration": 257,
    "start_time": "2022-07-04T19:05:00.633Z"
   },
   {
    "duration": 117,
    "start_time": "2022-07-04T19:05:00.892Z"
   },
   {
    "duration": 7,
    "start_time": "2022-07-04T19:05:01.011Z"
   },
   {
    "duration": 1317,
    "start_time": "2022-07-04T19:05:01.020Z"
   },
   {
    "duration": 1643,
    "start_time": "2022-07-04T19:05:02.339Z"
   },
   {
    "duration": 4161,
    "start_time": "2022-07-04T19:05:03.984Z"
   },
   {
    "duration": 748,
    "start_time": "2022-07-04T19:05:08.147Z"
   },
   {
    "duration": 1296,
    "start_time": "2022-07-04T19:06:21.700Z"
   },
   {
    "duration": 765,
    "start_time": "2022-07-04T19:06:22.998Z"
   },
   {
    "duration": 502,
    "start_time": "2022-07-04T19:06:23.764Z"
   },
   {
    "duration": 4,
    "start_time": "2022-07-04T19:06:24.268Z"
   },
   {
    "duration": 948,
    "start_time": "2022-07-04T19:06:24.275Z"
   },
   {
    "duration": 696,
    "start_time": "2022-07-04T19:06:25.225Z"
   },
   {
    "duration": 19,
    "start_time": "2022-07-04T19:06:25.923Z"
   },
   {
    "duration": 63,
    "start_time": "2022-07-04T19:06:25.943Z"
   },
   {
    "duration": 301,
    "start_time": "2022-07-04T19:06:26.008Z"
   },
   {
    "duration": 119,
    "start_time": "2022-07-04T19:06:26.311Z"
   },
   {
    "duration": 7,
    "start_time": "2022-07-04T19:06:26.432Z"
   },
   {
    "duration": 1340,
    "start_time": "2022-07-04T19:06:26.441Z"
   },
   {
    "duration": 1620,
    "start_time": "2022-07-04T19:06:27.783Z"
   },
   {
    "duration": 4089,
    "start_time": "2022-07-04T19:06:29.406Z"
   },
   {
    "duration": 757,
    "start_time": "2022-07-04T19:06:33.497Z"
   },
   {
    "duration": 1303,
    "start_time": "2022-07-04T19:06:34.256Z"
   },
   {
    "duration": 1239,
    "start_time": "2022-07-04T19:07:31.264Z"
   },
   {
    "duration": 237,
    "start_time": "2022-07-04T19:07:51.804Z"
   },
   {
    "duration": 1281,
    "start_time": "2022-07-04T19:08:04.443Z"
   },
   {
    "duration": 1367,
    "start_time": "2022-07-04T19:08:41.990Z"
   },
   {
    "duration": 829,
    "start_time": "2022-07-04T19:08:43.359Z"
   },
   {
    "duration": 516,
    "start_time": "2022-07-04T19:08:44.190Z"
   },
   {
    "duration": 5,
    "start_time": "2022-07-04T19:08:44.708Z"
   },
   {
    "duration": 973,
    "start_time": "2022-07-04T19:08:44.715Z"
   },
   {
    "duration": 787,
    "start_time": "2022-07-04T19:08:45.690Z"
   },
   {
    "duration": 19,
    "start_time": "2022-07-04T19:08:46.479Z"
   },
   {
    "duration": 68,
    "start_time": "2022-07-04T19:08:46.500Z"
   },
   {
    "duration": 272,
    "start_time": "2022-07-04T19:08:46.570Z"
   },
   {
    "duration": 128,
    "start_time": "2022-07-04T19:08:46.845Z"
   },
   {
    "duration": 8,
    "start_time": "2022-07-04T19:08:46.975Z"
   },
   {
    "duration": 1350,
    "start_time": "2022-07-04T19:08:46.985Z"
   },
   {
    "duration": 1740,
    "start_time": "2022-07-04T19:08:48.337Z"
   },
   {
    "duration": 4366,
    "start_time": "2022-07-04T19:08:50.079Z"
   },
   {
    "duration": 747,
    "start_time": "2022-07-04T19:08:54.447Z"
   },
   {
    "duration": 1419,
    "start_time": "2022-07-04T19:08:55.196Z"
   },
   {
    "duration": 1459,
    "start_time": "2022-07-04T19:10:48.230Z"
   },
   {
    "duration": 866,
    "start_time": "2022-07-04T19:10:49.690Z"
   },
   {
    "duration": 530,
    "start_time": "2022-07-04T19:10:50.557Z"
   },
   {
    "duration": 4,
    "start_time": "2022-07-04T19:10:51.089Z"
   },
   {
    "duration": 930,
    "start_time": "2022-07-04T19:10:51.095Z"
   },
   {
    "duration": 724,
    "start_time": "2022-07-04T19:10:52.027Z"
   },
   {
    "duration": 20,
    "start_time": "2022-07-04T19:10:52.753Z"
   },
   {
    "duration": 69,
    "start_time": "2022-07-04T19:10:52.775Z"
   },
   {
    "duration": 286,
    "start_time": "2022-07-04T19:10:52.846Z"
   },
   {
    "duration": 130,
    "start_time": "2022-07-04T19:10:53.134Z"
   },
   {
    "duration": 8,
    "start_time": "2022-07-04T19:10:53.266Z"
   },
   {
    "duration": 81647,
    "start_time": "2022-07-04T19:10:53.276Z"
   },
   {
    "duration": 1405,
    "start_time": "2022-07-04T19:12:14.925Z"
   },
   {
    "duration": 1672,
    "start_time": "2022-07-04T19:12:16.333Z"
   },
   {
    "duration": 4250,
    "start_time": "2022-07-04T19:12:18.007Z"
   },
   {
    "duration": 759,
    "start_time": "2022-07-04T19:12:22.259Z"
   },
   {
    "duration": 1373,
    "start_time": "2022-07-04T19:12:23.020Z"
   },
   {
    "duration": 1734,
    "start_time": "2022-07-04T19:14:06.439Z"
   },
   {
    "duration": 113,
    "start_time": "2022-07-04T19:14:11.264Z"
   },
   {
    "duration": 35,
    "start_time": "2022-07-04T19:14:31.419Z"
   },
   {
    "duration": 43,
    "start_time": "2022-07-04T19:14:32.078Z"
   },
   {
    "duration": 4,
    "start_time": "2022-07-04T19:15:22.666Z"
   },
   {
    "duration": 4,
    "start_time": "2022-07-04T19:15:35.315Z"
   },
   {
    "duration": 3,
    "start_time": "2022-07-04T19:15:51.415Z"
   },
   {
    "duration": 2,
    "start_time": "2022-07-04T19:17:21.436Z"
   },
   {
    "duration": 17,
    "start_time": "2022-07-04T19:17:22.077Z"
   },
   {
    "duration": 45,
    "start_time": "2022-07-04T19:17:22.482Z"
   },
   {
    "duration": 3,
    "start_time": "2022-07-04T19:17:23.350Z"
   },
   {
    "duration": 1341,
    "start_time": "2022-07-04T19:21:06.631Z"
   },
   {
    "duration": 764,
    "start_time": "2022-07-04T19:21:07.974Z"
   },
   {
    "duration": 499,
    "start_time": "2022-07-04T19:21:08.739Z"
   },
   {
    "duration": 3,
    "start_time": "2022-07-04T19:21:09.240Z"
   },
   {
    "duration": 967,
    "start_time": "2022-07-04T19:21:09.245Z"
   },
   {
    "duration": 760,
    "start_time": "2022-07-04T19:21:10.214Z"
   },
   {
    "duration": 21,
    "start_time": "2022-07-04T19:21:10.976Z"
   },
   {
    "duration": 76,
    "start_time": "2022-07-04T19:21:10.998Z"
   },
   {
    "duration": 298,
    "start_time": "2022-07-04T19:21:11.076Z"
   },
   {
    "duration": 126,
    "start_time": "2022-07-04T19:21:11.377Z"
   },
   {
    "duration": 9,
    "start_time": "2022-07-04T19:21:11.505Z"
   },
   {
    "duration": 1513,
    "start_time": "2022-07-04T19:21:11.517Z"
   },
   {
    "duration": 1684,
    "start_time": "2022-07-04T19:21:13.032Z"
   },
   {
    "duration": 4118,
    "start_time": "2022-07-04T19:21:14.718Z"
   },
   {
    "duration": 765,
    "start_time": "2022-07-04T19:21:18.838Z"
   },
   {
    "duration": 1306,
    "start_time": "2022-07-04T19:21:19.605Z"
   },
   {
    "duration": 2,
    "start_time": "2022-07-04T19:21:20.913Z"
   },
   {
    "duration": 30,
    "start_time": "2022-07-04T19:21:20.917Z"
   },
   {
    "duration": 55,
    "start_time": "2022-07-04T19:21:20.949Z"
   },
   {
    "duration": 4,
    "start_time": "2022-07-04T19:21:21.005Z"
   },
   {
    "duration": 106,
    "start_time": "2022-07-04T19:21:21.010Z"
   },
   {
    "duration": 25,
    "start_time": "2022-07-04T19:22:14.558Z"
   },
   {
    "duration": 2,
    "start_time": "2022-07-04T19:22:25.405Z"
   },
   {
    "duration": 84,
    "start_time": "2022-07-04T19:24:04.857Z"
   },
   {
    "duration": 1352,
    "start_time": "2022-07-04T19:24:29.223Z"
   },
   {
    "duration": 784,
    "start_time": "2022-07-04T19:24:30.577Z"
   },
   {
    "duration": 487,
    "start_time": "2022-07-04T19:24:31.363Z"
   },
   {
    "duration": 4,
    "start_time": "2022-07-04T19:24:31.853Z"
   },
   {
    "duration": 911,
    "start_time": "2022-07-04T19:24:31.859Z"
   },
   {
    "duration": 718,
    "start_time": "2022-07-04T19:24:32.772Z"
   },
   {
    "duration": 20,
    "start_time": "2022-07-04T19:24:33.492Z"
   },
   {
    "duration": 67,
    "start_time": "2022-07-04T19:24:33.513Z"
   },
   {
    "duration": 285,
    "start_time": "2022-07-04T19:24:33.582Z"
   },
   {
    "duration": 117,
    "start_time": "2022-07-04T19:24:33.870Z"
   },
   {
    "duration": 8,
    "start_time": "2022-07-04T19:24:33.988Z"
   },
   {
    "duration": 1430,
    "start_time": "2022-07-04T19:24:33.997Z"
   },
   {
    "duration": 1745,
    "start_time": "2022-07-04T19:24:35.429Z"
   },
   {
    "duration": 4108,
    "start_time": "2022-07-04T19:24:37.176Z"
   },
   {
    "duration": 762,
    "start_time": "2022-07-04T19:24:41.286Z"
   },
   {
    "duration": 1289,
    "start_time": "2022-07-04T19:24:42.050Z"
   },
   {
    "duration": 3,
    "start_time": "2022-07-04T19:24:43.341Z"
   },
   {
    "duration": 28,
    "start_time": "2022-07-04T19:24:43.345Z"
   },
   {
    "duration": 56,
    "start_time": "2022-07-04T19:24:43.375Z"
   },
   {
    "duration": 3,
    "start_time": "2022-07-04T19:24:43.433Z"
   },
   {
    "duration": 4,
    "start_time": "2022-07-04T19:24:43.437Z"
   },
   {
    "duration": 188,
    "start_time": "2022-07-04T19:24:43.442Z"
   },
   {
    "duration": 4,
    "start_time": "2022-07-04T19:28:03.518Z"
   },
   {
    "duration": 88,
    "start_time": "2022-07-04T19:28:21.649Z"
   },
   {
    "duration": 224,
    "start_time": "2022-07-04T19:29:40.473Z"
   },
   {
    "duration": 19,
    "start_time": "2022-07-04T19:30:17.995Z"
   },
   {
    "duration": 3,
    "start_time": "2022-07-04T19:30:18.678Z"
   },
   {
    "duration": 50,
    "start_time": "2022-07-04T19:30:30.060Z"
   },
   {
    "duration": 89,
    "start_time": "2022-07-04T19:30:55.640Z"
   },
   {
    "duration": 3,
    "start_time": "2022-07-04T19:35:27.951Z"
   },
   {
    "duration": 43,
    "start_time": "2022-07-04T19:35:28.815Z"
   },
   {
    "duration": 195,
    "start_time": "2022-07-04T19:35:29.873Z"
   },
   {
    "duration": 1337,
    "start_time": "2022-07-04T19:37:17.203Z"
   },
   {
    "duration": 785,
    "start_time": "2022-07-04T19:37:18.542Z"
   },
   {
    "duration": 496,
    "start_time": "2022-07-04T19:37:19.330Z"
   },
   {
    "duration": 4,
    "start_time": "2022-07-04T19:37:19.829Z"
   },
   {
    "duration": 964,
    "start_time": "2022-07-04T19:37:19.834Z"
   },
   {
    "duration": 735,
    "start_time": "2022-07-04T19:37:20.800Z"
   },
   {
    "duration": 20,
    "start_time": "2022-07-04T19:37:21.537Z"
   },
   {
    "duration": 71,
    "start_time": "2022-07-04T19:37:21.558Z"
   },
   {
    "duration": 251,
    "start_time": "2022-07-04T19:37:21.631Z"
   },
   {
    "duration": 115,
    "start_time": "2022-07-04T19:37:21.884Z"
   },
   {
    "duration": 7,
    "start_time": "2022-07-04T19:37:22.001Z"
   },
   {
    "duration": 1408,
    "start_time": "2022-07-04T19:37:22.009Z"
   },
   {
    "duration": 1710,
    "start_time": "2022-07-04T19:37:23.419Z"
   },
   {
    "duration": 3905,
    "start_time": "2022-07-04T19:37:25.130Z"
   },
   {
    "duration": 725,
    "start_time": "2022-07-04T19:37:29.037Z"
   },
   {
    "duration": 1311,
    "start_time": "2022-07-04T19:37:29.764Z"
   },
   {
    "duration": 3,
    "start_time": "2022-07-04T19:37:31.077Z"
   },
   {
    "duration": 69,
    "start_time": "2022-07-04T19:37:31.081Z"
   },
   {
    "duration": 223,
    "start_time": "2022-07-04T19:37:31.152Z"
   },
   {
    "duration": 44,
    "start_time": "2022-07-04T19:37:31.376Z"
   },
   {
    "duration": 102,
    "start_time": "2022-07-04T19:37:31.428Z"
   },
   {
    "duration": 0,
    "start_time": "2022-07-04T19:37:31.532Z"
   },
   {
    "duration": 5,
    "start_time": "2022-07-04T19:37:53.263Z"
   },
   {
    "duration": 3,
    "start_time": "2022-07-04T19:37:57.646Z"
   },
   {
    "duration": 101,
    "start_time": "2022-07-04T19:37:58.763Z"
   },
   {
    "duration": 4,
    "start_time": "2022-07-04T19:38:45.348Z"
   },
   {
    "duration": 9,
    "start_time": "2022-07-04T19:38:59.398Z"
   },
   {
    "duration": 8,
    "start_time": "2022-07-04T19:39:03.333Z"
   },
   {
    "duration": 4,
    "start_time": "2022-07-04T19:39:12.118Z"
   },
   {
    "duration": 2299,
    "start_time": "2022-07-04T19:39:17.603Z"
   },
   {
    "duration": 1879,
    "start_time": "2022-07-04T19:40:23.063Z"
   },
   {
    "duration": 774,
    "start_time": "2022-07-04T19:40:24.943Z"
   },
   {
    "duration": 526,
    "start_time": "2022-07-04T19:40:25.718Z"
   },
   {
    "duration": 5,
    "start_time": "2022-07-04T19:40:26.246Z"
   },
   {
    "duration": 924,
    "start_time": "2022-07-04T19:40:26.253Z"
   },
   {
    "duration": 718,
    "start_time": "2022-07-04T19:40:27.179Z"
   },
   {
    "duration": 18,
    "start_time": "2022-07-04T19:40:27.899Z"
   },
   {
    "duration": 65,
    "start_time": "2022-07-04T19:40:27.918Z"
   },
   {
    "duration": 255,
    "start_time": "2022-07-04T19:40:27.985Z"
   },
   {
    "duration": 119,
    "start_time": "2022-07-04T19:40:28.242Z"
   },
   {
    "duration": 7,
    "start_time": "2022-07-04T19:40:28.362Z"
   },
   {
    "duration": 1381,
    "start_time": "2022-07-04T19:40:28.371Z"
   },
   {
    "duration": 1659,
    "start_time": "2022-07-04T19:40:29.754Z"
   },
   {
    "duration": 50,
    "start_time": "2022-07-04T19:40:31.415Z"
   },
   {
    "duration": 4008,
    "start_time": "2022-07-04T19:40:31.467Z"
   },
   {
    "duration": 749,
    "start_time": "2022-07-04T19:40:35.476Z"
   },
   {
    "duration": 1332,
    "start_time": "2022-07-04T19:40:36.227Z"
   },
   {
    "duration": 4,
    "start_time": "2022-07-04T19:40:37.561Z"
   },
   {
    "duration": 72,
    "start_time": "2022-07-04T19:40:37.566Z"
   },
   {
    "duration": 420,
    "start_time": "2022-07-04T19:40:37.639Z"
   },
   {
    "duration": 0,
    "start_time": "2022-07-04T19:40:38.060Z"
   },
   {
    "duration": 0,
    "start_time": "2022-07-04T19:40:38.062Z"
   },
   {
    "duration": 0,
    "start_time": "2022-07-04T19:40:38.063Z"
   },
   {
    "duration": 0,
    "start_time": "2022-07-04T19:40:38.064Z"
   },
   {
    "duration": 11,
    "start_time": "2022-07-04T19:40:49.576Z"
   },
   {
    "duration": 49,
    "start_time": "2022-07-04T19:40:52.287Z"
   },
   {
    "duration": 4,
    "start_time": "2022-07-04T19:40:53.510Z"
   },
   {
    "duration": 2411,
    "start_time": "2022-07-04T19:40:57.646Z"
   },
   {
    "duration": 19,
    "start_time": "2022-07-04T19:41:25.758Z"
   },
   {
    "duration": 14,
    "start_time": "2022-07-04T19:42:08.268Z"
   },
   {
    "duration": 12,
    "start_time": "2022-07-04T19:44:16.028Z"
   },
   {
    "duration": 43,
    "start_time": "2022-07-04T19:44:21.827Z"
   },
   {
    "duration": 3,
    "start_time": "2022-07-04T19:44:24.612Z"
   },
   {
    "duration": 102,
    "start_time": "2022-07-04T19:44:25.644Z"
   },
   {
    "duration": 26,
    "start_time": "2022-07-04T19:44:52.497Z"
   },
   {
    "duration": 1418,
    "start_time": "2022-07-04T19:45:10.911Z"
   },
   {
    "duration": 777,
    "start_time": "2022-07-04T19:45:12.331Z"
   },
   {
    "duration": 533,
    "start_time": "2022-07-04T19:45:13.110Z"
   },
   {
    "duration": 4,
    "start_time": "2022-07-04T19:45:13.645Z"
   },
   {
    "duration": 1025,
    "start_time": "2022-07-04T19:45:13.651Z"
   },
   {
    "duration": 739,
    "start_time": "2022-07-04T19:45:14.678Z"
   },
   {
    "duration": 19,
    "start_time": "2022-07-04T19:45:15.419Z"
   },
   {
    "duration": 62,
    "start_time": "2022-07-04T19:45:15.440Z"
   },
   {
    "duration": 292,
    "start_time": "2022-07-04T19:45:15.504Z"
   },
   {
    "duration": 122,
    "start_time": "2022-07-04T19:45:15.799Z"
   },
   {
    "duration": 11,
    "start_time": "2022-07-04T19:45:15.923Z"
   },
   {
    "duration": 1477,
    "start_time": "2022-07-04T19:45:15.935Z"
   },
   {
    "duration": 1574,
    "start_time": "2022-07-04T19:45:17.413Z"
   },
   {
    "duration": 48,
    "start_time": "2022-07-04T19:45:18.988Z"
   },
   {
    "duration": 4116,
    "start_time": "2022-07-04T19:45:19.037Z"
   },
   {
    "duration": 761,
    "start_time": "2022-07-04T19:45:23.155Z"
   },
   {
    "duration": 1418,
    "start_time": "2022-07-04T19:45:23.918Z"
   },
   {
    "duration": 4,
    "start_time": "2022-07-04T19:45:25.337Z"
   },
   {
    "duration": 80,
    "start_time": "2022-07-04T19:45:25.342Z"
   },
   {
    "duration": 369,
    "start_time": "2022-07-04T19:45:25.425Z"
   },
   {
    "duration": 49,
    "start_time": "2022-07-04T19:45:25.795Z"
   },
   {
    "duration": 3,
    "start_time": "2022-07-04T19:45:25.846Z"
   },
   {
    "duration": 25,
    "start_time": "2022-07-04T19:45:25.850Z"
   },
   {
    "duration": 207,
    "start_time": "2022-07-04T19:45:25.877Z"
   },
   {
    "duration": 4,
    "start_time": "2022-07-04T19:46:01.840Z"
   },
   {
    "duration": 1379,
    "start_time": "2022-07-04T19:46:25.228Z"
   },
   {
    "duration": 767,
    "start_time": "2022-07-04T19:46:26.608Z"
   },
   {
    "duration": 469,
    "start_time": "2022-07-04T19:46:27.376Z"
   },
   {
    "duration": 4,
    "start_time": "2022-07-04T19:46:27.847Z"
   },
   {
    "duration": 886,
    "start_time": "2022-07-04T19:46:27.853Z"
   },
   {
    "duration": 697,
    "start_time": "2022-07-04T19:46:28.740Z"
   },
   {
    "duration": 18,
    "start_time": "2022-07-04T19:46:29.439Z"
   },
   {
    "duration": 70,
    "start_time": "2022-07-04T19:46:29.459Z"
   },
   {
    "duration": 243,
    "start_time": "2022-07-04T19:46:29.531Z"
   },
   {
    "duration": 120,
    "start_time": "2022-07-04T19:46:29.776Z"
   },
   {
    "duration": 8,
    "start_time": "2022-07-04T19:46:29.897Z"
   },
   {
    "duration": 1447,
    "start_time": "2022-07-04T19:46:29.906Z"
   },
   {
    "duration": 1621,
    "start_time": "2022-07-04T19:46:31.355Z"
   },
   {
    "duration": 38,
    "start_time": "2022-07-04T19:46:32.979Z"
   },
   {
    "duration": 4129,
    "start_time": "2022-07-04T19:46:33.018Z"
   },
   {
    "duration": 729,
    "start_time": "2022-07-04T19:46:37.148Z"
   },
   {
    "duration": 1332,
    "start_time": "2022-07-04T19:46:37.879Z"
   },
   {
    "duration": 3,
    "start_time": "2022-07-04T19:46:39.213Z"
   },
   {
    "duration": 68,
    "start_time": "2022-07-04T19:46:39.218Z"
   },
   {
    "duration": 225,
    "start_time": "2022-07-04T19:46:39.288Z"
   },
   {
    "duration": 48,
    "start_time": "2022-07-04T19:46:39.515Z"
   },
   {
    "duration": 3,
    "start_time": "2022-07-04T19:46:39.565Z"
   },
   {
    "duration": 2129,
    "start_time": "2022-07-04T19:46:39.569Z"
   },
   {
    "duration": 6,
    "start_time": "2022-07-04T19:46:52.138Z"
   },
   {
    "duration": 3,
    "start_time": "2022-07-04T19:50:06.825Z"
   },
   {
    "duration": 116,
    "start_time": "2022-07-04T19:50:45.033Z"
   },
   {
    "duration": 1407,
    "start_time": "2022-07-04T19:50:51.667Z"
   },
   {
    "duration": 2710,
    "start_time": "2022-07-04T19:50:53.076Z"
   },
   {
    "duration": 525,
    "start_time": "2022-07-04T19:50:55.787Z"
   },
   {
    "duration": 3,
    "start_time": "2022-07-04T19:50:56.313Z"
   },
   {
    "duration": 916,
    "start_time": "2022-07-04T19:50:56.328Z"
   },
   {
    "duration": 683,
    "start_time": "2022-07-04T19:50:57.246Z"
   },
   {
    "duration": 18,
    "start_time": "2022-07-04T19:50:57.930Z"
   },
   {
    "duration": 55,
    "start_time": "2022-07-04T19:50:57.950Z"
   },
   {
    "duration": 266,
    "start_time": "2022-07-04T19:50:58.007Z"
   },
   {
    "duration": 118,
    "start_time": "2022-07-04T19:50:58.275Z"
   },
   {
    "duration": 8,
    "start_time": "2022-07-04T19:50:58.395Z"
   },
   {
    "duration": 1382,
    "start_time": "2022-07-04T19:50:58.404Z"
   },
   {
    "duration": 1645,
    "start_time": "2022-07-04T19:50:59.788Z"
   },
   {
    "duration": 42,
    "start_time": "2022-07-04T19:51:01.435Z"
   },
   {
    "duration": 4088,
    "start_time": "2022-07-04T19:51:01.478Z"
   },
   {
    "duration": 812,
    "start_time": "2022-07-04T19:51:05.568Z"
   },
   {
    "duration": 1306,
    "start_time": "2022-07-04T19:51:06.382Z"
   },
   {
    "duration": 4,
    "start_time": "2022-07-04T19:51:07.689Z"
   },
   {
    "duration": 79,
    "start_time": "2022-07-04T19:51:07.694Z"
   },
   {
    "duration": 233,
    "start_time": "2022-07-04T19:51:07.775Z"
   },
   {
    "duration": 45,
    "start_time": "2022-07-04T19:51:08.009Z"
   },
   {
    "duration": 3,
    "start_time": "2022-07-04T19:51:08.056Z"
   },
   {
    "duration": 1682,
    "start_time": "2022-07-07T06:04:55.757Z"
   },
   {
    "duration": 178,
    "start_time": "2022-07-07T06:05:03.345Z"
   },
   {
    "duration": 1234,
    "start_time": "2022-07-07T06:05:32.025Z"
   },
   {
    "duration": 1695,
    "start_time": "2022-07-07T06:05:45.327Z"
   },
   {
    "duration": 1073,
    "start_time": "2022-07-07T06:05:47.024Z"
   },
   {
    "duration": 575,
    "start_time": "2022-07-07T06:05:51.286Z"
   },
   {
    "duration": 6,
    "start_time": "2022-07-07T06:05:55.542Z"
   },
   {
    "duration": 1115,
    "start_time": "2022-07-07T06:05:56.888Z"
   },
   {
    "duration": 823,
    "start_time": "2022-07-07T06:07:04.115Z"
   },
   {
    "duration": 24,
    "start_time": "2022-07-07T06:07:08.232Z"
   },
   {
    "duration": 69,
    "start_time": "2022-07-07T06:07:16.698Z"
   },
   {
    "duration": 322,
    "start_time": "2022-07-07T06:07:20.025Z"
   },
   {
    "duration": 131,
    "start_time": "2022-07-07T06:07:24.793Z"
   },
   {
    "duration": 8,
    "start_time": "2022-07-07T06:07:28.185Z"
   },
   {
    "duration": 1630,
    "start_time": "2022-07-07T06:07:29.817Z"
   },
   {
    "duration": 1850,
    "start_time": "2022-07-07T06:07:44.556Z"
   },
   {
    "duration": 20,
    "start_time": "2022-07-07T06:07:52.008Z"
   },
   {
    "duration": 1696,
    "start_time": "2022-07-07T06:08:07.476Z"
   },
   {
    "duration": 211,
    "start_time": "2022-07-07T06:08:11.004Z"
   },
   {
    "duration": 15,
    "start_time": "2022-07-07T06:08:30.154Z"
   },
   {
    "duration": 1204,
    "start_time": "2022-07-07T06:08:58.994Z"
   },
   {
    "duration": 3,
    "start_time": "2022-07-07T06:09:03.856Z"
   },
   {
    "duration": 4,
    "start_time": "2022-07-07T06:09:09.417Z"
   },
   {
    "duration": 7,
    "start_time": "2022-07-07T06:09:25.352Z"
   },
   {
    "duration": 81,
    "start_time": "2022-07-07T06:09:28.248Z"
   },
   {
    "duration": 391,
    "start_time": "2022-07-07T06:09:33.895Z"
   },
   {
    "duration": 12872,
    "start_time": "2022-07-07T06:09:34.827Z"
   },
   {
    "duration": 1662,
    "start_time": "2022-07-07T08:34:28.434Z"
   },
   {
    "duration": 1250,
    "start_time": "2022-07-07T08:34:30.098Z"
   },
   {
    "duration": 498,
    "start_time": "2022-07-07T08:34:31.350Z"
   },
   {
    "duration": 4,
    "start_time": "2022-07-07T08:34:31.849Z"
   },
   {
    "duration": 1040,
    "start_time": "2022-07-07T08:34:31.859Z"
   },
   {
    "duration": 770,
    "start_time": "2022-07-07T08:34:32.901Z"
   },
   {
    "duration": 21,
    "start_time": "2022-07-07T08:34:33.673Z"
   },
   {
    "duration": 72,
    "start_time": "2022-07-07T08:34:33.695Z"
   },
   {
    "duration": 306,
    "start_time": "2022-07-07T08:34:33.769Z"
   },
   {
    "duration": 138,
    "start_time": "2022-07-07T08:34:34.077Z"
   },
   {
    "duration": 9,
    "start_time": "2022-07-07T08:34:34.217Z"
   },
   {
    "duration": 1524,
    "start_time": "2022-07-07T08:34:34.227Z"
   },
   {
    "duration": 1770,
    "start_time": "2022-07-07T08:34:35.752Z"
   },
   {
    "duration": 13,
    "start_time": "2022-07-07T08:34:37.525Z"
   },
   {
    "duration": 1558,
    "start_time": "2022-07-07T08:34:37.540Z"
   },
   {
    "duration": 181,
    "start_time": "2022-07-07T08:34:39.100Z"
   },
   {
    "duration": 15,
    "start_time": "2022-07-07T08:34:39.283Z"
   },
   {
    "duration": 1224,
    "start_time": "2022-07-07T08:34:39.300Z"
   },
   {
    "duration": 3,
    "start_time": "2022-07-07T08:34:40.526Z"
   },
   {
    "duration": 45,
    "start_time": "2022-07-07T08:34:40.531Z"
   },
   {
    "duration": 25,
    "start_time": "2022-07-07T08:34:40.578Z"
   },
   {
    "duration": 158,
    "start_time": "2022-07-07T08:34:40.604Z"
   },
   {
    "duration": 463,
    "start_time": "2022-07-07T08:34:40.765Z"
   },
   {
    "duration": 12703,
    "start_time": "2022-07-07T08:34:41.230Z"
   },
   {
    "duration": 758712,
    "start_time": "2022-07-07T08:34:53.935Z"
   },
   {
    "duration": 0,
    "start_time": "2022-07-07T08:47:32.650Z"
   },
   {
    "duration": 0,
    "start_time": "2022-07-07T08:47:32.651Z"
   },
   {
    "duration": 0,
    "start_time": "2022-07-07T08:47:32.653Z"
   },
   {
    "duration": 5,
    "start_time": "2022-07-07T08:47:35.169Z"
   },
   {
    "duration": 1413,
    "start_time": "2022-07-07T08:47:51.957Z"
   },
   {
    "duration": 912,
    "start_time": "2022-07-07T08:47:58.588Z"
   },
   {
    "duration": 877,
    "start_time": "2022-07-07T08:48:27.479Z"
   },
   {
    "duration": 526,
    "start_time": "2022-07-07T08:48:29.872Z"
   },
   {
    "duration": 5,
    "start_time": "2022-07-07T08:48:31.033Z"
   },
   {
    "duration": 1020,
    "start_time": "2022-07-07T08:48:32.006Z"
   },
   {
    "duration": 779,
    "start_time": "2022-07-07T08:48:36.856Z"
   },
   {
    "duration": 23,
    "start_time": "2022-07-07T08:48:39.236Z"
   },
   {
    "duration": 63,
    "start_time": "2022-07-07T08:48:40.402Z"
   },
   {
    "duration": 337,
    "start_time": "2022-07-07T08:48:41.133Z"
   },
   {
    "duration": 119,
    "start_time": "2022-07-07T08:48:41.587Z"
   },
   {
    "duration": 10,
    "start_time": "2022-07-07T08:48:44.057Z"
   },
   {
    "duration": 1492,
    "start_time": "2022-07-07T08:48:46.836Z"
   },
   {
    "duration": 1726,
    "start_time": "2022-07-07T08:48:51.887Z"
   },
   {
    "duration": 12,
    "start_time": "2022-07-07T08:48:58.936Z"
   },
   {
    "duration": 981,
    "start_time": "2022-07-07T08:49:02.033Z"
   },
   {
    "duration": 13,
    "start_time": "2022-07-07T08:49:08.836Z"
   },
   {
    "duration": 8,
    "start_time": "2022-07-07T08:49:28.200Z"
   },
   {
    "duration": 7,
    "start_time": "2022-07-07T08:49:35.644Z"
   },
   {
    "duration": 112,
    "start_time": "2022-07-07T08:49:52.033Z"
   },
   {
    "duration": 14,
    "start_time": "2022-07-07T08:50:07.247Z"
   },
   {
    "duration": 8,
    "start_time": "2022-07-07T08:51:23.801Z"
   },
   {
    "duration": 5,
    "start_time": "2022-07-07T08:51:48.057Z"
   },
   {
    "duration": 26,
    "start_time": "2022-07-07T08:51:56.044Z"
   },
   {
    "duration": 159,
    "start_time": "2022-07-07T08:52:19.003Z"
   },
   {
    "duration": 14,
    "start_time": "2022-07-07T08:52:23.838Z"
   },
   {
    "duration": 195,
    "start_time": "2022-07-07T08:52:33.037Z"
   },
   {
    "duration": 31,
    "start_time": "2022-07-07T08:52:35.307Z"
   },
   {
    "duration": 13,
    "start_time": "2022-07-07T08:52:38.339Z"
   },
   {
    "duration": 1472,
    "start_time": "2022-07-07T08:52:48.146Z"
   },
   {
    "duration": 889,
    "start_time": "2022-07-07T08:52:49.620Z"
   },
   {
    "duration": 569,
    "start_time": "2022-07-07T08:52:50.513Z"
   },
   {
    "duration": 5,
    "start_time": "2022-07-07T08:52:51.084Z"
   },
   {
    "duration": 1145,
    "start_time": "2022-07-07T08:52:51.091Z"
   },
   {
    "duration": 796,
    "start_time": "2022-07-07T08:52:52.238Z"
   },
   {
    "duration": 27,
    "start_time": "2022-07-07T08:52:53.036Z"
   },
   {
    "duration": 64,
    "start_time": "2022-07-07T08:52:53.064Z"
   },
   {
    "duration": 321,
    "start_time": "2022-07-07T08:52:53.130Z"
   },
   {
    "duration": 125,
    "start_time": "2022-07-07T08:52:53.452Z"
   },
   {
    "duration": 8,
    "start_time": "2022-07-07T08:52:53.579Z"
   },
   {
    "duration": 1643,
    "start_time": "2022-07-07T08:52:53.589Z"
   },
   {
    "duration": 1942,
    "start_time": "2022-07-07T08:52:55.235Z"
   },
   {
    "duration": 13,
    "start_time": "2022-07-07T08:52:57.179Z"
   },
   {
    "duration": 973,
    "start_time": "2022-07-07T08:52:57.193Z"
   },
   {
    "duration": 12,
    "start_time": "2022-07-07T08:52:58.168Z"
   },
   {
    "duration": 167,
    "start_time": "2022-07-07T08:52:58.181Z"
   },
   {
    "duration": 1143,
    "start_time": "2022-07-07T08:52:58.349Z"
   },
   {
    "duration": 2,
    "start_time": "2022-07-07T08:52:59.494Z"
   },
   {
    "duration": 9,
    "start_time": "2022-07-07T08:52:59.498Z"
   },
   {
    "duration": 12,
    "start_time": "2022-07-07T08:52:59.508Z"
   },
   {
    "duration": 341,
    "start_time": "2022-07-07T08:52:59.521Z"
   },
   {
    "duration": 377,
    "start_time": "2022-07-07T08:52:59.864Z"
   },
   {
    "duration": 11997,
    "start_time": "2022-07-07T08:53:00.243Z"
   },
   {
    "duration": 43583,
    "start_time": "2022-07-07T08:53:12.242Z"
   },
   {
    "duration": 0,
    "start_time": "2022-07-07T08:53:55.828Z"
   },
   {
    "duration": 0,
    "start_time": "2022-07-07T08:53:55.830Z"
   },
   {
    "duration": 131,
    "start_time": "2022-07-07T09:45:00.344Z"
   },
   {
    "duration": 316,
    "start_time": "2022-07-07T09:47:19.545Z"
   },
   {
    "duration": 8,
    "start_time": "2022-07-07T09:47:24.061Z"
   },
   {
    "duration": 4,
    "start_time": "2022-07-07T09:47:27.971Z"
   },
   {
    "duration": 14,
    "start_time": "2022-07-07T09:49:06.751Z"
   },
   {
    "duration": 2157,
    "start_time": "2022-07-07T09:50:50.358Z"
   },
   {
    "duration": 1290,
    "start_time": "2022-07-07T09:50:52.517Z"
   },
   {
    "duration": 638,
    "start_time": "2022-07-07T09:50:53.809Z"
   },
   {
    "duration": 5,
    "start_time": "2022-07-07T09:50:54.449Z"
   },
   {
    "duration": 1212,
    "start_time": "2022-07-07T09:50:54.461Z"
   },
   {
    "duration": 957,
    "start_time": "2022-07-07T09:50:55.675Z"
   },
   {
    "duration": 47,
    "start_time": "2022-07-07T09:50:56.636Z"
   },
   {
    "duration": 116,
    "start_time": "2022-07-07T09:50:56.686Z"
   },
   {
    "duration": 419,
    "start_time": "2022-07-07T09:50:56.805Z"
   },
   {
    "duration": 213,
    "start_time": "2022-07-07T09:50:57.227Z"
   },
   {
    "duration": 18,
    "start_time": "2022-07-07T09:50:57.442Z"
   },
   {
    "duration": 2149,
    "start_time": "2022-07-07T09:50:57.463Z"
   },
   {
    "duration": 2071,
    "start_time": "2022-07-07T09:50:59.614Z"
   },
   {
    "duration": 16,
    "start_time": "2022-07-07T09:51:01.688Z"
   },
   {
    "duration": 1421,
    "start_time": "2022-07-07T09:51:01.707Z"
   },
   {
    "duration": 13,
    "start_time": "2022-07-07T09:51:03.131Z"
   },
   {
    "duration": 189,
    "start_time": "2022-07-07T09:51:03.146Z"
   },
   {
    "duration": 1417,
    "start_time": "2022-07-07T09:51:03.336Z"
   },
   {
    "duration": 4,
    "start_time": "2022-07-07T09:51:04.754Z"
   },
   {
    "duration": 17,
    "start_time": "2022-07-07T09:51:04.761Z"
   },
   {
    "duration": 10,
    "start_time": "2022-07-07T09:51:04.781Z"
   },
   {
    "duration": 468,
    "start_time": "2022-07-07T09:51:04.793Z"
   },
   {
    "duration": 578,
    "start_time": "2022-07-07T09:51:05.264Z"
   },
   {
    "duration": 14421,
    "start_time": "2022-07-07T09:51:05.844Z"
   },
   {
    "duration": 42714,
    "start_time": "2022-07-07T09:51:20.267Z"
   },
   {
    "duration": 0,
    "start_time": "2022-07-07T09:52:02.984Z"
   },
   {
    "duration": 0,
    "start_time": "2022-07-07T09:52:02.985Z"
   },
   {
    "duration": 13,
    "start_time": "2022-07-07T09:52:32.442Z"
   },
   {
    "duration": 23,
    "start_time": "2022-07-07T09:52:48.790Z"
   },
   {
    "duration": 17,
    "start_time": "2022-07-07T09:52:55.979Z"
   },
   {
    "duration": 1809,
    "start_time": "2022-07-07T09:54:08.636Z"
   },
   {
    "duration": 13,
    "start_time": "2022-07-07T09:54:17.049Z"
   },
   {
    "duration": 23,
    "start_time": "2022-07-07T09:54:21.939Z"
   },
   {
    "duration": 13,
    "start_time": "2022-07-07T09:54:28.443Z"
   },
   {
    "duration": 254,
    "start_time": "2022-07-07T09:55:07.895Z"
   },
   {
    "duration": 19,
    "start_time": "2022-07-07T09:55:35.861Z"
   },
   {
    "duration": 18,
    "start_time": "2022-07-07T09:55:44.756Z"
   },
   {
    "duration": 260,
    "start_time": "2022-07-07T09:55:54.440Z"
   },
   {
    "duration": 174,
    "start_time": "2022-07-07T09:55:58.461Z"
   },
   {
    "duration": 306,
    "start_time": "2022-07-07T09:56:10.549Z"
   },
   {
    "duration": 378,
    "start_time": "2022-07-07T09:56:36.457Z"
   },
   {
    "duration": 335,
    "start_time": "2022-07-07T09:56:46.207Z"
   },
   {
    "duration": 424,
    "start_time": "2022-07-07T09:56:56.480Z"
   },
   {
    "duration": 902,
    "start_time": "2022-07-07T09:57:21.941Z"
   },
   {
    "duration": 6,
    "start_time": "2022-07-07T09:57:31.535Z"
   },
   {
    "duration": 994,
    "start_time": "2022-07-07T09:57:34.006Z"
   },
   {
    "duration": 7,
    "start_time": "2022-07-07T09:57:47.035Z"
   },
   {
    "duration": 17,
    "start_time": "2022-07-07T09:58:19.191Z"
   },
   {
    "duration": 17,
    "start_time": "2022-07-07T09:59:23.859Z"
   },
   {
    "duration": 4,
    "start_time": "2022-07-07T09:59:25.349Z"
   },
   {
    "duration": 13,
    "start_time": "2022-07-07T09:59:31.501Z"
   },
   {
    "duration": 23,
    "start_time": "2022-07-07T10:00:06.740Z"
   },
   {
    "duration": 4,
    "start_time": "2022-07-07T10:00:09.642Z"
   },
   {
    "duration": 12,
    "start_time": "2022-07-07T10:00:11.100Z"
   },
   {
    "duration": 4,
    "start_time": "2022-07-07T10:00:18.545Z"
   },
   {
    "duration": 9,
    "start_time": "2022-07-07T10:00:19.611Z"
   },
   {
    "duration": 5,
    "start_time": "2022-07-07T10:00:47.178Z"
   },
   {
    "duration": 8,
    "start_time": "2022-07-07T10:00:48.788Z"
   },
   {
    "duration": 5,
    "start_time": "2022-07-07T10:00:57.932Z"
   },
   {
    "duration": 10,
    "start_time": "2022-07-07T10:01:00.635Z"
   },
   {
    "duration": 6,
    "start_time": "2022-07-07T10:01:07.538Z"
   },
   {
    "duration": 18,
    "start_time": "2022-07-07T10:01:08.447Z"
   },
   {
    "duration": 6,
    "start_time": "2022-07-07T10:01:14.023Z"
   },
   {
    "duration": 12,
    "start_time": "2022-07-07T10:01:15.356Z"
   },
   {
    "duration": 6,
    "start_time": "2022-07-07T10:01:24.434Z"
   },
   {
    "duration": 21,
    "start_time": "2022-07-07T10:01:26.546Z"
   },
   {
    "duration": 14,
    "start_time": "2022-07-07T10:01:31.699Z"
   },
   {
    "duration": 7,
    "start_time": "2022-07-07T10:01:43.096Z"
   },
   {
    "duration": 23,
    "start_time": "2022-07-07T10:01:45.678Z"
   },
   {
    "duration": 10,
    "start_time": "2022-07-07T10:01:54.756Z"
   },
   {
    "duration": 15,
    "start_time": "2022-07-07T10:03:38.844Z"
   },
   {
    "duration": 296,
    "start_time": "2022-07-07T10:03:48.379Z"
   },
   {
    "duration": 224,
    "start_time": "2022-07-07T10:03:55.222Z"
   },
   {
    "duration": 7,
    "start_time": "2022-07-07T10:04:41.857Z"
   },
   {
    "duration": 3,
    "start_time": "2022-07-07T10:04:43.825Z"
   },
   {
    "duration": 3,
    "start_time": "2022-07-07T10:04:46.996Z"
   },
   {
    "duration": 5,
    "start_time": "2022-07-07T10:04:48.830Z"
   },
   {
    "duration": 3,
    "start_time": "2022-07-07T10:04:50.142Z"
   },
   {
    "duration": 6,
    "start_time": "2022-07-07T10:04:57.080Z"
   },
   {
    "duration": 10,
    "start_time": "2022-07-07T10:05:02.421Z"
   },
   {
    "duration": 9,
    "start_time": "2022-07-07T10:05:09.372Z"
   },
   {
    "duration": 15,
    "start_time": "2022-07-07T10:05:13.791Z"
   },
   {
    "duration": 12,
    "start_time": "2022-07-07T10:05:18.435Z"
   },
   {
    "duration": 33,
    "start_time": "2022-07-07T10:07:32.750Z"
   },
   {
    "duration": 23,
    "start_time": "2022-07-07T10:08:54.535Z"
   },
   {
    "duration": 1171,
    "start_time": "2022-07-07T10:09:59.729Z"
   },
   {
    "duration": 1113,
    "start_time": "2022-07-07T10:10:09.699Z"
   },
   {
    "duration": 10,
    "start_time": "2022-07-07T10:10:56.423Z"
   },
   {
    "duration": 24,
    "start_time": "2022-07-07T10:11:02.859Z"
   },
   {
    "duration": 13,
    "start_time": "2022-07-07T10:11:11.237Z"
   },
   {
    "duration": 176,
    "start_time": "2022-07-07T10:11:33.305Z"
   },
   {
    "duration": 195,
    "start_time": "2022-07-07T10:11:40.607Z"
   },
   {
    "duration": 187,
    "start_time": "2022-07-07T10:11:55.920Z"
   },
   {
    "duration": 4676,
    "start_time": "2022-07-07T10:12:42.324Z"
   },
   {
    "duration": 1248,
    "start_time": "2022-07-07T10:13:05.773Z"
   },
   {
    "duration": 208,
    "start_time": "2022-07-07T10:13:33.260Z"
   },
   {
    "duration": 209,
    "start_time": "2022-07-07T10:17:07.182Z"
   },
   {
    "duration": 205,
    "start_time": "2022-07-07T10:17:29.901Z"
   },
   {
    "duration": 360,
    "start_time": "2022-07-07T10:17:44.077Z"
   },
   {
    "duration": 165,
    "start_time": "2022-07-07T10:18:52.473Z"
   },
   {
    "duration": 172,
    "start_time": "2022-07-07T10:19:01.993Z"
   },
   {
    "duration": 175,
    "start_time": "2022-07-07T10:19:10.459Z"
   },
   {
    "duration": 8,
    "start_time": "2022-07-07T10:19:29.251Z"
   },
   {
    "duration": 14,
    "start_time": "2022-07-07T10:19:42.156Z"
   },
   {
    "duration": 15,
    "start_time": "2022-07-07T10:20:03.438Z"
   },
   {
    "duration": 11,
    "start_time": "2022-07-07T10:20:13.535Z"
   },
   {
    "duration": 991,
    "start_time": "2022-07-07T10:20:33.562Z"
   },
   {
    "duration": 873,
    "start_time": "2022-07-07T10:20:43.559Z"
   },
   {
    "duration": 970,
    "start_time": "2022-07-07T10:20:55.695Z"
   },
   {
    "duration": 12,
    "start_time": "2022-07-07T10:21:06.479Z"
   },
   {
    "duration": 12,
    "start_time": "2022-07-07T10:23:03.479Z"
   },
   {
    "duration": 16,
    "start_time": "2022-07-07T10:23:17.158Z"
   },
   {
    "duration": 15,
    "start_time": "2022-07-07T10:23:32.177Z"
   },
   {
    "duration": 13,
    "start_time": "2022-07-07T10:23:43.629Z"
   },
   {
    "duration": 21,
    "start_time": "2022-07-07T10:25:32.442Z"
   },
   {
    "duration": 30,
    "start_time": "2022-07-07T10:25:48.137Z"
   },
   {
    "duration": 16,
    "start_time": "2022-07-07T10:26:11.796Z"
   },
   {
    "duration": 9,
    "start_time": "2022-07-07T10:26:31.493Z"
   },
   {
    "duration": 151,
    "start_time": "2022-07-07T10:27:22.563Z"
   },
   {
    "duration": 153,
    "start_time": "2022-07-07T10:27:35.120Z"
   },
   {
    "duration": 145,
    "start_time": "2022-07-07T10:28:22.173Z"
   },
   {
    "duration": 152,
    "start_time": "2022-07-07T10:28:32.836Z"
   },
   {
    "duration": 171,
    "start_time": "2022-07-07T10:29:10.832Z"
   },
   {
    "duration": 48,
    "start_time": "2022-07-07T10:29:32.424Z"
   },
   {
    "duration": 157,
    "start_time": "2022-07-07T10:29:35.736Z"
   },
   {
    "duration": 163,
    "start_time": "2022-07-07T10:29:56.882Z"
   },
   {
    "duration": 176,
    "start_time": "2022-07-07T10:31:51.341Z"
   },
   {
    "duration": 188,
    "start_time": "2022-07-07T10:32:22.023Z"
   },
   {
    "duration": 245,
    "start_time": "2022-07-07T10:32:37.235Z"
   },
   {
    "duration": 315,
    "start_time": "2022-07-07T10:32:48.405Z"
   },
   {
    "duration": 192,
    "start_time": "2022-07-07T10:33:28.291Z"
   },
   {
    "duration": 198,
    "start_time": "2022-07-07T10:34:11.980Z"
   },
   {
    "duration": 211,
    "start_time": "2022-07-07T10:34:32.072Z"
   },
   {
    "duration": 197,
    "start_time": "2022-07-07T10:47:56.367Z"
   },
   {
    "duration": 235,
    "start_time": "2022-07-07T10:48:32.698Z"
   },
   {
    "duration": 313,
    "start_time": "2022-07-07T10:48:38.681Z"
   },
   {
    "duration": 230,
    "start_time": "2022-07-07T10:48:53.247Z"
   },
   {
    "duration": 227,
    "start_time": "2022-07-07T10:49:11.663Z"
   },
   {
    "duration": 327,
    "start_time": "2022-07-07T10:49:55.332Z"
   },
   {
    "duration": 302,
    "start_time": "2022-07-07T10:50:10.966Z"
   },
   {
    "duration": 309,
    "start_time": "2022-07-07T10:50:15.551Z"
   },
   {
    "duration": 78,
    "start_time": "2022-07-07T13:50:22.454Z"
   },
   {
    "duration": 17,
    "start_time": "2022-07-07T13:50:42.874Z"
   },
   {
    "duration": 22,
    "start_time": "2022-07-07T13:51:13.558Z"
   },
   {
    "duration": 12,
    "start_time": "2022-07-07T13:52:15.658Z"
   },
   {
    "duration": 79,
    "start_time": "2022-07-07T13:52:37.754Z"
   },
   {
    "duration": 329,
    "start_time": "2022-07-07T13:52:48.880Z"
   },
   {
    "duration": 11,
    "start_time": "2022-07-07T13:53:00.643Z"
   },
   {
    "duration": 18,
    "start_time": "2022-07-07T13:55:53.290Z"
   },
   {
    "duration": 21,
    "start_time": "2022-07-07T13:56:22.623Z"
   },
   {
    "duration": 12,
    "start_time": "2022-07-07T14:00:54.562Z"
   },
   {
    "duration": 25,
    "start_time": "2022-07-07T14:01:11.550Z"
   },
   {
    "duration": 31,
    "start_time": "2022-07-07T14:01:16.256Z"
   },
   {
    "duration": 110,
    "start_time": "2022-07-07T14:01:42.786Z"
   },
   {
    "duration": 155,
    "start_time": "2022-07-07T14:02:23.544Z"
   },
   {
    "duration": 13,
    "start_time": "2022-07-07T14:02:33.065Z"
   },
   {
    "duration": 24,
    "start_time": "2022-07-07T14:03:30.555Z"
   },
   {
    "duration": 15,
    "start_time": "2022-07-07T14:03:57.985Z"
   },
   {
    "duration": 12,
    "start_time": "2022-07-07T14:04:06.016Z"
   },
   {
    "duration": 12,
    "start_time": "2022-07-07T14:04:42.594Z"
   },
   {
    "duration": 23,
    "start_time": "2022-07-07T14:05:26.368Z"
   },
   {
    "duration": 14,
    "start_time": "2022-07-07T14:05:39.873Z"
   },
   {
    "duration": 60,
    "start_time": "2022-07-07T14:07:54.311Z"
   },
   {
    "duration": 15,
    "start_time": "2022-07-07T14:07:59.957Z"
   },
   {
    "duration": 15,
    "start_time": "2022-07-07T14:10:16.327Z"
   },
   {
    "duration": 15,
    "start_time": "2022-07-07T14:10:33.218Z"
   },
   {
    "duration": 15,
    "start_time": "2022-07-07T14:10:43.209Z"
   },
   {
    "duration": 33,
    "start_time": "2022-07-07T14:11:22.148Z"
   },
   {
    "duration": 212,
    "start_time": "2022-07-07T14:11:54.696Z"
   },
   {
    "duration": 201,
    "start_time": "2022-07-07T14:12:11.582Z"
   },
   {
    "duration": 204,
    "start_time": "2022-07-07T14:12:14.283Z"
   },
   {
    "duration": 227,
    "start_time": "2022-07-07T14:12:21.247Z"
   },
   {
    "duration": 6,
    "start_time": "2022-07-07T14:12:56.696Z"
   },
   {
    "duration": 198,
    "start_time": "2022-07-07T14:13:01.481Z"
   },
   {
    "duration": 6,
    "start_time": "2022-07-07T14:13:38.875Z"
   },
   {
    "duration": 191,
    "start_time": "2022-07-07T14:13:40.179Z"
   },
   {
    "duration": 398,
    "start_time": "2022-07-07T14:13:42.025Z"
   },
   {
    "duration": 12610,
    "start_time": "2022-07-07T14:13:44.850Z"
   },
   {
    "duration": 5,
    "start_time": "2022-07-07T14:14:03.823Z"
   },
   {
    "duration": 182,
    "start_time": "2022-07-07T14:14:06.630Z"
   },
   {
    "duration": 33,
    "start_time": "2022-07-07T14:14:33.652Z"
   },
   {
    "duration": 8,
    "start_time": "2022-07-07T14:15:08.908Z"
   },
   {
    "duration": 17,
    "start_time": "2022-07-07T14:15:11.949Z"
   },
   {
    "duration": 54,
    "start_time": "2022-07-07T14:18:24.035Z"
   },
   {
    "duration": 9,
    "start_time": "2022-07-07T14:18:36.345Z"
   },
   {
    "duration": 11,
    "start_time": "2022-07-07T14:18:49.576Z"
   },
   {
    "duration": 189,
    "start_time": "2022-07-07T14:19:27.949Z"
   },
   {
    "duration": 195,
    "start_time": "2022-07-07T14:19:39.832Z"
   },
   {
    "duration": 8,
    "start_time": "2022-07-07T14:19:58.997Z"
   },
   {
    "duration": 200,
    "start_time": "2022-07-07T14:19:59.550Z"
   },
   {
    "duration": 152,
    "start_time": "2022-07-07T14:20:00.353Z"
   },
   {
    "duration": 10,
    "start_time": "2022-07-07T14:20:13.314Z"
   },
   {
    "duration": 179,
    "start_time": "2022-07-07T14:20:14.173Z"
   },
   {
    "duration": 178,
    "start_time": "2022-07-07T14:20:16.148Z"
   },
   {
    "duration": 8,
    "start_time": "2022-07-07T14:20:46.141Z"
   },
   {
    "duration": 165,
    "start_time": "2022-07-07T14:20:48.958Z"
   },
   {
    "duration": 11,
    "start_time": "2022-07-07T14:21:37.177Z"
   },
   {
    "duration": 139,
    "start_time": "2022-07-07T14:21:39.077Z"
   },
   {
    "duration": 6,
    "start_time": "2022-07-07T14:23:04.978Z"
   },
   {
    "duration": 286,
    "start_time": "2022-07-07T14:23:07.407Z"
   },
   {
    "duration": 15,
    "start_time": "2022-07-07T14:23:40.758Z"
   },
   {
    "duration": 151,
    "start_time": "2022-07-07T14:23:42.552Z"
   },
   {
    "duration": 6,
    "start_time": "2022-07-07T14:23:55.449Z"
   },
   {
    "duration": 151,
    "start_time": "2022-07-07T14:23:58.085Z"
   },
   {
    "duration": 10,
    "start_time": "2022-07-07T14:24:16.827Z"
   },
   {
    "duration": 140,
    "start_time": "2022-07-07T14:24:18.792Z"
   },
   {
    "duration": 7,
    "start_time": "2022-07-07T14:25:04.852Z"
   },
   {
    "duration": 175,
    "start_time": "2022-07-07T14:25:07.052Z"
   },
   {
    "duration": 13,
    "start_time": "2022-07-07T14:25:23.360Z"
   },
   {
    "duration": 211,
    "start_time": "2022-07-07T14:25:26.399Z"
   },
   {
    "duration": 5,
    "start_time": "2022-07-07T14:26:23.381Z"
   },
   {
    "duration": 181,
    "start_time": "2022-07-07T14:26:24.981Z"
   },
   {
    "duration": 5,
    "start_time": "2022-07-07T14:27:29.316Z"
   },
   {
    "duration": 165,
    "start_time": "2022-07-07T14:27:29.823Z"
   },
   {
    "duration": 235,
    "start_time": "2022-07-07T14:27:31.794Z"
   },
   {
    "duration": 11,
    "start_time": "2022-07-07T14:27:59.558Z"
   },
   {
    "duration": 170,
    "start_time": "2022-07-07T14:28:00.066Z"
   },
   {
    "duration": 184,
    "start_time": "2022-07-07T14:28:01.151Z"
   },
   {
    "duration": 5,
    "start_time": "2022-07-07T14:28:26.491Z"
   },
   {
    "duration": 174,
    "start_time": "2022-07-07T14:28:27.055Z"
   },
   {
    "duration": 5,
    "start_time": "2022-07-07T14:28:40.488Z"
   },
   {
    "duration": 175,
    "start_time": "2022-07-07T14:28:40.883Z"
   },
   {
    "duration": 179,
    "start_time": "2022-07-07T14:28:41.750Z"
   },
   {
    "duration": 21,
    "start_time": "2022-07-07T14:32:23.857Z"
   },
   {
    "duration": 201,
    "start_time": "2022-07-07T14:32:25.270Z"
   },
   {
    "duration": 5,
    "start_time": "2022-07-07T14:32:37.001Z"
   },
   {
    "duration": 333,
    "start_time": "2022-07-07T14:32:37.443Z"
   },
   {
    "duration": 5,
    "start_time": "2022-07-07T14:32:59.022Z"
   },
   {
    "duration": 185,
    "start_time": "2022-07-07T14:32:59.471Z"
   },
   {
    "duration": 153,
    "start_time": "2022-07-07T14:33:02.276Z"
   },
   {
    "duration": 5,
    "start_time": "2022-07-07T14:33:11.550Z"
   },
   {
    "duration": 193,
    "start_time": "2022-07-07T14:33:11.890Z"
   },
   {
    "duration": 161,
    "start_time": "2022-07-07T14:33:13.950Z"
   },
   {
    "duration": 6,
    "start_time": "2022-07-07T14:33:51.413Z"
   },
   {
    "duration": 288,
    "start_time": "2022-07-07T14:33:51.982Z"
   },
   {
    "duration": 271,
    "start_time": "2022-07-07T14:33:59.013Z"
   },
   {
    "duration": 10,
    "start_time": "2022-07-07T14:34:47.189Z"
   },
   {
    "duration": 262,
    "start_time": "2022-07-07T14:34:47.617Z"
   },
   {
    "duration": 9,
    "start_time": "2022-07-07T14:35:08.280Z"
   },
   {
    "duration": 349,
    "start_time": "2022-07-07T14:35:08.886Z"
   },
   {
    "duration": 229,
    "start_time": "2022-07-07T14:35:09.856Z"
   },
   {
    "duration": 6,
    "start_time": "2022-07-07T14:35:15.512Z"
   },
   {
    "duration": 303,
    "start_time": "2022-07-07T14:35:15.980Z"
   },
   {
    "duration": 295,
    "start_time": "2022-07-07T14:35:16.386Z"
   },
   {
    "duration": 11,
    "start_time": "2022-07-07T14:35:30.573Z"
   },
   {
    "duration": 226,
    "start_time": "2022-07-07T14:35:31.199Z"
   },
   {
    "duration": 332,
    "start_time": "2022-07-07T14:35:32.072Z"
   },
   {
    "duration": 9,
    "start_time": "2022-07-07T14:36:27.089Z"
   },
   {
    "duration": 9,
    "start_time": "2022-07-07T14:36:35.352Z"
   },
   {
    "duration": 8,
    "start_time": "2022-07-07T14:37:14.700Z"
   },
   {
    "duration": 257,
    "start_time": "2022-07-07T14:37:15.717Z"
   },
   {
    "duration": 376,
    "start_time": "2022-07-07T14:37:16.904Z"
   },
   {
    "duration": 12229,
    "start_time": "2022-07-07T14:37:17.953Z"
   },
   {
    "duration": 5,
    "start_time": "2022-07-07T14:37:53.617Z"
   },
   {
    "duration": 235,
    "start_time": "2022-07-07T14:37:54.561Z"
   },
   {
    "duration": 179,
    "start_time": "2022-07-07T14:37:56.975Z"
   },
   {
    "duration": 6,
    "start_time": "2022-07-07T14:41:33.924Z"
   },
   {
    "duration": 227,
    "start_time": "2022-07-07T14:41:35.476Z"
   },
   {
    "duration": 182,
    "start_time": "2022-07-07T14:41:38.301Z"
   },
   {
    "duration": 6,
    "start_time": "2022-07-07T14:41:50.420Z"
   },
   {
    "duration": 219,
    "start_time": "2022-07-07T14:41:50.895Z"
   },
   {
    "duration": 181,
    "start_time": "2022-07-07T14:41:51.773Z"
   },
   {
    "duration": 7,
    "start_time": "2022-07-07T14:42:16.341Z"
   },
   {
    "duration": 222,
    "start_time": "2022-07-07T14:42:16.899Z"
   },
   {
    "duration": 214,
    "start_time": "2022-07-07T14:42:17.961Z"
   },
   {
    "duration": 21,
    "start_time": "2022-07-07T14:42:40.475Z"
   },
   {
    "duration": 212,
    "start_time": "2022-07-07T14:42:40.912Z"
   },
   {
    "duration": 201,
    "start_time": "2022-07-07T14:42:43.273Z"
   },
   {
    "duration": 6,
    "start_time": "2022-07-07T14:42:52.490Z"
   },
   {
    "duration": 207,
    "start_time": "2022-07-07T14:42:52.894Z"
   },
   {
    "duration": 190,
    "start_time": "2022-07-07T14:42:55.594Z"
   },
   {
    "duration": 168,
    "start_time": "2022-07-07T14:43:06.031Z"
   },
   {
    "duration": 270,
    "start_time": "2022-07-07T14:43:08.803Z"
   },
   {
    "duration": 200,
    "start_time": "2022-07-07T14:43:11.948Z"
   },
   {
    "duration": 6,
    "start_time": "2022-07-07T14:43:24.010Z"
   },
   {
    "duration": 221,
    "start_time": "2022-07-07T14:43:24.996Z"
   },
   {
    "duration": 245,
    "start_time": "2022-07-07T14:43:26.254Z"
   },
   {
    "duration": 9,
    "start_time": "2022-07-07T14:43:36.196Z"
   },
   {
    "duration": 230,
    "start_time": "2022-07-07T14:43:36.612Z"
   },
   {
    "duration": 6,
    "start_time": "2022-07-07T14:43:43.591Z"
   },
   {
    "duration": 221,
    "start_time": "2022-07-07T14:43:43.999Z"
   },
   {
    "duration": 199,
    "start_time": "2022-07-07T14:43:45.148Z"
   },
   {
    "duration": 1444,
    "start_time": "2022-07-07T14:45:40.103Z"
   },
   {
    "duration": 948,
    "start_time": "2022-07-07T14:45:41.549Z"
   },
   {
    "duration": 557,
    "start_time": "2022-07-07T14:45:42.498Z"
   },
   {
    "duration": 8,
    "start_time": "2022-07-07T14:45:43.057Z"
   },
   {
    "duration": 1145,
    "start_time": "2022-07-07T14:45:43.068Z"
   },
   {
    "duration": 811,
    "start_time": "2022-07-07T14:45:44.215Z"
   },
   {
    "duration": 23,
    "start_time": "2022-07-07T14:45:45.028Z"
   },
   {
    "duration": 95,
    "start_time": "2022-07-07T14:45:45.060Z"
   },
   {
    "duration": 331,
    "start_time": "2022-07-07T14:45:45.157Z"
   },
   {
    "duration": 133,
    "start_time": "2022-07-07T14:45:45.491Z"
   },
   {
    "duration": 8,
    "start_time": "2022-07-07T14:45:45.626Z"
   },
   {
    "duration": 1768,
    "start_time": "2022-07-07T14:45:45.636Z"
   },
   {
    "duration": 1938,
    "start_time": "2022-07-07T14:45:47.406Z"
   },
   {
    "duration": 30,
    "start_time": "2022-07-07T14:45:49.346Z"
   },
   {
    "duration": 1077,
    "start_time": "2022-07-07T14:45:49.378Z"
   },
   {
    "duration": 20,
    "start_time": "2022-07-07T14:45:50.457Z"
   },
   {
    "duration": 204,
    "start_time": "2022-07-07T14:45:50.479Z"
   },
   {
    "duration": 1259,
    "start_time": "2022-07-07T14:45:50.685Z"
   },
   {
    "duration": 2,
    "start_time": "2022-07-07T14:45:51.946Z"
   },
   {
    "duration": 9,
    "start_time": "2022-07-07T14:45:51.950Z"
   },
   {
    "duration": 18,
    "start_time": "2022-07-07T14:45:51.967Z"
   },
   {
    "duration": 177,
    "start_time": "2022-07-07T14:45:51.986Z"
   },
   {
    "duration": 440,
    "start_time": "2022-07-07T14:45:52.165Z"
   },
   {
    "duration": 12511,
    "start_time": "2022-07-07T14:45:52.606Z"
   },
   {
    "duration": 5,
    "start_time": "2022-07-07T14:46:05.119Z"
   },
   {
    "duration": 273,
    "start_time": "2022-07-07T14:46:05.126Z"
   },
   {
    "duration": 205,
    "start_time": "2022-07-07T14:46:05.401Z"
   },
   {
    "duration": 44345,
    "start_time": "2022-07-07T14:46:05.609Z"
   },
   {
    "duration": 0,
    "start_time": "2022-07-07T14:46:49.956Z"
   },
   {
    "duration": 0,
    "start_time": "2022-07-07T14:46:49.957Z"
   },
   {
    "duration": 6,
    "start_time": "2022-07-07T14:59:00.882Z"
   },
   {
    "duration": 218,
    "start_time": "2022-07-07T14:59:01.497Z"
   },
   {
    "duration": 301,
    "start_time": "2022-07-07T14:59:04.217Z"
   },
   {
    "duration": 6,
    "start_time": "2022-07-07T14:59:45.222Z"
   },
   {
    "duration": 261,
    "start_time": "2022-07-07T14:59:46.393Z"
   },
   {
    "duration": 190,
    "start_time": "2022-07-07T14:59:47.585Z"
   },
   {
    "duration": 10,
    "start_time": "2022-07-07T15:07:18.143Z"
   },
   {
    "duration": 11,
    "start_time": "2022-07-07T15:07:56.625Z"
   },
   {
    "duration": 12,
    "start_time": "2022-07-07T15:08:21.543Z"
   },
   {
    "duration": 1496,
    "start_time": "2022-07-07T15:21:20.193Z"
   },
   {
    "duration": 984,
    "start_time": "2022-07-07T15:21:21.691Z"
   },
   {
    "duration": 594,
    "start_time": "2022-07-07T15:21:22.679Z"
   },
   {
    "duration": 4,
    "start_time": "2022-07-07T15:21:23.275Z"
   },
   {
    "duration": 1137,
    "start_time": "2022-07-07T15:21:23.281Z"
   },
   {
    "duration": 836,
    "start_time": "2022-07-07T15:21:24.420Z"
   },
   {
    "duration": 35,
    "start_time": "2022-07-07T15:21:25.258Z"
   },
   {
    "duration": 84,
    "start_time": "2022-07-07T15:21:25.295Z"
   },
   {
    "duration": 364,
    "start_time": "2022-07-07T15:21:25.382Z"
   },
   {
    "duration": 145,
    "start_time": "2022-07-07T15:21:25.750Z"
   },
   {
    "duration": 8,
    "start_time": "2022-07-07T15:21:25.897Z"
   },
   {
    "duration": 1772,
    "start_time": "2022-07-07T15:21:25.907Z"
   },
   {
    "duration": 2086,
    "start_time": "2022-07-07T15:21:27.683Z"
   },
   {
    "duration": 16,
    "start_time": "2022-07-07T15:21:29.775Z"
   },
   {
    "duration": 1215,
    "start_time": "2022-07-07T15:21:29.793Z"
   },
   {
    "duration": 13,
    "start_time": "2022-07-07T15:21:31.010Z"
   },
   {
    "duration": 205,
    "start_time": "2022-07-07T15:21:31.025Z"
   },
   {
    "duration": 1270,
    "start_time": "2022-07-07T15:21:31.232Z"
   },
   {
    "duration": 3,
    "start_time": "2022-07-07T15:21:32.505Z"
   },
   {
    "duration": 7,
    "start_time": "2022-07-07T15:21:32.510Z"
   },
   {
    "duration": 6,
    "start_time": "2022-07-07T15:21:32.518Z"
   },
   {
    "duration": 254,
    "start_time": "2022-07-07T15:21:32.525Z"
   },
   {
    "duration": 402,
    "start_time": "2022-07-07T15:21:32.780Z"
   },
   {
    "duration": 12757,
    "start_time": "2022-07-07T15:21:33.184Z"
   },
   {
    "duration": 8,
    "start_time": "2022-07-07T15:21:45.944Z"
   },
   {
    "duration": 238,
    "start_time": "2022-07-07T15:21:45.960Z"
   },
   {
    "duration": 253,
    "start_time": "2022-07-07T15:21:46.200Z"
   },
   {
    "duration": 165,
    "start_time": "2022-07-07T15:21:46.463Z"
   },
   {
    "duration": 0,
    "start_time": "2022-07-07T15:21:46.630Z"
   },
   {
    "duration": 0,
    "start_time": "2022-07-07T15:21:46.632Z"
   },
   {
    "duration": 0,
    "start_time": "2022-07-07T15:21:46.634Z"
   },
   {
    "duration": 1397,
    "start_time": "2022-07-07T15:50:28.716Z"
   },
   {
    "duration": 921,
    "start_time": "2022-07-07T15:50:30.115Z"
   },
   {
    "duration": 565,
    "start_time": "2022-07-07T15:50:31.038Z"
   },
   {
    "duration": 4,
    "start_time": "2022-07-07T15:50:31.606Z"
   },
   {
    "duration": 1207,
    "start_time": "2022-07-07T15:50:31.613Z"
   },
   {
    "duration": 782,
    "start_time": "2022-07-07T15:50:32.821Z"
   },
   {
    "duration": 21,
    "start_time": "2022-07-07T15:50:33.604Z"
   },
   {
    "duration": 81,
    "start_time": "2022-07-07T15:50:33.626Z"
   },
   {
    "duration": 321,
    "start_time": "2022-07-07T15:50:33.709Z"
   },
   {
    "duration": 136,
    "start_time": "2022-07-07T15:50:34.032Z"
   },
   {
    "duration": 8,
    "start_time": "2022-07-07T15:50:34.170Z"
   },
   {
    "duration": 1586,
    "start_time": "2022-07-07T15:50:34.180Z"
   },
   {
    "duration": 1944,
    "start_time": "2022-07-07T15:50:35.768Z"
   },
   {
    "duration": 13,
    "start_time": "2022-07-07T15:50:37.715Z"
   },
   {
    "duration": 1126,
    "start_time": "2022-07-07T15:50:37.729Z"
   },
   {
    "duration": 32,
    "start_time": "2022-07-07T15:50:38.857Z"
   },
   {
    "duration": 210,
    "start_time": "2022-07-07T15:50:38.891Z"
   },
   {
    "duration": 1233,
    "start_time": "2022-07-07T15:50:39.103Z"
   },
   {
    "duration": 3,
    "start_time": "2022-07-07T15:50:40.338Z"
   },
   {
    "duration": 12,
    "start_time": "2022-07-07T15:50:40.343Z"
   },
   {
    "duration": 10,
    "start_time": "2022-07-07T15:50:40.357Z"
   },
   {
    "duration": 218,
    "start_time": "2022-07-07T15:50:40.374Z"
   },
   {
    "duration": 389,
    "start_time": "2022-07-07T15:50:40.661Z"
   },
   {
    "duration": 12306,
    "start_time": "2022-07-07T15:50:41.052Z"
   },
   {
    "duration": 8,
    "start_time": "2022-07-07T15:50:53.359Z"
   },
   {
    "duration": 227,
    "start_time": "2022-07-07T15:50:53.370Z"
   },
   {
    "duration": 189,
    "start_time": "2022-07-07T15:50:53.599Z"
   },
   {
    "duration": 1594,
    "start_time": "2022-07-07T18:35:59.185Z"
   },
   {
    "duration": 966,
    "start_time": "2022-07-07T18:36:00.781Z"
   },
   {
    "duration": 590,
    "start_time": "2022-07-07T18:36:01.748Z"
   },
   {
    "duration": 5,
    "start_time": "2022-07-07T18:36:02.340Z"
   },
   {
    "duration": 1155,
    "start_time": "2022-07-07T18:36:02.348Z"
   },
   {
    "duration": 780,
    "start_time": "2022-07-07T18:36:03.508Z"
   },
   {
    "duration": 24,
    "start_time": "2022-07-07T18:36:04.290Z"
   },
   {
    "duration": 89,
    "start_time": "2022-07-07T18:36:04.316Z"
   },
   {
    "duration": 350,
    "start_time": "2022-07-07T18:36:04.407Z"
   },
   {
    "duration": 197,
    "start_time": "2022-07-07T18:36:04.760Z"
   },
   {
    "duration": 9,
    "start_time": "2022-07-07T18:36:04.961Z"
   },
   {
    "duration": 1792,
    "start_time": "2022-07-07T18:36:04.972Z"
   },
   {
    "duration": 2100,
    "start_time": "2022-07-07T18:36:06.766Z"
   },
   {
    "duration": 22,
    "start_time": "2022-07-07T18:36:08.871Z"
   },
   {
    "duration": 1122,
    "start_time": "2022-07-07T18:36:08.896Z"
   },
   {
    "duration": 14,
    "start_time": "2022-07-07T18:36:10.022Z"
   },
   {
    "duration": 239,
    "start_time": "2022-07-07T18:36:10.038Z"
   },
   {
    "duration": 1252,
    "start_time": "2022-07-07T18:36:10.280Z"
   },
   {
    "duration": 3,
    "start_time": "2022-07-07T18:36:11.534Z"
   },
   {
    "duration": 19,
    "start_time": "2022-07-07T18:36:11.539Z"
   },
   {
    "duration": 39,
    "start_time": "2022-07-07T18:36:11.560Z"
   },
   {
    "duration": 264,
    "start_time": "2022-07-07T18:36:11.600Z"
   },
   {
    "duration": 380,
    "start_time": "2022-07-07T18:36:11.866Z"
   },
   {
    "duration": 12132,
    "start_time": "2022-07-07T18:36:12.248Z"
   },
   {
    "duration": 6,
    "start_time": "2022-07-07T18:36:24.382Z"
   },
   {
    "duration": 224,
    "start_time": "2022-07-07T18:36:24.389Z"
   },
   {
    "duration": 208,
    "start_time": "2022-07-07T18:36:24.615Z"
   },
   {
    "duration": 1479,
    "start_time": "2022-07-07T18:56:45.918Z"
   },
   {
    "duration": 844,
    "start_time": "2022-07-07T18:56:47.400Z"
   },
   {
    "duration": 544,
    "start_time": "2022-07-07T18:56:48.245Z"
   },
   {
    "duration": 6,
    "start_time": "2022-07-07T18:56:48.792Z"
   },
   {
    "duration": 1000,
    "start_time": "2022-07-07T18:56:48.800Z"
   },
   {
    "duration": 734,
    "start_time": "2022-07-07T18:56:49.802Z"
   },
   {
    "duration": 26,
    "start_time": "2022-07-07T18:56:50.538Z"
   },
   {
    "duration": 60,
    "start_time": "2022-07-07T18:56:50.566Z"
   },
   {
    "duration": 310,
    "start_time": "2022-07-07T18:56:50.628Z"
   },
   {
    "duration": 149,
    "start_time": "2022-07-07T18:56:50.940Z"
   },
   {
    "duration": 7,
    "start_time": "2022-07-07T18:56:51.091Z"
   },
   {
    "duration": 1496,
    "start_time": "2022-07-07T18:56:51.099Z"
   },
   {
    "duration": 1704,
    "start_time": "2022-07-07T18:56:52.597Z"
   },
   {
    "duration": 13,
    "start_time": "2022-07-07T18:56:54.304Z"
   },
   {
    "duration": 1010,
    "start_time": "2022-07-07T18:56:54.318Z"
   },
   {
    "duration": 12,
    "start_time": "2022-07-07T18:56:55.331Z"
   },
   {
    "duration": 174,
    "start_time": "2022-07-07T18:56:55.345Z"
   },
   {
    "duration": 1263,
    "start_time": "2022-07-07T18:56:55.521Z"
   },
   {
    "duration": 2,
    "start_time": "2022-07-07T18:56:56.786Z"
   },
   {
    "duration": 23,
    "start_time": "2022-07-07T18:56:56.790Z"
   },
   {
    "duration": 20,
    "start_time": "2022-07-07T18:56:56.815Z"
   },
   {
    "duration": 233,
    "start_time": "2022-07-07T18:56:56.836Z"
   },
   {
    "duration": 246,
    "start_time": "2022-07-07T18:56:57.071Z"
   },
   {
    "duration": 53,
    "start_time": "2022-07-07T18:56:57.319Z"
   },
   {
    "duration": 69,
    "start_time": "2022-07-07T18:56:57.374Z"
   },
   {
    "duration": 54,
    "start_time": "2022-07-07T18:56:57.445Z"
   },
   {
    "duration": 8,
    "start_time": "2022-07-07T18:56:57.502Z"
   },
   {
    "duration": 17,
    "start_time": "2022-07-07T18:56:57.512Z"
   },
   {
    "duration": 0,
    "start_time": "2022-07-07T18:56:57.531Z"
   },
   {
    "duration": 0,
    "start_time": "2022-07-07T18:56:57.533Z"
   },
   {
    "duration": 0,
    "start_time": "2022-07-07T18:56:57.535Z"
   },
   {
    "duration": 0,
    "start_time": "2022-07-07T18:56:57.536Z"
   },
   {
    "duration": 1,
    "start_time": "2022-07-07T18:56:57.537Z"
   },
   {
    "duration": 86407,
    "start_time": "2022-07-07T18:57:31.218Z"
   },
   {
    "duration": 149113,
    "start_time": "2022-07-07T19:00:46.999Z"
   },
   {
    "duration": 1587,
    "start_time": "2022-07-07T19:04:05.764Z"
   },
   {
    "duration": 907,
    "start_time": "2022-07-07T19:04:07.353Z"
   },
   {
    "duration": 668,
    "start_time": "2022-07-07T19:04:08.262Z"
   },
   {
    "duration": 4,
    "start_time": "2022-07-07T19:04:08.933Z"
   },
   {
    "duration": 1087,
    "start_time": "2022-07-07T19:04:08.939Z"
   },
   {
    "duration": 844,
    "start_time": "2022-07-07T19:04:10.028Z"
   },
   {
    "duration": 24,
    "start_time": "2022-07-07T19:04:10.874Z"
   },
   {
    "duration": 75,
    "start_time": "2022-07-07T19:04:10.900Z"
   },
   {
    "duration": 306,
    "start_time": "2022-07-07T19:04:10.977Z"
   },
   {
    "duration": 123,
    "start_time": "2022-07-07T19:04:11.285Z"
   },
   {
    "duration": 9,
    "start_time": "2022-07-07T19:04:11.411Z"
   },
   {
    "duration": 1591,
    "start_time": "2022-07-07T19:04:11.422Z"
   },
   {
    "duration": 1791,
    "start_time": "2022-07-07T19:04:13.015Z"
   },
   {
    "duration": 14,
    "start_time": "2022-07-07T19:04:14.808Z"
   },
   {
    "duration": 984,
    "start_time": "2022-07-07T19:04:14.824Z"
   },
   {
    "duration": 20,
    "start_time": "2022-07-07T19:04:15.809Z"
   },
   {
    "duration": 180,
    "start_time": "2022-07-07T19:04:15.831Z"
   },
   {
    "duration": 1279,
    "start_time": "2022-07-07T19:04:16.013Z"
   },
   {
    "duration": 3,
    "start_time": "2022-07-07T19:04:17.295Z"
   },
   {
    "duration": 6,
    "start_time": "2022-07-07T19:04:17.300Z"
   },
   {
    "duration": 12,
    "start_time": "2022-07-07T19:04:17.308Z"
   },
   {
    "duration": 251,
    "start_time": "2022-07-07T19:04:17.322Z"
   },
   {
    "duration": 162368,
    "start_time": "2022-07-07T19:04:17.575Z"
   },
   {
    "duration": 212,
    "start_time": "2022-07-07T19:06:59.945Z"
   },
   {
    "duration": 1520,
    "start_time": "2022-07-07T19:13:13.750Z"
   },
   {
    "duration": 852,
    "start_time": "2022-07-07T19:13:15.273Z"
   },
   {
    "duration": 686,
    "start_time": "2022-07-07T19:13:16.127Z"
   },
   {
    "duration": 6,
    "start_time": "2022-07-07T19:13:16.815Z"
   },
   {
    "duration": 1055,
    "start_time": "2022-07-07T19:13:16.822Z"
   },
   {
    "duration": 766,
    "start_time": "2022-07-07T19:13:17.878Z"
   },
   {
    "duration": 24,
    "start_time": "2022-07-07T19:13:18.645Z"
   },
   {
    "duration": 70,
    "start_time": "2022-07-07T19:13:18.670Z"
   },
   {
    "duration": 347,
    "start_time": "2022-07-07T19:13:18.742Z"
   },
   {
    "duration": 137,
    "start_time": "2022-07-07T19:13:19.092Z"
   },
   {
    "duration": 8,
    "start_time": "2022-07-07T19:13:19.231Z"
   },
   {
    "duration": 1531,
    "start_time": "2022-07-07T19:13:19.243Z"
   },
   {
    "duration": 1887,
    "start_time": "2022-07-07T19:13:20.776Z"
   },
   {
    "duration": 15,
    "start_time": "2022-07-07T19:13:22.665Z"
   },
   {
    "duration": 973,
    "start_time": "2022-07-07T19:13:22.682Z"
   },
   {
    "duration": 12,
    "start_time": "2022-07-07T19:13:23.657Z"
   },
   {
    "duration": 184,
    "start_time": "2022-07-07T19:13:23.671Z"
   },
   {
    "duration": 1268,
    "start_time": "2022-07-07T19:13:23.856Z"
   },
   {
    "duration": 3,
    "start_time": "2022-07-07T19:13:25.127Z"
   },
   {
    "duration": 8,
    "start_time": "2022-07-07T19:13:25.133Z"
   },
   {
    "duration": 9,
    "start_time": "2022-07-07T19:13:25.143Z"
   },
   {
    "duration": 313,
    "start_time": "2022-07-07T19:13:25.154Z"
   },
   {
    "duration": 169187,
    "start_time": "2022-07-07T19:13:25.469Z"
   },
   {
    "duration": 224,
    "start_time": "2022-07-07T19:16:14.661Z"
   },
   {
    "duration": 2506893,
    "start_time": "2022-07-07T19:16:14.887Z"
   },
   {
    "duration": 150,
    "start_time": "2022-07-07T19:58:01.782Z"
   },
   {
    "duration": 9,
    "start_time": "2022-07-07T19:58:01.934Z"
   },
   {
    "duration": 26,
    "start_time": "2022-07-07T19:58:01.946Z"
   },
   {
    "duration": 0,
    "start_time": "2022-07-07T19:58:01.975Z"
   },
   {
    "duration": 0,
    "start_time": "2022-07-07T19:58:01.976Z"
   },
   {
    "duration": 0,
    "start_time": "2022-07-07T19:58:01.978Z"
   },
   {
    "duration": 0,
    "start_time": "2022-07-07T19:58:01.984Z"
   },
   {
    "duration": 0,
    "start_time": "2022-07-07T19:58:01.985Z"
   },
   {
    "duration": 806624,
    "start_time": "2022-07-07T19:58:16.677Z"
   },
   {
    "duration": 280,
    "start_time": "2022-07-07T21:15:24.136Z"
   },
   {
    "duration": 9459,
    "start_time": "2022-07-07T21:17:01.043Z"
   },
   {
    "duration": 375,
    "start_time": "2022-07-07T21:18:24.995Z"
   },
   {
    "duration": 329965,
    "start_time": "2022-07-07T21:19:13.104Z"
   },
   {
    "duration": 7,
    "start_time": "2022-07-07T21:26:00.188Z"
   },
   {
    "duration": 248,
    "start_time": "2022-07-07T21:26:02.833Z"
   },
   {
    "duration": 250,
    "start_time": "2022-07-07T21:26:17.080Z"
   },
   {
    "duration": 219,
    "start_time": "2022-07-07T21:26:34.155Z"
   },
   {
    "duration": 113,
    "start_time": "2022-07-07T21:27:55.304Z"
   },
   {
    "duration": 66605,
    "start_time": "2022-07-07T21:28:00.314Z"
   },
   {
    "duration": 68634,
    "start_time": "2022-07-07T21:30:28.711Z"
   },
   {
    "duration": 347,
    "start_time": "2022-07-07T21:31:41.158Z"
   },
   {
    "duration": 255,
    "start_time": "2022-07-07T21:31:46.021Z"
   },
   {
    "duration": 1559,
    "start_time": "2022-07-07T21:36:00.600Z"
   },
   {
    "duration": 1473,
    "start_time": "2022-07-07T21:36:02.168Z"
   },
   {
    "duration": 608,
    "start_time": "2022-07-07T21:36:03.642Z"
   },
   {
    "duration": 10,
    "start_time": "2022-07-07T21:36:04.256Z"
   },
   {
    "duration": 1228,
    "start_time": "2022-07-07T21:36:04.268Z"
   },
   {
    "duration": 858,
    "start_time": "2022-07-07T21:36:05.497Z"
   },
   {
    "duration": 33,
    "start_time": "2022-07-07T21:36:06.358Z"
   },
   {
    "duration": 111,
    "start_time": "2022-07-07T21:36:06.394Z"
   },
   {
    "duration": 373,
    "start_time": "2022-07-07T21:36:06.507Z"
   },
   {
    "duration": 142,
    "start_time": "2022-07-07T21:36:06.883Z"
   },
   {
    "duration": 10,
    "start_time": "2022-07-07T21:36:07.028Z"
   },
   {
    "duration": 1709,
    "start_time": "2022-07-07T21:36:07.040Z"
   },
   {
    "duration": 2015,
    "start_time": "2022-07-07T21:36:08.751Z"
   },
   {
    "duration": 26,
    "start_time": "2022-07-07T21:36:10.767Z"
   },
   {
    "duration": 1261,
    "start_time": "2022-07-07T21:36:10.796Z"
   },
   {
    "duration": 22,
    "start_time": "2022-07-07T21:36:12.058Z"
   },
   {
    "duration": 198,
    "start_time": "2022-07-07T21:36:12.082Z"
   },
   {
    "duration": 1242,
    "start_time": "2022-07-07T21:36:12.282Z"
   },
   {
    "duration": 3,
    "start_time": "2022-07-07T21:36:13.526Z"
   },
   {
    "duration": 7,
    "start_time": "2022-07-07T21:36:13.530Z"
   },
   {
    "duration": 7,
    "start_time": "2022-07-07T21:36:13.538Z"
   },
   {
    "duration": 234,
    "start_time": "2022-07-07T21:36:13.547Z"
   },
   {
    "duration": 413,
    "start_time": "2022-07-07T21:36:13.789Z"
   },
   {
    "duration": 8753,
    "start_time": "2022-07-07T21:36:14.204Z"
   },
   {
    "duration": 1396,
    "start_time": "2022-07-07T21:39:39.338Z"
   },
   {
    "duration": 894,
    "start_time": "2022-07-07T21:39:40.736Z"
   },
   {
    "duration": 609,
    "start_time": "2022-07-07T21:39:41.632Z"
   },
   {
    "duration": 4,
    "start_time": "2022-07-07T21:39:42.243Z"
   },
   {
    "duration": 1222,
    "start_time": "2022-07-07T21:39:42.249Z"
   },
   {
    "duration": 769,
    "start_time": "2022-07-07T21:39:43.473Z"
   },
   {
    "duration": 24,
    "start_time": "2022-07-07T21:39:44.244Z"
   },
   {
    "duration": 78,
    "start_time": "2022-07-07T21:39:44.269Z"
   },
   {
    "duration": 334,
    "start_time": "2022-07-07T21:39:44.349Z"
   },
   {
    "duration": 129,
    "start_time": "2022-07-07T21:39:44.688Z"
   },
   {
    "duration": 8,
    "start_time": "2022-07-07T21:39:44.818Z"
   },
   {
    "duration": 1746,
    "start_time": "2022-07-07T21:39:44.828Z"
   },
   {
    "duration": 1894,
    "start_time": "2022-07-07T21:39:46.576Z"
   },
   {
    "duration": 17,
    "start_time": "2022-07-07T21:39:48.472Z"
   },
   {
    "duration": 1045,
    "start_time": "2022-07-07T21:39:48.491Z"
   },
   {
    "duration": 11,
    "start_time": "2022-07-07T21:39:49.538Z"
   },
   {
    "duration": 190,
    "start_time": "2022-07-07T21:39:49.551Z"
   },
   {
    "duration": 1205,
    "start_time": "2022-07-07T21:39:49.743Z"
   },
   {
    "duration": 3,
    "start_time": "2022-07-07T21:39:50.950Z"
   },
   {
    "duration": 22,
    "start_time": "2022-07-07T21:39:50.955Z"
   },
   {
    "duration": 11,
    "start_time": "2022-07-07T21:39:50.982Z"
   },
   {
    "duration": 272,
    "start_time": "2022-07-07T21:39:50.996Z"
   },
   {
    "duration": 344,
    "start_time": "2022-07-07T21:39:51.270Z"
   },
   {
    "duration": 8677,
    "start_time": "2022-07-07T21:39:51.616Z"
   },
   {
    "duration": 393801,
    "start_time": "2022-07-07T21:40:00.295Z"
   },
   {
    "duration": 140,
    "start_time": "2022-07-07T21:46:34.098Z"
   },
   {
    "duration": 59409,
    "start_time": "2022-07-07T21:46:34.240Z"
   },
   {
    "duration": 5,
    "start_time": "2022-07-07T21:47:33.652Z"
   },
   {
    "duration": 288,
    "start_time": "2022-07-07T21:47:33.669Z"
   },
   {
    "duration": 231,
    "start_time": "2022-07-07T21:47:33.959Z"
   }
  ],
  "kernelspec": {
   "display_name": "Python 3 (ipykernel)",
   "language": "python",
   "name": "python3"
  },
  "language_info": {
   "codemirror_mode": {
    "name": "ipython",
    "version": 3
   },
   "file_extension": ".py",
   "mimetype": "text/x-python",
   "name": "python",
   "nbconvert_exporter": "python",
   "pygments_lexer": "ipython3",
   "version": "3.9.5"
  },
  "toc": {
   "base_numbering": 1,
   "nav_menu": {},
   "number_sections": true,
   "sideBar": true,
   "skip_h1_title": true,
   "title_cell": "Table of Contents",
   "title_sidebar": "Contents",
   "toc_cell": false,
   "toc_position": {},
   "toc_section_display": true,
   "toc_window_display": false
  },
  "vscode": {
   "interpreter": {
    "hash": "a9872e31791ab73c8f16de93a6d5e76afc896f0caafe4a21f77a6173ca95125a"
   }
  }
 },
 "nbformat": 4,
 "nbformat_minor": 2
}
