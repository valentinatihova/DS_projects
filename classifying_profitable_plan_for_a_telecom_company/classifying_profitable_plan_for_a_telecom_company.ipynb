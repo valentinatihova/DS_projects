{
 "cells": [
  {
   "cell_type": "markdown",
   "metadata": {},
   "source": [
    "# Рекомендация тарифов"
   ]
  },
  {
   "cell_type": "markdown",
   "metadata": {},
   "source": [
    "В нашем распоряжении данные о поведении клиентов, которые уже перешли на эти тарифы (из проекта курса «Статистический анализ данных»). Нужно построить модель для задачи классификации, которая выберет подходящий тариф. Предобработка данных не понадобится — мы её уже сделали.\n",
    "\n",
    "Посмотроим модель с максимально большим значением `accuracy` и доведем долю правильных ответов по крайней мере до 0.75, а также проверим `accuracy` на тестовой выборке.\n",
    "\n",
    "# Содержание проекта\n",
    "\n",
    "- [Импорт файла с выборкой и его изучение](#Импорт_файла_с_выборкой_и_его_изучение)\n",
    "- [Создание выборки](#Создание_выборки)\n",
    "- [Исследование моделей](#Исследование_моделей)\n",
    "- [Проверка модели на тестовой выборке](#Проверка_модели_на_тестовой_выборке)"
   ]
  },
  {
   "cell_type": "markdown",
   "metadata": {},
   "source": [
    "## Импорт файла с выборкой и его изучение <a name=\"Импорт_файла_с_выборкой_и_его_изучение\"></a>"
   ]
  },
  {
   "cell_type": "markdown",
   "metadata": {},
   "source": [
    "Загрузим файл в датафрейм, посмотрим его размерность и выведем несколько строк для наглядности данных."
   ]
  },
  {
   "cell_type": "code",
   "execution_count": 1,
   "metadata": {},
   "outputs": [
    {
     "data": {
      "text/plain": [
       "(3214, 5)"
      ]
     },
     "metadata": {},
     "output_type": "display_data"
    },
    {
     "data": {
      "text/html": [
       "<div>\n",
       "<style scoped>\n",
       "    .dataframe tbody tr th:only-of-type {\n",
       "        vertical-align: middle;\n",
       "    }\n",
       "\n",
       "    .dataframe tbody tr th {\n",
       "        vertical-align: top;\n",
       "    }\n",
       "\n",
       "    .dataframe thead th {\n",
       "        text-align: right;\n",
       "    }\n",
       "</style>\n",
       "<table border=\"1\" class=\"dataframe\">\n",
       "  <thead>\n",
       "    <tr style=\"text-align: right;\">\n",
       "      <th></th>\n",
       "      <th>calls</th>\n",
       "      <th>minutes</th>\n",
       "      <th>messages</th>\n",
       "      <th>mb_used</th>\n",
       "      <th>is_ultra</th>\n",
       "    </tr>\n",
       "  </thead>\n",
       "  <tbody>\n",
       "    <tr>\n",
       "      <td>2715</td>\n",
       "      <td>82.0</td>\n",
       "      <td>595.63</td>\n",
       "      <td>42.0</td>\n",
       "      <td>11437.75</td>\n",
       "      <td>0</td>\n",
       "    </tr>\n",
       "    <tr>\n",
       "      <td>2411</td>\n",
       "      <td>73.0</td>\n",
       "      <td>453.90</td>\n",
       "      <td>57.0</td>\n",
       "      <td>4719.69</td>\n",
       "      <td>1</td>\n",
       "    </tr>\n",
       "    <tr>\n",
       "      <td>144</td>\n",
       "      <td>53.0</td>\n",
       "      <td>340.04</td>\n",
       "      <td>38.0</td>\n",
       "      <td>15779.55</td>\n",
       "      <td>0</td>\n",
       "    </tr>\n",
       "    <tr>\n",
       "      <td>419</td>\n",
       "      <td>91.0</td>\n",
       "      <td>686.38</td>\n",
       "      <td>62.0</td>\n",
       "      <td>20499.92</td>\n",
       "      <td>0</td>\n",
       "    </tr>\n",
       "    <tr>\n",
       "      <td>3010</td>\n",
       "      <td>66.0</td>\n",
       "      <td>522.07</td>\n",
       "      <td>13.0</td>\n",
       "      <td>21978.09</td>\n",
       "      <td>0</td>\n",
       "    </tr>\n",
       "  </tbody>\n",
       "</table>\n",
       "</div>"
      ],
      "text/plain": [
       "      calls  minutes  messages   mb_used  is_ultra\n",
       "2715   82.0   595.63      42.0  11437.75         0\n",
       "2411   73.0   453.90      57.0   4719.69         1\n",
       "144    53.0   340.04      38.0  15779.55         0\n",
       "419    91.0   686.38      62.0  20499.92         0\n",
       "3010   66.0   522.07      13.0  21978.09         0"
      ]
     },
     "metadata": {},
     "output_type": "display_data"
    }
   ],
   "source": [
    "import pandas as pd\n",
    "from sklearn.tree import DecisionTreeClassifier\n",
    "from sklearn.ensemble import RandomForestClassifier\n",
    "from sklearn.linear_model import LogisticRegression\n",
    "from sklearn.model_selection import train_test_split\n",
    "from sklearn.metrics import mean_squared_error\n",
    "import matplotlib.pyplot as plt\n",
    "from IPython.display import display\n",
    "import seaborn as sns\n",
    "import numpy as np\n",
    "from sklearn.metrics import accuracy_score\n",
    "import warnings\n",
    "warnings.simplefilter(action='ignore', category=FutureWarning)\n",
    "\n",
    "df = pd.read_csv('/datasets/users_behavior.csv')\n",
    "\n",
    "display(df.shape)\n",
    "display(df.sample(5))"
   ]
  },
  {
   "cell_type": "markdown",
   "metadata": {},
   "source": [
    "В нашем распоряжении порядка 3k записей, каждый объект в наборе данных — информация о поведении одного пользователя за месяц. \n",
    "Известно:\n",
    "- `сalls` — количество звонков,\n",
    "- `minutes` — суммарная длительность звонков в минутах,\n",
    "- `messages` — количество sms-сообщений,\n",
    "- `mb_used` — израсходованный интернет-трафик в Мб,\n",
    "- `is_ultra` — каким тарифом пользовался в течение месяца («Ультра» — 1, «Смарт» — 0).\n",
    "\n",
    "Посмотрим, как распределены клиенты по параметрам тарифов. Для этого выведим информацию на гистограмму и тепловую карту с помощью функции `corr()`. "
   ]
  },
  {
   "cell_type": "code",
   "execution_count": 2,
   "metadata": {},
   "outputs": [
    {
     "data": {
      "image/png": "[encoded data removed]",
      "text/plain": [
       "<Figure size 720x216 with 4 Axes>"
      ]
     },
     "metadata": {
      "needs_background": "light"
     },
     "output_type": "display_data"
    },
    {
     "data": {
      "image/png": "[encoded data removed]",
      "text/plain": [
       "<Figure size 432x216 with 2 Axes>"
      ]
     },
     "metadata": {
      "needs_background": "light"
     },
     "output_type": "display_data"
    }
   ],
   "source": [
    "def corr():\n",
    "    list = ['calls', 'minutes', 'messages', 'mb_used']\n",
    "    fig, axs = plt.subplots(1, len(list), figsize=(10, 3), sharey=True)\n",
    "    fig.suptitle('Распределение количества пользователей по параметрам тарифов', fontsize=16)\n",
    "    for i in list:\n",
    "        axs[list.index(i)].hist(df[i], bins = 30, alpha = 0.5)\n",
    "        axs[list.index(i)].set_ylabel('count_user', fontsize=16)\n",
    "        axs[list.index(i)].set_xlabel(i, fontsize=16)\n",
    "\n",
    "    fig, ax = plt.subplots(figsize=(6,3))\n",
    "    sns.heatmap(df.corr(), annot=True)\n",
    "    plt.show()    \n",
    "\n",
    "corr()"
   ]
  },
  {
   "cell_type": "markdown",
   "metadata": {},
   "source": [
    "Как же распределены данные? Видно, что у некоторых пользователей количество минут разговара превышает 1000 минут (более 16 часов) в месяц. Количество звонков превышает более 120 в месяц - это, на мой взгляд, аномалия. Так же есть выброс у пользователей в диапазоне от 0 до 7 сообщений, а некоторые наоборот - отправляют более 150 смс в месяц. При этом трафик более 40 gb выглядит подозрительно. Перед дальнейшим проведением работ избавимся от выбросов. \n",
    "\n",
    "Кроме того видно, что длительность звонков (`minutes`) и количествоо звонков (`calls`) сильно коррелируют. Эти признаки равнозначны и показывают одни и те же зависимости. Поэтому для упрощения работы модели можно с чистой совестью избавиться от одного из них (например, от `minutes` - его дольше печатать)"
   ]
  },
  {
   "cell_type": "code",
   "execution_count": 3,
   "metadata": {
    "scrolled": true
   },
   "outputs": [
    {
     "data": {
      "text/html": [
       "<div>\n",
       "<style scoped>\n",
       "    .dataframe tbody tr th:only-of-type {\n",
       "        vertical-align: middle;\n",
       "    }\n",
       "\n",
       "    .dataframe tbody tr th {\n",
       "        vertical-align: top;\n",
       "    }\n",
       "\n",
       "    .dataframe thead th {\n",
       "        text-align: right;\n",
       "    }\n",
       "</style>\n",
       "<table border=\"1\" class=\"dataframe\">\n",
       "  <thead>\n",
       "    <tr style=\"text-align: right;\">\n",
       "      <th></th>\n",
       "      <th>calls</th>\n",
       "      <th>messages</th>\n",
       "      <th>mb_used</th>\n",
       "      <th>is_ultra</th>\n",
       "    </tr>\n",
       "  </thead>\n",
       "  <tbody>\n",
       "    <tr>\n",
       "      <td>1709</td>\n",
       "      <td>41.0</td>\n",
       "      <td>24.0</td>\n",
       "      <td>15252.74</td>\n",
       "      <td>0</td>\n",
       "    </tr>\n",
       "    <tr>\n",
       "      <td>743</td>\n",
       "      <td>88.0</td>\n",
       "      <td>80.0</td>\n",
       "      <td>8983.42</td>\n",
       "      <td>0</td>\n",
       "    </tr>\n",
       "    <tr>\n",
       "      <td>1444</td>\n",
       "      <td>88.0</td>\n",
       "      <td>19.0</td>\n",
       "      <td>20677.89</td>\n",
       "      <td>0</td>\n",
       "    </tr>\n",
       "  </tbody>\n",
       "</table>\n",
       "</div>"
      ],
      "text/plain": [
       "      calls  messages   mb_used  is_ultra\n",
       "1709   41.0      24.0  15252.74         0\n",
       "743    88.0      80.0   8983.42         0\n",
       "1444   88.0      19.0  20677.89         0"
      ]
     },
     "metadata": {},
     "output_type": "display_data"
    }
   ],
   "source": [
    "df = df.query('minutes <= 1000 and calls <= 120 and 7 <= messages <= 150 and mb_used <= 40000').drop(['minutes'], axis = 1)\n",
    "\n",
    "display(df.sample(3))"
   ]
  },
  {
   "cell_type": "markdown",
   "metadata": {},
   "source": [
    "## Создание выборки<a name=\"Создание_выборки\"></a>"
   ]
  },
  {
   "cell_type": "markdown",
   "metadata": {},
   "source": [
    "Данные нужно разбить на три части: `обучающую` (60%), `валидационную` (20%) и `тестовую` (20%). В каждой выборке выделим переменные для признаков (`features`) и целевого признака - тарифа (`target`)."
   ]
  },
  {
   "cell_type": "code",
   "execution_count": 4,
   "metadata": {
    "scrolled": true
   },
   "outputs": [
    {
     "data": {
      "text/plain": [
       "'size = 1400, perc = 59.98'"
      ]
     },
     "metadata": {},
     "output_type": "display_data"
    },
    {
     "data": {
      "text/plain": [
       "'size = 467, perc = 20.01'"
      ]
     },
     "metadata": {},
     "output_type": "display_data"
    },
    {
     "data": {
      "text/plain": [
       "'size = 467, perc = 20.01'"
      ]
     },
     "metadata": {},
     "output_type": "display_data"
    }
   ],
   "source": [
    "df_train, df_valid_test = train_test_split(df, test_size=0.4, random_state=12345)\n",
    "df_valid, df_test = train_test_split(df_valid_test, test_size=0.5, random_state=12345)\n",
    "\n",
    "\n",
    "feature_train = df_train.drop(columns = ['is_ultra'], axis = 1)\n",
    "target_train = df_train.is_ultra\n",
    "\n",
    "feature_valid = df_valid.drop(columns = ['is_ultra'], axis = 1)\n",
    "target_valid = df_valid.is_ultra\n",
    "\n",
    "feature_test = df_test.drop(columns = ['is_ultra'], axis = 1)\n",
    "target_test = df_test.is_ultra\n",
    "\n",
    "\n",
    "for i in (df_train, df_valid, df_test):\n",
    "    display('size = %s, perc = %s' % (i.shape[0], round(i.shape[0] / df.shape[0] *100, 2)))"
   ]
  },
  {
   "cell_type": "markdown",
   "metadata": {},
   "source": [
    "## Исследуйте модели\n",
    "\n",
    "Применим несколько моделей обучения: дерево решений, случайный лес и линейную регрессию."
   ]
  },
  {
   "cell_type": "markdown",
   "metadata": {},
   "source": [
    "###  Дерево решений <a name=\"Дерево_решений\"></a>\n",
    "\n",
    "Используем структуру дерево решений. Создадим объект структуры данных (model), обучим ее методом `fit()`, предсткажем тариф, который будет выбран клиентами.\n",
    "Чтобы получить максимальное качество модели, посмотрим разную глубину `depth` дерева. Настраивать разные варианты глубины дерева будем на тренировочном наборе."
   ]
  },
  {
   "cell_type": "code",
   "execution_count": 5,
   "metadata": {},
   "outputs": [
    {
     "data": {
      "text/plain": [
       "'accuracy наилучшей модели на валидационной выборке: 0.8244111349036403, глубина дерева: 5'"
      ]
     },
     "metadata": {},
     "output_type": "display_data"
    }
   ],
   "source": [
    "best_model = None\n",
    "best_result = 0\n",
    "best_depth = 0\n",
    "for depth in range(1, 10):\n",
    "    model = DecisionTreeClassifier(random_state=12345, max_depth=depth) # инициализируем модель \n",
    "    model.fit(feature_train, target_train) # обучаем модель на тренировочной выборке\n",
    "    predictions_valid = model.predict(feature_valid)  # получаем предсказания модели на валидационной выборке\n",
    "    result = accuracy_score(predictions_valid, target_valid)  # смотрим долю правильных ответов\n",
    "    if result > best_result:\n",
    "        best_model = model\n",
    "        best_result = result\n",
    "        best_depth = depth\n",
    "display(\"accuracy наилучшей модели на валидационной выборке: %s, глубина дерева: %s\" % \n",
    "                (best_result, best_depth))        "
   ]
  },
  {
   "cell_type": "markdown",
   "metadata": {},
   "source": [
    "### Случайный лес <a name=\"Случайный_лес\"></a>\n",
    "Обучим модель случайного леса с количеством деревьев от 10 до 50 с шагом 10 и с максимальной глубиной от 1 до 10. Для каждой модели посчитаем RSME и посмотрим на лучший результат."
   ]
  },
  {
   "cell_type": "code",
   "execution_count": 6,
   "metadata": {},
   "outputs": [
    {
     "data": {
      "text/plain": [
       "'accuracy наилучшей модели на валидационной выборке: 0.8436830835117773, количество деревьев: 20, максимальная глубина: 10'"
      ]
     },
     "metadata": {},
     "output_type": "display_data"
    }
   ],
   "source": [
    "best_model = None\n",
    "best_result = 0\n",
    "best_est = 0\n",
    "best_depth = 0\n",
    "for est in range(10, 51, 10):\n",
    "    for depth in range (1, 11):\n",
    "        model = RandomForestClassifier(random_state = 12345, n_estimators = est, max_depth = depth) \n",
    "        model.fit(feature_train, target_train) \n",
    "        predictions_valid = model.predict(feature_valid) \n",
    "        result = accuracy_score(predictions_valid, target_valid)\n",
    "        if result > best_result:\n",
    "            best_model = model\n",
    "            best_result = result\n",
    "            best_est = est\n",
    "            best_depth = depth\n",
    "display(\"accuracy наилучшей модели на валидационной выборке: %s, количество деревьев: %s, максимальная глубина: %s\" % \n",
    "                (best_result, best_est, depth))  "
   ]
  },
  {
   "cell_type": "markdown",
   "metadata": {},
   "source": [
    "###  Логистическая регрессия <a name=\"Логистическая_регрессия\"></a>\n",
    "\n",
    "Обучим модель логистической регрессии."
   ]
  },
  {
   "cell_type": "code",
   "execution_count": 7,
   "metadata": {},
   "outputs": [
    {
     "data": {
      "text/plain": [
       "'accuracy модели линейной регрессии на валидационной выборке: 0.7794432548179872'"
      ]
     },
     "metadata": {},
     "output_type": "display_data"
    }
   ],
   "source": [
    "model = LogisticRegression(random_state = 12345) \n",
    "model.fit(feature_train, target_train) \n",
    "result = model.score(feature_valid, target_valid)\n",
    "display(\"accuracy модели линейной регрессии на валидационной выборке: %s\" % result)"
   ]
  },
  {
   "cell_type": "markdown",
   "metadata": {},
   "source": [
    "`Итог по моделям следующий:`\n",
    "\n",
    "- **дерево решений**: accuracy наилучшей модели на валидационной выборке: 0.8244111349036403, глубина дерева: 5. \n",
    "Высокая скорость работы, всего за пять проверок модель получила ответ на вопрос, а это очень быстро. Вторая по размеру метрики accuracy\n",
    "\n",
    "- **случайный лес**: accuracy наилучшей модели на валидационной выборке: 0.8436830835117773, количество деревьев: 20, максимальная глубина: 10. \n",
    "Данная модель медленее всех (еще бы - 20 деревьев!), но показывает самое высокое качество -  вместо одного решающего дерева, используется целый ансамбль;\n",
    "\n",
    "- **линейная регрессия**: accuracy модели линейной регрессии на валидационной выборке: 0.7794432548179872. \n",
    "У данной модели самая высокая скорость работы из-за мЕньшего количества параметров (выполнение модели порядка 0.1s), и самое низкое качество модели (доля правильных ответов).\n"
   ]
  },
  {
   "cell_type": "markdown",
   "metadata": {},
   "source": [
    "## Проверьте модель на тестовой выборке"
   ]
  },
  {
   "cell_type": "markdown",
   "metadata": {},
   "source": [
    "Проверим самую лучшую модель по итогам прошлого пункта (`случайный лес`) на тестовой выборке. Соединим перед этим тренировочные и валидационные выборки. Обучаем модель на тренировочной выборке, делаем предсказание на тесте."
   ]
  },
  {
   "cell_type": "code",
   "execution_count": 8,
   "metadata": {
    "scrolled": true
   },
   "outputs": [
    {
     "data": {
      "text/plain": [
       "'accuracy модели случайный лес на обучающей выборке - 0.90037493304767, на тестовой - 0.8222698072805139'"
      ]
     },
     "metadata": {},
     "output_type": "display_data"
    }
   ],
   "source": [
    "feature_train_new = pd.concat([feature_train, feature_valid])\n",
    "target_train_new = pd.concat([target_train, target_valid])\n",
    "\n",
    "model = RandomForestClassifier(random_state = 12345, n_estimators = 20, max_depth = 10) \n",
    "model.fit(feature_train_new, target_train_new) \n",
    "\n",
    "predictions_train = model.predict(feature_train_new) \n",
    "accuracy_train = accuracy_score(target_train_new, predictions_train)\n",
    "\n",
    "predictions_test = model.predict(feature_test) \n",
    "accuracy_test = accuracy_score(target_test, predictions_test)\n",
    "\n",
    "display(\"accuracy модели случайный лес на обучающей выборке - %s, на тестовой - %s\" % (accuracy_train, accuracy_test))"
   ]
  },
  {
   "cell_type": "markdown",
   "metadata": {},
   "source": [
    "Как итог - удалось добиться значения метрики accuracy не меньше 0.75"
   ]
  },
  {
   "cell_type": "markdown",
   "metadata": {},
   "source": [
    "## (бонус) Проверьте модели на адекватность"
   ]
  },
  {
   "cell_type": "markdown",
   "metadata": {},
   "source": [
    "Для проверки модели на ее вменяемость необходимо посмотреть метрику `DummyClassifier` `most_frequent` - всегда предсказывает наиболее часто встречающуюся метку в обучающем наборе."
   ]
  },
  {
   "cell_type": "code",
   "execution_count": 9,
   "metadata": {},
   "outputs": [],
   "source": [
    "from sklearn.dummy import DummyClassifier\n",
    "from sklearn.svm import SVC"
   ]
  },
  {
   "cell_type": "code",
   "execution_count": 10,
   "metadata": {},
   "outputs": [
    {
     "data": {
      "text/plain": [
       "0.7259100642398287"
      ]
     },
     "metadata": {},
     "output_type": "display_data"
    }
   ],
   "source": [
    "clf = DummyClassifier(strategy='most_frequent', random_state=12345) # смотрим самое встречающееся значение\n",
    "clf.fit(feature_train_new, target_train_new)                        # обучаем ее еа еашей тренировочной выборке\n",
    "result = clf.score(feature_test, target_test)                       # смиотрим долю правильных ответов\n",
    "display(result)"
   ]
  },
  {
   "cell_type": "markdown",
   "metadata": {},
   "source": [
    "Качество нашей модели (**0.822**) получилось выше наивной (**0.726**) - считаем это успехом!"
   ]
  }
 ],
 "metadata": {
  "ExecuteTimeLog": [
   {
    "duration": 1575,
    "start_time": "2022-03-13T17:23:47.702Z"
   },
   {
    "duration": 1656,
    "start_time": "2022-03-13T17:25:29.350Z"
   },
   {
    "duration": 21,
    "start_time": "2022-03-13T17:25:55.707Z"
   },
   {
    "duration": 101,
    "start_time": "2022-03-13T17:26:18.879Z"
   },
   {
    "duration": 32,
    "start_time": "2022-03-13T17:26:54.090Z"
   },
   {
    "duration": 4648,
    "start_time": "2022-03-13T17:27:40.679Z"
   },
   {
    "duration": 5904,
    "start_time": "2022-03-13T17:27:56.227Z"
   },
   {
    "duration": 12,
    "start_time": "2022-03-13T17:28:17.220Z"
   },
   {
    "duration": 504,
    "start_time": "2022-03-13T17:41:25.049Z"
   },
   {
    "duration": 296,
    "start_time": "2022-03-13T17:50:16.297Z"
   },
   {
    "duration": 350,
    "start_time": "2022-03-13T17:50:35.100Z"
   },
   {
    "duration": 1545,
    "start_time": "2022-03-13T17:51:41.700Z"
   },
   {
    "duration": 1573,
    "start_time": "2022-03-13T17:51:43.248Z"
   },
   {
    "duration": 23,
    "start_time": "2022-03-13T17:51:44.825Z"
   },
   {
    "duration": 123,
    "start_time": "2022-03-13T17:51:44.851Z"
   },
   {
    "duration": 37,
    "start_time": "2022-03-13T17:51:44.977Z"
   },
   {
    "duration": 440,
    "start_time": "2022-03-13T17:51:45.017Z"
   },
   {
    "duration": -94,
    "start_time": "2022-03-13T17:51:45.553Z"
   },
   {
    "duration": 41,
    "start_time": "2022-03-13T17:52:38.444Z"
   },
   {
    "duration": 35,
    "start_time": "2022-03-13T17:54:25.871Z"
   },
   {
    "duration": 52,
    "start_time": "2022-03-13T17:56:17.362Z"
   },
   {
    "duration": 3925,
    "start_time": "2022-03-13T17:56:50.640Z"
   },
   {
    "duration": 4075,
    "start_time": "2022-03-13T17:57:07.278Z"
   },
   {
    "duration": 290,
    "start_time": "2022-03-13T17:58:42.909Z"
   },
   {
    "duration": 297,
    "start_time": "2022-03-13T17:58:57.861Z"
   },
   {
    "duration": 297,
    "start_time": "2022-03-13T17:59:54.566Z"
   },
   {
    "duration": 1647,
    "start_time": "2022-03-13T18:00:21.016Z"
   },
   {
    "duration": 1608,
    "start_time": "2022-03-13T18:00:22.665Z"
   },
   {
    "duration": 23,
    "start_time": "2022-03-13T18:00:24.276Z"
   },
   {
    "duration": 127,
    "start_time": "2022-03-13T18:00:24.303Z"
   },
   {
    "duration": 80,
    "start_time": "2022-03-13T18:00:24.433Z"
   },
   {
    "duration": 3845,
    "start_time": "2022-03-13T18:00:24.516Z"
   },
   {
    "duration": 541,
    "start_time": "2022-03-13T18:00:28.363Z"
   },
   {
    "duration": 331,
    "start_time": "2022-03-13T18:00:53.714Z"
   },
   {
    "duration": 15,
    "start_time": "2022-03-13T18:01:45.191Z"
   },
   {
    "duration": 1765,
    "start_time": "2022-03-13T18:06:13.712Z"
   },
   {
    "duration": 1580,
    "start_time": "2022-03-13T18:06:15.479Z"
   },
   {
    "duration": 27,
    "start_time": "2022-03-13T18:06:17.064Z"
   },
   {
    "duration": 123,
    "start_time": "2022-03-13T18:06:17.094Z"
   },
   {
    "duration": 73,
    "start_time": "2022-03-13T18:06:17.220Z"
   },
   {
    "duration": 3800,
    "start_time": "2022-03-13T18:06:17.296Z"
   },
   {
    "duration": 14,
    "start_time": "2022-03-13T18:06:21.098Z"
   },
   {
    "duration": 524,
    "start_time": "2022-03-13T18:12:14.052Z"
   },
   {
    "duration": 67,
    "start_time": "2022-03-13T18:12:33.892Z"
   },
   {
    "duration": 84,
    "start_time": "2022-03-13T18:13:08.926Z"
   },
   {
    "duration": 90,
    "start_time": "2022-03-13T18:18:30.950Z"
   },
   {
    "duration": 129,
    "start_time": "2022-03-13T18:19:00.986Z"
   },
   {
    "duration": 90,
    "start_time": "2022-03-13T18:19:05.262Z"
   },
   {
    "duration": 91,
    "start_time": "2022-03-13T18:23:45.030Z"
   },
   {
    "duration": 3,
    "start_time": "2022-03-13T18:32:58.644Z"
   },
   {
    "duration": 8,
    "start_time": "2022-03-13T18:40:49.525Z"
   },
   {
    "duration": 1676,
    "start_time": "2022-03-13T18:46:39.359Z"
   },
   {
    "duration": 1591,
    "start_time": "2022-03-13T18:46:41.037Z"
   },
   {
    "duration": 23,
    "start_time": "2022-03-13T18:46:42.631Z"
   },
   {
    "duration": 127,
    "start_time": "2022-03-13T18:46:42.657Z"
   },
   {
    "duration": 55,
    "start_time": "2022-03-13T18:46:42.786Z"
   },
   {
    "duration": 3830,
    "start_time": "2022-03-13T18:46:42.843Z"
   },
   {
    "duration": 15,
    "start_time": "2022-03-13T18:46:46.675Z"
   },
   {
    "duration": 110,
    "start_time": "2022-03-13T18:46:46.693Z"
   },
   {
    "duration": 3,
    "start_time": "2022-03-13T18:46:46.806Z"
   },
   {
    "duration": 13,
    "start_time": "2022-03-13T18:46:46.812Z"
   }
  ],
  "kernelspec": {
   "display_name": "Python 3",
   "language": "python",
   "name": "python3"
  },
  "language_info": {
   "codemirror_mode": {
    "name": "ipython",
    "version": 3
   },
   "file_extension": ".py",
   "mimetype": "text/x-python",
   "name": "python",
   "nbconvert_exporter": "python",
   "pygments_lexer": "ipython3",
   "version": "3.7.8"
  },
  "toc": {
   "base_numbering": 1,
   "nav_menu": {},
   "number_sections": true,
   "sideBar": true,
   "skip_h1_title": true,
   "title_cell": "Table of Contents",
   "title_sidebar": "Contents",
   "toc_cell": false,
   "toc_position": {},
   "toc_section_display": true,
   "toc_window_display": false
  }
 },
 "nbformat": 4,
 "nbformat_minor": 2
}
